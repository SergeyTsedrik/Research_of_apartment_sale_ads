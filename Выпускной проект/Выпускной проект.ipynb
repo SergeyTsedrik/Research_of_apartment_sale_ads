{
 "cells": [
  {
   "cell_type": "markdown",
   "metadata": {},
   "source": [
    "**Презентация:** https://disk.yandex.ru/i/94pZ8w_pJVXTdQ"
   ]
  },
  {
   "cell_type": "markdown",
   "metadata": {},
   "source": [
    "# Выпускной проект: Анализ оттока клиентов банка \"Метанпромбанк\""
   ]
  },
  {
   "cell_type": "markdown",
   "metadata": {},
   "source": [
    "**Описание проекта:** Банк \"Метанпромбанк\" в срочном порядке ищет аналитиков уверенным владением «Python». Вашей главной задачей станет анализ оттока клиентов. Анализ покажет, какие клиенты уходят из банка, а так же поможет нам составить сегменты клиентов, которые склонны уходить из банка."
   ]
  },
  {
   "cell_type": "markdown",
   "metadata": {},
   "source": [
    "**Цель проекта:** Выявить причины оттока клиентов и разработку стратегий для его снижения. Понять, с помощью анализа данных, какие клиенты покидают банк, а также выделить сегменты клиентов, наиболее подверженных риску ухода."
   ]
  },
  {
   "cell_type": "markdown",
   "metadata": {},
   "source": [
    "**Описание данных:**\n",
    "\n",
    "**/datasets/bank_scrooge.csv** - Датасет содержит данные о клиентах банка «Метанпром». \n",
    "Банк располагается в Ярославле и областных городах: Ростов Великий и Рыбинск.\n",
    "\n",
    "\n",
    "\n",
    "Колонки:\n",
    "\n",
    "- **USERID** — идентификатор пользователя\n",
    "- **score** — баллы кредитного скоринга\n",
    "- **city** — город\n",
    "- **gender** — пол\n",
    "- **age** — возраст\n",
    "- **equity** — количество баллов собственности\n",
    "- **balance** — баланс на счете\n",
    "- **products** — количество продуктов которыми пользуется клиент\n",
    "- **credit_card** — есть ли кредитная карта \n",
    "- **last_activity** — активный клиент \n",
    "- **EST_SALARY** — оценочный доход клиента \n",
    "- **сhurn** — признак оттока"
   ]
  },
  {
   "cell_type": "markdown",
   "metadata": {},
   "source": [
    "**План работы:**"
   ]
  },
  {
   "cell_type": "markdown",
   "metadata": {},
   "source": [
    "**[1. Открыть файл с данными и изучить общую информацию](#section1)**\n",
    "\n",
    "Пути к файлу https://code.s3.yandex.net/datasets/bank_scrooge.csv"
   ]
  },
  {
   "cell_type": "markdown",
   "metadata": {},
   "source": [
    "**[2. Подготовка данных](#section2)**\n",
    "- Заменить названия столбцов, приведя их к нижнему регистру.\n",
    "- Обработать пропуски при необходимости:\n",
    "    - Объяснить, почему пропуски были заполнены определённым образом или почему это не было сделано;\n",
    "    - Описать причины, которые могли привести к возникновению пропусков.\n",
    "- Провести кодирование столбца \"gender\" и \"city\" для использования в анализе корреляции.\n",
    "- Выполнить анализ явных дубликатов.\n",
    "- Провести анализ неявных дубликатов по столбцу user_id.\n",
    "- Преобразовать данные в нужные типы. Описать, в каких столбцах заменён тип данных и почему."
   ]
  },
  {
   "cell_type": "markdown",
   "metadata": {},
   "source": [
    "**[3. Исследовательский анализ данных (EDA)](#section3)**\n",
    "\n",
    "- Выяснить, данными скольки пользователей мы располагаем\n",
    "- Сделать срез по клиентам, которые ушли (churn = 1)\n",
    "- Много ли пользователей мы потеряли, отбросив оставшихся клиентов?\n",
    "\n",
    "- Провести анализ распределения признаков в разрезе оттока для непрерывных и категориальных признаков:\n",
    "    - Для непрерывных признаков, таких как баллы кредитного скоринга, возраст, количество баллов собственности, баланс на счете, количество продуктов, которыми пользуется клиент, и оценочный доход клиента, мы можем использовать гистограммы для визуализации распределения и ящики с усами(box-plot), которые помогут выявить выбросы.\n",
    "\n",
    "    - Для категориальных признаков, таких как город, пол, наличие кредитной карты и статус активного клиента, мы можем рассмотреть частоту различных значений и их связь с оттоком. Для этого построим столбчатую диаграмму.\n",
    "\n",
    "- Составление портрета клиента в разрезе оттока: Создание портретов клиентов может включать анализ основных характеристик клиентов - пол, возраст, кредитная карта, баланс и тд.\n",
    "\n",
    "- Корреляционный анализ признака Churn с другими признаками: Для анализа корреляции между признаком оттока и другими переменными можно использовать корреляционную матрицу (в тч интерпретация по Чеддоку)."
   ]
  },
  {
   "cell_type": "markdown",
   "metadata": {},
   "source": [
    "**[4. Проверка статистических гипотез](#section4)**\n",
    "\n",
    "- **Гипотеза 1: Влияние оценочного дохода клиентов на отток клиентов**\n",
    "\n",
    "Гипотезы:\n",
    "- Нулевая гипотеза (H0): Средний уровень дохода клиентов, которые покинули компанию (churn = 1), равен среднему уровню дохода клиентов, которые остались (churn = 0)\n",
    "- Альтернативная гипотеза (H1): Средний уровень дохода клиентов, которые покинули компанию (churn = 1), отличается от  среднего уровня дохода клиентов, которые остались (churn = 0)\n",
    "\n",
    "Выбор теста: Используем t-тест для независимых выборок, так как мы сравниваем средние значения двух независимых групп (клиенты, покинувшие компанию, и клиенты, оставшиеся).\n",
    "\n",
    "- **Гипотеза 2: Влияние возраста на отток клиентов**\n",
    "\n",
    "Гипотезы:\n",
    "- Нулевая гипотеза (H0): Средний возраст клиентов, которые покинули компанию (churn = 1), равен среднему возрасту клиентов, которые остались (churn = 0).\n",
    "- Альтернативная гипотеза (H1): Средний возраст клиентов, которые покинули компанию (churn = 1), отличается от среднего возраста клиентов, которые остались (churn = 0).\n",
    "\n",
    "Выбор теста: Используем t-тест для независимых выборок, так как мы сравниваем средние значения двух независимых групп (клиенты, покинувшие компанию, и клиенты, оставшиеся)."
   ]
  },
  {
   "cell_type": "markdown",
   "metadata": {},
   "source": [
    "**[5. Подведение промежуточных итогов](#section5)** - Выводы по результатам EDA, корреляционного анализа и гипотез, выделение признаков, влияющих на оттток: \n",
    "- Выделить сильные и слабые корреляции между признаками и уровнем оттока. \n",
    "- Определить, какие факторы наиболее существенно влияют на решение клиентов о прекращении использования услуг (5-6 штук). \n",
    "- Сделать выводы по результатам статистического теста. \n",
    "- Определить ключевые признаки, которые имеют значительное влияние на отток клиентов. "
   ]
  },
  {
   "cell_type": "markdown",
   "metadata": {},
   "source": [
    "**[6. Провести сегментацию среди всех клиентов](#section6)**\n",
    "\n",
    "Требования к сегментам:\n",
    "1. В сегментацию должны быть включены отточные и неотточные клиенты.\n",
    "2. Каждый сегмент должен содержать не менее 500 клиентов.\n",
    "3. Выделить как минимум три сегмента.\n",
    "4. В каждом из выбранных сегментов уровень оттока клиентов должен быть выше, чем общий средний уровень оттока по всем клиентам банка."
   ]
  },
  {
   "cell_type": "markdown",
   "metadata": {},
   "source": [
    "**[7. Приоритизация сегментов клиентов](#section7)**\n",
    "\n",
    "- Оценить каждый сегмент по его уровню оттока. Определить, какие сегменты содержат наивысший уровень оттока."
   ]
  },
  {
   "cell_type": "markdown",
   "metadata": {},
   "source": [
    "**[8. Формирование рекомендаций (таргетированных) по работе с сегментами](#section8)**\n",
    "- К каждому сегменту отдельная рекомендация"
   ]
  },
  {
   "cell_type": "code",
   "execution_count": 1,
   "metadata": {},
   "outputs": [
    {
     "name": "stdout",
     "output_type": "stream",
     "text": [
      "Collecting phik\n",
      "  Downloading phik-0.12.4-cp39-cp39-manylinux_2_17_x86_64.manylinux2014_x86_64.whl (686 kB)\n",
      "\u001b[K     |████████████████████████████████| 686 kB 2.1 MB/s eta 0:00:01\n",
      "\u001b[?25hRequirement already satisfied: numpy>=1.18.0 in /opt/conda/lib/python3.9/site-packages (from phik) (1.21.1)\n",
      "Requirement already satisfied: scipy>=1.5.2 in /opt/conda/lib/python3.9/site-packages (from phik) (1.9.1)\n",
      "Requirement already satisfied: pandas>=0.25.1 in /opt/conda/lib/python3.9/site-packages (from phik) (1.2.4)\n",
      "Requirement already satisfied: joblib>=0.14.1 in /opt/conda/lib/python3.9/site-packages (from phik) (1.1.0)\n",
      "Requirement already satisfied: matplotlib>=2.2.3 in /opt/conda/lib/python3.9/site-packages (from phik) (3.3.4)\n",
      "Requirement already satisfied: cycler>=0.10 in /opt/conda/lib/python3.9/site-packages (from matplotlib>=2.2.3->phik) (0.11.0)\n",
      "Requirement already satisfied: pillow>=6.2.0 in /opt/conda/lib/python3.9/site-packages (from matplotlib>=2.2.3->phik) (8.4.0)\n",
      "Requirement already satisfied: kiwisolver>=1.0.1 in /opt/conda/lib/python3.9/site-packages (from matplotlib>=2.2.3->phik) (1.4.4)\n",
      "Requirement already satisfied: python-dateutil>=2.1 in /opt/conda/lib/python3.9/site-packages (from matplotlib>=2.2.3->phik) (2.8.1)\n",
      "Requirement already satisfied: pyparsing!=2.0.4,!=2.1.2,!=2.1.6,>=2.0.3 in /opt/conda/lib/python3.9/site-packages (from matplotlib>=2.2.3->phik) (2.4.7)\n",
      "Requirement already satisfied: pytz>=2017.3 in /opt/conda/lib/python3.9/site-packages (from pandas>=0.25.1->phik) (2021.1)\n",
      "Requirement already satisfied: six>=1.5 in /opt/conda/lib/python3.9/site-packages (from python-dateutil>=2.1->matplotlib>=2.2.3->phik) (1.16.0)\n",
      "Installing collected packages: phik\n",
      "Successfully installed phik-0.12.4\n",
      "Note: you may need to restart the kernel to use updated packages.\n"
     ]
    }
   ],
   "source": [
    "pip install phik"
   ]
  },
  {
   "cell_type": "markdown",
   "metadata": {},
   "source": [
    "Импортируем необходимые библиотеки"
   ]
  },
  {
   "cell_type": "code",
   "execution_count": 2,
   "metadata": {},
   "outputs": [],
   "source": [
    "import pandas as pd\n",
    "import matplotlib.pyplot as plt\n",
    "import seaborn as sns\n",
    "from phik import phik_matrix \n",
    "from scipy import stats as st\n",
    "import numpy as np\n",
    "import math as mth\n",
    "import os\n"
   ]
  },
  {
   "cell_type": "markdown",
   "metadata": {},
   "source": [
    "<a id='section1'></a>\n",
    "## Открыть файл с данными"
   ]
  },
  {
   "cell_type": "code",
   "execution_count": 3,
   "metadata": {},
   "outputs": [
    {
     "name": "stdout",
     "output_type": "stream",
     "text": [
      "Данные успешно загружены\n"
     ]
    }
   ],
   "source": [
    "try:\n",
    "    data = pd.read_csv('https://code.s3.yandex.net/datasets/bank_scrooge.csv')\n",
    "except:\n",
    "    \n",
    "    try:\n",
    "        data = pd.read_csv('/Users/sergey/Downloads/bank_scrooge.csv')\n",
    "    except :\n",
    "        data = None  \n",
    "\n",
    "if data is None:\n",
    "    print('Что-то не так')\n",
    "else:\n",
    "    print('Данные успешно загружены')"
   ]
  },
  {
   "cell_type": "code",
   "execution_count": 4,
   "metadata": {},
   "outputs": [
    {
     "data": {
      "text/html": [
       "<div>\n",
       "<style scoped>\n",
       "    .dataframe tbody tr th:only-of-type {\n",
       "        vertical-align: middle;\n",
       "    }\n",
       "\n",
       "    .dataframe tbody tr th {\n",
       "        vertical-align: top;\n",
       "    }\n",
       "\n",
       "    .dataframe thead th {\n",
       "        text-align: right;\n",
       "    }\n",
       "</style>\n",
       "<table border=\"1\" class=\"dataframe\">\n",
       "  <thead>\n",
       "    <tr style=\"text-align: right;\">\n",
       "      <th></th>\n",
       "      <th>USERID</th>\n",
       "      <th>score</th>\n",
       "      <th>city</th>\n",
       "      <th>gender</th>\n",
       "      <th>age</th>\n",
       "      <th>equity</th>\n",
       "      <th>balance</th>\n",
       "      <th>products</th>\n",
       "      <th>credit_card</th>\n",
       "      <th>last_activity</th>\n",
       "      <th>EST_SALARY</th>\n",
       "      <th>churn</th>\n",
       "    </tr>\n",
       "  </thead>\n",
       "  <tbody>\n",
       "    <tr>\n",
       "      <th>0</th>\n",
       "      <td>183012</td>\n",
       "      <td>850.0</td>\n",
       "      <td>Рыбинск</td>\n",
       "      <td>Ж</td>\n",
       "      <td>25.0</td>\n",
       "      <td>1</td>\n",
       "      <td>59214.82</td>\n",
       "      <td>2</td>\n",
       "      <td>0</td>\n",
       "      <td>1</td>\n",
       "      <td>75719.14</td>\n",
       "      <td>1</td>\n",
       "    </tr>\n",
       "    <tr>\n",
       "      <th>1</th>\n",
       "      <td>146556</td>\n",
       "      <td>861.0</td>\n",
       "      <td>Рыбинск</td>\n",
       "      <td>Ж</td>\n",
       "      <td>37.0</td>\n",
       "      <td>5</td>\n",
       "      <td>850594.33</td>\n",
       "      <td>3</td>\n",
       "      <td>1</td>\n",
       "      <td>0</td>\n",
       "      <td>86621.77</td>\n",
       "      <td>0</td>\n",
       "    </tr>\n",
       "    <tr>\n",
       "      <th>2</th>\n",
       "      <td>120722</td>\n",
       "      <td>892.0</td>\n",
       "      <td>Рыбинск</td>\n",
       "      <td>Ж</td>\n",
       "      <td>30.0</td>\n",
       "      <td>0</td>\n",
       "      <td>NaN</td>\n",
       "      <td>1</td>\n",
       "      <td>1</td>\n",
       "      <td>1</td>\n",
       "      <td>107683.34</td>\n",
       "      <td>0</td>\n",
       "    </tr>\n",
       "    <tr>\n",
       "      <th>3</th>\n",
       "      <td>225363</td>\n",
       "      <td>866.0</td>\n",
       "      <td>Ярославль</td>\n",
       "      <td>Ж</td>\n",
       "      <td>51.0</td>\n",
       "      <td>5</td>\n",
       "      <td>1524746.26</td>\n",
       "      <td>2</td>\n",
       "      <td>0</td>\n",
       "      <td>1</td>\n",
       "      <td>174423.53</td>\n",
       "      <td>1</td>\n",
       "    </tr>\n",
       "    <tr>\n",
       "      <th>4</th>\n",
       "      <td>157978</td>\n",
       "      <td>730.0</td>\n",
       "      <td>Ярославль</td>\n",
       "      <td>М</td>\n",
       "      <td>34.0</td>\n",
       "      <td>5</td>\n",
       "      <td>174.00</td>\n",
       "      <td>1</td>\n",
       "      <td>1</td>\n",
       "      <td>0</td>\n",
       "      <td>67353.16</td>\n",
       "      <td>1</td>\n",
       "    </tr>\n",
       "  </tbody>\n",
       "</table>\n",
       "</div>"
      ],
      "text/plain": [
       "   USERID  score       city gender   age  equity     balance  products  \\\n",
       "0  183012  850.0    Рыбинск      Ж  25.0       1    59214.82         2   \n",
       "1  146556  861.0    Рыбинск      Ж  37.0       5   850594.33         3   \n",
       "2  120722  892.0    Рыбинск      Ж  30.0       0         NaN         1   \n",
       "3  225363  866.0  Ярославль      Ж  51.0       5  1524746.26         2   \n",
       "4  157978  730.0  Ярославль      М  34.0       5      174.00         1   \n",
       "\n",
       "   credit_card  last_activity  EST_SALARY  churn  \n",
       "0            0              1    75719.14      1  \n",
       "1            1              0    86621.77      0  \n",
       "2            1              1   107683.34      0  \n",
       "3            0              1   174423.53      1  \n",
       "4            1              0    67353.16      1  "
      ]
     },
     "execution_count": 4,
     "metadata": {},
     "output_type": "execute_result"
    }
   ],
   "source": [
    "data.head()"
   ]
  },
  {
   "cell_type": "markdown",
   "metadata": {},
   "source": [
    "#### Выводы:\n",
    "\n",
    "Данные открылись корректно. Уже можно видеть пропуски данных в столбце \"balaтce\", и стилистические ошибки в названиях столбцов \"USERID\" и \"EST_SALARY\". "
   ]
  },
  {
   "cell_type": "markdown",
   "metadata": {},
   "source": [
    "<a id='section2'></a>\n",
    "## Предобработка данных"
   ]
  },
  {
   "cell_type": "markdown",
   "metadata": {},
   "source": [
    "### Рассмотрим основные данные по фатафрейму припомощи универсальной функции"
   ]
  },
  {
   "cell_type": "code",
   "execution_count": 5,
   "metadata": {},
   "outputs": [],
   "source": [
    "# универсальная функция для выполнения предобработки данных\n",
    "def data_preprocessing(df):\n",
    "    \n",
    "    \n",
    "    # Посмотрим основные данные о DataFrame\n",
    "    print('Информация о данных (info()):')\n",
    "    print(df.info())\n",
    "    print('*' * 100)\n",
    "    print()\n",
    "    \n",
    "    # найдем количество пропусков в процентном соотношении для каждого столбца\n",
    "    print('Количество пропусков в датафрейме:')\n",
    "    data_pass = pd.DataFrame(data.isna().mean()*100)\n",
    "    data_pass = data_pass.rename(columns={0 : '% пропусков'})\n",
    "    data_pass = data_pass.style.background_gradient('coolwarm').set_precision(1).format('{:.1f}%')\n",
    "    display(data_pass)\n",
    "    print('*' * 100)\n",
    "    print()\n",
    "    \n",
    "    # Оценим статистические данные\n",
    "    print('Статистическая информация о данных (describe()):')\n",
    "    display(df.describe())\n",
    "    print('*' * 100)\n",
    "    print()\n",
    "    \n",
    "    # Посмотрим на типы данных в DataFrame\n",
    "    print('Типы данных (dtypes):')\n",
    "    print(df.dtypes)\n",
    "    print('*' * 100)\n",
    "    print()\n",
    "    \n",
    "    # Посчитаем количество явных дубликатов, удалим их при наличии\n",
    "    print('Кол-во дубликатов = ', df.duplicated().sum())\n",
    "    print('*' * 100)\n",
    "    print()\n",
    "    \n",
    "    # Функция исправления названий строк\n",
    "    df.columns = df.columns.str.lower().str.replace(' ', '_')\n",
    "    print('Названия столбцов приведены к нижнему регистру')\n",
    "    print('*' * 100)\n",
    "    print()\n",
    "    \n",
    "    # Посмотрим на первые строки DataFrame\n",
    "    print('Первые строки данных:')\n",
    "    display(df.head())\n",
    "    print('*' * 100)\n",
    "    print()"
   ]
  },
  {
   "cell_type": "code",
   "execution_count": 6,
   "metadata": {
    "scrolled": false
   },
   "outputs": [
    {
     "name": "stdout",
     "output_type": "stream",
     "text": [
      "Информация о данных (info()):\n",
      "<class 'pandas.core.frame.DataFrame'>\n",
      "RangeIndex: 10000 entries, 0 to 9999\n",
      "Data columns (total 12 columns):\n",
      " #   Column         Non-Null Count  Dtype  \n",
      "---  ------         --------------  -----  \n",
      " 0   USERID         10000 non-null  int64  \n",
      " 1   score          10000 non-null  float64\n",
      " 2   city           10000 non-null  object \n",
      " 3   gender         10000 non-null  object \n",
      " 4   age            9974 non-null   float64\n",
      " 5   equity         10000 non-null  int64  \n",
      " 6   balance        7705 non-null   float64\n",
      " 7   products       10000 non-null  int64  \n",
      " 8   credit_card    10000 non-null  int64  \n",
      " 9   last_activity  10000 non-null  int64  \n",
      " 10  EST_SALARY     10000 non-null  float64\n",
      " 11  churn          10000 non-null  int64  \n",
      "dtypes: float64(4), int64(6), object(2)\n",
      "memory usage: 937.6+ KB\n",
      "None\n",
      "****************************************************************************************************\n",
      "\n",
      "Количество пропусков в датафрейме:\n"
     ]
    },
    {
     "data": {
      "text/html": [
       "<style  type=\"text/css\" >\n",
       "#T_8a0bc_row0_col0,#T_8a0bc_row1_col0,#T_8a0bc_row2_col0,#T_8a0bc_row3_col0,#T_8a0bc_row5_col0,#T_8a0bc_row7_col0,#T_8a0bc_row8_col0,#T_8a0bc_row9_col0,#T_8a0bc_row10_col0,#T_8a0bc_row11_col0{\n",
       "            background-color:  #3b4cc0;\n",
       "            color:  #f1f1f1;\n",
       "        }#T_8a0bc_row4_col0{\n",
       "            background-color:  #3d50c3;\n",
       "            color:  #f1f1f1;\n",
       "        }#T_8a0bc_row6_col0{\n",
       "            background-color:  #b40426;\n",
       "            color:  #f1f1f1;\n",
       "        }</style><table id=\"T_8a0bc_\" ><thead>    <tr>        <th class=\"blank level0\" ></th>        <th class=\"col_heading level0 col0\" >% пропусков</th>    </tr></thead><tbody>\n",
       "                <tr>\n",
       "                        <th id=\"T_8a0bc_level0_row0\" class=\"row_heading level0 row0\" >USERID</th>\n",
       "                        <td id=\"T_8a0bc_row0_col0\" class=\"data row0 col0\" >0.0%</td>\n",
       "            </tr>\n",
       "            <tr>\n",
       "                        <th id=\"T_8a0bc_level0_row1\" class=\"row_heading level0 row1\" >score</th>\n",
       "                        <td id=\"T_8a0bc_row1_col0\" class=\"data row1 col0\" >0.0%</td>\n",
       "            </tr>\n",
       "            <tr>\n",
       "                        <th id=\"T_8a0bc_level0_row2\" class=\"row_heading level0 row2\" >city</th>\n",
       "                        <td id=\"T_8a0bc_row2_col0\" class=\"data row2 col0\" >0.0%</td>\n",
       "            </tr>\n",
       "            <tr>\n",
       "                        <th id=\"T_8a0bc_level0_row3\" class=\"row_heading level0 row3\" >gender</th>\n",
       "                        <td id=\"T_8a0bc_row3_col0\" class=\"data row3 col0\" >0.0%</td>\n",
       "            </tr>\n",
       "            <tr>\n",
       "                        <th id=\"T_8a0bc_level0_row4\" class=\"row_heading level0 row4\" >age</th>\n",
       "                        <td id=\"T_8a0bc_row4_col0\" class=\"data row4 col0\" >0.3%</td>\n",
       "            </tr>\n",
       "            <tr>\n",
       "                        <th id=\"T_8a0bc_level0_row5\" class=\"row_heading level0 row5\" >equity</th>\n",
       "                        <td id=\"T_8a0bc_row5_col0\" class=\"data row5 col0\" >0.0%</td>\n",
       "            </tr>\n",
       "            <tr>\n",
       "                        <th id=\"T_8a0bc_level0_row6\" class=\"row_heading level0 row6\" >balance</th>\n",
       "                        <td id=\"T_8a0bc_row6_col0\" class=\"data row6 col0\" >22.9%</td>\n",
       "            </tr>\n",
       "            <tr>\n",
       "                        <th id=\"T_8a0bc_level0_row7\" class=\"row_heading level0 row7\" >products</th>\n",
       "                        <td id=\"T_8a0bc_row7_col0\" class=\"data row7 col0\" >0.0%</td>\n",
       "            </tr>\n",
       "            <tr>\n",
       "                        <th id=\"T_8a0bc_level0_row8\" class=\"row_heading level0 row8\" >credit_card</th>\n",
       "                        <td id=\"T_8a0bc_row8_col0\" class=\"data row8 col0\" >0.0%</td>\n",
       "            </tr>\n",
       "            <tr>\n",
       "                        <th id=\"T_8a0bc_level0_row9\" class=\"row_heading level0 row9\" >last_activity</th>\n",
       "                        <td id=\"T_8a0bc_row9_col0\" class=\"data row9 col0\" >0.0%</td>\n",
       "            </tr>\n",
       "            <tr>\n",
       "                        <th id=\"T_8a0bc_level0_row10\" class=\"row_heading level0 row10\" >EST_SALARY</th>\n",
       "                        <td id=\"T_8a0bc_row10_col0\" class=\"data row10 col0\" >0.0%</td>\n",
       "            </tr>\n",
       "            <tr>\n",
       "                        <th id=\"T_8a0bc_level0_row11\" class=\"row_heading level0 row11\" >churn</th>\n",
       "                        <td id=\"T_8a0bc_row11_col0\" class=\"data row11 col0\" >0.0%</td>\n",
       "            </tr>\n",
       "    </tbody></table>"
      ],
      "text/plain": [
       "<pandas.io.formats.style.Styler at 0x7f93fcb33be0>"
      ]
     },
     "metadata": {},
     "output_type": "display_data"
    },
    {
     "name": "stdout",
     "output_type": "stream",
     "text": [
      "****************************************************************************************************\n",
      "\n",
      "Статистическая информация о данных (describe()):\n"
     ]
    },
    {
     "data": {
      "text/html": [
       "<div>\n",
       "<style scoped>\n",
       "    .dataframe tbody tr th:only-of-type {\n",
       "        vertical-align: middle;\n",
       "    }\n",
       "\n",
       "    .dataframe tbody tr th {\n",
       "        vertical-align: top;\n",
       "    }\n",
       "\n",
       "    .dataframe thead th {\n",
       "        text-align: right;\n",
       "    }\n",
       "</style>\n",
       "<table border=\"1\" class=\"dataframe\">\n",
       "  <thead>\n",
       "    <tr style=\"text-align: right;\">\n",
       "      <th></th>\n",
       "      <th>USERID</th>\n",
       "      <th>score</th>\n",
       "      <th>age</th>\n",
       "      <th>equity</th>\n",
       "      <th>balance</th>\n",
       "      <th>products</th>\n",
       "      <th>credit_card</th>\n",
       "      <th>last_activity</th>\n",
       "      <th>EST_SALARY</th>\n",
       "      <th>churn</th>\n",
       "    </tr>\n",
       "  </thead>\n",
       "  <tbody>\n",
       "    <tr>\n",
       "      <th>count</th>\n",
       "      <td>10000.00000</td>\n",
       "      <td>10000.000000</td>\n",
       "      <td>9974.000000</td>\n",
       "      <td>10000.000000</td>\n",
       "      <td>7.705000e+03</td>\n",
       "      <td>10000.000000</td>\n",
       "      <td>10000.000000</td>\n",
       "      <td>10000.000000</td>\n",
       "      <td>1.000000e+04</td>\n",
       "      <td>10000.000000</td>\n",
       "    </tr>\n",
       "    <tr>\n",
       "      <th>mean</th>\n",
       "      <td>171814.71260</td>\n",
       "      <td>848.699400</td>\n",
       "      <td>42.734409</td>\n",
       "      <td>2.627600</td>\n",
       "      <td>8.277943e+05</td>\n",
       "      <td>1.870100</td>\n",
       "      <td>0.680400</td>\n",
       "      <td>0.523500</td>\n",
       "      <td>1.478669e+05</td>\n",
       "      <td>0.182000</td>\n",
       "    </tr>\n",
       "    <tr>\n",
       "      <th>std</th>\n",
       "      <td>33708.23812</td>\n",
       "      <td>65.448519</td>\n",
       "      <td>12.179971</td>\n",
       "      <td>1.980836</td>\n",
       "      <td>1.980614e+06</td>\n",
       "      <td>0.792647</td>\n",
       "      <td>0.466345</td>\n",
       "      <td>0.499472</td>\n",
       "      <td>1.393885e+05</td>\n",
       "      <td>0.385864</td>\n",
       "    </tr>\n",
       "    <tr>\n",
       "      <th>min</th>\n",
       "      <td>94561.00000</td>\n",
       "      <td>642.000000</td>\n",
       "      <td>18.000000</td>\n",
       "      <td>0.000000</td>\n",
       "      <td>0.000000e+00</td>\n",
       "      <td>0.000000</td>\n",
       "      <td>0.000000</td>\n",
       "      <td>0.000000</td>\n",
       "      <td>2.546300e+03</td>\n",
       "      <td>0.000000</td>\n",
       "    </tr>\n",
       "    <tr>\n",
       "      <th>25%</th>\n",
       "      <td>142810.25000</td>\n",
       "      <td>802.000000</td>\n",
       "      <td>33.000000</td>\n",
       "      <td>0.000000</td>\n",
       "      <td>2.955542e+05</td>\n",
       "      <td>1.000000</td>\n",
       "      <td>0.000000</td>\n",
       "      <td>0.000000</td>\n",
       "      <td>7.525190e+04</td>\n",
       "      <td>0.000000</td>\n",
       "    </tr>\n",
       "    <tr>\n",
       "      <th>50%</th>\n",
       "      <td>172728.00000</td>\n",
       "      <td>853.000000</td>\n",
       "      <td>40.000000</td>\n",
       "      <td>3.000000</td>\n",
       "      <td>5.242722e+05</td>\n",
       "      <td>2.000000</td>\n",
       "      <td>1.000000</td>\n",
       "      <td>1.000000</td>\n",
       "      <td>1.196581e+05</td>\n",
       "      <td>0.000000</td>\n",
       "    </tr>\n",
       "    <tr>\n",
       "      <th>75%</th>\n",
       "      <td>201261.75000</td>\n",
       "      <td>900.000000</td>\n",
       "      <td>51.000000</td>\n",
       "      <td>4.000000</td>\n",
       "      <td>9.807058e+05</td>\n",
       "      <td>2.000000</td>\n",
       "      <td>1.000000</td>\n",
       "      <td>1.000000</td>\n",
       "      <td>1.745005e+05</td>\n",
       "      <td>0.000000</td>\n",
       "    </tr>\n",
       "    <tr>\n",
       "      <th>max</th>\n",
       "      <td>229145.00000</td>\n",
       "      <td>1000.000000</td>\n",
       "      <td>86.000000</td>\n",
       "      <td>9.000000</td>\n",
       "      <td>1.191136e+08</td>\n",
       "      <td>5.000000</td>\n",
       "      <td>1.000000</td>\n",
       "      <td>1.000000</td>\n",
       "      <td>1.395064e+06</td>\n",
       "      <td>1.000000</td>\n",
       "    </tr>\n",
       "  </tbody>\n",
       "</table>\n",
       "</div>"
      ],
      "text/plain": [
       "             USERID         score          age        equity       balance  \\\n",
       "count   10000.00000  10000.000000  9974.000000  10000.000000  7.705000e+03   \n",
       "mean   171814.71260    848.699400    42.734409      2.627600  8.277943e+05   \n",
       "std     33708.23812     65.448519    12.179971      1.980836  1.980614e+06   \n",
       "min     94561.00000    642.000000    18.000000      0.000000  0.000000e+00   \n",
       "25%    142810.25000    802.000000    33.000000      0.000000  2.955542e+05   \n",
       "50%    172728.00000    853.000000    40.000000      3.000000  5.242722e+05   \n",
       "75%    201261.75000    900.000000    51.000000      4.000000  9.807058e+05   \n",
       "max    229145.00000   1000.000000    86.000000      9.000000  1.191136e+08   \n",
       "\n",
       "           products   credit_card  last_activity    EST_SALARY         churn  \n",
       "count  10000.000000  10000.000000   10000.000000  1.000000e+04  10000.000000  \n",
       "mean       1.870100      0.680400       0.523500  1.478669e+05      0.182000  \n",
       "std        0.792647      0.466345       0.499472  1.393885e+05      0.385864  \n",
       "min        0.000000      0.000000       0.000000  2.546300e+03      0.000000  \n",
       "25%        1.000000      0.000000       0.000000  7.525190e+04      0.000000  \n",
       "50%        2.000000      1.000000       1.000000  1.196581e+05      0.000000  \n",
       "75%        2.000000      1.000000       1.000000  1.745005e+05      0.000000  \n",
       "max        5.000000      1.000000       1.000000  1.395064e+06      1.000000  "
      ]
     },
     "metadata": {},
     "output_type": "display_data"
    },
    {
     "name": "stdout",
     "output_type": "stream",
     "text": [
      "****************************************************************************************************\n",
      "\n",
      "Типы данных (dtypes):\n",
      "USERID             int64\n",
      "score            float64\n",
      "city              object\n",
      "gender            object\n",
      "age              float64\n",
      "equity             int64\n",
      "balance          float64\n",
      "products           int64\n",
      "credit_card        int64\n",
      "last_activity      int64\n",
      "EST_SALARY       float64\n",
      "churn              int64\n",
      "dtype: object\n",
      "****************************************************************************************************\n",
      "\n",
      "Кол-во дубликатов =  0\n",
      "****************************************************************************************************\n",
      "\n",
      "Названия столбцов приведены к нижнему регистру\n",
      "****************************************************************************************************\n",
      "\n",
      "Первые строки данных:\n"
     ]
    },
    {
     "data": {
      "text/html": [
       "<div>\n",
       "<style scoped>\n",
       "    .dataframe tbody tr th:only-of-type {\n",
       "        vertical-align: middle;\n",
       "    }\n",
       "\n",
       "    .dataframe tbody tr th {\n",
       "        vertical-align: top;\n",
       "    }\n",
       "\n",
       "    .dataframe thead th {\n",
       "        text-align: right;\n",
       "    }\n",
       "</style>\n",
       "<table border=\"1\" class=\"dataframe\">\n",
       "  <thead>\n",
       "    <tr style=\"text-align: right;\">\n",
       "      <th></th>\n",
       "      <th>userid</th>\n",
       "      <th>score</th>\n",
       "      <th>city</th>\n",
       "      <th>gender</th>\n",
       "      <th>age</th>\n",
       "      <th>equity</th>\n",
       "      <th>balance</th>\n",
       "      <th>products</th>\n",
       "      <th>credit_card</th>\n",
       "      <th>last_activity</th>\n",
       "      <th>est_salary</th>\n",
       "      <th>churn</th>\n",
       "    </tr>\n",
       "  </thead>\n",
       "  <tbody>\n",
       "    <tr>\n",
       "      <th>0</th>\n",
       "      <td>183012</td>\n",
       "      <td>850.0</td>\n",
       "      <td>Рыбинск</td>\n",
       "      <td>Ж</td>\n",
       "      <td>25.0</td>\n",
       "      <td>1</td>\n",
       "      <td>59214.82</td>\n",
       "      <td>2</td>\n",
       "      <td>0</td>\n",
       "      <td>1</td>\n",
       "      <td>75719.14</td>\n",
       "      <td>1</td>\n",
       "    </tr>\n",
       "    <tr>\n",
       "      <th>1</th>\n",
       "      <td>146556</td>\n",
       "      <td>861.0</td>\n",
       "      <td>Рыбинск</td>\n",
       "      <td>Ж</td>\n",
       "      <td>37.0</td>\n",
       "      <td>5</td>\n",
       "      <td>850594.33</td>\n",
       "      <td>3</td>\n",
       "      <td>1</td>\n",
       "      <td>0</td>\n",
       "      <td>86621.77</td>\n",
       "      <td>0</td>\n",
       "    </tr>\n",
       "    <tr>\n",
       "      <th>2</th>\n",
       "      <td>120722</td>\n",
       "      <td>892.0</td>\n",
       "      <td>Рыбинск</td>\n",
       "      <td>Ж</td>\n",
       "      <td>30.0</td>\n",
       "      <td>0</td>\n",
       "      <td>NaN</td>\n",
       "      <td>1</td>\n",
       "      <td>1</td>\n",
       "      <td>1</td>\n",
       "      <td>107683.34</td>\n",
       "      <td>0</td>\n",
       "    </tr>\n",
       "    <tr>\n",
       "      <th>3</th>\n",
       "      <td>225363</td>\n",
       "      <td>866.0</td>\n",
       "      <td>Ярославль</td>\n",
       "      <td>Ж</td>\n",
       "      <td>51.0</td>\n",
       "      <td>5</td>\n",
       "      <td>1524746.26</td>\n",
       "      <td>2</td>\n",
       "      <td>0</td>\n",
       "      <td>1</td>\n",
       "      <td>174423.53</td>\n",
       "      <td>1</td>\n",
       "    </tr>\n",
       "    <tr>\n",
       "      <th>4</th>\n",
       "      <td>157978</td>\n",
       "      <td>730.0</td>\n",
       "      <td>Ярославль</td>\n",
       "      <td>М</td>\n",
       "      <td>34.0</td>\n",
       "      <td>5</td>\n",
       "      <td>174.00</td>\n",
       "      <td>1</td>\n",
       "      <td>1</td>\n",
       "      <td>0</td>\n",
       "      <td>67353.16</td>\n",
       "      <td>1</td>\n",
       "    </tr>\n",
       "  </tbody>\n",
       "</table>\n",
       "</div>"
      ],
      "text/plain": [
       "   userid  score       city gender   age  equity     balance  products  \\\n",
       "0  183012  850.0    Рыбинск      Ж  25.0       1    59214.82         2   \n",
       "1  146556  861.0    Рыбинск      Ж  37.0       5   850594.33         3   \n",
       "2  120722  892.0    Рыбинск      Ж  30.0       0         NaN         1   \n",
       "3  225363  866.0  Ярославль      Ж  51.0       5  1524746.26         2   \n",
       "4  157978  730.0  Ярославль      М  34.0       5      174.00         1   \n",
       "\n",
       "   credit_card  last_activity  est_salary  churn  \n",
       "0            0              1    75719.14      1  \n",
       "1            1              0    86621.77      0  \n",
       "2            1              1   107683.34      0  \n",
       "3            0              1   174423.53      1  \n",
       "4            1              0    67353.16      1  "
      ]
     },
     "metadata": {},
     "output_type": "display_data"
    },
    {
     "name": "stdout",
     "output_type": "stream",
     "text": [
      "****************************************************************************************************\n",
      "\n"
     ]
    }
   ],
   "source": [
    "data_preprocessing(data)"
   ]
  },
  {
   "cell_type": "code",
   "execution_count": 7,
   "metadata": {},
   "outputs": [],
   "source": [
    "# исправим название солбца\n",
    "data = data.rename(columns=({'userid' : 'user_id'}))"
   ]
  },
  {
   "cell_type": "code",
   "execution_count": 8,
   "metadata": {},
   "outputs": [
    {
     "data": {
      "text/plain": [
       "array(['Рыбинск', 'Ярославль', 'Ростов'], dtype=object)"
      ]
     },
     "execution_count": 8,
     "metadata": {},
     "output_type": "execute_result"
    }
   ],
   "source": [
    "# убедимся в правильности городов\n",
    "data['city'].unique()"
   ]
  },
  {
   "cell_type": "code",
   "execution_count": 9,
   "metadata": {},
   "outputs": [
    {
     "data": {
      "text/plain": [
       "array(['Ж', 'М'], dtype=object)"
      ]
     },
     "execution_count": 9,
     "metadata": {},
     "output_type": "execute_result"
    }
   ],
   "source": [
    "# убедимся в правильности гендеров\n",
    "data['gender'].unique()"
   ]
  },
  {
   "cell_type": "code",
   "execution_count": 10,
   "metadata": {},
   "outputs": [],
   "source": [
    "data = data[data['products'] >= 1]"
   ]
  },
  {
   "cell_type": "markdown",
   "metadata": {},
   "source": [
    "Исходя из полученных данных мы видим, что\n",
    "- Датафрейм содержит 10000 строк и 12 столбцов\n",
    "- Имеются пропуски в столбцах \"age\"(0.3%) и \"balance\"(22.9%)\n",
    "- Статистическая информация выглядит нормальной\n",
    "- Возраст клиентов от 18 до 86\n",
    "- В данных присутствуют только мужчины и женщины\n",
    "- Всего у банков 5 продуктов. 75% клиентов имеют 2 продукта банка. Имеется клиент у которого 0 продуктов банка, но при отсутствии продутвов банка - нет возвозможности быть клиентом банка, удалим эту строчку из данных\n",
    "- Количество баллов находится в диапазоне от 642 до 1000\n",
    "- Города совпадают с описанными в данных\n",
    "- У 68% клиентов имеются кредитные карты\n",
    "- 52% Клиентов являются активными пользователями\n",
    "- Столбцы credit_card, last_activity, churn - содержат значения 0/1\n",
    "- Некоторые типы данных можно заменить на \"bool\", а так же столбцы \"age\" и \"score\" привести к int\n",
    "- Явные дубликаты отсутствуют. Неявные будем рассматривать ниже\n",
    "- Названия  стобцов привели к нижнему регистру и правильному виду"
   ]
  },
  {
   "cell_type": "markdown",
   "metadata": {},
   "source": [
    "### Обработка пропусков"
   ]
  },
  {
   "cell_type": "markdown",
   "metadata": {},
   "source": [
    "Оценим строки с пропусками, для визуальной оценки закономерностей"
   ]
  },
  {
   "cell_type": "code",
   "execution_count": 11,
   "metadata": {
    "scrolled": true
   },
   "outputs": [
    {
     "name": "stdout",
     "output_type": "stream",
     "text": [
      "Всего в данных: 26 пропущенных значения в столбце age\n"
     ]
    }
   ],
   "source": [
    "print('Всего в данных:', data['age'].isna().sum(), 'пропущенных значения в столбце age')"
   ]
  },
  {
   "cell_type": "code",
   "execution_count": 12,
   "metadata": {
    "scrolled": false
   },
   "outputs": [
    {
     "data": {
      "text/html": [
       "<div>\n",
       "<style scoped>\n",
       "    .dataframe tbody tr th:only-of-type {\n",
       "        vertical-align: middle;\n",
       "    }\n",
       "\n",
       "    .dataframe tbody tr th {\n",
       "        vertical-align: top;\n",
       "    }\n",
       "\n",
       "    .dataframe thead th {\n",
       "        text-align: right;\n",
       "    }\n",
       "</style>\n",
       "<table border=\"1\" class=\"dataframe\">\n",
       "  <thead>\n",
       "    <tr style=\"text-align: right;\">\n",
       "      <th></th>\n",
       "      <th>user_id</th>\n",
       "      <th>score</th>\n",
       "      <th>city</th>\n",
       "      <th>gender</th>\n",
       "      <th>age</th>\n",
       "      <th>equity</th>\n",
       "      <th>balance</th>\n",
       "      <th>products</th>\n",
       "      <th>credit_card</th>\n",
       "      <th>last_activity</th>\n",
       "      <th>est_salary</th>\n",
       "      <th>churn</th>\n",
       "    </tr>\n",
       "  </thead>\n",
       "  <tbody>\n",
       "    <tr>\n",
       "      <th>1247</th>\n",
       "      <td>228075</td>\n",
       "      <td>932.0</td>\n",
       "      <td>Ярославль</td>\n",
       "      <td>М</td>\n",
       "      <td>NaN</td>\n",
       "      <td>5</td>\n",
       "      <td>7601719.20</td>\n",
       "      <td>2</td>\n",
       "      <td>1</td>\n",
       "      <td>1</td>\n",
       "      <td>408121.16</td>\n",
       "      <td>0</td>\n",
       "    </tr>\n",
       "    <tr>\n",
       "      <th>2165</th>\n",
       "      <td>187635</td>\n",
       "      <td>692.0</td>\n",
       "      <td>Рыбинск</td>\n",
       "      <td>Ж</td>\n",
       "      <td>NaN</td>\n",
       "      <td>0</td>\n",
       "      <td>NaN</td>\n",
       "      <td>1</td>\n",
       "      <td>1</td>\n",
       "      <td>1</td>\n",
       "      <td>160368.82</td>\n",
       "      <td>0</td>\n",
       "    </tr>\n",
       "    <tr>\n",
       "      <th>2444</th>\n",
       "      <td>221156</td>\n",
       "      <td>913.0</td>\n",
       "      <td>Ярославль</td>\n",
       "      <td>М</td>\n",
       "      <td>NaN</td>\n",
       "      <td>0</td>\n",
       "      <td>NaN</td>\n",
       "      <td>1</td>\n",
       "      <td>1</td>\n",
       "      <td>1</td>\n",
       "      <td>135693.24</td>\n",
       "      <td>0</td>\n",
       "    </tr>\n",
       "    <tr>\n",
       "      <th>3091</th>\n",
       "      <td>138660</td>\n",
       "      <td>836.0</td>\n",
       "      <td>Ростов</td>\n",
       "      <td>Ж</td>\n",
       "      <td>NaN</td>\n",
       "      <td>5</td>\n",
       "      <td>294315.53</td>\n",
       "      <td>2</td>\n",
       "      <td>0</td>\n",
       "      <td>1</td>\n",
       "      <td>63310.22</td>\n",
       "      <td>1</td>\n",
       "    </tr>\n",
       "    <tr>\n",
       "      <th>4912</th>\n",
       "      <td>210674</td>\n",
       "      <td>834.0</td>\n",
       "      <td>Рыбинск</td>\n",
       "      <td>М</td>\n",
       "      <td>NaN</td>\n",
       "      <td>1</td>\n",
       "      <td>238330.52</td>\n",
       "      <td>2</td>\n",
       "      <td>0</td>\n",
       "      <td>1</td>\n",
       "      <td>93775.06</td>\n",
       "      <td>0</td>\n",
       "    </tr>\n",
       "    <tr>\n",
       "      <th>5470</th>\n",
       "      <td>218868</td>\n",
       "      <td>827.0</td>\n",
       "      <td>Рыбинск</td>\n",
       "      <td>Ж</td>\n",
       "      <td>NaN</td>\n",
       "      <td>4</td>\n",
       "      <td>448959.07</td>\n",
       "      <td>2</td>\n",
       "      <td>1</td>\n",
       "      <td>1</td>\n",
       "      <td>67835.95</td>\n",
       "      <td>0</td>\n",
       "    </tr>\n",
       "    <tr>\n",
       "      <th>5495</th>\n",
       "      <td>151662</td>\n",
       "      <td>884.0</td>\n",
       "      <td>Рыбинск</td>\n",
       "      <td>Ж</td>\n",
       "      <td>NaN</td>\n",
       "      <td>0</td>\n",
       "      <td>NaN</td>\n",
       "      <td>1</td>\n",
       "      <td>1</td>\n",
       "      <td>1</td>\n",
       "      <td>137500.77</td>\n",
       "      <td>0</td>\n",
       "    </tr>\n",
       "    <tr>\n",
       "      <th>7236</th>\n",
       "      <td>210135</td>\n",
       "      <td>908.0</td>\n",
       "      <td>Рыбинск</td>\n",
       "      <td>Ж</td>\n",
       "      <td>NaN</td>\n",
       "      <td>4</td>\n",
       "      <td>1120340.31</td>\n",
       "      <td>3</td>\n",
       "      <td>1</td>\n",
       "      <td>1</td>\n",
       "      <td>85002.15</td>\n",
       "      <td>0</td>\n",
       "    </tr>\n",
       "    <tr>\n",
       "      <th>7248</th>\n",
       "      <td>219343</td>\n",
       "      <td>920.0</td>\n",
       "      <td>Рыбинск</td>\n",
       "      <td>Ж</td>\n",
       "      <td>NaN</td>\n",
       "      <td>0</td>\n",
       "      <td>NaN</td>\n",
       "      <td>1</td>\n",
       "      <td>1</td>\n",
       "      <td>0</td>\n",
       "      <td>159248.67</td>\n",
       "      <td>0</td>\n",
       "    </tr>\n",
       "    <tr>\n",
       "      <th>7345</th>\n",
       "      <td>184913</td>\n",
       "      <td>829.0</td>\n",
       "      <td>Ярославль</td>\n",
       "      <td>Ж</td>\n",
       "      <td>NaN</td>\n",
       "      <td>3</td>\n",
       "      <td>188648.77</td>\n",
       "      <td>2</td>\n",
       "      <td>0</td>\n",
       "      <td>1</td>\n",
       "      <td>75206.90</td>\n",
       "      <td>0</td>\n",
       "    </tr>\n",
       "    <tr>\n",
       "      <th>7409</th>\n",
       "      <td>214031</td>\n",
       "      <td>777.0</td>\n",
       "      <td>Ярославль</td>\n",
       "      <td>М</td>\n",
       "      <td>NaN</td>\n",
       "      <td>2</td>\n",
       "      <td>171510.23</td>\n",
       "      <td>1</td>\n",
       "      <td>1</td>\n",
       "      <td>1</td>\n",
       "      <td>75409.63</td>\n",
       "      <td>0</td>\n",
       "    </tr>\n",
       "    <tr>\n",
       "      <th>8015</th>\n",
       "      <td>198635</td>\n",
       "      <td>670.0</td>\n",
       "      <td>Ярославль</td>\n",
       "      <td>Ж</td>\n",
       "      <td>NaN</td>\n",
       "      <td>0</td>\n",
       "      <td>NaN</td>\n",
       "      <td>1</td>\n",
       "      <td>1</td>\n",
       "      <td>1</td>\n",
       "      <td>168699.33</td>\n",
       "      <td>0</td>\n",
       "    </tr>\n",
       "    <tr>\n",
       "      <th>8070</th>\n",
       "      <td>226550</td>\n",
       "      <td>940.0</td>\n",
       "      <td>Рыбинск</td>\n",
       "      <td>М</td>\n",
       "      <td>NaN</td>\n",
       "      <td>0</td>\n",
       "      <td>NaN</td>\n",
       "      <td>1</td>\n",
       "      <td>0</td>\n",
       "      <td>1</td>\n",
       "      <td>147696.95</td>\n",
       "      <td>0</td>\n",
       "    </tr>\n",
       "    <tr>\n",
       "      <th>8293</th>\n",
       "      <td>216848</td>\n",
       "      <td>930.0</td>\n",
       "      <td>Ярославль</td>\n",
       "      <td>М</td>\n",
       "      <td>NaN</td>\n",
       "      <td>0</td>\n",
       "      <td>NaN</td>\n",
       "      <td>1</td>\n",
       "      <td>1</td>\n",
       "      <td>1</td>\n",
       "      <td>199542.51</td>\n",
       "      <td>0</td>\n",
       "    </tr>\n",
       "    <tr>\n",
       "      <th>8385</th>\n",
       "      <td>206759</td>\n",
       "      <td>915.0</td>\n",
       "      <td>Рыбинск</td>\n",
       "      <td>М</td>\n",
       "      <td>NaN</td>\n",
       "      <td>0</td>\n",
       "      <td>NaN</td>\n",
       "      <td>1</td>\n",
       "      <td>1</td>\n",
       "      <td>0</td>\n",
       "      <td>71179.53</td>\n",
       "      <td>0</td>\n",
       "    </tr>\n",
       "    <tr>\n",
       "      <th>8449</th>\n",
       "      <td>210898</td>\n",
       "      <td>805.0</td>\n",
       "      <td>Ярославль</td>\n",
       "      <td>Ж</td>\n",
       "      <td>NaN</td>\n",
       "      <td>0</td>\n",
       "      <td>NaN</td>\n",
       "      <td>1</td>\n",
       "      <td>0</td>\n",
       "      <td>1</td>\n",
       "      <td>922080.25</td>\n",
       "      <td>0</td>\n",
       "    </tr>\n",
       "    <tr>\n",
       "      <th>8632</th>\n",
       "      <td>221197</td>\n",
       "      <td>893.0</td>\n",
       "      <td>Ярославль</td>\n",
       "      <td>М</td>\n",
       "      <td>NaN</td>\n",
       "      <td>0</td>\n",
       "      <td>NaN</td>\n",
       "      <td>1</td>\n",
       "      <td>1</td>\n",
       "      <td>0</td>\n",
       "      <td>173929.92</td>\n",
       "      <td>0</td>\n",
       "    </tr>\n",
       "    <tr>\n",
       "      <th>8785</th>\n",
       "      <td>127440</td>\n",
       "      <td>663.0</td>\n",
       "      <td>Ярославль</td>\n",
       "      <td>М</td>\n",
       "      <td>NaN</td>\n",
       "      <td>0</td>\n",
       "      <td>NaN</td>\n",
       "      <td>1</td>\n",
       "      <td>1</td>\n",
       "      <td>1</td>\n",
       "      <td>117197.56</td>\n",
       "      <td>0</td>\n",
       "    </tr>\n",
       "    <tr>\n",
       "      <th>9104</th>\n",
       "      <td>222480</td>\n",
       "      <td>776.0</td>\n",
       "      <td>Рыбинск</td>\n",
       "      <td>Ж</td>\n",
       "      <td>NaN</td>\n",
       "      <td>5</td>\n",
       "      <td>796735.09</td>\n",
       "      <td>1</td>\n",
       "      <td>1</td>\n",
       "      <td>1</td>\n",
       "      <td>55073.63</td>\n",
       "      <td>0</td>\n",
       "    </tr>\n",
       "    <tr>\n",
       "      <th>9301</th>\n",
       "      <td>202983</td>\n",
       "      <td>942.0</td>\n",
       "      <td>Рыбинск</td>\n",
       "      <td>Ж</td>\n",
       "      <td>NaN</td>\n",
       "      <td>0</td>\n",
       "      <td>NaN</td>\n",
       "      <td>1</td>\n",
       "      <td>1</td>\n",
       "      <td>1</td>\n",
       "      <td>163804.73</td>\n",
       "      <td>0</td>\n",
       "    </tr>\n",
       "    <tr>\n",
       "      <th>9380</th>\n",
       "      <td>187459</td>\n",
       "      <td>894.0</td>\n",
       "      <td>Рыбинск</td>\n",
       "      <td>М</td>\n",
       "      <td>NaN</td>\n",
       "      <td>0</td>\n",
       "      <td>NaN</td>\n",
       "      <td>1</td>\n",
       "      <td>1</td>\n",
       "      <td>0</td>\n",
       "      <td>178012.28</td>\n",
       "      <td>0</td>\n",
       "    </tr>\n",
       "    <tr>\n",
       "      <th>9457</th>\n",
       "      <td>141945</td>\n",
       "      <td>929.0</td>\n",
       "      <td>Ярославль</td>\n",
       "      <td>М</td>\n",
       "      <td>NaN</td>\n",
       "      <td>0</td>\n",
       "      <td>NaN</td>\n",
       "      <td>1</td>\n",
       "      <td>1</td>\n",
       "      <td>0</td>\n",
       "      <td>381868.89</td>\n",
       "      <td>0</td>\n",
       "    </tr>\n",
       "    <tr>\n",
       "      <th>9632</th>\n",
       "      <td>185829</td>\n",
       "      <td>927.0</td>\n",
       "      <td>Ярославль</td>\n",
       "      <td>М</td>\n",
       "      <td>NaN</td>\n",
       "      <td>0</td>\n",
       "      <td>NaN</td>\n",
       "      <td>1</td>\n",
       "      <td>1</td>\n",
       "      <td>0</td>\n",
       "      <td>231254.86</td>\n",
       "      <td>0</td>\n",
       "    </tr>\n",
       "    <tr>\n",
       "      <th>9634</th>\n",
       "      <td>221809</td>\n",
       "      <td>917.0</td>\n",
       "      <td>Ярославль</td>\n",
       "      <td>М</td>\n",
       "      <td>NaN</td>\n",
       "      <td>0</td>\n",
       "      <td>NaN</td>\n",
       "      <td>1</td>\n",
       "      <td>1</td>\n",
       "      <td>1</td>\n",
       "      <td>192644.15</td>\n",
       "      <td>0</td>\n",
       "    </tr>\n",
       "    <tr>\n",
       "      <th>9667</th>\n",
       "      <td>163657</td>\n",
       "      <td>849.0</td>\n",
       "      <td>Ярославль</td>\n",
       "      <td>М</td>\n",
       "      <td>NaN</td>\n",
       "      <td>4</td>\n",
       "      <td>1254013.85</td>\n",
       "      <td>2</td>\n",
       "      <td>1</td>\n",
       "      <td>1</td>\n",
       "      <td>119106.67</td>\n",
       "      <td>0</td>\n",
       "    </tr>\n",
       "    <tr>\n",
       "      <th>9819</th>\n",
       "      <td>140934</td>\n",
       "      <td>832.0</td>\n",
       "      <td>Рыбинск</td>\n",
       "      <td>Ж</td>\n",
       "      <td>NaN</td>\n",
       "      <td>3</td>\n",
       "      <td>385763.16</td>\n",
       "      <td>2</td>\n",
       "      <td>0</td>\n",
       "      <td>1</td>\n",
       "      <td>59651.35</td>\n",
       "      <td>0</td>\n",
       "    </tr>\n",
       "  </tbody>\n",
       "</table>\n",
       "</div>"
      ],
      "text/plain": [
       "      user_id  score       city gender  age  equity     balance  products  \\\n",
       "1247   228075  932.0  Ярославль      М  NaN       5  7601719.20         2   \n",
       "2165   187635  692.0    Рыбинск      Ж  NaN       0         NaN         1   \n",
       "2444   221156  913.0  Ярославль      М  NaN       0         NaN         1   \n",
       "3091   138660  836.0     Ростов      Ж  NaN       5   294315.53         2   \n",
       "4912   210674  834.0    Рыбинск      М  NaN       1   238330.52         2   \n",
       "5470   218868  827.0    Рыбинск      Ж  NaN       4   448959.07         2   \n",
       "5495   151662  884.0    Рыбинск      Ж  NaN       0         NaN         1   \n",
       "7236   210135  908.0    Рыбинск      Ж  NaN       4  1120340.31         3   \n",
       "7248   219343  920.0    Рыбинск      Ж  NaN       0         NaN         1   \n",
       "7345   184913  829.0  Ярославль      Ж  NaN       3   188648.77         2   \n",
       "7409   214031  777.0  Ярославль      М  NaN       2   171510.23         1   \n",
       "8015   198635  670.0  Ярославль      Ж  NaN       0         NaN         1   \n",
       "8070   226550  940.0    Рыбинск      М  NaN       0         NaN         1   \n",
       "8293   216848  930.0  Ярославль      М  NaN       0         NaN         1   \n",
       "8385   206759  915.0    Рыбинск      М  NaN       0         NaN         1   \n",
       "8449   210898  805.0  Ярославль      Ж  NaN       0         NaN         1   \n",
       "8632   221197  893.0  Ярославль      М  NaN       0         NaN         1   \n",
       "8785   127440  663.0  Ярославль      М  NaN       0         NaN         1   \n",
       "9104   222480  776.0    Рыбинск      Ж  NaN       5   796735.09         1   \n",
       "9301   202983  942.0    Рыбинск      Ж  NaN       0         NaN         1   \n",
       "9380   187459  894.0    Рыбинск      М  NaN       0         NaN         1   \n",
       "9457   141945  929.0  Ярославль      М  NaN       0         NaN         1   \n",
       "9632   185829  927.0  Ярославль      М  NaN       0         NaN         1   \n",
       "9634   221809  917.0  Ярославль      М  NaN       0         NaN         1   \n",
       "9667   163657  849.0  Ярославль      М  NaN       4  1254013.85         2   \n",
       "9819   140934  832.0    Рыбинск      Ж  NaN       3   385763.16         2   \n",
       "\n",
       "      credit_card  last_activity  est_salary  churn  \n",
       "1247            1              1   408121.16      0  \n",
       "2165            1              1   160368.82      0  \n",
       "2444            1              1   135693.24      0  \n",
       "3091            0              1    63310.22      1  \n",
       "4912            0              1    93775.06      0  \n",
       "5470            1              1    67835.95      0  \n",
       "5495            1              1   137500.77      0  \n",
       "7236            1              1    85002.15      0  \n",
       "7248            1              0   159248.67      0  \n",
       "7345            0              1    75206.90      0  \n",
       "7409            1              1    75409.63      0  \n",
       "8015            1              1   168699.33      0  \n",
       "8070            0              1   147696.95      0  \n",
       "8293            1              1   199542.51      0  \n",
       "8385            1              0    71179.53      0  \n",
       "8449            0              1   922080.25      0  \n",
       "8632            1              0   173929.92      0  \n",
       "8785            1              1   117197.56      0  \n",
       "9104            1              1    55073.63      0  \n",
       "9301            1              1   163804.73      0  \n",
       "9380            1              0   178012.28      0  \n",
       "9457            1              0   381868.89      0  \n",
       "9632            1              0   231254.86      0  \n",
       "9634            1              1   192644.15      0  \n",
       "9667            1              1   119106.67      0  \n",
       "9819            0              1    59651.35      0  "
      ]
     },
     "execution_count": 12,
     "metadata": {},
     "output_type": "execute_result"
    }
   ],
   "source": [
    "data[data['age'].isna()]"
   ]
  },
  {
   "cell_type": "markdown",
   "metadata": {},
   "source": [
    "Все пользователи кроме одного, являются клиентами банка."
   ]
  },
  {
   "cell_type": "code",
   "execution_count": 13,
   "metadata": {},
   "outputs": [
    {
     "name": "stdout",
     "output_type": "stream",
     "text": [
      "Всего в данных: 2294 пропущенных значения в столбце balance\n"
     ]
    }
   ],
   "source": [
    "print('Всего в данных:', data['balance'].isna().sum(), 'пропущенных значения в столбце balance')"
   ]
  },
  {
   "cell_type": "code",
   "execution_count": 14,
   "metadata": {
    "scrolled": false
   },
   "outputs": [
    {
     "data": {
      "text/html": [
       "<div>\n",
       "<style scoped>\n",
       "    .dataframe tbody tr th:only-of-type {\n",
       "        vertical-align: middle;\n",
       "    }\n",
       "\n",
       "    .dataframe tbody tr th {\n",
       "        vertical-align: top;\n",
       "    }\n",
       "\n",
       "    .dataframe thead th {\n",
       "        text-align: right;\n",
       "    }\n",
       "</style>\n",
       "<table border=\"1\" class=\"dataframe\">\n",
       "  <thead>\n",
       "    <tr style=\"text-align: right;\">\n",
       "      <th></th>\n",
       "      <th>user_id</th>\n",
       "      <th>score</th>\n",
       "      <th>city</th>\n",
       "      <th>gender</th>\n",
       "      <th>age</th>\n",
       "      <th>equity</th>\n",
       "      <th>balance</th>\n",
       "      <th>products</th>\n",
       "      <th>credit_card</th>\n",
       "      <th>last_activity</th>\n",
       "      <th>est_salary</th>\n",
       "      <th>churn</th>\n",
       "    </tr>\n",
       "  </thead>\n",
       "  <tbody>\n",
       "    <tr>\n",
       "      <th>2745</th>\n",
       "      <td>146127</td>\n",
       "      <td>733.0</td>\n",
       "      <td>Ярославль</td>\n",
       "      <td>М</td>\n",
       "      <td>38.0</td>\n",
       "      <td>0</td>\n",
       "      <td>NaN</td>\n",
       "      <td>1</td>\n",
       "      <td>1</td>\n",
       "      <td>0</td>\n",
       "      <td>262501.49</td>\n",
       "      <td>0</td>\n",
       "    </tr>\n",
       "    <tr>\n",
       "      <th>7199</th>\n",
       "      <td>201163</td>\n",
       "      <td>905.0</td>\n",
       "      <td>Ярославль</td>\n",
       "      <td>М</td>\n",
       "      <td>32.0</td>\n",
       "      <td>0</td>\n",
       "      <td>NaN</td>\n",
       "      <td>1</td>\n",
       "      <td>1</td>\n",
       "      <td>1</td>\n",
       "      <td>104723.01</td>\n",
       "      <td>0</td>\n",
       "    </tr>\n",
       "    <tr>\n",
       "      <th>7229</th>\n",
       "      <td>145167</td>\n",
       "      <td>918.0</td>\n",
       "      <td>Рыбинск</td>\n",
       "      <td>М</td>\n",
       "      <td>55.0</td>\n",
       "      <td>0</td>\n",
       "      <td>NaN</td>\n",
       "      <td>2</td>\n",
       "      <td>1</td>\n",
       "      <td>0</td>\n",
       "      <td>176173.55</td>\n",
       "      <td>0</td>\n",
       "    </tr>\n",
       "    <tr>\n",
       "      <th>8310</th>\n",
       "      <td>133131</td>\n",
       "      <td>900.0</td>\n",
       "      <td>Рыбинск</td>\n",
       "      <td>М</td>\n",
       "      <td>34.0</td>\n",
       "      <td>0</td>\n",
       "      <td>NaN</td>\n",
       "      <td>1</td>\n",
       "      <td>1</td>\n",
       "      <td>1</td>\n",
       "      <td>173744.34</td>\n",
       "      <td>0</td>\n",
       "    </tr>\n",
       "    <tr>\n",
       "      <th>8897</th>\n",
       "      <td>202983</td>\n",
       "      <td>941.0</td>\n",
       "      <td>Ярославль</td>\n",
       "      <td>Ж</td>\n",
       "      <td>39.0</td>\n",
       "      <td>0</td>\n",
       "      <td>NaN</td>\n",
       "      <td>1</td>\n",
       "      <td>0</td>\n",
       "      <td>1</td>\n",
       "      <td>159348.84</td>\n",
       "      <td>0</td>\n",
       "    </tr>\n",
       "    <tr>\n",
       "      <th>1509</th>\n",
       "      <td>141262</td>\n",
       "      <td>747.0</td>\n",
       "      <td>Ярославль</td>\n",
       "      <td>Ж</td>\n",
       "      <td>40.0</td>\n",
       "      <td>0</td>\n",
       "      <td>NaN</td>\n",
       "      <td>1</td>\n",
       "      <td>1</td>\n",
       "      <td>0</td>\n",
       "      <td>162465.47</td>\n",
       "      <td>0</td>\n",
       "    </tr>\n",
       "    <tr>\n",
       "      <th>6587</th>\n",
       "      <td>213399</td>\n",
       "      <td>941.0</td>\n",
       "      <td>Рыбинск</td>\n",
       "      <td>Ж</td>\n",
       "      <td>34.0</td>\n",
       "      <td>0</td>\n",
       "      <td>NaN</td>\n",
       "      <td>2</td>\n",
       "      <td>1</td>\n",
       "      <td>1</td>\n",
       "      <td>524597.54</td>\n",
       "      <td>0</td>\n",
       "    </tr>\n",
       "    <tr>\n",
       "      <th>1945</th>\n",
       "      <td>197623</td>\n",
       "      <td>901.0</td>\n",
       "      <td>Ярославль</td>\n",
       "      <td>М</td>\n",
       "      <td>39.0</td>\n",
       "      <td>0</td>\n",
       "      <td>NaN</td>\n",
       "      <td>1</td>\n",
       "      <td>1</td>\n",
       "      <td>0</td>\n",
       "      <td>191486.46</td>\n",
       "      <td>0</td>\n",
       "    </tr>\n",
       "    <tr>\n",
       "      <th>7615</th>\n",
       "      <td>134892</td>\n",
       "      <td>902.0</td>\n",
       "      <td>Ярославль</td>\n",
       "      <td>М</td>\n",
       "      <td>24.0</td>\n",
       "      <td>0</td>\n",
       "      <td>NaN</td>\n",
       "      <td>1</td>\n",
       "      <td>1</td>\n",
       "      <td>1</td>\n",
       "      <td>115716.03</td>\n",
       "      <td>0</td>\n",
       "    </tr>\n",
       "    <tr>\n",
       "      <th>3144</th>\n",
       "      <td>200856</td>\n",
       "      <td>899.0</td>\n",
       "      <td>Ярославль</td>\n",
       "      <td>М</td>\n",
       "      <td>51.0</td>\n",
       "      <td>0</td>\n",
       "      <td>NaN</td>\n",
       "      <td>1</td>\n",
       "      <td>1</td>\n",
       "      <td>0</td>\n",
       "      <td>211568.63</td>\n",
       "      <td>0</td>\n",
       "    </tr>\n",
       "  </tbody>\n",
       "</table>\n",
       "</div>"
      ],
      "text/plain": [
       "      user_id  score       city gender   age  equity  balance  products  \\\n",
       "2745   146127  733.0  Ярославль      М  38.0       0      NaN         1   \n",
       "7199   201163  905.0  Ярославль      М  32.0       0      NaN         1   \n",
       "7229   145167  918.0    Рыбинск      М  55.0       0      NaN         2   \n",
       "8310   133131  900.0    Рыбинск      М  34.0       0      NaN         1   \n",
       "8897   202983  941.0  Ярославль      Ж  39.0       0      NaN         1   \n",
       "1509   141262  747.0  Ярославль      Ж  40.0       0      NaN         1   \n",
       "6587   213399  941.0    Рыбинск      Ж  34.0       0      NaN         2   \n",
       "1945   197623  901.0  Ярославль      М  39.0       0      NaN         1   \n",
       "7615   134892  902.0  Ярославль      М  24.0       0      NaN         1   \n",
       "3144   200856  899.0  Ярославль      М  51.0       0      NaN         1   \n",
       "\n",
       "      credit_card  last_activity  est_salary  churn  \n",
       "2745            1              0   262501.49      0  \n",
       "7199            1              1   104723.01      0  \n",
       "7229            1              0   176173.55      0  \n",
       "8310            1              1   173744.34      0  \n",
       "8897            0              1   159348.84      0  \n",
       "1509            1              0   162465.47      0  \n",
       "6587            1              1   524597.54      0  \n",
       "1945            1              0   191486.46      0  \n",
       "7615            1              1   115716.03      0  \n",
       "3144            1              0   211568.63      0  "
      ]
     },
     "execution_count": 14,
     "metadata": {},
     "output_type": "execute_result"
    }
   ],
   "source": [
    "data[data['balance'].isna()].sample(10)"
   ]
  },
  {
   "cell_type": "markdown",
   "metadata": {},
   "source": [
    "Явных закономерностей не обнаружено, продолжим исследование и изучим к какому типу относятся пропуски"
   ]
  },
  {
   "cell_type": "markdown",
   "metadata": {},
   "source": [
    "Создадим копию нашего датафрейма и назовем его data_missing для обработки пропусков"
   ]
  },
  {
   "cell_type": "code",
   "execution_count": 15,
   "metadata": {},
   "outputs": [],
   "source": [
    "data_missing = data.copy()\n",
    "data_missing = data_missing.drop(columns=['user_id'])"
   ]
  },
  {
   "cell_type": "markdown",
   "metadata": {},
   "source": [
    "Далее создадим два столбца age_missing и balance_missing, где 1 - если в наблюдении пропущено значение признака, и 0, если в наблюдении значение признака не пропущено. \n",
    "\n",
    "Далее этот признак использовать при анализе корреляций: можно построить матрицу корреляций и посмотреть, есть ли зависимость между новым признаком и другими признаками таблицы: наличие сильной зависимости можеть быть признаков зависимости пропусков от каких-то признаков;"
   ]
  },
  {
   "cell_type": "code",
   "execution_count": 16,
   "metadata": {},
   "outputs": [],
   "source": [
    "# учтем только два столбца с пропусками, что бы не считать по всем\n",
    "for column in ['age', 'balance']:\n",
    "    data_missing[f'{column}_missing'] = data_missing[column].isnull().astype(int)"
   ]
  },
  {
   "cell_type": "markdown",
   "metadata": {},
   "source": [
    "Для рассчета корреляции воспользуемся корреляцией phik, так как она разработана для работы с категориальными и непрерывными переменными. Она может захватывать более сложные зависимости, включая нелинейные."
   ]
  },
  {
   "cell_type": "code",
   "execution_count": 17,
   "metadata": {
    "scrolled": false
   },
   "outputs": [],
   "source": [
    "# посчитаем корреляцию phik\n",
    "data_corr = data_missing.phik_matrix(interval_cols=['age', 'score', 'balance', 'est_salary'])"
   ]
  },
  {
   "cell_type": "code",
   "execution_count": 18,
   "metadata": {
    "scrolled": false
   },
   "outputs": [
    {
     "data": {
      "image/png": "[encoded data removed]",
      "text/plain": [
       "<Figure size 1008x720 with 4 Axes>"
      ]
     },
     "metadata": {
      "needs_background": "light"
     },
     "output_type": "display_data"
    }
   ],
   "source": [
    "plt.figure(figsize=(14, 10))\n",
    "# визуализируем корреляцию по столбцу age_missing\n",
    "sns.heatmap(data_corr.loc[:,['age_missing']]\n",
    "            .sort_values('age_missing', ascending=False),\n",
    "            annot=True, cmap='coolwarm', center=0, fmt=\".2f\",\n",
    "           ax=plt.subplot(1, 2, 1)) \n",
    "\n",
    "# визуализируем корреляцию по столбцу balance_missing\n",
    "sns.heatmap(data_corr.loc[:,['balance_missing']]\n",
    "            .sort_values('balance_missing', ascending=False),\n",
    "            annot=True, cmap='coolwarm', center=0, fmt=\".2f\",\n",
    "           ax=plt.subplot(1, 2, 2)) \n",
    "\n",
    "plt.suptitle('Корреляция между переменными')\n",
    "plt.show()"
   ]
  },
  {
   "cell_type": "markdown",
   "metadata": {},
   "source": [
    "По данным, полученным из корреляции phik, видно:\n",
    "- В столбце \"age_missing\" - по шкале Чеддока значения варьируются от 0 до 0,07. Это означает, что зависимость между переменными очень слабая. Значения, близкие к 0, указывают на отсутствие или крайне слабую корреляцию. Это может свидетельствовать о том, что изменения в одной переменной не сопровождаются значительными изменениями в другой.\n",
    "- В столбце \"balance_missing\" наибольший коэффициент получился 0.98, что говорит о сильной зависимости переменных balance(баланс) и equity(количество баллов собственности). Далее идут значения равные 0.79(products) и 0.76(score) - это говорит об умеренной зависимости значений со столбцом balance.\n"
   ]
  },
  {
   "cell_type": "markdown",
   "metadata": {},
   "source": [
    "<a id='отссылка2'></a>\n",
    "Создадим функцию, где по каждому признаку будет посчитана мера центральной тендеции в разрезе пропуска"
   ]
  },
  {
   "cell_type": "code",
   "execution_count": 19,
   "metadata": {},
   "outputs": [],
   "source": [
    "def measure_central_trend(data, \n",
    "                          columns, \n",
    "                          values_mean,\n",
    "                          aggfunc_mean, \n",
    "                          values_median, \n",
    "                          aggfunc_median,\n",
    "                          values_mode,\n",
    "                          aggfunc_mode,\n",
    "                          ):\n",
    "\n",
    "    # сгруппируем и найдем среднее непрерывных переменных\n",
    "    mean = (\n",
    "        data.pivot_table(\n",
    "            columns=columns,\n",
    "            values= values_mean,\n",
    "            aggfunc=aggfunc_mean)\n",
    "    ).round()\n",
    "\n",
    "    # посчитаем относительную разницу центральных мер\n",
    "    mean['dif'] = abs((mean[0] - mean[1]) / ((mean[0] + mean[1]) / 2) * 100)\n",
    "    mean['dif'] = mean['dif'].apply(lambda x :f'{x:.2f}%')\n",
    "    \n",
    "    # сгруппируем и найдем медиану непрерывных переменных которые имеют выбросы\n",
    "    median = (\n",
    "        data.pivot_table(\n",
    "            columns=columns,\n",
    "            values=values_median,\n",
    "            aggfunc=aggfunc_median)\n",
    "    ).round()\n",
    "    \n",
    "    # сгруппируем и найдем моду категориальных переменных\n",
    "    mode = (\n",
    "    data_missing.pivot_table(\n",
    "        columns='age_missing',\n",
    "        values=values_mode,\n",
    "        aggfunc=aggfunc_mode)\n",
    "    )\n",
    "\n",
    "    # переименуем названия строк\n",
    "    mean.rename(index={\n",
    "        'age' : 'Средний возраст',\n",
    "        'balance': 'Средний баланс на счете',      \n",
    "        'est_salary' : 'Средний доход клиента',\n",
    "        'products' : 'Среднее количество продуктов',\n",
    "        'score' : 'Средние баллы кредитного скоринга'\n",
    "    }, inplace=True)\n",
    "\n",
    "    # переименуем названия строк\n",
    "    median.rename(index={\n",
    "        'balance': 'Медианный баланс на счете',\n",
    "        'est_salary': 'Медианный доход клиента'\n",
    "    }, inplace=True)\n",
    "\n",
    "    # переименуем названия строк\n",
    "    mode.rename(index={\n",
    "        'city' : 'Мода по городам', \n",
    "        'equity' : 'Мода по количеству баллов собственности',\n",
    "        'products' : 'Мода по количеству продуктов',\n",
    "        'gender' : 'Мода по гендеру',\n",
    "        'credit_card' : 'Мода по наличию кредитной карты',\n",
    "        'last_activity' : 'Мода по активности'\n",
    "    }, inplace=True)\n",
    "    \n",
    "    # Объединяем mean_portrait, median_portrait, mode_portrait\n",
    "    total_name = pd.concat([mean, median, mode], axis=0)\n",
    "    total_name =total_name.reset_index()\n",
    "\n",
    "    return total_name"
   ]
  },
  {
   "cell_type": "code",
   "execution_count": 20,
   "metadata": {},
   "outputs": [],
   "source": [
    "# воспользуемся функцией и соберем данные учитывая пропуски в столбце возраст\n",
    "age_missing = measure_central_trend(\n",
    "                      data_missing, \n",
    "                      'age_missing', \n",
    "                      ['age', 'score', 'balance', 'est_salary'],\n",
    "                      'mean',\n",
    "                      ['balance', 'est_salary'],\n",
    "                      'median',\n",
    "                      ['city', 'gender', 'equity', 'products', 'credit_card', 'last_activity'],\n",
    "                      pd.Series.mode,\n",
    "                     )"
   ]
  },
  {
   "cell_type": "code",
   "execution_count": 21,
   "metadata": {},
   "outputs": [
    {
     "data": {
      "text/html": [
       "<div>\n",
       "<style scoped>\n",
       "    .dataframe tbody tr th:only-of-type {\n",
       "        vertical-align: middle;\n",
       "    }\n",
       "\n",
       "    .dataframe tbody tr th {\n",
       "        vertical-align: top;\n",
       "    }\n",
       "\n",
       "    .dataframe thead th {\n",
       "        text-align: right;\n",
       "    }\n",
       "</style>\n",
       "<table border=\"1\" class=\"dataframe\">\n",
       "  <thead>\n",
       "    <tr style=\"text-align: right;\">\n",
       "      <th></th>\n",
       "      <th>Признак</th>\n",
       "      <th>Нет пропуска</th>\n",
       "      <th>Есть пропуск</th>\n",
       "      <th>Относительная разница %</th>\n",
       "    </tr>\n",
       "  </thead>\n",
       "  <tbody>\n",
       "    <tr>\n",
       "      <th>0</th>\n",
       "      <td>Средний возраст</td>\n",
       "      <td>43.0</td>\n",
       "      <td>NaN</td>\n",
       "      <td>nan%</td>\n",
       "    </tr>\n",
       "    <tr>\n",
       "      <th>1</th>\n",
       "      <td>Средний баланс на счете</td>\n",
       "      <td>827246.0</td>\n",
       "      <td>1250034.0</td>\n",
       "      <td>40.71%</td>\n",
       "    </tr>\n",
       "    <tr>\n",
       "      <th>2</th>\n",
       "      <td>Средний доход клиента</td>\n",
       "      <td>147799.0</td>\n",
       "      <td>178585.0</td>\n",
       "      <td>18.86%</td>\n",
       "    </tr>\n",
       "    <tr>\n",
       "      <th>3</th>\n",
       "      <td>Средние баллы кредитного скоринга</td>\n",
       "      <td>849.0</td>\n",
       "      <td>855.0</td>\n",
       "      <td>0.70%</td>\n",
       "    </tr>\n",
       "    <tr>\n",
       "      <th>4</th>\n",
       "      <td>Медианный баланс на счете</td>\n",
       "      <td>524295.0</td>\n",
       "      <td>417361.0</td>\n",
       "      <td>NaN</td>\n",
       "    </tr>\n",
       "    <tr>\n",
       "      <th>5</th>\n",
       "      <td>Медианный доход клиента</td>\n",
       "      <td>119643.0</td>\n",
       "      <td>142599.0</td>\n",
       "      <td>NaN</td>\n",
       "    </tr>\n",
       "    <tr>\n",
       "      <th>6</th>\n",
       "      <td>Мода по городам</td>\n",
       "      <td>Ярославль</td>\n",
       "      <td>Ярославль</td>\n",
       "      <td>NaN</td>\n",
       "    </tr>\n",
       "    <tr>\n",
       "      <th>7</th>\n",
       "      <td>Мода по наличию кредитной карты</td>\n",
       "      <td>1</td>\n",
       "      <td>1</td>\n",
       "      <td>NaN</td>\n",
       "    </tr>\n",
       "    <tr>\n",
       "      <th>8</th>\n",
       "      <td>Мода по количеству баллов собственности</td>\n",
       "      <td>0</td>\n",
       "      <td>0</td>\n",
       "      <td>NaN</td>\n",
       "    </tr>\n",
       "    <tr>\n",
       "      <th>9</th>\n",
       "      <td>Мода по гендеру</td>\n",
       "      <td>М</td>\n",
       "      <td>М</td>\n",
       "      <td>NaN</td>\n",
       "    </tr>\n",
       "    <tr>\n",
       "      <th>10</th>\n",
       "      <td>Мода по активности</td>\n",
       "      <td>1</td>\n",
       "      <td>1</td>\n",
       "      <td>NaN</td>\n",
       "    </tr>\n",
       "    <tr>\n",
       "      <th>11</th>\n",
       "      <td>Мода по количеству продуктов</td>\n",
       "      <td>2</td>\n",
       "      <td>1</td>\n",
       "      <td>NaN</td>\n",
       "    </tr>\n",
       "  </tbody>\n",
       "</table>\n",
       "</div>"
      ],
      "text/plain": [
       "                                    Признак Нет пропуска Есть пропуск  \\\n",
       "0                           Средний возраст         43.0          NaN   \n",
       "1                   Средний баланс на счете     827246.0    1250034.0   \n",
       "2                     Средний доход клиента     147799.0     178585.0   \n",
       "3         Средние баллы кредитного скоринга        849.0        855.0   \n",
       "4                 Медианный баланс на счете     524295.0     417361.0   \n",
       "5                   Медианный доход клиента     119643.0     142599.0   \n",
       "6                           Мода по городам    Ярославль    Ярославль   \n",
       "7           Мода по наличию кредитной карты            1            1   \n",
       "8   Мода по количеству баллов собственности            0            0   \n",
       "9                           Мода по гендеру            М            М   \n",
       "10                       Мода по активности            1            1   \n",
       "11             Мода по количеству продуктов            2            1   \n",
       "\n",
       "   Относительная разница %  \n",
       "0                     nan%  \n",
       "1                   40.71%  \n",
       "2                   18.86%  \n",
       "3                    0.70%  \n",
       "4                      NaN  \n",
       "5                      NaN  \n",
       "6                      NaN  \n",
       "7                      NaN  \n",
       "8                      NaN  \n",
       "9                      NaN  \n",
       "10                     NaN  \n",
       "11                     NaN  "
      ]
     },
     "execution_count": 21,
     "metadata": {},
     "output_type": "execute_result"
    }
   ],
   "source": [
    "# переименуем названия столбцов\n",
    "age_missing.columns= ['Признак', 'Нет пропуска', 'Есть пропуск', 'Относительная разница %']\n",
    "age_missing"
   ]
  },
  {
   "cell_type": "code",
   "execution_count": 22,
   "metadata": {
    "scrolled": true
   },
   "outputs": [],
   "source": [
    "# воспользуемся функцией и соберем данные учитывая пропуски в столбце баланс\n",
    "balance_missing = measure_central_trend(data_missing, \n",
    "                      'balance_missing', \n",
    "                      ['age', 'score', 'balance', 'est_salary'],\n",
    "                      'mean',\n",
    "                      ['est_salary', 'balance'],\n",
    "                      'median',\n",
    "                      ['city', 'gender', 'equity', 'products', 'credit_card', 'last_activity'],\n",
    "                      pd.Series.mode,\n",
    "                     )"
   ]
  },
  {
   "cell_type": "code",
   "execution_count": 23,
   "metadata": {
    "scrolled": false
   },
   "outputs": [
    {
     "data": {
      "text/html": [
       "<div>\n",
       "<style scoped>\n",
       "    .dataframe tbody tr th:only-of-type {\n",
       "        vertical-align: middle;\n",
       "    }\n",
       "\n",
       "    .dataframe tbody tr th {\n",
       "        vertical-align: top;\n",
       "    }\n",
       "\n",
       "    .dataframe thead th {\n",
       "        text-align: right;\n",
       "    }\n",
       "</style>\n",
       "<table border=\"1\" class=\"dataframe\">\n",
       "  <thead>\n",
       "    <tr style=\"text-align: right;\">\n",
       "      <th></th>\n",
       "      <th>Признак</th>\n",
       "      <th>Нет пропуска</th>\n",
       "      <th>Есть пропуск</th>\n",
       "      <th>Относительная разница %</th>\n",
       "    </tr>\n",
       "  </thead>\n",
       "  <tbody>\n",
       "    <tr>\n",
       "      <th>0</th>\n",
       "      <td>Средний возраст</td>\n",
       "      <td>43.0</td>\n",
       "      <td>42.0</td>\n",
       "      <td>2.35%</td>\n",
       "    </tr>\n",
       "    <tr>\n",
       "      <th>1</th>\n",
       "      <td>Средний баланс на счете</td>\n",
       "      <td>827794.0</td>\n",
       "      <td>NaN</td>\n",
       "      <td>nan%</td>\n",
       "    </tr>\n",
       "    <tr>\n",
       "      <th>2</th>\n",
       "      <td>Средний доход клиента</td>\n",
       "      <td>124502.0</td>\n",
       "      <td>226398.0</td>\n",
       "      <td>58.08%</td>\n",
       "    </tr>\n",
       "    <tr>\n",
       "      <th>3</th>\n",
       "      <td>Средние баллы кредитного скоринга</td>\n",
       "      <td>844.0</td>\n",
       "      <td>865.0</td>\n",
       "      <td>2.46%</td>\n",
       "    </tr>\n",
       "    <tr>\n",
       "      <th>4</th>\n",
       "      <td>Медианный баланс на счете</td>\n",
       "      <td>524272.0</td>\n",
       "      <td>NaN</td>\n",
       "      <td>NaN</td>\n",
       "    </tr>\n",
       "    <tr>\n",
       "      <th>5</th>\n",
       "      <td>Медианный доход клиента</td>\n",
       "      <td>106222.0</td>\n",
       "      <td>174203.0</td>\n",
       "      <td>NaN</td>\n",
       "    </tr>\n",
       "    <tr>\n",
       "      <th>6</th>\n",
       "      <td>Мода по городам</td>\n",
       "      <td>Ярославль</td>\n",
       "      <td>Ярославль</td>\n",
       "      <td>NaN</td>\n",
       "    </tr>\n",
       "    <tr>\n",
       "      <th>7</th>\n",
       "      <td>Мода по наличию кредитной карты</td>\n",
       "      <td>1</td>\n",
       "      <td>1</td>\n",
       "      <td>NaN</td>\n",
       "    </tr>\n",
       "    <tr>\n",
       "      <th>8</th>\n",
       "      <td>Мода по количеству баллов собственности</td>\n",
       "      <td>0</td>\n",
       "      <td>0</td>\n",
       "      <td>NaN</td>\n",
       "    </tr>\n",
       "    <tr>\n",
       "      <th>9</th>\n",
       "      <td>Мода по гендеру</td>\n",
       "      <td>М</td>\n",
       "      <td>М</td>\n",
       "      <td>NaN</td>\n",
       "    </tr>\n",
       "    <tr>\n",
       "      <th>10</th>\n",
       "      <td>Мода по активности</td>\n",
       "      <td>1</td>\n",
       "      <td>1</td>\n",
       "      <td>NaN</td>\n",
       "    </tr>\n",
       "    <tr>\n",
       "      <th>11</th>\n",
       "      <td>Мода по количеству продуктов</td>\n",
       "      <td>2</td>\n",
       "      <td>1</td>\n",
       "      <td>NaN</td>\n",
       "    </tr>\n",
       "  </tbody>\n",
       "</table>\n",
       "</div>"
      ],
      "text/plain": [
       "                                    Признак Нет пропуска Есть пропуск  \\\n",
       "0                           Средний возраст         43.0         42.0   \n",
       "1                   Средний баланс на счете     827794.0          NaN   \n",
       "2                     Средний доход клиента     124502.0     226398.0   \n",
       "3         Средние баллы кредитного скоринга        844.0        865.0   \n",
       "4                 Медианный баланс на счете     524272.0          NaN   \n",
       "5                   Медианный доход клиента     106222.0     174203.0   \n",
       "6                           Мода по городам    Ярославль    Ярославль   \n",
       "7           Мода по наличию кредитной карты            1            1   \n",
       "8   Мода по количеству баллов собственности            0            0   \n",
       "9                           Мода по гендеру            М            М   \n",
       "10                       Мода по активности            1            1   \n",
       "11             Мода по количеству продуктов            2            1   \n",
       "\n",
       "   Относительная разница %  \n",
       "0                    2.35%  \n",
       "1                     nan%  \n",
       "2                   58.08%  \n",
       "3                    2.46%  \n",
       "4                      NaN  \n",
       "5                      NaN  \n",
       "6                      NaN  \n",
       "7                      NaN  \n",
       "8                      NaN  \n",
       "9                      NaN  \n",
       "10                     NaN  \n",
       "11                     NaN  "
      ]
     },
     "execution_count": 23,
     "metadata": {},
     "output_type": "execute_result"
    }
   ],
   "source": [
    "# переименуем названия столбцов\n",
    "balance_missing.columns= ['Признак', 'Нет пропуска', 'Есть пропуск', 'Относительная разница %']\n",
    "balance_missing"
   ]
  },
  {
   "cell_type": "markdown",
   "metadata": {},
   "source": [
    "Так как столбец \"age\" относится к категории MCAR и его долья лишь 0.3%, удалим эти строки из данных"
   ]
  },
  {
   "cell_type": "code",
   "execution_count": 24,
   "metadata": {},
   "outputs": [],
   "source": [
    "# удалим строки с пропущенными значениями в столбце age\n",
    "data = data.dropna(subset=['age'])"
   ]
  },
  {
   "cell_type": "code",
   "execution_count": 25,
   "metadata": {},
   "outputs": [
    {
     "data": {
      "text/plain": [
       "user_id             0\n",
       "score               0\n",
       "city                0\n",
       "gender              0\n",
       "age                 0\n",
       "equity              0\n",
       "balance          2278\n",
       "products            0\n",
       "credit_card         0\n",
       "last_activity       0\n",
       "est_salary          0\n",
       "churn               0\n",
       "dtype: int64"
      ]
     },
     "execution_count": 25,
     "metadata": {},
     "output_type": "execute_result"
    }
   ],
   "source": [
    "data.isna().sum()"
   ]
  },
  {
   "cell_type": "markdown",
   "metadata": {},
   "source": [
    "#### Выводы:\n",
    "\n",
    "- Пропуски в столбце age относятся к категории MCAR (Missing Completely At Random / Отсутствует совершенно случайно) — пропуски не зависят от переменных и не ведут к систематической ошибке, оставим без изменений.\n",
    "- Пропуски в столбце balance  относятся к категории MNAR (Missing Not At Random / Отсутствует не случайно) —  эти пропуски зависят от данных, без дополнительного обоснования их нельзя отбрасывать или заполнять одним значением, т.к. это приведёт к заметным искажениям. Оставим пропуски без изменения, так как нет возможности восстановить данные.\n",
    "- Возможная причина отсутствия данных \n",
    "\n",
    " "
   ]
  },
  {
   "cell_type": "markdown",
   "metadata": {},
   "source": [
    "<a id='отссылка1'></a>\n",
    "### Провести кодирование столбца \"gender\" и \"city\" для использования в анализе корреляции"
   ]
  },
  {
   "cell_type": "markdown",
   "metadata": {},
   "source": [
    "Создадим новый DF, применим one-hot кодирование для нужных столбов:"
   ]
  },
  {
   "cell_type": "code",
   "execution_count": 26,
   "metadata": {},
   "outputs": [
    {
     "data": {
      "text/html": [
       "<div>\n",
       "<style scoped>\n",
       "    .dataframe tbody tr th:only-of-type {\n",
       "        vertical-align: middle;\n",
       "    }\n",
       "\n",
       "    .dataframe tbody tr th {\n",
       "        vertical-align: top;\n",
       "    }\n",
       "\n",
       "    .dataframe thead th {\n",
       "        text-align: right;\n",
       "    }\n",
       "</style>\n",
       "<table border=\"1\" class=\"dataframe\">\n",
       "  <thead>\n",
       "    <tr style=\"text-align: right;\">\n",
       "      <th></th>\n",
       "      <th>user_id</th>\n",
       "      <th>score</th>\n",
       "      <th>city</th>\n",
       "      <th>gender</th>\n",
       "      <th>age</th>\n",
       "      <th>equity</th>\n",
       "      <th>balance</th>\n",
       "      <th>products</th>\n",
       "      <th>credit_card</th>\n",
       "      <th>last_activity</th>\n",
       "      <th>est_salary</th>\n",
       "      <th>churn</th>\n",
       "      <th>gender_Ж</th>\n",
       "      <th>gender_М</th>\n",
       "      <th>city_Ростов</th>\n",
       "      <th>city_Рыбинск</th>\n",
       "      <th>city_Ярославль</th>\n",
       "    </tr>\n",
       "  </thead>\n",
       "  <tbody>\n",
       "    <tr>\n",
       "      <th>0</th>\n",
       "      <td>183012</td>\n",
       "      <td>850.0</td>\n",
       "      <td>Рыбинск</td>\n",
       "      <td>Ж</td>\n",
       "      <td>25.0</td>\n",
       "      <td>1</td>\n",
       "      <td>59214.82</td>\n",
       "      <td>2</td>\n",
       "      <td>0</td>\n",
       "      <td>1</td>\n",
       "      <td>75719.14</td>\n",
       "      <td>1</td>\n",
       "      <td>1</td>\n",
       "      <td>0</td>\n",
       "      <td>0</td>\n",
       "      <td>1</td>\n",
       "      <td>0</td>\n",
       "    </tr>\n",
       "    <tr>\n",
       "      <th>1</th>\n",
       "      <td>146556</td>\n",
       "      <td>861.0</td>\n",
       "      <td>Рыбинск</td>\n",
       "      <td>Ж</td>\n",
       "      <td>37.0</td>\n",
       "      <td>5</td>\n",
       "      <td>850594.33</td>\n",
       "      <td>3</td>\n",
       "      <td>1</td>\n",
       "      <td>0</td>\n",
       "      <td>86621.77</td>\n",
       "      <td>0</td>\n",
       "      <td>1</td>\n",
       "      <td>0</td>\n",
       "      <td>0</td>\n",
       "      <td>1</td>\n",
       "      <td>0</td>\n",
       "    </tr>\n",
       "    <tr>\n",
       "      <th>2</th>\n",
       "      <td>120722</td>\n",
       "      <td>892.0</td>\n",
       "      <td>Рыбинск</td>\n",
       "      <td>Ж</td>\n",
       "      <td>30.0</td>\n",
       "      <td>0</td>\n",
       "      <td>NaN</td>\n",
       "      <td>1</td>\n",
       "      <td>1</td>\n",
       "      <td>1</td>\n",
       "      <td>107683.34</td>\n",
       "      <td>0</td>\n",
       "      <td>1</td>\n",
       "      <td>0</td>\n",
       "      <td>0</td>\n",
       "      <td>1</td>\n",
       "      <td>0</td>\n",
       "    </tr>\n",
       "    <tr>\n",
       "      <th>3</th>\n",
       "      <td>225363</td>\n",
       "      <td>866.0</td>\n",
       "      <td>Ярославль</td>\n",
       "      <td>Ж</td>\n",
       "      <td>51.0</td>\n",
       "      <td>5</td>\n",
       "      <td>1524746.26</td>\n",
       "      <td>2</td>\n",
       "      <td>0</td>\n",
       "      <td>1</td>\n",
       "      <td>174423.53</td>\n",
       "      <td>1</td>\n",
       "      <td>1</td>\n",
       "      <td>0</td>\n",
       "      <td>0</td>\n",
       "      <td>0</td>\n",
       "      <td>1</td>\n",
       "    </tr>\n",
       "    <tr>\n",
       "      <th>4</th>\n",
       "      <td>157978</td>\n",
       "      <td>730.0</td>\n",
       "      <td>Ярославль</td>\n",
       "      <td>М</td>\n",
       "      <td>34.0</td>\n",
       "      <td>5</td>\n",
       "      <td>174.00</td>\n",
       "      <td>1</td>\n",
       "      <td>1</td>\n",
       "      <td>0</td>\n",
       "      <td>67353.16</td>\n",
       "      <td>1</td>\n",
       "      <td>0</td>\n",
       "      <td>1</td>\n",
       "      <td>0</td>\n",
       "      <td>0</td>\n",
       "      <td>1</td>\n",
       "    </tr>\n",
       "  </tbody>\n",
       "</table>\n",
       "</div>"
      ],
      "text/plain": [
       "   user_id  score       city gender   age  equity     balance  products  \\\n",
       "0   183012  850.0    Рыбинск      Ж  25.0       1    59214.82         2   \n",
       "1   146556  861.0    Рыбинск      Ж  37.0       5   850594.33         3   \n",
       "2   120722  892.0    Рыбинск      Ж  30.0       0         NaN         1   \n",
       "3   225363  866.0  Ярославль      Ж  51.0       5  1524746.26         2   \n",
       "4   157978  730.0  Ярославль      М  34.0       5      174.00         1   \n",
       "\n",
       "   credit_card  last_activity  est_salary  churn  gender_Ж  gender_М  \\\n",
       "0            0              1    75719.14      1         1         0   \n",
       "1            1              0    86621.77      0         1         0   \n",
       "2            1              1   107683.34      0         1         0   \n",
       "3            0              1   174423.53      1         1         0   \n",
       "4            1              0    67353.16      1         0         1   \n",
       "\n",
       "   city_Ростов  city_Рыбинск  city_Ярославль  \n",
       "0            0             1               0  \n",
       "1            0             1               0  \n",
       "2            0             1               0  \n",
       "3            0             0               1  \n",
       "4            0             0               1  "
      ]
     },
     "execution_count": 26,
     "metadata": {},
     "output_type": "execute_result"
    }
   ],
   "source": [
    "# копируем оригинальный DataFrame\n",
    "data_copy = data.copy()\n",
    "# применяем one-hot кодирование только к нужным столбцам\n",
    "coding = pd.get_dummies(data_copy[['gender', 'city']], drop_first=False)\n",
    "# объединяем с оригинальным DataFrame\n",
    "data_encoded = pd.concat([data_copy, coding], axis=1)\n",
    "data_encoded.head()"
   ]
  },
  {
   "cell_type": "markdown",
   "metadata": {},
   "source": [
    "#### Вывод:\n",
    "\n",
    "Кодирование произошло корректно"
   ]
  },
  {
   "cell_type": "markdown",
   "metadata": {},
   "source": [
    "### Провести анализ неявных дубликатов по столбцу user_id."
   ]
  },
  {
   "cell_type": "code",
   "execution_count": 27,
   "metadata": {},
   "outputs": [
    {
     "data": {
      "text/html": [
       "<div>\n",
       "<style scoped>\n",
       "    .dataframe tbody tr th:only-of-type {\n",
       "        vertical-align: middle;\n",
       "    }\n",
       "\n",
       "    .dataframe tbody tr th {\n",
       "        vertical-align: top;\n",
       "    }\n",
       "\n",
       "    .dataframe thead th {\n",
       "        text-align: right;\n",
       "    }\n",
       "</style>\n",
       "<table border=\"1\" class=\"dataframe\">\n",
       "  <thead>\n",
       "    <tr style=\"text-align: right;\">\n",
       "      <th></th>\n",
       "      <th>user_id</th>\n",
       "      <th>score</th>\n",
       "      <th>city</th>\n",
       "      <th>gender</th>\n",
       "      <th>age</th>\n",
       "      <th>equity</th>\n",
       "      <th>balance</th>\n",
       "      <th>products</th>\n",
       "      <th>credit_card</th>\n",
       "      <th>last_activity</th>\n",
       "      <th>est_salary</th>\n",
       "      <th>churn</th>\n",
       "    </tr>\n",
       "  </thead>\n",
       "  <tbody>\n",
       "    <tr>\n",
       "      <th>869</th>\n",
       "      <td>210662</td>\n",
       "      <td>962.0</td>\n",
       "      <td>Ярославль</td>\n",
       "      <td>Ж</td>\n",
       "      <td>54.0</td>\n",
       "      <td>5</td>\n",
       "      <td>5069231.39</td>\n",
       "      <td>1</td>\n",
       "      <td>1</td>\n",
       "      <td>1</td>\n",
       "      <td>955144.85</td>\n",
       "      <td>1</td>\n",
       "    </tr>\n",
       "    <tr>\n",
       "      <th>1837</th>\n",
       "      <td>210662</td>\n",
       "      <td>896.0</td>\n",
       "      <td>Рыбинск</td>\n",
       "      <td>Ж</td>\n",
       "      <td>37.0</td>\n",
       "      <td>0</td>\n",
       "      <td>NaN</td>\n",
       "      <td>2</td>\n",
       "      <td>0</td>\n",
       "      <td>0</td>\n",
       "      <td>90916.04</td>\n",
       "      <td>0</td>\n",
       "    </tr>\n",
       "    <tr>\n",
       "      <th>7055</th>\n",
       "      <td>217412</td>\n",
       "      <td>879.0</td>\n",
       "      <td>Рыбинск</td>\n",
       "      <td>М</td>\n",
       "      <td>42.0</td>\n",
       "      <td>5</td>\n",
       "      <td>568140.15</td>\n",
       "      <td>3</td>\n",
       "      <td>0</td>\n",
       "      <td>0</td>\n",
       "      <td>231658.67</td>\n",
       "      <td>1</td>\n",
       "    </tr>\n",
       "    <tr>\n",
       "      <th>9175</th>\n",
       "      <td>200863</td>\n",
       "      <td>832.0</td>\n",
       "      <td>Ярославль</td>\n",
       "      <td>М</td>\n",
       "      <td>42.0</td>\n",
       "      <td>5</td>\n",
       "      <td>620064.73</td>\n",
       "      <td>2</td>\n",
       "      <td>0</td>\n",
       "      <td>0</td>\n",
       "      <td>188054.46</td>\n",
       "      <td>0</td>\n",
       "    </tr>\n",
       "    <tr>\n",
       "      <th>4611</th>\n",
       "      <td>217619</td>\n",
       "      <td>903.0</td>\n",
       "      <td>Рыбинск</td>\n",
       "      <td>Ж</td>\n",
       "      <td>59.0</td>\n",
       "      <td>5</td>\n",
       "      <td>844055.83</td>\n",
       "      <td>2</td>\n",
       "      <td>0</td>\n",
       "      <td>1</td>\n",
       "      <td>133999.76</td>\n",
       "      <td>1</td>\n",
       "    </tr>\n",
       "    <tr>\n",
       "      <th>9035</th>\n",
       "      <td>200863</td>\n",
       "      <td>933.0</td>\n",
       "      <td>Рыбинск</td>\n",
       "      <td>М</td>\n",
       "      <td>29.0</td>\n",
       "      <td>7</td>\n",
       "      <td>766924.56</td>\n",
       "      <td>2</td>\n",
       "      <td>0</td>\n",
       "      <td>1</td>\n",
       "      <td>89323.33</td>\n",
       "      <td>1</td>\n",
       "    </tr>\n",
       "    <tr>\n",
       "      <th>8205</th>\n",
       "      <td>227795</td>\n",
       "      <td>840.0</td>\n",
       "      <td>Рыбинск</td>\n",
       "      <td>М</td>\n",
       "      <td>34.0</td>\n",
       "      <td>2</td>\n",
       "      <td>350768.03</td>\n",
       "      <td>1</td>\n",
       "      <td>1</td>\n",
       "      <td>0</td>\n",
       "      <td>102036.14</td>\n",
       "      <td>1</td>\n",
       "    </tr>\n",
       "    <tr>\n",
       "      <th>7487</th>\n",
       "      <td>140377</td>\n",
       "      <td>930.0</td>\n",
       "      <td>Рыбинск</td>\n",
       "      <td>Ж</td>\n",
       "      <td>34.0</td>\n",
       "      <td>5</td>\n",
       "      <td>1123967.02</td>\n",
       "      <td>1</td>\n",
       "      <td>1</td>\n",
       "      <td>1</td>\n",
       "      <td>148336.26</td>\n",
       "      <td>0</td>\n",
       "    </tr>\n",
       "    <tr>\n",
       "      <th>3274</th>\n",
       "      <td>155765</td>\n",
       "      <td>863.0</td>\n",
       "      <td>Ярославль</td>\n",
       "      <td>М</td>\n",
       "      <td>30.0</td>\n",
       "      <td>5</td>\n",
       "      <td>1036114.50</td>\n",
       "      <td>5</td>\n",
       "      <td>1</td>\n",
       "      <td>1</td>\n",
       "      <td>150744.50</td>\n",
       "      <td>1</td>\n",
       "    </tr>\n",
       "    <tr>\n",
       "      <th>2989</th>\n",
       "      <td>181526</td>\n",
       "      <td>918.0</td>\n",
       "      <td>Ярославль</td>\n",
       "      <td>Ж</td>\n",
       "      <td>37.0</td>\n",
       "      <td>5</td>\n",
       "      <td>1366382.35</td>\n",
       "      <td>4</td>\n",
       "      <td>1</td>\n",
       "      <td>1</td>\n",
       "      <td>97932.95</td>\n",
       "      <td>1</td>\n",
       "    </tr>\n",
       "  </tbody>\n",
       "</table>\n",
       "</div>"
      ],
      "text/plain": [
       "      user_id  score       city gender   age  equity     balance  products  \\\n",
       "869    210662  962.0  Ярославль      Ж  54.0       5  5069231.39         1   \n",
       "1837   210662  896.0    Рыбинск      Ж  37.0       0         NaN         2   \n",
       "7055   217412  879.0    Рыбинск      М  42.0       5   568140.15         3   \n",
       "9175   200863  832.0  Ярославль      М  42.0       5   620064.73         2   \n",
       "4611   217619  903.0    Рыбинск      Ж  59.0       5   844055.83         2   \n",
       "9035   200863  933.0    Рыбинск      М  29.0       7   766924.56         2   \n",
       "8205   227795  840.0    Рыбинск      М  34.0       2   350768.03         1   \n",
       "7487   140377  930.0    Рыбинск      Ж  34.0       5  1123967.02         1   \n",
       "3274   155765  863.0  Ярославль      М  30.0       5  1036114.50         5   \n",
       "2989   181526  918.0  Ярославль      Ж  37.0       5  1366382.35         4   \n",
       "\n",
       "      credit_card  last_activity  est_salary  churn  \n",
       "869             1              1   955144.85      1  \n",
       "1837            0              0    90916.04      0  \n",
       "7055            0              0   231658.67      1  \n",
       "9175            0              0   188054.46      0  \n",
       "4611            0              1   133999.76      1  \n",
       "9035            0              1    89323.33      1  \n",
       "8205            1              0   102036.14      1  \n",
       "7487            1              1   148336.26      0  \n",
       "3274            1              1   150744.50      1  \n",
       "2989            1              1    97932.95      1  "
      ]
     },
     "execution_count": 27,
     "metadata": {},
     "output_type": "execute_result"
    }
   ],
   "source": [
    "(data[data['user_id'].duplicated(keep=False)].sort_values('user_id')).sample(10)"
   ]
  },
  {
   "cell_type": "code",
   "execution_count": 28,
   "metadata": {},
   "outputs": [
    {
     "name": "stdout",
     "output_type": "stream",
     "text": [
      "Всего дубликатов по user_id: 100\n"
     ]
    }
   ],
   "source": [
    "print('Всего дубликатов по user_id:',(data[data['user_id'].duplicated(keep=False)].sort_values('user_id')).shape[0])"
   ]
  },
  {
   "cell_type": "markdown",
   "metadata": {},
   "source": [
    "Всего в данных по столбу \"user_id\" - 146. Визуально зависимости дубликатов не обнаружены. Необходимо продолжить изучение этих дубликатов.\n",
    "\n",
    "Проверим, что данный ID принадлежит одному и тому же пользователю, у такого пользователя должен быть одинаковый возраст и гендер (не учитываем город, так как клиент может переехать):"
   ]
  },
  {
   "cell_type": "code",
   "execution_count": 29,
   "metadata": {},
   "outputs": [
    {
     "data": {
      "text/html": [
       "<div>\n",
       "<style scoped>\n",
       "    .dataframe tbody tr th:only-of-type {\n",
       "        vertical-align: middle;\n",
       "    }\n",
       "\n",
       "    .dataframe tbody tr th {\n",
       "        vertical-align: top;\n",
       "    }\n",
       "\n",
       "    .dataframe thead th {\n",
       "        text-align: right;\n",
       "    }\n",
       "</style>\n",
       "<table border=\"1\" class=\"dataframe\">\n",
       "  <thead>\n",
       "    <tr style=\"text-align: right;\">\n",
       "      <th></th>\n",
       "      <th>user_id</th>\n",
       "      <th>score</th>\n",
       "      <th>city</th>\n",
       "      <th>gender</th>\n",
       "      <th>age</th>\n",
       "      <th>equity</th>\n",
       "      <th>balance</th>\n",
       "      <th>products</th>\n",
       "      <th>credit_card</th>\n",
       "      <th>last_activity</th>\n",
       "      <th>est_salary</th>\n",
       "      <th>churn</th>\n",
       "    </tr>\n",
       "  </thead>\n",
       "  <tbody>\n",
       "    <tr>\n",
       "      <th>3274</th>\n",
       "      <td>155765</td>\n",
       "      <td>863.0</td>\n",
       "      <td>Ярославль</td>\n",
       "      <td>М</td>\n",
       "      <td>30.0</td>\n",
       "      <td>5</td>\n",
       "      <td>1036114.50</td>\n",
       "      <td>5</td>\n",
       "      <td>1</td>\n",
       "      <td>1</td>\n",
       "      <td>150744.50</td>\n",
       "      <td>1</td>\n",
       "    </tr>\n",
       "    <tr>\n",
       "      <th>5197</th>\n",
       "      <td>155765</td>\n",
       "      <td>923.0</td>\n",
       "      <td>Рыбинск</td>\n",
       "      <td>М</td>\n",
       "      <td>30.0</td>\n",
       "      <td>0</td>\n",
       "      <td>NaN</td>\n",
       "      <td>1</td>\n",
       "      <td>1</td>\n",
       "      <td>1</td>\n",
       "      <td>120296.60</td>\n",
       "      <td>0</td>\n",
       "    </tr>\n",
       "    <tr>\n",
       "      <th>8205</th>\n",
       "      <td>227795</td>\n",
       "      <td>840.0</td>\n",
       "      <td>Рыбинск</td>\n",
       "      <td>М</td>\n",
       "      <td>34.0</td>\n",
       "      <td>2</td>\n",
       "      <td>350768.03</td>\n",
       "      <td>1</td>\n",
       "      <td>1</td>\n",
       "      <td>0</td>\n",
       "      <td>102036.14</td>\n",
       "      <td>1</td>\n",
       "    </tr>\n",
       "    <tr>\n",
       "      <th>8497</th>\n",
       "      <td>227795</td>\n",
       "      <td>839.0</td>\n",
       "      <td>Ярославль</td>\n",
       "      <td>М</td>\n",
       "      <td>34.0</td>\n",
       "      <td>2</td>\n",
       "      <td>326593.14</td>\n",
       "      <td>2</td>\n",
       "      <td>1</td>\n",
       "      <td>0</td>\n",
       "      <td>103314.92</td>\n",
       "      <td>0</td>\n",
       "    </tr>\n",
       "  </tbody>\n",
       "</table>\n",
       "</div>"
      ],
      "text/plain": [
       "      user_id  score       city gender   age  equity     balance  products  \\\n",
       "3274   155765  863.0  Ярославль      М  30.0       5  1036114.50         5   \n",
       "5197   155765  923.0    Рыбинск      М  30.0       0         NaN         1   \n",
       "8205   227795  840.0    Рыбинск      М  34.0       2   350768.03         1   \n",
       "8497   227795  839.0  Ярославль      М  34.0       2   326593.14         2   \n",
       "\n",
       "      credit_card  last_activity  est_salary  churn  \n",
       "3274            1              1   150744.50      1  \n",
       "5197            1              1   120296.60      0  \n",
       "8205            1              0   102036.14      1  \n",
       "8497            1              0   103314.92      0  "
      ]
     },
     "execution_count": 29,
     "metadata": {},
     "output_type": "execute_result"
    }
   ],
   "source": [
    "data[data[['user_id', 'age', 'gender']].duplicated(keep=False)].sort_values('user_id')"
   ]
  },
  {
   "cell_type": "markdown",
   "metadata": {},
   "source": [
    "Да, вероятность того что это одни и теже пользователи велика, по столбцу churn - видно, что пользователь ушел из банка в одном городе и перевелся в другой. Так как дальше мы будем исследовать пользователей оттока, то не будем убирать этих пользователей, так как они не повлияют на дальнейший анализ данных.\n",
    "\n",
    "Так же предположим, что ID банков могут пересекаться в зависомости от расположения города, следовательно не может быть пересечений по ID и городу, проверим:"
   ]
  },
  {
   "cell_type": "code",
   "execution_count": 30,
   "metadata": {},
   "outputs": [
    {
     "data": {
      "text/html": [
       "<div>\n",
       "<style scoped>\n",
       "    .dataframe tbody tr th:only-of-type {\n",
       "        vertical-align: middle;\n",
       "    }\n",
       "\n",
       "    .dataframe tbody tr th {\n",
       "        vertical-align: top;\n",
       "    }\n",
       "\n",
       "    .dataframe thead th {\n",
       "        text-align: right;\n",
       "    }\n",
       "</style>\n",
       "<table border=\"1\" class=\"dataframe\">\n",
       "  <thead>\n",
       "    <tr style=\"text-align: right;\">\n",
       "      <th></th>\n",
       "      <th>user_id</th>\n",
       "      <th>score</th>\n",
       "      <th>city</th>\n",
       "      <th>gender</th>\n",
       "      <th>age</th>\n",
       "      <th>equity</th>\n",
       "      <th>balance</th>\n",
       "      <th>products</th>\n",
       "      <th>credit_card</th>\n",
       "      <th>last_activity</th>\n",
       "      <th>est_salary</th>\n",
       "      <th>churn</th>\n",
       "    </tr>\n",
       "  </thead>\n",
       "  <tbody>\n",
       "  </tbody>\n",
       "</table>\n",
       "</div>"
      ],
      "text/plain": [
       "Empty DataFrame\n",
       "Columns: [user_id, score, city, gender, age, equity, balance, products, credit_card, last_activity, est_salary, churn]\n",
       "Index: []"
      ]
     },
     "execution_count": 30,
     "metadata": {},
     "output_type": "execute_result"
    }
   ],
   "source": [
    "data[data[['user_id', 'churn']].duplicated(keep=False)].sort_values('user_id').head()"
   ]
  },
  {
   "cell_type": "markdown",
   "metadata": {},
   "source": [
    "Видно, что пользователи разных городов могут иметь разный город, при этом являются пользователями банка."
   ]
  },
  {
   "cell_type": "code",
   "execution_count": 31,
   "metadata": {},
   "outputs": [
    {
     "name": "stdout",
     "output_type": "stream",
     "text": [
      "Количество дубликатов по ID и городу: 0\n"
     ]
    }
   ],
   "source": [
    "print('Количество дубликатов по ID и городу:', data[['user_id', 'city']].duplicated().sum())"
   ]
  },
  {
   "cell_type": "markdown",
   "metadata": {},
   "source": [
    "#### Вывод:\n",
    "\n",
    "Дубликаты по user_id возникают по причине того, что банки в разных городах, могут иметь одинаковые user_id. Таким образом оставим наши данные в таблице и не будем удалять."
   ]
  },
  {
   "cell_type": "markdown",
   "metadata": {},
   "source": [
    "### Преобразум данные в нужные типы"
   ]
  },
  {
   "cell_type": "markdown",
   "metadata": {},
   "source": [
    "Для наглядности выведем данные снова"
   ]
  },
  {
   "cell_type": "code",
   "execution_count": 32,
   "metadata": {},
   "outputs": [
    {
     "data": {
      "text/html": [
       "<div>\n",
       "<style scoped>\n",
       "    .dataframe tbody tr th:only-of-type {\n",
       "        vertical-align: middle;\n",
       "    }\n",
       "\n",
       "    .dataframe tbody tr th {\n",
       "        vertical-align: top;\n",
       "    }\n",
       "\n",
       "    .dataframe thead th {\n",
       "        text-align: right;\n",
       "    }\n",
       "</style>\n",
       "<table border=\"1\" class=\"dataframe\">\n",
       "  <thead>\n",
       "    <tr style=\"text-align: right;\">\n",
       "      <th></th>\n",
       "      <th>user_id</th>\n",
       "      <th>score</th>\n",
       "      <th>city</th>\n",
       "      <th>gender</th>\n",
       "      <th>age</th>\n",
       "      <th>equity</th>\n",
       "      <th>balance</th>\n",
       "      <th>products</th>\n",
       "      <th>credit_card</th>\n",
       "      <th>last_activity</th>\n",
       "      <th>est_salary</th>\n",
       "      <th>churn</th>\n",
       "    </tr>\n",
       "  </thead>\n",
       "  <tbody>\n",
       "    <tr>\n",
       "      <th>0</th>\n",
       "      <td>183012</td>\n",
       "      <td>850.0</td>\n",
       "      <td>Рыбинск</td>\n",
       "      <td>Ж</td>\n",
       "      <td>25.0</td>\n",
       "      <td>1</td>\n",
       "      <td>59214.82</td>\n",
       "      <td>2</td>\n",
       "      <td>0</td>\n",
       "      <td>1</td>\n",
       "      <td>75719.14</td>\n",
       "      <td>1</td>\n",
       "    </tr>\n",
       "    <tr>\n",
       "      <th>1</th>\n",
       "      <td>146556</td>\n",
       "      <td>861.0</td>\n",
       "      <td>Рыбинск</td>\n",
       "      <td>Ж</td>\n",
       "      <td>37.0</td>\n",
       "      <td>5</td>\n",
       "      <td>850594.33</td>\n",
       "      <td>3</td>\n",
       "      <td>1</td>\n",
       "      <td>0</td>\n",
       "      <td>86621.77</td>\n",
       "      <td>0</td>\n",
       "    </tr>\n",
       "    <tr>\n",
       "      <th>2</th>\n",
       "      <td>120722</td>\n",
       "      <td>892.0</td>\n",
       "      <td>Рыбинск</td>\n",
       "      <td>Ж</td>\n",
       "      <td>30.0</td>\n",
       "      <td>0</td>\n",
       "      <td>NaN</td>\n",
       "      <td>1</td>\n",
       "      <td>1</td>\n",
       "      <td>1</td>\n",
       "      <td>107683.34</td>\n",
       "      <td>0</td>\n",
       "    </tr>\n",
       "    <tr>\n",
       "      <th>3</th>\n",
       "      <td>225363</td>\n",
       "      <td>866.0</td>\n",
       "      <td>Ярославль</td>\n",
       "      <td>Ж</td>\n",
       "      <td>51.0</td>\n",
       "      <td>5</td>\n",
       "      <td>1524746.26</td>\n",
       "      <td>2</td>\n",
       "      <td>0</td>\n",
       "      <td>1</td>\n",
       "      <td>174423.53</td>\n",
       "      <td>1</td>\n",
       "    </tr>\n",
       "    <tr>\n",
       "      <th>4</th>\n",
       "      <td>157978</td>\n",
       "      <td>730.0</td>\n",
       "      <td>Ярославль</td>\n",
       "      <td>М</td>\n",
       "      <td>34.0</td>\n",
       "      <td>5</td>\n",
       "      <td>174.00</td>\n",
       "      <td>1</td>\n",
       "      <td>1</td>\n",
       "      <td>0</td>\n",
       "      <td>67353.16</td>\n",
       "      <td>1</td>\n",
       "    </tr>\n",
       "  </tbody>\n",
       "</table>\n",
       "</div>"
      ],
      "text/plain": [
       "   user_id  score       city gender   age  equity     balance  products  \\\n",
       "0   183012  850.0    Рыбинск      Ж  25.0       1    59214.82         2   \n",
       "1   146556  861.0    Рыбинск      Ж  37.0       5   850594.33         3   \n",
       "2   120722  892.0    Рыбинск      Ж  30.0       0         NaN         1   \n",
       "3   225363  866.0  Ярославль      Ж  51.0       5  1524746.26         2   \n",
       "4   157978  730.0  Ярославль      М  34.0       5      174.00         1   \n",
       "\n",
       "   credit_card  last_activity  est_salary  churn  \n",
       "0            0              1    75719.14      1  \n",
       "1            1              0    86621.77      0  \n",
       "2            1              1   107683.34      0  \n",
       "3            0              1   174423.53      1  \n",
       "4            1              0    67353.16      1  "
      ]
     },
     "execution_count": 32,
     "metadata": {},
     "output_type": "execute_result"
    }
   ],
   "source": [
    "data.head()"
   ]
  },
  {
   "cell_type": "code",
   "execution_count": 33,
   "metadata": {
    "scrolled": false
   },
   "outputs": [
    {
     "data": {
      "text/plain": [
       "user_id            int64\n",
       "score            float64\n",
       "city              object\n",
       "gender            object\n",
       "age              float64\n",
       "equity             int64\n",
       "balance          float64\n",
       "products           int64\n",
       "credit_card        int64\n",
       "last_activity      int64\n",
       "est_salary       float64\n",
       "churn              int64\n",
       "dtype: object"
      ]
     },
     "execution_count": 33,
     "metadata": {},
     "output_type": "execute_result"
    }
   ],
   "source": [
    "data.dtypes"
   ]
  },
  {
   "cell_type": "markdown",
   "metadata": {},
   "source": [
    "Приведем столбец score и age к типу int"
   ]
  },
  {
   "cell_type": "code",
   "execution_count": 34,
   "metadata": {},
   "outputs": [],
   "source": [
    "data = data.astype({'score' : 'int',\n",
    "                   'age' : 'int'})"
   ]
  },
  {
   "cell_type": "markdown",
   "metadata": {},
   "source": [
    "Проверим правильность изменения типа данных"
   ]
  },
  {
   "cell_type": "code",
   "execution_count": 35,
   "metadata": {
    "scrolled": true
   },
   "outputs": [
    {
     "data": {
      "text/plain": [
       "user_id            int64\n",
       "score              int64\n",
       "city              object\n",
       "gender            object\n",
       "age                int64\n",
       "equity             int64\n",
       "balance          float64\n",
       "products           int64\n",
       "credit_card        int64\n",
       "last_activity      int64\n",
       "est_salary       float64\n",
       "churn              int64\n",
       "dtype: object"
      ]
     },
     "execution_count": 35,
     "metadata": {},
     "output_type": "execute_result"
    }
   ],
   "source": [
    "data.dtypes"
   ]
  },
  {
   "cell_type": "markdown",
   "metadata": {},
   "source": [
    "#### Вывод: \n",
    "Данные корректно изменены"
   ]
  },
  {
   "cell_type": "markdown",
   "metadata": {},
   "source": [
    "<a id='section3'></a>\n",
    "## Исследовательский анализ данных (EDA)"
   ]
  },
  {
   "cell_type": "markdown",
   "metadata": {},
   "source": [
    "### Выяснить, данными скольки пользователей мы располагаем"
   ]
  },
  {
   "cell_type": "markdown",
   "metadata": {},
   "source": [
    "Рассмотрим распределение пользователей не зависимо от оттока"
   ]
  },
  {
   "cell_type": "code",
   "execution_count": 36,
   "metadata": {},
   "outputs": [
    {
     "data": {
      "text/html": [
       "<div>\n",
       "<style scoped>\n",
       "    .dataframe tbody tr th:only-of-type {\n",
       "        vertical-align: middle;\n",
       "    }\n",
       "\n",
       "    .dataframe tbody tr th {\n",
       "        vertical-align: top;\n",
       "    }\n",
       "\n",
       "    .dataframe thead th {\n",
       "        text-align: right;\n",
       "    }\n",
       "</style>\n",
       "<table border=\"1\" class=\"dataframe\">\n",
       "  <thead>\n",
       "    <tr style=\"text-align: right;\">\n",
       "      <th></th>\n",
       "      <th>user_id</th>\n",
       "      <th>score</th>\n",
       "      <th>city</th>\n",
       "      <th>gender</th>\n",
       "      <th>age</th>\n",
       "      <th>equity</th>\n",
       "      <th>balance</th>\n",
       "      <th>products</th>\n",
       "      <th>credit_card</th>\n",
       "      <th>last_activity</th>\n",
       "      <th>est_salary</th>\n",
       "      <th>churn</th>\n",
       "    </tr>\n",
       "  </thead>\n",
       "  <tbody>\n",
       "    <tr>\n",
       "      <th>0</th>\n",
       "      <td>183012</td>\n",
       "      <td>850</td>\n",
       "      <td>Рыбинск</td>\n",
       "      <td>Ж</td>\n",
       "      <td>25</td>\n",
       "      <td>1</td>\n",
       "      <td>59214.82</td>\n",
       "      <td>2</td>\n",
       "      <td>0</td>\n",
       "      <td>1</td>\n",
       "      <td>75719.14</td>\n",
       "      <td>1</td>\n",
       "    </tr>\n",
       "    <tr>\n",
       "      <th>1</th>\n",
       "      <td>146556</td>\n",
       "      <td>861</td>\n",
       "      <td>Рыбинск</td>\n",
       "      <td>Ж</td>\n",
       "      <td>37</td>\n",
       "      <td>5</td>\n",
       "      <td>850594.33</td>\n",
       "      <td>3</td>\n",
       "      <td>1</td>\n",
       "      <td>0</td>\n",
       "      <td>86621.77</td>\n",
       "      <td>0</td>\n",
       "    </tr>\n",
       "    <tr>\n",
       "      <th>2</th>\n",
       "      <td>120722</td>\n",
       "      <td>892</td>\n",
       "      <td>Рыбинск</td>\n",
       "      <td>Ж</td>\n",
       "      <td>30</td>\n",
       "      <td>0</td>\n",
       "      <td>NaN</td>\n",
       "      <td>1</td>\n",
       "      <td>1</td>\n",
       "      <td>1</td>\n",
       "      <td>107683.34</td>\n",
       "      <td>0</td>\n",
       "    </tr>\n",
       "    <tr>\n",
       "      <th>3</th>\n",
       "      <td>225363</td>\n",
       "      <td>866</td>\n",
       "      <td>Ярославль</td>\n",
       "      <td>Ж</td>\n",
       "      <td>51</td>\n",
       "      <td>5</td>\n",
       "      <td>1524746.26</td>\n",
       "      <td>2</td>\n",
       "      <td>0</td>\n",
       "      <td>1</td>\n",
       "      <td>174423.53</td>\n",
       "      <td>1</td>\n",
       "    </tr>\n",
       "    <tr>\n",
       "      <th>4</th>\n",
       "      <td>157978</td>\n",
       "      <td>730</td>\n",
       "      <td>Ярославль</td>\n",
       "      <td>М</td>\n",
       "      <td>34</td>\n",
       "      <td>5</td>\n",
       "      <td>174.00</td>\n",
       "      <td>1</td>\n",
       "      <td>1</td>\n",
       "      <td>0</td>\n",
       "      <td>67353.16</td>\n",
       "      <td>1</td>\n",
       "    </tr>\n",
       "  </tbody>\n",
       "</table>\n",
       "</div>"
      ],
      "text/plain": [
       "   user_id  score       city gender  age  equity     balance  products  \\\n",
       "0   183012    850    Рыбинск      Ж   25       1    59214.82         2   \n",
       "1   146556    861    Рыбинск      Ж   37       5   850594.33         3   \n",
       "2   120722    892    Рыбинск      Ж   30       0         NaN         1   \n",
       "3   225363    866  Ярославль      Ж   51       5  1524746.26         2   \n",
       "4   157978    730  Ярославль      М   34       5      174.00         1   \n",
       "\n",
       "   credit_card  last_activity  est_salary  churn  \n",
       "0            0              1    75719.14      1  \n",
       "1            1              0    86621.77      0  \n",
       "2            1              1   107683.34      0  \n",
       "3            0              1   174423.53      1  \n",
       "4            1              0    67353.16      1  "
      ]
     },
     "execution_count": 36,
     "metadata": {},
     "output_type": "execute_result"
    }
   ],
   "source": [
    "data.head()"
   ]
  },
  {
   "cell_type": "markdown",
   "metadata": {},
   "source": [
    "Рассмотрим количество пользователей по городам:"
   ]
  },
  {
   "cell_type": "code",
   "execution_count": 37,
   "metadata": {},
   "outputs": [
    {
     "name": "stdout",
     "output_type": "stream",
     "text": [
      "Количество пользователей в Рыбинск: 2682\n",
      "Количество пользователей в Ярославль: 5875\n",
      "Количество пользователей в Ростов: 1416\n"
     ]
    }
   ],
   "source": [
    "cities = data['city'].unique()\n",
    "city_clients = {}\n",
    "for city in cities:\n",
    "    city_clients = data[data['city'] == city].shape[0]\n",
    "    print(f'Количество пользователей в {city}: {city_clients}')"
   ]
  },
  {
   "cell_type": "markdown",
   "metadata": {},
   "source": [
    "Пользователей в Ярославле значительно больше чем в остальных городах, затем идет Рыбинск и потом Ростов"
   ]
  },
  {
   "cell_type": "markdown",
   "metadata": {},
   "source": [
    "Рассмотрим количество пользователей по гендеру:"
   ]
  },
  {
   "cell_type": "code",
   "execution_count": 38,
   "metadata": {},
   "outputs": [
    {
     "name": "stdout",
     "output_type": "stream",
     "text": [
      "Количество пользователей в Ж: 4982\n",
      "Количество пользователей в М: 4991\n"
     ]
    }
   ],
   "source": [
    "genders = data['gender'].unique()\n",
    "gender_clients = 0\n",
    "for gender in genders:\n",
    "    gender_clients = data[data['gender'] == gender].shape[0]\n",
    "    print(f'Количество пользователей в {gender}: {gender_clients}')"
   ]
  },
  {
   "cell_type": "markdown",
   "metadata": {},
   "source": [
    "Пользователи распределились практически одинакого по гендеру"
   ]
  },
  {
   "cell_type": "code",
   "execution_count": 39,
   "metadata": {},
   "outputs": [
    {
     "name": "stdout",
     "output_type": "stream",
     "text": [
      "Всего представленно: 9973 данных среди всех пользователей, без учета оттока\n"
     ]
    }
   ],
   "source": [
    "print('Всего представленно:', data.shape[0], 'данных среди всех пользователей, без учета оттока')"
   ]
  },
  {
   "cell_type": "markdown",
   "metadata": {},
   "source": [
    "### Сделать срез по клиентам, которые ушли (churn = 1). Много ли пользователей мы потеряли, отбросив оставшихся клиентов?"
   ]
  },
  {
   "cell_type": "markdown",
   "metadata": {},
   "source": [
    "<a id='отссылка3'></a>Создадим два новых датасета, где разделим пользователей по категориям оттока"
   ]
  },
  {
   "cell_type": "code",
   "execution_count": 40,
   "metadata": {},
   "outputs": [],
   "source": [
    "# клиенты оттока\n",
    "churn_clients = data[data['churn'] == 1]"
   ]
  },
  {
   "cell_type": "code",
   "execution_count": 41,
   "metadata": {},
   "outputs": [
    {
     "name": "stdout",
     "output_type": "stream",
     "text": [
      "Количество таких пользователей: 1818\n"
     ]
    }
   ],
   "source": [
    "print('Количество таких пользователей:', churn_clients.shape[0])"
   ]
  },
  {
   "cell_type": "code",
   "execution_count": 42,
   "metadata": {},
   "outputs": [],
   "source": [
    "# лояльные клиенты\n",
    "loyalty_clients = data[data['churn'] == 0]"
   ]
  },
  {
   "cell_type": "code",
   "execution_count": 43,
   "metadata": {},
   "outputs": [
    {
     "name": "stdout",
     "output_type": "stream",
     "text": [
      "Количество таких пользователей: 8155\n"
     ]
    }
   ],
   "source": [
    "print('Количество таких пользователей:', loyalty_clients.shape[0])"
   ]
  },
  {
   "cell_type": "code",
   "execution_count": 44,
   "metadata": {},
   "outputs": [
    {
     "name": "stdout",
     "output_type": "stream",
     "text": [
      "Доля пользователей которых мы потеряли равна: 18.0 %\n"
     ]
    }
   ],
   "source": [
    "print('Доля пользователей которых мы потеряли равна:', round(churn_clients.shape[0] / data.shape[0], 2) * 100, '%')"
   ]
  },
  {
   "cell_type": "markdown",
   "metadata": {},
   "source": [
    "Рассмотрим количество ушедших пользователей по городам :"
   ]
  },
  {
   "cell_type": "code",
   "execution_count": 45,
   "metadata": {},
   "outputs": [
    {
     "name": "stdout",
     "output_type": "stream",
     "text": [
      "Количество пользователей в Рыбинск: 436\n",
      "Количество пользователей в Ярославль: 1117\n",
      "Количество пользователей в Ростов: 265\n"
     ]
    }
   ],
   "source": [
    "cities_churn = churn_clients['city'].unique()\n",
    "city_clients = {}\n",
    "for city in cities:\n",
    "    city_clients = churn_clients[churn_clients['city'] == city].shape[0]\n",
    "    print(f'Количество пользователей в {city}: {city_clients}')"
   ]
  },
  {
   "cell_type": "markdown",
   "metadata": {},
   "source": [
    "Рассмотрим количество ушедших пользователей по гендерному распределению :"
   ]
  },
  {
   "cell_type": "code",
   "execution_count": 46,
   "metadata": {},
   "outputs": [
    {
     "name": "stdout",
     "output_type": "stream",
     "text": [
      "Количество пользователей в Ж: 635\n",
      "Количество пользователей в М: 1183\n"
     ]
    }
   ],
   "source": [
    "genders_churn = churn_clients['gender'].unique()\n",
    "gender_clients = 0\n",
    "for gender in genders:\n",
    "    gender_clients = churn_clients[churn_clients['gender'] == gender].shape[0]\n",
    "    print(f'Количество пользователей в {gender}: {gender_clients}')"
   ]
  },
  {
   "cell_type": "markdown",
   "metadata": {},
   "source": [
    "#### Вывод: \n",
    "- Судя по полученным данным, отток банка равен 18%\n",
    "- Среди ушедших клиентов распределения по городам такие же как и у оставшихся клиентов\n",
    "- Среди ушедших клиентов почти в два раза больше мужчин, а среди общих данных их поровну"
   ]
  },
  {
   "cell_type": "markdown",
   "metadata": {},
   "source": [
    "### Провести анализ распределения признаков в разрезе оттока для непрерывных и категориальных признаков:"
   ]
  },
  {
   "cell_type": "markdown",
   "metadata": {},
   "source": [
    "Напишем функцию для построения графиков:"
   ]
  },
  {
   "cell_type": "code",
   "execution_count": 47,
   "metadata": {},
   "outputs": [],
   "source": [
    "def plotting(value, bins, name):\n",
    "    plt.figure(figsize=(20, 10))\n",
    "    \n",
    "    # боксплот\n",
    "    sns.boxplot(y=value, \n",
    "                data=data, \n",
    "                palette='muted',\n",
    "                ax=plt.subplot(1, 2, 1))\n",
    "    plt.grid(True)\n",
    "    plt.title(f'Боксплот для {value}')\n",
    "    plt.xlabel(name)\n",
    "    plt.ylabel('Значение')\n",
    "\n",
    "    # гистограмма\n",
    "    sns.histplot(data=data, \n",
    "                 x=value, \n",
    "                 hue='churn', \n",
    "                 stat='density', \n",
    "                 common_norm=False,\n",
    "                 alpha=0.5, \n",
    "                 bins=bins, \n",
    "                 color='skyblue',\n",
    "                 ax=plt.subplot(1, 2, 2))\n",
    "    plt.title(f'Гистограмма для {value}')\n",
    "    plt.xlabel(name)\n",
    "    plt.ylabel('Плотность')\n",
    "    plt.grid(True)\n",
    "    plt.legend(title='Churn', labels=['Ушел', 'Не ушел'])\n",
    "    \n",
    "    plt.tight_layout()  \n",
    "    plt.show()"
   ]
  },
  {
   "cell_type": "code",
   "execution_count": 48,
   "metadata": {
    "scrolled": false
   },
   "outputs": [
    {
     "data": {
      "image/png": "[encoded data removed]",
      "text/plain": [
       "<Figure size 1440x720 with 2 Axes>"
      ]
     },
     "metadata": {
      "needs_background": "light"
     },
     "output_type": "display_data"
    }
   ],
   "source": [
    "# графики для столбца score\n",
    "plotting('score', 30, 'Баллы кредитного скоринга')"
   ]
  },
  {
   "cell_type": "markdown",
   "metadata": {},
   "source": [
    "Видно, что отток клиентов чаще происходил с баллами 830 - 900. Аномальными считаются значения меньше 660 баллов. Медианное значение 860"
   ]
  },
  {
   "cell_type": "code",
   "execution_count": 49,
   "metadata": {},
   "outputs": [
    {
     "data": {
      "image/png": "[encoded data removed]",
      "text/plain": [
       "<Figure size 1440x720 with 2 Axes>"
      ]
     },
     "metadata": {
      "needs_background": "light"
     },
     "output_type": "display_data"
    }
   ],
   "source": [
    "# графики для столбца age\n",
    "plotting('age', 69, 'Возраст клиентов')"
   ]
  },
  {
   "cell_type": "markdown",
   "metadata": {},
   "source": [
    "Медианное значение возраста клиентов - 40 лет. Пользователи старше 78 лет считаются аномальными. По гистограмме оставшихся клиентов видно пиковое значение - 33-35 лет. Если смотреть на гистограмму ушедших клиентов, то видно два пика первый так же 33-37 лет, второе значение 50 - 52 года. "
   ]
  },
  {
   "cell_type": "markdown",
   "metadata": {},
   "source": [
    "Скорректируем функцию, для еще двух значений: est_salary и balance, так как там необходимо установить ограничение по оси Y"
   ]
  },
  {
   "cell_type": "code",
   "execution_count": 50,
   "metadata": {},
   "outputs": [],
   "source": [
    "def plotting_lim(value, bins, name, one, two):\n",
    "    plt.figure(figsize=(20, 10))\n",
    "    \n",
    "    # боксплот\n",
    "    sns.boxplot(y=value, \n",
    "                data=data, \n",
    "                palette='muted',\n",
    "                ax=plt.subplot(1, 2, 1))\n",
    "    plt.grid(True)\n",
    "    plt.ylim(one, two)\n",
    "    plt.title(f'Боксплот для {value}')\n",
    "    plt.xlabel(name)\n",
    "    plt.ylabel('Значение')\n",
    "\n",
    "    # гистограмма\n",
    "    sns.histplot(data=data, \n",
    "                 x=value, \n",
    "                 hue='churn', \n",
    "                 stat='density', \n",
    "                 common_norm=False,\n",
    "                 alpha=0.5, \n",
    "                 bins=bins,  # Можно передать параметр для изменения количества бинов\n",
    "                 color='skyblue',\n",
    "                 ax=plt.subplot(1, 2, 2))\n",
    "    plt.title(f'Гистограмма для {value}')\n",
    "    plt.xlim(one, two)\n",
    "    plt.xlabel(name)\n",
    "    plt.ylabel('Плотность')\n",
    "    plt.grid(True)\n",
    "    plt.legend(title='Churn', labels=['Ушел', 'Не ушел'])\n",
    "    \n",
    "    plt.tight_layout()  # Убирает наложение графиков\n",
    "    plt.show()"
   ]
  },
  {
   "cell_type": "code",
   "execution_count": 51,
   "metadata": {},
   "outputs": [
    {
     "data": {
      "text/plain": [
       "count    7.695000e+03\n",
       "mean     8.272456e+05\n",
       "std      1.980327e+06\n",
       "min      0.000000e+00\n",
       "25%      2.956987e+05\n",
       "50%      5.242953e+05\n",
       "75%      9.800512e+05\n",
       "max      1.191136e+08\n",
       "Name: balance, dtype: float64"
      ]
     },
     "execution_count": 51,
     "metadata": {},
     "output_type": "execute_result"
    }
   ],
   "source": [
    "# вызовем discribibe для анализа значений\n",
    "data['balance'].describe()"
   ]
  },
  {
   "cell_type": "code",
   "execution_count": 52,
   "metadata": {},
   "outputs": [
    {
     "data": {
      "image/png": "[encoded data removed]",
      "text/plain": [
       "<Figure size 1440x720 with 2 Axes>"
      ]
     },
     "metadata": {
      "needs_background": "light"
     },
     "output_type": "display_data"
    }
   ],
   "source": [
    "# графики для столбца balance\n",
    "plotting_lim('balance', 1000, 'Баланс на счете', 0, 2500000)"
   ]
  },
  {
   "cell_type": "markdown",
   "metadata": {},
   "source": [
    "Медианное значение баланса клиентов - 520000. Аномальными являются значения более 2 млн. рублей. Отток клиентов преобладает у пользователей с балансом от 800 тысяч рублей и выше."
   ]
  },
  {
   "cell_type": "code",
   "execution_count": 53,
   "metadata": {},
   "outputs": [
    {
     "data": {
      "text/plain": [
       "count    9.973000e+03\n",
       "mean     1.477991e+05\n",
       "std      1.392871e+05\n",
       "min      2.546300e+03\n",
       "25%      7.525202e+04\n",
       "50%      1.196431e+05\n",
       "75%      1.745000e+05\n",
       "max      1.395064e+06\n",
       "Name: est_salary, dtype: float64"
      ]
     },
     "execution_count": 53,
     "metadata": {},
     "output_type": "execute_result"
    }
   ],
   "source": [
    "# вызовем discribibe для анализа значений\n",
    "data['est_salary'].describe()"
   ]
  },
  {
   "cell_type": "code",
   "execution_count": 54,
   "metadata": {},
   "outputs": [
    {
     "data": {
      "image/png": "[encoded data removed]",
      "text/plain": [
       "<Figure size 1440x720 with 2 Axes>"
      ]
     },
     "metadata": {
      "needs_background": "light"
     },
     "output_type": "display_data"
    }
   ],
   "source": [
    "# графики для столбца est_salary\n",
    "plotting_lim('est_salary', 50, 'Оценочный доход клиента', 0, 350000)"
   ]
  },
  {
   "cell_type": "markdown",
   "metadata": {},
   "source": [
    "Медианное значение оценочного дохода находится на уровне 150 тысяч рублей. Выбросами считаются значения более 320 тысяч. Отток клиентов преобладает при уровне дохода более 100 тысяч рублей."
   ]
  },
  {
   "cell_type": "markdown",
   "metadata": {},
   "source": [
    "Далее построим визуализации для категориальных признаков(города, гендерный признак, пользуется ли кредитной картой и активный пользователь). Ранее для них мы производили кодирование столбца \"gender\" и \"city\" и назвали DF - [data_encoded](#отссылка1)"
   ]
  },
  {
   "cell_type": "code",
   "execution_count": 55,
   "metadata": {},
   "outputs": [
    {
     "data": {
      "text/html": [
       "<div>\n",
       "<style scoped>\n",
       "    .dataframe tbody tr th:only-of-type {\n",
       "        vertical-align: middle;\n",
       "    }\n",
       "\n",
       "    .dataframe tbody tr th {\n",
       "        vertical-align: top;\n",
       "    }\n",
       "\n",
       "    .dataframe thead th {\n",
       "        text-align: right;\n",
       "    }\n",
       "</style>\n",
       "<table border=\"1\" class=\"dataframe\">\n",
       "  <thead>\n",
       "    <tr style=\"text-align: right;\">\n",
       "      <th></th>\n",
       "      <th>user_id</th>\n",
       "      <th>score</th>\n",
       "      <th>city</th>\n",
       "      <th>gender</th>\n",
       "      <th>age</th>\n",
       "      <th>equity</th>\n",
       "      <th>balance</th>\n",
       "      <th>products</th>\n",
       "      <th>credit_card</th>\n",
       "      <th>last_activity</th>\n",
       "      <th>est_salary</th>\n",
       "      <th>churn</th>\n",
       "      <th>gender_Ж</th>\n",
       "      <th>gender_М</th>\n",
       "      <th>city_Ростов</th>\n",
       "      <th>city_Рыбинск</th>\n",
       "      <th>city_Ярославль</th>\n",
       "    </tr>\n",
       "  </thead>\n",
       "  <tbody>\n",
       "    <tr>\n",
       "      <th>0</th>\n",
       "      <td>183012</td>\n",
       "      <td>850.0</td>\n",
       "      <td>Рыбинск</td>\n",
       "      <td>Ж</td>\n",
       "      <td>25.0</td>\n",
       "      <td>1</td>\n",
       "      <td>59214.82</td>\n",
       "      <td>2</td>\n",
       "      <td>0</td>\n",
       "      <td>1</td>\n",
       "      <td>75719.14</td>\n",
       "      <td>1</td>\n",
       "      <td>1</td>\n",
       "      <td>0</td>\n",
       "      <td>0</td>\n",
       "      <td>1</td>\n",
       "      <td>0</td>\n",
       "    </tr>\n",
       "    <tr>\n",
       "      <th>1</th>\n",
       "      <td>146556</td>\n",
       "      <td>861.0</td>\n",
       "      <td>Рыбинск</td>\n",
       "      <td>Ж</td>\n",
       "      <td>37.0</td>\n",
       "      <td>5</td>\n",
       "      <td>850594.33</td>\n",
       "      <td>3</td>\n",
       "      <td>1</td>\n",
       "      <td>0</td>\n",
       "      <td>86621.77</td>\n",
       "      <td>0</td>\n",
       "      <td>1</td>\n",
       "      <td>0</td>\n",
       "      <td>0</td>\n",
       "      <td>1</td>\n",
       "      <td>0</td>\n",
       "    </tr>\n",
       "    <tr>\n",
       "      <th>2</th>\n",
       "      <td>120722</td>\n",
       "      <td>892.0</td>\n",
       "      <td>Рыбинск</td>\n",
       "      <td>Ж</td>\n",
       "      <td>30.0</td>\n",
       "      <td>0</td>\n",
       "      <td>NaN</td>\n",
       "      <td>1</td>\n",
       "      <td>1</td>\n",
       "      <td>1</td>\n",
       "      <td>107683.34</td>\n",
       "      <td>0</td>\n",
       "      <td>1</td>\n",
       "      <td>0</td>\n",
       "      <td>0</td>\n",
       "      <td>1</td>\n",
       "      <td>0</td>\n",
       "    </tr>\n",
       "    <tr>\n",
       "      <th>3</th>\n",
       "      <td>225363</td>\n",
       "      <td>866.0</td>\n",
       "      <td>Ярославль</td>\n",
       "      <td>Ж</td>\n",
       "      <td>51.0</td>\n",
       "      <td>5</td>\n",
       "      <td>1524746.26</td>\n",
       "      <td>2</td>\n",
       "      <td>0</td>\n",
       "      <td>1</td>\n",
       "      <td>174423.53</td>\n",
       "      <td>1</td>\n",
       "      <td>1</td>\n",
       "      <td>0</td>\n",
       "      <td>0</td>\n",
       "      <td>0</td>\n",
       "      <td>1</td>\n",
       "    </tr>\n",
       "    <tr>\n",
       "      <th>4</th>\n",
       "      <td>157978</td>\n",
       "      <td>730.0</td>\n",
       "      <td>Ярославль</td>\n",
       "      <td>М</td>\n",
       "      <td>34.0</td>\n",
       "      <td>5</td>\n",
       "      <td>174.00</td>\n",
       "      <td>1</td>\n",
       "      <td>1</td>\n",
       "      <td>0</td>\n",
       "      <td>67353.16</td>\n",
       "      <td>1</td>\n",
       "      <td>0</td>\n",
       "      <td>1</td>\n",
       "      <td>0</td>\n",
       "      <td>0</td>\n",
       "      <td>1</td>\n",
       "    </tr>\n",
       "  </tbody>\n",
       "</table>\n",
       "</div>"
      ],
      "text/plain": [
       "   user_id  score       city gender   age  equity     balance  products  \\\n",
       "0   183012  850.0    Рыбинск      Ж  25.0       1    59214.82         2   \n",
       "1   146556  861.0    Рыбинск      Ж  37.0       5   850594.33         3   \n",
       "2   120722  892.0    Рыбинск      Ж  30.0       0         NaN         1   \n",
       "3   225363  866.0  Ярославль      Ж  51.0       5  1524746.26         2   \n",
       "4   157978  730.0  Ярославль      М  34.0       5      174.00         1   \n",
       "\n",
       "   credit_card  last_activity  est_salary  churn  gender_Ж  gender_М  \\\n",
       "0            0              1    75719.14      1         1         0   \n",
       "1            1              0    86621.77      0         1         0   \n",
       "2            1              1   107683.34      0         1         0   \n",
       "3            0              1   174423.53      1         1         0   \n",
       "4            1              0    67353.16      1         0         1   \n",
       "\n",
       "   city_Ростов  city_Рыбинск  city_Ярославль  \n",
       "0            0             1               0  \n",
       "1            0             1               0  \n",
       "2            0             1               0  \n",
       "3            0             0               1  \n",
       "4            0             0               1  "
      ]
     },
     "execution_count": 55,
     "metadata": {},
     "output_type": "execute_result"
    }
   ],
   "source": [
    "data_encoded.head()"
   ]
  },
  {
   "cell_type": "markdown",
   "metadata": {},
   "source": [
    "Напишем функцию для построения графика barplot по категориальным переменным:"
   ]
  },
  {
   "cell_type": "code",
   "execution_count": 56,
   "metadata": {},
   "outputs": [],
   "source": [
    "def categorical_graphs(value, name):\n",
    "    sns.barplot(x=value,\n",
    "            y='churn',\n",
    "            data=data_encoded\n",
    "           )\n",
    "    # Добавляем горизонтальную линию для среднего значения 'churn'\n",
    "    mean_churn = data_encoded['churn'].mean()\n",
    "    plt.axhline(mean_churn, color='red', linestyle='--', label='Среднее значение оттока')\n",
    "\n",
    "    plt.title(f'Отток клиентов в зависимости от {value}')\n",
    "    plt.ylabel('Отток клиентов')\n",
    "    plt.xlabel(name)\n",
    "    plt.grid(True)\n",
    "    plt.legend(title='Категория', loc='upper left')\n",
    "    plt.tight_layout()\n",
    "    plt.show();"
   ]
  },
  {
   "cell_type": "code",
   "execution_count": 57,
   "metadata": {
    "scrolled": false
   },
   "outputs": [
    {
     "data": {
      "image/png": "[encoded data removed]",
      "text/plain": [
       "<Figure size 864x576 with 1 Axes>"
      ]
     },
     "metadata": {
      "needs_background": "light"
     },
     "output_type": "display_data"
    }
   ],
   "source": [
    "plt.figure(figsize=(12, 8))\n",
    "categorical_graphs('city', 'Города')"
   ]
  },
  {
   "cell_type": "markdown",
   "metadata": {},
   "source": [
    "Отток клиентов из Ярославля и Ростова больше среднего уровня оттока по всем пользователям."
   ]
  },
  {
   "cell_type": "code",
   "execution_count": 58,
   "metadata": {
    "scrolled": false
   },
   "outputs": [
    {
     "data": {
      "image/png": "[encoded data removed]",
      "text/plain": [
       "<Figure size 864x576 with 1 Axes>"
      ]
     },
     "metadata": {
      "needs_background": "light"
     },
     "output_type": "display_data"
    }
   ],
   "source": [
    "plt.figure(figsize=(12, 8))\n",
    "categorical_graphs('equity', 'Количество баллов собственности')"
   ]
  },
  {
   "cell_type": "markdown",
   "metadata": {},
   "source": [
    "Отток клиентов превышает средний отток у пользователей с количеством баллов собственности от 3 и до 9"
   ]
  },
  {
   "cell_type": "markdown",
   "metadata": {},
   "source": [
    "<div class=\"alert alert-info\">\n",
    "<h2> Комментарий студента <a class=\"tocSkip\"> </h2>\n",
    "Построил график по equity\n",
    "</div>"
   ]
  },
  {
   "cell_type": "code",
   "execution_count": 59,
   "metadata": {
    "scrolled": false
   },
   "outputs": [
    {
     "data": {
      "image/png": "[encoded data removed]",
      "text/plain": [
       "<Figure size 864x576 with 1 Axes>"
      ]
     },
     "metadata": {
      "needs_background": "light"
     },
     "output_type": "display_data"
    }
   ],
   "source": [
    "plt.figure(figsize=(12, 8))\n",
    "categorical_graphs('products', 'Количество продуктов которыми пользуется клиент')"
   ]
  },
  {
   "cell_type": "markdown",
   "metadata": {},
   "source": [
    "Отток клиентов не превышает уровень среднего, только у пользователей с одним продуктом"
   ]
  },
  {
   "cell_type": "markdown",
   "metadata": {},
   "source": [
    "<div class=\"alert alert-info\">\n",
    "<h2> Комментарий студента <a class=\"tocSkip\"> </h2>\n",
    "Построил график по products. Обратил внимание на уникальные значения в столбце pdoructs, сделал сраз по продуктам на этапе предобработки, что бы данные больше не мешали.\n",
    "</div>"
   ]
  },
  {
   "cell_type": "code",
   "execution_count": 60,
   "metadata": {},
   "outputs": [
    {
     "data": {
      "image/png": "[encoded data removed]",
      "text/plain": [
       "<Figure size 720x432 with 1 Axes>"
      ]
     },
     "metadata": {
      "needs_background": "light"
     },
     "output_type": "display_data"
    }
   ],
   "source": [
    "plt.figure(figsize=(10, 6))\n",
    "categorical_graphs('gender', 'Пол')"
   ]
  },
  {
   "cell_type": "markdown",
   "metadata": {},
   "source": [
    "Мужчины чаще уходят из банка"
   ]
  },
  {
   "cell_type": "code",
   "execution_count": 61,
   "metadata": {},
   "outputs": [
    {
     "data": {
      "image/png": "[encoded data removed]",
      "text/plain": [
       "<Figure size 720x432 with 1 Axes>"
      ]
     },
     "metadata": {
      "needs_background": "light"
     },
     "output_type": "display_data"
    }
   ],
   "source": [
    "plt.figure(figsize=(10, 6))\n",
    "categorical_graphs('credit_card', 'Наличие кредитной карты')"
   ]
  },
  {
   "cell_type": "markdown",
   "metadata": {},
   "source": [
    "Пользователи без кредитной карты больше склонны к оттоку"
   ]
  },
  {
   "cell_type": "code",
   "execution_count": 62,
   "metadata": {
    "scrolled": false
   },
   "outputs": [
    {
     "data": {
      "image/png": "[encoded data removed]",
      "text/plain": [
       "<Figure size 720x432 with 1 Axes>"
      ]
     },
     "metadata": {
      "needs_background": "light"
     },
     "output_type": "display_data"
    }
   ],
   "source": [
    "plt.figure(figsize=(10, 6))\n",
    "categorical_graphs('last_activity', 'Активность клиента')"
   ]
  },
  {
   "cell_type": "markdown",
   "metadata": {},
   "source": [
    "Активные клиенты более склонны к оттоку"
   ]
  },
  {
   "cell_type": "markdown",
   "metadata": {},
   "source": [
    "### Портрет клиента"
   ]
  },
  {
   "cell_type": "markdown",
   "metadata": {},
   "source": [
    "Для построения портрета клиента, воспользуемся [функцией](#отссылка2) написаной ранее"
   ]
  },
  {
   "cell_type": "code",
   "execution_count": 63,
   "metadata": {},
   "outputs": [],
   "source": [
    "# найдем среднее у непрерывных признаков, медиану у признаков с выбросами и моду у категориальных\n",
    "clients_portrait = measure_central_trend(\n",
    "                      data, \n",
    "                      'churn', \n",
    "                      ['age', 'score', 'balance', 'est_salary'],\n",
    "                      'mean',\n",
    "                      ['balance', 'est_salary'],\n",
    "                      'median',\n",
    "                      ['city', 'gender', 'equity', 'products', 'credit_card', 'last_activity'],\n",
    "                      pd.Series.mode,\n",
    "                     )"
   ]
  },
  {
   "cell_type": "code",
   "execution_count": 64,
   "metadata": {},
   "outputs": [
    {
     "data": {
      "text/html": [
       "<div>\n",
       "<style scoped>\n",
       "    .dataframe tbody tr th:only-of-type {\n",
       "        vertical-align: middle;\n",
       "    }\n",
       "\n",
       "    .dataframe tbody tr th {\n",
       "        vertical-align: top;\n",
       "    }\n",
       "\n",
       "    .dataframe thead th {\n",
       "        text-align: right;\n",
       "    }\n",
       "</style>\n",
       "<table border=\"1\" class=\"dataframe\">\n",
       "  <thead>\n",
       "    <tr style=\"text-align: right;\">\n",
       "      <th></th>\n",
       "      <th>Признак</th>\n",
       "      <th>Отток</th>\n",
       "      <th>Не отток</th>\n",
       "      <th>Относительная разница %</th>\n",
       "    </tr>\n",
       "  </thead>\n",
       "  <tbody>\n",
       "    <tr>\n",
       "      <th>0</th>\n",
       "      <td>Средний возраст</td>\n",
       "      <td>43.0</td>\n",
       "      <td>41.0</td>\n",
       "      <td>4.76%</td>\n",
       "    </tr>\n",
       "    <tr>\n",
       "      <th>1</th>\n",
       "      <td>Средний баланс на счете</td>\n",
       "      <td>733032.0</td>\n",
       "      <td>1134458.0</td>\n",
       "      <td>42.99%</td>\n",
       "    </tr>\n",
       "    <tr>\n",
       "      <th>2</th>\n",
       "      <td>Средний доход клиента</td>\n",
       "      <td>147675.0</td>\n",
       "      <td>148357.0</td>\n",
       "      <td>0.46%</td>\n",
       "    </tr>\n",
       "    <tr>\n",
       "      <th>3</th>\n",
       "      <td>Средние баллы кредитного скоринга</td>\n",
       "      <td>845.0</td>\n",
       "      <td>863.0</td>\n",
       "      <td>2.11%</td>\n",
       "    </tr>\n",
       "    <tr>\n",
       "      <th>4</th>\n",
       "      <td>Медианный баланс на счете</td>\n",
       "      <td>475410.0</td>\n",
       "      <td>783909.0</td>\n",
       "      <td>NaN</td>\n",
       "    </tr>\n",
       "    <tr>\n",
       "      <th>5</th>\n",
       "      <td>Медианный доход клиента</td>\n",
       "      <td>118228.0</td>\n",
       "      <td>125409.0</td>\n",
       "      <td>NaN</td>\n",
       "    </tr>\n",
       "    <tr>\n",
       "      <th>6</th>\n",
       "      <td>Мода по городам</td>\n",
       "      <td>Ярославль</td>\n",
       "      <td>Ярославль</td>\n",
       "      <td>NaN</td>\n",
       "    </tr>\n",
       "    <tr>\n",
       "      <th>7</th>\n",
       "      <td>Мода по наличию кредитной карты</td>\n",
       "      <td>1</td>\n",
       "      <td>1</td>\n",
       "      <td>NaN</td>\n",
       "    </tr>\n",
       "    <tr>\n",
       "      <th>8</th>\n",
       "      <td>Мода по количеству баллов собственности</td>\n",
       "      <td>0</td>\n",
       "      <td>0</td>\n",
       "      <td>NaN</td>\n",
       "    </tr>\n",
       "    <tr>\n",
       "      <th>9</th>\n",
       "      <td>Мода по гендеру</td>\n",
       "      <td>М</td>\n",
       "      <td>М</td>\n",
       "      <td>NaN</td>\n",
       "    </tr>\n",
       "    <tr>\n",
       "      <th>10</th>\n",
       "      <td>Мода по активности</td>\n",
       "      <td>1</td>\n",
       "      <td>1</td>\n",
       "      <td>NaN</td>\n",
       "    </tr>\n",
       "    <tr>\n",
       "      <th>11</th>\n",
       "      <td>Мода по количеству продуктов</td>\n",
       "      <td>2</td>\n",
       "      <td>1</td>\n",
       "      <td>NaN</td>\n",
       "    </tr>\n",
       "  </tbody>\n",
       "</table>\n",
       "</div>"
      ],
      "text/plain": [
       "                                    Признак      Отток   Не отток  \\\n",
       "0                           Средний возраст       43.0       41.0   \n",
       "1                   Средний баланс на счете   733032.0  1134458.0   \n",
       "2                     Средний доход клиента   147675.0   148357.0   \n",
       "3         Средние баллы кредитного скоринга      845.0      863.0   \n",
       "4                 Медианный баланс на счете   475410.0   783909.0   \n",
       "5                   Медианный доход клиента   118228.0   125409.0   \n",
       "6                           Мода по городам  Ярославль  Ярославль   \n",
       "7           Мода по наличию кредитной карты          1          1   \n",
       "8   Мода по количеству баллов собственности          0          0   \n",
       "9                           Мода по гендеру          М          М   \n",
       "10                       Мода по активности          1          1   \n",
       "11             Мода по количеству продуктов          2          1   \n",
       "\n",
       "   Относительная разница %  \n",
       "0                    4.76%  \n",
       "1                   42.99%  \n",
       "2                    0.46%  \n",
       "3                    2.11%  \n",
       "4                      NaN  \n",
       "5                      NaN  \n",
       "6                      NaN  \n",
       "7                      NaN  \n",
       "8                      NaN  \n",
       "9                      NaN  \n",
       "10                     NaN  \n",
       "11                     NaN  "
      ]
     },
     "execution_count": 64,
     "metadata": {},
     "output_type": "execute_result"
    }
   ],
   "source": [
    "# переименуем названия столбцов\n",
    "clients_portrait.columns= ['Признак', 'Отток', 'Не отток', 'Относительная разница %']                     \n",
    "clients_portrait"
   ]
  },
  {
   "cell_type": "markdown",
   "metadata": {},
   "source": [
    "#### Вывод:\n",
    "Исходя из полученных портретов клиентов в разрезе оттока мы получили:\n",
    "- Средний доход клиента оттока равен 147674 рубля\n",
    "- Медианный доход клиента равен 118227 рубля\n",
    "- Средний возраст клиента - 43 года\n",
    "- Средний баланс на счете 733032 рубля\n",
    "- Медианный баланс на счете клиента равен 475410\n",
    "- Средний балл кредитного скорнинга - 845\n",
    "- Мода по количеству продуктов - 2\n",
    "- Мода по количеству баллов собственности - 0\n",
    "- Чаще всего это мужчины\n",
    "- Чаще всего они имеют кредитную карту\n",
    "- Чаще всего это пользователи из Ярославля\n",
    "- Чаще всего они являются не активными пользователями\n",
    "\n",
    "Портрет клиентов которые остаются лояльными:\n",
    "- Средний доход клиента оттока равен 148357 рубля\n",
    "- Медианный доход клиента равен 125409 рубля\n",
    "- Средний возраст клиента - 41 год\n",
    "- Средний баланс на счете 1134458 рубля\n",
    "- Медианный баланс на счете клиента равен 783909\n",
    "- Средний балл кредитного скорнинга - 863\n",
    "- Мода по количеству продуктов - 1\n",
    "- Мода по количеству баллов собственности - 0\n",
    "- Чаще всего это мужчины\n",
    "- Чаще всего они имеют кредитную карту\n",
    "- Чаще всего это пользователи из Ярославля\n",
    "- Чаще всего они являются не активными пользователями\n",
    "\n",
    "Основные отличия между портретами:\n",
    "\n",
    "Средний баланс у лояльных клиентов составляет 1,134,458, тогда как у клиентов, оттока, он равен 733,023. Медианные значения баланса также заметно различаются: 783,909 у лояльных клиентов и 475,410 у клиентов оттока. Кроме того, количество продуктов у лояльных клиентов чаще всего равно 2, тогда как у клиентов оттока — 1."
   ]
  },
  {
   "cell_type": "markdown",
   "metadata": {},
   "source": [
    "### Корреляционный анализ признака Churn с другими признаками"
   ]
  },
  {
   "cell_type": "code",
   "execution_count": 65,
   "metadata": {},
   "outputs": [],
   "source": [
    "corr_churn = data.copy()"
   ]
  },
  {
   "cell_type": "code",
   "execution_count": 66,
   "metadata": {},
   "outputs": [],
   "source": [
    "# удалим столбец user_id, так как он не имеет отношения к корреляции\n",
    "corr_churn = corr_churn.drop(columns='user_id')"
   ]
  },
  {
   "cell_type": "code",
   "execution_count": 67,
   "metadata": {},
   "outputs": [],
   "source": [
    "# рассчитываем матрицу корреляции и укажем непрерывные параметры\n",
    "corr_churn = corr_churn.phik_matrix(interval_cols=['age', 'score', 'balance', 'est_salary'])"
   ]
  },
  {
   "cell_type": "code",
   "execution_count": 68,
   "metadata": {},
   "outputs": [
    {
     "data": {
      "image/png": "[encoded data removed]",
      "text/plain": [
       "<Figure size 1440x720 with 4 Axes>"
      ]
     },
     "metadata": {
      "needs_background": "light"
     },
     "output_type": "display_data"
    }
   ],
   "source": [
    "# построим две матрицы\n",
    "plt.figure(figsize=(20, 10))\n",
    "# матрица по всем параметрам\n",
    "sns.heatmap(corr_churn, \n",
    "            cmap='coolwarm', \n",
    "            center=0, \n",
    "            square=True, \n",
    "            annot=True, \n",
    "            fmt=\".2f\", \n",
    "            ax=plt.subplot(1,2,1)\n",
    "           )\n",
    "plt.title('Матрица корреляции phik всех признаков')\n",
    "\n",
    "# матрица по признаку оттока\n",
    "sns.heatmap(corr_churn.loc[:,['churn']]\n",
    "            .sort_values('churn', ascending=False), \n",
    "            cmap='coolwarm', \n",
    "            center=0, \n",
    "            annot=True, \n",
    "            fmt=\".2f\", \n",
    "            ax=plt.subplot(1,2,2)\n",
    "           )\n",
    "plt.title('Анализ корреляции признаков с признаком оттока')\n",
    "plt.show()"
   ]
  },
  {
   "cell_type": "markdown",
   "metadata": {},
   "source": [
    "#### Выводы:\n",
    "- Корреляция признаков с признаком оттока  по шкале Чеддока показала, что:\n",
    "    - Умеренная зависимость имеется со столбцами products(0.44), equity(0.35).\n",
    "    - Остальные признаки имеют слабу корреляцию - менее 0.3\n",
    "- Если смотреть на корреляцию всех признаков по шкале Чеддока, то умеренный уровень корреляции присутствует у:\n",
    "    - score и equity - 0.53\n",
    "    - products и credit_card - 0.46\n",
    "    - products и equity - 0.44"
   ]
  },
  {
   "cell_type": "markdown",
   "metadata": {},
   "source": [
    "<a id='section4'></a>\n",
    "## Проверка статистических гипотез"
   ]
  },
  {
   "cell_type": "markdown",
   "metadata": {},
   "source": [
    "### Гипотеза : Влияние оценочного дохода клиентов на отток клиентов\n",
    "\n",
    "Нулевая гипотеза (H0): Средний уровень дохода клиентов, которые покинули компанию (churn = 1), равен среднему уровню дохода клиентов, которые остались (churn = 0)\n",
    "\n",
    "Альтернативная гипотеза (H1): Средний уровень дохода клиентов, которые покинули компанию (churn = 1), отличается от среднего уровня дохода клиентов, которые остались (churn = 0)"
   ]
  },
  {
   "cell_type": "markdown",
   "metadata": {},
   "source": [
    "Перед выбором теста важно проверить, соответствуют ли данные предположения, необходимые для применения t-теста. Это включает:\n",
    "- Выборки не должны быть зависимы друг от друга\n",
    "- Выборочные средние должны быть нормально распределены\n",
    "- Важно учитывать разницу в дисперсиях. Если они не равны, это может привести к неверным выводам. Настройка параметра equal_var позволяет учесть это\n"
   ]
  },
  {
   "cell_type": "markdown",
   "metadata": {},
   "source": [
    "Так же рассмотрим выбросы в наших выборках:"
   ]
  },
  {
   "cell_type": "markdown",
   "metadata": {},
   "source": [
    "Выше мы уже [делали](#отссылка3) срез по пользователям которые ушли"
   ]
  },
  {
   "cell_type": "code",
   "execution_count": 69,
   "metadata": {},
   "outputs": [
    {
     "data": {
      "text/html": [
       "<div>\n",
       "<style scoped>\n",
       "    .dataframe tbody tr th:only-of-type {\n",
       "        vertical-align: middle;\n",
       "    }\n",
       "\n",
       "    .dataframe tbody tr th {\n",
       "        vertical-align: top;\n",
       "    }\n",
       "\n",
       "    .dataframe thead th {\n",
       "        text-align: right;\n",
       "    }\n",
       "</style>\n",
       "<table border=\"1\" class=\"dataframe\">\n",
       "  <thead>\n",
       "    <tr style=\"text-align: right;\">\n",
       "      <th></th>\n",
       "      <th>user_id</th>\n",
       "      <th>score</th>\n",
       "      <th>city</th>\n",
       "      <th>gender</th>\n",
       "      <th>age</th>\n",
       "      <th>equity</th>\n",
       "      <th>balance</th>\n",
       "      <th>products</th>\n",
       "      <th>credit_card</th>\n",
       "      <th>last_activity</th>\n",
       "      <th>est_salary</th>\n",
       "      <th>churn</th>\n",
       "    </tr>\n",
       "  </thead>\n",
       "  <tbody>\n",
       "    <tr>\n",
       "      <th>0</th>\n",
       "      <td>183012</td>\n",
       "      <td>850</td>\n",
       "      <td>Рыбинск</td>\n",
       "      <td>Ж</td>\n",
       "      <td>25</td>\n",
       "      <td>1</td>\n",
       "      <td>59214.82</td>\n",
       "      <td>2</td>\n",
       "      <td>0</td>\n",
       "      <td>1</td>\n",
       "      <td>75719.14</td>\n",
       "      <td>1</td>\n",
       "    </tr>\n",
       "    <tr>\n",
       "      <th>3</th>\n",
       "      <td>225363</td>\n",
       "      <td>866</td>\n",
       "      <td>Ярославль</td>\n",
       "      <td>Ж</td>\n",
       "      <td>51</td>\n",
       "      <td>5</td>\n",
       "      <td>1524746.26</td>\n",
       "      <td>2</td>\n",
       "      <td>0</td>\n",
       "      <td>1</td>\n",
       "      <td>174423.53</td>\n",
       "      <td>1</td>\n",
       "    </tr>\n",
       "    <tr>\n",
       "      <th>4</th>\n",
       "      <td>157978</td>\n",
       "      <td>730</td>\n",
       "      <td>Ярославль</td>\n",
       "      <td>М</td>\n",
       "      <td>34</td>\n",
       "      <td>5</td>\n",
       "      <td>174.00</td>\n",
       "      <td>1</td>\n",
       "      <td>1</td>\n",
       "      <td>0</td>\n",
       "      <td>67353.16</td>\n",
       "      <td>1</td>\n",
       "    </tr>\n",
       "    <tr>\n",
       "      <th>12</th>\n",
       "      <td>132970</td>\n",
       "      <td>845</td>\n",
       "      <td>Ярославль</td>\n",
       "      <td>Ж</td>\n",
       "      <td>31</td>\n",
       "      <td>3</td>\n",
       "      <td>591928.52</td>\n",
       "      <td>2</td>\n",
       "      <td>1</td>\n",
       "      <td>1</td>\n",
       "      <td>112697.16</td>\n",
       "      <td>1</td>\n",
       "    </tr>\n",
       "    <tr>\n",
       "      <th>40</th>\n",
       "      <td>129705</td>\n",
       "      <td>811</td>\n",
       "      <td>Рыбинск</td>\n",
       "      <td>М</td>\n",
       "      <td>34</td>\n",
       "      <td>2</td>\n",
       "      <td>129799.35</td>\n",
       "      <td>1</td>\n",
       "      <td>0</td>\n",
       "      <td>0</td>\n",
       "      <td>96242.71</td>\n",
       "      <td>1</td>\n",
       "    </tr>\n",
       "  </tbody>\n",
       "</table>\n",
       "</div>"
      ],
      "text/plain": [
       "    user_id  score       city gender  age  equity     balance  products  \\\n",
       "0    183012    850    Рыбинск      Ж   25       1    59214.82         2   \n",
       "3    225363    866  Ярославль      Ж   51       5  1524746.26         2   \n",
       "4    157978    730  Ярославль      М   34       5      174.00         1   \n",
       "12   132970    845  Ярославль      Ж   31       3   591928.52         2   \n",
       "40   129705    811    Рыбинск      М   34       2   129799.35         1   \n",
       "\n",
       "    credit_card  last_activity  est_salary  churn  \n",
       "0             0              1    75719.14      1  \n",
       "3             0              1   174423.53      1  \n",
       "4             1              0    67353.16      1  \n",
       "12            1              1   112697.16      1  \n",
       "40            0              0    96242.71      1  "
      ]
     },
     "execution_count": 69,
     "metadata": {},
     "output_type": "execute_result"
    }
   ],
   "source": [
    "churn_clients.head()"
   ]
  },
  {
   "cell_type": "code",
   "execution_count": 70,
   "metadata": {},
   "outputs": [
    {
     "name": "stdout",
     "output_type": "stream",
     "text": [
      "Количество таких пользователей: 1818\n"
     ]
    }
   ],
   "source": [
    "print('Количество таких пользователей:', churn_clients.shape[0])"
   ]
  },
  {
   "cell_type": "code",
   "execution_count": 71,
   "metadata": {},
   "outputs": [
    {
     "data": {
      "text/html": [
       "<div>\n",
       "<style scoped>\n",
       "    .dataframe tbody tr th:only-of-type {\n",
       "        vertical-align: middle;\n",
       "    }\n",
       "\n",
       "    .dataframe tbody tr th {\n",
       "        vertical-align: top;\n",
       "    }\n",
       "\n",
       "    .dataframe thead th {\n",
       "        text-align: right;\n",
       "    }\n",
       "</style>\n",
       "<table border=\"1\" class=\"dataframe\">\n",
       "  <thead>\n",
       "    <tr style=\"text-align: right;\">\n",
       "      <th></th>\n",
       "      <th>user_id</th>\n",
       "      <th>score</th>\n",
       "      <th>city</th>\n",
       "      <th>gender</th>\n",
       "      <th>age</th>\n",
       "      <th>equity</th>\n",
       "      <th>balance</th>\n",
       "      <th>products</th>\n",
       "      <th>credit_card</th>\n",
       "      <th>last_activity</th>\n",
       "      <th>est_salary</th>\n",
       "      <th>churn</th>\n",
       "    </tr>\n",
       "  </thead>\n",
       "  <tbody>\n",
       "    <tr>\n",
       "      <th>1</th>\n",
       "      <td>146556</td>\n",
       "      <td>861</td>\n",
       "      <td>Рыбинск</td>\n",
       "      <td>Ж</td>\n",
       "      <td>37</td>\n",
       "      <td>5</td>\n",
       "      <td>850594.33</td>\n",
       "      <td>3</td>\n",
       "      <td>1</td>\n",
       "      <td>0</td>\n",
       "      <td>86621.77</td>\n",
       "      <td>0</td>\n",
       "    </tr>\n",
       "    <tr>\n",
       "      <th>2</th>\n",
       "      <td>120722</td>\n",
       "      <td>892</td>\n",
       "      <td>Рыбинск</td>\n",
       "      <td>Ж</td>\n",
       "      <td>30</td>\n",
       "      <td>0</td>\n",
       "      <td>NaN</td>\n",
       "      <td>1</td>\n",
       "      <td>1</td>\n",
       "      <td>1</td>\n",
       "      <td>107683.34</td>\n",
       "      <td>0</td>\n",
       "    </tr>\n",
       "    <tr>\n",
       "      <th>5</th>\n",
       "      <td>202305</td>\n",
       "      <td>856</td>\n",
       "      <td>Рыбинск</td>\n",
       "      <td>М</td>\n",
       "      <td>56</td>\n",
       "      <td>4</td>\n",
       "      <td>863687.24</td>\n",
       "      <td>3</td>\n",
       "      <td>1</td>\n",
       "      <td>0</td>\n",
       "      <td>156619.80</td>\n",
       "      <td>0</td>\n",
       "    </tr>\n",
       "    <tr>\n",
       "      <th>6</th>\n",
       "      <td>177259</td>\n",
       "      <td>807</td>\n",
       "      <td>Ярославль</td>\n",
       "      <td>Ж</td>\n",
       "      <td>39</td>\n",
       "      <td>3</td>\n",
       "      <td>405042.44</td>\n",
       "      <td>3</td>\n",
       "      <td>0</td>\n",
       "      <td>1</td>\n",
       "      <td>103838.32</td>\n",
       "      <td>0</td>\n",
       "    </tr>\n",
       "    <tr>\n",
       "      <th>7</th>\n",
       "      <td>218868</td>\n",
       "      <td>825</td>\n",
       "      <td>Ярославль</td>\n",
       "      <td>Ж</td>\n",
       "      <td>38</td>\n",
       "      <td>4</td>\n",
       "      <td>458145.40</td>\n",
       "      <td>2</td>\n",
       "      <td>1</td>\n",
       "      <td>1</td>\n",
       "      <td>68085.48</td>\n",
       "      <td>0</td>\n",
       "    </tr>\n",
       "  </tbody>\n",
       "</table>\n",
       "</div>"
      ],
      "text/plain": [
       "   user_id  score       city gender  age  equity    balance  products  \\\n",
       "1   146556    861    Рыбинск      Ж   37       5  850594.33         3   \n",
       "2   120722    892    Рыбинск      Ж   30       0        NaN         1   \n",
       "5   202305    856    Рыбинск      М   56       4  863687.24         3   \n",
       "6   177259    807  Ярославль      Ж   39       3  405042.44         3   \n",
       "7   218868    825  Ярославль      Ж   38       4  458145.40         2   \n",
       "\n",
       "   credit_card  last_activity  est_salary  churn  \n",
       "1            1              0    86621.77      0  \n",
       "2            1              1   107683.34      0  \n",
       "5            1              0   156619.80      0  \n",
       "6            0              1   103838.32      0  \n",
       "7            1              1    68085.48      0  "
      ]
     },
     "execution_count": 71,
     "metadata": {},
     "output_type": "execute_result"
    }
   ],
   "source": [
    "loyalty_clients.head()"
   ]
  },
  {
   "cell_type": "code",
   "execution_count": 72,
   "metadata": {},
   "outputs": [
    {
     "name": "stdout",
     "output_type": "stream",
     "text": [
      "Количество таких пользователей: 8155\n"
     ]
    }
   ],
   "source": [
    "print('Количество таких пользователей:', loyalty_clients.shape[0])"
   ]
  },
  {
   "cell_type": "markdown",
   "metadata": {},
   "source": [
    "Рассмотрим аномальные значения:"
   ]
  },
  {
   "cell_type": "code",
   "execution_count": 73,
   "metadata": {
    "scrolled": false
   },
   "outputs": [
    {
     "data": {
      "image/png": "[encoded data removed]",
      "text/plain": [
       "<Figure size 360x576 with 1 Axes>"
      ]
     },
     "metadata": {
      "needs_background": "light"
     },
     "output_type": "display_data"
    }
   ],
   "source": [
    "plt.figure(figsize=(5, 8))    \n",
    "# боксплот\n",
    "sns.boxplot(y='est_salary', \n",
    "            data=data, \n",
    "            palette='muted')\n",
    "plt.grid(True)\n",
    "plt.xlabel('Доход пользователя')\n",
    "plt.ylabel('Значение')\n",
    "plt.show()"
   ]
  },
  {
   "cell_type": "markdown",
   "metadata": {},
   "source": [
    "Видно много аномальных значений с показателем более 300000. Посчитаем t-тест с учетом выбросов и без них и посмотрим как выбросы повлияют на результат."
   ]
  },
  {
   "cell_type": "code",
   "execution_count": 74,
   "metadata": {},
   "outputs": [
    {
     "name": "stdout",
     "output_type": "stream",
     "text": [
      "Дисперсия первой выборки: 15103959585.933504\n",
      "Дисперсия второй выборки: 20356342952.421223\n"
     ]
    }
   ],
   "source": [
    "print('Дисперсия первой выборки:', np.var(churn_clients['est_salary']))\n",
    "print('Дисперсия второй выборки:', np.var(loyalty_clients['est_salary']))"
   ]
  },
  {
   "cell_type": "markdown",
   "metadata": {},
   "source": [
    "Выбор теста: Используем t-тест для независимых выборок, так как мы сравниваем средние значения двух независимых групп (клиенты, покинувшие компанию, и клиенты, оставшиеся) так как:"
   ]
  },
  {
   "cell_type": "markdown",
   "metadata": {},
   "source": [
    "1. Наши выборки не зависят друг от друга\n",
    "2. Размер выборки составляет 1819 и 8155 пользователей, а ЦПТ говорит: если у вас есть достаточно большая выборка (n > 30), то распределение средних значений этой выборки будет нормальным.\n",
    "3. Дисперсии не равны, настроим параметр equal_var=False\n",
    "4. Данные оставим полными"
   ]
  },
  {
   "cell_type": "code",
   "execution_count": 75,
   "metadata": {},
   "outputs": [
    {
     "name": "stdout",
     "output_type": "stream",
     "text": [
      "Среднее первой выборки: 148357.48315731573\n",
      "Среднее первой выборки: 147674.63788105457\n",
      "p-значение: 0.8354803526840116\n",
      "Нет оснований отвергать нулевую гипотезу\n"
     ]
    }
   ],
   "source": [
    "print(f\"Среднее первой выборки: {np.mean(churn_clients['est_salary'])}\")\n",
    "print(f\"Среднее первой выборки: {np.mean(loyalty_clients['est_salary'])}\")\n",
    "\n",
    "aplpha = 0.05\n",
    "\n",
    "result = st.ttest_ind(churn_clients['est_salary'],\n",
    "                      loyalty_clients['est_salary'],\n",
    "                     equal_var=False)\n",
    "\n",
    "print('p-значение:', result.pvalue)\n",
    "\n",
    "if result.pvalue < aplpha:\n",
    "    print('Отвергаем нулевую гипотезу')\n",
    "else:\n",
    "    print('Нет оснований отвергать нулевую гипотезу')"
   ]
  },
  {
   "cell_type": "markdown",
   "metadata": {},
   "source": [
    "Теперь сделаем срез по столбцу est_salary и уберем аномальные значения"
   ]
  },
  {
   "cell_type": "code",
   "execution_count": 76,
   "metadata": {},
   "outputs": [],
   "source": [
    "churn_clients_corr = churn_clients[churn_clients['est_salary'] <= 300000]\n",
    "loyalty_clients_corr = loyalty_clients[loyalty_clients['est_salary'] <= 300000]"
   ]
  },
  {
   "cell_type": "code",
   "execution_count": 77,
   "metadata": {},
   "outputs": [
    {
     "name": "stdout",
     "output_type": "stream",
     "text": [
      "Среднее первой выборки: 127069.08349970981\n",
      "Среднее первой выборки: 120524.36507544226\n",
      "p-значение: 6.100664737169493e-05\n",
      "Отвергаем нулевую гипотезу\n"
     ]
    }
   ],
   "source": [
    "print(f\"Среднее первой выборки: {np.mean(churn_clients_corr['est_salary'])}\")\n",
    "print(f\"Среднее первой выборки: {np.mean(loyalty_clients_corr['est_salary'])}\")\n",
    "\n",
    "aplpha = 0.05\n",
    "\n",
    "\n",
    "result = st.ttest_ind(churn_clients_corr['est_salary'],\n",
    "                      loyalty_clients_corr['est_salary'],\n",
    "                     equal_var=False)\n",
    "\n",
    "print('p-значение:', result.pvalue)\n",
    "\n",
    "if result.pvalue < aplpha:\n",
    "    print('Отвергаем нулевую гипотезу')\n",
    "else:\n",
    "    print('Нет оснований отвергать нулевую гипотезу')"
   ]
  },
  {
   "cell_type": "markdown",
   "metadata": {},
   "source": [
    "Когда мы исключили выбросы, то результат теста изменился, что говорит о высоком влиянии выбросов на результат статистического теста. Применим тест st.mannwhitneyu(), который более устройчив к наличию выбросов."
   ]
  },
  {
   "cell_type": "markdown",
   "metadata": {},
   "source": [
    "Выбор теста: Используем u-тест для независимых выборок, u-тест менее чувствителен к выбросам и аномальным значениям, что позволяет получить более надежные результаты."
   ]
  },
  {
   "cell_type": "code",
   "execution_count": 78,
   "metadata": {
    "scrolled": true
   },
   "outputs": [
    {
     "name": "stdout",
     "output_type": "stream",
     "text": [
      "p-значение: 0.00016830729188229058\n",
      "Отвергаем нулевую гипотезу\n"
     ]
    }
   ],
   "source": [
    "aplpha = 0.05\n",
    "\n",
    "result = results = st.mannwhitneyu(churn_clients['est_salary'], \n",
    "                                   loyalty_clients['est_salary'])\n",
    "\n",
    "print('p-значение:', result.pvalue)\n",
    "\n",
    "if result.pvalue < aplpha:\n",
    "    print('Отвергаем нулевую гипотезу')\n",
    "else:\n",
    "    print('Нет оснований отвергать нулевую гипотезу')"
   ]
  },
  {
   "cell_type": "markdown",
   "metadata": {},
   "source": [
    "#### Вывод:\n",
    "По результатам статистических тестов мы пришли к выводу, что из-за наличия выбросов в столбце est_salary целесообразнее применить U-критерий Манна-Уитни. Этот непараметрический тест более устойчив к выбросам и не требует соблюдения нормальности распределения данных.\n",
    "\n",
    "Результаты теста показали, что p-значение значительно меньше уровня значимости(0.05), что дает нам основания отвергнуть нулевую гипотезу о равенстве уровня дохода между лояльными клиентами и ушедшими. Это указывает на то, что разница в уровне дохода между двумя группами является статистически значимой."
   ]
  },
  {
   "cell_type": "markdown",
   "metadata": {},
   "source": [
    "### Гипотеза: Влияние возраста на отток клиентов\n",
    "\n",
    "Нулевая гипотеза (H0): Средний возраст клиентов, которые покинули компанию (churn = 1), равен среднему возрасту клиентов, которые остались (churn = 0).\n",
    "\n",
    "Альтернативная гипотеза (H1): Средний возраст клиентов, которые покинули компанию (churn = 1), отличается от среднего возраста клиентов, которые остались (churn = 0).\n"
   ]
  },
  {
   "cell_type": "code",
   "execution_count": 79,
   "metadata": {},
   "outputs": [
    {
     "name": "stdout",
     "output_type": "stream",
     "text": [
      "Дисперсия первой выборки: 124.13723206754118\n",
      "Дисперсия второй выборки: 153.12697193891648\n"
     ]
    }
   ],
   "source": [
    "print('Дисперсия первой выборки:', np.var(churn_clients['age']))\n",
    "print('Дисперсия второй выборки:', np.var(loyalty_clients['age']))"
   ]
  },
  {
   "cell_type": "markdown",
   "metadata": {},
   "source": [
    "\n",
    "1. Наши выборки не зависят друг от друга\n",
    "2. Так как размер выборки составляет 1819 и 8155 пользователей, то по ЦПТ: если у вас есть достаточно большая выборка (обычно n > 30), то распределение средних значений этой выборки будет нормальным.\n",
    "3. Дисперсии не равны, настроим параметр equal_var=False\n",
    "\n",
    "Выбор теста: Используем t-тест для независимых выборок, так как мы сравниваем средние значения двух независимых групп (клиенты, покинувшие компанию, и клиенты, оставшиеся)."
   ]
  },
  {
   "cell_type": "code",
   "execution_count": 80,
   "metadata": {
    "scrolled": false
   },
   "outputs": [
    {
     "data": {
      "image/png": "[encoded data removed]",
      "text/plain": [
       "<Figure size 360x576 with 1 Axes>"
      ]
     },
     "metadata": {
      "needs_background": "light"
     },
     "output_type": "display_data"
    }
   ],
   "source": [
    "plt.figure(figsize=(5, 8))    \n",
    "# боксплот\n",
    "sns.boxplot(y='age', \n",
    "            data=data, \n",
    "            palette='muted')\n",
    "plt.grid(True)\n",
    "plt.xlabel('Доход пользователя')\n",
    "plt.ylabel('Значение')\n",
    "plt.show()"
   ]
  },
  {
   "cell_type": "markdown",
   "metadata": {},
   "source": [
    "Видно аномальные значения с показателем более 78. Посчитаем t-тест с учетом выбросов и без них и посмотрим как выбросы повлияют на результат."
   ]
  },
  {
   "cell_type": "markdown",
   "metadata": {},
   "source": [
    "Рассчет теста с учетом выбросов:"
   ]
  },
  {
   "cell_type": "code",
   "execution_count": 81,
   "metadata": {
    "scrolled": true
   },
   "outputs": [
    {
     "name": "stdout",
     "output_type": "stream",
     "text": [
      "Среднее первой выборки: 41.42959295929593\n",
      "Среднее первой выборки: 43.02084610668302\n",
      "p-значение: 7.536127357312234e-08\n",
      "Отвергаем нулевую гипотезу\n"
     ]
    }
   ],
   "source": [
    "print(f\"Среднее первой выборки: {np.mean(churn_clients['age'])}\")\n",
    "print(f\"Среднее первой выборки: {np.mean(loyalty_clients['age'])}\")\n",
    "\n",
    "aplpha = 0.05\n",
    "\n",
    "result = st.ttest_ind(churn_clients['age'],\n",
    "                      loyalty_clients['age'],\n",
    "                     equal_var=False)\n",
    "\n",
    "print('p-значение:', result.pvalue)\n",
    "\n",
    "if result.pvalue < aplpha:\n",
    "    print('Отвергаем нулевую гипотезу')\n",
    "else:\n",
    "    print('Нет оснований отвергать нулевую гипотезу')"
   ]
  },
  {
   "cell_type": "markdown",
   "metadata": {},
   "source": [
    "Рассчет t-теста без аномальных значений:"
   ]
  },
  {
   "cell_type": "code",
   "execution_count": 82,
   "metadata": {},
   "outputs": [],
   "source": [
    "churn_clients_age = churn_clients[churn_clients['age'] <= 78]\n",
    "loyalty_clients_age = loyalty_clients[loyalty_clients['age'] <= 78]"
   ]
  },
  {
   "cell_type": "code",
   "execution_count": 83,
   "metadata": {
    "scrolled": true
   },
   "outputs": [
    {
     "name": "stdout",
     "output_type": "stream",
     "text": [
      "Среднее первой выборки: 41.42959295929593\n",
      "Среднее первой выборки: 43.02084610668302\n",
      "p-значение: 4.355827174282241e-07\n",
      "Отвергаем нулевую гипотезу\n"
     ]
    }
   ],
   "source": [
    "print(f\"Среднее первой выборки: {np.mean(churn_clients['age'])}\")\n",
    "print(f\"Среднее первой выборки: {np.mean(loyalty_clients['age'])}\")\n",
    "\n",
    "aplpha = 0.05\n",
    "\n",
    "result = st.ttest_ind(churn_clients_age['age'],\n",
    "                      loyalty_clients_age['age'],\n",
    "                     equal_var=False)\n",
    "\n",
    "print('p-значение:', result.pvalue)\n",
    "\n",
    "if result.pvalue < aplpha:\n",
    "    print('Отвергаем нулевую гипотезу')\n",
    "else:\n",
    "    print('Нет оснований отвергать нулевую гипотезу')"
   ]
  },
  {
   "cell_type": "markdown",
   "metadata": {},
   "source": [
    "Результат остался таким же, следовательно оставляем применение t-теста. Выбросы не оказали статистически значимого влияния на результаты"
   ]
  },
  {
   "cell_type": "markdown",
   "metadata": {},
   "source": [
    "#### Вывод:\n",
    "Поскольку p-значение значительно меньше стандартного уровня значимости, мы отвергаете нулевую гипотезу. Это означает, что есть статистически значимая разница между средним возрастом двух выборок."
   ]
  },
  {
   "cell_type": "markdown",
   "metadata": {},
   "source": [
    "<a id='section5'></a>\n",
    "## Подведение промежуточных итогов \n",
    "\n",
    "Выводы по результатам EDA, корреляционного анализа и гипотез, выделение признаков, влияющих на оттток:"
   ]
  },
  {
   "cell_type": "markdown",
   "metadata": {},
   "source": [
    "По результатам EDA мы построили портрет клиента, который подвергается оттоку:\n",
    "\n",
    "- Средний доход клиента оттока равен 147674 рубля\n",
    "- Медианный доход клиента равен 118227 рубля\n",
    "- Средний возраст клиента - 43 года\n",
    "- Средний баланс на счете 733032 рубля\n",
    "- Медианный баланс на счете клиента равен 475410\n",
    "- Средний балл кредитного скорнинаг - 845\n",
    "- Среднее количество продуктов - 2\n",
    "- Среднее количество баллов собственности - 2\n",
    "- Чаще всего они имеют кредитную карту\n",
    "- Чаще всего это пользователи из Ярославля\n",
    "- Чаще всего они являются не активными пользователями\n",
    "\n",
    "\n",
    "- Анализ оттока клиентов банка показывает, что наиболее уязвимыми группами являются клиенты с баллами от 830 до 900. Особенно стоит отметить, что среди ушедших клиентов наблюдаются два пика по возрасту: первый — в диапазоне 33-37 лет и второй — 50-52 года. \n",
    "\n",
    "- Что касается количества продуктов, отток клиентов преобладает у пользователей с количеством продуктов от 2 до 5, при этом медианное значение составляет 2. Клиенты с баллами собственности от 3 до 9 также подвержены более высокому уровню оттока, тогда как пользователи с баллами от 0 до 2 составляют основную массу банка.\n",
    "\n",
    "- По финансовым показателям, отток клиентов увеличивается у пользователей с балансом от 800 тысяч рублей и медианным доходом более 100 тысяч рублей.\n",
    "\n",
    "- Региональный анализ показывает, что отток клиентов из Ярославля и Ростова превышает средний уровень, в то время как мужчины и клиенты без кредитной карты демонстрируют более высокую склонность к уходу. Активные клиенты также более подвержены оттоку, что может свидетельствовать о необходимости улучшения обслуживания и предложения дополнительных услуг для удержания данной категории пользователей.\n",
    "\n",
    "- Корреляционный анализ признака оттока (Churn) с другими переменными выявил умеренную зависимость с такими признаками, как количество продуктов (products) и балл собственности (equity), с коэффициентами корреляции 0.44 и 0.35 соответственно. Остальные признаки продемонстрировали слабую корреляцию, не превышающую 0.3.\n",
    "\n",
    "- При анализе корреляции между всеми признаками по шкале Чеддока также отмечается умеренный уровень связи: наибольшая корреляция наблюдается между баллом (score) и баллом собственности (equity) — 0.53, а также между количеством продуктов (products) и наличием кредитной карты (credit_card) — 0.46. \n",
    "\n",
    "- Результаты теста показали, что p-значение значительно меньше уровня значимости(0.05), что дает нам основания отвергнуть нулевую гипотезу о равенстве уровня дохода между лояльными клиентами и ушедшими. Это указывает на то, что разница в уровне дохода между двумя группами является статистически значимой.\n",
    "\n",
    "- Однако, в случае анализа среднего возраста клиентов, p-value оказалось значительно меньше стандартного уровня значимости(0.05). Это позволяет отвергнуть нулевую гипотезу и утверждать, что существует статистически значимая разница между средним возрастом клиентов, которые остались в банке, и тех, кто его покинул. \n",
    "\n",
    "В целом, результаты анализа подчеркивают необходимость разработки целевых стратегий по удержанию клиентов, особенно среди уязвимых групп, чтобы снизить уровень оттока и повысить лояльность клиентов.\n"
   ]
  },
  {
   "cell_type": "markdown",
   "metadata": {},
   "source": [
    "<a id='section6'></a>\n",
    "## Провести сегментацию среди всех клиентов"
   ]
  },
  {
   "cell_type": "markdown",
   "metadata": {},
   "source": [
    "**Сегмент 1**\n",
    "- Количество баллов от 830 до 900\n",
    "- Не имеет кредитную карту\n",
    "- Колличество баллов имущества больше или равно 3"
   ]
  },
  {
   "cell_type": "code",
   "execution_count": 84,
   "metadata": {},
   "outputs": [
    {
     "data": {
      "text/html": [
       "<div>\n",
       "<style scoped>\n",
       "    .dataframe tbody tr th:only-of-type {\n",
       "        vertical-align: middle;\n",
       "    }\n",
       "\n",
       "    .dataframe tbody tr th {\n",
       "        vertical-align: top;\n",
       "    }\n",
       "\n",
       "    .dataframe thead th {\n",
       "        text-align: right;\n",
       "    }\n",
       "</style>\n",
       "<table border=\"1\" class=\"dataframe\">\n",
       "  <thead>\n",
       "    <tr style=\"text-align: right;\">\n",
       "      <th></th>\n",
       "      <th>churn</th>\n",
       "    </tr>\n",
       "  </thead>\n",
       "  <tbody>\n",
       "    <tr>\n",
       "      <th>Количество</th>\n",
       "      <td>503.00</td>\n",
       "    </tr>\n",
       "    <tr>\n",
       "      <th>Отток</th>\n",
       "      <td>0.47</td>\n",
       "    </tr>\n",
       "  </tbody>\n",
       "</table>\n",
       "</div>"
      ],
      "text/plain": [
       "              churn\n",
       "Количество   503.00\n",
       "Отток          0.47"
      ]
     },
     "execution_count": 84,
     "metadata": {},
     "output_type": "execute_result"
    }
   ],
   "source": [
    "segment1 = data[\n",
    "        (data['score'] >= 830) & \n",
    "        (data['score'] >= 900) &\n",
    "        (data['credit_card'] == 0) &\n",
    "        (data['equity'] >= 3)\n",
    "\n",
    "    ].agg({'churn' : ['count', 'mean']}).round(2)\n",
    "\n",
    "segment1.rename(index={\n",
    "    'count' : 'Количество ',\n",
    "    'mean' : 'Отток' \n",
    "},inplace=True)\n",
    "\n",
    "segment1"
   ]
  },
  {
   "cell_type": "markdown",
   "metadata": {},
   "source": [
    "Наш сегмент состоит из 503 пользователей и имеет отток 47%"
   ]
  },
  {
   "cell_type": "markdown",
   "metadata": {},
   "source": [
    "**Сегмент 2**\n",
    "- Количество баллов от 830 до 900\n",
    "- Доход более 100000\n",
    "- Является активным клиентом\n",
    "- Имеет более 2 продуктов"
   ]
  },
  {
   "cell_type": "code",
   "execution_count": 85,
   "metadata": {},
   "outputs": [
    {
     "data": {
      "text/html": [
       "<div>\n",
       "<style scoped>\n",
       "    .dataframe tbody tr th:only-of-type {\n",
       "        vertical-align: middle;\n",
       "    }\n",
       "\n",
       "    .dataframe tbody tr th {\n",
       "        vertical-align: top;\n",
       "    }\n",
       "\n",
       "    .dataframe thead th {\n",
       "        text-align: right;\n",
       "    }\n",
       "</style>\n",
       "<table border=\"1\" class=\"dataframe\">\n",
       "  <thead>\n",
       "    <tr style=\"text-align: right;\">\n",
       "      <th></th>\n",
       "      <th>churn</th>\n",
       "    </tr>\n",
       "  </thead>\n",
       "  <tbody>\n",
       "    <tr>\n",
       "      <th>count</th>\n",
       "      <td>745.00</td>\n",
       "    </tr>\n",
       "    <tr>\n",
       "      <th>mean</th>\n",
       "      <td>0.58</td>\n",
       "    </tr>\n",
       "  </tbody>\n",
       "</table>\n",
       "</div>"
      ],
      "text/plain": [
       "        churn\n",
       "count  745.00\n",
       "mean     0.58"
      ]
     },
     "execution_count": 85,
     "metadata": {},
     "output_type": "execute_result"
    }
   ],
   "source": [
    "segment2 = data[\n",
    "        (data['score'] >= 830) & \n",
    "        (data['score'] <= 900) & \n",
    "        (data['est_salary'] >= 100000) &\n",
    "        (data['last_activity'] == 1) &\n",
    "        (data['products'] >= 2) \n",
    "\n",
    "    ].agg({'churn' : ['count', 'mean']}).round(2)\n",
    "\n",
    "segment1.rename(index={\n",
    "    'count' : 'Количество ',\n",
    "    'mean' : 'Отток' \n",
    "},inplace=True)\n",
    "\n",
    "segment2"
   ]
  },
  {
   "cell_type": "markdown",
   "metadata": {},
   "source": [
    "Наш сегмент состоит из 745 пользователей и имеет отток 58%"
   ]
  },
  {
   "cell_type": "markdown",
   "metadata": {},
   "source": [
    "**Сегмент 3**\n",
    "- Возраст клиентов от 50 до 70 лет\n",
    "- Баланс более 1000000"
   ]
  },
  {
   "cell_type": "code",
   "execution_count": 86,
   "metadata": {},
   "outputs": [
    {
     "data": {
      "text/html": [
       "<div>\n",
       "<style scoped>\n",
       "    .dataframe tbody tr th:only-of-type {\n",
       "        vertical-align: middle;\n",
       "    }\n",
       "\n",
       "    .dataframe tbody tr th {\n",
       "        vertical-align: top;\n",
       "    }\n",
       "\n",
       "    .dataframe thead th {\n",
       "        text-align: right;\n",
       "    }\n",
       "</style>\n",
       "<table border=\"1\" class=\"dataframe\">\n",
       "  <thead>\n",
       "    <tr style=\"text-align: right;\">\n",
       "      <th></th>\n",
       "      <th>churn</th>\n",
       "    </tr>\n",
       "  </thead>\n",
       "  <tbody>\n",
       "    <tr>\n",
       "      <th>Количество</th>\n",
       "      <td>633.00</td>\n",
       "    </tr>\n",
       "    <tr>\n",
       "      <th>Отток</th>\n",
       "      <td>0.37</td>\n",
       "    </tr>\n",
       "  </tbody>\n",
       "</table>\n",
       "</div>"
      ],
      "text/plain": [
       "              churn\n",
       "Количество   633.00\n",
       "Отток          0.37"
      ]
     },
     "execution_count": 86,
     "metadata": {},
     "output_type": "execute_result"
    }
   ],
   "source": [
    "segment3 = data[\n",
    "        (data['age'] >= 50) &\n",
    "        (data['age'] <= 70) &\n",
    "        (data['balance'] >= 1000000) \n",
    "        \n",
    "\n",
    "    ].agg({'churn' : ['count', 'mean']}).round(2)\n",
    "\n",
    "segment3.rename(index={\n",
    "    'count' : 'Количество ',\n",
    "    'mean' : 'Отток' \n",
    "},inplace=True)\n",
    "\n",
    "segment3"
   ]
  },
  {
   "cell_type": "markdown",
   "metadata": {},
   "source": [
    "Наш сегмент содержит 633 клиента и отток 37%"
   ]
  },
  {
   "cell_type": "markdown",
   "metadata": {},
   "source": [
    "**Сегмент 4**\n",
    "- Количество баллов от 830 до 900\n",
    "- Возраст от 20 до 30\n",
    "- Имеет более 2 продуктов\n",
    "- Активный пользователь"
   ]
  },
  {
   "cell_type": "code",
   "execution_count": 87,
   "metadata": {},
   "outputs": [
    {
     "data": {
      "text/html": [
       "<div>\n",
       "<style scoped>\n",
       "    .dataframe tbody tr th:only-of-type {\n",
       "        vertical-align: middle;\n",
       "    }\n",
       "\n",
       "    .dataframe tbody tr th {\n",
       "        vertical-align: top;\n",
       "    }\n",
       "\n",
       "    .dataframe thead th {\n",
       "        text-align: right;\n",
       "    }\n",
       "</style>\n",
       "<table border=\"1\" class=\"dataframe\">\n",
       "  <thead>\n",
       "    <tr style=\"text-align: right;\">\n",
       "      <th></th>\n",
       "      <th>churn</th>\n",
       "    </tr>\n",
       "  </thead>\n",
       "  <tbody>\n",
       "    <tr>\n",
       "      <th>Количество</th>\n",
       "      <td>555.00</td>\n",
       "    </tr>\n",
       "    <tr>\n",
       "      <th>Отток</th>\n",
       "      <td>0.43</td>\n",
       "    </tr>\n",
       "  </tbody>\n",
       "</table>\n",
       "</div>"
      ],
      "text/plain": [
       "              churn\n",
       "Количество   555.00\n",
       "Отток          0.43"
      ]
     },
     "execution_count": 87,
     "metadata": {},
     "output_type": "execute_result"
    }
   ],
   "source": [
    "segment4 = data[\n",
    "        (data['score'] >=830) & \n",
    "        (data['score'] >=900) & \n",
    "        (data['age'] >= 20) &\n",
    "        (data['age'] >= 30) &       \n",
    "        (data['products'] >= 2) &\n",
    "        (data['last_activity'] == 1)\n",
    "\n",
    "    ].agg({'churn' : ['count', 'mean']}).round(2)\n",
    "\n",
    "segment4.rename(index={\n",
    "    'count' : 'Количество ',\n",
    "    'mean' : 'Отток' \n",
    "},inplace=True)\n",
    "\n",
    "segment4"
   ]
  },
  {
   "cell_type": "markdown",
   "metadata": {},
   "source": [
    "Наш сегмент имеет 555 пользователей и отток 43%"
   ]
  },
  {
   "cell_type": "markdown",
   "metadata": {},
   "source": [
    "<a id='section7'></a>\n",
    "## Приоритизация сегментов клиентов"
   ]
  },
  {
   "cell_type": "markdown",
   "metadata": {},
   "source": [
    "В результате анализа выделенных сегментов с высоким уровнем оттока, мы определили приоритетные группы для дальнейшей работы. \n",
    "\n",
    "1. **Сегмент 2** требует немедленного внимания, так как имеет наивысший уровень оттока (58%) и значительное количество пользователей (745). \n",
    "2. **Сегмент 1** также нуждается в проработке, с уровнем оттока 47% и 503 клиентами, что указывает на потенциальные риски.\n",
    "3. **Сегмент 4** занимает третью позицию, с оттоком 43% и 555 пользователями, что также требует мониторинга и анализа.\n",
    "4. **Сегмент 3**, хотя и имеет наименьший уровень оттока (37%), все же представляет собой значительное количество клиентов (633), что не позволяет игнорировать его.\n",
    "\n",
    "Фокус на втором и первом сегментах позволит наиболее эффективно снизить общий уровень оттока и улучшить удержание клиентов в банке."
   ]
  },
  {
   "cell_type": "markdown",
   "metadata": {},
   "source": [
    "<a id='section8'></a>\n",
    "## Формирование рекомендаций (таргетированных) по работе с сегментами"
   ]
  },
  {
   "cell_type": "markdown",
   "metadata": {},
   "source": [
    "**Сегмент 2**\n",
    "- Мужчина\n",
    "- Колличество баллов от 800\n",
    "- Доход более 100000\n",
    "- Является активным клиентом\n",
    "- Имеет более 2 продуктов\n",
    "\n",
    "**Рекомендации:** Ввести кэшбэк, бонусные баллы или скидки на услуги для активных клиентов. Предложить суперцену на новый товар банка или бесплатную подпику. Так же можно увеличенную ставку по вкладу с ежедневным процентом."
   ]
  },
  {
   "cell_type": "markdown",
   "metadata": {},
   "source": [
    "**Сегмент 1**\n",
    "- Количество баллов от 830 до 900\n",
    "- Не имеет кредитную карту\n",
    "- Колличество баллов имущества больше или равно 3\n",
    "\n",
    "**Рекомендации:** Предлагать больше выгодных предложений и товаров, которые интересны пользователям с баллами имущества более 3. Предложить выгодный кредит на новое имущество. Повышенные кэшбэки на охранные установки для имущества."
   ]
  },
  {
   "cell_type": "markdown",
   "metadata": {},
   "source": [
    "**Сегмент 4**\n",
    "- Количество баллов от 830 до 900\n",
    "- Возраст от 20 до 30\n",
    "- Имеет более 2 продуктов\n",
    "- Активный пользователь\n",
    "\n",
    "**Рекомендации:** Предлгать молодым, активным пользователям специальные предложения по кэшбэкам в места, которые пльзуются спросом у такого сегмента(развлечения, бары, рестораны, образовательные услуги). Так же кредитную карту с увеличенным сроком беспроцентного периода."
   ]
  },
  {
   "cell_type": "markdown",
   "metadata": {},
   "source": [
    "**Сегмент 3**\n",
    "\n",
    "- Возраст клиентов от 50 до 70 лет\n",
    "- Баланс более 1000000\n",
    "\n",
    "**Рекомендации:** Предложить людям на пенсии или близким к ней, вклады с конкурентными годовыми ставками, а так же выгодные предложения в лечебные санатории."
   ]
  }
 ],
 "metadata": {
  "ExecuteTimeLog": [
   {
    "duration": 1543,
    "start_time": "2024-08-11T10:22:35.005Z"
   },
   {
    "duration": 0,
    "start_time": "2024-08-11T10:22:36.551Z"
   },
   {
    "duration": 0,
    "start_time": "2024-08-11T10:22:36.552Z"
   },
   {
    "duration": 0,
    "start_time": "2024-08-11T10:22:36.553Z"
   },
   {
    "duration": 0,
    "start_time": "2024-08-11T10:22:36.554Z"
   },
   {
    "duration": 0,
    "start_time": "2024-08-11T10:22:36.555Z"
   },
   {
    "duration": 0,
    "start_time": "2024-08-11T10:22:36.556Z"
   },
   {
    "duration": 0,
    "start_time": "2024-08-11T10:22:36.557Z"
   },
   {
    "duration": 0,
    "start_time": "2024-08-11T10:22:36.558Z"
   },
   {
    "duration": 0,
    "start_time": "2024-08-11T10:22:36.559Z"
   },
   {
    "duration": 0,
    "start_time": "2024-08-11T10:22:36.560Z"
   },
   {
    "duration": 0,
    "start_time": "2024-08-11T10:22:36.561Z"
   },
   {
    "duration": 0,
    "start_time": "2024-08-11T10:22:36.563Z"
   },
   {
    "duration": 0,
    "start_time": "2024-08-11T10:22:36.563Z"
   },
   {
    "duration": 0,
    "start_time": "2024-08-11T10:22:36.564Z"
   },
   {
    "duration": 0,
    "start_time": "2024-08-11T10:22:36.565Z"
   },
   {
    "duration": 0,
    "start_time": "2024-08-11T10:22:36.566Z"
   },
   {
    "duration": 0,
    "start_time": "2024-08-11T10:22:36.567Z"
   },
   {
    "duration": 0,
    "start_time": "2024-08-11T10:22:36.568Z"
   },
   {
    "duration": 0,
    "start_time": "2024-08-11T10:22:36.569Z"
   },
   {
    "duration": 0,
    "start_time": "2024-08-11T10:22:36.571Z"
   },
   {
    "duration": 0,
    "start_time": "2024-08-11T10:22:36.607Z"
   },
   {
    "duration": 0,
    "start_time": "2024-08-11T10:22:36.609Z"
   },
   {
    "duration": 0,
    "start_time": "2024-08-11T10:22:36.610Z"
   },
   {
    "duration": 0,
    "start_time": "2024-08-11T10:22:36.611Z"
   },
   {
    "duration": 0,
    "start_time": "2024-08-11T10:22:36.612Z"
   },
   {
    "duration": 0,
    "start_time": "2024-08-11T10:22:36.613Z"
   },
   {
    "duration": 0,
    "start_time": "2024-08-11T10:22:36.614Z"
   },
   {
    "duration": 0,
    "start_time": "2024-08-11T10:22:36.615Z"
   },
   {
    "duration": 0,
    "start_time": "2024-08-11T10:22:36.616Z"
   },
   {
    "duration": 0,
    "start_time": "2024-08-11T10:22:36.617Z"
   },
   {
    "duration": 0,
    "start_time": "2024-08-11T10:22:36.618Z"
   },
   {
    "duration": 0,
    "start_time": "2024-08-11T10:22:36.619Z"
   },
   {
    "duration": 0,
    "start_time": "2024-08-11T10:22:36.620Z"
   },
   {
    "duration": 3683,
    "start_time": "2024-08-11T10:23:29.662Z"
   },
   {
    "duration": 1284,
    "start_time": "2024-08-11T10:23:45.487Z"
   },
   {
    "duration": 113,
    "start_time": "2024-08-11T10:23:46.773Z"
   },
   {
    "duration": 0,
    "start_time": "2024-08-11T10:23:46.888Z"
   },
   {
    "duration": 0,
    "start_time": "2024-08-11T10:23:46.890Z"
   },
   {
    "duration": 0,
    "start_time": "2024-08-11T10:23:46.891Z"
   },
   {
    "duration": 0,
    "start_time": "2024-08-11T10:23:46.892Z"
   },
   {
    "duration": 0,
    "start_time": "2024-08-11T10:23:46.893Z"
   },
   {
    "duration": 0,
    "start_time": "2024-08-11T10:23:46.894Z"
   },
   {
    "duration": 0,
    "start_time": "2024-08-11T10:23:46.895Z"
   },
   {
    "duration": 0,
    "start_time": "2024-08-11T10:23:46.907Z"
   },
   {
    "duration": 0,
    "start_time": "2024-08-11T10:23:46.908Z"
   },
   {
    "duration": 0,
    "start_time": "2024-08-11T10:23:46.910Z"
   },
   {
    "duration": 0,
    "start_time": "2024-08-11T10:23:46.911Z"
   },
   {
    "duration": 0,
    "start_time": "2024-08-11T10:23:46.912Z"
   },
   {
    "duration": 0,
    "start_time": "2024-08-11T10:23:46.913Z"
   },
   {
    "duration": 0,
    "start_time": "2024-08-11T10:23:46.914Z"
   },
   {
    "duration": 0,
    "start_time": "2024-08-11T10:23:46.916Z"
   },
   {
    "duration": 0,
    "start_time": "2024-08-11T10:23:46.917Z"
   },
   {
    "duration": 0,
    "start_time": "2024-08-11T10:23:46.918Z"
   },
   {
    "duration": 0,
    "start_time": "2024-08-11T10:23:46.919Z"
   },
   {
    "duration": 0,
    "start_time": "2024-08-11T10:23:46.920Z"
   },
   {
    "duration": 0,
    "start_time": "2024-08-11T10:23:46.921Z"
   },
   {
    "duration": 0,
    "start_time": "2024-08-11T10:23:46.922Z"
   },
   {
    "duration": 0,
    "start_time": "2024-08-11T10:23:46.923Z"
   },
   {
    "duration": 0,
    "start_time": "2024-08-11T10:23:46.924Z"
   },
   {
    "duration": 0,
    "start_time": "2024-08-11T10:23:46.926Z"
   },
   {
    "duration": 0,
    "start_time": "2024-08-11T10:23:46.927Z"
   },
   {
    "duration": 0,
    "start_time": "2024-08-11T10:23:46.928Z"
   },
   {
    "duration": 0,
    "start_time": "2024-08-11T10:23:46.929Z"
   },
   {
    "duration": 0,
    "start_time": "2024-08-11T10:23:46.930Z"
   },
   {
    "duration": 0,
    "start_time": "2024-08-11T10:23:46.931Z"
   },
   {
    "duration": 0,
    "start_time": "2024-08-11T10:23:46.932Z"
   },
   {
    "duration": 0,
    "start_time": "2024-08-11T10:23:46.933Z"
   },
   {
    "duration": 0,
    "start_time": "2024-08-11T10:23:46.935Z"
   },
   {
    "duration": 1222,
    "start_time": "2024-08-11T10:24:53.870Z"
   },
   {
    "duration": 114,
    "start_time": "2024-08-11T10:24:55.094Z"
   },
   {
    "duration": 17,
    "start_time": "2024-08-11T10:24:55.210Z"
   },
   {
    "duration": 6,
    "start_time": "2024-08-11T10:24:55.230Z"
   },
   {
    "duration": 125,
    "start_time": "2024-08-11T10:24:55.238Z"
   },
   {
    "duration": 3,
    "start_time": "2024-08-11T10:24:55.365Z"
   },
   {
    "duration": 13,
    "start_time": "2024-08-11T10:24:55.370Z"
   },
   {
    "duration": 38,
    "start_time": "2024-08-11T10:24:55.385Z"
   },
   {
    "duration": 6,
    "start_time": "2024-08-11T10:24:55.425Z"
   },
   {
    "duration": 31,
    "start_time": "2024-08-11T10:24:55.433Z"
   },
   {
    "duration": 3,
    "start_time": "2024-08-11T10:24:55.465Z"
   },
   {
    "duration": 8,
    "start_time": "2024-08-11T10:24:55.470Z"
   },
   {
    "duration": 751,
    "start_time": "2024-08-11T10:24:55.479Z"
   },
   {
    "duration": 780,
    "start_time": "2024-08-11T10:24:56.232Z"
   },
   {
    "duration": 7,
    "start_time": "2024-08-11T10:24:57.014Z"
   },
   {
    "duration": 10,
    "start_time": "2024-08-11T10:24:57.023Z"
   },
   {
    "duration": 35,
    "start_time": "2024-08-11T10:24:57.035Z"
   },
   {
    "duration": 54,
    "start_time": "2024-08-11T10:24:57.071Z"
   },
   {
    "duration": 10,
    "start_time": "2024-08-11T10:24:57.127Z"
   },
   {
    "duration": 13,
    "start_time": "2024-08-11T10:24:57.139Z"
   },
   {
    "duration": 23,
    "start_time": "2024-08-11T10:24:57.153Z"
   },
   {
    "duration": 43,
    "start_time": "2024-08-11T10:24:57.178Z"
   },
   {
    "duration": 11,
    "start_time": "2024-08-11T10:24:57.223Z"
   },
   {
    "duration": 7,
    "start_time": "2024-08-11T10:24:57.235Z"
   },
   {
    "duration": 13,
    "start_time": "2024-08-11T10:24:57.243Z"
   },
   {
    "duration": 6,
    "start_time": "2024-08-11T10:24:57.258Z"
   },
   {
    "duration": 42,
    "start_time": "2024-08-11T10:24:57.266Z"
   },
   {
    "duration": 7,
    "start_time": "2024-08-11T10:24:57.313Z"
   },
   {
    "duration": 11,
    "start_time": "2024-08-11T10:24:57.322Z"
   },
   {
    "duration": 10,
    "start_time": "2024-08-11T10:24:57.335Z"
   },
   {
    "duration": 13,
    "start_time": "2024-08-11T10:24:57.346Z"
   },
   {
    "duration": 5,
    "start_time": "2024-08-11T10:24:57.361Z"
   },
   {
    "duration": 44,
    "start_time": "2024-08-11T10:24:57.368Z"
   },
   {
    "duration": 115,
    "start_time": "2024-08-11T10:24:57.413Z"
   },
   {
    "duration": 6,
    "start_time": "2024-08-11T10:27:19.067Z"
   },
   {
    "duration": 26,
    "start_time": "2024-08-11T10:27:46.060Z"
   },
   {
    "duration": 8,
    "start_time": "2024-08-11T10:28:05.000Z"
   },
   {
    "duration": 50,
    "start_time": "2024-08-11T10:28:52.668Z"
   },
   {
    "duration": 10,
    "start_time": "2024-08-11T10:28:59.616Z"
   },
   {
    "duration": 7,
    "start_time": "2024-08-11T10:32:47.198Z"
   },
   {
    "duration": 9,
    "start_time": "2024-08-11T10:33:12.037Z"
   },
   {
    "duration": 7,
    "start_time": "2024-08-11T10:33:24.554Z"
   },
   {
    "duration": 8,
    "start_time": "2024-08-11T10:34:02.830Z"
   },
   {
    "duration": 9,
    "start_time": "2024-08-11T10:34:12.158Z"
   },
   {
    "duration": 1374,
    "start_time": "2024-08-11T10:34:41.010Z"
   },
   {
    "duration": 67,
    "start_time": "2024-08-11T10:34:42.386Z"
   },
   {
    "duration": 16,
    "start_time": "2024-08-11T10:34:42.455Z"
   },
   {
    "duration": 6,
    "start_time": "2024-08-11T10:34:42.474Z"
   },
   {
    "duration": 130,
    "start_time": "2024-08-11T10:34:42.482Z"
   },
   {
    "duration": 3,
    "start_time": "2024-08-11T10:34:42.614Z"
   },
   {
    "duration": 16,
    "start_time": "2024-08-11T10:34:42.619Z"
   },
   {
    "duration": 22,
    "start_time": "2024-08-11T10:34:42.636Z"
   },
   {
    "duration": 5,
    "start_time": "2024-08-11T10:34:42.660Z"
   },
   {
    "duration": 46,
    "start_time": "2024-08-11T10:34:42.667Z"
   },
   {
    "duration": 3,
    "start_time": "2024-08-11T10:34:42.715Z"
   },
   {
    "duration": 11,
    "start_time": "2024-08-11T10:34:42.720Z"
   },
   {
    "duration": 768,
    "start_time": "2024-08-11T10:34:42.732Z"
   },
   {
    "duration": 811,
    "start_time": "2024-08-11T10:34:43.502Z"
   },
   {
    "duration": 10,
    "start_time": "2024-08-11T10:34:44.319Z"
   },
   {
    "duration": 16,
    "start_time": "2024-08-11T10:34:44.331Z"
   },
   {
    "duration": 34,
    "start_time": "2024-08-11T10:34:44.349Z"
   },
   {
    "duration": 42,
    "start_time": "2024-08-11T10:34:44.384Z"
   },
   {
    "duration": 10,
    "start_time": "2024-08-11T10:34:44.429Z"
   },
   {
    "duration": 13,
    "start_time": "2024-08-11T10:34:44.441Z"
   },
   {
    "duration": 22,
    "start_time": "2024-08-11T10:34:44.456Z"
   },
   {
    "duration": 41,
    "start_time": "2024-08-11T10:34:44.480Z"
   },
   {
    "duration": 10,
    "start_time": "2024-08-11T10:34:44.523Z"
   },
   {
    "duration": 6,
    "start_time": "2024-08-11T10:34:44.535Z"
   },
   {
    "duration": 12,
    "start_time": "2024-08-11T10:34:44.543Z"
   },
   {
    "duration": 14,
    "start_time": "2024-08-11T10:34:44.557Z"
   },
   {
    "duration": 34,
    "start_time": "2024-08-11T10:34:44.573Z"
   },
   {
    "duration": 5,
    "start_time": "2024-08-11T10:34:44.611Z"
   },
   {
    "duration": 4,
    "start_time": "2024-08-11T10:34:44.618Z"
   },
   {
    "duration": 9,
    "start_time": "2024-08-11T10:34:44.624Z"
   },
   {
    "duration": 12,
    "start_time": "2024-08-11T10:34:44.634Z"
   },
   {
    "duration": 142,
    "start_time": "2024-08-11T10:34:44.648Z"
   },
   {
    "duration": 0,
    "start_time": "2024-08-11T10:34:44.791Z"
   },
   {
    "duration": 0,
    "start_time": "2024-08-11T10:34:44.792Z"
   },
   {
    "duration": 9,
    "start_time": "2024-08-11T10:34:55.484Z"
   },
   {
    "duration": 8,
    "start_time": "2024-08-11T10:34:59.611Z"
   },
   {
    "duration": 9,
    "start_time": "2024-08-11T10:35:03.007Z"
   },
   {
    "duration": 4,
    "start_time": "2024-08-11T10:38:50.533Z"
   },
   {
    "duration": 13,
    "start_time": "2024-08-11T10:40:04.721Z"
   },
   {
    "duration": 12,
    "start_time": "2024-08-11T10:40:12.738Z"
   },
   {
    "duration": 13,
    "start_time": "2024-08-11T10:40:23.718Z"
   },
   {
    "duration": 13,
    "start_time": "2024-08-11T10:41:27.710Z"
   },
   {
    "duration": 13,
    "start_time": "2024-08-11T10:41:51.445Z"
   },
   {
    "duration": 9,
    "start_time": "2024-08-11T10:41:55.987Z"
   },
   {
    "duration": 10,
    "start_time": "2024-08-11T10:42:18.698Z"
   },
   {
    "duration": 1248,
    "start_time": "2024-08-11T10:42:31.543Z"
   },
   {
    "duration": 75,
    "start_time": "2024-08-11T10:42:32.792Z"
   },
   {
    "duration": 26,
    "start_time": "2024-08-11T10:42:32.870Z"
   },
   {
    "duration": 13,
    "start_time": "2024-08-11T10:42:32.899Z"
   },
   {
    "duration": 135,
    "start_time": "2024-08-11T10:42:32.914Z"
   },
   {
    "duration": 4,
    "start_time": "2024-08-11T10:42:33.052Z"
   },
   {
    "duration": 14,
    "start_time": "2024-08-11T10:42:33.057Z"
   },
   {
    "duration": 34,
    "start_time": "2024-08-11T10:42:33.073Z"
   },
   {
    "duration": 22,
    "start_time": "2024-08-11T10:42:33.109Z"
   },
   {
    "duration": 26,
    "start_time": "2024-08-11T10:42:33.134Z"
   },
   {
    "duration": 4,
    "start_time": "2024-08-11T10:42:33.162Z"
   },
   {
    "duration": 5,
    "start_time": "2024-08-11T10:42:33.168Z"
   },
   {
    "duration": 769,
    "start_time": "2024-08-11T10:42:33.174Z"
   },
   {
    "duration": 796,
    "start_time": "2024-08-11T10:42:33.945Z"
   },
   {
    "duration": 9,
    "start_time": "2024-08-11T10:42:34.743Z"
   },
   {
    "duration": 10,
    "start_time": "2024-08-11T10:42:34.754Z"
   },
   {
    "duration": 51,
    "start_time": "2024-08-11T10:42:34.766Z"
   },
   {
    "duration": 36,
    "start_time": "2024-08-11T10:42:34.819Z"
   },
   {
    "duration": 14,
    "start_time": "2024-08-11T10:42:34.857Z"
   },
   {
    "duration": 43,
    "start_time": "2024-08-11T10:42:34.873Z"
   },
   {
    "duration": 33,
    "start_time": "2024-08-11T10:42:34.919Z"
   },
   {
    "duration": 20,
    "start_time": "2024-08-11T10:42:34.954Z"
   },
   {
    "duration": 36,
    "start_time": "2024-08-11T10:42:34.975Z"
   },
   {
    "duration": 9,
    "start_time": "2024-08-11T10:42:35.013Z"
   },
   {
    "duration": 25,
    "start_time": "2024-08-11T10:42:35.024Z"
   },
   {
    "duration": 11,
    "start_time": "2024-08-11T10:42:35.052Z"
   },
   {
    "duration": 24,
    "start_time": "2024-08-11T10:42:35.064Z"
   },
   {
    "duration": 24,
    "start_time": "2024-08-11T10:42:35.092Z"
   },
   {
    "duration": 5,
    "start_time": "2024-08-11T10:42:35.118Z"
   },
   {
    "duration": 11,
    "start_time": "2024-08-11T10:42:35.125Z"
   },
   {
    "duration": 17,
    "start_time": "2024-08-11T10:42:35.138Z"
   },
   {
    "duration": 14,
    "start_time": "2024-08-11T10:42:35.157Z"
   },
   {
    "duration": 37,
    "start_time": "2024-08-11T10:42:35.173Z"
   },
   {
    "duration": 12,
    "start_time": "2024-08-11T10:42:35.212Z"
   },
   {
    "duration": 11,
    "start_time": "2024-08-11T10:43:12.131Z"
   },
   {
    "duration": 4,
    "start_time": "2024-08-11T10:47:07.844Z"
   },
   {
    "duration": 4,
    "start_time": "2024-08-11T10:47:31.724Z"
   },
   {
    "duration": 5,
    "start_time": "2024-08-11T10:49:07.145Z"
   },
   {
    "duration": 4,
    "start_time": "2024-08-11T10:49:22.417Z"
   },
   {
    "duration": 3,
    "start_time": "2024-08-11T10:52:23.535Z"
   },
   {
    "duration": 4,
    "start_time": "2024-08-11T10:53:53.443Z"
   },
   {
    "duration": 4,
    "start_time": "2024-08-11T10:54:13.719Z"
   },
   {
    "duration": 4,
    "start_time": "2024-08-11T10:54:24.076Z"
   },
   {
    "duration": 63042,
    "start_time": "2024-08-11T11:09:34.183Z"
   },
   {
    "duration": 198,
    "start_time": "2024-08-11T11:12:38.716Z"
   },
   {
    "duration": 9,
    "start_time": "2024-08-11T11:21:49.261Z"
   },
   {
    "duration": 8,
    "start_time": "2024-08-11T11:21:59.433Z"
   },
   {
    "duration": 304,
    "start_time": "2024-08-11T11:22:04.316Z"
   },
   {
    "duration": 6,
    "start_time": "2024-08-11T11:22:50.545Z"
   },
   {
    "duration": 12,
    "start_time": "2024-08-11T11:23:02.757Z"
   },
   {
    "duration": 6,
    "start_time": "2024-08-11T11:23:07.819Z"
   },
   {
    "duration": 13859,
    "start_time": "2024-08-11T11:23:38.336Z"
   },
   {
    "duration": 3,
    "start_time": "2024-08-11T11:27:02.535Z"
   },
   {
    "duration": 8240,
    "start_time": "2024-08-11T11:27:10.387Z"
   },
   {
    "duration": 1800,
    "start_time": "2024-08-11T11:28:26.704Z"
   },
   {
    "duration": 9010,
    "start_time": "2024-08-11T11:31:49.422Z"
   },
   {
    "duration": 8453,
    "start_time": "2024-08-11T11:32:41.125Z"
   },
   {
    "duration": 22,
    "start_time": "2024-08-11T11:33:50.850Z"
   },
   {
    "duration": 8241,
    "start_time": "2024-08-11T11:34:01.873Z"
   },
   {
    "duration": 9130,
    "start_time": "2024-08-11T11:34:29.806Z"
   },
   {
    "duration": 8807,
    "start_time": "2024-08-11T11:34:40.342Z"
   },
   {
    "duration": 1525,
    "start_time": "2024-08-11T14:07:35.179Z"
   },
   {
    "duration": 0,
    "start_time": "2024-08-11T14:07:36.707Z"
   },
   {
    "duration": 0,
    "start_time": "2024-08-11T14:07:36.708Z"
   },
   {
    "duration": 0,
    "start_time": "2024-08-11T14:07:36.710Z"
   },
   {
    "duration": 0,
    "start_time": "2024-08-11T14:07:36.712Z"
   },
   {
    "duration": 0,
    "start_time": "2024-08-11T14:07:36.713Z"
   },
   {
    "duration": 0,
    "start_time": "2024-08-11T14:07:36.714Z"
   },
   {
    "duration": 0,
    "start_time": "2024-08-11T14:07:36.716Z"
   },
   {
    "duration": 0,
    "start_time": "2024-08-11T14:07:36.718Z"
   },
   {
    "duration": 0,
    "start_time": "2024-08-11T14:07:36.719Z"
   },
   {
    "duration": 0,
    "start_time": "2024-08-11T14:07:36.721Z"
   },
   {
    "duration": 0,
    "start_time": "2024-08-11T14:07:36.722Z"
   },
   {
    "duration": 0,
    "start_time": "2024-08-11T14:07:36.723Z"
   },
   {
    "duration": 0,
    "start_time": "2024-08-11T14:07:36.725Z"
   },
   {
    "duration": 0,
    "start_time": "2024-08-11T14:07:36.726Z"
   },
   {
    "duration": 0,
    "start_time": "2024-08-11T14:07:36.727Z"
   },
   {
    "duration": 0,
    "start_time": "2024-08-11T14:07:36.729Z"
   },
   {
    "duration": 0,
    "start_time": "2024-08-11T14:07:36.730Z"
   },
   {
    "duration": 0,
    "start_time": "2024-08-11T14:07:36.731Z"
   },
   {
    "duration": 0,
    "start_time": "2024-08-11T14:07:36.733Z"
   },
   {
    "duration": 0,
    "start_time": "2024-08-11T14:07:36.734Z"
   },
   {
    "duration": 0,
    "start_time": "2024-08-11T14:07:36.735Z"
   },
   {
    "duration": 0,
    "start_time": "2024-08-11T14:07:36.737Z"
   },
   {
    "duration": 0,
    "start_time": "2024-08-11T14:07:36.738Z"
   },
   {
    "duration": 0,
    "start_time": "2024-08-11T14:07:36.739Z"
   },
   {
    "duration": 0,
    "start_time": "2024-08-11T14:07:36.741Z"
   },
   {
    "duration": 0,
    "start_time": "2024-08-11T14:07:36.742Z"
   },
   {
    "duration": 0,
    "start_time": "2024-08-11T14:07:36.796Z"
   },
   {
    "duration": 0,
    "start_time": "2024-08-11T14:07:36.797Z"
   },
   {
    "duration": 0,
    "start_time": "2024-08-11T14:07:36.798Z"
   },
   {
    "duration": 0,
    "start_time": "2024-08-11T14:07:36.799Z"
   },
   {
    "duration": 0,
    "start_time": "2024-08-11T14:07:36.800Z"
   },
   {
    "duration": 0,
    "start_time": "2024-08-11T14:07:36.801Z"
   },
   {
    "duration": 0,
    "start_time": "2024-08-11T14:07:36.802Z"
   },
   {
    "duration": 0,
    "start_time": "2024-08-11T14:07:36.803Z"
   },
   {
    "duration": 0,
    "start_time": "2024-08-11T14:07:36.804Z"
   },
   {
    "duration": 0,
    "start_time": "2024-08-11T14:07:36.805Z"
   },
   {
    "duration": 0,
    "start_time": "2024-08-11T14:07:36.806Z"
   },
   {
    "duration": 0,
    "start_time": "2024-08-11T14:07:36.807Z"
   },
   {
    "duration": 9,
    "start_time": "2024-08-11T14:08:56.355Z"
   },
   {
    "duration": 1247,
    "start_time": "2024-08-11T14:12:44.956Z"
   },
   {
    "duration": 92,
    "start_time": "2024-08-11T14:12:46.205Z"
   },
   {
    "duration": 16,
    "start_time": "2024-08-11T14:12:46.299Z"
   },
   {
    "duration": 6,
    "start_time": "2024-08-11T14:12:46.317Z"
   },
   {
    "duration": 148,
    "start_time": "2024-08-11T14:12:46.325Z"
   },
   {
    "duration": 5,
    "start_time": "2024-08-11T14:12:46.475Z"
   },
   {
    "duration": 5,
    "start_time": "2024-08-11T14:12:46.496Z"
   },
   {
    "duration": 20,
    "start_time": "2024-08-11T14:12:46.503Z"
   },
   {
    "duration": 15,
    "start_time": "2024-08-11T14:12:46.525Z"
   },
   {
    "duration": 22,
    "start_time": "2024-08-11T14:12:46.543Z"
   },
   {
    "duration": 3,
    "start_time": "2024-08-11T14:12:46.567Z"
   },
   {
    "duration": 26,
    "start_time": "2024-08-11T14:12:46.571Z"
   },
   {
    "duration": 112,
    "start_time": "2024-08-11T14:12:46.599Z"
   },
   {
    "duration": 0,
    "start_time": "2024-08-11T14:12:46.713Z"
   },
   {
    "duration": 0,
    "start_time": "2024-08-11T14:12:46.714Z"
   },
   {
    "duration": 0,
    "start_time": "2024-08-11T14:12:46.715Z"
   },
   {
    "duration": 0,
    "start_time": "2024-08-11T14:12:46.717Z"
   },
   {
    "duration": 1,
    "start_time": "2024-08-11T14:12:46.718Z"
   },
   {
    "duration": 0,
    "start_time": "2024-08-11T14:12:46.720Z"
   },
   {
    "duration": 0,
    "start_time": "2024-08-11T14:12:46.721Z"
   },
   {
    "duration": 0,
    "start_time": "2024-08-11T14:12:46.723Z"
   },
   {
    "duration": 0,
    "start_time": "2024-08-11T14:12:46.724Z"
   },
   {
    "duration": 0,
    "start_time": "2024-08-11T14:12:46.726Z"
   },
   {
    "duration": 0,
    "start_time": "2024-08-11T14:12:46.727Z"
   },
   {
    "duration": 0,
    "start_time": "2024-08-11T14:12:46.729Z"
   },
   {
    "duration": 0,
    "start_time": "2024-08-11T14:12:46.730Z"
   },
   {
    "duration": 0,
    "start_time": "2024-08-11T14:12:46.731Z"
   },
   {
    "duration": 0,
    "start_time": "2024-08-11T14:12:46.733Z"
   },
   {
    "duration": 0,
    "start_time": "2024-08-11T14:12:46.734Z"
   },
   {
    "duration": 0,
    "start_time": "2024-08-11T14:12:46.735Z"
   },
   {
    "duration": 0,
    "start_time": "2024-08-11T14:12:46.736Z"
   },
   {
    "duration": 0,
    "start_time": "2024-08-11T14:12:46.738Z"
   },
   {
    "duration": 0,
    "start_time": "2024-08-11T14:12:46.739Z"
   },
   {
    "duration": 0,
    "start_time": "2024-08-11T14:12:46.741Z"
   },
   {
    "duration": 0,
    "start_time": "2024-08-11T14:12:46.742Z"
   },
   {
    "duration": 0,
    "start_time": "2024-08-11T14:12:46.795Z"
   },
   {
    "duration": 0,
    "start_time": "2024-08-11T14:12:46.797Z"
   },
   {
    "duration": 0,
    "start_time": "2024-08-11T14:12:46.799Z"
   },
   {
    "duration": 0,
    "start_time": "2024-08-11T14:12:46.800Z"
   },
   {
    "duration": 10,
    "start_time": "2024-08-11T14:14:15.125Z"
   },
   {
    "duration": 3411,
    "start_time": "2024-08-11T14:14:19.426Z"
   },
   {
    "duration": 1203,
    "start_time": "2024-08-11T14:14:22.840Z"
   },
   {
    "duration": 81,
    "start_time": "2024-08-11T14:14:24.045Z"
   },
   {
    "duration": 16,
    "start_time": "2024-08-11T14:14:24.128Z"
   },
   {
    "duration": 7,
    "start_time": "2024-08-11T14:14:24.145Z"
   },
   {
    "duration": 117,
    "start_time": "2024-08-11T14:14:24.153Z"
   },
   {
    "duration": 3,
    "start_time": "2024-08-11T14:14:24.272Z"
   },
   {
    "duration": 21,
    "start_time": "2024-08-11T14:14:24.276Z"
   },
   {
    "duration": 21,
    "start_time": "2024-08-11T14:14:24.299Z"
   },
   {
    "duration": 4,
    "start_time": "2024-08-11T14:14:24.323Z"
   },
   {
    "duration": 21,
    "start_time": "2024-08-11T14:14:24.328Z"
   },
   {
    "duration": 3,
    "start_time": "2024-08-11T14:14:24.351Z"
   },
   {
    "duration": 5,
    "start_time": "2024-08-11T14:14:24.355Z"
   },
   {
    "duration": 749,
    "start_time": "2024-08-11T14:14:24.361Z"
   },
   {
    "duration": 823,
    "start_time": "2024-08-11T14:14:25.112Z"
   },
   {
    "duration": 6,
    "start_time": "2024-08-11T14:14:25.937Z"
   },
   {
    "duration": 8,
    "start_time": "2024-08-11T14:14:25.945Z"
   },
   {
    "duration": 52,
    "start_time": "2024-08-11T14:14:25.954Z"
   },
   {
    "duration": 25,
    "start_time": "2024-08-11T14:14:26.007Z"
   },
   {
    "duration": 10,
    "start_time": "2024-08-11T14:14:26.033Z"
   },
   {
    "duration": 13,
    "start_time": "2024-08-11T14:14:26.045Z"
   },
   {
    "duration": 40,
    "start_time": "2024-08-11T14:14:26.059Z"
   },
   {
    "duration": 15,
    "start_time": "2024-08-11T14:14:26.101Z"
   },
   {
    "duration": 10,
    "start_time": "2024-08-11T14:14:26.117Z"
   },
   {
    "duration": 20,
    "start_time": "2024-08-11T14:14:26.129Z"
   },
   {
    "duration": 14,
    "start_time": "2024-08-11T14:14:26.150Z"
   },
   {
    "duration": 5,
    "start_time": "2024-08-11T14:14:26.165Z"
   },
   {
    "duration": 23,
    "start_time": "2024-08-11T14:14:26.173Z"
   },
   {
    "duration": 4,
    "start_time": "2024-08-11T14:14:26.198Z"
   },
   {
    "duration": 38,
    "start_time": "2024-08-11T14:14:26.203Z"
   },
   {
    "duration": 7,
    "start_time": "2024-08-11T14:14:26.243Z"
   },
   {
    "duration": 11,
    "start_time": "2024-08-11T14:14:26.252Z"
   },
   {
    "duration": 9,
    "start_time": "2024-08-11T14:14:26.265Z"
   },
   {
    "duration": 7,
    "start_time": "2024-08-11T14:14:26.275Z"
   },
   {
    "duration": 3,
    "start_time": "2024-08-11T14:14:26.296Z"
   },
   {
    "duration": 6,
    "start_time": "2024-08-11T14:14:26.300Z"
   },
   {
    "duration": 9,
    "start_time": "2024-08-11T14:14:26.307Z"
   },
   {
    "duration": 10,
    "start_time": "2024-08-11T14:14:26.317Z"
   },
   {
    "duration": 3,
    "start_time": "2024-08-11T14:14:26.328Z"
   },
   {
    "duration": 8063,
    "start_time": "2024-08-11T14:14:26.333Z"
   },
   {
    "duration": 9,
    "start_time": "2024-08-11T14:16:26.514Z"
   },
   {
    "duration": 8,
    "start_time": "2024-08-11T14:17:35.019Z"
   },
   {
    "duration": 6,
    "start_time": "2024-08-11T14:17:36.972Z"
   },
   {
    "duration": 7,
    "start_time": "2024-08-11T14:18:09.632Z"
   },
   {
    "duration": 150,
    "start_time": "2024-08-11T14:22:32.498Z"
   },
   {
    "duration": 290,
    "start_time": "2024-08-11T14:22:44.229Z"
   },
   {
    "duration": 12,
    "start_time": "2024-08-11T14:24:54.631Z"
   },
   {
    "duration": 13,
    "start_time": "2024-08-11T14:25:01.158Z"
   },
   {
    "duration": 26,
    "start_time": "2024-08-11T14:25:08.387Z"
   },
   {
    "duration": 841,
    "start_time": "2024-08-11T14:26:44.931Z"
   },
   {
    "duration": 1188,
    "start_time": "2024-08-11T14:26:49.110Z"
   },
   {
    "duration": 2551,
    "start_time": "2024-08-11T14:27:52.403Z"
   },
   {
    "duration": 1317,
    "start_time": "2024-08-11T14:27:54.957Z"
   },
   {
    "duration": 83,
    "start_time": "2024-08-11T14:27:56.275Z"
   },
   {
    "duration": 17,
    "start_time": "2024-08-11T14:27:56.360Z"
   },
   {
    "duration": 7,
    "start_time": "2024-08-11T14:27:56.379Z"
   },
   {
    "duration": 121,
    "start_time": "2024-08-11T14:27:56.387Z"
   },
   {
    "duration": 4,
    "start_time": "2024-08-11T14:27:56.509Z"
   },
   {
    "duration": 10,
    "start_time": "2024-08-11T14:27:56.516Z"
   },
   {
    "duration": 22,
    "start_time": "2024-08-11T14:27:56.528Z"
   },
   {
    "duration": 17,
    "start_time": "2024-08-11T14:27:56.553Z"
   },
   {
    "duration": 50,
    "start_time": "2024-08-11T14:27:56.572Z"
   },
   {
    "duration": 4,
    "start_time": "2024-08-11T14:27:56.624Z"
   },
   {
    "duration": 31,
    "start_time": "2024-08-11T14:27:56.630Z"
   },
   {
    "duration": 762,
    "start_time": "2024-08-11T14:27:56.664Z"
   },
   {
    "duration": 787,
    "start_time": "2024-08-11T14:27:57.427Z"
   },
   {
    "duration": 7,
    "start_time": "2024-08-11T14:27:58.216Z"
   },
   {
    "duration": 13,
    "start_time": "2024-08-11T14:27:58.225Z"
   },
   {
    "duration": 50,
    "start_time": "2024-08-11T14:27:58.240Z"
   },
   {
    "duration": 26,
    "start_time": "2024-08-11T14:27:58.292Z"
   },
   {
    "duration": 16,
    "start_time": "2024-08-11T14:27:58.322Z"
   },
   {
    "duration": 15,
    "start_time": "2024-08-11T14:27:58.340Z"
   },
   {
    "duration": 46,
    "start_time": "2024-08-11T14:27:58.357Z"
   },
   {
    "duration": 19,
    "start_time": "2024-08-11T14:27:58.405Z"
   },
   {
    "duration": 12,
    "start_time": "2024-08-11T14:27:58.426Z"
   },
   {
    "duration": 8,
    "start_time": "2024-08-11T14:27:58.440Z"
   },
   {
    "duration": 14,
    "start_time": "2024-08-11T14:27:58.450Z"
   },
   {
    "duration": 6,
    "start_time": "2024-08-11T14:27:58.497Z"
   },
   {
    "duration": 8,
    "start_time": "2024-08-11T14:27:58.508Z"
   },
   {
    "duration": 5,
    "start_time": "2024-08-11T14:27:58.518Z"
   },
   {
    "duration": 4,
    "start_time": "2024-08-11T14:27:58.525Z"
   },
   {
    "duration": 8,
    "start_time": "2024-08-11T14:27:58.530Z"
   },
   {
    "duration": 13,
    "start_time": "2024-08-11T14:27:58.540Z"
   },
   {
    "duration": 49,
    "start_time": "2024-08-11T14:27:58.555Z"
   },
   {
    "duration": 9,
    "start_time": "2024-08-11T14:27:58.606Z"
   },
   {
    "duration": 3,
    "start_time": "2024-08-11T14:27:58.617Z"
   },
   {
    "duration": 4,
    "start_time": "2024-08-11T14:27:58.622Z"
   },
   {
    "duration": 4,
    "start_time": "2024-08-11T14:27:58.628Z"
   },
   {
    "duration": 5,
    "start_time": "2024-08-11T14:27:58.634Z"
   },
   {
    "duration": 10,
    "start_time": "2024-08-11T14:27:58.641Z"
   },
   {
    "duration": 7,
    "start_time": "2024-08-11T14:27:58.697Z"
   },
   {
    "duration": 3,
    "start_time": "2024-08-11T14:27:58.706Z"
   },
   {
    "duration": 911,
    "start_time": "2024-08-11T14:27:58.711Z"
   },
   {
    "duration": 8882,
    "start_time": "2024-08-11T14:27:59.624Z"
   },
   {
    "duration": 793,
    "start_time": "2024-08-11T14:28:21.535Z"
   },
   {
    "duration": 846,
    "start_time": "2024-08-11T14:28:50.143Z"
   },
   {
    "duration": 49,
    "start_time": "2024-08-11T14:31:15.408Z"
   },
   {
    "duration": 8701,
    "start_time": "2024-08-11T14:32:49.985Z"
   },
   {
    "duration": 2596,
    "start_time": "2024-08-11T14:36:51.245Z"
   },
   {
    "duration": 1243,
    "start_time": "2024-08-11T14:36:53.844Z"
   },
   {
    "duration": 67,
    "start_time": "2024-08-11T14:36:55.089Z"
   },
   {
    "duration": 17,
    "start_time": "2024-08-11T14:36:55.158Z"
   },
   {
    "duration": 6,
    "start_time": "2024-08-11T14:36:55.177Z"
   },
   {
    "duration": 149,
    "start_time": "2024-08-11T14:36:55.185Z"
   },
   {
    "duration": 5,
    "start_time": "2024-08-11T14:36:55.340Z"
   },
   {
    "duration": 19,
    "start_time": "2024-08-11T14:36:55.348Z"
   },
   {
    "duration": 33,
    "start_time": "2024-08-11T14:36:55.370Z"
   },
   {
    "duration": 6,
    "start_time": "2024-08-11T14:36:55.407Z"
   },
   {
    "duration": 22,
    "start_time": "2024-08-11T14:36:55.415Z"
   },
   {
    "duration": 3,
    "start_time": "2024-08-11T14:36:55.439Z"
   },
   {
    "duration": 5,
    "start_time": "2024-08-11T14:36:55.444Z"
   },
   {
    "duration": 850,
    "start_time": "2024-08-11T14:36:55.450Z"
   },
   {
    "duration": 814,
    "start_time": "2024-08-11T14:36:56.301Z"
   },
   {
    "duration": 7,
    "start_time": "2024-08-11T14:36:57.117Z"
   },
   {
    "duration": 16,
    "start_time": "2024-08-11T14:36:57.127Z"
   },
   {
    "duration": 61,
    "start_time": "2024-08-11T14:36:57.145Z"
   },
   {
    "duration": 31,
    "start_time": "2024-08-11T14:36:57.209Z"
   },
   {
    "duration": 11,
    "start_time": "2024-08-11T14:36:57.242Z"
   },
   {
    "duration": 14,
    "start_time": "2024-08-11T14:36:57.255Z"
   },
   {
    "duration": 24,
    "start_time": "2024-08-11T14:36:57.297Z"
   },
   {
    "duration": 26,
    "start_time": "2024-08-11T14:36:57.323Z"
   },
   {
    "duration": 46,
    "start_time": "2024-08-11T14:36:57.351Z"
   },
   {
    "duration": 9,
    "start_time": "2024-08-11T14:36:57.400Z"
   },
   {
    "duration": 18,
    "start_time": "2024-08-11T14:36:57.411Z"
   },
   {
    "duration": 7,
    "start_time": "2024-08-11T14:36:57.431Z"
   },
   {
    "duration": 10,
    "start_time": "2024-08-11T14:36:57.441Z"
   },
   {
    "duration": 7,
    "start_time": "2024-08-11T14:36:57.454Z"
   },
   {
    "duration": 5,
    "start_time": "2024-08-11T14:36:57.497Z"
   },
   {
    "duration": 80,
    "start_time": "2024-08-11T14:36:57.504Z"
   },
   {
    "duration": 18,
    "start_time": "2024-08-11T14:36:57.586Z"
   },
   {
    "duration": 17,
    "start_time": "2024-08-11T14:36:57.606Z"
   },
   {
    "duration": 22,
    "start_time": "2024-08-11T14:36:57.625Z"
   },
   {
    "duration": 22,
    "start_time": "2024-08-11T14:36:57.649Z"
   },
   {
    "duration": 6,
    "start_time": "2024-08-11T14:36:57.673Z"
   },
   {
    "duration": 3,
    "start_time": "2024-08-11T14:36:57.681Z"
   },
   {
    "duration": 4,
    "start_time": "2024-08-11T14:36:57.686Z"
   },
   {
    "duration": 7,
    "start_time": "2024-08-11T14:36:57.695Z"
   },
   {
    "duration": 6,
    "start_time": "2024-08-11T14:36:57.704Z"
   },
   {
    "duration": 2,
    "start_time": "2024-08-11T14:36:57.712Z"
   },
   {
    "duration": 822,
    "start_time": "2024-08-11T14:36:57.716Z"
   },
   {
    "duration": 8666,
    "start_time": "2024-08-11T14:36:58.539Z"
   },
   {
    "duration": 5,
    "start_time": "2024-08-11T14:40:09.210Z"
   },
   {
    "duration": 5,
    "start_time": "2024-08-11T14:47:31.650Z"
   },
   {
    "duration": 2734,
    "start_time": "2024-08-11T14:49:02.476Z"
   },
   {
    "duration": 1314,
    "start_time": "2024-08-11T14:49:05.212Z"
   },
   {
    "duration": 83,
    "start_time": "2024-08-11T14:49:06.529Z"
   },
   {
    "duration": 19,
    "start_time": "2024-08-11T14:49:06.615Z"
   },
   {
    "duration": 7,
    "start_time": "2024-08-11T14:49:06.636Z"
   },
   {
    "duration": 178,
    "start_time": "2024-08-11T14:49:06.645Z"
   },
   {
    "duration": 5,
    "start_time": "2024-08-11T14:49:06.824Z"
   },
   {
    "duration": 8,
    "start_time": "2024-08-11T14:49:06.831Z"
   },
   {
    "duration": 5,
    "start_time": "2024-08-11T14:49:06.841Z"
   },
   {
    "duration": 7,
    "start_time": "2024-08-11T14:49:06.848Z"
   },
   {
    "duration": 63,
    "start_time": "2024-08-11T14:49:06.857Z"
   },
   {
    "duration": 8,
    "start_time": "2024-08-11T14:49:06.922Z"
   },
   {
    "duration": 21,
    "start_time": "2024-08-11T14:49:06.932Z"
   },
   {
    "duration": 5,
    "start_time": "2024-08-11T14:49:06.955Z"
   },
   {
    "duration": 5,
    "start_time": "2024-08-11T14:49:06.962Z"
   },
   {
    "duration": 871,
    "start_time": "2024-08-11T14:49:06.969Z"
   },
   {
    "duration": 861,
    "start_time": "2024-08-11T14:49:07.842Z"
   },
   {
    "duration": 7,
    "start_time": "2024-08-11T14:49:08.710Z"
   },
   {
    "duration": 7,
    "start_time": "2024-08-11T14:49:08.719Z"
   },
   {
    "duration": 26,
    "start_time": "2024-08-11T14:49:08.727Z"
   },
   {
    "duration": 51,
    "start_time": "2024-08-11T14:49:08.754Z"
   },
   {
    "duration": 13,
    "start_time": "2024-08-11T14:49:08.809Z"
   },
   {
    "duration": 27,
    "start_time": "2024-08-11T14:49:08.823Z"
   },
   {
    "duration": 27,
    "start_time": "2024-08-11T14:49:08.852Z"
   },
   {
    "duration": 39,
    "start_time": "2024-08-11T14:49:08.880Z"
   },
   {
    "duration": 17,
    "start_time": "2024-08-11T14:49:08.921Z"
   },
   {
    "duration": 7,
    "start_time": "2024-08-11T14:49:08.940Z"
   },
   {
    "duration": 13,
    "start_time": "2024-08-11T14:49:08.950Z"
   },
   {
    "duration": 9,
    "start_time": "2024-08-11T14:49:08.964Z"
   },
   {
    "duration": 29,
    "start_time": "2024-08-11T14:49:08.975Z"
   },
   {
    "duration": 9,
    "start_time": "2024-08-11T14:49:09.009Z"
   },
   {
    "duration": 4,
    "start_time": "2024-08-11T14:49:09.020Z"
   },
   {
    "duration": 8,
    "start_time": "2024-08-11T14:49:09.026Z"
   },
   {
    "duration": 40,
    "start_time": "2024-08-11T14:49:09.036Z"
   },
   {
    "duration": 22,
    "start_time": "2024-08-11T14:49:09.079Z"
   },
   {
    "duration": 15,
    "start_time": "2024-08-11T14:49:09.103Z"
   },
   {
    "duration": 4,
    "start_time": "2024-08-11T14:49:09.120Z"
   },
   {
    "duration": 6,
    "start_time": "2024-08-11T14:49:09.126Z"
   },
   {
    "duration": 4,
    "start_time": "2024-08-11T14:49:09.134Z"
   },
   {
    "duration": 10,
    "start_time": "2024-08-11T14:49:09.140Z"
   },
   {
    "duration": 8,
    "start_time": "2024-08-11T14:49:09.152Z"
   },
   {
    "duration": 17,
    "start_time": "2024-08-11T14:49:09.195Z"
   },
   {
    "duration": 4,
    "start_time": "2024-08-11T14:49:09.216Z"
   },
   {
    "duration": 953,
    "start_time": "2024-08-11T14:49:09.222Z"
   },
   {
    "duration": 8994,
    "start_time": "2024-08-11T14:49:10.177Z"
   },
   {
    "duration": 43,
    "start_time": "2024-08-11T14:52:46.149Z"
   },
   {
    "duration": 44,
    "start_time": "2024-08-11T14:52:52.681Z"
   },
   {
    "duration": 157,
    "start_time": "2024-08-11T14:53:10.665Z"
   },
   {
    "duration": 145,
    "start_time": "2024-08-11T14:53:30.069Z"
   },
   {
    "duration": 57,
    "start_time": "2024-08-11T14:54:38.707Z"
   },
   {
    "duration": 143,
    "start_time": "2024-08-11T14:55:01.538Z"
   },
   {
    "duration": 814,
    "start_time": "2024-08-11T14:55:47.771Z"
   },
   {
    "duration": 328,
    "start_time": "2024-08-11T14:56:37.323Z"
   },
   {
    "duration": 342,
    "start_time": "2024-08-11T14:56:49.004Z"
   },
   {
    "duration": 347,
    "start_time": "2024-08-11T14:57:12.563Z"
   },
   {
    "duration": 383,
    "start_time": "2024-08-11T14:57:33.620Z"
   },
   {
    "duration": 2618,
    "start_time": "2024-08-11T14:58:06.655Z"
   },
   {
    "duration": 1264,
    "start_time": "2024-08-11T14:58:09.276Z"
   },
   {
    "duration": 99,
    "start_time": "2024-08-11T14:58:10.542Z"
   },
   {
    "duration": 17,
    "start_time": "2024-08-11T14:58:10.643Z"
   },
   {
    "duration": 20,
    "start_time": "2024-08-11T14:58:10.661Z"
   },
   {
    "duration": 132,
    "start_time": "2024-08-11T14:58:10.682Z"
   },
   {
    "duration": 3,
    "start_time": "2024-08-11T14:58:10.816Z"
   },
   {
    "duration": 15,
    "start_time": "2024-08-11T14:58:10.821Z"
   },
   {
    "duration": 11,
    "start_time": "2024-08-11T14:58:10.837Z"
   },
   {
    "duration": 4,
    "start_time": "2024-08-11T14:58:10.850Z"
   },
   {
    "duration": 20,
    "start_time": "2024-08-11T14:58:10.856Z"
   },
   {
    "duration": 10,
    "start_time": "2024-08-11T14:58:10.898Z"
   },
   {
    "duration": 21,
    "start_time": "2024-08-11T14:58:10.911Z"
   },
   {
    "duration": 3,
    "start_time": "2024-08-11T14:58:10.934Z"
   },
   {
    "duration": 7,
    "start_time": "2024-08-11T14:58:10.938Z"
   },
   {
    "duration": 801,
    "start_time": "2024-08-11T14:58:10.947Z"
   },
   {
    "duration": 876,
    "start_time": "2024-08-11T14:58:11.750Z"
   },
   {
    "duration": 6,
    "start_time": "2024-08-11T14:58:12.628Z"
   },
   {
    "duration": 28,
    "start_time": "2024-08-11T14:58:12.636Z"
   },
   {
    "duration": 29,
    "start_time": "2024-08-11T14:58:12.666Z"
   },
   {
    "duration": 26,
    "start_time": "2024-08-11T14:58:12.703Z"
   },
   {
    "duration": 9,
    "start_time": "2024-08-11T14:58:12.731Z"
   },
   {
    "duration": 13,
    "start_time": "2024-08-11T14:58:12.741Z"
   },
   {
    "duration": 23,
    "start_time": "2024-08-11T14:58:12.755Z"
   },
   {
    "duration": 24,
    "start_time": "2024-08-11T14:58:12.802Z"
   },
   {
    "duration": 21,
    "start_time": "2024-08-11T14:58:12.828Z"
   },
   {
    "duration": 9,
    "start_time": "2024-08-11T14:58:12.851Z"
   },
   {
    "duration": 17,
    "start_time": "2024-08-11T14:58:12.865Z"
   },
   {
    "duration": 8,
    "start_time": "2024-08-11T14:58:12.897Z"
   },
   {
    "duration": 10,
    "start_time": "2024-08-11T14:58:12.909Z"
   },
   {
    "duration": 6,
    "start_time": "2024-08-11T14:58:12.921Z"
   },
   {
    "duration": 4,
    "start_time": "2024-08-11T14:58:12.929Z"
   },
   {
    "duration": 40,
    "start_time": "2024-08-11T14:58:12.934Z"
   },
   {
    "duration": 38,
    "start_time": "2024-08-11T14:58:12.976Z"
   },
   {
    "duration": 11,
    "start_time": "2024-08-11T14:58:13.016Z"
   },
   {
    "duration": 7,
    "start_time": "2024-08-11T14:58:13.029Z"
   },
   {
    "duration": 7,
    "start_time": "2024-08-11T14:58:13.038Z"
   },
   {
    "duration": 5,
    "start_time": "2024-08-11T14:58:13.047Z"
   },
   {
    "duration": 8,
    "start_time": "2024-08-11T14:58:13.054Z"
   },
   {
    "duration": 6,
    "start_time": "2024-08-11T14:58:13.064Z"
   },
   {
    "duration": 27,
    "start_time": "2024-08-11T14:58:13.071Z"
   },
   {
    "duration": 18,
    "start_time": "2024-08-11T14:58:13.099Z"
   },
   {
    "duration": 3,
    "start_time": "2024-08-11T14:58:13.118Z"
   },
   {
    "duration": 150,
    "start_time": "2024-08-11T14:58:13.122Z"
   },
   {
    "duration": 381,
    "start_time": "2024-08-11T14:58:13.274Z"
   },
   {
    "duration": 858,
    "start_time": "2024-08-11T14:58:13.657Z"
   },
   {
    "duration": 8812,
    "start_time": "2024-08-11T14:58:14.517Z"
   },
   {
    "duration": 469,
    "start_time": "2024-08-11T15:00:28.761Z"
   },
   {
    "duration": 512,
    "start_time": "2024-08-11T15:00:36.972Z"
   },
   {
    "duration": 513,
    "start_time": "2024-08-11T15:04:29.387Z"
   },
   {
    "duration": 2130,
    "start_time": "2024-08-11T15:06:54.672Z"
   },
   {
    "duration": 495,
    "start_time": "2024-08-11T15:07:00.206Z"
   },
   {
    "duration": 601,
    "start_time": "2024-08-11T15:07:38.967Z"
   },
   {
    "duration": 495,
    "start_time": "2024-08-11T15:07:49.079Z"
   },
   {
    "duration": 485,
    "start_time": "2024-08-11T15:07:57.839Z"
   },
   {
    "duration": 1632,
    "start_time": "2024-08-11T15:08:01.897Z"
   },
   {
    "duration": 1844,
    "start_time": "2024-08-11T15:08:14.708Z"
   },
   {
    "duration": 484,
    "start_time": "2024-08-11T15:08:29.040Z"
   },
   {
    "duration": 544,
    "start_time": "2024-08-11T15:08:44.716Z"
   },
   {
    "duration": 506,
    "start_time": "2024-08-11T15:08:49.711Z"
   },
   {
    "duration": 646,
    "start_time": "2024-08-11T15:09:59.484Z"
   },
   {
    "duration": 474,
    "start_time": "2024-08-11T15:13:15.889Z"
   },
   {
    "duration": 107,
    "start_time": "2024-08-11T15:13:50.118Z"
   },
   {
    "duration": 269,
    "start_time": "2024-08-11T15:13:59.937Z"
   },
   {
    "duration": 276,
    "start_time": "2024-08-11T15:14:05.125Z"
   },
   {
    "duration": 264,
    "start_time": "2024-08-11T15:14:24.450Z"
   },
   {
    "duration": 355,
    "start_time": "2024-08-11T15:14:40.454Z"
   },
   {
    "duration": 256,
    "start_time": "2024-08-11T15:14:54.214Z"
   },
   {
    "duration": 349,
    "start_time": "2024-08-11T15:15:48.378Z"
   },
   {
    "duration": 353,
    "start_time": "2024-08-11T15:16:08.203Z"
   },
   {
    "duration": 361,
    "start_time": "2024-08-11T15:16:18.635Z"
   },
   {
    "duration": 445,
    "start_time": "2024-08-11T15:16:41.671Z"
   },
   {
    "duration": 570,
    "start_time": "2024-08-11T15:19:04.052Z"
   },
   {
    "duration": 376,
    "start_time": "2024-08-11T15:19:28.761Z"
   },
   {
    "duration": 474,
    "start_time": "2024-08-11T15:19:35.096Z"
   },
   {
    "duration": 427,
    "start_time": "2024-08-11T15:20:04.097Z"
   },
   {
    "duration": 418,
    "start_time": "2024-08-11T15:25:18.247Z"
   },
   {
    "duration": 6,
    "start_time": "2024-08-11T15:42:40.486Z"
   },
   {
    "duration": 6,
    "start_time": "2024-08-11T15:43:31.802Z"
   },
   {
    "duration": 9,
    "start_time": "2024-08-11T15:43:43.858Z"
   },
   {
    "duration": 6,
    "start_time": "2024-08-11T15:45:04.143Z"
   },
   {
    "duration": 8,
    "start_time": "2024-08-11T15:45:08.126Z"
   },
   {
    "duration": 130,
    "start_time": "2024-08-11T15:45:19.746Z"
   },
   {
    "duration": 5,
    "start_time": "2024-08-11T15:45:30.407Z"
   },
   {
    "duration": 251,
    "start_time": "2024-08-11T15:45:32.886Z"
   },
   {
    "duration": 7,
    "start_time": "2024-08-11T15:45:51.235Z"
   },
   {
    "duration": 618,
    "start_time": "2024-08-11T15:45:51.723Z"
   },
   {
    "duration": 577,
    "start_time": "2024-08-11T15:46:52.719Z"
   },
   {
    "duration": 559,
    "start_time": "2024-08-11T15:48:06.727Z"
   },
   {
    "duration": 503,
    "start_time": "2024-08-11T15:48:21.647Z"
   },
   {
    "duration": 6,
    "start_time": "2024-08-11T15:49:19.044Z"
   },
   {
    "duration": 602,
    "start_time": "2024-08-11T15:49:19.520Z"
   },
   {
    "duration": 705,
    "start_time": "2024-08-11T15:49:24.076Z"
   },
   {
    "duration": 6,
    "start_time": "2024-08-11T15:49:51.212Z"
   },
   {
    "duration": 46,
    "start_time": "2024-08-11T15:50:01.888Z"
   },
   {
    "duration": 650,
    "start_time": "2024-08-11T15:50:06.890Z"
   },
   {
    "duration": 5,
    "start_time": "2024-08-11T15:50:17.973Z"
   },
   {
    "duration": 5,
    "start_time": "2024-08-11T15:50:30.861Z"
   },
   {
    "duration": 5,
    "start_time": "2024-08-11T15:50:40.197Z"
   },
   {
    "duration": 644,
    "start_time": "2024-08-11T15:50:43.660Z"
   },
   {
    "duration": 643,
    "start_time": "2024-08-11T15:50:56.553Z"
   },
   {
    "duration": 6,
    "start_time": "2024-08-11T15:51:13.836Z"
   },
   {
    "duration": 614,
    "start_time": "2024-08-11T15:51:14.505Z"
   },
   {
    "duration": 694,
    "start_time": "2024-08-11T15:51:31.829Z"
   },
   {
    "duration": 6,
    "start_time": "2024-08-11T15:51:51.777Z"
   },
   {
    "duration": 624,
    "start_time": "2024-08-11T15:51:52.357Z"
   },
   {
    "duration": 647,
    "start_time": "2024-08-11T15:51:55.345Z"
   },
   {
    "duration": 495,
    "start_time": "2024-08-11T15:52:19.050Z"
   },
   {
    "duration": 557,
    "start_time": "2024-08-11T15:55:41.307Z"
   },
   {
    "duration": 130,
    "start_time": "2024-08-11T15:56:36.455Z"
   },
   {
    "duration": 520,
    "start_time": "2024-08-11T15:56:40.679Z"
   },
   {
    "duration": 649,
    "start_time": "2024-08-11T15:56:50.503Z"
   },
   {
    "duration": 546,
    "start_time": "2024-08-11T16:05:41.519Z"
   },
   {
    "duration": 6,
    "start_time": "2024-08-11T16:08:21.029Z"
   },
   {
    "duration": 9,
    "start_time": "2024-08-11T16:08:51.876Z"
   },
   {
    "duration": 649,
    "start_time": "2024-08-11T16:09:33.789Z"
   },
   {
    "duration": 6,
    "start_time": "2024-08-11T16:09:50.917Z"
   },
   {
    "duration": 9,
    "start_time": "2024-08-11T16:09:51.405Z"
   },
   {
    "duration": 2478,
    "start_time": "2024-08-11T16:10:26.929Z"
   },
   {
    "duration": 1264,
    "start_time": "2024-08-11T16:10:29.410Z"
   },
   {
    "duration": 116,
    "start_time": "2024-08-11T16:10:30.675Z"
   },
   {
    "duration": 17,
    "start_time": "2024-08-11T16:10:30.793Z"
   },
   {
    "duration": 90,
    "start_time": "2024-08-11T16:10:30.812Z"
   },
   {
    "duration": 201,
    "start_time": "2024-08-11T16:10:30.904Z"
   },
   {
    "duration": 4,
    "start_time": "2024-08-11T16:10:31.106Z"
   },
   {
    "duration": 68,
    "start_time": "2024-08-11T16:10:31.111Z"
   },
   {
    "duration": 23,
    "start_time": "2024-08-11T16:10:31.181Z"
   },
   {
    "duration": 34,
    "start_time": "2024-08-11T16:10:31.207Z"
   },
   {
    "duration": 54,
    "start_time": "2024-08-11T16:10:31.242Z"
   },
   {
    "duration": 62,
    "start_time": "2024-08-11T16:10:31.298Z"
   },
   {
    "duration": 81,
    "start_time": "2024-08-11T16:10:31.362Z"
   },
   {
    "duration": 45,
    "start_time": "2024-08-11T16:10:31.445Z"
   },
   {
    "duration": 83,
    "start_time": "2024-08-11T16:10:31.492Z"
   },
   {
    "duration": 801,
    "start_time": "2024-08-11T16:10:31.576Z"
   },
   {
    "duration": 775,
    "start_time": "2024-08-11T16:10:32.379Z"
   },
   {
    "duration": 6,
    "start_time": "2024-08-11T16:10:33.156Z"
   },
   {
    "duration": 7,
    "start_time": "2024-08-11T16:10:33.164Z"
   },
   {
    "duration": 46,
    "start_time": "2024-08-11T16:10:33.172Z"
   },
   {
    "duration": 24,
    "start_time": "2024-08-11T16:10:33.220Z"
   },
   {
    "duration": 9,
    "start_time": "2024-08-11T16:10:33.246Z"
   },
   {
    "duration": 16,
    "start_time": "2024-08-11T16:10:33.257Z"
   },
   {
    "duration": 24,
    "start_time": "2024-08-11T16:10:33.295Z"
   },
   {
    "duration": 17,
    "start_time": "2024-08-11T16:10:33.321Z"
   },
   {
    "duration": 12,
    "start_time": "2024-08-11T16:10:33.340Z"
   },
   {
    "duration": 18,
    "start_time": "2024-08-11T16:10:33.353Z"
   },
   {
    "duration": 14,
    "start_time": "2024-08-11T16:10:33.395Z"
   },
   {
    "duration": 6,
    "start_time": "2024-08-11T16:10:33.410Z"
   },
   {
    "duration": 8,
    "start_time": "2024-08-11T16:10:33.417Z"
   },
   {
    "duration": 5,
    "start_time": "2024-08-11T16:10:33.427Z"
   },
   {
    "duration": 3,
    "start_time": "2024-08-11T16:10:33.434Z"
   },
   {
    "duration": 34,
    "start_time": "2024-08-11T16:10:33.439Z"
   },
   {
    "duration": 28,
    "start_time": "2024-08-11T16:10:33.475Z"
   },
   {
    "duration": 10,
    "start_time": "2024-08-11T16:10:33.505Z"
   },
   {
    "duration": 8,
    "start_time": "2024-08-11T16:10:33.516Z"
   },
   {
    "duration": 4,
    "start_time": "2024-08-11T16:10:33.525Z"
   },
   {
    "duration": 6,
    "start_time": "2024-08-11T16:10:33.530Z"
   },
   {
    "duration": 5,
    "start_time": "2024-08-11T16:10:33.538Z"
   },
   {
    "duration": 4,
    "start_time": "2024-08-11T16:10:33.544Z"
   },
   {
    "duration": 7,
    "start_time": "2024-08-11T16:10:33.550Z"
   },
   {
    "duration": 42,
    "start_time": "2024-08-11T16:10:33.558Z"
   },
   {
    "duration": 6,
    "start_time": "2024-08-11T16:10:33.602Z"
   },
   {
    "duration": 6,
    "start_time": "2024-08-11T16:10:33.610Z"
   },
   {
    "duration": 675,
    "start_time": "2024-08-11T16:10:33.617Z"
   },
   {
    "duration": 618,
    "start_time": "2024-08-11T16:10:34.296Z"
   },
   {
    "duration": 643,
    "start_time": "2024-08-11T16:10:34.916Z"
   },
   {
    "duration": 574,
    "start_time": "2024-08-11T16:10:35.560Z"
   },
   {
    "duration": 6,
    "start_time": "2024-08-11T16:10:36.135Z"
   },
   {
    "duration": 17,
    "start_time": "2024-08-11T16:10:36.143Z"
   },
   {
    "duration": 716,
    "start_time": "2024-08-11T16:10:36.162Z"
   },
   {
    "duration": 900,
    "start_time": "2024-08-11T16:10:51.298Z"
   },
   {
    "duration": 4108,
    "start_time": "2024-08-11T16:10:56.666Z"
   },
   {
    "duration": 4222,
    "start_time": "2024-08-11T16:11:13.290Z"
   },
   {
    "duration": 8,
    "start_time": "2024-08-11T16:11:58.591Z"
   },
   {
    "duration": 3,
    "start_time": "2024-08-11T16:13:31.099Z"
   },
   {
    "duration": 2462,
    "start_time": "2024-08-11T16:13:38.111Z"
   },
   {
    "duration": 1211,
    "start_time": "2024-08-11T16:13:40.576Z"
   },
   {
    "duration": 71,
    "start_time": "2024-08-11T16:13:41.788Z"
   },
   {
    "duration": 16,
    "start_time": "2024-08-11T16:13:41.861Z"
   },
   {
    "duration": 6,
    "start_time": "2024-08-11T16:13:41.878Z"
   },
   {
    "duration": 158,
    "start_time": "2024-08-11T16:13:41.886Z"
   },
   {
    "duration": 3,
    "start_time": "2024-08-11T16:13:42.046Z"
   },
   {
    "duration": 11,
    "start_time": "2024-08-11T16:13:42.050Z"
   },
   {
    "duration": 6,
    "start_time": "2024-08-11T16:13:42.062Z"
   },
   {
    "duration": 4,
    "start_time": "2024-08-11T16:13:42.071Z"
   },
   {
    "duration": 19,
    "start_time": "2024-08-11T16:13:42.096Z"
   },
   {
    "duration": 4,
    "start_time": "2024-08-11T16:13:42.116Z"
   },
   {
    "duration": 35,
    "start_time": "2024-08-11T16:13:42.122Z"
   },
   {
    "duration": 3,
    "start_time": "2024-08-11T16:13:42.158Z"
   },
   {
    "duration": 19,
    "start_time": "2024-08-11T16:13:42.162Z"
   },
   {
    "duration": 714,
    "start_time": "2024-08-11T16:13:42.182Z"
   },
   {
    "duration": 759,
    "start_time": "2024-08-11T16:13:42.898Z"
   },
   {
    "duration": 6,
    "start_time": "2024-08-11T16:13:43.659Z"
   },
   {
    "duration": 23,
    "start_time": "2024-08-11T16:13:43.666Z"
   },
   {
    "duration": 25,
    "start_time": "2024-08-11T16:13:43.690Z"
   },
   {
    "duration": 23,
    "start_time": "2024-08-11T16:13:43.716Z"
   },
   {
    "duration": 10,
    "start_time": "2024-08-11T16:13:43.741Z"
   },
   {
    "duration": 14,
    "start_time": "2024-08-11T16:13:43.753Z"
   },
   {
    "duration": 47,
    "start_time": "2024-08-11T16:13:43.768Z"
   },
   {
    "duration": 16,
    "start_time": "2024-08-11T16:13:43.817Z"
   },
   {
    "duration": 10,
    "start_time": "2024-08-11T16:13:43.834Z"
   },
   {
    "duration": 6,
    "start_time": "2024-08-11T16:13:43.846Z"
   },
   {
    "duration": 13,
    "start_time": "2024-08-11T16:13:43.855Z"
   },
   {
    "duration": 50,
    "start_time": "2024-08-11T16:13:43.896Z"
   },
   {
    "duration": 13,
    "start_time": "2024-08-11T16:13:43.947Z"
   },
   {
    "duration": 21,
    "start_time": "2024-08-11T16:13:43.962Z"
   },
   {
    "duration": 8,
    "start_time": "2024-08-11T16:13:43.985Z"
   },
   {
    "duration": 11,
    "start_time": "2024-08-11T16:13:43.994Z"
   },
   {
    "duration": 12,
    "start_time": "2024-08-11T16:13:44.007Z"
   },
   {
    "duration": 17,
    "start_time": "2024-08-11T16:13:44.020Z"
   },
   {
    "duration": 8,
    "start_time": "2024-08-11T16:13:44.038Z"
   },
   {
    "duration": 3,
    "start_time": "2024-08-11T16:13:44.048Z"
   },
   {
    "duration": 5,
    "start_time": "2024-08-11T16:13:44.052Z"
   },
   {
    "duration": 6,
    "start_time": "2024-08-11T16:13:44.059Z"
   },
   {
    "duration": 10,
    "start_time": "2024-08-11T16:13:44.066Z"
   },
   {
    "duration": 7,
    "start_time": "2024-08-11T16:13:44.095Z"
   },
   {
    "duration": 6,
    "start_time": "2024-08-11T16:13:44.104Z"
   },
   {
    "duration": 5,
    "start_time": "2024-08-11T16:13:44.111Z"
   },
   {
    "duration": 6,
    "start_time": "2024-08-11T16:13:44.117Z"
   },
   {
    "duration": 685,
    "start_time": "2024-08-11T16:13:44.124Z"
   },
   {
    "duration": 610,
    "start_time": "2024-08-11T16:13:44.810Z"
   },
   {
    "duration": 661,
    "start_time": "2024-08-11T16:13:45.421Z"
   },
   {
    "duration": 559,
    "start_time": "2024-08-11T16:13:46.084Z"
   },
   {
    "duration": 6,
    "start_time": "2024-08-11T16:13:46.645Z"
   },
   {
    "duration": 11,
    "start_time": "2024-08-11T16:13:46.652Z"
   },
   {
    "duration": 3980,
    "start_time": "2024-08-11T16:13:46.664Z"
   },
   {
    "duration": 2,
    "start_time": "2024-08-11T16:14:08.324Z"
   },
   {
    "duration": 4258,
    "start_time": "2024-08-11T16:14:33.064Z"
   },
   {
    "duration": 9,
    "start_time": "2024-08-11T16:17:35.121Z"
   },
   {
    "duration": 4263,
    "start_time": "2024-08-11T16:18:00.626Z"
   },
   {
    "duration": 4404,
    "start_time": "2024-08-11T16:18:28.618Z"
   },
   {
    "duration": 4344,
    "start_time": "2024-08-11T16:18:42.238Z"
   },
   {
    "duration": 4320,
    "start_time": "2024-08-11T16:19:22.951Z"
   },
   {
    "duration": 2410,
    "start_time": "2024-08-11T16:19:28.414Z"
   },
   {
    "duration": 2535,
    "start_time": "2024-08-11T16:20:00.238Z"
   },
   {
    "duration": 2311,
    "start_time": "2024-08-11T16:20:08.859Z"
   },
   {
    "duration": 2439,
    "start_time": "2024-08-11T16:20:25.219Z"
   },
   {
    "duration": 2497,
    "start_time": "2024-08-11T16:20:38.590Z"
   },
   {
    "duration": 854,
    "start_time": "2024-08-11T16:20:48.671Z"
   },
   {
    "duration": 659,
    "start_time": "2024-08-11T16:22:57.032Z"
   },
   {
    "duration": 2532,
    "start_time": "2024-08-11T16:25:00.953Z"
   },
   {
    "duration": 1210,
    "start_time": "2024-08-11T16:25:03.487Z"
   },
   {
    "duration": 69,
    "start_time": "2024-08-11T16:25:04.698Z"
   },
   {
    "duration": 16,
    "start_time": "2024-08-11T16:25:04.770Z"
   },
   {
    "duration": 28,
    "start_time": "2024-08-11T16:25:04.788Z"
   },
   {
    "duration": 153,
    "start_time": "2024-08-11T16:25:04.818Z"
   },
   {
    "duration": 4,
    "start_time": "2024-08-11T16:25:04.972Z"
   },
   {
    "duration": 5,
    "start_time": "2024-08-11T16:25:04.996Z"
   },
   {
    "duration": 25,
    "start_time": "2024-08-11T16:25:05.003Z"
   },
   {
    "duration": 20,
    "start_time": "2024-08-11T16:25:05.031Z"
   },
   {
    "duration": 20,
    "start_time": "2024-08-11T16:25:05.053Z"
   },
   {
    "duration": 5,
    "start_time": "2024-08-11T16:25:05.075Z"
   },
   {
    "duration": 22,
    "start_time": "2024-08-11T16:25:05.081Z"
   },
   {
    "duration": 3,
    "start_time": "2024-08-11T16:25:05.104Z"
   },
   {
    "duration": 5,
    "start_time": "2024-08-11T16:25:05.109Z"
   },
   {
    "duration": 790,
    "start_time": "2024-08-11T16:25:05.116Z"
   },
   {
    "duration": 778,
    "start_time": "2024-08-11T16:25:05.908Z"
   },
   {
    "duration": 11,
    "start_time": "2024-08-11T16:25:06.688Z"
   },
   {
    "duration": 15,
    "start_time": "2024-08-11T16:25:06.701Z"
   },
   {
    "duration": 25,
    "start_time": "2024-08-11T16:25:06.718Z"
   },
   {
    "duration": 23,
    "start_time": "2024-08-11T16:25:06.745Z"
   },
   {
    "duration": 43,
    "start_time": "2024-08-11T16:25:06.770Z"
   },
   {
    "duration": 14,
    "start_time": "2024-08-11T16:25:06.814Z"
   },
   {
    "duration": 22,
    "start_time": "2024-08-11T16:25:06.829Z"
   },
   {
    "duration": 16,
    "start_time": "2024-08-11T16:25:06.853Z"
   },
   {
    "duration": 10,
    "start_time": "2024-08-11T16:25:06.871Z"
   },
   {
    "duration": 13,
    "start_time": "2024-08-11T16:25:06.897Z"
   },
   {
    "duration": 14,
    "start_time": "2024-08-11T16:25:06.914Z"
   },
   {
    "duration": 7,
    "start_time": "2024-08-11T16:25:06.930Z"
   },
   {
    "duration": 10,
    "start_time": "2024-08-11T16:25:06.939Z"
   },
   {
    "duration": 5,
    "start_time": "2024-08-11T16:25:06.950Z"
   },
   {
    "duration": 4,
    "start_time": "2024-08-11T16:25:06.957Z"
   },
   {
    "duration": 8,
    "start_time": "2024-08-11T16:25:06.962Z"
   },
   {
    "duration": 12,
    "start_time": "2024-08-11T16:25:06.997Z"
   },
   {
    "duration": 10,
    "start_time": "2024-08-11T16:25:07.010Z"
   },
   {
    "duration": 8,
    "start_time": "2024-08-11T16:25:07.021Z"
   },
   {
    "duration": 20,
    "start_time": "2024-08-11T16:25:07.030Z"
   },
   {
    "duration": 7,
    "start_time": "2024-08-11T16:25:07.051Z"
   },
   {
    "duration": 4,
    "start_time": "2024-08-11T16:25:07.059Z"
   },
   {
    "duration": 8,
    "start_time": "2024-08-11T16:25:07.064Z"
   },
   {
    "duration": 28,
    "start_time": "2024-08-11T16:25:07.073Z"
   },
   {
    "duration": 7,
    "start_time": "2024-08-11T16:25:07.102Z"
   },
   {
    "duration": 10,
    "start_time": "2024-08-11T16:25:07.110Z"
   },
   {
    "duration": 671,
    "start_time": "2024-08-11T16:25:07.121Z"
   },
   {
    "duration": 605,
    "start_time": "2024-08-11T16:25:07.793Z"
   },
   {
    "duration": 610,
    "start_time": "2024-08-11T16:25:08.400Z"
   },
   {
    "duration": 513,
    "start_time": "2024-08-11T16:25:09.012Z"
   },
   {
    "duration": 6,
    "start_time": "2024-08-11T16:25:09.527Z"
   },
   {
    "duration": 13,
    "start_time": "2024-08-11T16:25:09.534Z"
   },
   {
    "duration": 3970,
    "start_time": "2024-08-11T16:25:09.548Z"
   },
   {
    "duration": 8,
    "start_time": "2024-08-11T16:25:13.520Z"
   },
   {
    "duration": 701,
    "start_time": "2024-08-11T16:25:13.530Z"
   },
   {
    "duration": 1964,
    "start_time": "2024-08-11T16:26:09.326Z"
   },
   {
    "duration": 690,
    "start_time": "2024-08-11T16:26:17.545Z"
   },
   {
    "duration": 727,
    "start_time": "2024-08-11T16:26:34.610Z"
   },
   {
    "duration": 563,
    "start_time": "2024-08-11T16:26:56.933Z"
   },
   {
    "duration": 14,
    "start_time": "2024-08-11T16:40:20.023Z"
   },
   {
    "duration": 114,
    "start_time": "2024-08-11T16:42:52.457Z"
   },
   {
    "duration": 9,
    "start_time": "2024-08-11T16:45:25.738Z"
   },
   {
    "duration": 12,
    "start_time": "2024-08-11T16:45:26.250Z"
   },
   {
    "duration": 9,
    "start_time": "2024-08-11T16:46:50.138Z"
   },
   {
    "duration": 12,
    "start_time": "2024-08-11T16:46:50.550Z"
   },
   {
    "duration": 9,
    "start_time": "2024-08-11T16:46:58.614Z"
   },
   {
    "duration": 12,
    "start_time": "2024-08-11T16:46:59.410Z"
   },
   {
    "duration": 9,
    "start_time": "2024-08-11T16:47:20.746Z"
   },
   {
    "duration": 11,
    "start_time": "2024-08-11T16:47:21.778Z"
   },
   {
    "duration": 9,
    "start_time": "2024-08-11T16:47:33.419Z"
   },
   {
    "duration": 12,
    "start_time": "2024-08-11T16:47:34.390Z"
   },
   {
    "duration": 2454,
    "start_time": "2024-08-11T16:48:26.639Z"
   },
   {
    "duration": 1167,
    "start_time": "2024-08-11T16:48:29.096Z"
   },
   {
    "duration": 64,
    "start_time": "2024-08-11T16:48:30.264Z"
   },
   {
    "duration": 16,
    "start_time": "2024-08-11T16:48:30.330Z"
   },
   {
    "duration": 36,
    "start_time": "2024-08-11T16:48:30.348Z"
   },
   {
    "duration": 145,
    "start_time": "2024-08-11T16:48:30.386Z"
   },
   {
    "duration": 3,
    "start_time": "2024-08-11T16:48:30.532Z"
   },
   {
    "duration": 53,
    "start_time": "2024-08-11T16:48:30.537Z"
   },
   {
    "duration": 47,
    "start_time": "2024-08-11T16:48:30.591Z"
   },
   {
    "duration": 52,
    "start_time": "2024-08-11T16:48:30.641Z"
   },
   {
    "duration": 73,
    "start_time": "2024-08-11T16:48:30.694Z"
   },
   {
    "duration": 75,
    "start_time": "2024-08-11T16:48:30.768Z"
   },
   {
    "duration": 119,
    "start_time": "2024-08-11T16:48:30.845Z"
   },
   {
    "duration": 38,
    "start_time": "2024-08-11T16:48:30.965Z"
   },
   {
    "duration": 40,
    "start_time": "2024-08-11T16:48:31.005Z"
   },
   {
    "duration": 742,
    "start_time": "2024-08-11T16:48:31.046Z"
   },
   {
    "duration": 786,
    "start_time": "2024-08-11T16:48:31.789Z"
   },
   {
    "duration": 20,
    "start_time": "2024-08-11T16:48:32.577Z"
   },
   {
    "duration": 8,
    "start_time": "2024-08-11T16:48:32.599Z"
   },
   {
    "duration": 24,
    "start_time": "2024-08-11T16:48:32.608Z"
   },
   {
    "duration": 23,
    "start_time": "2024-08-11T16:48:32.634Z"
   },
   {
    "duration": 9,
    "start_time": "2024-08-11T16:48:32.659Z"
   },
   {
    "duration": 38,
    "start_time": "2024-08-11T16:48:32.669Z"
   },
   {
    "duration": 35,
    "start_time": "2024-08-11T16:48:32.708Z"
   },
   {
    "duration": 17,
    "start_time": "2024-08-11T16:48:32.745Z"
   },
   {
    "duration": 14,
    "start_time": "2024-08-11T16:48:32.764Z"
   },
   {
    "duration": 16,
    "start_time": "2024-08-11T16:48:32.780Z"
   },
   {
    "duration": 13,
    "start_time": "2024-08-11T16:48:32.799Z"
   },
   {
    "duration": 5,
    "start_time": "2024-08-11T16:48:32.813Z"
   },
   {
    "duration": 9,
    "start_time": "2024-08-11T16:48:32.820Z"
   },
   {
    "duration": 4,
    "start_time": "2024-08-11T16:48:32.831Z"
   },
   {
    "duration": 14,
    "start_time": "2024-08-11T16:48:32.837Z"
   },
   {
    "duration": 30,
    "start_time": "2024-08-11T16:48:32.853Z"
   },
   {
    "duration": 58,
    "start_time": "2024-08-11T16:48:32.884Z"
   },
   {
    "duration": 9,
    "start_time": "2024-08-11T16:48:32.944Z"
   },
   {
    "duration": 7,
    "start_time": "2024-08-11T16:48:32.955Z"
   },
   {
    "duration": 3,
    "start_time": "2024-08-11T16:48:32.964Z"
   },
   {
    "duration": 3,
    "start_time": "2024-08-11T16:48:32.969Z"
   },
   {
    "duration": 3,
    "start_time": "2024-08-11T16:48:32.974Z"
   },
   {
    "duration": 4,
    "start_time": "2024-08-11T16:48:32.979Z"
   },
   {
    "duration": 9,
    "start_time": "2024-08-11T16:48:32.985Z"
   },
   {
    "duration": 6,
    "start_time": "2024-08-11T16:48:32.996Z"
   },
   {
    "duration": 6,
    "start_time": "2024-08-11T16:48:33.003Z"
   },
   {
    "duration": 627,
    "start_time": "2024-08-11T16:48:33.011Z"
   },
   {
    "duration": 839,
    "start_time": "2024-08-11T16:48:33.640Z"
   },
   {
    "duration": 548,
    "start_time": "2024-08-11T16:48:34.481Z"
   },
   {
    "duration": 550,
    "start_time": "2024-08-11T16:48:35.031Z"
   },
   {
    "duration": 13,
    "start_time": "2024-08-11T16:48:35.583Z"
   },
   {
    "duration": 9,
    "start_time": "2024-08-11T16:48:35.597Z"
   },
   {
    "duration": 4009,
    "start_time": "2024-08-11T16:48:35.607Z"
   },
   {
    "duration": 8,
    "start_time": "2024-08-11T16:48:39.618Z"
   },
   {
    "duration": 884,
    "start_time": "2024-08-11T16:48:39.627Z"
   },
   {
    "duration": 14,
    "start_time": "2024-08-11T16:48:40.512Z"
   },
   {
    "duration": 123,
    "start_time": "2024-08-11T16:48:40.527Z"
   },
   {
    "duration": 56,
    "start_time": "2024-08-11T16:53:14.440Z"
   },
   {
    "duration": 8,
    "start_time": "2024-08-11T16:53:59.713Z"
   },
   {
    "duration": 9,
    "start_time": "2024-08-11T16:54:05.105Z"
   },
   {
    "duration": 25,
    "start_time": "2024-08-11T16:54:18.012Z"
   },
   {
    "duration": 8,
    "start_time": "2024-08-11T16:55:10.813Z"
   },
   {
    "duration": 13,
    "start_time": "2024-08-11T16:55:11.200Z"
   },
   {
    "duration": 2319,
    "start_time": "2024-08-11T16:55:54.912Z"
   },
   {
    "duration": 1100,
    "start_time": "2024-08-11T16:55:57.233Z"
   },
   {
    "duration": 66,
    "start_time": "2024-08-11T16:55:58.335Z"
   },
   {
    "duration": 16,
    "start_time": "2024-08-11T16:55:58.403Z"
   },
   {
    "duration": 6,
    "start_time": "2024-08-11T16:55:58.420Z"
   },
   {
    "duration": 115,
    "start_time": "2024-08-11T16:55:58.427Z"
   },
   {
    "duration": 3,
    "start_time": "2024-08-11T16:55:58.543Z"
   },
   {
    "duration": 9,
    "start_time": "2024-08-11T16:55:58.547Z"
   },
   {
    "duration": 4,
    "start_time": "2024-08-11T16:55:58.558Z"
   },
   {
    "duration": 10,
    "start_time": "2024-08-11T16:55:58.564Z"
   },
   {
    "duration": 37,
    "start_time": "2024-08-11T16:55:58.575Z"
   },
   {
    "duration": 4,
    "start_time": "2024-08-11T16:55:58.613Z"
   },
   {
    "duration": 18,
    "start_time": "2024-08-11T16:55:58.618Z"
   },
   {
    "duration": 9,
    "start_time": "2024-08-11T16:55:58.637Z"
   },
   {
    "duration": 5,
    "start_time": "2024-08-11T16:55:58.647Z"
   },
   {
    "duration": 652,
    "start_time": "2024-08-11T16:55:58.653Z"
   },
   {
    "duration": 700,
    "start_time": "2024-08-11T16:55:59.307Z"
   },
   {
    "duration": 6,
    "start_time": "2024-08-11T16:56:00.009Z"
   },
   {
    "duration": 36,
    "start_time": "2024-08-11T16:56:00.016Z"
   },
   {
    "duration": 131,
    "start_time": "2024-08-11T16:56:00.053Z"
   },
   {
    "duration": 59,
    "start_time": "2024-08-11T16:56:00.186Z"
   },
   {
    "duration": 13,
    "start_time": "2024-08-11T16:56:00.246Z"
   },
   {
    "duration": 23,
    "start_time": "2024-08-11T16:56:00.261Z"
   },
   {
    "duration": 41,
    "start_time": "2024-08-11T16:56:00.286Z"
   },
   {
    "duration": 52,
    "start_time": "2024-08-11T16:56:00.328Z"
   },
   {
    "duration": 39,
    "start_time": "2024-08-11T16:56:00.381Z"
   },
   {
    "duration": 26,
    "start_time": "2024-08-11T16:56:00.421Z"
   },
   {
    "duration": 30,
    "start_time": "2024-08-11T16:56:00.450Z"
   },
   {
    "duration": 105,
    "start_time": "2024-08-11T16:56:00.482Z"
   },
   {
    "duration": 38,
    "start_time": "2024-08-11T16:56:00.589Z"
   },
   {
    "duration": 47,
    "start_time": "2024-08-11T16:56:00.628Z"
   },
   {
    "duration": 38,
    "start_time": "2024-08-11T16:56:00.677Z"
   },
   {
    "duration": 49,
    "start_time": "2024-08-11T16:56:00.716Z"
   },
   {
    "duration": 52,
    "start_time": "2024-08-11T16:56:00.767Z"
   },
   {
    "duration": 55,
    "start_time": "2024-08-11T16:56:00.820Z"
   },
   {
    "duration": 141,
    "start_time": "2024-08-11T16:56:00.876Z"
   },
   {
    "duration": 39,
    "start_time": "2024-08-11T16:56:01.018Z"
   },
   {
    "duration": 39,
    "start_time": "2024-08-11T16:56:01.059Z"
   },
   {
    "duration": 23,
    "start_time": "2024-08-11T16:56:01.099Z"
   },
   {
    "duration": 18,
    "start_time": "2024-08-11T16:56:01.123Z"
   },
   {
    "duration": 21,
    "start_time": "2024-08-11T16:56:01.143Z"
   },
   {
    "duration": 33,
    "start_time": "2024-08-11T16:56:01.166Z"
   },
   {
    "duration": 28,
    "start_time": "2024-08-11T16:56:01.200Z"
   },
   {
    "duration": 652,
    "start_time": "2024-08-11T16:56:01.230Z"
   },
   {
    "duration": 777,
    "start_time": "2024-08-11T16:56:01.884Z"
   },
   {
    "duration": 471,
    "start_time": "2024-08-11T16:56:02.663Z"
   },
   {
    "duration": 474,
    "start_time": "2024-08-11T16:56:03.136Z"
   },
   {
    "duration": 5,
    "start_time": "2024-08-11T16:56:03.612Z"
   },
   {
    "duration": 14,
    "start_time": "2024-08-11T16:56:03.619Z"
   },
   {
    "duration": 3721,
    "start_time": "2024-08-11T16:56:03.634Z"
   },
   {
    "duration": 8,
    "start_time": "2024-08-11T16:56:07.357Z"
   },
   {
    "duration": 839,
    "start_time": "2024-08-11T16:56:07.366Z"
   },
   {
    "duration": 13,
    "start_time": "2024-08-11T16:56:08.206Z"
   },
   {
    "duration": 116,
    "start_time": "2024-08-11T16:56:08.220Z"
   },
   {
    "duration": 2314,
    "start_time": "2024-08-11T16:58:31.690Z"
   },
   {
    "duration": 1128,
    "start_time": "2024-08-11T16:58:34.006Z"
   },
   {
    "duration": 64,
    "start_time": "2024-08-11T16:58:35.136Z"
   },
   {
    "duration": 16,
    "start_time": "2024-08-11T16:58:35.202Z"
   },
   {
    "duration": 6,
    "start_time": "2024-08-11T16:58:35.220Z"
   },
   {
    "duration": 134,
    "start_time": "2024-08-11T16:58:35.227Z"
   },
   {
    "duration": 4,
    "start_time": "2024-08-11T16:58:35.362Z"
   },
   {
    "duration": 13,
    "start_time": "2024-08-11T16:58:35.369Z"
   },
   {
    "duration": 4,
    "start_time": "2024-08-11T16:58:35.396Z"
   },
   {
    "duration": 5,
    "start_time": "2024-08-11T16:58:35.403Z"
   },
   {
    "duration": 20,
    "start_time": "2024-08-11T16:58:35.409Z"
   },
   {
    "duration": 19,
    "start_time": "2024-08-11T16:58:35.431Z"
   },
   {
    "duration": 37,
    "start_time": "2024-08-11T16:58:35.452Z"
   },
   {
    "duration": 5,
    "start_time": "2024-08-11T16:58:35.491Z"
   },
   {
    "duration": 8,
    "start_time": "2024-08-11T16:58:35.498Z"
   },
   {
    "duration": 689,
    "start_time": "2024-08-11T16:58:35.508Z"
   },
   {
    "duration": 726,
    "start_time": "2024-08-11T16:58:36.198Z"
   },
   {
    "duration": 6,
    "start_time": "2024-08-11T16:58:36.925Z"
   },
   {
    "duration": 36,
    "start_time": "2024-08-11T16:58:36.933Z"
   },
   {
    "duration": 23,
    "start_time": "2024-08-11T16:58:36.971Z"
   },
   {
    "duration": 22,
    "start_time": "2024-08-11T16:58:36.996Z"
   },
   {
    "duration": 8,
    "start_time": "2024-08-11T16:58:37.020Z"
   },
   {
    "duration": 12,
    "start_time": "2024-08-11T16:58:37.030Z"
   },
   {
    "duration": 20,
    "start_time": "2024-08-11T16:58:37.043Z"
   },
   {
    "duration": 40,
    "start_time": "2024-08-11T16:58:37.064Z"
   },
   {
    "duration": 10,
    "start_time": "2024-08-11T16:58:37.105Z"
   },
   {
    "duration": 7,
    "start_time": "2024-08-11T16:58:37.116Z"
   },
   {
    "duration": 12,
    "start_time": "2024-08-11T16:58:37.126Z"
   },
   {
    "duration": 4,
    "start_time": "2024-08-11T16:58:37.140Z"
   },
   {
    "duration": 6,
    "start_time": "2024-08-11T16:58:37.146Z"
   },
   {
    "duration": 43,
    "start_time": "2024-08-11T16:58:37.153Z"
   },
   {
    "duration": 5,
    "start_time": "2024-08-11T16:58:37.197Z"
   },
   {
    "duration": 13,
    "start_time": "2024-08-11T16:58:37.203Z"
   },
   {
    "duration": 24,
    "start_time": "2024-08-11T16:58:37.218Z"
   },
   {
    "duration": 9,
    "start_time": "2024-08-11T16:58:37.243Z"
   },
   {
    "duration": 7,
    "start_time": "2024-08-11T16:58:37.253Z"
   },
   {
    "duration": 7,
    "start_time": "2024-08-11T16:58:37.261Z"
   },
   {
    "duration": 11,
    "start_time": "2024-08-11T16:58:37.269Z"
   },
   {
    "duration": 13,
    "start_time": "2024-08-11T16:58:37.281Z"
   },
   {
    "duration": 4,
    "start_time": "2024-08-11T16:58:37.296Z"
   },
   {
    "duration": 6,
    "start_time": "2024-08-11T16:58:37.301Z"
   },
   {
    "duration": 10,
    "start_time": "2024-08-11T16:58:37.308Z"
   },
   {
    "duration": 5,
    "start_time": "2024-08-11T16:58:37.319Z"
   },
   {
    "duration": 593,
    "start_time": "2024-08-11T16:58:37.325Z"
   },
   {
    "duration": 762,
    "start_time": "2024-08-11T16:58:37.920Z"
   },
   {
    "duration": 520,
    "start_time": "2024-08-11T16:58:38.683Z"
   },
   {
    "duration": 504,
    "start_time": "2024-08-11T16:58:39.204Z"
   },
   {
    "duration": 6,
    "start_time": "2024-08-11T16:58:39.709Z"
   },
   {
    "duration": 33,
    "start_time": "2024-08-11T16:58:39.716Z"
   },
   {
    "duration": 3758,
    "start_time": "2024-08-11T16:58:39.751Z"
   },
   {
    "duration": 9,
    "start_time": "2024-08-11T16:58:43.510Z"
   },
   {
    "duration": 923,
    "start_time": "2024-08-11T16:58:43.521Z"
   },
   {
    "duration": 12,
    "start_time": "2024-08-11T16:58:44.445Z"
   },
   {
    "duration": 115,
    "start_time": "2024-08-11T16:58:44.458Z"
   },
   {
    "duration": 13,
    "start_time": "2024-08-11T16:59:42.702Z"
   },
   {
    "duration": 8,
    "start_time": "2024-08-11T16:59:46.351Z"
   },
   {
    "duration": 808,
    "start_time": "2024-08-11T17:00:11.419Z"
   },
   {
    "duration": 0,
    "start_time": "2024-08-11T17:00:12.228Z"
   },
   {
    "duration": 8,
    "start_time": "2024-08-11T17:00:31.071Z"
   },
   {
    "duration": 7,
    "start_time": "2024-08-11T17:00:32.878Z"
   },
   {
    "duration": 18,
    "start_time": "2024-08-11T17:00:40.491Z"
   },
   {
    "duration": 9,
    "start_time": "2024-08-11T17:01:11.787Z"
   },
   {
    "duration": 11,
    "start_time": "2024-08-11T17:01:13.171Z"
   },
   {
    "duration": 2,
    "start_time": "2024-08-11T17:01:49.476Z"
   },
   {
    "duration": 9,
    "start_time": "2024-08-11T17:02:42.144Z"
   },
   {
    "duration": 3,
    "start_time": "2024-08-11T17:04:04.716Z"
   },
   {
    "duration": 12,
    "start_time": "2024-08-11T17:04:06.132Z"
   },
   {
    "duration": 8,
    "start_time": "2024-08-11T17:04:11.456Z"
   },
   {
    "duration": 11,
    "start_time": "2024-08-11T17:04:12.552Z"
   },
   {
    "duration": 44,
    "start_time": "2024-08-11T17:04:41.917Z"
   },
   {
    "duration": 14,
    "start_time": "2024-08-11T17:04:48.301Z"
   },
   {
    "duration": 7,
    "start_time": "2024-08-11T17:04:48.933Z"
   },
   {
    "duration": 10,
    "start_time": "2024-08-11T17:04:58.972Z"
   },
   {
    "duration": 8,
    "start_time": "2024-08-11T17:04:59.576Z"
   },
   {
    "duration": 9,
    "start_time": "2024-08-11T17:05:17.697Z"
   },
   {
    "duration": 8,
    "start_time": "2024-08-11T17:05:18.408Z"
   },
   {
    "duration": 2,
    "start_time": "2024-08-11T17:05:26.045Z"
   },
   {
    "duration": 9,
    "start_time": "2024-08-11T17:05:26.468Z"
   },
   {
    "duration": 8,
    "start_time": "2024-08-11T17:05:26.957Z"
   },
   {
    "duration": 7,
    "start_time": "2024-08-11T17:05:27.404Z"
   },
   {
    "duration": 3,
    "start_time": "2024-08-11T17:05:30.041Z"
   },
   {
    "duration": 8,
    "start_time": "2024-08-11T17:05:31.417Z"
   },
   {
    "duration": 7,
    "start_time": "2024-08-11T17:05:32.049Z"
   },
   {
    "duration": 3,
    "start_time": "2024-08-11T17:05:35.672Z"
   },
   {
    "duration": 9,
    "start_time": "2024-08-11T17:05:36.413Z"
   },
   {
    "duration": 11,
    "start_time": "2024-08-11T17:05:37.513Z"
   },
   {
    "duration": 12,
    "start_time": "2024-08-11T17:11:44.051Z"
   },
   {
    "duration": 2312,
    "start_time": "2024-08-11T17:12:43.464Z"
   },
   {
    "duration": 1150,
    "start_time": "2024-08-11T17:12:45.778Z"
   },
   {
    "duration": 98,
    "start_time": "2024-08-11T17:12:46.929Z"
   },
   {
    "duration": 15,
    "start_time": "2024-08-11T17:12:47.029Z"
   },
   {
    "duration": 6,
    "start_time": "2024-08-11T17:12:47.045Z"
   },
   {
    "duration": 100,
    "start_time": "2024-08-11T17:12:47.052Z"
   },
   {
    "duration": 3,
    "start_time": "2024-08-11T17:12:47.154Z"
   },
   {
    "duration": 9,
    "start_time": "2024-08-11T17:12:47.158Z"
   },
   {
    "duration": 4,
    "start_time": "2024-08-11T17:12:47.168Z"
   },
   {
    "duration": 4,
    "start_time": "2024-08-11T17:12:47.195Z"
   },
   {
    "duration": 20,
    "start_time": "2024-08-11T17:12:47.200Z"
   },
   {
    "duration": 4,
    "start_time": "2024-08-11T17:12:47.221Z"
   },
   {
    "duration": 23,
    "start_time": "2024-08-11T17:12:47.226Z"
   },
   {
    "duration": 3,
    "start_time": "2024-08-11T17:12:47.250Z"
   },
   {
    "duration": 9,
    "start_time": "2024-08-11T17:12:47.254Z"
   },
   {
    "duration": 667,
    "start_time": "2024-08-11T17:12:47.264Z"
   },
   {
    "duration": 695,
    "start_time": "2024-08-11T17:12:47.933Z"
   },
   {
    "duration": 5,
    "start_time": "2024-08-11T17:12:48.630Z"
   },
   {
    "duration": 6,
    "start_time": "2024-08-11T17:12:48.637Z"
   },
   {
    "duration": 27,
    "start_time": "2024-08-11T17:12:48.644Z"
   },
   {
    "duration": 37,
    "start_time": "2024-08-11T17:12:48.673Z"
   },
   {
    "duration": 3,
    "start_time": "2024-08-11T17:12:48.711Z"
   },
   {
    "duration": 4,
    "start_time": "2024-08-11T17:12:48.715Z"
   },
   {
    "duration": 24,
    "start_time": "2024-08-11T17:12:48.720Z"
   },
   {
    "duration": 19,
    "start_time": "2024-08-11T17:12:48.745Z"
   },
   {
    "duration": 34,
    "start_time": "2024-08-11T17:12:48.765Z"
   },
   {
    "duration": 9,
    "start_time": "2024-08-11T17:12:48.800Z"
   },
   {
    "duration": 5,
    "start_time": "2024-08-11T17:12:48.813Z"
   },
   {
    "duration": 11,
    "start_time": "2024-08-11T17:12:48.820Z"
   },
   {
    "duration": 17,
    "start_time": "2024-08-11T17:12:48.832Z"
   },
   {
    "duration": 20,
    "start_time": "2024-08-11T17:12:48.850Z"
   },
   {
    "duration": 10,
    "start_time": "2024-08-11T17:12:48.871Z"
   },
   {
    "duration": 14,
    "start_time": "2024-08-11T17:12:48.882Z"
   },
   {
    "duration": 7,
    "start_time": "2024-08-11T17:12:48.897Z"
   },
   {
    "duration": 14,
    "start_time": "2024-08-11T17:12:48.905Z"
   },
   {
    "duration": 10,
    "start_time": "2024-08-11T17:12:48.920Z"
   },
   {
    "duration": 10,
    "start_time": "2024-08-11T17:12:48.932Z"
   },
   {
    "duration": 3,
    "start_time": "2024-08-11T17:12:48.943Z"
   },
   {
    "duration": 4,
    "start_time": "2024-08-11T17:12:48.948Z"
   },
   {
    "duration": 8,
    "start_time": "2024-08-11T17:12:48.953Z"
   },
   {
    "duration": 12,
    "start_time": "2024-08-11T17:12:48.962Z"
   },
   {
    "duration": 70,
    "start_time": "2024-08-11T17:12:48.976Z"
   },
   {
    "duration": 6,
    "start_time": "2024-08-11T17:12:49.047Z"
   },
   {
    "duration": 4,
    "start_time": "2024-08-11T17:12:49.055Z"
   },
   {
    "duration": 598,
    "start_time": "2024-08-11T17:12:49.061Z"
   },
   {
    "duration": 785,
    "start_time": "2024-08-11T17:12:49.661Z"
   },
   {
    "duration": 469,
    "start_time": "2024-08-11T17:12:50.448Z"
   },
   {
    "duration": 489,
    "start_time": "2024-08-11T17:12:50.919Z"
   },
   {
    "duration": 5,
    "start_time": "2024-08-11T17:12:51.410Z"
   },
   {
    "duration": 21,
    "start_time": "2024-08-11T17:12:51.417Z"
   },
   {
    "duration": 3624,
    "start_time": "2024-08-11T17:12:51.439Z"
   },
   {
    "duration": 8,
    "start_time": "2024-08-11T17:12:55.064Z"
   },
   {
    "duration": 861,
    "start_time": "2024-08-11T17:12:55.073Z"
   },
   {
    "duration": 21,
    "start_time": "2024-08-11T17:12:55.935Z"
   },
   {
    "duration": 117,
    "start_time": "2024-08-11T17:12:55.957Z"
   },
   {
    "duration": 14,
    "start_time": "2024-08-11T17:12:57.892Z"
   },
   {
    "duration": 10,
    "start_time": "2024-08-11T17:13:02.912Z"
   },
   {
    "duration": 12,
    "start_time": "2024-08-11T17:13:05.260Z"
   },
   {
    "duration": 17,
    "start_time": "2024-08-11T17:13:12.740Z"
   },
   {
    "duration": 8,
    "start_time": "2024-08-11T17:13:37.049Z"
   },
   {
    "duration": 11,
    "start_time": "2024-08-11T17:13:39.589Z"
   },
   {
    "duration": 9,
    "start_time": "2024-08-11T17:13:53.864Z"
   },
   {
    "duration": 11,
    "start_time": "2024-08-11T17:13:55.396Z"
   },
   {
    "duration": 8,
    "start_time": "2024-08-11T17:14:25.689Z"
   },
   {
    "duration": 8,
    "start_time": "2024-08-11T17:14:33.149Z"
   },
   {
    "duration": 7,
    "start_time": "2024-08-11T17:14:34.361Z"
   },
   {
    "duration": 8,
    "start_time": "2024-08-11T17:15:16.789Z"
   },
   {
    "duration": 22,
    "start_time": "2024-08-11T17:15:22.361Z"
   },
   {
    "duration": 25,
    "start_time": "2024-08-11T17:15:32.797Z"
   },
   {
    "duration": 10,
    "start_time": "2024-08-11T17:16:07.477Z"
   },
   {
    "duration": 17,
    "start_time": "2024-08-11T17:16:15.937Z"
   },
   {
    "duration": 10,
    "start_time": "2024-08-11T17:16:34.945Z"
   },
   {
    "duration": 2257,
    "start_time": "2024-08-11T17:16:40.289Z"
   },
   {
    "duration": 1072,
    "start_time": "2024-08-11T17:16:42.548Z"
   },
   {
    "duration": 97,
    "start_time": "2024-08-11T17:16:43.621Z"
   },
   {
    "duration": 14,
    "start_time": "2024-08-11T17:16:43.720Z"
   },
   {
    "duration": 5,
    "start_time": "2024-08-11T17:16:43.736Z"
   },
   {
    "duration": 103,
    "start_time": "2024-08-11T17:16:43.743Z"
   },
   {
    "duration": 3,
    "start_time": "2024-08-11T17:16:43.848Z"
   },
   {
    "duration": 9,
    "start_time": "2024-08-11T17:16:43.852Z"
   },
   {
    "duration": 4,
    "start_time": "2024-08-11T17:16:43.862Z"
   },
   {
    "duration": 5,
    "start_time": "2024-08-11T17:16:43.895Z"
   },
   {
    "duration": 20,
    "start_time": "2024-08-11T17:16:43.902Z"
   },
   {
    "duration": 10,
    "start_time": "2024-08-11T17:16:43.923Z"
   },
   {
    "duration": 22,
    "start_time": "2024-08-11T17:16:43.934Z"
   },
   {
    "duration": 3,
    "start_time": "2024-08-11T17:16:43.957Z"
   },
   {
    "duration": 5,
    "start_time": "2024-08-11T17:16:43.961Z"
   },
   {
    "duration": 646,
    "start_time": "2024-08-11T17:16:43.968Z"
   },
   {
    "duration": 743,
    "start_time": "2024-08-11T17:16:44.615Z"
   },
   {
    "duration": 6,
    "start_time": "2024-08-11T17:16:45.360Z"
   },
   {
    "duration": 20,
    "start_time": "2024-08-11T17:16:45.368Z"
   },
   {
    "duration": 28,
    "start_time": "2024-08-11T17:16:45.389Z"
   },
   {
    "duration": 21,
    "start_time": "2024-08-11T17:16:45.419Z"
   },
   {
    "duration": 2,
    "start_time": "2024-08-11T17:16:45.441Z"
   },
   {
    "duration": 135,
    "start_time": "2024-08-11T17:16:45.445Z"
   },
   {
    "duration": 0,
    "start_time": "2024-08-11T17:16:45.582Z"
   },
   {
    "duration": 0,
    "start_time": "2024-08-11T17:16:45.583Z"
   },
   {
    "duration": 0,
    "start_time": "2024-08-11T17:16:45.584Z"
   },
   {
    "duration": 0,
    "start_time": "2024-08-11T17:16:45.585Z"
   },
   {
    "duration": 0,
    "start_time": "2024-08-11T17:16:45.586Z"
   },
   {
    "duration": 0,
    "start_time": "2024-08-11T17:16:45.587Z"
   },
   {
    "duration": 0,
    "start_time": "2024-08-11T17:16:45.596Z"
   },
   {
    "duration": 0,
    "start_time": "2024-08-11T17:16:45.597Z"
   },
   {
    "duration": 0,
    "start_time": "2024-08-11T17:16:45.597Z"
   },
   {
    "duration": 0,
    "start_time": "2024-08-11T17:16:45.598Z"
   },
   {
    "duration": 0,
    "start_time": "2024-08-11T17:16:45.600Z"
   },
   {
    "duration": 0,
    "start_time": "2024-08-11T17:16:45.600Z"
   },
   {
    "duration": 0,
    "start_time": "2024-08-11T17:16:45.601Z"
   },
   {
    "duration": 0,
    "start_time": "2024-08-11T17:16:45.602Z"
   },
   {
    "duration": 0,
    "start_time": "2024-08-11T17:16:45.604Z"
   },
   {
    "duration": 0,
    "start_time": "2024-08-11T17:16:45.605Z"
   },
   {
    "duration": 0,
    "start_time": "2024-08-11T17:16:45.606Z"
   },
   {
    "duration": 0,
    "start_time": "2024-08-11T17:16:45.607Z"
   },
   {
    "duration": 0,
    "start_time": "2024-08-11T17:16:45.608Z"
   },
   {
    "duration": 0,
    "start_time": "2024-08-11T17:16:45.609Z"
   },
   {
    "duration": 0,
    "start_time": "2024-08-11T17:16:45.610Z"
   },
   {
    "duration": 0,
    "start_time": "2024-08-11T17:16:45.611Z"
   },
   {
    "duration": 0,
    "start_time": "2024-08-11T17:16:45.612Z"
   },
   {
    "duration": 0,
    "start_time": "2024-08-11T17:16:45.613Z"
   },
   {
    "duration": 0,
    "start_time": "2024-08-11T17:16:45.614Z"
   },
   {
    "duration": 0,
    "start_time": "2024-08-11T17:16:45.615Z"
   },
   {
    "duration": 0,
    "start_time": "2024-08-11T17:16:45.616Z"
   },
   {
    "duration": 0,
    "start_time": "2024-08-11T17:16:45.617Z"
   },
   {
    "duration": 0,
    "start_time": "2024-08-11T17:16:45.617Z"
   },
   {
    "duration": 0,
    "start_time": "2024-08-11T17:16:45.618Z"
   },
   {
    "duration": 0,
    "start_time": "2024-08-11T17:16:45.619Z"
   },
   {
    "duration": 0,
    "start_time": "2024-08-11T17:16:45.620Z"
   },
   {
    "duration": 8,
    "start_time": "2024-08-11T17:17:33.391Z"
   },
   {
    "duration": 45,
    "start_time": "2024-08-11T17:17:39.750Z"
   },
   {
    "duration": 11,
    "start_time": "2024-08-11T17:18:12.758Z"
   },
   {
    "duration": 28,
    "start_time": "2024-08-11T17:18:19.342Z"
   },
   {
    "duration": 20,
    "start_time": "2024-08-11T17:22:51.684Z"
   },
   {
    "duration": 20,
    "start_time": "2024-08-11T17:23:26.148Z"
   },
   {
    "duration": 2253,
    "start_time": "2024-08-11T17:23:41.716Z"
   },
   {
    "duration": 1161,
    "start_time": "2024-08-11T17:23:43.971Z"
   },
   {
    "duration": 64,
    "start_time": "2024-08-11T17:23:45.134Z"
   },
   {
    "duration": 15,
    "start_time": "2024-08-11T17:23:45.200Z"
   },
   {
    "duration": 13,
    "start_time": "2024-08-11T17:23:45.216Z"
   },
   {
    "duration": 134,
    "start_time": "2024-08-11T17:23:45.230Z"
   },
   {
    "duration": 4,
    "start_time": "2024-08-11T17:23:45.367Z"
   },
   {
    "duration": 35,
    "start_time": "2024-08-11T17:23:45.373Z"
   },
   {
    "duration": 8,
    "start_time": "2024-08-11T17:23:45.410Z"
   },
   {
    "duration": 4,
    "start_time": "2024-08-11T17:23:45.421Z"
   },
   {
    "duration": 23,
    "start_time": "2024-08-11T17:23:45.427Z"
   },
   {
    "duration": 25,
    "start_time": "2024-08-11T17:23:45.451Z"
   },
   {
    "duration": 32,
    "start_time": "2024-08-11T17:23:45.480Z"
   },
   {
    "duration": 4,
    "start_time": "2024-08-11T17:23:45.514Z"
   },
   {
    "duration": 16,
    "start_time": "2024-08-11T17:23:45.520Z"
   },
   {
    "duration": 647,
    "start_time": "2024-08-11T17:23:45.537Z"
   },
   {
    "duration": 710,
    "start_time": "2024-08-11T17:23:46.186Z"
   },
   {
    "duration": 5,
    "start_time": "2024-08-11T17:23:46.897Z"
   },
   {
    "duration": 7,
    "start_time": "2024-08-11T17:23:46.903Z"
   },
   {
    "duration": 21,
    "start_time": "2024-08-11T17:23:46.912Z"
   },
   {
    "duration": 20,
    "start_time": "2024-08-11T17:23:46.935Z"
   },
   {
    "duration": 40,
    "start_time": "2024-08-11T17:23:46.957Z"
   },
   {
    "duration": 21,
    "start_time": "2024-08-11T17:23:46.998Z"
   },
   {
    "duration": 71,
    "start_time": "2024-08-11T17:23:47.020Z"
   },
   {
    "duration": 9,
    "start_time": "2024-08-11T17:23:47.092Z"
   },
   {
    "duration": 22,
    "start_time": "2024-08-11T17:23:47.103Z"
   },
   {
    "duration": 12,
    "start_time": "2024-08-11T17:23:47.126Z"
   },
   {
    "duration": 4,
    "start_time": "2024-08-11T17:23:47.143Z"
   },
   {
    "duration": 7,
    "start_time": "2024-08-11T17:23:47.149Z"
   },
   {
    "duration": 5,
    "start_time": "2024-08-11T17:23:47.157Z"
   },
   {
    "duration": 6,
    "start_time": "2024-08-11T17:23:47.163Z"
   },
   {
    "duration": 27,
    "start_time": "2024-08-11T17:23:47.170Z"
   },
   {
    "duration": 11,
    "start_time": "2024-08-11T17:23:47.198Z"
   },
   {
    "duration": 9,
    "start_time": "2024-08-11T17:23:47.211Z"
   },
   {
    "duration": 7,
    "start_time": "2024-08-11T17:23:47.222Z"
   },
   {
    "duration": 3,
    "start_time": "2024-08-11T17:23:47.231Z"
   },
   {
    "duration": 4,
    "start_time": "2024-08-11T17:23:47.236Z"
   },
   {
    "duration": 7,
    "start_time": "2024-08-11T17:23:47.242Z"
   },
   {
    "duration": 45,
    "start_time": "2024-08-11T17:23:47.251Z"
   },
   {
    "duration": 8,
    "start_time": "2024-08-11T17:23:47.298Z"
   },
   {
    "duration": 6,
    "start_time": "2024-08-11T17:23:47.307Z"
   },
   {
    "duration": 6,
    "start_time": "2024-08-11T17:23:47.315Z"
   },
   {
    "duration": 614,
    "start_time": "2024-08-11T17:23:47.323Z"
   },
   {
    "duration": 747,
    "start_time": "2024-08-11T17:23:47.938Z"
   },
   {
    "duration": 472,
    "start_time": "2024-08-11T17:23:48.687Z"
   },
   {
    "duration": 453,
    "start_time": "2024-08-11T17:23:49.160Z"
   },
   {
    "duration": 5,
    "start_time": "2024-08-11T17:23:49.614Z"
   },
   {
    "duration": 11,
    "start_time": "2024-08-11T17:23:49.621Z"
   },
   {
    "duration": 3603,
    "start_time": "2024-08-11T17:23:49.633Z"
   },
   {
    "duration": 8,
    "start_time": "2024-08-11T17:23:53.237Z"
   },
   {
    "duration": 803,
    "start_time": "2024-08-11T17:23:53.246Z"
   },
   {
    "duration": 14,
    "start_time": "2024-08-11T17:23:54.050Z"
   },
   {
    "duration": 134,
    "start_time": "2024-08-11T17:23:54.065Z"
   },
   {
    "duration": 340,
    "start_time": "2024-08-11T17:24:38.624Z"
   },
   {
    "duration": 270,
    "start_time": "2024-08-11T17:24:49.456Z"
   },
   {
    "duration": 40,
    "start_time": "2024-08-11T17:27:08.213Z"
   },
   {
    "duration": 401,
    "start_time": "2024-08-11T17:27:20.849Z"
   },
   {
    "duration": 389,
    "start_time": "2024-08-11T17:28:39.434Z"
   },
   {
    "duration": 414,
    "start_time": "2024-08-11T17:29:08.189Z"
   },
   {
    "duration": 391,
    "start_time": "2024-08-11T17:29:39.682Z"
   },
   {
    "duration": 509,
    "start_time": "2024-08-11T17:30:12.094Z"
   },
   {
    "duration": 497,
    "start_time": "2024-08-11T17:31:40.599Z"
   },
   {
    "duration": 2306,
    "start_time": "2024-08-11T17:31:54.334Z"
   },
   {
    "duration": 1092,
    "start_time": "2024-08-11T17:31:56.643Z"
   },
   {
    "duration": 65,
    "start_time": "2024-08-11T17:31:57.736Z"
   },
   {
    "duration": 15,
    "start_time": "2024-08-11T17:31:57.803Z"
   },
   {
    "duration": 6,
    "start_time": "2024-08-11T17:31:57.819Z"
   },
   {
    "duration": 124,
    "start_time": "2024-08-11T17:31:57.826Z"
   },
   {
    "duration": 3,
    "start_time": "2024-08-11T17:31:57.952Z"
   },
   {
    "duration": 13,
    "start_time": "2024-08-11T17:31:57.956Z"
   },
   {
    "duration": 4,
    "start_time": "2024-08-11T17:31:57.970Z"
   },
   {
    "duration": 21,
    "start_time": "2024-08-11T17:31:57.976Z"
   },
   {
    "duration": 22,
    "start_time": "2024-08-11T17:31:57.998Z"
   },
   {
    "duration": 4,
    "start_time": "2024-08-11T17:31:58.021Z"
   },
   {
    "duration": 18,
    "start_time": "2024-08-11T17:31:58.027Z"
   },
   {
    "duration": 3,
    "start_time": "2024-08-11T17:31:58.046Z"
   },
   {
    "duration": 10,
    "start_time": "2024-08-11T17:31:58.050Z"
   },
   {
    "duration": 638,
    "start_time": "2024-08-11T17:31:58.062Z"
   },
   {
    "duration": 710,
    "start_time": "2024-08-11T17:31:58.701Z"
   },
   {
    "duration": 6,
    "start_time": "2024-08-11T17:31:59.412Z"
   },
   {
    "duration": 10,
    "start_time": "2024-08-11T17:31:59.419Z"
   },
   {
    "duration": 22,
    "start_time": "2024-08-11T17:31:59.430Z"
   },
   {
    "duration": 21,
    "start_time": "2024-08-11T17:31:59.454Z"
   },
   {
    "duration": 20,
    "start_time": "2024-08-11T17:31:59.496Z"
   },
   {
    "duration": 19,
    "start_time": "2024-08-11T17:31:59.518Z"
   },
   {
    "duration": 15,
    "start_time": "2024-08-11T17:31:59.539Z"
   },
   {
    "duration": 10,
    "start_time": "2024-08-11T17:31:59.556Z"
   },
   {
    "duration": 7,
    "start_time": "2024-08-11T17:31:59.596Z"
   },
   {
    "duration": 11,
    "start_time": "2024-08-11T17:31:59.604Z"
   },
   {
    "duration": 5,
    "start_time": "2024-08-11T17:31:59.618Z"
   },
   {
    "duration": 13,
    "start_time": "2024-08-11T17:31:59.624Z"
   },
   {
    "duration": 5,
    "start_time": "2024-08-11T17:31:59.639Z"
   },
   {
    "duration": 3,
    "start_time": "2024-08-11T17:31:59.645Z"
   },
   {
    "duration": 8,
    "start_time": "2024-08-11T17:31:59.650Z"
   },
   {
    "duration": 41,
    "start_time": "2024-08-11T17:31:59.659Z"
   },
   {
    "duration": 12,
    "start_time": "2024-08-11T17:31:59.702Z"
   },
   {
    "duration": 8,
    "start_time": "2024-08-11T17:31:59.715Z"
   },
   {
    "duration": 8,
    "start_time": "2024-08-11T17:31:59.724Z"
   },
   {
    "duration": 4,
    "start_time": "2024-08-11T17:31:59.734Z"
   },
   {
    "duration": 4,
    "start_time": "2024-08-11T17:31:59.740Z"
   },
   {
    "duration": 4,
    "start_time": "2024-08-11T17:31:59.745Z"
   },
   {
    "duration": 11,
    "start_time": "2024-08-11T17:31:59.750Z"
   },
   {
    "duration": 36,
    "start_time": "2024-08-11T17:31:59.763Z"
   },
   {
    "duration": 13,
    "start_time": "2024-08-11T17:31:59.801Z"
   },
   {
    "duration": 591,
    "start_time": "2024-08-11T17:31:59.816Z"
   },
   {
    "duration": 760,
    "start_time": "2024-08-11T17:32:00.409Z"
   },
   {
    "duration": 470,
    "start_time": "2024-08-11T17:32:01.171Z"
   },
   {
    "duration": 470,
    "start_time": "2024-08-11T17:32:01.642Z"
   },
   {
    "duration": 5,
    "start_time": "2024-08-11T17:32:02.114Z"
   },
   {
    "duration": 54,
    "start_time": "2024-08-11T17:32:02.120Z"
   },
   {
    "duration": 3758,
    "start_time": "2024-08-11T17:32:02.176Z"
   },
   {
    "duration": 7,
    "start_time": "2024-08-11T17:32:05.936Z"
   },
   {
    "duration": 778,
    "start_time": "2024-08-11T17:32:05.944Z"
   },
   {
    "duration": 13,
    "start_time": "2024-08-11T17:32:06.723Z"
   },
   {
    "duration": 469,
    "start_time": "2024-08-11T17:32:06.737Z"
   },
   {
    "duration": 533,
    "start_time": "2024-08-11T17:33:50.011Z"
   },
   {
    "duration": 531,
    "start_time": "2024-08-11T17:34:01.800Z"
   },
   {
    "duration": 428,
    "start_time": "2024-08-11T17:35:00.348Z"
   },
   {
    "duration": 367,
    "start_time": "2024-08-11T17:38:32.590Z"
   },
   {
    "duration": 520,
    "start_time": "2024-08-11T17:38:42.209Z"
   },
   {
    "duration": 524,
    "start_time": "2024-08-11T17:39:09.865Z"
   },
   {
    "duration": 477,
    "start_time": "2024-08-11T17:39:15.690Z"
   },
   {
    "duration": 527,
    "start_time": "2024-08-11T17:39:55.494Z"
   },
   {
    "duration": 460,
    "start_time": "2024-08-11T17:40:41.550Z"
   },
   {
    "duration": 585,
    "start_time": "2024-08-11T17:40:50.498Z"
   },
   {
    "duration": 474,
    "start_time": "2024-08-11T17:40:57.434Z"
   },
   {
    "duration": 532,
    "start_time": "2024-08-11T17:41:51.423Z"
   },
   {
    "duration": 523,
    "start_time": "2024-08-11T17:42:18.770Z"
   },
   {
    "duration": 442,
    "start_time": "2024-08-11T17:43:29.143Z"
   },
   {
    "duration": 579,
    "start_time": "2024-08-11T17:43:51.459Z"
   },
   {
    "duration": 571,
    "start_time": "2024-08-11T17:44:09.455Z"
   },
   {
    "duration": 614,
    "start_time": "2024-08-11T17:44:15.439Z"
   },
   {
    "duration": 615,
    "start_time": "2024-08-11T17:44:44.543Z"
   },
   {
    "duration": 639,
    "start_time": "2024-08-11T17:45:10.532Z"
   },
   {
    "duration": 552,
    "start_time": "2024-08-11T17:45:22.892Z"
   },
   {
    "duration": 612,
    "start_time": "2024-08-11T17:45:44.172Z"
   },
   {
    "duration": 523,
    "start_time": "2024-08-11T17:45:49.104Z"
   },
   {
    "duration": 447,
    "start_time": "2024-08-11T17:46:02.636Z"
   },
   {
    "duration": 4,
    "start_time": "2024-08-11T17:55:07.796Z"
   },
   {
    "duration": 4,
    "start_time": "2024-08-11T17:56:00.224Z"
   },
   {
    "duration": 9,
    "start_time": "2024-08-11T17:56:00.932Z"
   },
   {
    "duration": 8,
    "start_time": "2024-08-11T17:56:16.252Z"
   },
   {
    "duration": 546,
    "start_time": "2024-08-11T17:56:34.840Z"
   },
   {
    "duration": 507,
    "start_time": "2024-08-11T17:57:02.068Z"
   },
   {
    "duration": 560,
    "start_time": "2024-08-11T17:57:16.200Z"
   },
   {
    "duration": 468,
    "start_time": "2024-08-11T17:57:24.104Z"
   },
   {
    "duration": 4,
    "start_time": "2024-08-11T17:57:32.424Z"
   },
   {
    "duration": 460,
    "start_time": "2024-08-11T17:57:32.909Z"
   },
   {
    "duration": 415,
    "start_time": "2024-08-11T17:58:02.605Z"
   },
   {
    "duration": 357,
    "start_time": "2024-08-11T17:58:16.705Z"
   },
   {
    "duration": 394,
    "start_time": "2024-08-11T17:59:01.453Z"
   },
   {
    "duration": 440,
    "start_time": "2024-08-11T17:59:29.517Z"
   },
   {
    "duration": 416,
    "start_time": "2024-08-11T17:59:44.522Z"
   },
   {
    "duration": 364,
    "start_time": "2024-08-11T18:00:38.098Z"
   },
   {
    "duration": 3638,
    "start_time": "2024-08-13T04:03:43.582Z"
   },
   {
    "duration": 1255,
    "start_time": "2024-08-13T04:03:47.222Z"
   },
   {
    "duration": 123,
    "start_time": "2024-08-13T04:03:48.478Z"
   },
   {
    "duration": 12,
    "start_time": "2024-08-13T04:03:48.603Z"
   },
   {
    "duration": 11,
    "start_time": "2024-08-13T04:03:48.617Z"
   },
   {
    "duration": 90,
    "start_time": "2024-08-13T04:03:48.629Z"
   },
   {
    "duration": 2,
    "start_time": "2024-08-13T04:03:48.720Z"
   },
   {
    "duration": 11,
    "start_time": "2024-08-13T04:03:48.723Z"
   },
   {
    "duration": 3,
    "start_time": "2024-08-13T04:03:48.735Z"
   },
   {
    "duration": 3,
    "start_time": "2024-08-13T04:03:48.740Z"
   },
   {
    "duration": 16,
    "start_time": "2024-08-13T04:03:48.744Z"
   },
   {
    "duration": 3,
    "start_time": "2024-08-13T04:03:48.761Z"
   },
   {
    "duration": 44,
    "start_time": "2024-08-13T04:03:48.765Z"
   },
   {
    "duration": 2,
    "start_time": "2024-08-13T04:03:48.811Z"
   },
   {
    "duration": 5,
    "start_time": "2024-08-13T04:03:48.814Z"
   },
   {
    "duration": 539,
    "start_time": "2024-08-13T04:03:48.820Z"
   },
   {
    "duration": 706,
    "start_time": "2024-08-13T04:03:49.360Z"
   },
   {
    "duration": 5,
    "start_time": "2024-08-13T04:03:50.067Z"
   },
   {
    "duration": 78,
    "start_time": "2024-08-13T04:03:50.074Z"
   },
   {
    "duration": 21,
    "start_time": "2024-08-13T04:03:50.153Z"
   },
   {
    "duration": 19,
    "start_time": "2024-08-13T04:03:50.175Z"
   },
   {
    "duration": 17,
    "start_time": "2024-08-13T04:03:50.196Z"
   },
   {
    "duration": 16,
    "start_time": "2024-08-13T04:03:50.214Z"
   },
   {
    "duration": 12,
    "start_time": "2024-08-13T04:03:50.231Z"
   },
   {
    "duration": 35,
    "start_time": "2024-08-13T04:03:50.244Z"
   },
   {
    "duration": 11,
    "start_time": "2024-08-13T04:03:50.281Z"
   },
   {
    "duration": 11,
    "start_time": "2024-08-13T04:03:50.293Z"
   },
   {
    "duration": 4,
    "start_time": "2024-08-13T04:03:50.307Z"
   },
   {
    "duration": 11,
    "start_time": "2024-08-13T04:03:50.312Z"
   },
   {
    "duration": 5,
    "start_time": "2024-08-13T04:03:50.325Z"
   },
   {
    "duration": 13,
    "start_time": "2024-08-13T04:03:50.331Z"
   },
   {
    "duration": 7,
    "start_time": "2024-08-13T04:03:50.346Z"
   },
   {
    "duration": 9,
    "start_time": "2024-08-13T04:03:50.355Z"
   },
   {
    "duration": 8,
    "start_time": "2024-08-13T04:03:50.366Z"
   },
   {
    "duration": 17,
    "start_time": "2024-08-13T04:03:50.375Z"
   },
   {
    "duration": 9,
    "start_time": "2024-08-13T04:03:50.393Z"
   },
   {
    "duration": 5,
    "start_time": "2024-08-13T04:03:50.403Z"
   },
   {
    "duration": 10,
    "start_time": "2024-08-13T04:03:50.409Z"
   },
   {
    "duration": 5,
    "start_time": "2024-08-13T04:03:50.420Z"
   },
   {
    "duration": 7,
    "start_time": "2024-08-13T04:03:50.426Z"
   },
   {
    "duration": 6,
    "start_time": "2024-08-13T04:03:50.434Z"
   },
   {
    "duration": 6,
    "start_time": "2024-08-13T04:03:50.441Z"
   },
   {
    "duration": 510,
    "start_time": "2024-08-13T04:03:50.448Z"
   },
   {
    "duration": 667,
    "start_time": "2024-08-13T04:03:50.960Z"
   },
   {
    "duration": 466,
    "start_time": "2024-08-13T04:03:51.629Z"
   },
   {
    "duration": 427,
    "start_time": "2024-08-13T04:03:52.096Z"
   },
   {
    "duration": 6,
    "start_time": "2024-08-13T04:03:52.525Z"
   },
   {
    "duration": 21,
    "start_time": "2024-08-13T04:03:52.532Z"
   },
   {
    "duration": 3051,
    "start_time": "2024-08-13T04:03:52.554Z"
   },
   {
    "duration": 8,
    "start_time": "2024-08-13T04:03:55.606Z"
   },
   {
    "duration": 775,
    "start_time": "2024-08-13T04:03:55.616Z"
   },
   {
    "duration": 18,
    "start_time": "2024-08-13T04:03:56.393Z"
   },
   {
    "duration": 4,
    "start_time": "2024-08-13T04:03:56.412Z"
   },
   {
    "duration": 436,
    "start_time": "2024-08-13T04:03:56.417Z"
   },
   {
    "duration": 385,
    "start_time": "2024-08-13T04:03:56.854Z"
   },
   {
    "duration": 414,
    "start_time": "2024-08-13T04:03:57.240Z"
   },
   {
    "duration": 387,
    "start_time": "2024-08-13T04:03:57.655Z"
   },
   {
    "duration": 105,
    "start_time": "2024-08-13T04:04:29.661Z"
   },
   {
    "duration": 20,
    "start_time": "2024-08-13T04:04:37.606Z"
   },
   {
    "duration": 30,
    "start_time": "2024-08-13T04:04:49.890Z"
   },
   {
    "duration": 27,
    "start_time": "2024-08-13T04:05:16.914Z"
   },
   {
    "duration": 27,
    "start_time": "2024-08-13T04:05:32.138Z"
   },
   {
    "duration": 20,
    "start_time": "2024-08-13T04:06:14.514Z"
   },
   {
    "duration": 2,
    "start_time": "2024-08-13T04:13:54.678Z"
   },
   {
    "duration": 3,
    "start_time": "2024-08-13T04:13:58.234Z"
   },
   {
    "duration": 17,
    "start_time": "2024-08-13T04:14:18.026Z"
   },
   {
    "duration": 4,
    "start_time": "2024-08-13T04:14:22.566Z"
   },
   {
    "duration": 7,
    "start_time": "2024-08-13T04:14:28.094Z"
   },
   {
    "duration": 12,
    "start_time": "2024-08-13T04:19:03.824Z"
   },
   {
    "duration": 8,
    "start_time": "2024-08-13T04:19:06.216Z"
   },
   {
    "duration": 15,
    "start_time": "2024-08-13T04:20:35.312Z"
   },
   {
    "duration": 9,
    "start_time": "2024-08-13T04:20:36.013Z"
   },
   {
    "duration": 9,
    "start_time": "2024-08-13T04:21:52.574Z"
   },
   {
    "duration": 8,
    "start_time": "2024-08-13T04:22:03.477Z"
   },
   {
    "duration": 5,
    "start_time": "2024-08-13T04:22:03.918Z"
   },
   {
    "duration": 8,
    "start_time": "2024-08-13T04:22:13.818Z"
   },
   {
    "duration": 6,
    "start_time": "2024-08-13T04:22:14.646Z"
   },
   {
    "duration": 19,
    "start_time": "2024-08-13T04:23:37.754Z"
   },
   {
    "duration": 6,
    "start_time": "2024-08-13T04:23:38.146Z"
   },
   {
    "duration": 16,
    "start_time": "2024-08-13T04:25:38.475Z"
   },
   {
    "duration": 7,
    "start_time": "2024-08-13T04:25:38.979Z"
   },
   {
    "duration": 12,
    "start_time": "2024-08-13T04:26:37.243Z"
   },
   {
    "duration": 10,
    "start_time": "2024-08-13T04:26:37.599Z"
   },
   {
    "duration": 24,
    "start_time": "2024-08-13T04:26:55.798Z"
   },
   {
    "duration": 17,
    "start_time": "2024-08-13T04:27:04.717Z"
   },
   {
    "duration": 18,
    "start_time": "2024-08-13T04:27:42.364Z"
   },
   {
    "duration": 10,
    "start_time": "2024-08-13T04:27:46.476Z"
   },
   {
    "duration": 17,
    "start_time": "2024-08-13T04:27:59.476Z"
   },
   {
    "duration": 7,
    "start_time": "2024-08-13T04:28:00.220Z"
   },
   {
    "duration": 13,
    "start_time": "2024-08-13T04:28:44.289Z"
   },
   {
    "duration": 8,
    "start_time": "2024-08-13T04:28:46.547Z"
   },
   {
    "duration": 14,
    "start_time": "2024-08-13T04:29:00.280Z"
   },
   {
    "duration": 6,
    "start_time": "2024-08-13T04:29:00.748Z"
   },
   {
    "duration": 16,
    "start_time": "2024-08-13T04:29:18.557Z"
   },
   {
    "duration": 5,
    "start_time": "2024-08-13T04:29:19.033Z"
   },
   {
    "duration": 18,
    "start_time": "2024-08-13T04:29:48.952Z"
   },
   {
    "duration": 7,
    "start_time": "2024-08-13T04:29:49.605Z"
   },
   {
    "duration": 72,
    "start_time": "2024-08-13T04:31:45.965Z"
   },
   {
    "duration": 6,
    "start_time": "2024-08-13T04:31:46.357Z"
   },
   {
    "duration": 19,
    "start_time": "2024-08-13T04:31:50.666Z"
   },
   {
    "duration": 13,
    "start_time": "2024-08-13T04:36:16.733Z"
   },
   {
    "duration": 17,
    "start_time": "2024-08-13T04:36:21.683Z"
   },
   {
    "duration": 6,
    "start_time": "2024-08-13T04:36:22.387Z"
   },
   {
    "duration": 27,
    "start_time": "2024-08-13T04:36:53.239Z"
   },
   {
    "duration": 6,
    "start_time": "2024-08-13T04:36:53.795Z"
   },
   {
    "duration": 9,
    "start_time": "2024-08-13T04:38:02.191Z"
   },
   {
    "duration": 21,
    "start_time": "2024-08-13T04:38:15.875Z"
   },
   {
    "duration": 7,
    "start_time": "2024-08-13T04:38:16.956Z"
   },
   {
    "duration": 11,
    "start_time": "2024-08-13T04:39:03.528Z"
   },
   {
    "duration": 75,
    "start_time": "2024-08-13T04:40:18.597Z"
   },
   {
    "duration": 40,
    "start_time": "2024-08-13T04:41:30.973Z"
   },
   {
    "duration": 9,
    "start_time": "2024-08-13T04:41:32.010Z"
   },
   {
    "duration": 12,
    "start_time": "2024-08-13T04:42:06.854Z"
   },
   {
    "duration": 10,
    "start_time": "2024-08-13T04:45:19.351Z"
   },
   {
    "duration": 16,
    "start_time": "2024-08-13T04:45:24.290Z"
   },
   {
    "duration": 15,
    "start_time": "2024-08-13T04:45:32.542Z"
   },
   {
    "duration": 16,
    "start_time": "2024-08-13T04:46:27.595Z"
   },
   {
    "duration": 13,
    "start_time": "2024-08-13T04:47:04.176Z"
   },
   {
    "duration": 18,
    "start_time": "2024-08-13T04:47:08.683Z"
   },
   {
    "duration": 13,
    "start_time": "2024-08-13T04:48:15.876Z"
   },
   {
    "duration": 5,
    "start_time": "2024-08-13T04:50:14.956Z"
   },
   {
    "duration": 9,
    "start_time": "2024-08-13T04:50:19.588Z"
   },
   {
    "duration": 7,
    "start_time": "2024-08-13T04:51:53.513Z"
   },
   {
    "duration": 10,
    "start_time": "2024-08-13T04:51:58.510Z"
   },
   {
    "duration": 7,
    "start_time": "2024-08-13T04:52:17.121Z"
   },
   {
    "duration": 8,
    "start_time": "2024-08-13T04:52:21.226Z"
   },
   {
    "duration": 9,
    "start_time": "2024-08-13T04:52:53.174Z"
   },
   {
    "duration": 9,
    "start_time": "2024-08-13T04:52:56.946Z"
   },
   {
    "duration": 104,
    "start_time": "2024-08-13T04:53:25.769Z"
   },
   {
    "duration": 12,
    "start_time": "2024-08-13T04:53:31.842Z"
   },
   {
    "duration": 170,
    "start_time": "2024-08-13T04:54:45.094Z"
   },
   {
    "duration": 65,
    "start_time": "2024-08-13T04:55:00.790Z"
   },
   {
    "duration": 18,
    "start_time": "2024-08-13T04:55:04.688Z"
   },
   {
    "duration": 23,
    "start_time": "2024-08-13T04:55:08.950Z"
   },
   {
    "duration": 9,
    "start_time": "2024-08-13T04:55:15.358Z"
   },
   {
    "duration": 11,
    "start_time": "2024-08-13T04:55:48.251Z"
   },
   {
    "duration": 11,
    "start_time": "2024-08-13T04:55:52.639Z"
   },
   {
    "duration": 9,
    "start_time": "2024-08-13T04:56:05.111Z"
   },
   {
    "duration": 10,
    "start_time": "2024-08-13T04:56:14.455Z"
   },
   {
    "duration": 11,
    "start_time": "2024-08-13T04:56:30.571Z"
   },
   {
    "duration": 64,
    "start_time": "2024-08-13T04:58:27.427Z"
   },
   {
    "duration": 11,
    "start_time": "2024-08-13T04:58:58.628Z"
   },
   {
    "duration": 12,
    "start_time": "2024-08-13T04:59:34.412Z"
   },
   {
    "duration": 12,
    "start_time": "2024-08-13T04:59:39.536Z"
   },
   {
    "duration": 6,
    "start_time": "2024-08-13T04:59:47.484Z"
   },
   {
    "duration": 13,
    "start_time": "2024-08-13T04:59:52.021Z"
   },
   {
    "duration": 12,
    "start_time": "2024-08-13T05:00:03.531Z"
   },
   {
    "duration": 13,
    "start_time": "2024-08-13T05:02:02.157Z"
   },
   {
    "duration": 65,
    "start_time": "2024-08-13T05:03:57.206Z"
   },
   {
    "duration": 18,
    "start_time": "2024-08-13T05:04:01.198Z"
   },
   {
    "duration": 15,
    "start_time": "2024-08-13T05:04:22.218Z"
   },
   {
    "duration": 3,
    "start_time": "2024-08-13T05:04:34.098Z"
   },
   {
    "duration": 258,
    "start_time": "2024-08-13T05:04:37.150Z"
   },
   {
    "duration": 12,
    "start_time": "2024-08-13T05:04:42.078Z"
   },
   {
    "duration": 14,
    "start_time": "2024-08-13T05:06:39.159Z"
   },
   {
    "duration": 23,
    "start_time": "2024-08-13T05:06:41.811Z"
   },
   {
    "duration": 15,
    "start_time": "2024-08-13T05:06:42.518Z"
   },
   {
    "duration": 18,
    "start_time": "2024-08-13T05:11:55.935Z"
   },
   {
    "duration": 12,
    "start_time": "2024-08-13T05:12:34.554Z"
   },
   {
    "duration": 26,
    "start_time": "2024-08-13T05:14:19.710Z"
   },
   {
    "duration": 16,
    "start_time": "2024-08-13T05:14:21.014Z"
   },
   {
    "duration": 23,
    "start_time": "2024-08-13T05:15:06.802Z"
   },
   {
    "duration": 13,
    "start_time": "2024-08-13T05:15:07.726Z"
   },
   {
    "duration": 12,
    "start_time": "2024-08-13T05:15:34.215Z"
   },
   {
    "duration": 20,
    "start_time": "2024-08-13T05:16:03.444Z"
   },
   {
    "duration": 18,
    "start_time": "2024-08-13T05:16:05.905Z"
   },
   {
    "duration": 18,
    "start_time": "2024-08-13T05:16:06.371Z"
   },
   {
    "duration": 21,
    "start_time": "2024-08-13T05:16:07.595Z"
   },
   {
    "duration": 11,
    "start_time": "2024-08-13T05:16:08.211Z"
   },
   {
    "duration": 18,
    "start_time": "2024-08-13T05:18:02.140Z"
   },
   {
    "duration": 65,
    "start_time": "2024-08-13T05:18:09.372Z"
   },
   {
    "duration": 19,
    "start_time": "2024-08-13T05:18:16.312Z"
   },
   {
    "duration": 67,
    "start_time": "2024-08-13T05:19:38.533Z"
   },
   {
    "duration": 19,
    "start_time": "2024-08-13T05:20:58.933Z"
   },
   {
    "duration": 19,
    "start_time": "2024-08-13T05:24:20.261Z"
   },
   {
    "duration": 20,
    "start_time": "2024-08-13T05:24:25.171Z"
   },
   {
    "duration": 13,
    "start_time": "2024-08-13T05:24:36.075Z"
   },
   {
    "duration": 21,
    "start_time": "2024-08-13T05:24:36.747Z"
   },
   {
    "duration": 10,
    "start_time": "2024-08-13T05:24:41.419Z"
   },
   {
    "duration": 20,
    "start_time": "2024-08-13T05:31:44.250Z"
   },
   {
    "duration": 13,
    "start_time": "2024-08-13T05:31:46.530Z"
   },
   {
    "duration": 21,
    "start_time": "2024-08-13T05:31:47.422Z"
   },
   {
    "duration": 12,
    "start_time": "2024-08-13T05:31:48.678Z"
   },
   {
    "duration": 20,
    "start_time": "2024-08-13T05:33:38.322Z"
   },
   {
    "duration": 12,
    "start_time": "2024-08-13T05:33:41.947Z"
   },
   {
    "duration": 14,
    "start_time": "2024-08-13T05:37:06.100Z"
   },
   {
    "duration": 12,
    "start_time": "2024-08-13T05:37:10.189Z"
   },
   {
    "duration": 4,
    "start_time": "2024-08-13T05:40:49.542Z"
   },
   {
    "duration": 2,
    "start_time": "2024-08-13T05:40:58.618Z"
   },
   {
    "duration": 3,
    "start_time": "2024-08-13T05:41:11.446Z"
   },
   {
    "duration": 4,
    "start_time": "2024-08-13T05:41:22.590Z"
   },
   {
    "duration": 4,
    "start_time": "2024-08-13T05:41:35.098Z"
   },
   {
    "duration": 3,
    "start_time": "2024-08-13T05:42:30.995Z"
   },
   {
    "duration": 19,
    "start_time": "2024-08-13T05:42:42.259Z"
   },
   {
    "duration": 11,
    "start_time": "2024-08-13T05:42:46.966Z"
   },
   {
    "duration": 15,
    "start_time": "2024-08-13T05:44:54.880Z"
   },
   {
    "duration": 10,
    "start_time": "2024-08-13T05:45:01.556Z"
   },
   {
    "duration": 16,
    "start_time": "2024-08-13T05:45:04.855Z"
   },
   {
    "duration": 17,
    "start_time": "2024-08-13T05:56:27.953Z"
   },
   {
    "duration": 17,
    "start_time": "2024-08-13T05:56:44.593Z"
   },
   {
    "duration": 18,
    "start_time": "2024-08-13T05:58:43.462Z"
   },
   {
    "duration": 22,
    "start_time": "2024-08-13T06:00:12.992Z"
   },
   {
    "duration": 13,
    "start_time": "2024-08-13T06:02:13.180Z"
   },
   {
    "duration": 21,
    "start_time": "2024-08-13T06:02:19.300Z"
   },
   {
    "duration": 8,
    "start_time": "2024-08-13T06:03:59.040Z"
   },
   {
    "duration": 10,
    "start_time": "2024-08-13T06:04:05.604Z"
   },
   {
    "duration": 18,
    "start_time": "2024-08-13T06:04:26.101Z"
   },
   {
    "duration": 13,
    "start_time": "2024-08-13T06:04:31.189Z"
   },
   {
    "duration": 22,
    "start_time": "2024-08-13T06:04:32.930Z"
   },
   {
    "duration": 11,
    "start_time": "2024-08-13T06:04:34.376Z"
   },
   {
    "duration": 66,
    "start_time": "2024-08-13T06:11:30.952Z"
   },
   {
    "duration": 72,
    "start_time": "2024-08-13T06:11:38.409Z"
   },
   {
    "duration": 4,
    "start_time": "2024-08-13T06:11:42.740Z"
   },
   {
    "duration": 17,
    "start_time": "2024-08-13T06:12:29.072Z"
   },
   {
    "duration": 18,
    "start_time": "2024-08-13T06:13:06.556Z"
   },
   {
    "duration": 4,
    "start_time": "2024-08-13T06:16:53.375Z"
   },
   {
    "duration": 21,
    "start_time": "2024-08-13T06:18:17.835Z"
   },
   {
    "duration": 3,
    "start_time": "2024-08-13T06:18:46.571Z"
   },
   {
    "duration": 31,
    "start_time": "2024-08-13T06:18:47.159Z"
   },
   {
    "duration": 7,
    "start_time": "2024-08-13T06:18:55.507Z"
   },
   {
    "duration": 24,
    "start_time": "2024-08-13T06:18:56.235Z"
   },
   {
    "duration": 4,
    "start_time": "2024-08-13T06:21:32.484Z"
   },
   {
    "duration": 133,
    "start_time": "2024-08-13T06:22:24.856Z"
   },
   {
    "duration": 38,
    "start_time": "2024-08-13T06:22:32.921Z"
   },
   {
    "duration": 71,
    "start_time": "2024-08-13T06:23:58.262Z"
   },
   {
    "duration": 8,
    "start_time": "2024-08-13T06:24:24.842Z"
   },
   {
    "duration": 69,
    "start_time": "2024-08-13T06:25:32.323Z"
   },
   {
    "duration": 5,
    "start_time": "2024-08-13T06:25:41.507Z"
   },
   {
    "duration": 48,
    "start_time": "2024-08-13T06:25:42.311Z"
   },
   {
    "duration": 5,
    "start_time": "2024-08-13T06:25:50.415Z"
   },
   {
    "duration": 37,
    "start_time": "2024-08-13T06:25:51.522Z"
   },
   {
    "duration": 12,
    "start_time": "2024-08-13T06:27:21.148Z"
   },
   {
    "duration": 8,
    "start_time": "2024-08-13T06:29:34.685Z"
   },
   {
    "duration": 2641,
    "start_time": "2024-08-13T06:30:28.930Z"
   },
   {
    "duration": 1140,
    "start_time": "2024-08-13T06:30:31.573Z"
   },
   {
    "duration": 68,
    "start_time": "2024-08-13T06:30:32.714Z"
   },
   {
    "duration": 35,
    "start_time": "2024-08-13T06:30:32.784Z"
   },
   {
    "duration": 10,
    "start_time": "2024-08-13T06:30:32.820Z"
   },
   {
    "duration": 105,
    "start_time": "2024-08-13T06:30:32.831Z"
   },
   {
    "duration": 2,
    "start_time": "2024-08-13T06:30:32.938Z"
   },
   {
    "duration": 26,
    "start_time": "2024-08-13T06:30:32.941Z"
   },
   {
    "duration": 16,
    "start_time": "2024-08-13T06:30:32.969Z"
   },
   {
    "duration": 19,
    "start_time": "2024-08-13T06:30:32.988Z"
   },
   {
    "duration": 20,
    "start_time": "2024-08-13T06:30:33.008Z"
   },
   {
    "duration": 19,
    "start_time": "2024-08-13T06:30:33.029Z"
   },
   {
    "duration": 19,
    "start_time": "2024-08-13T06:30:33.049Z"
   },
   {
    "duration": 5,
    "start_time": "2024-08-13T06:30:33.069Z"
   },
   {
    "duration": 61,
    "start_time": "2024-08-13T06:30:33.075Z"
   },
   {
    "duration": 573,
    "start_time": "2024-08-13T06:30:33.138Z"
   },
   {
    "duration": 654,
    "start_time": "2024-08-13T06:30:33.713Z"
   },
   {
    "duration": 6,
    "start_time": "2024-08-13T06:30:34.369Z"
   },
   {
    "duration": 6,
    "start_time": "2024-08-13T06:30:34.377Z"
   },
   {
    "duration": 20,
    "start_time": "2024-08-13T06:30:34.385Z"
   },
   {
    "duration": 123,
    "start_time": "2024-08-13T06:30:34.407Z"
   },
   {
    "duration": 0,
    "start_time": "2024-08-13T06:30:34.533Z"
   },
   {
    "duration": 0,
    "start_time": "2024-08-13T06:30:34.534Z"
   },
   {
    "duration": 0,
    "start_time": "2024-08-13T06:30:34.536Z"
   },
   {
    "duration": 0,
    "start_time": "2024-08-13T06:30:34.537Z"
   },
   {
    "duration": 0,
    "start_time": "2024-08-13T06:30:34.538Z"
   },
   {
    "duration": 0,
    "start_time": "2024-08-13T06:30:34.539Z"
   },
   {
    "duration": 0,
    "start_time": "2024-08-13T06:30:34.540Z"
   },
   {
    "duration": 0,
    "start_time": "2024-08-13T06:30:34.541Z"
   },
   {
    "duration": 0,
    "start_time": "2024-08-13T06:30:34.542Z"
   },
   {
    "duration": 0,
    "start_time": "2024-08-13T06:30:34.543Z"
   },
   {
    "duration": 0,
    "start_time": "2024-08-13T06:30:34.545Z"
   },
   {
    "duration": 0,
    "start_time": "2024-08-13T06:30:34.546Z"
   },
   {
    "duration": 0,
    "start_time": "2024-08-13T06:30:34.547Z"
   },
   {
    "duration": 0,
    "start_time": "2024-08-13T06:30:34.548Z"
   },
   {
    "duration": 0,
    "start_time": "2024-08-13T06:30:34.549Z"
   },
   {
    "duration": 0,
    "start_time": "2024-08-13T06:30:34.550Z"
   },
   {
    "duration": 0,
    "start_time": "2024-08-13T06:30:34.551Z"
   },
   {
    "duration": 0,
    "start_time": "2024-08-13T06:30:34.552Z"
   },
   {
    "duration": 0,
    "start_time": "2024-08-13T06:30:34.554Z"
   },
   {
    "duration": 0,
    "start_time": "2024-08-13T06:30:34.554Z"
   },
   {
    "duration": 0,
    "start_time": "2024-08-13T06:30:34.556Z"
   },
   {
    "duration": 0,
    "start_time": "2024-08-13T06:30:34.557Z"
   },
   {
    "duration": 0,
    "start_time": "2024-08-13T06:30:34.557Z"
   },
   {
    "duration": 0,
    "start_time": "2024-08-13T06:30:34.558Z"
   },
   {
    "duration": 0,
    "start_time": "2024-08-13T06:30:34.559Z"
   },
   {
    "duration": 0,
    "start_time": "2024-08-13T06:30:34.560Z"
   },
   {
    "duration": 0,
    "start_time": "2024-08-13T06:30:34.561Z"
   },
   {
    "duration": 0,
    "start_time": "2024-08-13T06:30:34.561Z"
   },
   {
    "duration": 0,
    "start_time": "2024-08-13T06:30:34.562Z"
   },
   {
    "duration": 0,
    "start_time": "2024-08-13T06:30:34.563Z"
   },
   {
    "duration": 0,
    "start_time": "2024-08-13T06:30:34.602Z"
   },
   {
    "duration": 0,
    "start_time": "2024-08-13T06:30:34.603Z"
   },
   {
    "duration": 0,
    "start_time": "2024-08-13T06:30:34.605Z"
   },
   {
    "duration": 0,
    "start_time": "2024-08-13T06:30:34.606Z"
   },
   {
    "duration": 0,
    "start_time": "2024-08-13T06:30:34.607Z"
   },
   {
    "duration": 0,
    "start_time": "2024-08-13T06:30:34.608Z"
   },
   {
    "duration": 0,
    "start_time": "2024-08-13T06:30:34.609Z"
   },
   {
    "duration": 0,
    "start_time": "2024-08-13T06:30:34.610Z"
   },
   {
    "duration": 0,
    "start_time": "2024-08-13T06:30:34.611Z"
   },
   {
    "duration": 0,
    "start_time": "2024-08-13T06:30:34.612Z"
   },
   {
    "duration": 0,
    "start_time": "2024-08-13T06:30:34.613Z"
   },
   {
    "duration": 0,
    "start_time": "2024-08-13T06:30:34.614Z"
   },
   {
    "duration": 8,
    "start_time": "2024-08-13T06:32:03.923Z"
   },
   {
    "duration": 5,
    "start_time": "2024-08-13T06:32:52.127Z"
   },
   {
    "duration": 7,
    "start_time": "2024-08-13T06:33:00.231Z"
   },
   {
    "duration": 5,
    "start_time": "2024-08-13T06:33:20.847Z"
   },
   {
    "duration": 38,
    "start_time": "2024-08-13T06:33:21.363Z"
   },
   {
    "duration": 9,
    "start_time": "2024-08-13T06:33:25.055Z"
   },
   {
    "duration": 9,
    "start_time": "2024-08-13T06:34:05.092Z"
   },
   {
    "duration": 9,
    "start_time": "2024-08-13T06:34:09.440Z"
   },
   {
    "duration": 7,
    "start_time": "2024-08-13T06:34:31.122Z"
   },
   {
    "duration": 5,
    "start_time": "2024-08-13T06:35:34.108Z"
   },
   {
    "duration": 39,
    "start_time": "2024-08-13T06:35:36.060Z"
   },
   {
    "duration": 6,
    "start_time": "2024-08-13T06:35:38.312Z"
   },
   {
    "duration": 69,
    "start_time": "2024-08-13T06:35:56.693Z"
   },
   {
    "duration": 4,
    "start_time": "2024-08-13T06:36:03.301Z"
   },
   {
    "duration": 37,
    "start_time": "2024-08-13T06:36:05.721Z"
   },
   {
    "duration": 6,
    "start_time": "2024-08-13T06:38:17.018Z"
   },
   {
    "duration": 40,
    "start_time": "2024-08-13T06:38:17.830Z"
   },
   {
    "duration": 9,
    "start_time": "2024-08-13T06:39:58.637Z"
   },
   {
    "duration": 7,
    "start_time": "2024-08-13T06:40:04.846Z"
   },
   {
    "duration": 7,
    "start_time": "2024-08-13T06:40:09.695Z"
   },
   {
    "duration": 7,
    "start_time": "2024-08-13T06:41:27.271Z"
   },
   {
    "duration": 53,
    "start_time": "2024-08-13T06:41:28.011Z"
   },
   {
    "duration": 79,
    "start_time": "2024-08-13T06:41:34.546Z"
   },
   {
    "duration": 5,
    "start_time": "2024-08-13T06:41:57.169Z"
   },
   {
    "duration": 39,
    "start_time": "2024-08-13T06:41:57.871Z"
   },
   {
    "duration": 2497,
    "start_time": "2024-08-13T06:47:10.649Z"
   },
   {
    "duration": 1028,
    "start_time": "2024-08-13T06:47:13.148Z"
   },
   {
    "duration": 100,
    "start_time": "2024-08-13T06:47:14.177Z"
   },
   {
    "duration": 13,
    "start_time": "2024-08-13T06:47:14.278Z"
   },
   {
    "duration": 6,
    "start_time": "2024-08-13T06:47:14.292Z"
   },
   {
    "duration": 99,
    "start_time": "2024-08-13T06:47:14.299Z"
   },
   {
    "duration": 3,
    "start_time": "2024-08-13T06:47:14.399Z"
   },
   {
    "duration": 10,
    "start_time": "2024-08-13T06:47:14.404Z"
   },
   {
    "duration": 11,
    "start_time": "2024-08-13T06:47:14.415Z"
   },
   {
    "duration": 12,
    "start_time": "2024-08-13T06:47:14.428Z"
   },
   {
    "duration": 18,
    "start_time": "2024-08-13T06:47:14.441Z"
   },
   {
    "duration": 31,
    "start_time": "2024-08-13T06:47:14.460Z"
   },
   {
    "duration": 21,
    "start_time": "2024-08-13T06:47:14.492Z"
   },
   {
    "duration": 7,
    "start_time": "2024-08-13T06:47:14.514Z"
   },
   {
    "duration": 16,
    "start_time": "2024-08-13T06:47:14.522Z"
   },
   {
    "duration": 566,
    "start_time": "2024-08-13T06:47:14.539Z"
   },
   {
    "duration": 687,
    "start_time": "2024-08-13T06:47:15.107Z"
   },
   {
    "duration": 5,
    "start_time": "2024-08-13T06:47:15.801Z"
   },
   {
    "duration": 58,
    "start_time": "2024-08-13T06:47:15.807Z"
   },
   {
    "duration": 18,
    "start_time": "2024-08-13T06:47:15.866Z"
   },
   {
    "duration": 67,
    "start_time": "2024-08-13T06:47:15.886Z"
   },
   {
    "duration": 117,
    "start_time": "2024-08-13T06:47:15.954Z"
   },
   {
    "duration": 0,
    "start_time": "2024-08-13T06:47:16.073Z"
   },
   {
    "duration": 0,
    "start_time": "2024-08-13T06:47:16.074Z"
   },
   {
    "duration": 0,
    "start_time": "2024-08-13T06:47:16.075Z"
   },
   {
    "duration": 0,
    "start_time": "2024-08-13T06:47:16.076Z"
   },
   {
    "duration": 0,
    "start_time": "2024-08-13T06:47:16.077Z"
   },
   {
    "duration": 0,
    "start_time": "2024-08-13T06:47:16.078Z"
   },
   {
    "duration": 0,
    "start_time": "2024-08-13T06:47:16.079Z"
   },
   {
    "duration": 0,
    "start_time": "2024-08-13T06:47:16.080Z"
   },
   {
    "duration": 0,
    "start_time": "2024-08-13T06:47:16.080Z"
   },
   {
    "duration": 0,
    "start_time": "2024-08-13T06:47:16.081Z"
   },
   {
    "duration": 0,
    "start_time": "2024-08-13T06:47:16.082Z"
   },
   {
    "duration": 0,
    "start_time": "2024-08-13T06:47:16.083Z"
   },
   {
    "duration": 0,
    "start_time": "2024-08-13T06:47:16.084Z"
   },
   {
    "duration": 0,
    "start_time": "2024-08-13T06:47:16.102Z"
   },
   {
    "duration": 0,
    "start_time": "2024-08-13T06:47:16.103Z"
   },
   {
    "duration": 0,
    "start_time": "2024-08-13T06:47:16.104Z"
   },
   {
    "duration": 0,
    "start_time": "2024-08-13T06:47:16.104Z"
   },
   {
    "duration": 0,
    "start_time": "2024-08-13T06:47:16.105Z"
   },
   {
    "duration": 0,
    "start_time": "2024-08-13T06:47:16.106Z"
   },
   {
    "duration": 0,
    "start_time": "2024-08-13T06:47:16.107Z"
   },
   {
    "duration": 0,
    "start_time": "2024-08-13T06:47:16.107Z"
   },
   {
    "duration": 0,
    "start_time": "2024-08-13T06:47:16.108Z"
   },
   {
    "duration": 0,
    "start_time": "2024-08-13T06:47:16.109Z"
   },
   {
    "duration": 0,
    "start_time": "2024-08-13T06:47:16.110Z"
   },
   {
    "duration": 0,
    "start_time": "2024-08-13T06:47:16.111Z"
   },
   {
    "duration": 0,
    "start_time": "2024-08-13T06:47:16.112Z"
   },
   {
    "duration": 0,
    "start_time": "2024-08-13T06:47:16.113Z"
   },
   {
    "duration": 0,
    "start_time": "2024-08-13T06:47:16.114Z"
   },
   {
    "duration": 0,
    "start_time": "2024-08-13T06:47:16.115Z"
   },
   {
    "duration": 0,
    "start_time": "2024-08-13T06:47:16.116Z"
   },
   {
    "duration": 0,
    "start_time": "2024-08-13T06:47:16.117Z"
   },
   {
    "duration": 0,
    "start_time": "2024-08-13T06:47:16.118Z"
   },
   {
    "duration": 0,
    "start_time": "2024-08-13T06:47:16.119Z"
   },
   {
    "duration": 0,
    "start_time": "2024-08-13T06:47:16.120Z"
   },
   {
    "duration": 0,
    "start_time": "2024-08-13T06:47:16.121Z"
   },
   {
    "duration": 0,
    "start_time": "2024-08-13T06:47:16.122Z"
   },
   {
    "duration": 0,
    "start_time": "2024-08-13T06:47:16.123Z"
   },
   {
    "duration": 0,
    "start_time": "2024-08-13T06:47:16.123Z"
   },
   {
    "duration": 0,
    "start_time": "2024-08-13T06:47:16.125Z"
   },
   {
    "duration": 0,
    "start_time": "2024-08-13T06:47:16.125Z"
   },
   {
    "duration": 0,
    "start_time": "2024-08-13T06:47:16.127Z"
   },
   {
    "duration": 0,
    "start_time": "2024-08-13T06:47:16.127Z"
   },
   {
    "duration": 115,
    "start_time": "2024-08-13T06:48:30.666Z"
   },
   {
    "duration": 38,
    "start_time": "2024-08-13T06:48:47.382Z"
   },
   {
    "duration": 7,
    "start_time": "2024-08-13T06:48:51.978Z"
   },
   {
    "duration": 14,
    "start_time": "2024-08-13T06:49:27.007Z"
   },
   {
    "duration": 10,
    "start_time": "2024-08-13T06:49:34.857Z"
   },
   {
    "duration": 3,
    "start_time": "2024-08-13T06:50:10.322Z"
   },
   {
    "duration": 11,
    "start_time": "2024-08-13T06:50:16.667Z"
   },
   {
    "duration": 2517,
    "start_time": "2024-08-13T06:50:37.231Z"
   },
   {
    "duration": 1039,
    "start_time": "2024-08-13T06:50:39.751Z"
   },
   {
    "duration": 83,
    "start_time": "2024-08-13T06:50:40.791Z"
   },
   {
    "duration": 13,
    "start_time": "2024-08-13T06:50:40.876Z"
   },
   {
    "duration": 6,
    "start_time": "2024-08-13T06:50:40.890Z"
   },
   {
    "duration": 121,
    "start_time": "2024-08-13T06:50:40.897Z"
   },
   {
    "duration": 5,
    "start_time": "2024-08-13T06:50:41.019Z"
   },
   {
    "duration": 18,
    "start_time": "2024-08-13T06:50:41.027Z"
   },
   {
    "duration": 8,
    "start_time": "2024-08-13T06:50:41.047Z"
   },
   {
    "duration": 4,
    "start_time": "2024-08-13T06:50:41.058Z"
   },
   {
    "duration": 28,
    "start_time": "2024-08-13T06:50:41.063Z"
   },
   {
    "duration": 4,
    "start_time": "2024-08-13T06:50:41.092Z"
   },
   {
    "duration": 45,
    "start_time": "2024-08-13T06:50:41.097Z"
   },
   {
    "duration": 3,
    "start_time": "2024-08-13T06:50:41.143Z"
   },
   {
    "duration": 18,
    "start_time": "2024-08-13T06:50:41.147Z"
   },
   {
    "duration": 598,
    "start_time": "2024-08-13T06:50:41.167Z"
   },
   {
    "duration": 676,
    "start_time": "2024-08-13T06:50:41.766Z"
   },
   {
    "duration": 5,
    "start_time": "2024-08-13T06:50:42.444Z"
   },
   {
    "duration": 38,
    "start_time": "2024-08-13T06:50:42.451Z"
   },
   {
    "duration": 4,
    "start_time": "2024-08-13T06:50:42.491Z"
   },
   {
    "duration": 54,
    "start_time": "2024-08-13T06:50:42.496Z"
   },
   {
    "duration": 7,
    "start_time": "2024-08-13T06:50:42.551Z"
   },
   {
    "duration": 22,
    "start_time": "2024-08-13T06:50:42.560Z"
   },
   {
    "duration": 14,
    "start_time": "2024-08-13T06:50:42.583Z"
   },
   {
    "duration": 222,
    "start_time": "2024-08-13T06:50:42.598Z"
   },
   {
    "duration": 0,
    "start_time": "2024-08-13T06:50:42.823Z"
   },
   {
    "duration": 0,
    "start_time": "2024-08-13T06:50:42.824Z"
   },
   {
    "duration": 0,
    "start_time": "2024-08-13T06:50:42.825Z"
   },
   {
    "duration": 0,
    "start_time": "2024-08-13T06:50:42.826Z"
   },
   {
    "duration": 0,
    "start_time": "2024-08-13T06:50:42.827Z"
   },
   {
    "duration": 0,
    "start_time": "2024-08-13T06:50:42.828Z"
   },
   {
    "duration": 0,
    "start_time": "2024-08-13T06:50:42.829Z"
   },
   {
    "duration": 0,
    "start_time": "2024-08-13T06:50:42.830Z"
   },
   {
    "duration": 0,
    "start_time": "2024-08-13T06:50:42.831Z"
   },
   {
    "duration": 0,
    "start_time": "2024-08-13T06:50:42.832Z"
   },
   {
    "duration": 0,
    "start_time": "2024-08-13T06:50:42.833Z"
   },
   {
    "duration": 0,
    "start_time": "2024-08-13T06:50:42.834Z"
   },
   {
    "duration": 0,
    "start_time": "2024-08-13T06:50:42.835Z"
   },
   {
    "duration": 0,
    "start_time": "2024-08-13T06:50:42.836Z"
   },
   {
    "duration": 0,
    "start_time": "2024-08-13T06:50:42.837Z"
   },
   {
    "duration": 0,
    "start_time": "2024-08-13T06:50:42.839Z"
   },
   {
    "duration": 0,
    "start_time": "2024-08-13T06:50:42.840Z"
   },
   {
    "duration": 0,
    "start_time": "2024-08-13T06:50:42.842Z"
   },
   {
    "duration": 0,
    "start_time": "2024-08-13T06:50:42.843Z"
   },
   {
    "duration": 0,
    "start_time": "2024-08-13T06:50:42.843Z"
   },
   {
    "duration": 0,
    "start_time": "2024-08-13T06:50:42.844Z"
   },
   {
    "duration": 0,
    "start_time": "2024-08-13T06:50:42.845Z"
   },
   {
    "duration": 0,
    "start_time": "2024-08-13T06:50:42.846Z"
   },
   {
    "duration": 0,
    "start_time": "2024-08-13T06:50:42.847Z"
   },
   {
    "duration": 0,
    "start_time": "2024-08-13T06:50:42.848Z"
   },
   {
    "duration": 0,
    "start_time": "2024-08-13T06:50:42.849Z"
   },
   {
    "duration": 0,
    "start_time": "2024-08-13T06:50:42.849Z"
   },
   {
    "duration": 0,
    "start_time": "2024-08-13T06:50:42.850Z"
   },
   {
    "duration": 0,
    "start_time": "2024-08-13T06:50:42.851Z"
   },
   {
    "duration": 0,
    "start_time": "2024-08-13T06:50:42.852Z"
   },
   {
    "duration": 0,
    "start_time": "2024-08-13T06:50:42.853Z"
   },
   {
    "duration": 0,
    "start_time": "2024-08-13T06:50:42.854Z"
   },
   {
    "duration": 0,
    "start_time": "2024-08-13T06:50:42.855Z"
   },
   {
    "duration": 0,
    "start_time": "2024-08-13T06:50:42.856Z"
   },
   {
    "duration": 0,
    "start_time": "2024-08-13T06:50:42.856Z"
   },
   {
    "duration": 0,
    "start_time": "2024-08-13T06:50:42.911Z"
   },
   {
    "duration": 0,
    "start_time": "2024-08-13T06:50:42.911Z"
   },
   {
    "duration": 0,
    "start_time": "2024-08-13T06:50:42.912Z"
   },
   {
    "duration": 0,
    "start_time": "2024-08-13T06:50:42.912Z"
   },
   {
    "duration": 0,
    "start_time": "2024-08-13T06:50:42.913Z"
   },
   {
    "duration": 8,
    "start_time": "2024-08-13T06:51:14.159Z"
   },
   {
    "duration": 11,
    "start_time": "2024-08-13T06:51:37.255Z"
   },
   {
    "duration": 9,
    "start_time": "2024-08-13T06:51:51.023Z"
   },
   {
    "duration": 6,
    "start_time": "2024-08-13T06:52:46.200Z"
   },
   {
    "duration": 33,
    "start_time": "2024-08-13T06:52:47.411Z"
   },
   {
    "duration": 2497,
    "start_time": "2024-08-13T06:52:56.387Z"
   },
   {
    "duration": 1199,
    "start_time": "2024-08-13T06:52:58.886Z"
   },
   {
    "duration": 88,
    "start_time": "2024-08-13T06:53:00.086Z"
   },
   {
    "duration": 67,
    "start_time": "2024-08-13T06:53:00.176Z"
   },
   {
    "duration": 73,
    "start_time": "2024-08-13T06:53:00.245Z"
   },
   {
    "duration": 472,
    "start_time": "2024-08-13T06:53:00.319Z"
   },
   {
    "duration": 260,
    "start_time": "2024-08-13T06:53:00.793Z"
   },
   {
    "duration": 69,
    "start_time": "2024-08-13T06:53:01.054Z"
   },
   {
    "duration": 31,
    "start_time": "2024-08-13T06:53:01.124Z"
   },
   {
    "duration": 63,
    "start_time": "2024-08-13T06:53:01.158Z"
   },
   {
    "duration": 58,
    "start_time": "2024-08-13T06:53:01.223Z"
   },
   {
    "duration": 39,
    "start_time": "2024-08-13T06:53:01.282Z"
   },
   {
    "duration": 110,
    "start_time": "2024-08-13T06:53:01.323Z"
   },
   {
    "duration": 37,
    "start_time": "2024-08-13T06:53:01.434Z"
   },
   {
    "duration": 28,
    "start_time": "2024-08-13T06:53:01.472Z"
   },
   {
    "duration": 562,
    "start_time": "2024-08-13T06:53:01.506Z"
   },
   {
    "duration": 724,
    "start_time": "2024-08-13T06:53:02.070Z"
   },
   {
    "duration": 16,
    "start_time": "2024-08-13T06:53:02.795Z"
   },
   {
    "duration": 107,
    "start_time": "2024-08-13T06:53:02.812Z"
   },
   {
    "duration": 14,
    "start_time": "2024-08-13T06:53:02.921Z"
   },
   {
    "duration": 58,
    "start_time": "2024-08-13T06:53:02.936Z"
   },
   {
    "duration": 20,
    "start_time": "2024-08-13T06:53:02.995Z"
   },
   {
    "duration": 17,
    "start_time": "2024-08-13T06:53:03.017Z"
   },
   {
    "duration": 29,
    "start_time": "2024-08-13T06:53:03.035Z"
   },
   {
    "duration": 122,
    "start_time": "2024-08-13T06:53:03.065Z"
   },
   {
    "duration": 0,
    "start_time": "2024-08-13T06:53:03.189Z"
   },
   {
    "duration": 0,
    "start_time": "2024-08-13T06:53:03.190Z"
   },
   {
    "duration": 0,
    "start_time": "2024-08-13T06:53:03.191Z"
   },
   {
    "duration": 0,
    "start_time": "2024-08-13T06:53:03.203Z"
   },
   {
    "duration": 0,
    "start_time": "2024-08-13T06:53:03.204Z"
   },
   {
    "duration": 0,
    "start_time": "2024-08-13T06:53:03.204Z"
   },
   {
    "duration": 0,
    "start_time": "2024-08-13T06:53:03.205Z"
   },
   {
    "duration": 0,
    "start_time": "2024-08-13T06:53:03.205Z"
   },
   {
    "duration": 0,
    "start_time": "2024-08-13T06:53:03.206Z"
   },
   {
    "duration": 0,
    "start_time": "2024-08-13T06:53:03.206Z"
   },
   {
    "duration": 0,
    "start_time": "2024-08-13T06:53:03.207Z"
   },
   {
    "duration": 0,
    "start_time": "2024-08-13T06:53:03.207Z"
   },
   {
    "duration": 0,
    "start_time": "2024-08-13T06:53:03.208Z"
   },
   {
    "duration": 0,
    "start_time": "2024-08-13T06:53:03.208Z"
   },
   {
    "duration": 0,
    "start_time": "2024-08-13T06:53:03.209Z"
   },
   {
    "duration": 0,
    "start_time": "2024-08-13T06:53:03.209Z"
   },
   {
    "duration": 0,
    "start_time": "2024-08-13T06:53:03.210Z"
   },
   {
    "duration": 0,
    "start_time": "2024-08-13T06:53:03.210Z"
   },
   {
    "duration": 0,
    "start_time": "2024-08-13T06:53:03.211Z"
   },
   {
    "duration": 0,
    "start_time": "2024-08-13T06:53:03.211Z"
   },
   {
    "duration": 0,
    "start_time": "2024-08-13T06:53:03.212Z"
   },
   {
    "duration": 0,
    "start_time": "2024-08-13T06:53:03.212Z"
   },
   {
    "duration": 0,
    "start_time": "2024-08-13T06:53:03.212Z"
   },
   {
    "duration": 0,
    "start_time": "2024-08-13T06:53:03.213Z"
   },
   {
    "duration": 0,
    "start_time": "2024-08-13T06:53:03.213Z"
   },
   {
    "duration": 0,
    "start_time": "2024-08-13T06:53:03.214Z"
   },
   {
    "duration": 0,
    "start_time": "2024-08-13T06:53:03.214Z"
   },
   {
    "duration": 0,
    "start_time": "2024-08-13T06:53:03.214Z"
   },
   {
    "duration": 0,
    "start_time": "2024-08-13T06:53:03.215Z"
   },
   {
    "duration": 0,
    "start_time": "2024-08-13T06:53:03.215Z"
   },
   {
    "duration": 0,
    "start_time": "2024-08-13T06:53:03.216Z"
   },
   {
    "duration": 0,
    "start_time": "2024-08-13T06:53:03.216Z"
   },
   {
    "duration": 0,
    "start_time": "2024-08-13T06:53:03.217Z"
   },
   {
    "duration": 0,
    "start_time": "2024-08-13T06:53:03.217Z"
   },
   {
    "duration": 0,
    "start_time": "2024-08-13T06:53:03.217Z"
   },
   {
    "duration": 0,
    "start_time": "2024-08-13T06:53:03.218Z"
   },
   {
    "duration": 0,
    "start_time": "2024-08-13T06:53:03.218Z"
   },
   {
    "duration": 0,
    "start_time": "2024-08-13T06:53:03.219Z"
   },
   {
    "duration": 0,
    "start_time": "2024-08-13T06:53:03.219Z"
   },
   {
    "duration": 0,
    "start_time": "2024-08-13T06:53:03.220Z"
   },
   {
    "duration": 290,
    "start_time": "2024-08-13T06:53:28.201Z"
   },
   {
    "duration": 275,
    "start_time": "2024-08-13T06:53:50.737Z"
   },
   {
    "duration": 12,
    "start_time": "2024-08-13T06:54:01.968Z"
   },
   {
    "duration": 6,
    "start_time": "2024-08-13T07:00:27.929Z"
   },
   {
    "duration": 40,
    "start_time": "2024-08-13T07:00:29.752Z"
   },
   {
    "duration": 6,
    "start_time": "2024-08-13T07:00:30.985Z"
   },
   {
    "duration": 15,
    "start_time": "2024-08-13T07:00:31.685Z"
   },
   {
    "duration": 4,
    "start_time": "2024-08-13T07:01:08.513Z"
   },
   {
    "duration": 43,
    "start_time": "2024-08-13T07:01:09.118Z"
   },
   {
    "duration": 7,
    "start_time": "2024-08-13T07:01:10.041Z"
   },
   {
    "duration": 78,
    "start_time": "2024-08-13T07:02:02.278Z"
   },
   {
    "duration": 5,
    "start_time": "2024-08-13T07:02:06.782Z"
   },
   {
    "duration": 5,
    "start_time": "2024-08-13T07:02:15.437Z"
   },
   {
    "duration": 32,
    "start_time": "2024-08-13T07:02:16.561Z"
   },
   {
    "duration": 6,
    "start_time": "2024-08-13T07:02:22.871Z"
   },
   {
    "duration": 33,
    "start_time": "2024-08-13T07:02:29.250Z"
   },
   {
    "duration": 6,
    "start_time": "2024-08-13T07:02:30.212Z"
   },
   {
    "duration": 5,
    "start_time": "2024-08-13T07:03:45.994Z"
   },
   {
    "duration": 32,
    "start_time": "2024-08-13T07:03:53.087Z"
   },
   {
    "duration": 5,
    "start_time": "2024-08-13T07:04:23.051Z"
   },
   {
    "duration": 4,
    "start_time": "2024-08-13T07:04:33.735Z"
   },
   {
    "duration": 12,
    "start_time": "2024-08-13T07:04:38.635Z"
   },
   {
    "duration": 10,
    "start_time": "2024-08-13T07:04:56.876Z"
   },
   {
    "duration": 14,
    "start_time": "2024-08-13T07:05:24.788Z"
   },
   {
    "duration": 64,
    "start_time": "2024-08-13T07:08:02.729Z"
   },
   {
    "duration": 2491,
    "start_time": "2024-08-13T07:08:32.861Z"
   },
   {
    "duration": 1064,
    "start_time": "2024-08-13T07:08:35.354Z"
   },
   {
    "duration": 61,
    "start_time": "2024-08-13T07:08:36.419Z"
   },
   {
    "duration": 13,
    "start_time": "2024-08-13T07:08:36.482Z"
   },
   {
    "duration": 24,
    "start_time": "2024-08-13T07:08:36.496Z"
   },
   {
    "duration": 91,
    "start_time": "2024-08-13T07:08:36.521Z"
   },
   {
    "duration": 3,
    "start_time": "2024-08-13T07:08:36.613Z"
   },
   {
    "duration": 8,
    "start_time": "2024-08-13T07:08:36.617Z"
   },
   {
    "duration": 8,
    "start_time": "2024-08-13T07:08:36.626Z"
   },
   {
    "duration": 7,
    "start_time": "2024-08-13T07:08:36.636Z"
   },
   {
    "duration": 18,
    "start_time": "2024-08-13T07:08:36.644Z"
   },
   {
    "duration": 6,
    "start_time": "2024-08-13T07:08:36.663Z"
   },
   {
    "duration": 32,
    "start_time": "2024-08-13T07:08:36.670Z"
   },
   {
    "duration": 3,
    "start_time": "2024-08-13T07:08:36.703Z"
   },
   {
    "duration": 6,
    "start_time": "2024-08-13T07:08:36.707Z"
   },
   {
    "duration": 585,
    "start_time": "2024-08-13T07:08:36.714Z"
   },
   {
    "duration": 662,
    "start_time": "2024-08-13T07:08:37.302Z"
   },
   {
    "duration": 5,
    "start_time": "2024-08-13T07:08:37.966Z"
   },
   {
    "duration": 11,
    "start_time": "2024-08-13T07:08:37.972Z"
   },
   {
    "duration": 71,
    "start_time": "2024-08-13T07:08:37.984Z"
   },
   {
    "duration": 0,
    "start_time": "2024-08-13T07:08:38.057Z"
   },
   {
    "duration": 0,
    "start_time": "2024-08-13T07:08:38.057Z"
   },
   {
    "duration": 0,
    "start_time": "2024-08-13T07:08:38.058Z"
   },
   {
    "duration": 0,
    "start_time": "2024-08-13T07:08:38.059Z"
   },
   {
    "duration": 0,
    "start_time": "2024-08-13T07:08:38.060Z"
   },
   {
    "duration": 0,
    "start_time": "2024-08-13T07:08:38.061Z"
   },
   {
    "duration": 0,
    "start_time": "2024-08-13T07:08:38.062Z"
   },
   {
    "duration": 0,
    "start_time": "2024-08-13T07:08:38.063Z"
   },
   {
    "duration": 0,
    "start_time": "2024-08-13T07:08:38.064Z"
   },
   {
    "duration": 0,
    "start_time": "2024-08-13T07:08:38.065Z"
   },
   {
    "duration": 0,
    "start_time": "2024-08-13T07:08:38.066Z"
   },
   {
    "duration": 0,
    "start_time": "2024-08-13T07:08:38.067Z"
   },
   {
    "duration": 0,
    "start_time": "2024-08-13T07:08:38.067Z"
   },
   {
    "duration": 0,
    "start_time": "2024-08-13T07:08:38.068Z"
   },
   {
    "duration": 0,
    "start_time": "2024-08-13T07:08:38.069Z"
   },
   {
    "duration": 0,
    "start_time": "2024-08-13T07:08:38.070Z"
   },
   {
    "duration": 0,
    "start_time": "2024-08-13T07:08:38.070Z"
   },
   {
    "duration": 0,
    "start_time": "2024-08-13T07:08:38.071Z"
   },
   {
    "duration": 0,
    "start_time": "2024-08-13T07:08:38.072Z"
   },
   {
    "duration": 0,
    "start_time": "2024-08-13T07:08:38.072Z"
   },
   {
    "duration": 0,
    "start_time": "2024-08-13T07:08:38.073Z"
   },
   {
    "duration": 0,
    "start_time": "2024-08-13T07:08:38.074Z"
   },
   {
    "duration": 0,
    "start_time": "2024-08-13T07:08:38.075Z"
   },
   {
    "duration": 0,
    "start_time": "2024-08-13T07:08:38.075Z"
   },
   {
    "duration": 0,
    "start_time": "2024-08-13T07:08:38.076Z"
   },
   {
    "duration": 0,
    "start_time": "2024-08-13T07:08:38.077Z"
   },
   {
    "duration": 0,
    "start_time": "2024-08-13T07:08:38.078Z"
   },
   {
    "duration": 0,
    "start_time": "2024-08-13T07:08:38.079Z"
   },
   {
    "duration": 0,
    "start_time": "2024-08-13T07:08:38.079Z"
   },
   {
    "duration": 0,
    "start_time": "2024-08-13T07:08:38.080Z"
   },
   {
    "duration": 0,
    "start_time": "2024-08-13T07:08:38.081Z"
   },
   {
    "duration": 0,
    "start_time": "2024-08-13T07:08:38.082Z"
   },
   {
    "duration": 0,
    "start_time": "2024-08-13T07:08:38.083Z"
   },
   {
    "duration": 0,
    "start_time": "2024-08-13T07:08:38.083Z"
   },
   {
    "duration": 0,
    "start_time": "2024-08-13T07:08:38.084Z"
   },
   {
    "duration": 0,
    "start_time": "2024-08-13T07:08:38.085Z"
   },
   {
    "duration": 0,
    "start_time": "2024-08-13T07:08:38.086Z"
   },
   {
    "duration": 0,
    "start_time": "2024-08-13T07:08:38.087Z"
   },
   {
    "duration": 0,
    "start_time": "2024-08-13T07:08:38.087Z"
   },
   {
    "duration": 0,
    "start_time": "2024-08-13T07:08:38.088Z"
   },
   {
    "duration": 0,
    "start_time": "2024-08-13T07:08:38.089Z"
   },
   {
    "duration": 0,
    "start_time": "2024-08-13T07:08:38.090Z"
   },
   {
    "duration": 0,
    "start_time": "2024-08-13T07:08:38.090Z"
   },
   {
    "duration": 0,
    "start_time": "2024-08-13T07:08:38.091Z"
   },
   {
    "duration": 6,
    "start_time": "2024-08-13T07:09:24.334Z"
   },
   {
    "duration": 32,
    "start_time": "2024-08-13T07:09:25.341Z"
   },
   {
    "duration": 33,
    "start_time": "2024-08-13T07:09:52.408Z"
   },
   {
    "duration": 7,
    "start_time": "2024-08-13T07:09:55.658Z"
   },
   {
    "duration": 2562,
    "start_time": "2024-08-13T07:12:30.228Z"
   },
   {
    "duration": 1311,
    "start_time": "2024-08-13T07:12:32.792Z"
   },
   {
    "duration": 68,
    "start_time": "2024-08-13T07:12:34.104Z"
   },
   {
    "duration": 15,
    "start_time": "2024-08-13T07:12:34.174Z"
   },
   {
    "duration": 104,
    "start_time": "2024-08-13T07:12:34.191Z"
   },
   {
    "duration": 155,
    "start_time": "2024-08-13T07:12:34.296Z"
   },
   {
    "duration": 3,
    "start_time": "2024-08-13T07:12:34.452Z"
   },
   {
    "duration": 103,
    "start_time": "2024-08-13T07:12:34.456Z"
   },
   {
    "duration": 51,
    "start_time": "2024-08-13T07:12:34.561Z"
   },
   {
    "duration": 33,
    "start_time": "2024-08-13T07:12:34.613Z"
   },
   {
    "duration": 70,
    "start_time": "2024-08-13T07:12:34.647Z"
   },
   {
    "duration": 84,
    "start_time": "2024-08-13T07:12:34.718Z"
   },
   {
    "duration": 161,
    "start_time": "2024-08-13T07:12:34.803Z"
   },
   {
    "duration": 136,
    "start_time": "2024-08-13T07:12:34.968Z"
   },
   {
    "duration": 20,
    "start_time": "2024-08-13T07:12:35.106Z"
   },
   {
    "duration": 559,
    "start_time": "2024-08-13T07:12:35.127Z"
   },
   {
    "duration": 641,
    "start_time": "2024-08-13T07:12:35.687Z"
   },
   {
    "duration": 7,
    "start_time": "2024-08-13T07:12:36.329Z"
   },
   {
    "duration": 11,
    "start_time": "2024-08-13T07:12:36.337Z"
   },
   {
    "duration": 26,
    "start_time": "2024-08-13T07:12:36.349Z"
   },
   {
    "duration": 48,
    "start_time": "2024-08-13T07:12:36.377Z"
   },
   {
    "duration": 7,
    "start_time": "2024-08-13T07:12:36.426Z"
   },
   {
    "duration": 103,
    "start_time": "2024-08-13T07:12:36.435Z"
   },
   {
    "duration": 0,
    "start_time": "2024-08-13T07:12:36.540Z"
   },
   {
    "duration": 0,
    "start_time": "2024-08-13T07:12:36.541Z"
   },
   {
    "duration": 0,
    "start_time": "2024-08-13T07:12:36.542Z"
   },
   {
    "duration": 0,
    "start_time": "2024-08-13T07:12:36.543Z"
   },
   {
    "duration": 0,
    "start_time": "2024-08-13T07:12:36.543Z"
   },
   {
    "duration": 0,
    "start_time": "2024-08-13T07:12:36.544Z"
   },
   {
    "duration": 0,
    "start_time": "2024-08-13T07:12:36.545Z"
   },
   {
    "duration": 0,
    "start_time": "2024-08-13T07:12:36.546Z"
   },
   {
    "duration": 0,
    "start_time": "2024-08-13T07:12:36.546Z"
   },
   {
    "duration": 0,
    "start_time": "2024-08-13T07:12:36.547Z"
   },
   {
    "duration": 0,
    "start_time": "2024-08-13T07:12:36.548Z"
   },
   {
    "duration": 0,
    "start_time": "2024-08-13T07:12:36.549Z"
   },
   {
    "duration": 0,
    "start_time": "2024-08-13T07:12:36.550Z"
   },
   {
    "duration": 0,
    "start_time": "2024-08-13T07:12:36.551Z"
   },
   {
    "duration": 0,
    "start_time": "2024-08-13T07:12:36.552Z"
   },
   {
    "duration": 0,
    "start_time": "2024-08-13T07:12:36.553Z"
   },
   {
    "duration": 0,
    "start_time": "2024-08-13T07:12:36.553Z"
   },
   {
    "duration": 0,
    "start_time": "2024-08-13T07:12:36.554Z"
   },
   {
    "duration": 0,
    "start_time": "2024-08-13T07:12:36.555Z"
   },
   {
    "duration": 0,
    "start_time": "2024-08-13T07:12:36.556Z"
   },
   {
    "duration": 0,
    "start_time": "2024-08-13T07:12:36.557Z"
   },
   {
    "duration": 0,
    "start_time": "2024-08-13T07:12:36.558Z"
   },
   {
    "duration": 0,
    "start_time": "2024-08-13T07:12:36.558Z"
   },
   {
    "duration": 0,
    "start_time": "2024-08-13T07:12:36.559Z"
   },
   {
    "duration": 0,
    "start_time": "2024-08-13T07:12:36.560Z"
   },
   {
    "duration": 0,
    "start_time": "2024-08-13T07:12:36.561Z"
   },
   {
    "duration": 0,
    "start_time": "2024-08-13T07:12:36.562Z"
   },
   {
    "duration": 0,
    "start_time": "2024-08-13T07:12:36.601Z"
   },
   {
    "duration": 0,
    "start_time": "2024-08-13T07:12:36.602Z"
   },
   {
    "duration": 0,
    "start_time": "2024-08-13T07:12:36.603Z"
   },
   {
    "duration": 0,
    "start_time": "2024-08-13T07:12:36.604Z"
   },
   {
    "duration": 0,
    "start_time": "2024-08-13T07:12:36.605Z"
   },
   {
    "duration": 0,
    "start_time": "2024-08-13T07:12:36.606Z"
   },
   {
    "duration": 0,
    "start_time": "2024-08-13T07:12:36.607Z"
   },
   {
    "duration": 0,
    "start_time": "2024-08-13T07:12:36.609Z"
   },
   {
    "duration": 0,
    "start_time": "2024-08-13T07:12:36.610Z"
   },
   {
    "duration": 0,
    "start_time": "2024-08-13T07:12:36.611Z"
   },
   {
    "duration": 0,
    "start_time": "2024-08-13T07:12:36.612Z"
   },
   {
    "duration": 0,
    "start_time": "2024-08-13T07:12:36.613Z"
   },
   {
    "duration": 0,
    "start_time": "2024-08-13T07:12:36.613Z"
   },
   {
    "duration": 0,
    "start_time": "2024-08-13T07:12:36.614Z"
   },
   {
    "duration": 3,
    "start_time": "2024-08-13T07:13:31.825Z"
   },
   {
    "duration": 9,
    "start_time": "2024-08-13T07:13:36.092Z"
   },
   {
    "duration": 8,
    "start_time": "2024-08-13T07:13:45.108Z"
   },
   {
    "duration": 33,
    "start_time": "2024-08-13T07:13:47.947Z"
   },
   {
    "duration": 7,
    "start_time": "2024-08-13T07:13:48.203Z"
   },
   {
    "duration": 277,
    "start_time": "2024-08-13T07:14:04.216Z"
   },
   {
    "duration": 7,
    "start_time": "2024-08-13T07:14:11.520Z"
   },
   {
    "duration": 9,
    "start_time": "2024-08-13T07:14:49.932Z"
   },
   {
    "duration": 10,
    "start_time": "2024-08-13T07:15:05.741Z"
   },
   {
    "duration": 41,
    "start_time": "2024-08-13T07:15:06.477Z"
   },
   {
    "duration": 506,
    "start_time": "2024-08-13T07:15:07.420Z"
   },
   {
    "duration": 299,
    "start_time": "2024-08-13T07:15:17.576Z"
   },
   {
    "duration": 2508,
    "start_time": "2024-08-13T07:15:25.677Z"
   },
   {
    "duration": 1240,
    "start_time": "2024-08-13T07:15:28.188Z"
   },
   {
    "duration": 118,
    "start_time": "2024-08-13T07:15:29.429Z"
   },
   {
    "duration": 14,
    "start_time": "2024-08-13T07:15:29.550Z"
   },
   {
    "duration": 12,
    "start_time": "2024-08-13T07:15:29.566Z"
   },
   {
    "duration": 103,
    "start_time": "2024-08-13T07:15:29.580Z"
   },
   {
    "duration": 3,
    "start_time": "2024-08-13T07:15:29.685Z"
   },
   {
    "duration": 12,
    "start_time": "2024-08-13T07:15:29.701Z"
   },
   {
    "duration": 4,
    "start_time": "2024-08-13T07:15:29.714Z"
   },
   {
    "duration": 4,
    "start_time": "2024-08-13T07:15:29.720Z"
   },
   {
    "duration": 22,
    "start_time": "2024-08-13T07:15:29.725Z"
   },
   {
    "duration": 15,
    "start_time": "2024-08-13T07:15:29.748Z"
   },
   {
    "duration": 19,
    "start_time": "2024-08-13T07:15:29.764Z"
   },
   {
    "duration": 2,
    "start_time": "2024-08-13T07:15:29.785Z"
   },
   {
    "duration": 15,
    "start_time": "2024-08-13T07:15:29.788Z"
   },
   {
    "duration": 579,
    "start_time": "2024-08-13T07:15:29.805Z"
   },
   {
    "duration": 650,
    "start_time": "2024-08-13T07:15:30.385Z"
   },
   {
    "duration": 5,
    "start_time": "2024-08-13T07:15:31.036Z"
   },
   {
    "duration": 248,
    "start_time": "2024-08-13T07:15:31.043Z"
   },
   {
    "duration": 37,
    "start_time": "2024-08-13T07:15:31.293Z"
   },
   {
    "duration": 169,
    "start_time": "2024-08-13T07:15:31.332Z"
   },
   {
    "duration": 0,
    "start_time": "2024-08-13T07:15:31.504Z"
   },
   {
    "duration": 0,
    "start_time": "2024-08-13T07:15:31.505Z"
   },
   {
    "duration": 0,
    "start_time": "2024-08-13T07:15:31.505Z"
   },
   {
    "duration": 0,
    "start_time": "2024-08-13T07:15:31.506Z"
   },
   {
    "duration": 0,
    "start_time": "2024-08-13T07:15:31.507Z"
   },
   {
    "duration": 0,
    "start_time": "2024-08-13T07:15:31.508Z"
   },
   {
    "duration": 0,
    "start_time": "2024-08-13T07:15:31.508Z"
   },
   {
    "duration": 0,
    "start_time": "2024-08-13T07:15:31.509Z"
   },
   {
    "duration": 0,
    "start_time": "2024-08-13T07:15:31.510Z"
   },
   {
    "duration": 0,
    "start_time": "2024-08-13T07:15:31.510Z"
   },
   {
    "duration": 0,
    "start_time": "2024-08-13T07:15:31.511Z"
   },
   {
    "duration": 0,
    "start_time": "2024-08-13T07:15:31.512Z"
   },
   {
    "duration": 0,
    "start_time": "2024-08-13T07:15:31.513Z"
   },
   {
    "duration": 0,
    "start_time": "2024-08-13T07:15:31.514Z"
   },
   {
    "duration": 0,
    "start_time": "2024-08-13T07:15:31.515Z"
   },
   {
    "duration": 0,
    "start_time": "2024-08-13T07:15:31.515Z"
   },
   {
    "duration": 0,
    "start_time": "2024-08-13T07:15:31.516Z"
   },
   {
    "duration": 0,
    "start_time": "2024-08-13T07:15:31.517Z"
   },
   {
    "duration": 0,
    "start_time": "2024-08-13T07:15:31.518Z"
   },
   {
    "duration": 0,
    "start_time": "2024-08-13T07:15:31.519Z"
   },
   {
    "duration": 0,
    "start_time": "2024-08-13T07:15:31.520Z"
   },
   {
    "duration": 0,
    "start_time": "2024-08-13T07:15:31.521Z"
   },
   {
    "duration": 0,
    "start_time": "2024-08-13T07:15:31.522Z"
   },
   {
    "duration": 0,
    "start_time": "2024-08-13T07:15:31.523Z"
   },
   {
    "duration": 0,
    "start_time": "2024-08-13T07:15:31.524Z"
   },
   {
    "duration": 0,
    "start_time": "2024-08-13T07:15:31.525Z"
   },
   {
    "duration": 0,
    "start_time": "2024-08-13T07:15:31.525Z"
   },
   {
    "duration": 0,
    "start_time": "2024-08-13T07:15:31.526Z"
   },
   {
    "duration": 0,
    "start_time": "2024-08-13T07:15:31.527Z"
   },
   {
    "duration": 0,
    "start_time": "2024-08-13T07:15:31.528Z"
   },
   {
    "duration": 0,
    "start_time": "2024-08-13T07:15:31.529Z"
   },
   {
    "duration": 0,
    "start_time": "2024-08-13T07:15:31.530Z"
   },
   {
    "duration": 0,
    "start_time": "2024-08-13T07:15:31.530Z"
   },
   {
    "duration": 0,
    "start_time": "2024-08-13T07:15:31.531Z"
   },
   {
    "duration": 0,
    "start_time": "2024-08-13T07:15:31.532Z"
   },
   {
    "duration": 0,
    "start_time": "2024-08-13T07:15:31.532Z"
   },
   {
    "duration": 0,
    "start_time": "2024-08-13T07:15:31.533Z"
   },
   {
    "duration": 0,
    "start_time": "2024-08-13T07:15:31.533Z"
   },
   {
    "duration": 0,
    "start_time": "2024-08-13T07:15:31.534Z"
   },
   {
    "duration": 0,
    "start_time": "2024-08-13T07:15:31.535Z"
   },
   {
    "duration": 0,
    "start_time": "2024-08-13T07:15:31.536Z"
   },
   {
    "duration": 0,
    "start_time": "2024-08-13T07:15:31.537Z"
   },
   {
    "duration": 0,
    "start_time": "2024-08-13T07:15:31.538Z"
   },
   {
    "duration": 9,
    "start_time": "2024-08-13T07:15:59.117Z"
   },
   {
    "duration": 33,
    "start_time": "2024-08-13T07:15:59.793Z"
   },
   {
    "duration": 9,
    "start_time": "2024-08-13T07:16:01.137Z"
   },
   {
    "duration": 9,
    "start_time": "2024-08-13T07:16:44.798Z"
   },
   {
    "duration": 38,
    "start_time": "2024-08-13T07:17:17.366Z"
   },
   {
    "duration": 6,
    "start_time": "2024-08-13T07:17:45.946Z"
   },
   {
    "duration": 32,
    "start_time": "2024-08-13T07:17:46.486Z"
   },
   {
    "duration": 8,
    "start_time": "2024-08-13T07:17:47.074Z"
   },
   {
    "duration": 39,
    "start_time": "2024-08-13T07:18:00.126Z"
   },
   {
    "duration": 8,
    "start_time": "2024-08-13T07:19:09.312Z"
   },
   {
    "duration": 43,
    "start_time": "2024-08-13T07:19:12.512Z"
   },
   {
    "duration": 8,
    "start_time": "2024-08-13T07:19:14.047Z"
   },
   {
    "duration": 2455,
    "start_time": "2024-08-13T07:24:10.239Z"
   },
   {
    "duration": 1097,
    "start_time": "2024-08-13T07:24:12.696Z"
   },
   {
    "duration": 129,
    "start_time": "2024-08-13T07:24:13.794Z"
   },
   {
    "duration": 19,
    "start_time": "2024-08-13T07:24:13.924Z"
   },
   {
    "duration": 7,
    "start_time": "2024-08-13T07:24:13.946Z"
   },
   {
    "duration": 112,
    "start_time": "2024-08-13T07:24:13.955Z"
   },
   {
    "duration": 3,
    "start_time": "2024-08-13T07:24:14.068Z"
   },
   {
    "duration": 39,
    "start_time": "2024-08-13T07:24:14.073Z"
   },
   {
    "duration": 24,
    "start_time": "2024-08-13T07:24:14.114Z"
   },
   {
    "duration": 21,
    "start_time": "2024-08-13T07:24:14.139Z"
   },
   {
    "duration": 32,
    "start_time": "2024-08-13T07:24:14.162Z"
   },
   {
    "duration": 53,
    "start_time": "2024-08-13T07:24:14.196Z"
   },
   {
    "duration": 18,
    "start_time": "2024-08-13T07:24:14.251Z"
   },
   {
    "duration": 2,
    "start_time": "2024-08-13T07:24:14.272Z"
   },
   {
    "duration": 49,
    "start_time": "2024-08-13T07:24:14.276Z"
   },
   {
    "duration": 564,
    "start_time": "2024-08-13T07:24:14.326Z"
   },
   {
    "duration": 654,
    "start_time": "2024-08-13T07:24:14.891Z"
   },
   {
    "duration": 6,
    "start_time": "2024-08-13T07:24:15.546Z"
   },
   {
    "duration": 70,
    "start_time": "2024-08-13T07:24:15.553Z"
   },
   {
    "duration": 8,
    "start_time": "2024-08-13T07:24:15.624Z"
   },
   {
    "duration": 44,
    "start_time": "2024-08-13T07:24:15.634Z"
   },
   {
    "duration": 7,
    "start_time": "2024-08-13T07:24:15.680Z"
   },
   {
    "duration": 24,
    "start_time": "2024-08-13T07:24:15.702Z"
   },
   {
    "duration": 18,
    "start_time": "2024-08-13T07:24:15.728Z"
   },
   {
    "duration": 13,
    "start_time": "2024-08-13T07:24:15.747Z"
   },
   {
    "duration": 167,
    "start_time": "2024-08-13T07:24:15.761Z"
   },
   {
    "duration": 13,
    "start_time": "2024-08-13T07:24:15.929Z"
   },
   {
    "duration": 20,
    "start_time": "2024-08-13T07:24:15.943Z"
   },
   {
    "duration": 5,
    "start_time": "2024-08-13T07:24:15.965Z"
   },
   {
    "duration": 113,
    "start_time": "2024-08-13T07:24:15.972Z"
   },
   {
    "duration": 0,
    "start_time": "2024-08-13T07:24:16.087Z"
   },
   {
    "duration": 0,
    "start_time": "2024-08-13T07:24:16.088Z"
   },
   {
    "duration": 0,
    "start_time": "2024-08-13T07:24:16.089Z"
   },
   {
    "duration": 0,
    "start_time": "2024-08-13T07:24:16.090Z"
   },
   {
    "duration": 0,
    "start_time": "2024-08-13T07:24:16.091Z"
   },
   {
    "duration": 0,
    "start_time": "2024-08-13T07:24:16.101Z"
   },
   {
    "duration": 0,
    "start_time": "2024-08-13T07:24:16.102Z"
   },
   {
    "duration": 0,
    "start_time": "2024-08-13T07:24:16.103Z"
   },
   {
    "duration": 0,
    "start_time": "2024-08-13T07:24:16.103Z"
   },
   {
    "duration": 0,
    "start_time": "2024-08-13T07:24:16.104Z"
   },
   {
    "duration": 0,
    "start_time": "2024-08-13T07:24:16.105Z"
   },
   {
    "duration": 0,
    "start_time": "2024-08-13T07:24:16.105Z"
   },
   {
    "duration": 0,
    "start_time": "2024-08-13T07:24:16.106Z"
   },
   {
    "duration": 0,
    "start_time": "2024-08-13T07:24:16.107Z"
   },
   {
    "duration": 0,
    "start_time": "2024-08-13T07:24:16.108Z"
   },
   {
    "duration": 0,
    "start_time": "2024-08-13T07:24:16.109Z"
   },
   {
    "duration": 0,
    "start_time": "2024-08-13T07:24:16.110Z"
   },
   {
    "duration": 0,
    "start_time": "2024-08-13T07:24:16.111Z"
   },
   {
    "duration": 0,
    "start_time": "2024-08-13T07:24:16.112Z"
   },
   {
    "duration": 0,
    "start_time": "2024-08-13T07:24:16.113Z"
   },
   {
    "duration": 0,
    "start_time": "2024-08-13T07:24:16.113Z"
   },
   {
    "duration": 0,
    "start_time": "2024-08-13T07:24:16.114Z"
   },
   {
    "duration": 0,
    "start_time": "2024-08-13T07:24:16.115Z"
   },
   {
    "duration": 0,
    "start_time": "2024-08-13T07:24:16.116Z"
   },
   {
    "duration": 0,
    "start_time": "2024-08-13T07:24:16.117Z"
   },
   {
    "duration": 0,
    "start_time": "2024-08-13T07:24:16.118Z"
   },
   {
    "duration": 0,
    "start_time": "2024-08-13T07:24:16.119Z"
   },
   {
    "duration": 0,
    "start_time": "2024-08-13T07:24:16.121Z"
   },
   {
    "duration": 0,
    "start_time": "2024-08-13T07:24:16.122Z"
   },
   {
    "duration": 0,
    "start_time": "2024-08-13T07:24:16.123Z"
   },
   {
    "duration": 0,
    "start_time": "2024-08-13T07:24:16.124Z"
   },
   {
    "duration": 0,
    "start_time": "2024-08-13T07:24:16.126Z"
   },
   {
    "duration": 3,
    "start_time": "2024-08-13T07:30:21.318Z"
   },
   {
    "duration": 17,
    "start_time": "2024-08-13T07:30:34.058Z"
   },
   {
    "duration": 11,
    "start_time": "2024-08-13T07:30:47.500Z"
   },
   {
    "duration": 12,
    "start_time": "2024-08-13T07:31:16.172Z"
   },
   {
    "duration": 4,
    "start_time": "2024-08-13T07:31:19.496Z"
   },
   {
    "duration": 16,
    "start_time": "2024-08-13T07:31:20.948Z"
   },
   {
    "duration": 9,
    "start_time": "2024-08-13T07:31:26.785Z"
   },
   {
    "duration": 13,
    "start_time": "2024-08-13T07:32:09.584Z"
   },
   {
    "duration": 11,
    "start_time": "2024-08-13T07:32:11.536Z"
   },
   {
    "duration": 6,
    "start_time": "2024-08-13T07:36:24.323Z"
   },
   {
    "duration": 4,
    "start_time": "2024-08-13T07:36:29.947Z"
   },
   {
    "duration": 2477,
    "start_time": "2024-08-13T07:36:54.078Z"
   },
   {
    "duration": 1035,
    "start_time": "2024-08-13T07:36:56.557Z"
   },
   {
    "duration": 70,
    "start_time": "2024-08-13T07:36:57.594Z"
   },
   {
    "duration": 15,
    "start_time": "2024-08-13T07:36:57.666Z"
   },
   {
    "duration": 6,
    "start_time": "2024-08-13T07:36:57.682Z"
   },
   {
    "duration": 100,
    "start_time": "2024-08-13T07:36:57.689Z"
   },
   {
    "duration": 12,
    "start_time": "2024-08-13T07:36:57.791Z"
   },
   {
    "duration": 11,
    "start_time": "2024-08-13T07:36:57.804Z"
   },
   {
    "duration": 8,
    "start_time": "2024-08-13T07:36:57.817Z"
   },
   {
    "duration": 20,
    "start_time": "2024-08-13T07:36:57.827Z"
   },
   {
    "duration": 29,
    "start_time": "2024-08-13T07:36:57.848Z"
   },
   {
    "duration": 15,
    "start_time": "2024-08-13T07:36:57.878Z"
   },
   {
    "duration": 20,
    "start_time": "2024-08-13T07:36:57.894Z"
   },
   {
    "duration": 2,
    "start_time": "2024-08-13T07:36:57.915Z"
   },
   {
    "duration": 14,
    "start_time": "2024-08-13T07:36:57.919Z"
   },
   {
    "duration": 560,
    "start_time": "2024-08-13T07:36:57.934Z"
   },
   {
    "duration": 645,
    "start_time": "2024-08-13T07:36:58.495Z"
   },
   {
    "duration": 6,
    "start_time": "2024-08-13T07:36:59.141Z"
   },
   {
    "duration": 64,
    "start_time": "2024-08-13T07:36:59.149Z"
   },
   {
    "duration": 8,
    "start_time": "2024-08-13T07:36:59.214Z"
   },
   {
    "duration": 52,
    "start_time": "2024-08-13T07:36:59.223Z"
   },
   {
    "duration": 8,
    "start_time": "2024-08-13T07:36:59.276Z"
   },
   {
    "duration": 22,
    "start_time": "2024-08-13T07:36:59.285Z"
   },
   {
    "duration": 17,
    "start_time": "2024-08-13T07:36:59.308Z"
   },
   {
    "duration": 14,
    "start_time": "2024-08-13T07:36:59.326Z"
   },
   {
    "duration": 15,
    "start_time": "2024-08-13T07:36:59.341Z"
   },
   {
    "duration": 7,
    "start_time": "2024-08-13T07:36:59.357Z"
   },
   {
    "duration": 36,
    "start_time": "2024-08-13T07:36:59.367Z"
   },
   {
    "duration": 4,
    "start_time": "2024-08-13T07:36:59.405Z"
   },
   {
    "duration": 10,
    "start_time": "2024-08-13T07:36:59.410Z"
   },
   {
    "duration": 23,
    "start_time": "2024-08-13T07:36:59.421Z"
   },
   {
    "duration": 13,
    "start_time": "2024-08-13T07:36:59.445Z"
   },
   {
    "duration": 26,
    "start_time": "2024-08-13T07:36:59.460Z"
   },
   {
    "duration": 20,
    "start_time": "2024-08-13T07:36:59.488Z"
   },
   {
    "duration": 13,
    "start_time": "2024-08-13T07:36:59.509Z"
   },
   {
    "duration": 6,
    "start_time": "2024-08-13T07:36:59.523Z"
   },
   {
    "duration": 19,
    "start_time": "2024-08-13T07:36:59.530Z"
   },
   {
    "duration": 19,
    "start_time": "2024-08-13T07:36:59.550Z"
   },
   {
    "duration": 9,
    "start_time": "2024-08-13T07:36:59.570Z"
   },
   {
    "duration": 7,
    "start_time": "2024-08-13T07:36:59.580Z"
   },
   {
    "duration": 35,
    "start_time": "2024-08-13T07:36:59.588Z"
   },
   {
    "duration": 13,
    "start_time": "2024-08-13T07:36:59.625Z"
   },
   {
    "duration": 16,
    "start_time": "2024-08-13T07:36:59.639Z"
   },
   {
    "duration": 582,
    "start_time": "2024-08-13T07:36:59.656Z"
   },
   {
    "duration": 705,
    "start_time": "2024-08-13T07:37:00.239Z"
   },
   {
    "duration": 459,
    "start_time": "2024-08-13T07:37:00.946Z"
   },
   {
    "duration": 519,
    "start_time": "2024-08-13T07:37:01.406Z"
   },
   {
    "duration": 5,
    "start_time": "2024-08-13T07:37:01.927Z"
   },
   {
    "duration": 75,
    "start_time": "2024-08-13T07:37:01.934Z"
   },
   {
    "duration": 3172,
    "start_time": "2024-08-13T07:37:02.011Z"
   },
   {
    "duration": 8,
    "start_time": "2024-08-13T07:37:05.184Z"
   },
   {
    "duration": 766,
    "start_time": "2024-08-13T07:37:05.202Z"
   },
   {
    "duration": 11,
    "start_time": "2024-08-13T07:37:05.970Z"
   },
   {
    "duration": 42,
    "start_time": "2024-08-13T07:37:05.983Z"
   },
   {
    "duration": 452,
    "start_time": "2024-08-13T07:37:06.027Z"
   },
   {
    "duration": 363,
    "start_time": "2024-08-13T07:37:06.481Z"
   },
   {
    "duration": 400,
    "start_time": "2024-08-13T07:37:06.846Z"
   },
   {
    "duration": 395,
    "start_time": "2024-08-13T07:37:07.248Z"
   },
   {
    "duration": 19,
    "start_time": "2024-08-13T07:37:07.645Z"
   },
   {
    "duration": 29,
    "start_time": "2024-08-13T07:37:07.665Z"
   },
   {
    "duration": 21,
    "start_time": "2024-08-13T07:37:07.695Z"
   },
   {
    "duration": 24,
    "start_time": "2024-08-13T07:37:07.717Z"
   },
   {
    "duration": 35,
    "start_time": "2024-08-13T07:39:48.413Z"
   },
   {
    "duration": 8,
    "start_time": "2024-08-13T07:39:54.789Z"
   },
   {
    "duration": 2454,
    "start_time": "2024-08-13T07:40:57.066Z"
   },
   {
    "duration": 1077,
    "start_time": "2024-08-13T07:40:59.522Z"
   },
   {
    "duration": 74,
    "start_time": "2024-08-13T07:41:00.600Z"
   },
   {
    "duration": 125,
    "start_time": "2024-08-13T07:41:00.676Z"
   },
   {
    "duration": 140,
    "start_time": "2024-08-13T07:41:00.802Z"
   },
   {
    "duration": 367,
    "start_time": "2024-08-13T07:41:00.944Z"
   },
   {
    "duration": 3,
    "start_time": "2024-08-13T07:41:01.312Z"
   },
   {
    "duration": 65,
    "start_time": "2024-08-13T07:41:01.316Z"
   },
   {
    "duration": 72,
    "start_time": "2024-08-13T07:41:01.382Z"
   },
   {
    "duration": 28,
    "start_time": "2024-08-13T07:41:01.456Z"
   },
   {
    "duration": 140,
    "start_time": "2024-08-13T07:41:01.486Z"
   },
   {
    "duration": 152,
    "start_time": "2024-08-13T07:41:01.627Z"
   },
   {
    "duration": 45,
    "start_time": "2024-08-13T07:41:01.780Z"
   },
   {
    "duration": 6,
    "start_time": "2024-08-13T07:41:01.826Z"
   },
   {
    "duration": 57,
    "start_time": "2024-08-13T07:41:01.833Z"
   },
   {
    "duration": 582,
    "start_time": "2024-08-13T07:41:01.891Z"
   },
   {
    "duration": 660,
    "start_time": "2024-08-13T07:41:02.475Z"
   },
   {
    "duration": 6,
    "start_time": "2024-08-13T07:41:03.137Z"
   },
   {
    "duration": 81,
    "start_time": "2024-08-13T07:41:03.144Z"
   },
   {
    "duration": 8,
    "start_time": "2024-08-13T07:41:03.226Z"
   },
   {
    "duration": 68,
    "start_time": "2024-08-13T07:41:03.236Z"
   },
   {
    "duration": 7,
    "start_time": "2024-08-13T07:41:03.306Z"
   },
   {
    "duration": 36,
    "start_time": "2024-08-13T07:41:03.314Z"
   },
   {
    "duration": 20,
    "start_time": "2024-08-13T07:41:03.351Z"
   },
   {
    "duration": 14,
    "start_time": "2024-08-13T07:41:03.372Z"
   },
   {
    "duration": 14,
    "start_time": "2024-08-13T07:41:03.387Z"
   },
   {
    "duration": 6,
    "start_time": "2024-08-13T07:41:03.402Z"
   },
   {
    "duration": 17,
    "start_time": "2024-08-13T07:41:03.412Z"
   },
   {
    "duration": 12,
    "start_time": "2024-08-13T07:41:03.430Z"
   },
   {
    "duration": 9,
    "start_time": "2024-08-13T07:41:03.443Z"
   },
   {
    "duration": 9,
    "start_time": "2024-08-13T07:41:03.453Z"
   },
   {
    "duration": 13,
    "start_time": "2024-08-13T07:41:03.463Z"
   },
   {
    "duration": 20,
    "start_time": "2024-08-13T07:41:03.477Z"
   },
   {
    "duration": 26,
    "start_time": "2024-08-13T07:41:03.498Z"
   },
   {
    "duration": 17,
    "start_time": "2024-08-13T07:41:03.525Z"
   },
   {
    "duration": 17,
    "start_time": "2024-08-13T07:41:03.544Z"
   },
   {
    "duration": 3,
    "start_time": "2024-08-13T07:41:03.563Z"
   },
   {
    "duration": 6,
    "start_time": "2024-08-13T07:41:03.568Z"
   },
   {
    "duration": 32,
    "start_time": "2024-08-13T07:41:03.575Z"
   },
   {
    "duration": 13,
    "start_time": "2024-08-13T07:41:03.608Z"
   },
   {
    "duration": 20,
    "start_time": "2024-08-13T07:41:03.623Z"
   },
   {
    "duration": 12,
    "start_time": "2024-08-13T07:41:03.644Z"
   },
   {
    "duration": 6,
    "start_time": "2024-08-13T07:41:03.658Z"
   },
   {
    "duration": 521,
    "start_time": "2024-08-13T07:41:03.666Z"
   },
   {
    "duration": 662,
    "start_time": "2024-08-13T07:41:04.188Z"
   },
   {
    "duration": 453,
    "start_time": "2024-08-13T07:41:04.851Z"
   },
   {
    "duration": 468,
    "start_time": "2024-08-13T07:41:05.305Z"
   },
   {
    "duration": 5,
    "start_time": "2024-08-13T07:41:05.774Z"
   },
   {
    "duration": 59,
    "start_time": "2024-08-13T07:41:05.780Z"
   },
   {
    "duration": 3005,
    "start_time": "2024-08-13T07:41:05.840Z"
   },
   {
    "duration": 7,
    "start_time": "2024-08-13T07:41:08.846Z"
   },
   {
    "duration": 736,
    "start_time": "2024-08-13T07:41:08.854Z"
   },
   {
    "duration": 14,
    "start_time": "2024-08-13T07:41:09.591Z"
   },
   {
    "duration": 15,
    "start_time": "2024-08-13T07:41:09.606Z"
   },
   {
    "duration": 458,
    "start_time": "2024-08-13T07:41:09.622Z"
   },
   {
    "duration": 362,
    "start_time": "2024-08-13T07:41:10.082Z"
   },
   {
    "duration": 382,
    "start_time": "2024-08-13T07:41:10.446Z"
   },
   {
    "duration": 333,
    "start_time": "2024-08-13T07:41:10.830Z"
   },
   {
    "duration": 44,
    "start_time": "2024-08-13T07:41:11.164Z"
   },
   {
    "duration": 7,
    "start_time": "2024-08-13T07:41:11.209Z"
   },
   {
    "duration": 21,
    "start_time": "2024-08-13T07:41:11.217Z"
   },
   {
    "duration": 12,
    "start_time": "2024-08-13T07:41:11.239Z"
   },
   {
    "duration": 21,
    "start_time": "2024-08-13T07:41:11.252Z"
   },
   {
    "duration": 35,
    "start_time": "2024-08-13T07:41:11.274Z"
   },
   {
    "duration": 7,
    "start_time": "2024-08-13T07:41:32.231Z"
   },
   {
    "duration": 95,
    "start_time": "2024-08-13T07:56:37.821Z"
   },
   {
    "duration": 15790,
    "start_time": "2024-08-13T07:57:54.034Z"
   },
   {
    "duration": 3,
    "start_time": "2024-08-13T08:02:29.391Z"
   },
   {
    "duration": 4,
    "start_time": "2024-08-13T08:03:02.692Z"
   },
   {
    "duration": 272,
    "start_time": "2024-08-13T08:03:21.153Z"
   },
   {
    "duration": 105,
    "start_time": "2024-08-13T08:03:29.276Z"
   },
   {
    "duration": 99,
    "start_time": "2024-08-13T08:03:34.792Z"
   },
   {
    "duration": 496,
    "start_time": "2024-08-13T08:03:54.812Z"
   },
   {
    "duration": 468,
    "start_time": "2024-08-13T08:04:24.841Z"
   },
   {
    "duration": 505,
    "start_time": "2024-08-13T08:04:33.341Z"
   },
   {
    "duration": 16973,
    "start_time": "2024-08-13T08:05:15.189Z"
   },
   {
    "duration": 643,
    "start_time": "2024-08-13T08:05:32.163Z"
   },
   {
    "duration": 4,
    "start_time": "2024-08-13T08:07:05.086Z"
   },
   {
    "duration": 2576,
    "start_time": "2024-08-13T08:07:11.434Z"
   },
   {
    "duration": 1080,
    "start_time": "2024-08-13T08:07:14.011Z"
   },
   {
    "duration": 85,
    "start_time": "2024-08-13T08:07:15.092Z"
   },
   {
    "duration": 86,
    "start_time": "2024-08-13T08:07:15.179Z"
   },
   {
    "duration": 24,
    "start_time": "2024-08-13T08:07:15.267Z"
   },
   {
    "duration": 126,
    "start_time": "2024-08-13T08:07:15.293Z"
   },
   {
    "duration": 3,
    "start_time": "2024-08-13T08:07:15.420Z"
   },
   {
    "duration": 27,
    "start_time": "2024-08-13T08:07:15.424Z"
   },
   {
    "duration": 30,
    "start_time": "2024-08-13T08:07:15.453Z"
   },
   {
    "duration": 18,
    "start_time": "2024-08-13T08:07:15.485Z"
   },
   {
    "duration": 71,
    "start_time": "2024-08-13T08:07:15.505Z"
   },
   {
    "duration": 4,
    "start_time": "2024-08-13T08:07:15.577Z"
   },
   {
    "duration": 35,
    "start_time": "2024-08-13T08:07:15.582Z"
   },
   {
    "duration": 4,
    "start_time": "2024-08-13T08:07:15.620Z"
   },
   {
    "duration": 34,
    "start_time": "2024-08-13T08:07:15.625Z"
   },
   {
    "duration": 447,
    "start_time": "2024-08-13T08:07:15.660Z"
   },
   {
    "duration": 631,
    "start_time": "2024-08-13T08:07:16.108Z"
   },
   {
    "duration": 6,
    "start_time": "2024-08-13T08:07:16.740Z"
   },
   {
    "duration": 130,
    "start_time": "2024-08-13T08:07:16.747Z"
   },
   {
    "duration": 13,
    "start_time": "2024-08-13T08:07:16.879Z"
   },
   {
    "duration": 44,
    "start_time": "2024-08-13T08:07:16.893Z"
   },
   {
    "duration": 7,
    "start_time": "2024-08-13T08:07:16.939Z"
   },
   {
    "duration": 20,
    "start_time": "2024-08-13T08:07:16.947Z"
   },
   {
    "duration": 35,
    "start_time": "2024-08-13T08:07:16.968Z"
   },
   {
    "duration": 13,
    "start_time": "2024-08-13T08:07:17.004Z"
   },
   {
    "duration": 12,
    "start_time": "2024-08-13T08:07:17.019Z"
   },
   {
    "duration": 6,
    "start_time": "2024-08-13T08:07:17.033Z"
   },
   {
    "duration": 9,
    "start_time": "2024-08-13T08:07:17.041Z"
   },
   {
    "duration": 7,
    "start_time": "2024-08-13T08:07:17.052Z"
   },
   {
    "duration": 9,
    "start_time": "2024-08-13T08:07:17.060Z"
   },
   {
    "duration": 6,
    "start_time": "2024-08-13T08:07:17.070Z"
   },
   {
    "duration": 97,
    "start_time": "2024-08-13T08:07:17.077Z"
   },
   {
    "duration": 51,
    "start_time": "2024-08-13T08:07:17.175Z"
   },
   {
    "duration": 14,
    "start_time": "2024-08-13T08:07:17.228Z"
   },
   {
    "duration": 17,
    "start_time": "2024-08-13T08:07:17.244Z"
   },
   {
    "duration": 9,
    "start_time": "2024-08-13T08:07:17.263Z"
   },
   {
    "duration": 8,
    "start_time": "2024-08-13T08:07:17.274Z"
   },
   {
    "duration": 5,
    "start_time": "2024-08-13T08:07:17.284Z"
   },
   {
    "duration": 9,
    "start_time": "2024-08-13T08:07:17.291Z"
   },
   {
    "duration": 4,
    "start_time": "2024-08-13T08:07:17.301Z"
   },
   {
    "duration": 7,
    "start_time": "2024-08-13T08:07:17.310Z"
   },
   {
    "duration": 6,
    "start_time": "2024-08-13T08:07:17.319Z"
   },
   {
    "duration": 5,
    "start_time": "2024-08-13T08:07:17.327Z"
   },
   {
    "duration": 574,
    "start_time": "2024-08-13T08:07:17.334Z"
   },
   {
    "duration": 697,
    "start_time": "2024-08-13T08:07:17.910Z"
   },
   {
    "duration": 458,
    "start_time": "2024-08-13T08:07:18.608Z"
   },
   {
    "duration": 472,
    "start_time": "2024-08-13T08:07:19.068Z"
   },
   {
    "duration": 5,
    "start_time": "2024-08-13T08:07:19.541Z"
   },
   {
    "duration": 30,
    "start_time": "2024-08-13T08:07:19.547Z"
   },
   {
    "duration": 3116,
    "start_time": "2024-08-13T08:07:19.578Z"
   },
   {
    "duration": 7,
    "start_time": "2024-08-13T08:07:22.701Z"
   },
   {
    "duration": 774,
    "start_time": "2024-08-13T08:07:22.709Z"
   },
   {
    "duration": 11,
    "start_time": "2024-08-13T08:07:23.484Z"
   },
   {
    "duration": 23,
    "start_time": "2024-08-13T08:07:23.502Z"
   },
   {
    "duration": 429,
    "start_time": "2024-08-13T08:07:23.526Z"
   },
   {
    "duration": 384,
    "start_time": "2024-08-13T08:07:23.957Z"
   },
   {
    "duration": 398,
    "start_time": "2024-08-13T08:07:24.343Z"
   },
   {
    "duration": 390,
    "start_time": "2024-08-13T08:07:24.742Z"
   },
   {
    "duration": 33,
    "start_time": "2024-08-13T08:07:25.134Z"
   },
   {
    "duration": 97,
    "start_time": "2024-08-13T08:07:25.168Z"
   },
   {
    "duration": 20,
    "start_time": "2024-08-13T08:07:25.266Z"
   },
   {
    "duration": 9,
    "start_time": "2024-08-13T08:07:25.288Z"
   },
   {
    "duration": 343,
    "start_time": "2024-08-13T08:07:25.299Z"
   },
   {
    "duration": 841,
    "start_time": "2024-08-13T08:07:25.643Z"
   },
   {
    "duration": 657,
    "start_time": "2024-08-13T08:08:13.374Z"
   },
   {
    "duration": 2467,
    "start_time": "2024-08-13T08:08:19.891Z"
   },
   {
    "duration": 1045,
    "start_time": "2024-08-13T08:08:22.360Z"
   },
   {
    "duration": 163,
    "start_time": "2024-08-13T08:08:23.406Z"
   },
   {
    "duration": 13,
    "start_time": "2024-08-13T08:08:23.570Z"
   },
   {
    "duration": 6,
    "start_time": "2024-08-13T08:08:23.585Z"
   },
   {
    "duration": 104,
    "start_time": "2024-08-13T08:08:23.592Z"
   },
   {
    "duration": 5,
    "start_time": "2024-08-13T08:08:23.697Z"
   },
   {
    "duration": 9,
    "start_time": "2024-08-13T08:08:23.703Z"
   },
   {
    "duration": 5,
    "start_time": "2024-08-13T08:08:23.713Z"
   },
   {
    "duration": 7,
    "start_time": "2024-08-13T08:08:23.719Z"
   },
   {
    "duration": 16,
    "start_time": "2024-08-13T08:08:23.728Z"
   },
   {
    "duration": 3,
    "start_time": "2024-08-13T08:08:23.746Z"
   },
   {
    "duration": 20,
    "start_time": "2024-08-13T08:08:23.750Z"
   },
   {
    "duration": 28,
    "start_time": "2024-08-13T08:08:23.773Z"
   },
   {
    "duration": 6,
    "start_time": "2024-08-13T08:08:23.803Z"
   },
   {
    "duration": 438,
    "start_time": "2024-08-13T08:08:23.810Z"
   },
   {
    "duration": 624,
    "start_time": "2024-08-13T08:08:24.249Z"
   },
   {
    "duration": 6,
    "start_time": "2024-08-13T08:08:24.874Z"
   },
   {
    "duration": 45,
    "start_time": "2024-08-13T08:08:24.882Z"
   },
   {
    "duration": 8,
    "start_time": "2024-08-13T08:08:24.928Z"
   },
   {
    "duration": 35,
    "start_time": "2024-08-13T08:08:24.938Z"
   },
   {
    "duration": 7,
    "start_time": "2024-08-13T08:08:24.975Z"
   },
   {
    "duration": 19,
    "start_time": "2024-08-13T08:08:25.002Z"
   },
   {
    "duration": 22,
    "start_time": "2024-08-13T08:08:25.022Z"
   },
   {
    "duration": 14,
    "start_time": "2024-08-13T08:08:25.045Z"
   },
   {
    "duration": 13,
    "start_time": "2024-08-13T08:08:25.061Z"
   },
   {
    "duration": 160,
    "start_time": "2024-08-13T08:08:25.076Z"
   },
   {
    "duration": 10,
    "start_time": "2024-08-13T08:08:25.238Z"
   },
   {
    "duration": 5,
    "start_time": "2024-08-13T08:08:25.250Z"
   },
   {
    "duration": 7,
    "start_time": "2024-08-13T08:08:25.256Z"
   },
   {
    "duration": 5,
    "start_time": "2024-08-13T08:08:25.264Z"
   },
   {
    "duration": 7,
    "start_time": "2024-08-13T08:08:25.271Z"
   },
   {
    "duration": 13,
    "start_time": "2024-08-13T08:08:25.279Z"
   },
   {
    "duration": 9,
    "start_time": "2024-08-13T08:08:25.293Z"
   },
   {
    "duration": 19,
    "start_time": "2024-08-13T08:08:25.304Z"
   },
   {
    "duration": 19,
    "start_time": "2024-08-13T08:08:25.325Z"
   },
   {
    "duration": 10,
    "start_time": "2024-08-13T08:08:25.345Z"
   },
   {
    "duration": 10,
    "start_time": "2024-08-13T08:08:25.356Z"
   },
   {
    "duration": 33,
    "start_time": "2024-08-13T08:08:25.367Z"
   },
   {
    "duration": 12,
    "start_time": "2024-08-13T08:08:25.401Z"
   },
   {
    "duration": 16,
    "start_time": "2024-08-13T08:08:25.416Z"
   },
   {
    "duration": 6,
    "start_time": "2024-08-13T08:08:25.433Z"
   },
   {
    "duration": 5,
    "start_time": "2024-08-13T08:08:25.440Z"
   },
   {
    "duration": 531,
    "start_time": "2024-08-13T08:08:25.447Z"
   },
   {
    "duration": 670,
    "start_time": "2024-08-13T08:08:25.980Z"
   },
   {
    "duration": 460,
    "start_time": "2024-08-13T08:08:26.652Z"
   },
   {
    "duration": 493,
    "start_time": "2024-08-13T08:08:27.113Z"
   },
   {
    "duration": 5,
    "start_time": "2024-08-13T08:08:27.607Z"
   },
   {
    "duration": 41,
    "start_time": "2024-08-13T08:08:27.613Z"
   },
   {
    "duration": 3091,
    "start_time": "2024-08-13T08:08:27.656Z"
   },
   {
    "duration": 7,
    "start_time": "2024-08-13T08:08:30.749Z"
   },
   {
    "duration": 1034,
    "start_time": "2024-08-13T08:08:30.757Z"
   },
   {
    "duration": 317,
    "start_time": "2024-08-13T08:08:31.792Z"
   },
   {
    "duration": 23,
    "start_time": "2024-08-13T08:08:32.110Z"
   },
   {
    "duration": 449,
    "start_time": "2024-08-13T08:08:32.134Z"
   },
   {
    "duration": 378,
    "start_time": "2024-08-13T08:08:32.584Z"
   },
   {
    "duration": 390,
    "start_time": "2024-08-13T08:08:32.964Z"
   },
   {
    "duration": 387,
    "start_time": "2024-08-13T08:08:33.355Z"
   },
   {
    "duration": 35,
    "start_time": "2024-08-13T08:08:33.743Z"
   },
   {
    "duration": 23,
    "start_time": "2024-08-13T08:08:33.780Z"
   },
   {
    "duration": 7,
    "start_time": "2024-08-13T08:08:33.804Z"
   },
   {
    "duration": 19,
    "start_time": "2024-08-13T08:08:33.812Z"
   },
   {
    "duration": 339,
    "start_time": "2024-08-13T08:08:33.832Z"
   },
   {
    "duration": 835,
    "start_time": "2024-08-13T08:08:34.173Z"
   },
   {
    "duration": 638,
    "start_time": "2024-08-13T08:09:00.279Z"
   },
   {
    "duration": 635,
    "start_time": "2024-08-13T08:09:11.666Z"
   },
   {
    "duration": 72,
    "start_time": "2024-08-13T08:09:51.887Z"
   },
   {
    "duration": 202,
    "start_time": "2024-08-13T08:09:57.267Z"
   },
   {
    "duration": 374,
    "start_time": "2024-08-13T08:10:18.927Z"
   },
   {
    "duration": 522,
    "start_time": "2024-08-13T08:10:49.420Z"
   },
   {
    "duration": 636,
    "start_time": "2024-08-13T08:10:55.645Z"
   },
   {
    "duration": 606,
    "start_time": "2024-08-13T08:11:52.024Z"
   },
   {
    "duration": 647,
    "start_time": "2024-08-13T08:12:02.096Z"
   },
   {
    "duration": 296,
    "start_time": "2024-08-13T08:12:17.032Z"
   },
   {
    "duration": 853,
    "start_time": "2024-08-13T08:13:25.125Z"
   },
   {
    "duration": 774,
    "start_time": "2024-08-13T08:19:54.908Z"
   },
   {
    "duration": 846,
    "start_time": "2024-08-13T08:20:07.072Z"
   },
   {
    "duration": 776,
    "start_time": "2024-08-13T08:20:28.620Z"
   },
   {
    "duration": 935,
    "start_time": "2024-08-13T08:21:02.432Z"
   },
   {
    "duration": 848,
    "start_time": "2024-08-13T08:21:06.580Z"
   },
   {
    "duration": 1360,
    "start_time": "2024-08-13T08:21:26.289Z"
   },
   {
    "duration": 1207,
    "start_time": "2024-08-13T08:21:34.061Z"
   },
   {
    "duration": 1182,
    "start_time": "2024-08-13T08:21:50.557Z"
   },
   {
    "duration": 1288,
    "start_time": "2024-08-13T08:22:00.956Z"
   },
   {
    "duration": 1219,
    "start_time": "2024-08-13T08:23:24.746Z"
   },
   {
    "duration": 1191,
    "start_time": "2024-08-13T08:24:04.097Z"
   },
   {
    "duration": 1146,
    "start_time": "2024-08-13T08:24:15.433Z"
   },
   {
    "duration": 1272,
    "start_time": "2024-08-13T08:24:20.357Z"
   },
   {
    "duration": 1151,
    "start_time": "2024-08-13T08:27:39.832Z"
   },
   {
    "duration": 3,
    "start_time": "2024-08-13T08:45:51.016Z"
   },
   {
    "duration": 4,
    "start_time": "2024-08-13T08:45:51.664Z"
   },
   {
    "duration": 643,
    "start_time": "2024-08-13T08:45:52.707Z"
   },
   {
    "duration": 2060,
    "start_time": "2024-08-13T08:45:53.352Z"
   },
   {
    "duration": 2,
    "start_time": "2024-08-13T08:46:40.820Z"
   },
   {
    "duration": 4,
    "start_time": "2024-08-13T08:46:41.135Z"
   },
   {
    "duration": 374,
    "start_time": "2024-08-13T08:46:41.568Z"
   },
   {
    "duration": 1354,
    "start_time": "2024-08-13T08:46:42.168Z"
   },
   {
    "duration": 5,
    "start_time": "2024-08-13T09:38:14.296Z"
   },
   {
    "duration": 5,
    "start_time": "2024-08-13T09:38:18.720Z"
   },
   {
    "duration": 3,
    "start_time": "2024-08-13T09:38:39.964Z"
   },
   {
    "duration": 3,
    "start_time": "2024-08-13T09:38:57.870Z"
   },
   {
    "duration": 4,
    "start_time": "2024-08-13T09:40:32.448Z"
   },
   {
    "duration": 112,
    "start_time": "2024-08-13T09:40:45.001Z"
   },
   {
    "duration": 3,
    "start_time": "2024-08-13T09:40:48.533Z"
   },
   {
    "duration": 4,
    "start_time": "2024-08-13T09:41:20.169Z"
   },
   {
    "duration": 3,
    "start_time": "2024-08-13T09:41:29.577Z"
   },
   {
    "duration": 4,
    "start_time": "2024-08-13T09:41:34.393Z"
   },
   {
    "duration": 3,
    "start_time": "2024-08-13T09:43:00.982Z"
   },
   {
    "duration": 5,
    "start_time": "2024-08-13T09:43:03.238Z"
   },
   {
    "duration": 25,
    "start_time": "2024-08-13T09:43:32.250Z"
   },
   {
    "duration": 10,
    "start_time": "2024-08-13T09:43:36.022Z"
   },
   {
    "duration": 10,
    "start_time": "2024-08-13T09:43:39.542Z"
   },
   {
    "duration": 8,
    "start_time": "2024-08-13T09:46:56.204Z"
   },
   {
    "duration": 3,
    "start_time": "2024-08-13T09:47:05.451Z"
   },
   {
    "duration": 72,
    "start_time": "2024-08-13T09:48:30.848Z"
   },
   {
    "duration": 62,
    "start_time": "2024-08-13T09:49:03.404Z"
   },
   {
    "duration": 4,
    "start_time": "2024-08-13T09:49:18.844Z"
   },
   {
    "duration": 3,
    "start_time": "2024-08-13T09:49:22.828Z"
   },
   {
    "duration": 4,
    "start_time": "2024-08-13T09:49:35.972Z"
   },
   {
    "duration": 19,
    "start_time": "2024-08-13T09:52:00.201Z"
   },
   {
    "duration": 5,
    "start_time": "2024-08-13T09:52:27.933Z"
   },
   {
    "duration": 6,
    "start_time": "2024-08-13T09:54:42.438Z"
   },
   {
    "duration": 6,
    "start_time": "2024-08-13T10:12:06.128Z"
   },
   {
    "duration": 7,
    "start_time": "2024-08-13T10:13:05.601Z"
   },
   {
    "duration": 70,
    "start_time": "2024-08-13T10:17:28.767Z"
   },
   {
    "duration": 7,
    "start_time": "2024-08-13T10:17:34.415Z"
   },
   {
    "duration": 15,
    "start_time": "2024-08-13T10:17:43.151Z"
   },
   {
    "duration": 6,
    "start_time": "2024-08-13T10:17:47.127Z"
   },
   {
    "duration": 6,
    "start_time": "2024-08-13T10:18:13.888Z"
   },
   {
    "duration": 2540,
    "start_time": "2024-08-13T10:18:18.528Z"
   },
   {
    "duration": 1130,
    "start_time": "2024-08-13T10:18:21.070Z"
   },
   {
    "duration": 72,
    "start_time": "2024-08-13T10:18:22.202Z"
   },
   {
    "duration": 14,
    "start_time": "2024-08-13T10:18:22.276Z"
   },
   {
    "duration": 31,
    "start_time": "2024-08-13T10:18:22.292Z"
   },
   {
    "duration": 113,
    "start_time": "2024-08-13T10:18:22.325Z"
   },
   {
    "duration": 3,
    "start_time": "2024-08-13T10:18:22.439Z"
   },
   {
    "duration": 10,
    "start_time": "2024-08-13T10:18:22.443Z"
   },
   {
    "duration": 9,
    "start_time": "2024-08-13T10:18:22.454Z"
   },
   {
    "duration": 4,
    "start_time": "2024-08-13T10:18:22.465Z"
   },
   {
    "duration": 33,
    "start_time": "2024-08-13T10:18:22.470Z"
   },
   {
    "duration": 4,
    "start_time": "2024-08-13T10:18:22.504Z"
   },
   {
    "duration": 25,
    "start_time": "2024-08-13T10:18:22.509Z"
   },
   {
    "duration": 13,
    "start_time": "2024-08-13T10:18:22.536Z"
   },
   {
    "duration": 10,
    "start_time": "2024-08-13T10:18:22.550Z"
   },
   {
    "duration": 470,
    "start_time": "2024-08-13T10:18:22.561Z"
   },
   {
    "duration": 649,
    "start_time": "2024-08-13T10:18:23.033Z"
   },
   {
    "duration": 7,
    "start_time": "2024-08-13T10:18:23.683Z"
   },
   {
    "duration": 103,
    "start_time": "2024-08-13T10:18:23.702Z"
   },
   {
    "duration": 8,
    "start_time": "2024-08-13T10:18:23.806Z"
   },
   {
    "duration": 35,
    "start_time": "2024-08-13T10:18:23.816Z"
   },
   {
    "duration": 8,
    "start_time": "2024-08-13T10:18:23.853Z"
   },
   {
    "duration": 89,
    "start_time": "2024-08-13T10:18:23.863Z"
   },
   {
    "duration": 16,
    "start_time": "2024-08-13T10:18:23.954Z"
   },
   {
    "duration": 20,
    "start_time": "2024-08-13T10:18:23.972Z"
   },
   {
    "duration": 17,
    "start_time": "2024-08-13T10:18:23.994Z"
   },
   {
    "duration": 20,
    "start_time": "2024-08-13T10:18:24.012Z"
   },
   {
    "duration": 8,
    "start_time": "2024-08-13T10:18:24.037Z"
   },
   {
    "duration": 7,
    "start_time": "2024-08-13T10:18:24.047Z"
   },
   {
    "duration": 18,
    "start_time": "2024-08-13T10:18:24.056Z"
   },
   {
    "duration": 16,
    "start_time": "2024-08-13T10:18:24.075Z"
   },
   {
    "duration": 16,
    "start_time": "2024-08-13T10:18:24.092Z"
   },
   {
    "duration": 28,
    "start_time": "2024-08-13T10:18:24.109Z"
   },
   {
    "duration": 12,
    "start_time": "2024-08-13T10:18:24.138Z"
   },
   {
    "duration": 37,
    "start_time": "2024-08-13T10:18:24.152Z"
   },
   {
    "duration": 16,
    "start_time": "2024-08-13T10:18:24.191Z"
   },
   {
    "duration": 9,
    "start_time": "2024-08-13T10:18:24.208Z"
   },
   {
    "duration": 24,
    "start_time": "2024-08-13T10:18:24.218Z"
   },
   {
    "duration": 14,
    "start_time": "2024-08-13T10:18:24.243Z"
   },
   {
    "duration": 11,
    "start_time": "2024-08-13T10:18:24.259Z"
   },
   {
    "duration": 13,
    "start_time": "2024-08-13T10:18:24.271Z"
   },
   {
    "duration": 5,
    "start_time": "2024-08-13T10:18:24.286Z"
   },
   {
    "duration": 9,
    "start_time": "2024-08-13T10:18:24.293Z"
   },
   {
    "duration": 13,
    "start_time": "2024-08-13T10:18:24.304Z"
   },
   {
    "duration": 9,
    "start_time": "2024-08-13T10:18:24.318Z"
   },
   {
    "duration": 12,
    "start_time": "2024-08-13T10:18:24.328Z"
   },
   {
    "duration": 8,
    "start_time": "2024-08-13T10:18:24.341Z"
   },
   {
    "duration": 7,
    "start_time": "2024-08-13T10:18:24.350Z"
   },
   {
    "duration": 576,
    "start_time": "2024-08-13T10:18:24.358Z"
   },
   {
    "duration": 696,
    "start_time": "2024-08-13T10:18:24.935Z"
   },
   {
    "duration": 466,
    "start_time": "2024-08-13T10:18:25.633Z"
   },
   {
    "duration": 468,
    "start_time": "2024-08-13T10:18:26.102Z"
   },
   {
    "duration": 6,
    "start_time": "2024-08-13T10:18:26.571Z"
   },
   {
    "duration": 10,
    "start_time": "2024-08-13T10:18:26.578Z"
   },
   {
    "duration": 3157,
    "start_time": "2024-08-13T10:18:26.589Z"
   },
   {
    "duration": 7,
    "start_time": "2024-08-13T10:18:29.748Z"
   },
   {
    "duration": 749,
    "start_time": "2024-08-13T10:18:29.756Z"
   },
   {
    "duration": 12,
    "start_time": "2024-08-13T10:18:30.507Z"
   },
   {
    "duration": 205,
    "start_time": "2024-08-13T10:18:30.520Z"
   },
   {
    "duration": 509,
    "start_time": "2024-08-13T10:18:30.727Z"
   },
   {
    "duration": 409,
    "start_time": "2024-08-13T10:18:31.238Z"
   },
   {
    "duration": 387,
    "start_time": "2024-08-13T10:18:31.649Z"
   },
   {
    "duration": 395,
    "start_time": "2024-08-13T10:18:32.038Z"
   },
   {
    "duration": 38,
    "start_time": "2024-08-13T10:18:32.435Z"
   },
   {
    "duration": 7,
    "start_time": "2024-08-13T10:18:32.475Z"
   },
   {
    "duration": 3,
    "start_time": "2024-08-13T10:18:32.502Z"
   },
   {
    "duration": 14,
    "start_time": "2024-08-13T10:18:32.506Z"
   },
   {
    "duration": 359,
    "start_time": "2024-08-13T10:18:32.522Z"
   },
   {
    "duration": 1286,
    "start_time": "2024-08-13T10:18:32.882Z"
   },
   {
    "duration": 10,
    "start_time": "2024-08-13T10:18:34.169Z"
   },
   {
    "duration": 26,
    "start_time": "2024-08-13T10:18:34.181Z"
   },
   {
    "duration": 6,
    "start_time": "2024-08-13T10:18:34.208Z"
   },
   {
    "duration": 23,
    "start_time": "2024-08-13T10:18:34.215Z"
   },
   {
    "duration": 6,
    "start_time": "2024-08-13T10:19:15.816Z"
   },
   {
    "duration": 6,
    "start_time": "2024-08-13T10:19:24.896Z"
   },
   {
    "duration": 102,
    "start_time": "2024-08-13T10:29:07.800Z"
   },
   {
    "duration": 4,
    "start_time": "2024-08-13T10:30:49.341Z"
   },
   {
    "duration": 80,
    "start_time": "2024-08-13T10:30:57.909Z"
   },
   {
    "duration": 7,
    "start_time": "2024-08-13T10:31:12.014Z"
   },
   {
    "duration": 4,
    "start_time": "2024-08-13T10:32:07.609Z"
   },
   {
    "duration": 124,
    "start_time": "2024-08-13T10:33:02.698Z"
   },
   {
    "duration": 5,
    "start_time": "2024-08-13T10:34:24.234Z"
   },
   {
    "duration": 6,
    "start_time": "2024-08-13T10:34:29.634Z"
   },
   {
    "duration": 17,
    "start_time": "2024-08-13T10:36:46.363Z"
   },
   {
    "duration": 6,
    "start_time": "2024-08-13T10:37:04.279Z"
   },
   {
    "duration": 7,
    "start_time": "2024-08-13T10:37:11.042Z"
   },
   {
    "duration": 7,
    "start_time": "2024-08-13T10:37:39.251Z"
   },
   {
    "duration": 12,
    "start_time": "2024-08-13T10:40:14.992Z"
   },
   {
    "duration": 7,
    "start_time": "2024-08-13T10:40:22.184Z"
   },
   {
    "duration": 8,
    "start_time": "2024-08-13T10:40:27.035Z"
   },
   {
    "duration": 8,
    "start_time": "2024-08-13T10:41:40.141Z"
   },
   {
    "duration": 5,
    "start_time": "2024-08-13T10:41:55.681Z"
   },
   {
    "duration": 5,
    "start_time": "2024-08-13T10:42:24.350Z"
   },
   {
    "duration": 6,
    "start_time": "2024-08-13T10:42:32.402Z"
   },
   {
    "duration": 6,
    "start_time": "2024-08-13T10:42:38.217Z"
   },
   {
    "duration": 11,
    "start_time": "2024-08-13T10:43:12.678Z"
   },
   {
    "duration": 11,
    "start_time": "2024-08-13T10:43:32.122Z"
   },
   {
    "duration": 5,
    "start_time": "2024-08-13T10:43:40.966Z"
   },
   {
    "duration": 5,
    "start_time": "2024-08-13T10:43:50.726Z"
   },
   {
    "duration": 7,
    "start_time": "2024-08-13T10:43:55.094Z"
   },
   {
    "duration": 11,
    "start_time": "2024-08-13T10:51:05.149Z"
   },
   {
    "duration": 11,
    "start_time": "2024-08-13T10:51:12.485Z"
   },
   {
    "duration": 7,
    "start_time": "2024-08-13T10:51:26.453Z"
   },
   {
    "duration": 6,
    "start_time": "2024-08-13T10:51:31.893Z"
   },
   {
    "duration": 10,
    "start_time": "2024-08-13T10:52:44.702Z"
   },
   {
    "duration": 3,
    "start_time": "2024-08-13T10:53:07.634Z"
   },
   {
    "duration": 173,
    "start_time": "2024-08-13T10:53:15.250Z"
   },
   {
    "duration": 7,
    "start_time": "2024-08-13T10:53:20.573Z"
   },
   {
    "duration": 6,
    "start_time": "2024-08-13T11:01:50.574Z"
   },
   {
    "duration": 9,
    "start_time": "2024-08-13T11:03:04.693Z"
   },
   {
    "duration": 12,
    "start_time": "2024-08-13T11:03:56.166Z"
   },
   {
    "duration": 10,
    "start_time": "2024-08-13T11:04:15.447Z"
   },
   {
    "duration": 9,
    "start_time": "2024-08-13T11:04:27.442Z"
   },
   {
    "duration": 12,
    "start_time": "2024-08-13T11:11:24.454Z"
   },
   {
    "duration": 11,
    "start_time": "2024-08-13T11:11:38.998Z"
   },
   {
    "duration": 13,
    "start_time": "2024-08-13T11:12:04.722Z"
   },
   {
    "duration": 12,
    "start_time": "2024-08-13T11:12:44.283Z"
   },
   {
    "duration": 241,
    "start_time": "2024-08-13T14:57:44.152Z"
   },
   {
    "duration": 49,
    "start_time": "2024-08-13T14:57:56.236Z"
   },
   {
    "duration": 6000,
    "start_time": "2024-08-13T14:58:03.424Z"
   },
   {
    "duration": 1260,
    "start_time": "2024-08-13T14:58:09.426Z"
   },
   {
    "duration": 89,
    "start_time": "2024-08-13T14:58:10.688Z"
   },
   {
    "duration": 17,
    "start_time": "2024-08-13T14:58:10.779Z"
   },
   {
    "duration": 9,
    "start_time": "2024-08-13T14:58:10.798Z"
   },
   {
    "duration": 126,
    "start_time": "2024-08-13T14:58:10.810Z"
   },
   {
    "duration": 4,
    "start_time": "2024-08-13T14:58:10.938Z"
   },
   {
    "duration": 69,
    "start_time": "2024-08-13T14:58:10.943Z"
   },
   {
    "duration": 5,
    "start_time": "2024-08-13T14:58:11.014Z"
   },
   {
    "duration": 5,
    "start_time": "2024-08-13T14:58:11.022Z"
   },
   {
    "duration": 26,
    "start_time": "2024-08-13T14:58:11.029Z"
   },
   {
    "duration": 11,
    "start_time": "2024-08-13T14:58:11.058Z"
   },
   {
    "duration": 43,
    "start_time": "2024-08-13T14:58:11.071Z"
   },
   {
    "duration": 6,
    "start_time": "2024-08-13T14:58:11.116Z"
   },
   {
    "duration": 11,
    "start_time": "2024-08-13T14:58:11.124Z"
   },
   {
    "duration": 591,
    "start_time": "2024-08-13T14:58:11.136Z"
   },
   {
    "duration": 732,
    "start_time": "2024-08-13T14:58:11.729Z"
   },
   {
    "duration": 7,
    "start_time": "2024-08-13T14:58:12.463Z"
   },
   {
    "duration": 66,
    "start_time": "2024-08-13T14:58:12.472Z"
   },
   {
    "duration": 8,
    "start_time": "2024-08-13T14:58:12.540Z"
   },
   {
    "duration": 83,
    "start_time": "2024-08-13T14:58:12.550Z"
   },
   {
    "duration": 9,
    "start_time": "2024-08-13T14:58:12.634Z"
   },
   {
    "duration": 8,
    "start_time": "2024-08-13T14:58:12.645Z"
   },
   {
    "duration": 12,
    "start_time": "2024-08-13T14:58:12.654Z"
   },
   {
    "duration": 38,
    "start_time": "2024-08-13T14:58:12.668Z"
   },
   {
    "duration": 22,
    "start_time": "2024-08-13T14:58:12.708Z"
   },
   {
    "duration": 16,
    "start_time": "2024-08-13T14:58:12.732Z"
   },
   {
    "duration": 10,
    "start_time": "2024-08-13T14:58:12.752Z"
   },
   {
    "duration": 9,
    "start_time": "2024-08-13T14:58:12.764Z"
   },
   {
    "duration": 14,
    "start_time": "2024-08-13T14:58:12.804Z"
   },
   {
    "duration": 5,
    "start_time": "2024-08-13T14:58:12.820Z"
   },
   {
    "duration": 7,
    "start_time": "2024-08-13T14:58:12.826Z"
   },
   {
    "duration": 12,
    "start_time": "2024-08-13T14:58:12.835Z"
   },
   {
    "duration": 14,
    "start_time": "2024-08-13T14:58:12.848Z"
   },
   {
    "duration": 44,
    "start_time": "2024-08-13T14:58:12.864Z"
   },
   {
    "duration": 8,
    "start_time": "2024-08-13T14:58:12.910Z"
   },
   {
    "duration": 64,
    "start_time": "2024-08-13T14:58:12.920Z"
   },
   {
    "duration": 5,
    "start_time": "2024-08-13T14:58:12.986Z"
   },
   {
    "duration": 4,
    "start_time": "2024-08-13T14:58:12.993Z"
   },
   {
    "duration": 6,
    "start_time": "2024-08-13T14:58:12.999Z"
   },
   {
    "duration": 6,
    "start_time": "2024-08-13T14:58:13.006Z"
   },
   {
    "duration": 11,
    "start_time": "2024-08-13T14:58:13.013Z"
   },
   {
    "duration": 9,
    "start_time": "2024-08-13T14:58:13.026Z"
   },
   {
    "duration": 13,
    "start_time": "2024-08-13T14:58:13.037Z"
   },
   {
    "duration": 8,
    "start_time": "2024-08-13T14:58:13.052Z"
   },
   {
    "duration": 13,
    "start_time": "2024-08-13T14:58:13.061Z"
   },
   {
    "duration": 660,
    "start_time": "2024-08-13T14:58:13.076Z"
   },
   {
    "duration": 860,
    "start_time": "2024-08-13T14:58:13.738Z"
   },
   {
    "duration": 577,
    "start_time": "2024-08-13T14:58:14.600Z"
   },
   {
    "duration": 529,
    "start_time": "2024-08-13T14:58:15.178Z"
   },
   {
    "duration": 6,
    "start_time": "2024-08-13T14:58:15.708Z"
   },
   {
    "duration": 12,
    "start_time": "2024-08-13T14:58:15.717Z"
   },
   {
    "duration": 4433,
    "start_time": "2024-08-13T14:58:15.731Z"
   },
   {
    "duration": 8,
    "start_time": "2024-08-13T14:58:20.166Z"
   },
   {
    "duration": 1067,
    "start_time": "2024-08-13T14:58:20.176Z"
   },
   {
    "duration": 14,
    "start_time": "2024-08-13T14:58:21.245Z"
   },
   {
    "duration": 68,
    "start_time": "2024-08-13T14:58:21.260Z"
   },
   {
    "duration": 514,
    "start_time": "2024-08-13T14:58:21.330Z"
   },
   {
    "duration": 432,
    "start_time": "2024-08-13T14:58:21.846Z"
   },
   {
    "duration": 518,
    "start_time": "2024-08-13T14:58:22.280Z"
   },
   {
    "duration": 574,
    "start_time": "2024-08-13T14:58:22.805Z"
   },
   {
    "duration": 57,
    "start_time": "2024-08-13T14:58:23.380Z"
   },
   {
    "duration": 9,
    "start_time": "2024-08-13T14:58:23.439Z"
   },
   {
    "duration": 21,
    "start_time": "2024-08-13T14:58:23.450Z"
   },
   {
    "duration": 11,
    "start_time": "2024-08-13T14:58:23.473Z"
   },
   {
    "duration": 461,
    "start_time": "2024-08-13T14:58:23.486Z"
   },
   {
    "duration": 1648,
    "start_time": "2024-08-13T14:58:23.949Z"
   },
   {
    "duration": 17,
    "start_time": "2024-08-13T14:58:25.599Z"
   },
   {
    "duration": 18,
    "start_time": "2024-08-13T14:58:25.618Z"
   },
   {
    "duration": 16,
    "start_time": "2024-08-13T14:58:25.638Z"
   },
   {
    "duration": 8,
    "start_time": "2024-08-13T14:58:25.655Z"
   },
   {
    "duration": 10,
    "start_time": "2024-08-13T14:58:25.665Z"
   },
   {
    "duration": 150,
    "start_time": "2024-08-13T14:58:25.676Z"
   },
   {
    "duration": 0,
    "start_time": "2024-08-13T14:58:25.828Z"
   },
   {
    "duration": 15,
    "start_time": "2024-08-13T14:59:06.225Z"
   },
   {
    "duration": 16,
    "start_time": "2024-08-13T14:59:21.200Z"
   },
   {
    "duration": 14,
    "start_time": "2024-08-13T15:00:18.141Z"
   },
   {
    "duration": 19,
    "start_time": "2024-08-13T15:02:54.838Z"
   },
   {
    "duration": 16,
    "start_time": "2024-08-13T15:03:51.966Z"
   },
   {
    "duration": 4,
    "start_time": "2024-08-13T15:31:18.379Z"
   },
   {
    "duration": 3,
    "start_time": "2024-08-13T15:31:34.154Z"
   },
   {
    "duration": 6,
    "start_time": "2024-08-13T15:40:15.225Z"
   },
   {
    "duration": 14,
    "start_time": "2024-08-13T15:41:07.093Z"
   },
   {
    "duration": 6,
    "start_time": "2024-08-13T15:41:12.978Z"
   },
   {
    "duration": 9,
    "start_time": "2024-08-13T15:42:49.891Z"
   },
   {
    "duration": 5,
    "start_time": "2024-08-13T15:44:13.427Z"
   },
   {
    "duration": 7,
    "start_time": "2024-08-13T15:45:44.960Z"
   },
   {
    "duration": 69,
    "start_time": "2024-08-13T16:22:09.293Z"
   },
   {
    "duration": 22,
    "start_time": "2024-08-13T16:23:01.836Z"
   },
   {
    "duration": 67,
    "start_time": "2024-08-13T16:23:33.428Z"
   },
   {
    "duration": 10,
    "start_time": "2024-08-13T16:23:57.999Z"
   },
   {
    "duration": 10,
    "start_time": "2024-08-13T16:24:54.272Z"
   },
   {
    "duration": 12,
    "start_time": "2024-08-13T16:25:51.521Z"
   },
   {
    "duration": 7,
    "start_time": "2024-08-13T16:26:45.218Z"
   },
   {
    "duration": 13,
    "start_time": "2024-08-13T16:26:53.289Z"
   },
   {
    "duration": 11,
    "start_time": "2024-08-13T16:28:39.322Z"
   },
   {
    "duration": 11,
    "start_time": "2024-08-13T16:29:14.278Z"
   },
   {
    "duration": 12,
    "start_time": "2024-08-13T16:29:21.474Z"
   },
   {
    "duration": 13,
    "start_time": "2024-08-13T16:30:27.938Z"
   },
   {
    "duration": 14,
    "start_time": "2024-08-13T16:32:04.467Z"
   },
   {
    "duration": 14,
    "start_time": "2024-08-13T16:32:22.563Z"
   },
   {
    "duration": 12,
    "start_time": "2024-08-13T16:33:45.236Z"
   },
   {
    "duration": 13,
    "start_time": "2024-08-13T16:33:51.600Z"
   },
   {
    "duration": 11,
    "start_time": "2024-08-13T16:34:03.548Z"
   },
   {
    "duration": 12,
    "start_time": "2024-08-13T16:34:13.008Z"
   },
   {
    "duration": 12,
    "start_time": "2024-08-13T16:34:23.648Z"
   },
   {
    "duration": 10,
    "start_time": "2024-08-13T16:34:31.329Z"
   },
   {
    "duration": 12,
    "start_time": "2024-08-13T16:34:37.632Z"
   },
   {
    "duration": 12,
    "start_time": "2024-08-13T16:34:41.320Z"
   },
   {
    "duration": 13,
    "start_time": "2024-08-13T16:34:45.048Z"
   },
   {
    "duration": 11,
    "start_time": "2024-08-13T16:34:49.325Z"
   },
   {
    "duration": 14,
    "start_time": "2024-08-13T16:34:55.553Z"
   },
   {
    "duration": 18,
    "start_time": "2024-08-13T16:35:26.813Z"
   },
   {
    "duration": 15,
    "start_time": "2024-08-13T16:35:39.093Z"
   },
   {
    "duration": 15,
    "start_time": "2024-08-13T16:36:16.897Z"
   },
   {
    "duration": 17,
    "start_time": "2024-08-13T16:36:21.369Z"
   },
   {
    "duration": 13,
    "start_time": "2024-08-13T16:36:25.733Z"
   },
   {
    "duration": 12,
    "start_time": "2024-08-13T16:36:30.445Z"
   },
   {
    "duration": 13,
    "start_time": "2024-08-13T16:36:39.945Z"
   },
   {
    "duration": 13,
    "start_time": "2024-08-13T16:36:58.237Z"
   },
   {
    "duration": 13,
    "start_time": "2024-08-13T16:37:04.405Z"
   },
   {
    "duration": 13,
    "start_time": "2024-08-13T16:37:49.381Z"
   },
   {
    "duration": 12,
    "start_time": "2024-08-13T16:37:53.525Z"
   },
   {
    "duration": 12,
    "start_time": "2024-08-13T16:38:03.994Z"
   },
   {
    "duration": 12,
    "start_time": "2024-08-13T16:38:07.486Z"
   },
   {
    "duration": 16,
    "start_time": "2024-08-13T16:38:43.074Z"
   },
   {
    "duration": 13,
    "start_time": "2024-08-13T16:38:48.790Z"
   },
   {
    "duration": 17,
    "start_time": "2024-08-13T16:39:38.703Z"
   },
   {
    "duration": 13,
    "start_time": "2024-08-13T16:39:46.862Z"
   },
   {
    "duration": 13,
    "start_time": "2024-08-13T16:40:04.171Z"
   },
   {
    "duration": 13,
    "start_time": "2024-08-13T16:40:12.694Z"
   },
   {
    "duration": 12,
    "start_time": "2024-08-13T16:41:41.612Z"
   },
   {
    "duration": 9,
    "start_time": "2024-08-13T16:41:50.824Z"
   },
   {
    "duration": 8,
    "start_time": "2024-08-13T16:42:55.816Z"
   },
   {
    "duration": 10,
    "start_time": "2024-08-13T16:43:43.328Z"
   },
   {
    "duration": 7,
    "start_time": "2024-08-13T16:43:49.040Z"
   },
   {
    "duration": 7,
    "start_time": "2024-08-13T16:43:56.304Z"
   },
   {
    "duration": 9,
    "start_time": "2024-08-13T16:44:11.205Z"
   },
   {
    "duration": 7,
    "start_time": "2024-08-13T16:44:21.489Z"
   },
   {
    "duration": 15,
    "start_time": "2024-08-13T16:44:35.280Z"
   },
   {
    "duration": 10,
    "start_time": "2024-08-13T16:44:43.505Z"
   },
   {
    "duration": 7,
    "start_time": "2024-08-13T16:44:44.641Z"
   },
   {
    "duration": 15,
    "start_time": "2024-08-13T16:45:50.277Z"
   },
   {
    "duration": 15,
    "start_time": "2024-08-13T16:46:03.097Z"
   },
   {
    "duration": 16,
    "start_time": "2024-08-13T16:47:30.529Z"
   },
   {
    "duration": 467,
    "start_time": "2024-08-13T16:47:42.294Z"
   },
   {
    "duration": 15,
    "start_time": "2024-08-13T16:47:57.710Z"
   },
   {
    "duration": 13,
    "start_time": "2024-08-13T16:48:15.798Z"
   },
   {
    "duration": 67,
    "start_time": "2024-08-13T16:48:59.938Z"
   },
   {
    "duration": 19,
    "start_time": "2024-08-13T16:49:06.291Z"
   },
   {
    "duration": 71,
    "start_time": "2024-08-13T16:55:51.963Z"
   },
   {
    "duration": 20,
    "start_time": "2024-08-13T16:55:54.978Z"
   },
   {
    "duration": 16,
    "start_time": "2024-08-13T16:56:06.226Z"
   },
   {
    "duration": 19,
    "start_time": "2024-08-13T16:56:13.002Z"
   },
   {
    "duration": 13,
    "start_time": "2024-08-13T16:56:41.890Z"
   },
   {
    "duration": 14,
    "start_time": "2024-08-13T16:56:48.958Z"
   },
   {
    "duration": 13,
    "start_time": "2024-08-13T16:56:54.570Z"
   },
   {
    "duration": 14,
    "start_time": "2024-08-13T16:57:01.666Z"
   },
   {
    "duration": 14,
    "start_time": "2024-08-13T16:57:07.889Z"
   },
   {
    "duration": 14,
    "start_time": "2024-08-13T16:57:12.986Z"
   },
   {
    "duration": 17,
    "start_time": "2024-08-13T16:57:47.722Z"
   },
   {
    "duration": 14,
    "start_time": "2024-08-13T16:57:53.290Z"
   },
   {
    "duration": 14,
    "start_time": "2024-08-13T16:59:13.391Z"
   },
   {
    "duration": 14,
    "start_time": "2024-08-13T16:59:18.966Z"
   },
   {
    "duration": 15,
    "start_time": "2024-08-13T16:59:28.795Z"
   },
   {
    "duration": 20,
    "start_time": "2024-08-13T16:59:35.451Z"
   },
   {
    "duration": 15,
    "start_time": "2024-08-13T16:59:38.995Z"
   },
   {
    "duration": 17,
    "start_time": "2024-08-13T17:01:26.803Z"
   },
   {
    "duration": 15,
    "start_time": "2024-08-13T17:01:32.013Z"
   },
   {
    "duration": 13,
    "start_time": "2024-08-13T17:01:41.952Z"
   },
   {
    "duration": 17,
    "start_time": "2024-08-13T17:02:22.392Z"
   },
   {
    "duration": 13,
    "start_time": "2024-08-13T17:03:54.460Z"
   },
   {
    "duration": 21,
    "start_time": "2024-08-13T17:04:25.807Z"
   },
   {
    "duration": 14,
    "start_time": "2024-08-13T17:04:39.005Z"
   },
   {
    "duration": 13,
    "start_time": "2024-08-13T17:04:54.253Z"
   },
   {
    "duration": 12,
    "start_time": "2024-08-13T17:05:27.750Z"
   },
   {
    "duration": 13,
    "start_time": "2024-08-13T17:05:31.633Z"
   },
   {
    "duration": 13,
    "start_time": "2024-08-13T17:05:36.537Z"
   },
   {
    "duration": 12,
    "start_time": "2024-08-13T17:05:43.278Z"
   },
   {
    "duration": 12,
    "start_time": "2024-08-13T17:05:49.582Z"
   },
   {
    "duration": 15,
    "start_time": "2024-08-13T17:06:28.738Z"
   },
   {
    "duration": 14,
    "start_time": "2024-08-13T17:06:33.537Z"
   },
   {
    "duration": 13,
    "start_time": "2024-08-13T17:06:42.030Z"
   },
   {
    "duration": 12,
    "start_time": "2024-08-13T17:06:49.645Z"
   },
   {
    "duration": 13,
    "start_time": "2024-08-13T17:06:53.426Z"
   },
   {
    "duration": 11,
    "start_time": "2024-08-13T17:06:58.542Z"
   },
   {
    "duration": 16,
    "start_time": "2024-08-13T17:07:11.098Z"
   },
   {
    "duration": 14,
    "start_time": "2024-08-13T17:08:25.266Z"
   },
   {
    "duration": 13,
    "start_time": "2024-08-13T17:08:44.675Z"
   },
   {
    "duration": 15,
    "start_time": "2024-08-13T17:08:50.322Z"
   },
   {
    "duration": 12,
    "start_time": "2024-08-13T17:08:59.194Z"
   },
   {
    "duration": 14,
    "start_time": "2024-08-13T17:09:08.959Z"
   },
   {
    "duration": 14,
    "start_time": "2024-08-13T17:10:33.119Z"
   },
   {
    "duration": 14,
    "start_time": "2024-08-13T17:10:59.243Z"
   },
   {
    "duration": 18,
    "start_time": "2024-08-13T17:11:10.900Z"
   },
   {
    "duration": 15,
    "start_time": "2024-08-13T17:11:34.448Z"
   },
   {
    "duration": 14,
    "start_time": "2024-08-13T17:12:43.492Z"
   },
   {
    "duration": 12,
    "start_time": "2024-08-13T17:12:48.485Z"
   },
   {
    "duration": 13,
    "start_time": "2024-08-13T17:12:57.160Z"
   },
   {
    "duration": 17,
    "start_time": "2024-08-13T17:13:19.492Z"
   },
   {
    "duration": 16,
    "start_time": "2024-08-13T17:13:43.218Z"
   },
   {
    "duration": 16,
    "start_time": "2024-08-13T17:13:48.101Z"
   },
   {
    "duration": 13,
    "start_time": "2024-08-13T17:13:55.553Z"
   },
   {
    "duration": 17,
    "start_time": "2024-08-13T17:14:01.605Z"
   },
   {
    "duration": 12,
    "start_time": "2024-08-13T17:14:06.889Z"
   },
   {
    "duration": 12,
    "start_time": "2024-08-13T17:14:20.589Z"
   },
   {
    "duration": 13,
    "start_time": "2024-08-13T17:14:25.645Z"
   },
   {
    "duration": 12,
    "start_time": "2024-08-13T17:14:30.154Z"
   },
   {
    "duration": 22,
    "start_time": "2024-08-13T17:14:46.793Z"
   },
   {
    "duration": 15,
    "start_time": "2024-08-13T17:14:52.225Z"
   },
   {
    "duration": 14,
    "start_time": "2024-08-13T17:15:03.713Z"
   },
   {
    "duration": 16,
    "start_time": "2024-08-13T17:15:07.457Z"
   },
   {
    "duration": 15,
    "start_time": "2024-08-13T17:15:18.297Z"
   },
   {
    "duration": 15,
    "start_time": "2024-08-13T17:15:53.789Z"
   },
   {
    "duration": 16,
    "start_time": "2024-08-13T17:16:01.229Z"
   },
   {
    "duration": 15,
    "start_time": "2024-08-13T17:16:26.846Z"
   },
   {
    "duration": 14,
    "start_time": "2024-08-13T17:16:39.078Z"
   },
   {
    "duration": 12,
    "start_time": "2024-08-13T17:17:11.758Z"
   },
   {
    "duration": 13,
    "start_time": "2024-08-13T17:17:19.045Z"
   },
   {
    "duration": 13,
    "start_time": "2024-08-13T17:18:44.478Z"
   },
   {
    "duration": 13,
    "start_time": "2024-08-13T17:18:48.098Z"
   },
   {
    "duration": 13,
    "start_time": "2024-08-13T17:18:52.035Z"
   },
   {
    "duration": 11,
    "start_time": "2024-08-13T17:18:55.059Z"
   },
   {
    "duration": 12,
    "start_time": "2024-08-13T17:18:59.987Z"
   },
   {
    "duration": 15,
    "start_time": "2024-08-13T17:19:05.130Z"
   },
   {
    "duration": 20,
    "start_time": "2024-08-13T17:27:47.307Z"
   },
   {
    "duration": 13,
    "start_time": "2024-08-13T17:27:51.559Z"
   },
   {
    "duration": 15,
    "start_time": "2024-08-13T17:28:04.854Z"
   },
   {
    "duration": 23,
    "start_time": "2024-08-13T17:28:28.927Z"
   },
   {
    "duration": 13,
    "start_time": "2024-08-13T17:28:38.786Z"
   },
   {
    "duration": 14,
    "start_time": "2024-08-13T17:28:54.364Z"
   },
   {
    "duration": 14,
    "start_time": "2024-08-13T17:28:59.630Z"
   },
   {
    "duration": 16,
    "start_time": "2024-08-13T17:29:02.350Z"
   },
   {
    "duration": 81,
    "start_time": "2024-08-13T17:29:45.827Z"
   },
   {
    "duration": 13,
    "start_time": "2024-08-13T17:29:50.447Z"
   },
   {
    "duration": 17,
    "start_time": "2024-08-13T17:30:02.920Z"
   },
   {
    "duration": 20,
    "start_time": "2024-08-13T17:30:10.650Z"
   },
   {
    "duration": 13,
    "start_time": "2024-08-13T17:30:15.264Z"
   },
   {
    "duration": 13,
    "start_time": "2024-08-13T17:30:17.491Z"
   },
   {
    "duration": 14,
    "start_time": "2024-08-13T17:30:27.640Z"
   },
   {
    "duration": 13,
    "start_time": "2024-08-13T17:30:33.648Z"
   },
   {
    "duration": 19,
    "start_time": "2024-08-13T17:30:38.397Z"
   },
   {
    "duration": 14,
    "start_time": "2024-08-13T17:30:43.683Z"
   },
   {
    "duration": 14,
    "start_time": "2024-08-13T17:30:47.312Z"
   },
   {
    "duration": 14,
    "start_time": "2024-08-13T17:30:54.027Z"
   },
   {
    "duration": 18,
    "start_time": "2024-08-13T17:44:42.429Z"
   },
   {
    "duration": 15,
    "start_time": "2024-08-13T17:47:43.642Z"
   },
   {
    "duration": 15,
    "start_time": "2024-08-13T17:47:46.860Z"
   },
   {
    "duration": 13,
    "start_time": "2024-08-13T17:47:58.170Z"
   },
   {
    "duration": 12,
    "start_time": "2024-08-13T17:48:41.439Z"
   },
   {
    "duration": 14,
    "start_time": "2024-08-13T17:49:05.786Z"
   },
   {
    "duration": 19,
    "start_time": "2024-08-13T17:49:09.011Z"
   },
   {
    "duration": 14,
    "start_time": "2024-08-13T17:49:11.911Z"
   },
   {
    "duration": 2603,
    "start_time": "2024-08-13T18:02:27.018Z"
   },
   {
    "duration": 1289,
    "start_time": "2024-08-13T18:02:29.624Z"
   },
   {
    "duration": 118,
    "start_time": "2024-08-13T18:02:30.916Z"
   },
   {
    "duration": 80,
    "start_time": "2024-08-13T18:02:31.036Z"
   },
   {
    "duration": 55,
    "start_time": "2024-08-13T18:02:31.118Z"
   },
   {
    "duration": 192,
    "start_time": "2024-08-13T18:02:31.175Z"
   },
   {
    "duration": 4,
    "start_time": "2024-08-13T18:02:31.369Z"
   },
   {
    "duration": 35,
    "start_time": "2024-08-13T18:02:31.374Z"
   },
   {
    "duration": 23,
    "start_time": "2024-08-13T18:02:31.411Z"
   },
   {
    "duration": 31,
    "start_time": "2024-08-13T18:02:31.439Z"
   },
   {
    "duration": 36,
    "start_time": "2024-08-13T18:02:31.471Z"
   },
   {
    "duration": 40,
    "start_time": "2024-08-13T18:02:31.509Z"
   },
   {
    "duration": 46,
    "start_time": "2024-08-13T18:02:31.551Z"
   },
   {
    "duration": 5,
    "start_time": "2024-08-13T18:02:31.599Z"
   },
   {
    "duration": 21,
    "start_time": "2024-08-13T18:02:31.605Z"
   },
   {
    "duration": 677,
    "start_time": "2024-08-13T18:02:31.628Z"
   },
   {
    "duration": 776,
    "start_time": "2024-08-13T18:02:32.307Z"
   },
   {
    "duration": 8,
    "start_time": "2024-08-13T18:02:33.085Z"
   },
   {
    "duration": 63,
    "start_time": "2024-08-13T18:02:33.094Z"
   },
   {
    "duration": 9,
    "start_time": "2024-08-13T18:02:33.159Z"
   },
   {
    "duration": 59,
    "start_time": "2024-08-13T18:02:33.169Z"
   },
   {
    "duration": 9,
    "start_time": "2024-08-13T18:02:33.230Z"
   },
   {
    "duration": 13,
    "start_time": "2024-08-13T18:02:33.240Z"
   },
   {
    "duration": 8,
    "start_time": "2024-08-13T18:02:33.254Z"
   },
   {
    "duration": 22,
    "start_time": "2024-08-13T18:02:33.264Z"
   },
   {
    "duration": 27,
    "start_time": "2024-08-13T18:02:33.305Z"
   },
   {
    "duration": 16,
    "start_time": "2024-08-13T18:02:33.334Z"
   },
   {
    "duration": 10,
    "start_time": "2024-08-13T18:02:33.356Z"
   },
   {
    "duration": 6,
    "start_time": "2024-08-13T18:02:33.367Z"
   },
   {
    "duration": 17,
    "start_time": "2024-08-13T18:02:33.404Z"
   },
   {
    "duration": 6,
    "start_time": "2024-08-13T18:02:33.423Z"
   },
   {
    "duration": 6,
    "start_time": "2024-08-13T18:02:33.431Z"
   },
   {
    "duration": 5,
    "start_time": "2024-08-13T18:02:33.438Z"
   },
   {
    "duration": 21,
    "start_time": "2024-08-13T18:02:33.445Z"
   },
   {
    "duration": 41,
    "start_time": "2024-08-13T18:02:33.468Z"
   },
   {
    "duration": 12,
    "start_time": "2024-08-13T18:02:33.511Z"
   },
   {
    "duration": 5,
    "start_time": "2024-08-13T18:02:33.525Z"
   },
   {
    "duration": 13,
    "start_time": "2024-08-13T18:02:33.532Z"
   },
   {
    "duration": 5,
    "start_time": "2024-08-13T18:02:33.546Z"
   },
   {
    "duration": 5,
    "start_time": "2024-08-13T18:02:33.553Z"
   },
   {
    "duration": 9,
    "start_time": "2024-08-13T18:02:33.559Z"
   },
   {
    "duration": 28,
    "start_time": "2024-08-13T18:02:33.569Z"
   },
   {
    "duration": 10,
    "start_time": "2024-08-13T18:02:33.598Z"
   },
   {
    "duration": 9,
    "start_time": "2024-08-13T18:02:33.610Z"
   },
   {
    "duration": 55,
    "start_time": "2024-08-13T18:02:33.622Z"
   },
   {
    "duration": 15,
    "start_time": "2024-08-13T18:02:33.679Z"
   },
   {
    "duration": 664,
    "start_time": "2024-08-13T18:02:33.696Z"
   },
   {
    "duration": 881,
    "start_time": "2024-08-13T18:02:34.361Z"
   },
   {
    "duration": 513,
    "start_time": "2024-08-13T18:02:35.244Z"
   },
   {
    "duration": 528,
    "start_time": "2024-08-13T18:02:35.758Z"
   },
   {
    "duration": 6,
    "start_time": "2024-08-13T18:02:36.288Z"
   },
   {
    "duration": 23,
    "start_time": "2024-08-13T18:02:36.295Z"
   },
   {
    "duration": 4818,
    "start_time": "2024-08-13T18:02:36.320Z"
   },
   {
    "duration": 9,
    "start_time": "2024-08-13T18:02:41.140Z"
   },
   {
    "duration": 998,
    "start_time": "2024-08-13T18:02:41.151Z"
   },
   {
    "duration": 15,
    "start_time": "2024-08-13T18:02:42.151Z"
   },
   {
    "duration": 5,
    "start_time": "2024-08-13T18:02:42.168Z"
   },
   {
    "duration": 539,
    "start_time": "2024-08-13T18:02:42.174Z"
   },
   {
    "duration": 481,
    "start_time": "2024-08-13T18:02:42.716Z"
   },
   {
    "duration": 494,
    "start_time": "2024-08-13T18:02:43.205Z"
   },
   {
    "duration": 456,
    "start_time": "2024-08-13T18:02:43.705Z"
   },
   {
    "duration": 57,
    "start_time": "2024-08-13T18:02:44.163Z"
   },
   {
    "duration": 12,
    "start_time": "2024-08-13T18:02:44.222Z"
   },
   {
    "duration": 34,
    "start_time": "2024-08-13T18:02:44.235Z"
   },
   {
    "duration": 55,
    "start_time": "2024-08-13T18:02:44.271Z"
   },
   {
    "duration": 476,
    "start_time": "2024-08-13T18:02:44.328Z"
   },
   {
    "duration": 1691,
    "start_time": "2024-08-13T18:02:44.806Z"
   },
   {
    "duration": 15,
    "start_time": "2024-08-13T18:02:46.499Z"
   },
   {
    "duration": 4,
    "start_time": "2024-08-13T18:02:46.516Z"
   },
   {
    "duration": 12,
    "start_time": "2024-08-13T18:02:46.522Z"
   },
   {
    "duration": 4,
    "start_time": "2024-08-13T18:02:46.536Z"
   },
   {
    "duration": 6,
    "start_time": "2024-08-13T18:02:46.541Z"
   },
   {
    "duration": 11,
    "start_time": "2024-08-13T18:02:46.549Z"
   },
   {
    "duration": 5,
    "start_time": "2024-08-13T18:02:46.562Z"
   },
   {
    "duration": 43,
    "start_time": "2024-08-13T18:02:46.568Z"
   },
   {
    "duration": 20,
    "start_time": "2024-08-13T18:02:46.613Z"
   },
   {
    "duration": 15,
    "start_time": "2024-08-13T18:02:46.635Z"
   },
   {
    "duration": 13,
    "start_time": "2024-08-13T18:02:46.651Z"
   },
   {
    "duration": 44,
    "start_time": "2024-08-13T18:02:46.666Z"
   },
   {
    "duration": 18,
    "start_time": "2024-08-13T18:02:46.712Z"
   },
   {
    "duration": 7,
    "start_time": "2024-08-13T18:13:50.452Z"
   },
   {
    "duration": 2704,
    "start_time": "2024-08-13T18:15:49.125Z"
   },
   {
    "duration": 1261,
    "start_time": "2024-08-13T18:15:51.832Z"
   },
   {
    "duration": 73,
    "start_time": "2024-08-13T18:15:53.094Z"
   },
   {
    "duration": 19,
    "start_time": "2024-08-13T18:15:53.169Z"
   },
   {
    "duration": 7,
    "start_time": "2024-08-13T18:15:53.191Z"
   },
   {
    "duration": 140,
    "start_time": "2024-08-13T18:15:53.200Z"
   },
   {
    "duration": 3,
    "start_time": "2024-08-13T18:15:53.342Z"
   },
   {
    "duration": 11,
    "start_time": "2024-08-13T18:15:53.346Z"
   },
   {
    "duration": 4,
    "start_time": "2024-08-13T18:15:53.359Z"
   },
   {
    "duration": 4,
    "start_time": "2024-08-13T18:15:53.365Z"
   },
   {
    "duration": 64,
    "start_time": "2024-08-13T18:15:53.371Z"
   },
   {
    "duration": 5,
    "start_time": "2024-08-13T18:15:53.437Z"
   },
   {
    "duration": 25,
    "start_time": "2024-08-13T18:15:53.443Z"
   },
   {
    "duration": 5,
    "start_time": "2024-08-13T18:15:53.470Z"
   },
   {
    "duration": 29,
    "start_time": "2024-08-13T18:15:53.477Z"
   },
   {
    "duration": 569,
    "start_time": "2024-08-13T18:15:53.508Z"
   },
   {
    "duration": 861,
    "start_time": "2024-08-13T18:15:54.079Z"
   },
   {
    "duration": 7,
    "start_time": "2024-08-13T18:15:54.942Z"
   },
   {
    "duration": 55,
    "start_time": "2024-08-13T18:15:54.950Z"
   },
   {
    "duration": 11,
    "start_time": "2024-08-13T18:15:55.007Z"
   },
   {
    "duration": 93,
    "start_time": "2024-08-13T18:15:55.020Z"
   },
   {
    "duration": 15,
    "start_time": "2024-08-13T18:15:55.115Z"
   },
   {
    "duration": 2,
    "start_time": "2024-08-13T18:15:55.133Z"
   },
   {
    "duration": 9,
    "start_time": "2024-08-13T18:15:55.137Z"
   },
   {
    "duration": 25,
    "start_time": "2024-08-13T18:15:55.148Z"
   },
   {
    "duration": 62,
    "start_time": "2024-08-13T18:15:55.174Z"
   },
   {
    "duration": 21,
    "start_time": "2024-08-13T18:15:55.238Z"
   },
   {
    "duration": 16,
    "start_time": "2024-08-13T18:15:55.263Z"
   },
   {
    "duration": 27,
    "start_time": "2024-08-13T18:15:55.280Z"
   },
   {
    "duration": 15,
    "start_time": "2024-08-13T18:15:55.308Z"
   },
   {
    "duration": 6,
    "start_time": "2024-08-13T18:15:55.324Z"
   },
   {
    "duration": 4,
    "start_time": "2024-08-13T18:15:55.332Z"
   },
   {
    "duration": 10,
    "start_time": "2024-08-13T18:15:55.337Z"
   },
   {
    "duration": 13,
    "start_time": "2024-08-13T18:15:55.348Z"
   },
   {
    "duration": 49,
    "start_time": "2024-08-13T18:15:55.363Z"
   },
   {
    "duration": 10,
    "start_time": "2024-08-13T18:15:55.414Z"
   },
   {
    "duration": 17,
    "start_time": "2024-08-13T18:15:55.426Z"
   },
   {
    "duration": 7,
    "start_time": "2024-08-13T18:15:55.445Z"
   },
   {
    "duration": 10,
    "start_time": "2024-08-13T18:15:55.453Z"
   },
   {
    "duration": 15,
    "start_time": "2024-08-13T18:15:55.464Z"
   },
   {
    "duration": 6,
    "start_time": "2024-08-13T18:15:55.481Z"
   },
   {
    "duration": 17,
    "start_time": "2024-08-13T18:15:55.489Z"
   },
   {
    "duration": 5,
    "start_time": "2024-08-13T18:15:55.509Z"
   },
   {
    "duration": 22,
    "start_time": "2024-08-13T18:15:55.516Z"
   },
   {
    "duration": 7,
    "start_time": "2024-08-13T18:15:55.540Z"
   },
   {
    "duration": 7,
    "start_time": "2024-08-13T18:15:55.549Z"
   },
   {
    "duration": 745,
    "start_time": "2024-08-13T18:15:55.558Z"
   },
   {
    "duration": 898,
    "start_time": "2024-08-13T18:15:56.305Z"
   },
   {
    "duration": 571,
    "start_time": "2024-08-13T18:15:57.205Z"
   },
   {
    "duration": 581,
    "start_time": "2024-08-13T18:15:57.778Z"
   },
   {
    "duration": 6,
    "start_time": "2024-08-13T18:15:58.361Z"
   },
   {
    "duration": 19,
    "start_time": "2024-08-13T18:15:58.369Z"
   },
   {
    "duration": 4521,
    "start_time": "2024-08-13T18:15:58.389Z"
   },
   {
    "duration": 13,
    "start_time": "2024-08-13T18:16:02.912Z"
   },
   {
    "duration": 955,
    "start_time": "2024-08-13T18:16:02.927Z"
   },
   {
    "duration": 15,
    "start_time": "2024-08-13T18:16:03.883Z"
   },
   {
    "duration": 11,
    "start_time": "2024-08-13T18:16:03.900Z"
   },
   {
    "duration": 596,
    "start_time": "2024-08-13T18:16:03.913Z"
   },
   {
    "duration": 476,
    "start_time": "2024-08-13T18:16:04.511Z"
   },
   {
    "duration": 495,
    "start_time": "2024-08-13T18:16:04.989Z"
   },
   {
    "duration": 499,
    "start_time": "2024-08-13T18:16:05.486Z"
   },
   {
    "duration": 61,
    "start_time": "2024-08-13T18:16:05.986Z"
   },
   {
    "duration": 55,
    "start_time": "2024-08-13T18:16:06.049Z"
   },
   {
    "duration": 11,
    "start_time": "2024-08-13T18:16:06.106Z"
   },
   {
    "duration": 6,
    "start_time": "2024-08-13T18:16:06.120Z"
   },
   {
    "duration": 475,
    "start_time": "2024-08-13T18:16:06.129Z"
   },
   {
    "duration": 1647,
    "start_time": "2024-08-13T18:16:06.606Z"
   },
   {
    "duration": 14,
    "start_time": "2024-08-13T18:16:08.255Z"
   },
   {
    "duration": 9,
    "start_time": "2024-08-13T18:16:08.270Z"
   },
   {
    "duration": 13,
    "start_time": "2024-08-13T18:16:08.281Z"
   },
   {
    "duration": 17,
    "start_time": "2024-08-13T18:16:08.295Z"
   },
   {
    "duration": 12,
    "start_time": "2024-08-13T18:16:08.315Z"
   },
   {
    "duration": 7,
    "start_time": "2024-08-13T18:16:08.329Z"
   },
   {
    "duration": 6,
    "start_time": "2024-08-13T18:16:08.338Z"
   },
   {
    "duration": 6,
    "start_time": "2024-08-13T18:16:08.346Z"
   },
   {
    "duration": 15,
    "start_time": "2024-08-13T18:16:08.353Z"
   },
   {
    "duration": 38,
    "start_time": "2024-08-13T18:16:08.369Z"
   },
   {
    "duration": 16,
    "start_time": "2024-08-13T18:16:08.409Z"
   },
   {
    "duration": 28,
    "start_time": "2024-08-13T18:16:08.427Z"
   },
   {
    "duration": 19,
    "start_time": "2024-08-13T18:16:08.456Z"
   },
   {
    "duration": 2709,
    "start_time": "2024-08-13T18:17:09.398Z"
   },
   {
    "duration": 1262,
    "start_time": "2024-08-13T18:17:12.109Z"
   },
   {
    "duration": 80,
    "start_time": "2024-08-13T18:17:13.373Z"
   },
   {
    "duration": 18,
    "start_time": "2024-08-13T18:17:13.455Z"
   },
   {
    "duration": 8,
    "start_time": "2024-08-13T18:17:13.475Z"
   },
   {
    "duration": 125,
    "start_time": "2024-08-13T18:17:13.484Z"
   },
   {
    "duration": 4,
    "start_time": "2024-08-13T18:17:13.611Z"
   },
   {
    "duration": 11,
    "start_time": "2024-08-13T18:17:13.616Z"
   },
   {
    "duration": 7,
    "start_time": "2024-08-13T18:17:13.629Z"
   },
   {
    "duration": 7,
    "start_time": "2024-08-13T18:17:13.639Z"
   },
   {
    "duration": 18,
    "start_time": "2024-08-13T18:17:13.648Z"
   },
   {
    "duration": 94,
    "start_time": "2024-08-13T18:17:13.667Z"
   },
   {
    "duration": 41,
    "start_time": "2024-08-13T18:17:13.763Z"
   },
   {
    "duration": 6,
    "start_time": "2024-08-13T18:17:13.806Z"
   },
   {
    "duration": 10,
    "start_time": "2024-08-13T18:17:13.813Z"
   },
   {
    "duration": 642,
    "start_time": "2024-08-13T18:17:13.825Z"
   },
   {
    "duration": 881,
    "start_time": "2024-08-13T18:17:14.469Z"
   },
   {
    "duration": 8,
    "start_time": "2024-08-13T18:17:15.351Z"
   },
   {
    "duration": 79,
    "start_time": "2024-08-13T18:17:15.360Z"
   },
   {
    "duration": 9,
    "start_time": "2024-08-13T18:17:15.441Z"
   },
   {
    "duration": 41,
    "start_time": "2024-08-13T18:17:15.452Z"
   },
   {
    "duration": 16,
    "start_time": "2024-08-13T18:17:15.495Z"
   },
   {
    "duration": 16,
    "start_time": "2024-08-13T18:17:15.513Z"
   },
   {
    "duration": 16,
    "start_time": "2024-08-13T18:17:15.531Z"
   },
   {
    "duration": 23,
    "start_time": "2024-08-13T18:17:15.548Z"
   },
   {
    "duration": 44,
    "start_time": "2024-08-13T18:17:15.573Z"
   },
   {
    "duration": 20,
    "start_time": "2024-08-13T18:17:15.619Z"
   },
   {
    "duration": 11,
    "start_time": "2024-08-13T18:17:15.643Z"
   },
   {
    "duration": 6,
    "start_time": "2024-08-13T18:17:15.656Z"
   },
   {
    "duration": 74,
    "start_time": "2024-08-13T18:17:15.664Z"
   },
   {
    "duration": 38,
    "start_time": "2024-08-13T18:17:15.740Z"
   },
   {
    "duration": 11,
    "start_time": "2024-08-13T18:17:15.780Z"
   },
   {
    "duration": 8,
    "start_time": "2024-08-13T18:17:15.792Z"
   },
   {
    "duration": 19,
    "start_time": "2024-08-13T18:17:15.802Z"
   },
   {
    "duration": 15,
    "start_time": "2024-08-13T18:17:15.823Z"
   },
   {
    "duration": 8,
    "start_time": "2024-08-13T18:17:15.839Z"
   },
   {
    "duration": 24,
    "start_time": "2024-08-13T18:17:15.848Z"
   },
   {
    "duration": 16,
    "start_time": "2024-08-13T18:17:15.874Z"
   },
   {
    "duration": 55,
    "start_time": "2024-08-13T18:17:15.891Z"
   },
   {
    "duration": 70,
    "start_time": "2024-08-13T18:17:15.948Z"
   },
   {
    "duration": 90,
    "start_time": "2024-08-13T18:17:16.020Z"
   },
   {
    "duration": 10,
    "start_time": "2024-08-13T18:17:16.112Z"
   },
   {
    "duration": 9,
    "start_time": "2024-08-13T18:17:16.124Z"
   },
   {
    "duration": 7,
    "start_time": "2024-08-13T18:17:16.134Z"
   },
   {
    "duration": 7,
    "start_time": "2024-08-13T18:17:16.142Z"
   },
   {
    "duration": 730,
    "start_time": "2024-08-13T18:17:16.150Z"
   },
   {
    "duration": 913,
    "start_time": "2024-08-13T18:17:16.882Z"
   },
   {
    "duration": 554,
    "start_time": "2024-08-13T18:17:17.797Z"
   },
   {
    "duration": 568,
    "start_time": "2024-08-13T18:17:18.353Z"
   },
   {
    "duration": 7,
    "start_time": "2024-08-13T18:17:18.923Z"
   },
   {
    "duration": 28,
    "start_time": "2024-08-13T18:17:18.931Z"
   },
   {
    "duration": 4434,
    "start_time": "2024-08-13T18:17:18.961Z"
   },
   {
    "duration": 14,
    "start_time": "2024-08-13T18:17:23.397Z"
   },
   {
    "duration": 993,
    "start_time": "2024-08-13T18:17:23.413Z"
   },
   {
    "duration": 16,
    "start_time": "2024-08-13T18:17:24.407Z"
   },
   {
    "duration": 24,
    "start_time": "2024-08-13T18:17:24.425Z"
   },
   {
    "duration": 578,
    "start_time": "2024-08-13T18:17:24.451Z"
   },
   {
    "duration": 460,
    "start_time": "2024-08-13T18:17:25.031Z"
   },
   {
    "duration": 482,
    "start_time": "2024-08-13T18:17:25.493Z"
   },
   {
    "duration": 504,
    "start_time": "2024-08-13T18:17:25.977Z"
   },
   {
    "duration": 59,
    "start_time": "2024-08-13T18:17:26.483Z"
   },
   {
    "duration": 9,
    "start_time": "2024-08-13T18:17:26.544Z"
   },
   {
    "duration": 6,
    "start_time": "2024-08-13T18:17:26.554Z"
   },
   {
    "duration": 13,
    "start_time": "2024-08-13T18:17:26.561Z"
   },
   {
    "duration": 506,
    "start_time": "2024-08-13T18:17:26.575Z"
   },
   {
    "duration": 1615,
    "start_time": "2024-08-13T18:17:27.082Z"
   },
   {
    "duration": 18,
    "start_time": "2024-08-13T18:17:28.699Z"
   },
   {
    "duration": 16,
    "start_time": "2024-08-13T18:17:28.719Z"
   },
   {
    "duration": 13,
    "start_time": "2024-08-13T18:17:28.736Z"
   },
   {
    "duration": 5,
    "start_time": "2024-08-13T18:17:28.751Z"
   },
   {
    "duration": 17,
    "start_time": "2024-08-13T18:17:28.759Z"
   },
   {
    "duration": 7,
    "start_time": "2024-08-13T18:17:28.778Z"
   },
   {
    "duration": 26,
    "start_time": "2024-08-13T18:17:28.786Z"
   },
   {
    "duration": 17,
    "start_time": "2024-08-13T18:17:28.815Z"
   },
   {
    "duration": 18,
    "start_time": "2024-08-13T18:17:28.834Z"
   },
   {
    "duration": 17,
    "start_time": "2024-08-13T18:17:28.853Z"
   },
   {
    "duration": 16,
    "start_time": "2024-08-13T18:17:28.871Z"
   },
   {
    "duration": 36,
    "start_time": "2024-08-13T18:17:28.906Z"
   },
   {
    "duration": 22,
    "start_time": "2024-08-13T18:17:28.944Z"
   },
   {
    "duration": 15,
    "start_time": "2024-08-13T18:24:53.878Z"
   },
   {
    "duration": 17,
    "start_time": "2024-08-13T18:24:56.757Z"
   },
   {
    "duration": 14,
    "start_time": "2024-08-13T18:24:58.578Z"
   },
   {
    "duration": 2595,
    "start_time": "2024-08-13T18:27:14.466Z"
   },
   {
    "duration": 1231,
    "start_time": "2024-08-13T18:27:17.064Z"
   },
   {
    "duration": 78,
    "start_time": "2024-08-13T18:27:18.297Z"
   },
   {
    "duration": 16,
    "start_time": "2024-08-13T18:27:18.377Z"
   },
   {
    "duration": 6,
    "start_time": "2024-08-13T18:27:18.395Z"
   },
   {
    "duration": 123,
    "start_time": "2024-08-13T18:27:18.403Z"
   },
   {
    "duration": 4,
    "start_time": "2024-08-13T18:27:18.528Z"
   },
   {
    "duration": 28,
    "start_time": "2024-08-13T18:27:18.534Z"
   },
   {
    "duration": 20,
    "start_time": "2024-08-13T18:27:18.564Z"
   },
   {
    "duration": 11,
    "start_time": "2024-08-13T18:27:18.588Z"
   },
   {
    "duration": 41,
    "start_time": "2024-08-13T18:27:18.601Z"
   },
   {
    "duration": 4,
    "start_time": "2024-08-13T18:27:18.643Z"
   },
   {
    "duration": 27,
    "start_time": "2024-08-13T18:27:18.649Z"
   },
   {
    "duration": 23,
    "start_time": "2024-08-13T18:27:18.677Z"
   },
   {
    "duration": 23,
    "start_time": "2024-08-13T18:27:18.702Z"
   },
   {
    "duration": 638,
    "start_time": "2024-08-13T18:27:18.728Z"
   },
   {
    "duration": 827,
    "start_time": "2024-08-13T18:27:19.368Z"
   },
   {
    "duration": 16,
    "start_time": "2024-08-13T18:27:20.196Z"
   },
   {
    "duration": 63,
    "start_time": "2024-08-13T18:27:20.214Z"
   },
   {
    "duration": 10,
    "start_time": "2024-08-13T18:27:20.278Z"
   },
   {
    "duration": 64,
    "start_time": "2024-08-13T18:27:20.306Z"
   },
   {
    "duration": 9,
    "start_time": "2024-08-13T18:27:20.372Z"
   },
   {
    "duration": 29,
    "start_time": "2024-08-13T18:27:20.383Z"
   },
   {
    "duration": 12,
    "start_time": "2024-08-13T18:27:20.415Z"
   },
   {
    "duration": 25,
    "start_time": "2024-08-13T18:27:20.429Z"
   },
   {
    "duration": 22,
    "start_time": "2024-08-13T18:27:20.455Z"
   },
   {
    "duration": 44,
    "start_time": "2024-08-13T18:27:20.478Z"
   },
   {
    "duration": 12,
    "start_time": "2024-08-13T18:27:20.527Z"
   },
   {
    "duration": 15,
    "start_time": "2024-08-13T18:27:20.541Z"
   },
   {
    "duration": 16,
    "start_time": "2024-08-13T18:27:20.558Z"
   },
   {
    "duration": 42,
    "start_time": "2024-08-13T18:27:20.575Z"
   },
   {
    "duration": 16,
    "start_time": "2024-08-13T18:27:20.619Z"
   },
   {
    "duration": 11,
    "start_time": "2024-08-13T18:27:20.638Z"
   },
   {
    "duration": 48,
    "start_time": "2024-08-13T18:27:20.651Z"
   },
   {
    "duration": 16,
    "start_time": "2024-08-13T18:27:20.701Z"
   },
   {
    "duration": 11,
    "start_time": "2024-08-13T18:27:20.722Z"
   },
   {
    "duration": 3,
    "start_time": "2024-08-13T18:27:20.736Z"
   },
   {
    "duration": 18,
    "start_time": "2024-08-13T18:27:20.741Z"
   },
   {
    "duration": 34,
    "start_time": "2024-08-13T18:27:20.761Z"
   },
   {
    "duration": 20,
    "start_time": "2024-08-13T18:27:20.797Z"
   },
   {
    "duration": 21,
    "start_time": "2024-08-13T18:27:20.820Z"
   },
   {
    "duration": 20,
    "start_time": "2024-08-13T18:27:20.843Z"
   },
   {
    "duration": 24,
    "start_time": "2024-08-13T18:27:20.866Z"
   },
   {
    "duration": 29,
    "start_time": "2024-08-13T18:27:20.892Z"
   },
   {
    "duration": 53,
    "start_time": "2024-08-13T18:27:20.924Z"
   },
   {
    "duration": 705,
    "start_time": "2024-08-13T18:27:20.979Z"
   },
   {
    "duration": 896,
    "start_time": "2024-08-13T18:27:21.686Z"
   },
   {
    "duration": 649,
    "start_time": "2024-08-13T18:27:22.583Z"
   },
   {
    "duration": 550,
    "start_time": "2024-08-13T18:27:23.234Z"
   },
   {
    "duration": 20,
    "start_time": "2024-08-13T18:27:23.787Z"
   },
   {
    "duration": 22,
    "start_time": "2024-08-13T18:27:23.810Z"
   },
   {
    "duration": 4866,
    "start_time": "2024-08-13T18:27:23.834Z"
   },
   {
    "duration": 13,
    "start_time": "2024-08-13T18:27:28.702Z"
   },
   {
    "duration": 1035,
    "start_time": "2024-08-13T18:27:28.717Z"
   },
   {
    "duration": 17,
    "start_time": "2024-08-13T18:27:29.754Z"
   },
   {
    "duration": 6,
    "start_time": "2024-08-13T18:27:29.773Z"
   },
   {
    "duration": 649,
    "start_time": "2024-08-13T18:27:29.781Z"
   },
   {
    "duration": 481,
    "start_time": "2024-08-13T18:27:30.432Z"
   },
   {
    "duration": 484,
    "start_time": "2024-08-13T18:27:30.915Z"
   },
   {
    "duration": 522,
    "start_time": "2024-08-13T18:27:31.405Z"
   },
   {
    "duration": 43,
    "start_time": "2024-08-13T18:27:31.930Z"
   },
   {
    "duration": 13,
    "start_time": "2024-08-13T18:27:31.975Z"
   },
   {
    "duration": 27,
    "start_time": "2024-08-13T18:27:31.990Z"
   },
   {
    "duration": 15,
    "start_time": "2024-08-13T18:27:32.020Z"
   },
   {
    "duration": 457,
    "start_time": "2024-08-13T18:27:32.037Z"
   },
   {
    "duration": 1805,
    "start_time": "2024-08-13T18:27:32.496Z"
   },
   {
    "duration": 17,
    "start_time": "2024-08-13T18:27:34.303Z"
   },
   {
    "duration": 8,
    "start_time": "2024-08-13T18:27:34.322Z"
   },
   {
    "duration": 13,
    "start_time": "2024-08-13T18:27:34.331Z"
   },
   {
    "duration": 10,
    "start_time": "2024-08-13T18:27:34.346Z"
   },
   {
    "duration": 8,
    "start_time": "2024-08-13T18:27:34.358Z"
   },
   {
    "duration": 39,
    "start_time": "2024-08-13T18:27:34.368Z"
   },
   {
    "duration": 10,
    "start_time": "2024-08-13T18:27:34.410Z"
   },
   {
    "duration": 9,
    "start_time": "2024-08-13T18:27:34.424Z"
   },
   {
    "duration": 15,
    "start_time": "2024-08-13T18:27:34.435Z"
   },
   {
    "duration": 13,
    "start_time": "2024-08-13T18:27:34.453Z"
   },
   {
    "duration": 57,
    "start_time": "2024-08-13T18:27:34.468Z"
   },
   {
    "duration": 17,
    "start_time": "2024-08-13T18:27:34.527Z"
   },
   {
    "duration": 3383,
    "start_time": "2024-08-15T05:27:47.859Z"
   },
   {
    "duration": 1366,
    "start_time": "2024-08-15T05:27:51.244Z"
   },
   {
    "duration": 104,
    "start_time": "2024-08-15T05:27:52.612Z"
   },
   {
    "duration": 17,
    "start_time": "2024-08-15T05:27:52.718Z"
   },
   {
    "duration": 25,
    "start_time": "2024-08-15T05:27:52.737Z"
   },
   {
    "duration": 130,
    "start_time": "2024-08-15T05:27:52.763Z"
   },
   {
    "duration": 4,
    "start_time": "2024-08-15T05:27:52.896Z"
   },
   {
    "duration": 64,
    "start_time": "2024-08-15T05:27:52.901Z"
   },
   {
    "duration": 5,
    "start_time": "2024-08-15T05:27:52.967Z"
   },
   {
    "duration": 9,
    "start_time": "2024-08-15T05:27:52.974Z"
   },
   {
    "duration": 23,
    "start_time": "2024-08-15T05:27:52.984Z"
   },
   {
    "duration": 5,
    "start_time": "2024-08-15T05:27:53.009Z"
   },
   {
    "duration": 31,
    "start_time": "2024-08-15T05:27:53.015Z"
   },
   {
    "duration": 6,
    "start_time": "2024-08-15T05:27:53.049Z"
   },
   {
    "duration": 13,
    "start_time": "2024-08-15T05:27:53.056Z"
   },
   {
    "duration": 525,
    "start_time": "2024-08-15T05:27:53.071Z"
   },
   {
    "duration": 817,
    "start_time": "2024-08-15T05:27:53.598Z"
   },
   {
    "duration": 7,
    "start_time": "2024-08-15T05:27:54.417Z"
   },
   {
    "duration": 72,
    "start_time": "2024-08-15T05:27:54.426Z"
   },
   {
    "duration": 9,
    "start_time": "2024-08-15T05:27:54.500Z"
   },
   {
    "duration": 81,
    "start_time": "2024-08-15T05:27:54.510Z"
   },
   {
    "duration": 8,
    "start_time": "2024-08-15T05:27:54.593Z"
   },
   {
    "duration": 15,
    "start_time": "2024-08-15T05:27:54.603Z"
   },
   {
    "duration": 8,
    "start_time": "2024-08-15T05:27:54.620Z"
   },
   {
    "duration": 29,
    "start_time": "2024-08-15T05:27:54.630Z"
   },
   {
    "duration": 22,
    "start_time": "2024-08-15T05:27:54.661Z"
   },
   {
    "duration": 23,
    "start_time": "2024-08-15T05:27:54.685Z"
   },
   {
    "duration": 36,
    "start_time": "2024-08-15T05:27:54.713Z"
   },
   {
    "duration": 7,
    "start_time": "2024-08-15T05:27:54.750Z"
   },
   {
    "duration": 15,
    "start_time": "2024-08-15T05:27:54.758Z"
   },
   {
    "duration": 20,
    "start_time": "2024-08-15T05:27:54.775Z"
   },
   {
    "duration": 13,
    "start_time": "2024-08-15T05:27:54.797Z"
   },
   {
    "duration": 6,
    "start_time": "2024-08-15T05:27:54.812Z"
   },
   {
    "duration": 28,
    "start_time": "2024-08-15T05:27:54.820Z"
   },
   {
    "duration": 9,
    "start_time": "2024-08-15T05:27:54.849Z"
   },
   {
    "duration": 20,
    "start_time": "2024-08-15T05:27:54.860Z"
   },
   {
    "duration": 73,
    "start_time": "2024-08-15T05:27:54.882Z"
   },
   {
    "duration": 17,
    "start_time": "2024-08-15T05:27:54.957Z"
   },
   {
    "duration": 19,
    "start_time": "2024-08-15T05:27:54.975Z"
   },
   {
    "duration": 12,
    "start_time": "2024-08-15T05:27:54.996Z"
   },
   {
    "duration": 31,
    "start_time": "2024-08-15T05:27:55.010Z"
   },
   {
    "duration": 19,
    "start_time": "2024-08-15T05:27:55.043Z"
   },
   {
    "duration": 30,
    "start_time": "2024-08-15T05:27:55.064Z"
   },
   {
    "duration": 15,
    "start_time": "2024-08-15T05:27:55.096Z"
   },
   {
    "duration": 8,
    "start_time": "2024-08-15T05:27:55.113Z"
   },
   {
    "duration": 641,
    "start_time": "2024-08-15T05:27:55.123Z"
   },
   {
    "duration": 861,
    "start_time": "2024-08-15T05:27:55.766Z"
   },
   {
    "duration": 530,
    "start_time": "2024-08-15T05:27:56.629Z"
   },
   {
    "duration": 526,
    "start_time": "2024-08-15T05:27:57.161Z"
   },
   {
    "duration": 6,
    "start_time": "2024-08-15T05:27:57.689Z"
   },
   {
    "duration": 16,
    "start_time": "2024-08-15T05:27:57.697Z"
   },
   {
    "duration": 4250,
    "start_time": "2024-08-15T05:27:57.715Z"
   },
   {
    "duration": 10,
    "start_time": "2024-08-15T05:28:01.967Z"
   },
   {
    "duration": 1065,
    "start_time": "2024-08-15T05:28:01.978Z"
   },
   {
    "duration": 15,
    "start_time": "2024-08-15T05:28:03.046Z"
   },
   {
    "duration": 108,
    "start_time": "2024-08-15T05:28:03.063Z"
   },
   {
    "duration": 474,
    "start_time": "2024-08-15T05:28:03.173Z"
   },
   {
    "duration": 384,
    "start_time": "2024-08-15T05:28:03.649Z"
   },
   {
    "duration": 450,
    "start_time": "2024-08-15T05:28:04.035Z"
   },
   {
    "duration": 418,
    "start_time": "2024-08-15T05:28:04.487Z"
   },
   {
    "duration": 54,
    "start_time": "2024-08-15T05:28:04.907Z"
   },
   {
    "duration": 9,
    "start_time": "2024-08-15T05:28:04.963Z"
   },
   {
    "duration": 4,
    "start_time": "2024-08-15T05:28:04.974Z"
   },
   {
    "duration": 5,
    "start_time": "2024-08-15T05:28:04.979Z"
   },
   {
    "duration": 495,
    "start_time": "2024-08-15T05:28:04.986Z"
   },
   {
    "duration": 1506,
    "start_time": "2024-08-15T05:28:05.483Z"
   },
   {
    "duration": 12,
    "start_time": "2024-08-15T05:28:06.991Z"
   },
   {
    "duration": 14,
    "start_time": "2024-08-15T05:28:07.005Z"
   },
   {
    "duration": 15,
    "start_time": "2024-08-15T05:28:07.021Z"
   },
   {
    "duration": 15,
    "start_time": "2024-08-15T05:28:07.037Z"
   },
   {
    "duration": 8,
    "start_time": "2024-08-15T05:28:07.054Z"
   },
   {
    "duration": 16,
    "start_time": "2024-08-15T05:28:07.064Z"
   },
   {
    "duration": 13,
    "start_time": "2024-08-15T05:28:07.082Z"
   },
   {
    "duration": 17,
    "start_time": "2024-08-15T05:28:07.096Z"
   },
   {
    "duration": 37,
    "start_time": "2024-08-15T05:28:07.115Z"
   },
   {
    "duration": 19,
    "start_time": "2024-08-15T05:28:07.155Z"
   },
   {
    "duration": 75,
    "start_time": "2024-08-15T05:28:07.176Z"
   },
   {
    "duration": 15,
    "start_time": "2024-08-15T05:28:07.253Z"
   },
   {
    "duration": 4,
    "start_time": "2024-08-15T05:34:20.301Z"
   },
   {
    "duration": 3,
    "start_time": "2024-08-15T05:36:26.306Z"
   },
   {
    "duration": 102,
    "start_time": "2024-08-15T05:37:06.771Z"
   },
   {
    "duration": 12,
    "start_time": "2024-08-15T05:37:14.555Z"
   },
   {
    "duration": 3,
    "start_time": "2024-08-15T05:37:20.318Z"
   },
   {
    "duration": 58,
    "start_time": "2024-08-15T05:37:20.931Z"
   },
   {
    "duration": 41,
    "start_time": "2024-08-15T05:40:00.756Z"
   },
   {
    "duration": 2389,
    "start_time": "2024-08-15T05:40:46.834Z"
   },
   {
    "duration": 1245,
    "start_time": "2024-08-15T05:40:49.225Z"
   },
   {
    "duration": 33,
    "start_time": "2024-08-15T05:40:50.472Z"
   },
   {
    "duration": 98,
    "start_time": "2024-08-15T05:40:50.506Z"
   },
   {
    "duration": 0,
    "start_time": "2024-08-15T05:40:50.607Z"
   },
   {
    "duration": 0,
    "start_time": "2024-08-15T05:40:50.608Z"
   },
   {
    "duration": 0,
    "start_time": "2024-08-15T05:40:50.609Z"
   },
   {
    "duration": 0,
    "start_time": "2024-08-15T05:40:50.610Z"
   },
   {
    "duration": 0,
    "start_time": "2024-08-15T05:40:50.612Z"
   },
   {
    "duration": 0,
    "start_time": "2024-08-15T05:40:50.612Z"
   },
   {
    "duration": 0,
    "start_time": "2024-08-15T05:40:50.613Z"
   },
   {
    "duration": 0,
    "start_time": "2024-08-15T05:40:50.615Z"
   },
   {
    "duration": 0,
    "start_time": "2024-08-15T05:40:50.616Z"
   },
   {
    "duration": 0,
    "start_time": "2024-08-15T05:40:50.616Z"
   },
   {
    "duration": 0,
    "start_time": "2024-08-15T05:40:50.617Z"
   },
   {
    "duration": 0,
    "start_time": "2024-08-15T05:40:50.618Z"
   },
   {
    "duration": 0,
    "start_time": "2024-08-15T05:40:50.619Z"
   },
   {
    "duration": 0,
    "start_time": "2024-08-15T05:40:50.620Z"
   },
   {
    "duration": 0,
    "start_time": "2024-08-15T05:40:50.621Z"
   },
   {
    "duration": 0,
    "start_time": "2024-08-15T05:40:50.647Z"
   },
   {
    "duration": 0,
    "start_time": "2024-08-15T05:40:50.648Z"
   },
   {
    "duration": 0,
    "start_time": "2024-08-15T05:40:50.650Z"
   },
   {
    "duration": 0,
    "start_time": "2024-08-15T05:40:50.651Z"
   },
   {
    "duration": 0,
    "start_time": "2024-08-15T05:40:50.652Z"
   },
   {
    "duration": 0,
    "start_time": "2024-08-15T05:40:50.653Z"
   },
   {
    "duration": 0,
    "start_time": "2024-08-15T05:40:50.654Z"
   },
   {
    "duration": 0,
    "start_time": "2024-08-15T05:40:50.655Z"
   },
   {
    "duration": 0,
    "start_time": "2024-08-15T05:40:50.656Z"
   },
   {
    "duration": 0,
    "start_time": "2024-08-15T05:40:50.657Z"
   },
   {
    "duration": 0,
    "start_time": "2024-08-15T05:40:50.658Z"
   },
   {
    "duration": 0,
    "start_time": "2024-08-15T05:40:50.659Z"
   },
   {
    "duration": 0,
    "start_time": "2024-08-15T05:40:50.660Z"
   },
   {
    "duration": 0,
    "start_time": "2024-08-15T05:40:50.661Z"
   },
   {
    "duration": 0,
    "start_time": "2024-08-15T05:40:50.662Z"
   },
   {
    "duration": 0,
    "start_time": "2024-08-15T05:40:50.664Z"
   },
   {
    "duration": 0,
    "start_time": "2024-08-15T05:40:50.664Z"
   },
   {
    "duration": 0,
    "start_time": "2024-08-15T05:40:50.665Z"
   },
   {
    "duration": 0,
    "start_time": "2024-08-15T05:40:50.666Z"
   },
   {
    "duration": 0,
    "start_time": "2024-08-15T05:40:50.667Z"
   },
   {
    "duration": 0,
    "start_time": "2024-08-15T05:40:50.668Z"
   },
   {
    "duration": 0,
    "start_time": "2024-08-15T05:40:50.669Z"
   },
   {
    "duration": 0,
    "start_time": "2024-08-15T05:40:50.670Z"
   },
   {
    "duration": 0,
    "start_time": "2024-08-15T05:40:50.671Z"
   },
   {
    "duration": 0,
    "start_time": "2024-08-15T05:40:50.672Z"
   },
   {
    "duration": 0,
    "start_time": "2024-08-15T05:40:50.674Z"
   },
   {
    "duration": 0,
    "start_time": "2024-08-15T05:40:50.674Z"
   },
   {
    "duration": 0,
    "start_time": "2024-08-15T05:40:50.676Z"
   },
   {
    "duration": 0,
    "start_time": "2024-08-15T05:40:50.676Z"
   },
   {
    "duration": 0,
    "start_time": "2024-08-15T05:40:50.677Z"
   },
   {
    "duration": 0,
    "start_time": "2024-08-15T05:40:50.678Z"
   },
   {
    "duration": 0,
    "start_time": "2024-08-15T05:40:50.679Z"
   },
   {
    "duration": 0,
    "start_time": "2024-08-15T05:40:50.680Z"
   },
   {
    "duration": 0,
    "start_time": "2024-08-15T05:40:50.680Z"
   },
   {
    "duration": 0,
    "start_time": "2024-08-15T05:40:50.681Z"
   },
   {
    "duration": 0,
    "start_time": "2024-08-15T05:40:50.682Z"
   },
   {
    "duration": 0,
    "start_time": "2024-08-15T05:40:50.683Z"
   },
   {
    "duration": 0,
    "start_time": "2024-08-15T05:40:50.684Z"
   },
   {
    "duration": 1,
    "start_time": "2024-08-15T05:40:50.684Z"
   },
   {
    "duration": 0,
    "start_time": "2024-08-15T05:40:50.747Z"
   },
   {
    "duration": 0,
    "start_time": "2024-08-15T05:40:50.748Z"
   },
   {
    "duration": 0,
    "start_time": "2024-08-15T05:40:50.749Z"
   },
   {
    "duration": 0,
    "start_time": "2024-08-15T05:40:50.750Z"
   },
   {
    "duration": 0,
    "start_time": "2024-08-15T05:40:50.751Z"
   },
   {
    "duration": 0,
    "start_time": "2024-08-15T05:40:50.752Z"
   },
   {
    "duration": 0,
    "start_time": "2024-08-15T05:40:50.753Z"
   },
   {
    "duration": 0,
    "start_time": "2024-08-15T05:40:50.754Z"
   },
   {
    "duration": 0,
    "start_time": "2024-08-15T05:40:50.755Z"
   },
   {
    "duration": 0,
    "start_time": "2024-08-15T05:40:50.756Z"
   },
   {
    "duration": 0,
    "start_time": "2024-08-15T05:40:50.757Z"
   },
   {
    "duration": 0,
    "start_time": "2024-08-15T05:40:50.758Z"
   },
   {
    "duration": 0,
    "start_time": "2024-08-15T05:40:50.759Z"
   },
   {
    "duration": 0,
    "start_time": "2024-08-15T05:40:50.760Z"
   },
   {
    "duration": 0,
    "start_time": "2024-08-15T05:40:50.760Z"
   },
   {
    "duration": 0,
    "start_time": "2024-08-15T05:40:50.761Z"
   },
   {
    "duration": 0,
    "start_time": "2024-08-15T05:40:50.762Z"
   },
   {
    "duration": 0,
    "start_time": "2024-08-15T05:40:50.763Z"
   },
   {
    "duration": 0,
    "start_time": "2024-08-15T05:40:50.764Z"
   },
   {
    "duration": 0,
    "start_time": "2024-08-15T05:40:50.765Z"
   },
   {
    "duration": 47,
    "start_time": "2024-08-15T05:47:07.100Z"
   },
   {
    "duration": 64,
    "start_time": "2024-08-15T05:51:42.342Z"
   },
   {
    "duration": 93,
    "start_time": "2024-08-15T05:52:09.582Z"
   },
   {
    "duration": 90,
    "start_time": "2024-08-15T05:52:47.791Z"
   },
   {
    "duration": 17,
    "start_time": "2024-08-15T05:52:49.626Z"
   },
   {
    "duration": 88,
    "start_time": "2024-08-15T05:53:18.263Z"
   },
   {
    "duration": 72,
    "start_time": "2024-08-15T05:54:35.164Z"
   },
   {
    "duration": 30,
    "start_time": "2024-08-15T05:54:45.207Z"
   },
   {
    "duration": 75,
    "start_time": "2024-08-15T05:55:57.392Z"
   },
   {
    "duration": 62,
    "start_time": "2024-08-15T05:56:02.052Z"
   },
   {
    "duration": 40,
    "start_time": "2024-08-15T05:56:05.320Z"
   },
   {
    "duration": 2549,
    "start_time": "2024-08-15T05:56:14.492Z"
   },
   {
    "duration": 1253,
    "start_time": "2024-08-15T05:56:17.043Z"
   },
   {
    "duration": 61,
    "start_time": "2024-08-15T05:56:18.297Z"
   },
   {
    "duration": 36,
    "start_time": "2024-08-15T05:56:18.360Z"
   },
   {
    "duration": 17,
    "start_time": "2024-08-15T05:56:18.398Z"
   },
   {
    "duration": 6,
    "start_time": "2024-08-15T05:56:18.416Z"
   },
   {
    "duration": 109,
    "start_time": "2024-08-15T05:56:18.424Z"
   },
   {
    "duration": 4,
    "start_time": "2024-08-15T05:56:18.534Z"
   },
   {
    "duration": 5,
    "start_time": "2024-08-15T05:56:18.548Z"
   },
   {
    "duration": 5,
    "start_time": "2024-08-15T05:56:18.556Z"
   },
   {
    "duration": 4,
    "start_time": "2024-08-15T05:56:18.563Z"
   },
   {
    "duration": 22,
    "start_time": "2024-08-15T05:56:18.568Z"
   },
   {
    "duration": 4,
    "start_time": "2024-08-15T05:56:18.592Z"
   },
   {
    "duration": 56,
    "start_time": "2024-08-15T05:56:18.598Z"
   },
   {
    "duration": 5,
    "start_time": "2024-08-15T05:56:18.655Z"
   },
   {
    "duration": 6,
    "start_time": "2024-08-15T05:56:18.661Z"
   },
   {
    "duration": 582,
    "start_time": "2024-08-15T05:56:18.668Z"
   },
   {
    "duration": 717,
    "start_time": "2024-08-15T05:56:19.253Z"
   },
   {
    "duration": 6,
    "start_time": "2024-08-15T05:56:19.972Z"
   },
   {
    "duration": 43,
    "start_time": "2024-08-15T05:56:19.980Z"
   },
   {
    "duration": 9,
    "start_time": "2024-08-15T05:56:20.024Z"
   },
   {
    "duration": 43,
    "start_time": "2024-08-15T05:56:20.046Z"
   },
   {
    "duration": 9,
    "start_time": "2024-08-15T05:56:20.090Z"
   },
   {
    "duration": 7,
    "start_time": "2024-08-15T05:56:20.100Z"
   },
   {
    "duration": 6,
    "start_time": "2024-08-15T05:56:20.109Z"
   },
   {
    "duration": 44,
    "start_time": "2024-08-15T05:56:20.117Z"
   },
   {
    "duration": 21,
    "start_time": "2024-08-15T05:56:20.163Z"
   },
   {
    "duration": 15,
    "start_time": "2024-08-15T05:56:20.188Z"
   },
   {
    "duration": 9,
    "start_time": "2024-08-15T05:56:20.205Z"
   },
   {
    "duration": 36,
    "start_time": "2024-08-15T05:56:20.215Z"
   },
   {
    "duration": 45,
    "start_time": "2024-08-15T05:56:20.253Z"
   },
   {
    "duration": 14,
    "start_time": "2024-08-15T05:56:20.300Z"
   },
   {
    "duration": 6,
    "start_time": "2024-08-15T05:56:20.316Z"
   },
   {
    "duration": 12,
    "start_time": "2024-08-15T05:56:20.324Z"
   },
   {
    "duration": 14,
    "start_time": "2024-08-15T05:56:20.337Z"
   },
   {
    "duration": 14,
    "start_time": "2024-08-15T05:56:20.353Z"
   },
   {
    "duration": 9,
    "start_time": "2024-08-15T05:56:20.370Z"
   },
   {
    "duration": 7,
    "start_time": "2024-08-15T05:56:20.381Z"
   },
   {
    "duration": 5,
    "start_time": "2024-08-15T05:56:20.389Z"
   },
   {
    "duration": 5,
    "start_time": "2024-08-15T05:56:20.396Z"
   },
   {
    "duration": 17,
    "start_time": "2024-08-15T05:56:20.402Z"
   },
   {
    "duration": 15,
    "start_time": "2024-08-15T05:56:20.420Z"
   },
   {
    "duration": 12,
    "start_time": "2024-08-15T05:56:20.437Z"
   },
   {
    "duration": 21,
    "start_time": "2024-08-15T05:56:20.450Z"
   },
   {
    "duration": 20,
    "start_time": "2024-08-15T05:56:20.472Z"
   },
   {
    "duration": 27,
    "start_time": "2024-08-15T05:56:20.494Z"
   },
   {
    "duration": 667,
    "start_time": "2024-08-15T05:56:20.523Z"
   },
   {
    "duration": 831,
    "start_time": "2024-08-15T05:56:21.192Z"
   },
   {
    "duration": 512,
    "start_time": "2024-08-15T05:56:22.025Z"
   },
   {
    "duration": 524,
    "start_time": "2024-08-15T05:56:22.538Z"
   },
   {
    "duration": 6,
    "start_time": "2024-08-15T05:56:23.064Z"
   },
   {
    "duration": 13,
    "start_time": "2024-08-15T05:56:23.071Z"
   },
   {
    "duration": 4074,
    "start_time": "2024-08-15T05:56:23.086Z"
   },
   {
    "duration": 9,
    "start_time": "2024-08-15T05:56:27.162Z"
   },
   {
    "duration": 917,
    "start_time": "2024-08-15T05:56:27.173Z"
   },
   {
    "duration": 14,
    "start_time": "2024-08-15T05:56:28.092Z"
   },
   {
    "duration": 16,
    "start_time": "2024-08-15T05:56:28.108Z"
   },
   {
    "duration": 494,
    "start_time": "2024-08-15T05:56:28.125Z"
   },
   {
    "duration": 386,
    "start_time": "2024-08-15T05:56:28.620Z"
   },
   {
    "duration": 407,
    "start_time": "2024-08-15T05:56:29.008Z"
   },
   {
    "duration": 404,
    "start_time": "2024-08-15T05:56:29.417Z"
   },
   {
    "duration": 59,
    "start_time": "2024-08-15T05:56:29.823Z"
   },
   {
    "duration": 9,
    "start_time": "2024-08-15T05:56:29.883Z"
   },
   {
    "duration": 3,
    "start_time": "2024-08-15T05:56:29.894Z"
   },
   {
    "duration": 5,
    "start_time": "2024-08-15T05:56:29.898Z"
   },
   {
    "duration": 458,
    "start_time": "2024-08-15T05:56:29.904Z"
   },
   {
    "duration": 1541,
    "start_time": "2024-08-15T05:56:30.364Z"
   },
   {
    "duration": 12,
    "start_time": "2024-08-15T05:56:31.907Z"
   },
   {
    "duration": 85,
    "start_time": "2024-08-15T05:56:31.921Z"
   },
   {
    "duration": 12,
    "start_time": "2024-08-15T05:56:32.007Z"
   },
   {
    "duration": 4,
    "start_time": "2024-08-15T05:56:32.021Z"
   },
   {
    "duration": 5,
    "start_time": "2024-08-15T05:56:32.026Z"
   },
   {
    "duration": 7,
    "start_time": "2024-08-15T05:56:32.033Z"
   },
   {
    "duration": 9,
    "start_time": "2024-08-15T05:56:32.041Z"
   },
   {
    "duration": 6,
    "start_time": "2024-08-15T05:56:32.052Z"
   },
   {
    "duration": 16,
    "start_time": "2024-08-15T05:56:32.060Z"
   },
   {
    "duration": 13,
    "start_time": "2024-08-15T05:56:32.077Z"
   },
   {
    "duration": 11,
    "start_time": "2024-08-15T05:56:32.092Z"
   },
   {
    "duration": 43,
    "start_time": "2024-08-15T05:56:32.105Z"
   },
   {
    "duration": 61,
    "start_time": "2024-08-15T05:57:35.589Z"
   },
   {
    "duration": 68,
    "start_time": "2024-08-15T05:57:48.921Z"
   },
   {
    "duration": 2377,
    "start_time": "2024-08-15T05:58:10.501Z"
   },
   {
    "duration": 1211,
    "start_time": "2024-08-15T05:58:12.881Z"
   },
   {
    "duration": 69,
    "start_time": "2024-08-15T05:58:14.094Z"
   },
   {
    "duration": 16,
    "start_time": "2024-08-15T05:58:14.165Z"
   },
   {
    "duration": 6,
    "start_time": "2024-08-15T05:58:14.182Z"
   },
   {
    "duration": 126,
    "start_time": "2024-08-15T05:58:14.189Z"
   },
   {
    "duration": 4,
    "start_time": "2024-08-15T05:58:14.317Z"
   },
   {
    "duration": 13,
    "start_time": "2024-08-15T05:58:14.322Z"
   },
   {
    "duration": 4,
    "start_time": "2024-08-15T05:58:14.347Z"
   },
   {
    "duration": 4,
    "start_time": "2024-08-15T05:58:14.354Z"
   },
   {
    "duration": 20,
    "start_time": "2024-08-15T05:58:14.360Z"
   },
   {
    "duration": 5,
    "start_time": "2024-08-15T05:58:14.382Z"
   },
   {
    "duration": 21,
    "start_time": "2024-08-15T05:58:14.388Z"
   },
   {
    "duration": 37,
    "start_time": "2024-08-15T05:58:14.410Z"
   },
   {
    "duration": 6,
    "start_time": "2024-08-15T05:58:14.449Z"
   },
   {
    "duration": 529,
    "start_time": "2024-08-15T05:58:14.456Z"
   },
   {
    "duration": 782,
    "start_time": "2024-08-15T05:58:14.987Z"
   },
   {
    "duration": 7,
    "start_time": "2024-08-15T05:58:15.770Z"
   },
   {
    "duration": 49,
    "start_time": "2024-08-15T05:58:15.779Z"
   },
   {
    "duration": 19,
    "start_time": "2024-08-15T05:58:15.830Z"
   },
   {
    "duration": 58,
    "start_time": "2024-08-15T05:58:15.851Z"
   },
   {
    "duration": 10,
    "start_time": "2024-08-15T05:58:15.910Z"
   },
   {
    "duration": 76,
    "start_time": "2024-08-15T05:58:15.922Z"
   },
   {
    "duration": 10,
    "start_time": "2024-08-15T05:58:16.000Z"
   },
   {
    "duration": 23,
    "start_time": "2024-08-15T05:58:16.012Z"
   },
   {
    "duration": 21,
    "start_time": "2024-08-15T05:58:16.037Z"
   },
   {
    "duration": 17,
    "start_time": "2024-08-15T05:58:16.060Z"
   },
   {
    "duration": 11,
    "start_time": "2024-08-15T05:58:16.082Z"
   },
   {
    "duration": 8,
    "start_time": "2024-08-15T05:58:16.094Z"
   },
   {
    "duration": 28,
    "start_time": "2024-08-15T05:58:16.104Z"
   },
   {
    "duration": 7,
    "start_time": "2024-08-15T05:58:16.146Z"
   },
   {
    "duration": 9,
    "start_time": "2024-08-15T05:58:16.154Z"
   },
   {
    "duration": 6,
    "start_time": "2024-08-15T05:58:16.164Z"
   },
   {
    "duration": 29,
    "start_time": "2024-08-15T05:58:16.172Z"
   },
   {
    "duration": 10,
    "start_time": "2024-08-15T05:58:16.204Z"
   },
   {
    "duration": 32,
    "start_time": "2024-08-15T05:58:16.216Z"
   },
   {
    "duration": 46,
    "start_time": "2024-08-15T05:58:16.250Z"
   },
   {
    "duration": 8,
    "start_time": "2024-08-15T05:58:16.297Z"
   },
   {
    "duration": 18,
    "start_time": "2024-08-15T05:58:16.307Z"
   },
   {
    "duration": 8,
    "start_time": "2024-08-15T05:58:16.327Z"
   },
   {
    "duration": 6,
    "start_time": "2024-08-15T05:58:16.337Z"
   },
   {
    "duration": 5,
    "start_time": "2024-08-15T05:58:16.344Z"
   },
   {
    "duration": 7,
    "start_time": "2024-08-15T05:58:16.350Z"
   },
   {
    "duration": 6,
    "start_time": "2024-08-15T05:58:16.359Z"
   },
   {
    "duration": 6,
    "start_time": "2024-08-15T05:58:16.366Z"
   },
   {
    "duration": 693,
    "start_time": "2024-08-15T05:58:16.373Z"
   },
   {
    "duration": 774,
    "start_time": "2024-08-15T05:58:17.068Z"
   },
   {
    "duration": 508,
    "start_time": "2024-08-15T05:58:17.844Z"
   },
   {
    "duration": 522,
    "start_time": "2024-08-15T05:58:18.353Z"
   },
   {
    "duration": 7,
    "start_time": "2024-08-15T05:58:18.877Z"
   },
   {
    "duration": 10,
    "start_time": "2024-08-15T05:58:18.886Z"
   },
   {
    "duration": 3779,
    "start_time": "2024-08-15T05:58:18.897Z"
   },
   {
    "duration": 9,
    "start_time": "2024-08-15T05:58:22.678Z"
   },
   {
    "duration": 889,
    "start_time": "2024-08-15T05:58:22.688Z"
   },
   {
    "duration": 14,
    "start_time": "2024-08-15T05:58:23.579Z"
   },
   {
    "duration": 8,
    "start_time": "2024-08-15T05:58:23.594Z"
   },
   {
    "duration": 509,
    "start_time": "2024-08-15T05:58:23.604Z"
   },
   {
    "duration": 387,
    "start_time": "2024-08-15T05:58:24.116Z"
   },
   {
    "duration": 397,
    "start_time": "2024-08-15T05:58:24.505Z"
   },
   {
    "duration": 418,
    "start_time": "2024-08-15T05:58:24.904Z"
   },
   {
    "duration": 53,
    "start_time": "2024-08-15T05:58:25.324Z"
   },
   {
    "duration": 11,
    "start_time": "2024-08-15T05:58:25.379Z"
   },
   {
    "duration": 8,
    "start_time": "2024-08-15T05:58:25.392Z"
   },
   {
    "duration": 5,
    "start_time": "2024-08-15T05:58:25.402Z"
   },
   {
    "duration": 456,
    "start_time": "2024-08-15T05:58:25.409Z"
   },
   {
    "duration": 1478,
    "start_time": "2024-08-15T05:58:25.867Z"
   },
   {
    "duration": 17,
    "start_time": "2024-08-15T05:58:27.347Z"
   },
   {
    "duration": 7,
    "start_time": "2024-08-15T05:58:27.366Z"
   },
   {
    "duration": 15,
    "start_time": "2024-08-15T05:58:27.374Z"
   },
   {
    "duration": 5,
    "start_time": "2024-08-15T05:58:27.391Z"
   },
   {
    "duration": 5,
    "start_time": "2024-08-15T05:58:27.398Z"
   },
   {
    "duration": 8,
    "start_time": "2024-08-15T05:58:27.405Z"
   },
   {
    "duration": 5,
    "start_time": "2024-08-15T05:58:27.447Z"
   },
   {
    "duration": 9,
    "start_time": "2024-08-15T05:58:27.453Z"
   },
   {
    "duration": 14,
    "start_time": "2024-08-15T05:58:27.464Z"
   },
   {
    "duration": 13,
    "start_time": "2024-08-15T05:58:27.479Z"
   },
   {
    "duration": 12,
    "start_time": "2024-08-15T05:58:27.494Z"
   },
   {
    "duration": 17,
    "start_time": "2024-08-15T05:58:27.546Z"
   },
   {
    "duration": 6,
    "start_time": "2024-08-15T06:00:23.957Z"
   },
   {
    "duration": 69,
    "start_time": "2024-08-15T06:00:25.425Z"
   },
   {
    "duration": 6,
    "start_time": "2024-08-15T06:00:37.901Z"
   },
   {
    "duration": 71,
    "start_time": "2024-08-15T06:00:38.493Z"
   },
   {
    "duration": 7,
    "start_time": "2024-08-15T06:00:59.973Z"
   },
   {
    "duration": 6,
    "start_time": "2024-08-15T06:01:25.458Z"
   },
   {
    "duration": 66,
    "start_time": "2024-08-15T06:06:08.376Z"
   },
   {
    "duration": 500,
    "start_time": "2024-08-15T06:06:22.798Z"
   },
   {
    "duration": 716,
    "start_time": "2024-08-15T06:06:27.712Z"
   },
   {
    "duration": 102,
    "start_time": "2024-08-15T06:07:21.584Z"
   },
   {
    "duration": 11,
    "start_time": "2024-08-15T06:07:30.684Z"
   },
   {
    "duration": 14,
    "start_time": "2024-08-15T06:07:36.469Z"
   },
   {
    "duration": 15,
    "start_time": "2024-08-15T06:08:04.365Z"
   },
   {
    "duration": 5,
    "start_time": "2024-08-15T06:08:26.949Z"
   },
   {
    "duration": 7,
    "start_time": "2024-08-15T06:08:35.692Z"
   },
   {
    "duration": 6,
    "start_time": "2024-08-15T06:11:56.430Z"
   },
   {
    "duration": 668,
    "start_time": "2024-08-15T06:18:25.305Z"
   },
   {
    "duration": 792,
    "start_time": "2024-08-15T06:20:59.070Z"
   },
   {
    "duration": 20,
    "start_time": "2024-08-15T06:24:08.803Z"
   },
   {
    "duration": 513,
    "start_time": "2024-08-15T06:24:28.204Z"
   },
   {
    "duration": 5,
    "start_time": "2024-08-15T06:29:47.570Z"
   },
   {
    "duration": 2457,
    "start_time": "2024-08-15T06:29:53.323Z"
   },
   {
    "duration": 1230,
    "start_time": "2024-08-15T06:29:55.782Z"
   },
   {
    "duration": 120,
    "start_time": "2024-08-15T06:29:57.016Z"
   },
   {
    "duration": 18,
    "start_time": "2024-08-15T06:29:57.138Z"
   },
   {
    "duration": 47,
    "start_time": "2024-08-15T06:29:57.157Z"
   },
   {
    "duration": 142,
    "start_time": "2024-08-15T06:29:57.205Z"
   },
   {
    "duration": 3,
    "start_time": "2024-08-15T06:29:57.349Z"
   },
   {
    "duration": 11,
    "start_time": "2024-08-15T06:29:57.354Z"
   },
   {
    "duration": 6,
    "start_time": "2024-08-15T06:29:57.367Z"
   },
   {
    "duration": 5,
    "start_time": "2024-08-15T06:29:57.375Z"
   },
   {
    "duration": 5,
    "start_time": "2024-08-15T06:29:57.381Z"
   },
   {
    "duration": 22,
    "start_time": "2024-08-15T06:29:57.388Z"
   },
   {
    "duration": 4,
    "start_time": "2024-08-15T06:29:57.412Z"
   },
   {
    "duration": 50,
    "start_time": "2024-08-15T06:29:57.417Z"
   },
   {
    "duration": 5,
    "start_time": "2024-08-15T06:29:57.468Z"
   },
   {
    "duration": 5,
    "start_time": "2024-08-15T06:29:57.474Z"
   },
   {
    "duration": 492,
    "start_time": "2024-08-15T06:29:57.480Z"
   },
   {
    "duration": 725,
    "start_time": "2024-08-15T06:29:57.974Z"
   },
   {
    "duration": 6,
    "start_time": "2024-08-15T06:29:58.701Z"
   },
   {
    "duration": 76,
    "start_time": "2024-08-15T06:29:58.709Z"
   },
   {
    "duration": 9,
    "start_time": "2024-08-15T06:29:58.787Z"
   },
   {
    "duration": 55,
    "start_time": "2024-08-15T06:29:58.797Z"
   },
   {
    "duration": 9,
    "start_time": "2024-08-15T06:29:58.853Z"
   },
   {
    "duration": 6,
    "start_time": "2024-08-15T06:29:58.863Z"
   },
   {
    "duration": 9,
    "start_time": "2024-08-15T06:29:58.870Z"
   },
   {
    "duration": 27,
    "start_time": "2024-08-15T06:29:58.880Z"
   },
   {
    "duration": 38,
    "start_time": "2024-08-15T06:29:58.908Z"
   },
   {
    "duration": 5,
    "start_time": "2024-08-15T06:29:58.952Z"
   },
   {
    "duration": 21,
    "start_time": "2024-08-15T06:29:58.959Z"
   },
   {
    "duration": 9,
    "start_time": "2024-08-15T06:29:58.981Z"
   },
   {
    "duration": 7,
    "start_time": "2024-08-15T06:29:58.993Z"
   },
   {
    "duration": 55,
    "start_time": "2024-08-15T06:29:59.002Z"
   },
   {
    "duration": 18,
    "start_time": "2024-08-15T06:29:59.059Z"
   },
   {
    "duration": 76,
    "start_time": "2024-08-15T06:29:59.079Z"
   },
   {
    "duration": 6,
    "start_time": "2024-08-15T06:29:59.156Z"
   },
   {
    "duration": 13,
    "start_time": "2024-08-15T06:29:59.164Z"
   },
   {
    "duration": 16,
    "start_time": "2024-08-15T06:29:59.178Z"
   },
   {
    "duration": 22,
    "start_time": "2024-08-15T06:29:59.196Z"
   },
   {
    "duration": 5,
    "start_time": "2024-08-15T06:29:59.220Z"
   },
   {
    "duration": 5,
    "start_time": "2024-08-15T06:29:59.227Z"
   },
   {
    "duration": 17,
    "start_time": "2024-08-15T06:29:59.234Z"
   },
   {
    "duration": 6,
    "start_time": "2024-08-15T06:29:59.252Z"
   },
   {
    "duration": 5,
    "start_time": "2024-08-15T06:29:59.260Z"
   },
   {
    "duration": 21,
    "start_time": "2024-08-15T06:29:59.267Z"
   },
   {
    "duration": 15,
    "start_time": "2024-08-15T06:29:59.289Z"
   },
   {
    "duration": 28,
    "start_time": "2024-08-15T06:29:59.305Z"
   },
   {
    "duration": 8,
    "start_time": "2024-08-15T06:29:59.334Z"
   },
   {
    "duration": 637,
    "start_time": "2024-08-15T06:29:59.344Z"
   },
   {
    "duration": 899,
    "start_time": "2024-08-15T06:29:59.983Z"
   },
   {
    "duration": 8,
    "start_time": "2024-08-15T06:30:00.885Z"
   },
   {
    "duration": 70,
    "start_time": "2024-08-15T06:30:00.895Z"
   },
   {
    "duration": 3935,
    "start_time": "2024-08-15T06:30:00.966Z"
   },
   {
    "duration": 8,
    "start_time": "2024-08-15T06:30:04.903Z"
   },
   {
    "duration": 715,
    "start_time": "2024-08-15T06:30:04.912Z"
   },
   {
    "duration": 20,
    "start_time": "2024-08-15T06:30:05.628Z"
   },
   {
    "duration": 10,
    "start_time": "2024-08-15T06:30:05.650Z"
   },
   {
    "duration": 573,
    "start_time": "2024-08-15T06:30:05.662Z"
   },
   {
    "duration": 702,
    "start_time": "2024-08-15T06:30:06.237Z"
   },
   {
    "duration": 797,
    "start_time": "2024-08-15T06:30:06.941Z"
   },
   {
    "duration": 383,
    "start_time": "2024-08-15T06:30:07.739Z"
   },
   {
    "duration": 389,
    "start_time": "2024-08-15T06:30:08.123Z"
   },
   {
    "duration": 404,
    "start_time": "2024-08-15T06:30:08.514Z"
   },
   {
    "duration": 51,
    "start_time": "2024-08-15T06:30:08.920Z"
   },
   {
    "duration": 8,
    "start_time": "2024-08-15T06:30:08.973Z"
   },
   {
    "duration": 28,
    "start_time": "2024-08-15T06:30:08.983Z"
   },
   {
    "duration": 12,
    "start_time": "2024-08-15T06:30:09.012Z"
   },
   {
    "duration": 422,
    "start_time": "2024-08-15T06:30:09.025Z"
   },
   {
    "duration": 1492,
    "start_time": "2024-08-15T06:30:09.449Z"
   },
   {
    "duration": 11,
    "start_time": "2024-08-15T06:30:10.943Z"
   },
   {
    "duration": 5,
    "start_time": "2024-08-15T06:30:10.956Z"
   },
   {
    "duration": 30,
    "start_time": "2024-08-15T06:30:10.962Z"
   },
   {
    "duration": 6,
    "start_time": "2024-08-15T06:30:10.994Z"
   },
   {
    "duration": 9,
    "start_time": "2024-08-15T06:30:11.002Z"
   },
   {
    "duration": 7,
    "start_time": "2024-08-15T06:30:11.013Z"
   },
   {
    "duration": 25,
    "start_time": "2024-08-15T06:30:11.023Z"
   },
   {
    "duration": 10,
    "start_time": "2024-08-15T06:30:11.050Z"
   },
   {
    "duration": 17,
    "start_time": "2024-08-15T06:30:11.063Z"
   },
   {
    "duration": 15,
    "start_time": "2024-08-15T06:30:11.081Z"
   },
   {
    "duration": 90,
    "start_time": "2024-08-15T06:30:11.097Z"
   },
   {
    "duration": 21,
    "start_time": "2024-08-15T06:30:11.189Z"
   },
   {
    "duration": 45,
    "start_time": "2024-08-15T06:39:42.618Z"
   },
   {
    "duration": 58,
    "start_time": "2024-08-15T06:39:52.691Z"
   },
   {
    "duration": 10,
    "start_time": "2024-08-15T06:41:28.872Z"
   },
   {
    "duration": 49,
    "start_time": "2024-08-15T06:41:34.712Z"
   },
   {
    "duration": 10,
    "start_time": "2024-08-15T06:41:37.628Z"
   },
   {
    "duration": 42,
    "start_time": "2024-08-15T06:41:41.660Z"
   },
   {
    "duration": 9,
    "start_time": "2024-08-15T06:41:42.444Z"
   },
   {
    "duration": 4,
    "start_time": "2024-08-15T06:42:28.041Z"
   },
   {
    "duration": 51,
    "start_time": "2024-08-15T06:42:42.733Z"
   },
   {
    "duration": 10,
    "start_time": "2024-08-15T06:42:44.052Z"
   },
   {
    "duration": 2473,
    "start_time": "2024-08-15T06:42:54.245Z"
   },
   {
    "duration": 1222,
    "start_time": "2024-08-15T06:42:56.720Z"
   },
   {
    "duration": 86,
    "start_time": "2024-08-15T06:42:57.943Z"
   },
   {
    "duration": 16,
    "start_time": "2024-08-15T06:42:58.031Z"
   },
   {
    "duration": 7,
    "start_time": "2024-08-15T06:42:58.049Z"
   },
   {
    "duration": 125,
    "start_time": "2024-08-15T06:42:58.058Z"
   },
   {
    "duration": 4,
    "start_time": "2024-08-15T06:42:58.184Z"
   },
   {
    "duration": 46,
    "start_time": "2024-08-15T06:42:58.190Z"
   },
   {
    "duration": 5,
    "start_time": "2024-08-15T06:42:58.237Z"
   },
   {
    "duration": 7,
    "start_time": "2024-08-15T06:42:58.244Z"
   },
   {
    "duration": 4,
    "start_time": "2024-08-15T06:42:58.252Z"
   },
   {
    "duration": 39,
    "start_time": "2024-08-15T06:42:58.258Z"
   },
   {
    "duration": 4,
    "start_time": "2024-08-15T06:42:58.299Z"
   },
   {
    "duration": 24,
    "start_time": "2024-08-15T06:42:58.305Z"
   },
   {
    "duration": 6,
    "start_time": "2024-08-15T06:42:58.331Z"
   },
   {
    "duration": 18,
    "start_time": "2024-08-15T06:42:58.339Z"
   },
   {
    "duration": 501,
    "start_time": "2024-08-15T06:42:58.358Z"
   },
   {
    "duration": 716,
    "start_time": "2024-08-15T06:42:58.861Z"
   },
   {
    "duration": 7,
    "start_time": "2024-08-15T06:42:59.579Z"
   },
   {
    "duration": 66,
    "start_time": "2024-08-15T06:42:59.587Z"
   },
   {
    "duration": 12,
    "start_time": "2024-08-15T06:42:59.655Z"
   },
   {
    "duration": 63,
    "start_time": "2024-08-15T06:42:59.670Z"
   },
   {
    "duration": 17,
    "start_time": "2024-08-15T06:42:59.735Z"
   },
   {
    "duration": 16,
    "start_time": "2024-08-15T06:42:59.754Z"
   },
   {
    "duration": 7,
    "start_time": "2024-08-15T06:42:59.771Z"
   },
   {
    "duration": 28,
    "start_time": "2024-08-15T06:42:59.779Z"
   },
   {
    "duration": 15,
    "start_time": "2024-08-15T06:42:59.809Z"
   },
   {
    "duration": 23,
    "start_time": "2024-08-15T06:42:59.826Z"
   },
   {
    "duration": 17,
    "start_time": "2024-08-15T06:42:59.850Z"
   },
   {
    "duration": 74,
    "start_time": "2024-08-15T06:42:59.868Z"
   },
   {
    "duration": 7,
    "start_time": "2024-08-15T06:42:59.943Z"
   },
   {
    "duration": 22,
    "start_time": "2024-08-15T06:42:59.952Z"
   },
   {
    "duration": 6,
    "start_time": "2024-08-15T06:42:59.976Z"
   },
   {
    "duration": 14,
    "start_time": "2024-08-15T06:42:59.983Z"
   },
   {
    "duration": 6,
    "start_time": "2024-08-15T06:42:59.998Z"
   },
   {
    "duration": 57,
    "start_time": "2024-08-15T06:43:00.005Z"
   },
   {
    "duration": 60,
    "start_time": "2024-08-15T06:43:00.064Z"
   },
   {
    "duration": 88,
    "start_time": "2024-08-15T06:43:00.126Z"
   },
   {
    "duration": 251,
    "start_time": "2024-08-15T06:43:00.216Z"
   },
   {
    "duration": 65,
    "start_time": "2024-08-15T06:43:00.469Z"
   },
   {
    "duration": 91,
    "start_time": "2024-08-15T06:43:00.538Z"
   },
   {
    "duration": 119,
    "start_time": "2024-08-15T06:43:00.631Z"
   },
   {
    "duration": 57,
    "start_time": "2024-08-15T06:43:00.752Z"
   },
   {
    "duration": 38,
    "start_time": "2024-08-15T06:43:00.810Z"
   },
   {
    "duration": 40,
    "start_time": "2024-08-15T06:43:00.849Z"
   },
   {
    "duration": 32,
    "start_time": "2024-08-15T06:43:00.890Z"
   },
   {
    "duration": 69,
    "start_time": "2024-08-15T06:43:00.924Z"
   },
   {
    "duration": 689,
    "start_time": "2024-08-15T06:43:00.994Z"
   },
   {
    "duration": 883,
    "start_time": "2024-08-15T06:43:01.686Z"
   },
   {
    "duration": 6,
    "start_time": "2024-08-15T06:43:02.571Z"
   },
   {
    "duration": 29,
    "start_time": "2024-08-15T06:43:02.578Z"
   },
   {
    "duration": 3950,
    "start_time": "2024-08-15T06:43:02.608Z"
   },
   {
    "duration": 8,
    "start_time": "2024-08-15T06:43:06.560Z"
   },
   {
    "duration": 686,
    "start_time": "2024-08-15T06:43:06.570Z"
   },
   {
    "duration": 16,
    "start_time": "2024-08-15T06:43:07.257Z"
   },
   {
    "duration": 4,
    "start_time": "2024-08-15T06:43:07.275Z"
   },
   {
    "duration": 536,
    "start_time": "2024-08-15T06:43:07.280Z"
   },
   {
    "duration": 659,
    "start_time": "2024-08-15T06:43:07.818Z"
   },
   {
    "duration": 792,
    "start_time": "2024-08-15T06:43:08.478Z"
   },
   {
    "duration": 422,
    "start_time": "2024-08-15T06:43:09.272Z"
   },
   {
    "duration": 408,
    "start_time": "2024-08-15T06:43:09.696Z"
   },
   {
    "duration": 406,
    "start_time": "2024-08-15T06:43:10.106Z"
   },
   {
    "duration": 54,
    "start_time": "2024-08-15T06:43:10.513Z"
   },
   {
    "duration": 10,
    "start_time": "2024-08-15T06:43:10.568Z"
   },
   {
    "duration": 15,
    "start_time": "2024-08-15T06:43:10.579Z"
   },
   {
    "duration": 6,
    "start_time": "2024-08-15T06:43:10.596Z"
   },
   {
    "duration": 412,
    "start_time": "2024-08-15T06:43:10.603Z"
   },
   {
    "duration": 1504,
    "start_time": "2024-08-15T06:43:11.017Z"
   },
   {
    "duration": 11,
    "start_time": "2024-08-15T06:43:12.523Z"
   },
   {
    "duration": 11,
    "start_time": "2024-08-15T06:43:12.536Z"
   },
   {
    "duration": 13,
    "start_time": "2024-08-15T06:43:12.549Z"
   },
   {
    "duration": 4,
    "start_time": "2024-08-15T06:43:12.564Z"
   },
   {
    "duration": 14,
    "start_time": "2024-08-15T06:43:12.569Z"
   },
   {
    "duration": 9,
    "start_time": "2024-08-15T06:43:12.584Z"
   },
   {
    "duration": 5,
    "start_time": "2024-08-15T06:43:12.595Z"
   },
   {
    "duration": 8,
    "start_time": "2024-08-15T06:43:12.602Z"
   },
   {
    "duration": 37,
    "start_time": "2024-08-15T06:43:12.611Z"
   },
   {
    "duration": 17,
    "start_time": "2024-08-15T06:43:12.650Z"
   },
   {
    "duration": 11,
    "start_time": "2024-08-15T06:43:12.668Z"
   },
   {
    "duration": 13,
    "start_time": "2024-08-15T06:43:12.680Z"
   },
   {
    "duration": 14,
    "start_time": "2024-08-15T06:45:03.226Z"
   },
   {
    "duration": 53,
    "start_time": "2024-08-15T06:45:18.738Z"
   },
   {
    "duration": 9,
    "start_time": "2024-08-15T06:45:19.470Z"
   },
   {
    "duration": 1117,
    "start_time": "2024-08-15T06:46:08.589Z"
   },
   {
    "duration": 5,
    "start_time": "2024-08-15T06:46:18.738Z"
   },
   {
    "duration": 43,
    "start_time": "2024-08-15T06:46:45.811Z"
   },
   {
    "duration": 9,
    "start_time": "2024-08-15T06:46:46.443Z"
   },
   {
    "duration": 43,
    "start_time": "2024-08-15T06:47:33.872Z"
   },
   {
    "duration": 9,
    "start_time": "2024-08-15T06:47:34.608Z"
   },
   {
    "duration": 232,
    "start_time": "2024-08-15T06:55:52.442Z"
   },
   {
    "duration": 1461,
    "start_time": "2024-08-15T06:56:25.351Z"
   },
   {
    "duration": 2409,
    "start_time": "2024-08-15T06:56:46.472Z"
   },
   {
    "duration": 1212,
    "start_time": "2024-08-15T06:56:48.883Z"
   },
   {
    "duration": 73,
    "start_time": "2024-08-15T06:56:50.097Z"
   },
   {
    "duration": 17,
    "start_time": "2024-08-15T06:56:50.173Z"
   },
   {
    "duration": 8,
    "start_time": "2024-08-15T06:56:50.192Z"
   },
   {
    "duration": 134,
    "start_time": "2024-08-15T06:56:50.202Z"
   },
   {
    "duration": 4,
    "start_time": "2024-08-15T06:56:50.347Z"
   },
   {
    "duration": 9,
    "start_time": "2024-08-15T06:56:50.353Z"
   },
   {
    "duration": 29,
    "start_time": "2024-08-15T06:56:50.364Z"
   },
   {
    "duration": 4,
    "start_time": "2024-08-15T06:56:50.396Z"
   },
   {
    "duration": 13,
    "start_time": "2024-08-15T06:56:50.402Z"
   },
   {
    "duration": 82,
    "start_time": "2024-08-15T06:56:50.417Z"
   },
   {
    "duration": 4,
    "start_time": "2024-08-15T06:56:50.501Z"
   },
   {
    "duration": 15,
    "start_time": "2024-08-15T06:56:50.507Z"
   },
   {
    "duration": 8,
    "start_time": "2024-08-15T06:56:50.523Z"
   },
   {
    "duration": 5,
    "start_time": "2024-08-15T06:56:50.533Z"
   },
   {
    "duration": 487,
    "start_time": "2024-08-15T06:56:50.539Z"
   },
   {
    "duration": 733,
    "start_time": "2024-08-15T06:56:51.027Z"
   },
   {
    "duration": 7,
    "start_time": "2024-08-15T06:56:51.762Z"
   },
   {
    "duration": 76,
    "start_time": "2024-08-15T06:56:51.771Z"
   },
   {
    "duration": 10,
    "start_time": "2024-08-15T06:56:51.849Z"
   },
   {
    "duration": 53,
    "start_time": "2024-08-15T06:56:51.861Z"
   },
   {
    "duration": 9,
    "start_time": "2024-08-15T06:56:51.916Z"
   },
   {
    "duration": 61,
    "start_time": "2024-08-15T06:56:51.927Z"
   },
   {
    "duration": 8,
    "start_time": "2024-08-15T06:56:51.990Z"
   },
   {
    "duration": 31,
    "start_time": "2024-08-15T06:56:52.000Z"
   },
   {
    "duration": 22,
    "start_time": "2024-08-15T06:56:52.033Z"
   },
   {
    "duration": 5,
    "start_time": "2024-08-15T06:56:52.059Z"
   },
   {
    "duration": 21,
    "start_time": "2024-08-15T06:56:52.065Z"
   },
   {
    "duration": 11,
    "start_time": "2024-08-15T06:56:52.087Z"
   },
   {
    "duration": 7,
    "start_time": "2024-08-15T06:56:52.099Z"
   },
   {
    "duration": 17,
    "start_time": "2024-08-15T06:56:52.108Z"
   },
   {
    "duration": 5,
    "start_time": "2024-08-15T06:56:52.147Z"
   },
   {
    "duration": 28,
    "start_time": "2024-08-15T06:56:52.154Z"
   },
   {
    "duration": 7,
    "start_time": "2024-08-15T06:56:52.184Z"
   },
   {
    "duration": 10,
    "start_time": "2024-08-15T06:56:52.193Z"
   },
   {
    "duration": 17,
    "start_time": "2024-08-15T06:56:52.204Z"
   },
   {
    "duration": 7,
    "start_time": "2024-08-15T06:56:52.222Z"
   },
   {
    "duration": 78,
    "start_time": "2024-08-15T06:56:52.230Z"
   },
   {
    "duration": 15,
    "start_time": "2024-08-15T06:56:52.311Z"
   },
   {
    "duration": 9,
    "start_time": "2024-08-15T06:56:52.327Z"
   },
   {
    "duration": 4,
    "start_time": "2024-08-15T06:56:52.338Z"
   },
   {
    "duration": 3,
    "start_time": "2024-08-15T06:56:52.344Z"
   },
   {
    "duration": 4,
    "start_time": "2024-08-15T06:56:52.348Z"
   },
   {
    "duration": 7,
    "start_time": "2024-08-15T06:56:52.353Z"
   },
   {
    "duration": 5,
    "start_time": "2024-08-15T06:56:52.362Z"
   },
   {
    "duration": 16,
    "start_time": "2024-08-15T06:56:52.369Z"
   },
   {
    "duration": 630,
    "start_time": "2024-08-15T06:56:52.387Z"
   },
   {
    "duration": 833,
    "start_time": "2024-08-15T06:56:53.018Z"
   },
   {
    "duration": 6,
    "start_time": "2024-08-15T06:56:53.853Z"
   },
   {
    "duration": 21,
    "start_time": "2024-08-15T06:56:53.861Z"
   },
   {
    "duration": 3940,
    "start_time": "2024-08-15T06:56:53.884Z"
   },
   {
    "duration": 20,
    "start_time": "2024-08-15T06:56:57.826Z"
   },
   {
    "duration": 644,
    "start_time": "2024-08-15T06:56:57.848Z"
   },
   {
    "duration": 16,
    "start_time": "2024-08-15T06:56:58.494Z"
   },
   {
    "duration": 5,
    "start_time": "2024-08-15T06:56:58.512Z"
   },
   {
    "duration": 505,
    "start_time": "2024-08-15T06:56:58.518Z"
   },
   {
    "duration": 745,
    "start_time": "2024-08-15T06:56:59.025Z"
   },
   {
    "duration": 793,
    "start_time": "2024-08-15T06:56:59.772Z"
   },
   {
    "duration": 445,
    "start_time": "2024-08-15T06:57:00.566Z"
   },
   {
    "duration": 400,
    "start_time": "2024-08-15T06:57:01.013Z"
   },
   {
    "duration": 400,
    "start_time": "2024-08-15T06:57:01.415Z"
   },
   {
    "duration": 61,
    "start_time": "2024-08-15T06:57:01.817Z"
   },
   {
    "duration": 9,
    "start_time": "2024-08-15T06:57:01.880Z"
   },
   {
    "duration": 117,
    "start_time": "2024-08-15T06:57:01.891Z"
   },
   {
    "duration": 13,
    "start_time": "2024-08-15T06:57:02.010Z"
   },
   {
    "duration": 385,
    "start_time": "2024-08-15T06:57:02.025Z"
   },
   {
    "duration": 1517,
    "start_time": "2024-08-15T06:57:02.412Z"
   },
   {
    "duration": 13,
    "start_time": "2024-08-15T06:57:03.931Z"
   },
   {
    "duration": 50,
    "start_time": "2024-08-15T06:57:03.946Z"
   },
   {
    "duration": 17,
    "start_time": "2024-08-15T06:57:03.998Z"
   },
   {
    "duration": 6,
    "start_time": "2024-08-15T06:57:04.017Z"
   },
   {
    "duration": 7,
    "start_time": "2024-08-15T06:57:04.025Z"
   },
   {
    "duration": 9,
    "start_time": "2024-08-15T06:57:04.034Z"
   },
   {
    "duration": 6,
    "start_time": "2024-08-15T06:57:04.045Z"
   },
   {
    "duration": 8,
    "start_time": "2024-08-15T06:57:04.053Z"
   },
   {
    "duration": 19,
    "start_time": "2024-08-15T06:57:04.063Z"
   },
   {
    "duration": 16,
    "start_time": "2024-08-15T06:57:04.084Z"
   },
   {
    "duration": 16,
    "start_time": "2024-08-15T06:57:04.102Z"
   },
   {
    "duration": 19,
    "start_time": "2024-08-15T06:57:04.148Z"
   },
   {
    "duration": 105,
    "start_time": "2024-08-15T07:14:02.463Z"
   },
   {
    "duration": 14,
    "start_time": "2024-08-15T07:14:09.175Z"
   },
   {
    "duration": 14,
    "start_time": "2024-08-15T07:14:22.416Z"
   },
   {
    "duration": 14,
    "start_time": "2024-08-15T07:14:48.667Z"
   },
   {
    "duration": 16,
    "start_time": "2024-08-15T07:15:18.660Z"
   },
   {
    "duration": 14,
    "start_time": "2024-08-15T07:15:30.225Z"
   },
   {
    "duration": 16,
    "start_time": "2024-08-15T07:15:34.124Z"
   },
   {
    "duration": 15,
    "start_time": "2024-08-15T07:15:43.083Z"
   },
   {
    "duration": 14,
    "start_time": "2024-08-15T07:15:55.684Z"
   },
   {
    "duration": 16,
    "start_time": "2024-08-15T07:16:02.092Z"
   },
   {
    "duration": 13,
    "start_time": "2024-08-15T07:16:08.378Z"
   },
   {
    "duration": 13,
    "start_time": "2024-08-15T07:17:03.701Z"
   },
   {
    "duration": 12,
    "start_time": "2024-08-15T07:17:10.319Z"
   },
   {
    "duration": 21,
    "start_time": "2024-08-15T07:17:39.759Z"
   },
   {
    "duration": 15,
    "start_time": "2024-08-15T07:17:43.377Z"
   },
   {
    "duration": 15,
    "start_time": "2024-08-15T07:17:49.297Z"
   },
   {
    "duration": 20,
    "start_time": "2024-08-15T07:17:52.462Z"
   },
   {
    "duration": 14,
    "start_time": "2024-08-15T07:19:52.730Z"
   },
   {
    "duration": 13,
    "start_time": "2024-08-15T07:20:03.682Z"
   },
   {
    "duration": 71,
    "start_time": "2024-08-15T07:21:34.707Z"
   },
   {
    "duration": 14,
    "start_time": "2024-08-15T07:21:58.859Z"
   },
   {
    "duration": 13,
    "start_time": "2024-08-15T07:22:11.835Z"
   },
   {
    "duration": 64,
    "start_time": "2024-08-15T07:23:16.615Z"
   },
   {
    "duration": 13,
    "start_time": "2024-08-15T07:23:29.539Z"
   },
   {
    "duration": 10,
    "start_time": "2024-08-15T07:25:26.681Z"
   },
   {
    "duration": 14,
    "start_time": "2024-08-15T07:25:30.001Z"
   },
   {
    "duration": 12,
    "start_time": "2024-08-15T07:25:37.097Z"
   },
   {
    "duration": 13,
    "start_time": "2024-08-15T07:25:42.741Z"
   },
   {
    "duration": 13,
    "start_time": "2024-08-15T07:26:18.233Z"
   },
   {
    "duration": 20,
    "start_time": "2024-08-15T07:27:45.802Z"
   },
   {
    "duration": 12,
    "start_time": "2024-08-15T07:28:46.636Z"
   },
   {
    "duration": 12,
    "start_time": "2024-08-15T07:58:20.727Z"
   },
   {
    "duration": 14,
    "start_time": "2024-08-15T07:58:43.796Z"
   },
   {
    "duration": 3,
    "start_time": "2024-08-15T07:59:31.624Z"
   },
   {
    "duration": 10,
    "start_time": "2024-08-15T07:59:37.775Z"
   },
   {
    "duration": 98,
    "start_time": "2024-08-15T07:59:43.896Z"
   },
   {
    "duration": 98,
    "start_time": "2024-08-15T08:00:07.568Z"
   },
   {
    "duration": 127,
    "start_time": "2024-08-15T08:00:20.424Z"
   },
   {
    "duration": 184,
    "start_time": "2024-08-15T08:00:46.736Z"
   },
   {
    "duration": 97,
    "start_time": "2024-08-15T08:00:49.536Z"
   },
   {
    "duration": 113,
    "start_time": "2024-08-15T08:01:13.316Z"
   },
   {
    "duration": 15,
    "start_time": "2024-08-15T08:03:34.174Z"
   },
   {
    "duration": 35,
    "start_time": "2024-08-15T08:04:15.106Z"
   },
   {
    "duration": 7,
    "start_time": "2024-08-15T08:06:44.738Z"
   },
   {
    "duration": 17,
    "start_time": "2024-08-15T08:07:25.859Z"
   },
   {
    "duration": 7,
    "start_time": "2024-08-15T08:07:39.746Z"
   },
   {
    "duration": 11,
    "start_time": "2024-08-15T08:09:27.791Z"
   },
   {
    "duration": 18,
    "start_time": "2024-08-15T08:09:57.543Z"
   },
   {
    "duration": 11,
    "start_time": "2024-08-15T08:11:45.801Z"
   },
   {
    "duration": 11,
    "start_time": "2024-08-15T08:11:52.829Z"
   },
   {
    "duration": 8,
    "start_time": "2024-08-15T08:12:04.145Z"
   },
   {
    "duration": 10,
    "start_time": "2024-08-15T08:12:08.032Z"
   },
   {
    "duration": 138,
    "start_time": "2024-08-15T08:12:12.637Z"
   },
   {
    "duration": 6,
    "start_time": "2024-08-15T08:12:19.865Z"
   },
   {
    "duration": 8,
    "start_time": "2024-08-15T08:12:25.189Z"
   },
   {
    "duration": 10,
    "start_time": "2024-08-15T08:14:00.698Z"
   },
   {
    "duration": 9,
    "start_time": "2024-08-15T08:16:27.315Z"
   },
   {
    "duration": 27,
    "start_time": "2024-08-15T08:25:30.279Z"
   },
   {
    "duration": 145,
    "start_time": "2024-08-15T08:25:40.934Z"
   },
   {
    "duration": 139,
    "start_time": "2024-08-15T08:25:51.882Z"
   },
   {
    "duration": 370,
    "start_time": "2024-08-15T08:26:04.479Z"
   },
   {
    "duration": 132,
    "start_time": "2024-08-15T08:26:19.671Z"
   },
   {
    "duration": 128,
    "start_time": "2024-08-15T08:26:23.331Z"
   },
   {
    "duration": 111,
    "start_time": "2024-08-15T08:26:34.031Z"
   },
   {
    "duration": 110,
    "start_time": "2024-08-15T08:26:39.599Z"
   },
   {
    "duration": 122,
    "start_time": "2024-08-15T08:26:43.164Z"
   },
   {
    "duration": 110,
    "start_time": "2024-08-15T08:26:55.804Z"
   },
   {
    "duration": 104,
    "start_time": "2024-08-15T08:27:16.279Z"
   },
   {
    "duration": 109,
    "start_time": "2024-08-15T08:27:22.603Z"
   },
   {
    "duration": 113,
    "start_time": "2024-08-15T08:27:35.380Z"
   },
   {
    "duration": 115,
    "start_time": "2024-08-15T08:27:41.264Z"
   },
   {
    "duration": 7,
    "start_time": "2024-08-15T08:30:17.076Z"
   },
   {
    "duration": 2467,
    "start_time": "2024-08-15T08:30:56.884Z"
   },
   {
    "duration": 1283,
    "start_time": "2024-08-15T08:30:59.354Z"
   },
   {
    "duration": 64,
    "start_time": "2024-08-15T08:31:00.639Z"
   },
   {
    "duration": 125,
    "start_time": "2024-08-15T08:31:00.705Z"
   },
   {
    "duration": 134,
    "start_time": "2024-08-15T08:31:00.831Z"
   },
   {
    "duration": 188,
    "start_time": "2024-08-15T08:31:00.967Z"
   },
   {
    "duration": 4,
    "start_time": "2024-08-15T08:31:01.157Z"
   },
   {
    "duration": 109,
    "start_time": "2024-08-15T08:31:01.163Z"
   },
   {
    "duration": 115,
    "start_time": "2024-08-15T08:31:01.274Z"
   },
   {
    "duration": 52,
    "start_time": "2024-08-15T08:31:01.392Z"
   },
   {
    "duration": 169,
    "start_time": "2024-08-15T08:31:01.445Z"
   },
   {
    "duration": 108,
    "start_time": "2024-08-15T08:31:01.616Z"
   },
   {
    "duration": 112,
    "start_time": "2024-08-15T08:31:01.725Z"
   },
   {
    "duration": 149,
    "start_time": "2024-08-15T08:31:01.839Z"
   },
   {
    "duration": 65,
    "start_time": "2024-08-15T08:31:01.989Z"
   },
   {
    "duration": 40,
    "start_time": "2024-08-15T08:31:02.055Z"
   },
   {
    "duration": 570,
    "start_time": "2024-08-15T08:31:02.097Z"
   },
   {
    "duration": 696,
    "start_time": "2024-08-15T08:31:02.669Z"
   },
   {
    "duration": 9,
    "start_time": "2024-08-15T08:31:03.367Z"
   },
   {
    "duration": 59,
    "start_time": "2024-08-15T08:31:03.377Z"
   },
   {
    "duration": 10,
    "start_time": "2024-08-15T08:31:03.438Z"
   },
   {
    "duration": 42,
    "start_time": "2024-08-15T08:31:03.449Z"
   },
   {
    "duration": 9,
    "start_time": "2024-08-15T08:31:03.493Z"
   },
   {
    "duration": 57,
    "start_time": "2024-08-15T08:31:03.504Z"
   },
   {
    "duration": 13,
    "start_time": "2024-08-15T08:31:03.563Z"
   },
   {
    "duration": 22,
    "start_time": "2024-08-15T08:31:03.578Z"
   },
   {
    "duration": 15,
    "start_time": "2024-08-15T08:31:03.602Z"
   },
   {
    "duration": 6,
    "start_time": "2024-08-15T08:31:03.621Z"
   },
   {
    "duration": 33,
    "start_time": "2024-08-15T08:31:03.628Z"
   },
   {
    "duration": 13,
    "start_time": "2024-08-15T08:31:03.663Z"
   },
   {
    "duration": 12,
    "start_time": "2024-08-15T08:31:03.678Z"
   },
   {
    "duration": 19,
    "start_time": "2024-08-15T08:31:03.692Z"
   },
   {
    "duration": 34,
    "start_time": "2024-08-15T08:31:03.714Z"
   },
   {
    "duration": 8,
    "start_time": "2024-08-15T08:31:03.750Z"
   },
   {
    "duration": 9,
    "start_time": "2024-08-15T08:31:03.760Z"
   },
   {
    "duration": 12,
    "start_time": "2024-08-15T08:31:03.771Z"
   },
   {
    "duration": 10,
    "start_time": "2024-08-15T08:31:03.785Z"
   },
   {
    "duration": 9,
    "start_time": "2024-08-15T08:31:03.796Z"
   },
   {
    "duration": 5,
    "start_time": "2024-08-15T08:31:03.807Z"
   },
   {
    "duration": 35,
    "start_time": "2024-08-15T08:31:03.813Z"
   },
   {
    "duration": 3,
    "start_time": "2024-08-15T08:31:03.850Z"
   },
   {
    "duration": 5,
    "start_time": "2024-08-15T08:31:03.855Z"
   },
   {
    "duration": 4,
    "start_time": "2024-08-15T08:31:03.862Z"
   },
   {
    "duration": 6,
    "start_time": "2024-08-15T08:31:03.867Z"
   },
   {
    "duration": 8,
    "start_time": "2024-08-15T08:31:03.875Z"
   },
   {
    "duration": 6,
    "start_time": "2024-08-15T08:31:03.884Z"
   },
   {
    "duration": 6,
    "start_time": "2024-08-15T08:31:03.892Z"
   },
   {
    "duration": 673,
    "start_time": "2024-08-15T08:31:03.900Z"
   },
   {
    "duration": 851,
    "start_time": "2024-08-15T08:31:04.575Z"
   },
   {
    "duration": 6,
    "start_time": "2024-08-15T08:31:05.428Z"
   },
   {
    "duration": 39,
    "start_time": "2024-08-15T08:31:05.436Z"
   },
   {
    "duration": 4000,
    "start_time": "2024-08-15T08:31:05.478Z"
   },
   {
    "duration": 8,
    "start_time": "2024-08-15T08:31:09.480Z"
   },
   {
    "duration": 691,
    "start_time": "2024-08-15T08:31:09.490Z"
   },
   {
    "duration": 14,
    "start_time": "2024-08-15T08:31:10.183Z"
   },
   {
    "duration": 20,
    "start_time": "2024-08-15T08:31:10.199Z"
   },
   {
    "duration": 502,
    "start_time": "2024-08-15T08:31:10.221Z"
   },
   {
    "duration": 702,
    "start_time": "2024-08-15T08:31:10.725Z"
   },
   {
    "duration": 802,
    "start_time": "2024-08-15T08:31:11.428Z"
   },
   {
    "duration": 384,
    "start_time": "2024-08-15T08:31:12.232Z"
   },
   {
    "duration": 409,
    "start_time": "2024-08-15T08:31:12.618Z"
   },
   {
    "duration": 478,
    "start_time": "2024-08-15T08:31:13.029Z"
   },
   {
    "duration": 53,
    "start_time": "2024-08-15T08:31:13.508Z"
   },
   {
    "duration": 14,
    "start_time": "2024-08-15T08:31:13.563Z"
   },
   {
    "duration": 9,
    "start_time": "2024-08-15T08:31:13.578Z"
   },
   {
    "duration": 4,
    "start_time": "2024-08-15T08:31:13.589Z"
   },
   {
    "duration": 366,
    "start_time": "2024-08-15T08:31:13.595Z"
   },
   {
    "duration": 1534,
    "start_time": "2024-08-15T08:31:13.963Z"
   },
   {
    "duration": 112,
    "start_time": "2024-08-15T08:31:15.499Z"
   },
   {
    "duration": 11,
    "start_time": "2024-08-15T08:31:15.612Z"
   },
   {
    "duration": 5,
    "start_time": "2024-08-15T08:31:15.625Z"
   },
   {
    "duration": 25,
    "start_time": "2024-08-15T08:31:15.631Z"
   },
   {
    "duration": 3,
    "start_time": "2024-08-15T08:31:15.658Z"
   },
   {
    "duration": 6,
    "start_time": "2024-08-15T08:31:15.663Z"
   },
   {
    "duration": 14,
    "start_time": "2024-08-15T08:31:15.671Z"
   },
   {
    "duration": 12,
    "start_time": "2024-08-15T08:31:15.688Z"
   },
   {
    "duration": 9,
    "start_time": "2024-08-15T08:31:15.702Z"
   },
   {
    "duration": 35,
    "start_time": "2024-08-15T08:31:15.712Z"
   },
   {
    "duration": 7,
    "start_time": "2024-08-15T08:31:15.748Z"
   },
   {
    "duration": 18,
    "start_time": "2024-08-15T08:31:15.756Z"
   },
   {
    "duration": 13,
    "start_time": "2024-08-15T08:31:15.775Z"
   },
   {
    "duration": 12,
    "start_time": "2024-08-15T08:31:15.794Z"
   },
   {
    "duration": 40,
    "start_time": "2024-08-15T08:31:15.808Z"
   },
   {
    "duration": 5,
    "start_time": "2024-08-15T08:32:07.805Z"
   },
   {
    "duration": 7,
    "start_time": "2024-08-15T08:32:22.477Z"
   },
   {
    "duration": 14,
    "start_time": "2024-08-15T08:35:56.398Z"
   },
   {
    "duration": 101,
    "start_time": "2024-08-15T08:42:29.718Z"
   },
   {
    "duration": 8,
    "start_time": "2024-08-15T08:45:05.218Z"
   },
   {
    "duration": 10,
    "start_time": "2024-08-15T08:45:19.658Z"
   },
   {
    "duration": 10,
    "start_time": "2024-08-15T08:45:36.555Z"
   },
   {
    "duration": 6,
    "start_time": "2024-08-15T08:51:13.832Z"
   },
   {
    "duration": 112,
    "start_time": "2024-08-15T08:53:06.281Z"
   },
   {
    "duration": 2711,
    "start_time": "2024-08-15T08:56:25.339Z"
   },
   {
    "duration": 1251,
    "start_time": "2024-08-15T08:56:28.053Z"
   },
   {
    "duration": 73,
    "start_time": "2024-08-15T08:56:29.306Z"
   },
   {
    "duration": 20,
    "start_time": "2024-08-15T08:56:29.381Z"
   },
   {
    "duration": 8,
    "start_time": "2024-08-15T08:56:29.403Z"
   },
   {
    "duration": 120,
    "start_time": "2024-08-15T08:56:29.413Z"
   },
   {
    "duration": 3,
    "start_time": "2024-08-15T08:56:29.546Z"
   },
   {
    "duration": 94,
    "start_time": "2024-08-15T08:56:29.551Z"
   },
   {
    "duration": 6,
    "start_time": "2024-08-15T08:56:29.647Z"
   },
   {
    "duration": 4,
    "start_time": "2024-08-15T08:56:29.655Z"
   },
   {
    "duration": 8,
    "start_time": "2024-08-15T08:56:29.661Z"
   },
   {
    "duration": 22,
    "start_time": "2024-08-15T08:56:29.670Z"
   },
   {
    "duration": 4,
    "start_time": "2024-08-15T08:56:29.694Z"
   },
   {
    "duration": 22,
    "start_time": "2024-08-15T08:56:29.699Z"
   },
   {
    "duration": 4,
    "start_time": "2024-08-15T08:56:29.723Z"
   },
   {
    "duration": 5,
    "start_time": "2024-08-15T08:56:29.747Z"
   },
   {
    "duration": 491,
    "start_time": "2024-08-15T08:56:29.754Z"
   },
   {
    "duration": 762,
    "start_time": "2024-08-15T08:56:30.247Z"
   },
   {
    "duration": 7,
    "start_time": "2024-08-15T08:56:31.012Z"
   },
   {
    "duration": 85,
    "start_time": "2024-08-15T08:56:31.021Z"
   },
   {
    "duration": 14,
    "start_time": "2024-08-15T08:56:31.108Z"
   },
   {
    "duration": 108,
    "start_time": "2024-08-15T08:56:31.124Z"
   },
   {
    "duration": 14,
    "start_time": "2024-08-15T08:56:31.234Z"
   },
   {
    "duration": 32,
    "start_time": "2024-08-15T08:56:31.250Z"
   },
   {
    "duration": 33,
    "start_time": "2024-08-15T08:56:31.284Z"
   },
   {
    "duration": 60,
    "start_time": "2024-08-15T08:56:31.319Z"
   },
   {
    "duration": 38,
    "start_time": "2024-08-15T08:56:31.381Z"
   },
   {
    "duration": 27,
    "start_time": "2024-08-15T08:56:31.424Z"
   },
   {
    "duration": 56,
    "start_time": "2024-08-15T08:56:31.453Z"
   },
   {
    "duration": 25,
    "start_time": "2024-08-15T08:56:31.512Z"
   },
   {
    "duration": 101,
    "start_time": "2024-08-15T08:56:31.539Z"
   },
   {
    "duration": 20,
    "start_time": "2024-08-15T08:56:31.642Z"
   },
   {
    "duration": 51,
    "start_time": "2024-08-15T08:56:31.664Z"
   },
   {
    "duration": 19,
    "start_time": "2024-08-15T08:56:31.717Z"
   },
   {
    "duration": 20,
    "start_time": "2024-08-15T08:56:31.737Z"
   },
   {
    "duration": 37,
    "start_time": "2024-08-15T08:56:31.759Z"
   },
   {
    "duration": 22,
    "start_time": "2024-08-15T08:56:31.797Z"
   },
   {
    "duration": 7,
    "start_time": "2024-08-15T08:56:31.821Z"
   },
   {
    "duration": 4,
    "start_time": "2024-08-15T08:56:31.829Z"
   },
   {
    "duration": 4,
    "start_time": "2024-08-15T08:56:31.834Z"
   },
   {
    "duration": 3,
    "start_time": "2024-08-15T08:56:31.839Z"
   },
   {
    "duration": 12,
    "start_time": "2024-08-15T08:56:31.844Z"
   },
   {
    "duration": 3,
    "start_time": "2024-08-15T08:56:31.858Z"
   },
   {
    "duration": 4,
    "start_time": "2024-08-15T08:56:31.863Z"
   },
   {
    "duration": 6,
    "start_time": "2024-08-15T08:56:31.869Z"
   },
   {
    "duration": 6,
    "start_time": "2024-08-15T08:56:31.876Z"
   },
   {
    "duration": 10,
    "start_time": "2024-08-15T08:56:31.884Z"
   },
   {
    "duration": 663,
    "start_time": "2024-08-15T08:56:31.896Z"
   },
   {
    "duration": 817,
    "start_time": "2024-08-15T08:56:32.561Z"
   },
   {
    "duration": 6,
    "start_time": "2024-08-15T08:56:33.380Z"
   },
   {
    "duration": 19,
    "start_time": "2024-08-15T08:56:33.387Z"
   },
   {
    "duration": 3904,
    "start_time": "2024-08-15T08:56:33.408Z"
   },
   {
    "duration": 9,
    "start_time": "2024-08-15T08:56:37.314Z"
   },
   {
    "duration": 678,
    "start_time": "2024-08-15T08:56:37.325Z"
   },
   {
    "duration": 14,
    "start_time": "2024-08-15T08:56:38.005Z"
   },
   {
    "duration": 6,
    "start_time": "2024-08-15T08:56:38.021Z"
   },
   {
    "duration": 520,
    "start_time": "2024-08-15T08:56:38.029Z"
   },
   {
    "duration": 665,
    "start_time": "2024-08-15T08:56:38.550Z"
   },
   {
    "duration": 743,
    "start_time": "2024-08-15T08:56:39.217Z"
   },
   {
    "duration": 440,
    "start_time": "2024-08-15T08:56:39.962Z"
   },
   {
    "duration": 412,
    "start_time": "2024-08-15T08:56:40.404Z"
   },
   {
    "duration": 393,
    "start_time": "2024-08-15T08:56:40.818Z"
   },
   {
    "duration": 63,
    "start_time": "2024-08-15T08:56:41.212Z"
   },
   {
    "duration": 10,
    "start_time": "2024-08-15T08:56:41.277Z"
   },
   {
    "duration": 4,
    "start_time": "2024-08-15T08:56:41.289Z"
   },
   {
    "duration": 5,
    "start_time": "2024-08-15T08:56:41.295Z"
   },
   {
    "duration": 383,
    "start_time": "2024-08-15T08:56:41.301Z"
   },
   {
    "duration": 1519,
    "start_time": "2024-08-15T08:56:41.686Z"
   },
   {
    "duration": 12,
    "start_time": "2024-08-15T08:56:43.207Z"
   },
   {
    "duration": 4,
    "start_time": "2024-08-15T08:56:43.221Z"
   },
   {
    "duration": 15,
    "start_time": "2024-08-15T08:56:43.226Z"
   },
   {
    "duration": 5,
    "start_time": "2024-08-15T08:56:43.242Z"
   },
   {
    "duration": 141,
    "start_time": "2024-08-15T08:56:43.249Z"
   },
   {
    "duration": 7,
    "start_time": "2024-08-15T08:56:43.392Z"
   },
   {
    "duration": 9,
    "start_time": "2024-08-15T08:56:43.401Z"
   },
   {
    "duration": 6,
    "start_time": "2024-08-15T08:56:43.412Z"
   },
   {
    "duration": 33,
    "start_time": "2024-08-15T08:56:43.420Z"
   },
   {
    "duration": 18,
    "start_time": "2024-08-15T08:56:43.455Z"
   },
   {
    "duration": 6,
    "start_time": "2024-08-15T08:56:43.475Z"
   },
   {
    "duration": 156,
    "start_time": "2024-08-15T08:56:43.483Z"
   },
   {
    "duration": 7,
    "start_time": "2024-08-15T08:56:43.646Z"
   },
   {
    "duration": 28,
    "start_time": "2024-08-15T08:56:43.659Z"
   },
   {
    "duration": 14,
    "start_time": "2024-08-15T08:56:43.689Z"
   },
   {
    "duration": 24,
    "start_time": "2024-08-15T08:56:43.704Z"
   },
   {
    "duration": 21,
    "start_time": "2024-08-15T08:56:43.731Z"
   },
   {
    "duration": 15,
    "start_time": "2024-08-15T08:56:43.754Z"
   },
   {
    "duration": 13,
    "start_time": "2024-08-15T08:56:43.772Z"
   },
   {
    "duration": 2405,
    "start_time": "2024-08-15T09:49:40.994Z"
   },
   {
    "duration": 1168,
    "start_time": "2024-08-15T09:49:43.401Z"
   },
   {
    "duration": 88,
    "start_time": "2024-08-15T09:49:44.570Z"
   },
   {
    "duration": 15,
    "start_time": "2024-08-15T09:49:44.660Z"
   },
   {
    "duration": 6,
    "start_time": "2024-08-15T09:49:44.677Z"
   },
   {
    "duration": 134,
    "start_time": "2024-08-15T09:49:44.684Z"
   },
   {
    "duration": 3,
    "start_time": "2024-08-15T09:49:44.820Z"
   },
   {
    "duration": 23,
    "start_time": "2024-08-15T09:49:44.825Z"
   },
   {
    "duration": 5,
    "start_time": "2024-08-15T09:49:44.849Z"
   },
   {
    "duration": 8,
    "start_time": "2024-08-15T09:49:44.857Z"
   },
   {
    "duration": 4,
    "start_time": "2024-08-15T09:49:44.867Z"
   },
   {
    "duration": 25,
    "start_time": "2024-08-15T09:49:44.872Z"
   },
   {
    "duration": 5,
    "start_time": "2024-08-15T09:49:44.899Z"
   },
   {
    "duration": 14,
    "start_time": "2024-08-15T09:49:44.905Z"
   },
   {
    "duration": 30,
    "start_time": "2024-08-15T09:49:44.920Z"
   },
   {
    "duration": 33,
    "start_time": "2024-08-15T09:49:44.952Z"
   },
   {
    "duration": 581,
    "start_time": "2024-08-15T09:49:44.987Z"
   },
   {
    "duration": 730,
    "start_time": "2024-08-15T09:49:45.570Z"
   },
   {
    "duration": 7,
    "start_time": "2024-08-15T09:49:46.302Z"
   },
   {
    "duration": 57,
    "start_time": "2024-08-15T09:49:46.311Z"
   },
   {
    "duration": 9,
    "start_time": "2024-08-15T09:49:46.369Z"
   },
   {
    "duration": 62,
    "start_time": "2024-08-15T09:49:46.380Z"
   },
   {
    "duration": 9,
    "start_time": "2024-08-15T09:49:46.444Z"
   },
   {
    "duration": 24,
    "start_time": "2024-08-15T09:49:46.455Z"
   },
   {
    "duration": 20,
    "start_time": "2024-08-15T09:49:46.481Z"
   },
   {
    "duration": 24,
    "start_time": "2024-08-15T09:49:46.503Z"
   },
   {
    "duration": 19,
    "start_time": "2024-08-15T09:49:46.529Z"
   },
   {
    "duration": 5,
    "start_time": "2024-08-15T09:49:46.553Z"
   },
   {
    "duration": 17,
    "start_time": "2024-08-15T09:49:46.560Z"
   },
   {
    "duration": 9,
    "start_time": "2024-08-15T09:49:46.578Z"
   },
   {
    "duration": 6,
    "start_time": "2024-08-15T09:49:46.589Z"
   },
   {
    "duration": 15,
    "start_time": "2024-08-15T09:49:46.596Z"
   },
   {
    "duration": 34,
    "start_time": "2024-08-15T09:49:46.613Z"
   },
   {
    "duration": 7,
    "start_time": "2024-08-15T09:49:46.649Z"
   },
   {
    "duration": 5,
    "start_time": "2024-08-15T09:49:46.658Z"
   },
   {
    "duration": 17,
    "start_time": "2024-08-15T09:49:46.664Z"
   },
   {
    "duration": 36,
    "start_time": "2024-08-15T09:49:46.683Z"
   },
   {
    "duration": 7,
    "start_time": "2024-08-15T09:49:46.721Z"
   },
   {
    "duration": 4,
    "start_time": "2024-08-15T09:49:46.729Z"
   },
   {
    "duration": 12,
    "start_time": "2024-08-15T09:49:46.735Z"
   },
   {
    "duration": 118,
    "start_time": "2024-08-15T09:49:46.748Z"
   },
   {
    "duration": 14,
    "start_time": "2024-08-15T09:49:46.868Z"
   },
   {
    "duration": 4,
    "start_time": "2024-08-15T09:49:46.884Z"
   },
   {
    "duration": 5,
    "start_time": "2024-08-15T09:49:46.889Z"
   },
   {
    "duration": 16,
    "start_time": "2024-08-15T09:49:46.896Z"
   },
   {
    "duration": 6,
    "start_time": "2024-08-15T09:49:46.914Z"
   },
   {
    "duration": 65,
    "start_time": "2024-08-15T09:49:46.922Z"
   },
   {
    "duration": 632,
    "start_time": "2024-08-15T09:49:46.989Z"
   },
   {
    "duration": 802,
    "start_time": "2024-08-15T09:49:47.623Z"
   },
   {
    "duration": 6,
    "start_time": "2024-08-15T09:49:48.427Z"
   },
   {
    "duration": 18,
    "start_time": "2024-08-15T09:49:48.434Z"
   },
   {
    "duration": 3891,
    "start_time": "2024-08-15T09:49:48.454Z"
   },
   {
    "duration": 9,
    "start_time": "2024-08-15T09:49:52.347Z"
   },
   {
    "duration": 676,
    "start_time": "2024-08-15T09:49:52.358Z"
   },
   {
    "duration": 22,
    "start_time": "2024-08-15T09:49:53.036Z"
   },
   {
    "duration": 55,
    "start_time": "2024-08-15T09:49:53.060Z"
   },
   {
    "duration": 487,
    "start_time": "2024-08-15T09:49:53.117Z"
   },
   {
    "duration": 689,
    "start_time": "2024-08-15T09:49:53.606Z"
   },
   {
    "duration": 881,
    "start_time": "2024-08-15T09:49:54.297Z"
   },
   {
    "duration": 432,
    "start_time": "2024-08-15T09:49:55.179Z"
   },
   {
    "duration": 399,
    "start_time": "2024-08-15T09:49:55.613Z"
   },
   {
    "duration": 403,
    "start_time": "2024-08-15T09:49:56.014Z"
   },
   {
    "duration": 68,
    "start_time": "2024-08-15T09:49:56.418Z"
   },
   {
    "duration": 9,
    "start_time": "2024-08-15T09:49:56.488Z"
   },
   {
    "duration": 32,
    "start_time": "2024-08-15T09:49:56.498Z"
   },
   {
    "duration": 5,
    "start_time": "2024-08-15T09:49:56.532Z"
   },
   {
    "duration": 366,
    "start_time": "2024-08-15T09:49:56.538Z"
   },
   {
    "duration": 1454,
    "start_time": "2024-08-15T09:49:56.906Z"
   },
   {
    "duration": 11,
    "start_time": "2024-08-15T09:49:58.362Z"
   },
   {
    "duration": 8,
    "start_time": "2024-08-15T09:49:58.375Z"
   },
   {
    "duration": 16,
    "start_time": "2024-08-15T09:49:58.384Z"
   },
   {
    "duration": 3,
    "start_time": "2024-08-15T09:49:58.402Z"
   },
   {
    "duration": 131,
    "start_time": "2024-08-15T09:49:58.407Z"
   },
   {
    "duration": 10,
    "start_time": "2024-08-15T09:49:58.540Z"
   },
   {
    "duration": 9,
    "start_time": "2024-08-15T09:49:58.552Z"
   },
   {
    "duration": 6,
    "start_time": "2024-08-15T09:49:58.562Z"
   },
   {
    "duration": 11,
    "start_time": "2024-08-15T09:49:58.569Z"
   },
   {
    "duration": 19,
    "start_time": "2024-08-15T09:49:58.581Z"
   },
   {
    "duration": 6,
    "start_time": "2024-08-15T09:49:58.601Z"
   },
   {
    "duration": 132,
    "start_time": "2024-08-15T09:49:58.608Z"
   },
   {
    "duration": 9,
    "start_time": "2024-08-15T09:49:58.742Z"
   },
   {
    "duration": 77,
    "start_time": "2024-08-15T09:49:58.757Z"
   },
   {
    "duration": 7,
    "start_time": "2024-08-15T09:49:58.836Z"
   },
   {
    "duration": 14,
    "start_time": "2024-08-15T09:49:58.845Z"
   },
   {
    "duration": 13,
    "start_time": "2024-08-15T09:49:58.861Z"
   },
   {
    "duration": 13,
    "start_time": "2024-08-15T09:49:58.876Z"
   },
   {
    "duration": 14,
    "start_time": "2024-08-15T09:49:58.891Z"
   },
   {
    "duration": 2478,
    "start_time": "2024-08-15T10:25:54.448Z"
   },
   {
    "duration": 1218,
    "start_time": "2024-08-15T10:25:56.928Z"
   },
   {
    "duration": 73,
    "start_time": "2024-08-15T10:25:58.149Z"
   },
   {
    "duration": 15,
    "start_time": "2024-08-15T10:25:58.224Z"
   },
   {
    "duration": 6,
    "start_time": "2024-08-15T10:25:58.242Z"
   },
   {
    "duration": 123,
    "start_time": "2024-08-15T10:25:58.249Z"
   },
   {
    "duration": 3,
    "start_time": "2024-08-15T10:25:58.374Z"
   },
   {
    "duration": 11,
    "start_time": "2024-08-15T10:25:58.378Z"
   },
   {
    "duration": 10,
    "start_time": "2024-08-15T10:25:58.390Z"
   },
   {
    "duration": 4,
    "start_time": "2024-08-15T10:25:58.401Z"
   },
   {
    "duration": 5,
    "start_time": "2024-08-15T10:25:58.407Z"
   },
   {
    "duration": 43,
    "start_time": "2024-08-15T10:25:58.413Z"
   },
   {
    "duration": 16,
    "start_time": "2024-08-15T10:25:58.457Z"
   },
   {
    "duration": 15,
    "start_time": "2024-08-15T10:25:58.476Z"
   },
   {
    "duration": 5,
    "start_time": "2024-08-15T10:25:58.492Z"
   },
   {
    "duration": 4,
    "start_time": "2024-08-15T10:25:58.499Z"
   },
   {
    "duration": 519,
    "start_time": "2024-08-15T10:25:58.504Z"
   },
   {
    "duration": 757,
    "start_time": "2024-08-15T10:25:59.024Z"
   },
   {
    "duration": 6,
    "start_time": "2024-08-15T10:25:59.783Z"
   },
   {
    "duration": 116,
    "start_time": "2024-08-15T10:25:59.791Z"
   },
   {
    "duration": 8,
    "start_time": "2024-08-15T10:25:59.909Z"
   },
   {
    "duration": 51,
    "start_time": "2024-08-15T10:25:59.918Z"
   },
   {
    "duration": 8,
    "start_time": "2024-08-15T10:25:59.971Z"
   },
   {
    "duration": 16,
    "start_time": "2024-08-15T10:25:59.981Z"
   },
   {
    "duration": 61,
    "start_time": "2024-08-15T10:25:59.998Z"
   },
   {
    "duration": 114,
    "start_time": "2024-08-15T10:26:00.061Z"
   },
   {
    "duration": 32,
    "start_time": "2024-08-15T10:26:00.177Z"
   },
   {
    "duration": 24,
    "start_time": "2024-08-15T10:26:00.211Z"
   },
   {
    "duration": 107,
    "start_time": "2024-08-15T10:26:00.237Z"
   },
   {
    "duration": 93,
    "start_time": "2024-08-15T10:26:00.346Z"
   },
   {
    "duration": 56,
    "start_time": "2024-08-15T10:26:00.441Z"
   },
   {
    "duration": 76,
    "start_time": "2024-08-15T10:26:00.499Z"
   },
   {
    "duration": 80,
    "start_time": "2024-08-15T10:26:00.577Z"
   },
   {
    "duration": 78,
    "start_time": "2024-08-15T10:26:00.658Z"
   },
   {
    "duration": 65,
    "start_time": "2024-08-15T10:26:00.738Z"
   },
   {
    "duration": 63,
    "start_time": "2024-08-15T10:26:00.805Z"
   },
   {
    "duration": 85,
    "start_time": "2024-08-15T10:26:00.870Z"
   },
   {
    "duration": 193,
    "start_time": "2024-08-15T10:26:00.957Z"
   },
   {
    "duration": 37,
    "start_time": "2024-08-15T10:26:01.153Z"
   },
   {
    "duration": 218,
    "start_time": "2024-08-15T10:26:01.192Z"
   },
   {
    "duration": 226,
    "start_time": "2024-08-15T10:26:01.415Z"
   },
   {
    "duration": 138,
    "start_time": "2024-08-15T10:26:01.644Z"
   },
   {
    "duration": 119,
    "start_time": "2024-08-15T10:26:01.784Z"
   },
   {
    "duration": 123,
    "start_time": "2024-08-15T10:26:01.905Z"
   },
   {
    "duration": 51,
    "start_time": "2024-08-15T10:26:02.030Z"
   },
   {
    "duration": 67,
    "start_time": "2024-08-15T10:26:02.083Z"
   },
   {
    "duration": 54,
    "start_time": "2024-08-15T10:26:02.152Z"
   },
   {
    "duration": 685,
    "start_time": "2024-08-15T10:26:02.208Z"
   },
   {
    "duration": 823,
    "start_time": "2024-08-15T10:26:02.895Z"
   },
   {
    "duration": 6,
    "start_time": "2024-08-15T10:26:03.720Z"
   },
   {
    "duration": 21,
    "start_time": "2024-08-15T10:26:03.727Z"
   },
   {
    "duration": 3920,
    "start_time": "2024-08-15T10:26:03.749Z"
   },
   {
    "duration": 10,
    "start_time": "2024-08-15T10:26:07.671Z"
   },
   {
    "duration": 698,
    "start_time": "2024-08-15T10:26:07.683Z"
   },
   {
    "duration": 14,
    "start_time": "2024-08-15T10:26:08.382Z"
   },
   {
    "duration": 9,
    "start_time": "2024-08-15T10:26:08.398Z"
   },
   {
    "duration": 500,
    "start_time": "2024-08-15T10:26:08.409Z"
   },
   {
    "duration": 667,
    "start_time": "2024-08-15T10:26:08.911Z"
   },
   {
    "duration": 792,
    "start_time": "2024-08-15T10:26:09.580Z"
   },
   {
    "duration": 457,
    "start_time": "2024-08-15T10:26:10.374Z"
   },
   {
    "duration": 430,
    "start_time": "2024-08-15T10:26:10.832Z"
   },
   {
    "duration": 456,
    "start_time": "2024-08-15T10:26:11.264Z"
   },
   {
    "duration": 56,
    "start_time": "2024-08-15T10:26:11.721Z"
   },
   {
    "duration": 9,
    "start_time": "2024-08-15T10:26:11.779Z"
   },
   {
    "duration": 76,
    "start_time": "2024-08-15T10:26:11.790Z"
   },
   {
    "duration": 10,
    "start_time": "2024-08-15T10:26:11.868Z"
   },
   {
    "duration": 363,
    "start_time": "2024-08-15T10:26:11.880Z"
   },
   {
    "duration": 1454,
    "start_time": "2024-08-15T10:26:12.244Z"
   },
   {
    "duration": 11,
    "start_time": "2024-08-15T10:26:13.700Z"
   },
   {
    "duration": 8,
    "start_time": "2024-08-15T10:26:13.713Z"
   },
   {
    "duration": 25,
    "start_time": "2024-08-15T10:26:13.723Z"
   },
   {
    "duration": 13,
    "start_time": "2024-08-15T10:26:13.749Z"
   },
   {
    "duration": 197,
    "start_time": "2024-08-15T10:26:13.763Z"
   },
   {
    "duration": 5,
    "start_time": "2024-08-15T10:26:13.961Z"
   },
   {
    "duration": 8,
    "start_time": "2024-08-15T10:26:13.968Z"
   },
   {
    "duration": 5,
    "start_time": "2024-08-15T10:26:13.977Z"
   },
   {
    "duration": 24,
    "start_time": "2024-08-15T10:26:13.984Z"
   },
   {
    "duration": 14,
    "start_time": "2024-08-15T10:26:14.009Z"
   },
   {
    "duration": 4,
    "start_time": "2024-08-15T10:26:14.025Z"
   },
   {
    "duration": 117,
    "start_time": "2024-08-15T10:26:14.030Z"
   },
   {
    "duration": 7,
    "start_time": "2024-08-15T10:26:14.148Z"
   },
   {
    "duration": 13,
    "start_time": "2024-08-15T10:26:14.157Z"
   },
   {
    "duration": 7,
    "start_time": "2024-08-15T10:26:14.171Z"
   },
   {
    "duration": 11,
    "start_time": "2024-08-15T10:26:14.179Z"
   },
   {
    "duration": 11,
    "start_time": "2024-08-15T10:26:14.192Z"
   },
   {
    "duration": 13,
    "start_time": "2024-08-15T10:26:14.205Z"
   },
   {
    "duration": 38,
    "start_time": "2024-08-15T10:26:14.219Z"
   },
   {
    "duration": 2611,
    "start_time": "2024-08-15T10:26:57.080Z"
   },
   {
    "duration": 1236,
    "start_time": "2024-08-15T10:26:59.694Z"
   },
   {
    "duration": 122,
    "start_time": "2024-08-15T10:27:00.932Z"
   },
   {
    "duration": 24,
    "start_time": "2024-08-15T10:27:01.058Z"
   },
   {
    "duration": 105,
    "start_time": "2024-08-15T10:27:01.084Z"
   },
   {
    "duration": 382,
    "start_time": "2024-08-15T10:27:01.191Z"
   },
   {
    "duration": 24,
    "start_time": "2024-08-15T10:27:01.575Z"
   },
   {
    "duration": 49,
    "start_time": "2024-08-15T10:27:01.601Z"
   },
   {
    "duration": 24,
    "start_time": "2024-08-15T10:27:01.652Z"
   },
   {
    "duration": 22,
    "start_time": "2024-08-15T10:27:01.679Z"
   },
   {
    "duration": 22,
    "start_time": "2024-08-15T10:27:01.703Z"
   },
   {
    "duration": 41,
    "start_time": "2024-08-15T10:27:01.727Z"
   },
   {
    "duration": 115,
    "start_time": "2024-08-15T10:27:01.771Z"
   },
   {
    "duration": 43,
    "start_time": "2024-08-15T10:27:01.888Z"
   },
   {
    "duration": 23,
    "start_time": "2024-08-15T10:27:01.933Z"
   },
   {
    "duration": 15,
    "start_time": "2024-08-15T10:27:01.958Z"
   },
   {
    "duration": 536,
    "start_time": "2024-08-15T10:27:01.975Z"
   },
   {
    "duration": 791,
    "start_time": "2024-08-15T10:27:02.513Z"
   },
   {
    "duration": 6,
    "start_time": "2024-08-15T10:27:03.306Z"
   },
   {
    "duration": 54,
    "start_time": "2024-08-15T10:27:03.314Z"
   },
   {
    "duration": 8,
    "start_time": "2024-08-15T10:27:03.370Z"
   },
   {
    "duration": 42,
    "start_time": "2024-08-15T10:27:03.380Z"
   },
   {
    "duration": 24,
    "start_time": "2024-08-15T10:27:03.424Z"
   },
   {
    "duration": 6,
    "start_time": "2024-08-15T10:27:03.449Z"
   },
   {
    "duration": 12,
    "start_time": "2024-08-15T10:27:03.456Z"
   },
   {
    "duration": 21,
    "start_time": "2024-08-15T10:27:03.470Z"
   },
   {
    "duration": 15,
    "start_time": "2024-08-15T10:27:03.493Z"
   },
   {
    "duration": 4,
    "start_time": "2024-08-15T10:27:03.512Z"
   },
   {
    "duration": 17,
    "start_time": "2024-08-15T10:27:03.546Z"
   },
   {
    "duration": 9,
    "start_time": "2024-08-15T10:27:03.565Z"
   },
   {
    "duration": 5,
    "start_time": "2024-08-15T10:27:03.576Z"
   },
   {
    "duration": 12,
    "start_time": "2024-08-15T10:27:03.583Z"
   },
   {
    "duration": 5,
    "start_time": "2024-08-15T10:27:03.596Z"
   },
   {
    "duration": 7,
    "start_time": "2024-08-15T10:27:03.602Z"
   },
   {
    "duration": 6,
    "start_time": "2024-08-15T10:27:03.646Z"
   },
   {
    "duration": 14,
    "start_time": "2024-08-15T10:27:03.653Z"
   },
   {
    "duration": 18,
    "start_time": "2024-08-15T10:27:03.668Z"
   },
   {
    "duration": 10,
    "start_time": "2024-08-15T10:27:03.687Z"
   },
   {
    "duration": 6,
    "start_time": "2024-08-15T10:27:03.698Z"
   },
   {
    "duration": 7,
    "start_time": "2024-08-15T10:27:03.706Z"
   },
   {
    "duration": 33,
    "start_time": "2024-08-15T10:27:03.715Z"
   },
   {
    "duration": 11,
    "start_time": "2024-08-15T10:27:03.750Z"
   },
   {
    "duration": 74,
    "start_time": "2024-08-15T10:27:03.763Z"
   },
   {
    "duration": 6,
    "start_time": "2024-08-15T10:27:03.839Z"
   },
   {
    "duration": 9,
    "start_time": "2024-08-15T10:27:03.846Z"
   },
   {
    "duration": 6,
    "start_time": "2024-08-15T10:27:03.857Z"
   },
   {
    "duration": 12,
    "start_time": "2024-08-15T10:27:03.865Z"
   },
   {
    "duration": 618,
    "start_time": "2024-08-15T10:27:03.879Z"
   },
   {
    "duration": 901,
    "start_time": "2024-08-15T10:27:04.499Z"
   },
   {
    "duration": 6,
    "start_time": "2024-08-15T10:27:05.402Z"
   },
   {
    "duration": 24,
    "start_time": "2024-08-15T10:27:05.409Z"
   },
   {
    "duration": 3869,
    "start_time": "2024-08-15T10:27:05.434Z"
   },
   {
    "duration": 8,
    "start_time": "2024-08-15T10:27:09.304Z"
   },
   {
    "duration": 690,
    "start_time": "2024-08-15T10:27:09.314Z"
   },
   {
    "duration": 16,
    "start_time": "2024-08-15T10:27:10.006Z"
   },
   {
    "duration": 11,
    "start_time": "2024-08-15T10:27:10.024Z"
   },
   {
    "duration": 492,
    "start_time": "2024-08-15T10:27:10.037Z"
   },
   {
    "duration": 695,
    "start_time": "2024-08-15T10:27:10.531Z"
   },
   {
    "duration": 828,
    "start_time": "2024-08-15T10:27:11.228Z"
   },
   {
    "duration": 433,
    "start_time": "2024-08-15T10:27:12.058Z"
   },
   {
    "duration": 400,
    "start_time": "2024-08-15T10:27:12.494Z"
   },
   {
    "duration": 407,
    "start_time": "2024-08-15T10:27:12.896Z"
   },
   {
    "duration": 55,
    "start_time": "2024-08-15T10:27:13.305Z"
   },
   {
    "duration": 9,
    "start_time": "2024-08-15T10:27:13.362Z"
   },
   {
    "duration": 5,
    "start_time": "2024-08-15T10:27:13.373Z"
   },
   {
    "duration": 5,
    "start_time": "2024-08-15T10:27:13.379Z"
   },
   {
    "duration": 400,
    "start_time": "2024-08-15T10:27:13.385Z"
   },
   {
    "duration": 1477,
    "start_time": "2024-08-15T10:27:13.786Z"
   },
   {
    "duration": 12,
    "start_time": "2024-08-15T10:27:15.264Z"
   },
   {
    "duration": 22,
    "start_time": "2024-08-15T10:27:15.277Z"
   },
   {
    "duration": 27,
    "start_time": "2024-08-15T10:27:15.301Z"
   },
   {
    "duration": 21,
    "start_time": "2024-08-15T10:27:15.331Z"
   },
   {
    "duration": 117,
    "start_time": "2024-08-15T10:27:15.353Z"
   },
   {
    "duration": 5,
    "start_time": "2024-08-15T10:27:15.471Z"
   },
   {
    "duration": 13,
    "start_time": "2024-08-15T10:27:15.478Z"
   },
   {
    "duration": 5,
    "start_time": "2024-08-15T10:27:15.493Z"
   },
   {
    "duration": 7,
    "start_time": "2024-08-15T10:27:15.499Z"
   },
   {
    "duration": 23,
    "start_time": "2024-08-15T10:27:15.508Z"
   },
   {
    "duration": 5,
    "start_time": "2024-08-15T10:27:15.547Z"
   },
   {
    "duration": 113,
    "start_time": "2024-08-15T10:27:15.553Z"
   },
   {
    "duration": 6,
    "start_time": "2024-08-15T10:27:15.668Z"
   },
   {
    "duration": 5,
    "start_time": "2024-08-15T10:27:15.680Z"
   },
   {
    "duration": 7,
    "start_time": "2024-08-15T10:27:15.686Z"
   },
   {
    "duration": 14,
    "start_time": "2024-08-15T10:27:15.695Z"
   },
   {
    "duration": 49,
    "start_time": "2024-08-15T10:27:15.711Z"
   },
   {
    "duration": 12,
    "start_time": "2024-08-15T10:27:15.761Z"
   },
   {
    "duration": 83,
    "start_time": "2024-08-15T10:27:15.775Z"
   },
   {
    "duration": 3397,
    "start_time": "2024-08-19T20:53:34.998Z"
   },
   {
    "duration": 1389,
    "start_time": "2024-08-19T20:53:38.398Z"
   },
   {
    "duration": 156,
    "start_time": "2024-08-19T20:53:39.789Z"
   },
   {
    "duration": 23,
    "start_time": "2024-08-19T20:53:39.948Z"
   },
   {
    "duration": 8,
    "start_time": "2024-08-19T20:53:39.974Z"
   },
   {
    "duration": 176,
    "start_time": "2024-08-19T20:53:39.985Z"
   },
   {
    "duration": 4,
    "start_time": "2024-08-19T20:53:40.163Z"
   },
   {
    "duration": 8,
    "start_time": "2024-08-19T20:53:40.169Z"
   },
   {
    "duration": 6,
    "start_time": "2024-08-19T20:53:40.179Z"
   },
   {
    "duration": 4,
    "start_time": "2024-08-19T20:53:40.189Z"
   },
   {
    "duration": 12,
    "start_time": "2024-08-19T20:53:40.196Z"
   },
   {
    "duration": 20,
    "start_time": "2024-08-19T20:53:40.248Z"
   },
   {
    "duration": 6,
    "start_time": "2024-08-19T20:53:40.270Z"
   },
   {
    "duration": 16,
    "start_time": "2024-08-19T20:53:40.278Z"
   },
   {
    "duration": 7,
    "start_time": "2024-08-19T20:53:40.296Z"
   },
   {
    "duration": 87,
    "start_time": "2024-08-19T20:53:40.305Z"
   },
   {
    "duration": 490,
    "start_time": "2024-08-19T20:53:40.395Z"
   },
   {
    "duration": 957,
    "start_time": "2024-08-19T20:53:40.887Z"
   },
   {
    "duration": 10,
    "start_time": "2024-08-19T20:53:41.847Z"
   },
   {
    "duration": 68,
    "start_time": "2024-08-19T20:53:41.860Z"
   },
   {
    "duration": 24,
    "start_time": "2024-08-19T20:53:41.930Z"
   },
   {
    "duration": 48,
    "start_time": "2024-08-19T20:53:41.956Z"
   },
   {
    "duration": 10,
    "start_time": "2024-08-19T20:53:42.005Z"
   },
   {
    "duration": 7,
    "start_time": "2024-08-19T20:53:42.017Z"
   },
   {
    "duration": 36,
    "start_time": "2024-08-19T20:53:42.026Z"
   },
   {
    "duration": 27,
    "start_time": "2024-08-19T20:53:42.064Z"
   },
   {
    "duration": 16,
    "start_time": "2024-08-19T20:53:42.093Z"
   },
   {
    "duration": 9,
    "start_time": "2024-08-19T20:53:42.114Z"
   },
   {
    "duration": 44,
    "start_time": "2024-08-19T20:53:42.125Z"
   },
   {
    "duration": 15,
    "start_time": "2024-08-19T20:53:42.171Z"
   },
   {
    "duration": 9,
    "start_time": "2024-08-19T20:53:42.188Z"
   },
   {
    "duration": 54,
    "start_time": "2024-08-19T20:53:42.199Z"
   },
   {
    "duration": 14,
    "start_time": "2024-08-19T20:53:42.255Z"
   },
   {
    "duration": 9,
    "start_time": "2024-08-19T20:53:42.271Z"
   },
   {
    "duration": 14,
    "start_time": "2024-08-19T20:53:42.282Z"
   },
   {
    "duration": 78,
    "start_time": "2024-08-19T20:53:42.298Z"
   },
   {
    "duration": 16,
    "start_time": "2024-08-19T20:53:42.379Z"
   },
   {
    "duration": 10,
    "start_time": "2024-08-19T20:53:42.397Z"
   },
   {
    "duration": 12,
    "start_time": "2024-08-19T20:53:42.408Z"
   },
   {
    "duration": 19,
    "start_time": "2024-08-19T20:53:42.422Z"
   },
   {
    "duration": 4,
    "start_time": "2024-08-19T20:53:42.443Z"
   },
   {
    "duration": 10,
    "start_time": "2024-08-19T20:53:42.449Z"
   },
   {
    "duration": 5,
    "start_time": "2024-08-19T20:53:42.461Z"
   },
   {
    "duration": 5,
    "start_time": "2024-08-19T20:53:42.469Z"
   },
   {
    "duration": 21,
    "start_time": "2024-08-19T20:53:42.475Z"
   },
   {
    "duration": 20,
    "start_time": "2024-08-19T20:53:42.498Z"
   },
   {
    "duration": 14,
    "start_time": "2024-08-19T20:53:42.519Z"
   },
   {
    "duration": 666,
    "start_time": "2024-08-19T20:53:42.535Z"
   },
   {
    "duration": 870,
    "start_time": "2024-08-19T20:53:43.203Z"
   },
   {
    "duration": 7,
    "start_time": "2024-08-19T20:53:44.076Z"
   },
   {
    "duration": 16,
    "start_time": "2024-08-19T20:53:44.086Z"
   },
   {
    "duration": 4202,
    "start_time": "2024-08-19T20:53:44.104Z"
   },
   {
    "duration": 9,
    "start_time": "2024-08-19T20:53:48.308Z"
   },
   {
    "duration": 703,
    "start_time": "2024-08-19T20:53:48.319Z"
   },
   {
    "duration": 30,
    "start_time": "2024-08-19T20:53:49.024Z"
   },
   {
    "duration": 5,
    "start_time": "2024-08-19T20:53:49.056Z"
   },
   {
    "duration": 468,
    "start_time": "2024-08-19T20:53:49.063Z"
   },
   {
    "duration": 758,
    "start_time": "2024-08-19T20:53:49.533Z"
   },
   {
    "duration": 773,
    "start_time": "2024-08-19T20:53:50.293Z"
   },
   {
    "duration": 468,
    "start_time": "2024-08-19T20:53:51.068Z"
   },
   {
    "duration": 480,
    "start_time": "2024-08-19T20:53:51.538Z"
   },
   {
    "duration": 411,
    "start_time": "2024-08-19T20:53:52.020Z"
   },
   {
    "duration": 54,
    "start_time": "2024-08-19T20:53:52.432Z"
   },
   {
    "duration": 9,
    "start_time": "2024-08-19T20:53:52.489Z"
   },
   {
    "duration": 5,
    "start_time": "2024-08-19T20:53:52.500Z"
   },
   {
    "duration": 5,
    "start_time": "2024-08-19T20:53:52.507Z"
   },
   {
    "duration": 394,
    "start_time": "2024-08-19T20:53:52.513Z"
   },
   {
    "duration": 1528,
    "start_time": "2024-08-19T20:53:52.909Z"
   },
   {
    "duration": 17,
    "start_time": "2024-08-19T20:53:54.440Z"
   },
   {
    "duration": 5,
    "start_time": "2024-08-19T20:53:54.459Z"
   },
   {
    "duration": 15,
    "start_time": "2024-08-19T20:53:54.466Z"
   },
   {
    "duration": 8,
    "start_time": "2024-08-19T20:53:54.482Z"
   },
   {
    "duration": 132,
    "start_time": "2024-08-19T20:53:54.492Z"
   },
   {
    "duration": 5,
    "start_time": "2024-08-19T20:53:54.627Z"
   },
   {
    "duration": 38,
    "start_time": "2024-08-19T20:53:54.634Z"
   },
   {
    "duration": 6,
    "start_time": "2024-08-19T20:53:54.674Z"
   },
   {
    "duration": 11,
    "start_time": "2024-08-19T20:53:54.681Z"
   },
   {
    "duration": 21,
    "start_time": "2024-08-19T20:53:54.693Z"
   },
   {
    "duration": 5,
    "start_time": "2024-08-19T20:53:54.716Z"
   },
   {
    "duration": 110,
    "start_time": "2024-08-19T20:53:54.722Z"
   },
   {
    "duration": 14,
    "start_time": "2024-08-19T20:53:54.834Z"
   },
   {
    "duration": 24,
    "start_time": "2024-08-19T20:53:54.853Z"
   },
   {
    "duration": 8,
    "start_time": "2024-08-19T20:53:54.880Z"
   },
   {
    "duration": 37,
    "start_time": "2024-08-19T20:53:54.890Z"
   },
   {
    "duration": 20,
    "start_time": "2024-08-19T20:53:54.929Z"
   },
   {
    "duration": 16,
    "start_time": "2024-08-19T20:53:54.951Z"
   },
   {
    "duration": 66,
    "start_time": "2024-08-19T20:53:54.969Z"
   },
   {
    "duration": 345,
    "start_time": "2024-08-19T20:56:49.221Z"
   },
   {
    "duration": 3259,
    "start_time": "2024-08-21T20:57:53.845Z"
   },
   {
    "duration": 1371,
    "start_time": "2024-08-21T20:57:57.106Z"
   },
   {
    "duration": 127,
    "start_time": "2024-08-21T20:57:58.479Z"
   },
   {
    "duration": 18,
    "start_time": "2024-08-21T20:57:58.609Z"
   },
   {
    "duration": 7,
    "start_time": "2024-08-21T20:57:58.629Z"
   },
   {
    "duration": 131,
    "start_time": "2024-08-21T20:57:58.638Z"
   },
   {
    "duration": 3,
    "start_time": "2024-08-21T20:57:58.771Z"
   },
   {
    "duration": 32,
    "start_time": "2024-08-21T20:57:58.776Z"
   },
   {
    "duration": 5,
    "start_time": "2024-08-21T20:57:58.810Z"
   },
   {
    "duration": 13,
    "start_time": "2024-08-21T20:57:58.818Z"
   },
   {
    "duration": 5,
    "start_time": "2024-08-21T20:57:58.832Z"
   },
   {
    "duration": 18,
    "start_time": "2024-08-21T20:57:58.838Z"
   },
   {
    "duration": 4,
    "start_time": "2024-08-21T20:57:58.858Z"
   },
   {
    "duration": 15,
    "start_time": "2024-08-21T20:57:58.863Z"
   },
   {
    "duration": 5,
    "start_time": "2024-08-21T20:57:58.908Z"
   },
   {
    "duration": 6,
    "start_time": "2024-08-21T20:57:58.914Z"
   },
   {
    "duration": 509,
    "start_time": "2024-08-21T20:57:58.921Z"
   },
   {
    "duration": 786,
    "start_time": "2024-08-21T20:57:59.431Z"
   },
   {
    "duration": 7,
    "start_time": "2024-08-21T20:58:00.219Z"
   },
   {
    "duration": 57,
    "start_time": "2024-08-21T20:58:00.228Z"
   },
   {
    "duration": 9,
    "start_time": "2024-08-21T20:58:00.287Z"
   },
   {
    "duration": 45,
    "start_time": "2024-08-21T20:58:00.297Z"
   },
   {
    "duration": 9,
    "start_time": "2024-08-21T20:58:00.344Z"
   },
   {
    "duration": 6,
    "start_time": "2024-08-21T20:58:00.355Z"
   },
   {
    "duration": 11,
    "start_time": "2024-08-21T20:58:00.363Z"
   },
   {
    "duration": 47,
    "start_time": "2024-08-21T20:58:00.376Z"
   },
   {
    "duration": 16,
    "start_time": "2024-08-21T20:58:00.425Z"
   },
   {
    "duration": 5,
    "start_time": "2024-08-21T20:58:00.446Z"
   },
   {
    "duration": 24,
    "start_time": "2024-08-21T20:58:00.453Z"
   },
   {
    "duration": 31,
    "start_time": "2024-08-21T20:58:00.479Z"
   },
   {
    "duration": 8,
    "start_time": "2024-08-21T20:58:00.512Z"
   },
   {
    "duration": 13,
    "start_time": "2024-08-21T20:58:00.521Z"
   },
   {
    "duration": 13,
    "start_time": "2024-08-21T20:58:00.535Z"
   },
   {
    "duration": 13,
    "start_time": "2024-08-21T20:58:00.550Z"
   },
   {
    "duration": 15,
    "start_time": "2024-08-21T20:58:00.564Z"
   },
   {
    "duration": 27,
    "start_time": "2024-08-21T20:58:00.581Z"
   },
   {
    "duration": 8,
    "start_time": "2024-08-21T20:58:00.610Z"
   },
   {
    "duration": 13,
    "start_time": "2024-08-21T20:58:00.619Z"
   },
   {
    "duration": 23,
    "start_time": "2024-08-21T20:58:00.633Z"
   },
   {
    "duration": 26,
    "start_time": "2024-08-21T20:58:00.658Z"
   },
   {
    "duration": 4,
    "start_time": "2024-08-21T20:58:00.686Z"
   },
   {
    "duration": 9,
    "start_time": "2024-08-21T20:58:00.692Z"
   },
   {
    "duration": 5,
    "start_time": "2024-08-21T20:58:00.702Z"
   },
   {
    "duration": 4,
    "start_time": "2024-08-21T20:58:00.709Z"
   },
   {
    "duration": 7,
    "start_time": "2024-08-21T20:58:00.715Z"
   },
   {
    "duration": 6,
    "start_time": "2024-08-21T20:58:00.724Z"
   },
   {
    "duration": 5,
    "start_time": "2024-08-21T20:58:00.732Z"
   },
   {
    "duration": 668,
    "start_time": "2024-08-21T20:58:00.739Z"
   },
   {
    "duration": 780,
    "start_time": "2024-08-21T20:58:01.409Z"
   },
   {
    "duration": 5,
    "start_time": "2024-08-21T20:58:02.191Z"
   },
   {
    "duration": 10,
    "start_time": "2024-08-21T20:58:02.206Z"
   },
   {
    "duration": 4129,
    "start_time": "2024-08-21T20:58:02.218Z"
   },
   {
    "duration": 9,
    "start_time": "2024-08-21T20:58:06.349Z"
   },
   {
    "duration": 647,
    "start_time": "2024-08-21T20:58:06.360Z"
   },
   {
    "duration": 14,
    "start_time": "2024-08-21T20:58:07.009Z"
   },
   {
    "duration": 13,
    "start_time": "2024-08-21T20:58:07.024Z"
   },
   {
    "duration": 570,
    "start_time": "2024-08-21T20:58:07.039Z"
   },
   {
    "duration": 713,
    "start_time": "2024-08-21T20:58:07.611Z"
   },
   {
    "duration": 768,
    "start_time": "2024-08-21T20:58:08.326Z"
   },
   {
    "duration": 449,
    "start_time": "2024-08-21T20:58:09.095Z"
   },
   {
    "duration": 418,
    "start_time": "2024-08-21T20:58:09.545Z"
   },
   {
    "duration": 459,
    "start_time": "2024-08-21T20:58:09.965Z"
   },
   {
    "duration": 43,
    "start_time": "2024-08-21T20:58:10.426Z"
   },
   {
    "duration": 8,
    "start_time": "2024-08-21T20:58:10.470Z"
   },
   {
    "duration": 8,
    "start_time": "2024-08-21T20:58:10.480Z"
   },
   {
    "duration": 18,
    "start_time": "2024-08-21T20:58:10.489Z"
   },
   {
    "duration": 350,
    "start_time": "2024-08-21T20:58:10.509Z"
   },
   {
    "duration": 1410,
    "start_time": "2024-08-21T20:58:10.861Z"
   },
   {
    "duration": 12,
    "start_time": "2024-08-21T20:58:12.273Z"
   },
   {
    "duration": 3,
    "start_time": "2024-08-21T20:58:12.287Z"
   },
   {
    "duration": 19,
    "start_time": "2024-08-21T20:58:12.292Z"
   },
   {
    "duration": 4,
    "start_time": "2024-08-21T20:58:12.313Z"
   },
   {
    "duration": 118,
    "start_time": "2024-08-21T20:58:12.318Z"
   },
   {
    "duration": 5,
    "start_time": "2024-08-21T20:58:12.437Z"
   },
   {
    "duration": 7,
    "start_time": "2024-08-21T20:58:12.443Z"
   },
   {
    "duration": 8,
    "start_time": "2024-08-21T20:58:12.451Z"
   },
   {
    "duration": 7,
    "start_time": "2024-08-21T20:58:12.460Z"
   },
   {
    "duration": 13,
    "start_time": "2024-08-21T20:58:12.468Z"
   },
   {
    "duration": 5,
    "start_time": "2024-08-21T20:58:12.506Z"
   },
   {
    "duration": 106,
    "start_time": "2024-08-21T20:58:12.513Z"
   },
   {
    "duration": 6,
    "start_time": "2024-08-21T20:58:12.621Z"
   },
   {
    "duration": 5,
    "start_time": "2024-08-21T20:58:12.632Z"
   },
   {
    "duration": 46,
    "start_time": "2024-08-21T20:58:12.639Z"
   },
   {
    "duration": 31,
    "start_time": "2024-08-21T20:58:12.687Z"
   },
   {
    "duration": 12,
    "start_time": "2024-08-21T20:58:12.720Z"
   },
   {
    "duration": 11,
    "start_time": "2024-08-21T20:58:12.733Z"
   },
   {
    "duration": 11,
    "start_time": "2024-08-21T20:58:12.745Z"
   }
  ],
  "kernelspec": {
   "display_name": "Python 3 (ipykernel)",
   "language": "python",
   "name": "python3"
  },
  "language_info": {
   "codemirror_mode": {
    "name": "ipython",
    "version": 3
   },
   "file_extension": ".py",
   "mimetype": "text/x-python",
   "name": "python",
   "nbconvert_exporter": "python",
   "pygments_lexer": "ipython3",
   "version": "3.11.9"
  },
  "toc": {
   "base_numbering": 1,
   "nav_menu": {},
   "number_sections": true,
   "sideBar": true,
   "skip_h1_title": true,
   "title_cell": "Table of Contents",
   "title_sidebar": "Contents",
   "toc_cell": false,
   "toc_position": {
    "height": "calc(100% - 180px)",
    "left": "10px",
    "top": "150px",
    "width": "288px"
   },
   "toc_section_display": true,
   "toc_window_display": true
  }
 },
 "nbformat": 4,
 "nbformat_minor": 2
}
