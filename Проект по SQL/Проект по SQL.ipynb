{
 "cells": [
  {
   "cell_type": "markdown",
   "metadata": {},
   "source": [
    "# Проект по SQL"
   ]
  },
  {
   "cell_type": "markdown",
   "metadata": {},
   "source": [
    "**Описание проекта:** Коронавирус застал мир врасплох, изменив привычный порядок вещей. На какое-то время жители городов перестали выходить на улицу, посещать кафе и торговые центры. Зато стало больше времени для книг. Это заметили стартаперы — и бросились создавать приложения для тех, кто любит читать.\n",
    "Ваша компания решила быть на волне и купила крупный сервис для чтения книг по подписке. "
   ]
  },
  {
   "cell_type": "markdown",
   "metadata": {},
   "source": [
    "**Цель проекта:** Ваша первая задача как аналитика — проанализировать базу данных.\n",
    "В ней — информация о книгах, издательствах, авторах, а также пользовательские обзоры книг. Эти данные помогут сформулировать ценностное предложение для нового продукта."
   ]
  },
  {
   "cell_type": "markdown",
   "metadata": {},
   "source": [
    "**Описание данных**\n",
    "\n",
    "Таблица **books**\n",
    "\n",
    "Содержит данные о книгах:\n",
    "- book_id — идентификатор книги;\n",
    "- author_id — идентификатор автора;\n",
    "- title — название книги;\n",
    "- num_pages — количество страниц;\n",
    "- publication_date — дата публикации книги;\n",
    "- publisher_id — идентификатор издателя.\n",
    "\n",
    "Таблица **authors**\n",
    "\n",
    "Содержит данные об авторах:\n",
    "- author_id — идентификатор автора;\n",
    "- author — имя автора.\n",
    "\n",
    "Таблица **publishers**\n",
    "\n",
    "Содержит данные об издательствах:\n",
    "- publisher_id — идентификатор издательства;\n",
    "- publisher — название издательства;\n",
    "\n",
    "Таблица **ratings**\n",
    "\n",
    "Содержит данные о пользовательских оценках книг:\n",
    "- rating_id — идентификатор оценки;\n",
    "- book_id — идентификатор книги;\n",
    "- username — имя пользователя, оставившего оценку;\n",
    "- rating — оценка книги.\n",
    "- Таблица reviews\n",
    "- Содержит данные о пользовательских обзорах:\n",
    "- review_id — идентификатор обзора;\n",
    "- book_id — идентификатор книги;\n",
    "- username — имя автора обзора;\n",
    "- text — текст обзора.\n",
    "\n",
    "Таблица **reviews**\n",
    "\n",
    "Содержит данные о пользовательских обзорах:\n",
    "- review_id — идентификатор обзора;\n",
    "- book_id — идентификатор книги;\n",
    "- username — имя автора обзора;\n",
    "- text — текст обзора."
   ]
  },
  {
   "cell_type": "markdown",
   "metadata": {},
   "source": [
    "**Задания**\n",
    "1. [Посчитайте, сколько книг вышло после 1 января 2000 года;](#section1)\n",
    "2. [Для каждой книги посчитайте количество обзоров и среднюю оценку;](#section2)\n",
    "3. [Определите издательство, которое выпустило наибольшее число книг толще 50 страниц — так вы исключите из анализа брошюры;](#section3)\n",
    "4. [Определите автора с самой высокой средней оценкой книг — учитывайте только книги с 50 и более оценками;](#section4)\n",
    "5. [Посчитайте среднее количество обзоров от пользователей, которые поставили больше 48 оценок.](#section5)\n",
    "6. [Выводы](#section6)\n"
   ]
  },
  {
   "cell_type": "markdown",
   "metadata": {},
   "source": [
    "**Доступ к базе данных**"
   ]
  },
  {
   "cell_type": "code",
   "execution_count": 1,
   "metadata": {},
   "outputs": [
    {
     "name": "stdout",
     "output_type": "stream",
     "text": [
      "Requirement already satisfied: pandas in /opt/anaconda3/envs/practicum/lib/python3.11/site-packages (2.2.2)\n",
      "Requirement already satisfied: sqlalchemy in /opt/anaconda3/envs/practicum/lib/python3.11/site-packages (2.0.34)\n",
      "Requirement already satisfied: numpy>=1.23.2 in /opt/anaconda3/envs/practicum/lib/python3.11/site-packages (from pandas) (1.26.4)\n",
      "Requirement already satisfied: python-dateutil>=2.8.2 in /opt/anaconda3/envs/practicum/lib/python3.11/site-packages (from pandas) (2.9.0)\n",
      "Requirement already satisfied: pytz>=2020.1 in /opt/anaconda3/envs/practicum/lib/python3.11/site-packages (from pandas) (2024.1)\n",
      "Requirement already satisfied: tzdata>=2022.7 in /opt/anaconda3/envs/practicum/lib/python3.11/site-packages (from pandas) (2024.1)\n",
      "Requirement already satisfied: typing-extensions>=4.6.0 in /opt/anaconda3/envs/practicum/lib/python3.11/site-packages (from sqlalchemy) (4.11.0)\n",
      "Requirement already satisfied: six>=1.5 in /opt/anaconda3/envs/practicum/lib/python3.11/site-packages (from python-dateutil>=2.8.2->pandas) (1.16.0)\n",
      "Note: you may need to restart the kernel to use updated packages.\n"
     ]
    }
   ],
   "source": [
    "pip install --upgrade pandas sqlalchemy"
   ]
  },
  {
   "cell_type": "code",
   "execution_count": 2,
   "metadata": {},
   "outputs": [],
   "source": [
    "# импортируем библиотеки\n",
    "import pandas as pd\n",
    "from sqlalchemy import text, create_engine"
   ]
  },
  {
   "cell_type": "code",
   "execution_count": 3,
   "metadata": {},
   "outputs": [],
   "source": [
    "# устанавливаем параметры\n",
    "db_config = {'user': 'praktikum_student', # имя пользователя\n",
    "'pwd': 'Sdf4$2;d-d30pp', # пароль\n",
    "'host': 'rc1b-wcoijxj3yxfsf3fs.mdb.yandexcloud.net',\n",
    "'port': 6432, # порт подключения\n",
    "'db': 'data-analyst-final-project-db'} # название базы данных\n",
    "connection_string = 'postgresql://{user}:{pwd}@{host}:{port}/{db}'.format(**db_config)\n",
    "# сохраняем коннектор\n",
    "engine = create_engine(connection_string, connect_args={'sslmode':'require'})"
   ]
  },
  {
   "cell_type": "code",
   "execution_count": 4,
   "metadata": {},
   "outputs": [],
   "source": [
    "# уберем ограничение по количеству выводимых символов\n",
    "pd.options.display.max_colwidth = 150"
   ]
  },
  {
   "cell_type": "code",
   "execution_count": 5,
   "metadata": {},
   "outputs": [],
   "source": [
    "# функция для чтения таблиц\n",
    "def SQL(text):\n",
    "    return pd.io.sql.read_sql(text, con = engine) "
   ]
  },
  {
   "cell_type": "markdown",
   "metadata": {},
   "source": [
    "Посмотрим на все таблицы:"
   ]
  },
  {
   "cell_type": "code",
   "execution_count": 6,
   "metadata": {
    "scrolled": false
   },
   "outputs": [
    {
     "data": {
      "text/html": [
       "<div>\n",
       "<style scoped>\n",
       "    .dataframe tbody tr th:only-of-type {\n",
       "        vertical-align: middle;\n",
       "    }\n",
       "\n",
       "    .dataframe tbody tr th {\n",
       "        vertical-align: top;\n",
       "    }\n",
       "\n",
       "    .dataframe thead th {\n",
       "        text-align: right;\n",
       "    }\n",
       "</style>\n",
       "<table border=\"1\" class=\"dataframe\">\n",
       "  <thead>\n",
       "    <tr style=\"text-align: right;\">\n",
       "      <th></th>\n",
       "      <th>book_id</th>\n",
       "      <th>author_id</th>\n",
       "      <th>title</th>\n",
       "      <th>num_pages</th>\n",
       "      <th>publication_date</th>\n",
       "      <th>publisher_id</th>\n",
       "    </tr>\n",
       "  </thead>\n",
       "  <tbody>\n",
       "    <tr>\n",
       "      <th>0</th>\n",
       "      <td>1</td>\n",
       "      <td>546</td>\n",
       "      <td>'Salem's Lot</td>\n",
       "      <td>594</td>\n",
       "      <td>2005-11-01</td>\n",
       "      <td>93</td>\n",
       "    </tr>\n",
       "    <tr>\n",
       "      <th>1</th>\n",
       "      <td>2</td>\n",
       "      <td>465</td>\n",
       "      <td>1 000 Places to See Before You Die</td>\n",
       "      <td>992</td>\n",
       "      <td>2003-05-22</td>\n",
       "      <td>336</td>\n",
       "    </tr>\n",
       "    <tr>\n",
       "      <th>2</th>\n",
       "      <td>3</td>\n",
       "      <td>407</td>\n",
       "      <td>13 Little Blue Envelopes (Little Blue Envelope  #1)</td>\n",
       "      <td>322</td>\n",
       "      <td>2010-12-21</td>\n",
       "      <td>135</td>\n",
       "    </tr>\n",
       "    <tr>\n",
       "      <th>3</th>\n",
       "      <td>4</td>\n",
       "      <td>82</td>\n",
       "      <td>1491: New Revelations of the Americas Before Columbus</td>\n",
       "      <td>541</td>\n",
       "      <td>2006-10-10</td>\n",
       "      <td>309</td>\n",
       "    </tr>\n",
       "    <tr>\n",
       "      <th>4</th>\n",
       "      <td>5</td>\n",
       "      <td>125</td>\n",
       "      <td>1776</td>\n",
       "      <td>386</td>\n",
       "      <td>2006-07-04</td>\n",
       "      <td>268</td>\n",
       "    </tr>\n",
       "  </tbody>\n",
       "</table>\n",
       "</div>"
      ],
      "text/plain": [
       "   book_id  author_id                                                  title  \\\n",
       "0        1        546                                           'Salem's Lot   \n",
       "1        2        465                     1 000 Places to See Before You Die   \n",
       "2        3        407    13 Little Blue Envelopes (Little Blue Envelope  #1)   \n",
       "3        4         82  1491: New Revelations of the Americas Before Columbus   \n",
       "4        5        125                                                   1776   \n",
       "\n",
       "   num_pages publication_date  publisher_id  \n",
       "0        594       2005-11-01            93  \n",
       "1        992       2003-05-22           336  \n",
       "2        322       2010-12-21           135  \n",
       "3        541       2006-10-10           309  \n",
       "4        386       2006-07-04           268  "
      ]
     },
     "execution_count": 6,
     "metadata": {},
     "output_type": "execute_result"
    }
   ],
   "source": [
    "# выполним SQL-запрос, используем Pandas\n",
    "# выведем первые 5 строк таблицы books\n",
    "books = SQL('''SELECT * \n",
    "               FROM books \n",
    "               LIMIT 5''')\n",
    "books"
   ]
  },
  {
   "cell_type": "code",
   "execution_count": 7,
   "metadata": {},
   "outputs": [
    {
     "data": {
      "text/html": [
       "<div>\n",
       "<style scoped>\n",
       "    .dataframe tbody tr th:only-of-type {\n",
       "        vertical-align: middle;\n",
       "    }\n",
       "\n",
       "    .dataframe tbody tr th {\n",
       "        vertical-align: top;\n",
       "    }\n",
       "\n",
       "    .dataframe thead th {\n",
       "        text-align: right;\n",
       "    }\n",
       "</style>\n",
       "<table border=\"1\" class=\"dataframe\">\n",
       "  <thead>\n",
       "    <tr style=\"text-align: right;\">\n",
       "      <th></th>\n",
       "      <th>Количество строк</th>\n",
       "    </tr>\n",
       "  </thead>\n",
       "  <tbody>\n",
       "    <tr>\n",
       "      <th>0</th>\n",
       "      <td>1000</td>\n",
       "    </tr>\n",
       "  </tbody>\n",
       "</table>\n",
       "</div>"
      ],
      "text/plain": [
       "   Количество строк\n",
       "0              1000"
      ]
     },
     "execution_count": 7,
     "metadata": {},
     "output_type": "execute_result"
    }
   ],
   "source": [
    "books_count = SQL('''SELECT COUNT(*) AS \"Количество строк\" \n",
    "                     FROM books''')\n",
    "books_count"
   ]
  },
  {
   "cell_type": "markdown",
   "metadata": {},
   "source": [
    "Таблица **books** имеет 6 столбоц и 1000 строк"
   ]
  },
  {
   "cell_type": "code",
   "execution_count": 8,
   "metadata": {
    "scrolled": true
   },
   "outputs": [
    {
     "data": {
      "text/html": [
       "<div>\n",
       "<style scoped>\n",
       "    .dataframe tbody tr th:only-of-type {\n",
       "        vertical-align: middle;\n",
       "    }\n",
       "\n",
       "    .dataframe tbody tr th {\n",
       "        vertical-align: top;\n",
       "    }\n",
       "\n",
       "    .dataframe thead th {\n",
       "        text-align: right;\n",
       "    }\n",
       "</style>\n",
       "<table border=\"1\" class=\"dataframe\">\n",
       "  <thead>\n",
       "    <tr style=\"text-align: right;\">\n",
       "      <th></th>\n",
       "      <th>author_id</th>\n",
       "      <th>author</th>\n",
       "    </tr>\n",
       "  </thead>\n",
       "  <tbody>\n",
       "    <tr>\n",
       "      <th>0</th>\n",
       "      <td>1</td>\n",
       "      <td>A.S. Byatt</td>\n",
       "    </tr>\n",
       "    <tr>\n",
       "      <th>1</th>\n",
       "      <td>2</td>\n",
       "      <td>Aesop/Laura Harris/Laura Gibbs</td>\n",
       "    </tr>\n",
       "    <tr>\n",
       "      <th>2</th>\n",
       "      <td>3</td>\n",
       "      <td>Agatha Christie</td>\n",
       "    </tr>\n",
       "    <tr>\n",
       "      <th>3</th>\n",
       "      <td>4</td>\n",
       "      <td>Alan Brennert</td>\n",
       "    </tr>\n",
       "    <tr>\n",
       "      <th>4</th>\n",
       "      <td>5</td>\n",
       "      <td>Alan Moore/David   Lloyd</td>\n",
       "    </tr>\n",
       "  </tbody>\n",
       "</table>\n",
       "</div>"
      ],
      "text/plain": [
       "   author_id                          author\n",
       "0          1                      A.S. Byatt\n",
       "1          2  Aesop/Laura Harris/Laura Gibbs\n",
       "2          3                 Agatha Christie\n",
       "3          4                   Alan Brennert\n",
       "4          5        Alan Moore/David   Lloyd"
      ]
     },
     "execution_count": 8,
     "metadata": {},
     "output_type": "execute_result"
    }
   ],
   "source": [
    "# выполним SQL-запрос, используем Pandas\n",
    "# выведем первые 5 строк таблицы authors\n",
    "authors = SQL('''SELECT * \n",
    "                 FROM authors LIMIT 5''')\n",
    "authors"
   ]
  },
  {
   "cell_type": "code",
   "execution_count": 9,
   "metadata": {},
   "outputs": [
    {
     "data": {
      "text/html": [
       "<div>\n",
       "<style scoped>\n",
       "    .dataframe tbody tr th:only-of-type {\n",
       "        vertical-align: middle;\n",
       "    }\n",
       "\n",
       "    .dataframe tbody tr th {\n",
       "        vertical-align: top;\n",
       "    }\n",
       "\n",
       "    .dataframe thead th {\n",
       "        text-align: right;\n",
       "    }\n",
       "</style>\n",
       "<table border=\"1\" class=\"dataframe\">\n",
       "  <thead>\n",
       "    <tr style=\"text-align: right;\">\n",
       "      <th></th>\n",
       "      <th>Количество строк</th>\n",
       "    </tr>\n",
       "  </thead>\n",
       "  <tbody>\n",
       "    <tr>\n",
       "      <th>0</th>\n",
       "      <td>636</td>\n",
       "    </tr>\n",
       "  </tbody>\n",
       "</table>\n",
       "</div>"
      ],
      "text/plain": [
       "   Количество строк\n",
       "0               636"
      ]
     },
     "execution_count": 9,
     "metadata": {},
     "output_type": "execute_result"
    }
   ],
   "source": [
    "authors_count = SQL('''SELECT COUNT(*) AS \"Количество строк\" \n",
    "                       FROM authors LIMIT 5''')\n",
    "authors_count"
   ]
  },
  {
   "cell_type": "markdown",
   "metadata": {},
   "source": [
    "Таблица **authors** имеет два столбцы и 636 строк"
   ]
  },
  {
   "cell_type": "code",
   "execution_count": 10,
   "metadata": {},
   "outputs": [
    {
     "data": {
      "text/html": [
       "<div>\n",
       "<style scoped>\n",
       "    .dataframe tbody tr th:only-of-type {\n",
       "        vertical-align: middle;\n",
       "    }\n",
       "\n",
       "    .dataframe tbody tr th {\n",
       "        vertical-align: top;\n",
       "    }\n",
       "\n",
       "    .dataframe thead th {\n",
       "        text-align: right;\n",
       "    }\n",
       "</style>\n",
       "<table border=\"1\" class=\"dataframe\">\n",
       "  <thead>\n",
       "    <tr style=\"text-align: right;\">\n",
       "      <th></th>\n",
       "      <th>publisher_id</th>\n",
       "      <th>publisher</th>\n",
       "    </tr>\n",
       "  </thead>\n",
       "  <tbody>\n",
       "    <tr>\n",
       "      <th>0</th>\n",
       "      <td>1</td>\n",
       "      <td>Ace</td>\n",
       "    </tr>\n",
       "    <tr>\n",
       "      <th>1</th>\n",
       "      <td>2</td>\n",
       "      <td>Ace Book</td>\n",
       "    </tr>\n",
       "    <tr>\n",
       "      <th>2</th>\n",
       "      <td>3</td>\n",
       "      <td>Ace Books</td>\n",
       "    </tr>\n",
       "    <tr>\n",
       "      <th>3</th>\n",
       "      <td>4</td>\n",
       "      <td>Ace Hardcover</td>\n",
       "    </tr>\n",
       "    <tr>\n",
       "      <th>4</th>\n",
       "      <td>5</td>\n",
       "      <td>Addison Wesley Publishing Company</td>\n",
       "    </tr>\n",
       "  </tbody>\n",
       "</table>\n",
       "</div>"
      ],
      "text/plain": [
       "   publisher_id                          publisher\n",
       "0             1                                Ace\n",
       "1             2                           Ace Book\n",
       "2             3                          Ace Books\n",
       "3             4                      Ace Hardcover\n",
       "4             5  Addison Wesley Publishing Company"
      ]
     },
     "execution_count": 10,
     "metadata": {},
     "output_type": "execute_result"
    }
   ],
   "source": [
    "# выполним SQL-запрос, используем Pandas\n",
    "# выведем первые 5 строк таблицы publishers\n",
    "publishers = SQL('''SELECT * \n",
    "                    FROM publishers \n",
    "                    LIMIT 5''')\n",
    "publishers"
   ]
  },
  {
   "cell_type": "code",
   "execution_count": 11,
   "metadata": {},
   "outputs": [
    {
     "data": {
      "text/html": [
       "<div>\n",
       "<style scoped>\n",
       "    .dataframe tbody tr th:only-of-type {\n",
       "        vertical-align: middle;\n",
       "    }\n",
       "\n",
       "    .dataframe tbody tr th {\n",
       "        vertical-align: top;\n",
       "    }\n",
       "\n",
       "    .dataframe thead th {\n",
       "        text-align: right;\n",
       "    }\n",
       "</style>\n",
       "<table border=\"1\" class=\"dataframe\">\n",
       "  <thead>\n",
       "    <tr style=\"text-align: right;\">\n",
       "      <th></th>\n",
       "      <th>count</th>\n",
       "    </tr>\n",
       "  </thead>\n",
       "  <tbody>\n",
       "    <tr>\n",
       "      <th>0</th>\n",
       "      <td>340</td>\n",
       "    </tr>\n",
       "  </tbody>\n",
       "</table>\n",
       "</div>"
      ],
      "text/plain": [
       "   count\n",
       "0    340"
      ]
     },
     "execution_count": 11,
     "metadata": {},
     "output_type": "execute_result"
    }
   ],
   "source": [
    "publishers_count = SQL('''SELECT COUNT(*) \n",
    "                          FROM publishers''')\n",
    "publishers_count"
   ]
  },
  {
   "cell_type": "markdown",
   "metadata": {},
   "source": [
    "Таблица **publishers** имеет два столбца и 340 строк"
   ]
  },
  {
   "cell_type": "code",
   "execution_count": 12,
   "metadata": {},
   "outputs": [
    {
     "data": {
      "text/html": [
       "<div>\n",
       "<style scoped>\n",
       "    .dataframe tbody tr th:only-of-type {\n",
       "        vertical-align: middle;\n",
       "    }\n",
       "\n",
       "    .dataframe tbody tr th {\n",
       "        vertical-align: top;\n",
       "    }\n",
       "\n",
       "    .dataframe thead th {\n",
       "        text-align: right;\n",
       "    }\n",
       "</style>\n",
       "<table border=\"1\" class=\"dataframe\">\n",
       "  <thead>\n",
       "    <tr style=\"text-align: right;\">\n",
       "      <th></th>\n",
       "      <th>rating_id</th>\n",
       "      <th>book_id</th>\n",
       "      <th>username</th>\n",
       "      <th>rating</th>\n",
       "    </tr>\n",
       "  </thead>\n",
       "  <tbody>\n",
       "    <tr>\n",
       "      <th>0</th>\n",
       "      <td>1</td>\n",
       "      <td>1</td>\n",
       "      <td>ryanfranco</td>\n",
       "      <td>4</td>\n",
       "    </tr>\n",
       "    <tr>\n",
       "      <th>1</th>\n",
       "      <td>2</td>\n",
       "      <td>1</td>\n",
       "      <td>grantpatricia</td>\n",
       "      <td>2</td>\n",
       "    </tr>\n",
       "    <tr>\n",
       "      <th>2</th>\n",
       "      <td>3</td>\n",
       "      <td>1</td>\n",
       "      <td>brandtandrea</td>\n",
       "      <td>5</td>\n",
       "    </tr>\n",
       "    <tr>\n",
       "      <th>3</th>\n",
       "      <td>4</td>\n",
       "      <td>2</td>\n",
       "      <td>lorichen</td>\n",
       "      <td>3</td>\n",
       "    </tr>\n",
       "    <tr>\n",
       "      <th>4</th>\n",
       "      <td>5</td>\n",
       "      <td>2</td>\n",
       "      <td>mariokeller</td>\n",
       "      <td>2</td>\n",
       "    </tr>\n",
       "  </tbody>\n",
       "</table>\n",
       "</div>"
      ],
      "text/plain": [
       "   rating_id  book_id       username  rating\n",
       "0          1        1     ryanfranco       4\n",
       "1          2        1  grantpatricia       2\n",
       "2          3        1   brandtandrea       5\n",
       "3          4        2       lorichen       3\n",
       "4          5        2    mariokeller       2"
      ]
     },
     "execution_count": 12,
     "metadata": {},
     "output_type": "execute_result"
    }
   ],
   "source": [
    "# выполним SQL-запрос, используем Pandas\n",
    "# выведем первые 5 строк таблицы ratings\n",
    "ratings = SQL('''SELECT * \n",
    "                 FROM ratings \n",
    "                 LIMIT 5''')\n",
    "ratings"
   ]
  },
  {
   "cell_type": "code",
   "execution_count": 13,
   "metadata": {},
   "outputs": [
    {
     "data": {
      "text/html": [
       "<div>\n",
       "<style scoped>\n",
       "    .dataframe tbody tr th:only-of-type {\n",
       "        vertical-align: middle;\n",
       "    }\n",
       "\n",
       "    .dataframe tbody tr th {\n",
       "        vertical-align: top;\n",
       "    }\n",
       "\n",
       "    .dataframe thead th {\n",
       "        text-align: right;\n",
       "    }\n",
       "</style>\n",
       "<table border=\"1\" class=\"dataframe\">\n",
       "  <thead>\n",
       "    <tr style=\"text-align: right;\">\n",
       "      <th></th>\n",
       "      <th>count</th>\n",
       "    </tr>\n",
       "  </thead>\n",
       "  <tbody>\n",
       "    <tr>\n",
       "      <th>0</th>\n",
       "      <td>340</td>\n",
       "    </tr>\n",
       "  </tbody>\n",
       "</table>\n",
       "</div>"
      ],
      "text/plain": [
       "   count\n",
       "0    340"
      ]
     },
     "execution_count": 13,
     "metadata": {},
     "output_type": "execute_result"
    }
   ],
   "source": [
    "ratings_count = SQL('''SELECT COUNT(*) \n",
    "                       FROM publishers''')\n",
    "ratings_count"
   ]
  },
  {
   "cell_type": "markdown",
   "metadata": {},
   "source": [
    "Таблица **ratings** имеет 4 столбца и 340 строк"
   ]
  },
  {
   "cell_type": "code",
   "execution_count": 14,
   "metadata": {
    "scrolled": true
   },
   "outputs": [
    {
     "data": {
      "text/html": [
       "<div>\n",
       "<style scoped>\n",
       "    .dataframe tbody tr th:only-of-type {\n",
       "        vertical-align: middle;\n",
       "    }\n",
       "\n",
       "    .dataframe tbody tr th {\n",
       "        vertical-align: top;\n",
       "    }\n",
       "\n",
       "    .dataframe thead th {\n",
       "        text-align: right;\n",
       "    }\n",
       "</style>\n",
       "<table border=\"1\" class=\"dataframe\">\n",
       "  <thead>\n",
       "    <tr style=\"text-align: right;\">\n",
       "      <th></th>\n",
       "      <th>review_id</th>\n",
       "      <th>book_id</th>\n",
       "      <th>username</th>\n",
       "      <th>text</th>\n",
       "    </tr>\n",
       "  </thead>\n",
       "  <tbody>\n",
       "    <tr>\n",
       "      <th>0</th>\n",
       "      <td>1</td>\n",
       "      <td>1</td>\n",
       "      <td>brandtandrea</td>\n",
       "      <td>Mention society tell send professor analysis. Over provide race technology continue these.</td>\n",
       "    </tr>\n",
       "    <tr>\n",
       "      <th>1</th>\n",
       "      <td>2</td>\n",
       "      <td>1</td>\n",
       "      <td>ryanfranco</td>\n",
       "      <td>Foot glass pretty audience hit themselves. Among admit investment argue security.</td>\n",
       "    </tr>\n",
       "    <tr>\n",
       "      <th>2</th>\n",
       "      <td>3</td>\n",
       "      <td>2</td>\n",
       "      <td>lorichen</td>\n",
       "      <td>Listen treat keep worry. Miss husband tax but person sport treatment industry. Kitchen decision deep the. Social party body the.</td>\n",
       "    </tr>\n",
       "    <tr>\n",
       "      <th>3</th>\n",
       "      <td>4</td>\n",
       "      <td>3</td>\n",
       "      <td>johnsonamanda</td>\n",
       "      <td>Finally month interesting blue could nature cultural bit. Prepare beat finish grow that smile teach. Dream me play near.</td>\n",
       "    </tr>\n",
       "    <tr>\n",
       "      <th>4</th>\n",
       "      <td>5</td>\n",
       "      <td>3</td>\n",
       "      <td>scotttamara</td>\n",
       "      <td>Nation purpose heavy give wait song will. List dinner another whole positive radio fast. Music staff many green.</td>\n",
       "    </tr>\n",
       "  </tbody>\n",
       "</table>\n",
       "</div>"
      ],
      "text/plain": [
       "   review_id  book_id       username  \\\n",
       "0          1        1   brandtandrea   \n",
       "1          2        1     ryanfranco   \n",
       "2          3        2       lorichen   \n",
       "3          4        3  johnsonamanda   \n",
       "4          5        3    scotttamara   \n",
       "\n",
       "                                                                                                                               text  \n",
       "0                                        Mention society tell send professor analysis. Over provide race technology continue these.  \n",
       "1                                                 Foot glass pretty audience hit themselves. Among admit investment argue security.  \n",
       "2  Listen treat keep worry. Miss husband tax but person sport treatment industry. Kitchen decision deep the. Social party body the.  \n",
       "3          Finally month interesting blue could nature cultural bit. Prepare beat finish grow that smile teach. Dream me play near.  \n",
       "4                  Nation purpose heavy give wait song will. List dinner another whole positive radio fast. Music staff many green.  "
      ]
     },
     "execution_count": 14,
     "metadata": {},
     "output_type": "execute_result"
    }
   ],
   "source": [
    "# выполним SQL-запрос, используем Pandas\n",
    "# выведем первые 5 строк таблицы reviews\n",
    "reviews = SQL('''SELECT *\n",
    "                 FROM reviews\n",
    "                 LIMIT 5''')\n",
    "reviews"
   ]
  },
  {
   "cell_type": "code",
   "execution_count": 15,
   "metadata": {},
   "outputs": [
    {
     "data": {
      "text/html": [
       "<div>\n",
       "<style scoped>\n",
       "    .dataframe tbody tr th:only-of-type {\n",
       "        vertical-align: middle;\n",
       "    }\n",
       "\n",
       "    .dataframe tbody tr th {\n",
       "        vertical-align: top;\n",
       "    }\n",
       "\n",
       "    .dataframe thead th {\n",
       "        text-align: right;\n",
       "    }\n",
       "</style>\n",
       "<table border=\"1\" class=\"dataframe\">\n",
       "  <thead>\n",
       "    <tr style=\"text-align: right;\">\n",
       "      <th></th>\n",
       "      <th>count</th>\n",
       "    </tr>\n",
       "  </thead>\n",
       "  <tbody>\n",
       "    <tr>\n",
       "      <th>0</th>\n",
       "      <td>2793</td>\n",
       "    </tr>\n",
       "  </tbody>\n",
       "</table>\n",
       "</div>"
      ],
      "text/plain": [
       "   count\n",
       "0   2793"
      ]
     },
     "execution_count": 15,
     "metadata": {},
     "output_type": "execute_result"
    }
   ],
   "source": [
    "ratings_count = SQL('''SELECT COUNT(*) \n",
    "                       FROM reviews''')\n",
    "ratings_count"
   ]
  },
  {
   "cell_type": "markdown",
   "metadata": {},
   "source": [
    "Таблица reviws имеет 4 столбца и 2793 строки"
   ]
  },
  {
   "cell_type": "markdown",
   "metadata": {},
   "source": [
    "<a id='section1'></a>\n",
    "## Посчитайте, сколько книг вышло после 1 января 2000 года;"
   ]
  },
  {
   "cell_type": "code",
   "execution_count": 16,
   "metadata": {},
   "outputs": [
    {
     "data": {
      "text/html": [
       "<div>\n",
       "<style scoped>\n",
       "    .dataframe tbody tr th:only-of-type {\n",
       "        vertical-align: middle;\n",
       "    }\n",
       "\n",
       "    .dataframe tbody tr th {\n",
       "        vertical-align: top;\n",
       "    }\n",
       "\n",
       "    .dataframe thead th {\n",
       "        text-align: right;\n",
       "    }\n",
       "</style>\n",
       "<table border=\"1\" class=\"dataframe\">\n",
       "  <thead>\n",
       "    <tr style=\"text-align: right;\">\n",
       "      <th></th>\n",
       "      <th>Количество книг</th>\n",
       "    </tr>\n",
       "  </thead>\n",
       "  <tbody>\n",
       "    <tr>\n",
       "      <th>0</th>\n",
       "      <td>819</td>\n",
       "    </tr>\n",
       "  </tbody>\n",
       "</table>\n",
       "</div>"
      ],
      "text/plain": [
       "   Количество книг\n",
       "0              819"
      ]
     },
     "execution_count": 16,
     "metadata": {},
     "output_type": "execute_result"
    }
   ],
   "source": [
    "count_books = SQL('''SELECT COUNT(*) AS \"Количество книг\" \n",
    "                     FROM books \n",
    "                     WHERE publication_date > '2000-01-01' ''')\n",
    "count_books"
   ]
  },
  {
   "cell_type": "markdown",
   "metadata": {},
   "source": [
    "В результате анализа, мы выяснили, что с 1 января 2000 года было выпущено 819 книг"
   ]
  },
  {
   "cell_type": "markdown",
   "metadata": {},
   "source": [
    "<a id='section2'></a>\n",
    "## Для каждой книги посчитайте количество обзоров и среднюю оценку;"
   ]
  },
  {
   "cell_type": "code",
   "execution_count": 17,
   "metadata": {
    "scrolled": false
   },
   "outputs": [
    {
     "data": {
      "text/html": [
       "<div>\n",
       "<style scoped>\n",
       "    .dataframe tbody tr th:only-of-type {\n",
       "        vertical-align: middle;\n",
       "    }\n",
       "\n",
       "    .dataframe tbody tr th {\n",
       "        vertical-align: top;\n",
       "    }\n",
       "\n",
       "    .dataframe thead th {\n",
       "        text-align: right;\n",
       "    }\n",
       "</style>\n",
       "<table border=\"1\" class=\"dataframe\">\n",
       "  <thead>\n",
       "    <tr style=\"text-align: right;\">\n",
       "      <th></th>\n",
       "      <th>id</th>\n",
       "      <th>Название_книги</th>\n",
       "      <th>Количество_отзывов</th>\n",
       "      <th>Средняя_оценка</th>\n",
       "    </tr>\n",
       "  </thead>\n",
       "  <tbody>\n",
       "    <tr>\n",
       "      <th>0</th>\n",
       "      <td>948</td>\n",
       "      <td>Twilight (Twilight  #1)</td>\n",
       "      <td>7</td>\n",
       "      <td>3.66</td>\n",
       "    </tr>\n",
       "    <tr>\n",
       "      <th>1</th>\n",
       "      <td>302</td>\n",
       "      <td>Harry Potter and the Prisoner of Azkaban (Harry Potter  #3)</td>\n",
       "      <td>6</td>\n",
       "      <td>4.41</td>\n",
       "    </tr>\n",
       "    <tr>\n",
       "      <th>2</th>\n",
       "      <td>299</td>\n",
       "      <td>Harry Potter and the Chamber of Secrets (Harry Potter  #2)</td>\n",
       "      <td>6</td>\n",
       "      <td>4.29</td>\n",
       "    </tr>\n",
       "    <tr>\n",
       "      <th>3</th>\n",
       "      <td>656</td>\n",
       "      <td>The Book Thief</td>\n",
       "      <td>6</td>\n",
       "      <td>4.26</td>\n",
       "    </tr>\n",
       "    <tr>\n",
       "      <th>4</th>\n",
       "      <td>734</td>\n",
       "      <td>The Glass Castle</td>\n",
       "      <td>6</td>\n",
       "      <td>4.21</td>\n",
       "    </tr>\n",
       "    <tr>\n",
       "      <th>5</th>\n",
       "      <td>497</td>\n",
       "      <td>Outlander (Outlander  #1)</td>\n",
       "      <td>6</td>\n",
       "      <td>4.13</td>\n",
       "    </tr>\n",
       "    <tr>\n",
       "      <th>6</th>\n",
       "      <td>750</td>\n",
       "      <td>The Hobbit  or There and Back Again</td>\n",
       "      <td>6</td>\n",
       "      <td>4.13</td>\n",
       "    </tr>\n",
       "    <tr>\n",
       "      <th>7</th>\n",
       "      <td>695</td>\n",
       "      <td>The Curious Incident of the Dog in the Night-Time</td>\n",
       "      <td>6</td>\n",
       "      <td>4.08</td>\n",
       "    </tr>\n",
       "    <tr>\n",
       "      <th>8</th>\n",
       "      <td>779</td>\n",
       "      <td>The Lightning Thief (Percy Jackson and the Olympians  #1)</td>\n",
       "      <td>6</td>\n",
       "      <td>4.08</td>\n",
       "    </tr>\n",
       "    <tr>\n",
       "      <th>9</th>\n",
       "      <td>963</td>\n",
       "      <td>Water for Elephants</td>\n",
       "      <td>6</td>\n",
       "      <td>3.98</td>\n",
       "    </tr>\n",
       "  </tbody>\n",
       "</table>\n",
       "</div>"
      ],
      "text/plain": [
       "    id                                               Название_книги  \\\n",
       "0  948                                      Twilight (Twilight  #1)   \n",
       "1  302  Harry Potter and the Prisoner of Azkaban (Harry Potter  #3)   \n",
       "2  299   Harry Potter and the Chamber of Secrets (Harry Potter  #2)   \n",
       "3  656                                               The Book Thief   \n",
       "4  734                                             The Glass Castle   \n",
       "5  497                                    Outlander (Outlander  #1)   \n",
       "6  750                          The Hobbit  or There and Back Again   \n",
       "7  695            The Curious Incident of the Dog in the Night-Time   \n",
       "8  779    The Lightning Thief (Percy Jackson and the Olympians  #1)   \n",
       "9  963                                          Water for Elephants   \n",
       "\n",
       "   Количество_отзывов  Средняя_оценка  \n",
       "0                   7            3.66  \n",
       "1                   6            4.41  \n",
       "2                   6            4.29  \n",
       "3                   6            4.26  \n",
       "4                   6            4.21  \n",
       "5                   6            4.13  \n",
       "6                   6            4.13  \n",
       "7                   6            4.08  \n",
       "8                   6            4.08  \n",
       "9                   6            3.98  "
      ]
     },
     "execution_count": 17,
     "metadata": {},
     "output_type": "execute_result"
    }
   ],
   "source": [
    "reviews_count = SQL('''SELECT b.book_id AS id,\n",
    "                                b.title AS Название_книги,\n",
    "                                COUNT(DISTINCT re.review_id) AS Количество_отзывов,\n",
    "                                ROUND(AVG(ra.rating), 2) AS Средняя_оценка\n",
    "                        FROM books AS b\n",
    "                        JOIN ratings AS ra ON b.book_id = ra.book_id\n",
    "                        LEFT JOIN reviews AS re ON b.book_id = re.book_id\n",
    "                        GROUP BY b.book_id,\n",
    "                                b.title\n",
    "                        ORDER BY Количество_отзывов DESC,\n",
    "                                Средняя_оценка DESC\n",
    "                       LIMIT 10''')\n",
    "\n",
    "reviews_count"
   ]
  },
  {
   "cell_type": "markdown",
   "metadata": {},
   "source": [
    "Таким образом, книга **\"Twilight (Twilight #1)\"** имеет наибольшее количество обзоров — 7, а её средняя оценка составляет 3.6. \n",
    "\n",
    "Далее идут книги которые имеют по 6 обзоров. Тройка книг с наивысшими рейтингами среди них:\n",
    "\n",
    "1. **Harry Potter and the Prisoner of Azkaban (Harry Potter #3)**\n",
    "2. **Harry Potter and the Chamber of Secrets (Harry Potter #2)**\n",
    "3. **The Book Thief**\n",
    "\n",
    "Эти книги выделяются не только количеством отзывов, но и высоким качеством оценок, что подтверждает их популярность среди читателей."
   ]
  },
  {
   "cell_type": "code",
   "execution_count": 18,
   "metadata": {},
   "outputs": [
    {
     "data": {
      "text/html": [
       "<div>\n",
       "<style scoped>\n",
       "    .dataframe tbody tr th:only-of-type {\n",
       "        vertical-align: middle;\n",
       "    }\n",
       "\n",
       "    .dataframe tbody tr th {\n",
       "        vertical-align: top;\n",
       "    }\n",
       "\n",
       "    .dataframe thead th {\n",
       "        text-align: right;\n",
       "    }\n",
       "</style>\n",
       "<table border=\"1\" class=\"dataframe\">\n",
       "  <thead>\n",
       "    <tr style=\"text-align: right;\">\n",
       "      <th></th>\n",
       "      <th>id</th>\n",
       "      <th>Название_книги</th>\n",
       "      <th>Количество_отзывов</th>\n",
       "      <th>Средняя_оценка</th>\n",
       "    </tr>\n",
       "  </thead>\n",
       "  <tbody>\n",
       "    <tr>\n",
       "      <th>0</th>\n",
       "      <td>17</td>\n",
       "      <td>A Dirty Job (Grim Reaper  #1)</td>\n",
       "      <td>4</td>\n",
       "      <td>5.0</td>\n",
       "    </tr>\n",
       "    <tr>\n",
       "      <th>1</th>\n",
       "      <td>553</td>\n",
       "      <td>School's Out—Forever (Maximum Ride  #2)</td>\n",
       "      <td>3</td>\n",
       "      <td>5.0</td>\n",
       "    </tr>\n",
       "    <tr>\n",
       "      <th>2</th>\n",
       "      <td>444</td>\n",
       "      <td>Moneyball: The Art of Winning an Unfair Game</td>\n",
       "      <td>3</td>\n",
       "      <td>5.0</td>\n",
       "    </tr>\n",
       "    <tr>\n",
       "      <th>3</th>\n",
       "      <td>418</td>\n",
       "      <td>March</td>\n",
       "      <td>2</td>\n",
       "      <td>5.0</td>\n",
       "    </tr>\n",
       "    <tr>\n",
       "      <th>4</th>\n",
       "      <td>390</td>\n",
       "      <td>Light in August</td>\n",
       "      <td>2</td>\n",
       "      <td>5.0</td>\n",
       "    </tr>\n",
       "    <tr>\n",
       "      <th>5</th>\n",
       "      <td>347</td>\n",
       "      <td>In the Hand of the Goddess (Song of the Lioness  #2)</td>\n",
       "      <td>2</td>\n",
       "      <td>5.0</td>\n",
       "    </tr>\n",
       "    <tr>\n",
       "      <th>6</th>\n",
       "      <td>297</td>\n",
       "      <td>Hard Times</td>\n",
       "      <td>2</td>\n",
       "      <td>5.0</td>\n",
       "    </tr>\n",
       "    <tr>\n",
       "      <th>7</th>\n",
       "      <td>213</td>\n",
       "      <td>Emily of New Moon (Emily  #1)</td>\n",
       "      <td>2</td>\n",
       "      <td>5.0</td>\n",
       "    </tr>\n",
       "    <tr>\n",
       "      <th>8</th>\n",
       "      <td>136</td>\n",
       "      <td>Captivating: Unveiling the Mystery of a Woman's Soul</td>\n",
       "      <td>2</td>\n",
       "      <td>5.0</td>\n",
       "    </tr>\n",
       "    <tr>\n",
       "      <th>9</th>\n",
       "      <td>275</td>\n",
       "      <td>Geek Love</td>\n",
       "      <td>2</td>\n",
       "      <td>5.0</td>\n",
       "    </tr>\n",
       "    <tr>\n",
       "      <th>10</th>\n",
       "      <td>86</td>\n",
       "      <td>Arrows of the Queen (Heralds of Valdemar  #1)</td>\n",
       "      <td>2</td>\n",
       "      <td>5.0</td>\n",
       "    </tr>\n",
       "    <tr>\n",
       "      <th>11</th>\n",
       "      <td>224</td>\n",
       "      <td>Evening Class</td>\n",
       "      <td>2</td>\n",
       "      <td>5.0</td>\n",
       "    </tr>\n",
       "    <tr>\n",
       "      <th>12</th>\n",
       "      <td>182</td>\n",
       "      <td>Dead Souls</td>\n",
       "      <td>2</td>\n",
       "      <td>5.0</td>\n",
       "    </tr>\n",
       "    <tr>\n",
       "      <th>13</th>\n",
       "      <td>76</td>\n",
       "      <td>Angels Fall</td>\n",
       "      <td>2</td>\n",
       "      <td>5.0</td>\n",
       "    </tr>\n",
       "    <tr>\n",
       "      <th>14</th>\n",
       "      <td>62</td>\n",
       "      <td>Alas  Babylon</td>\n",
       "      <td>2</td>\n",
       "      <td>5.0</td>\n",
       "    </tr>\n",
       "    <tr>\n",
       "      <th>15</th>\n",
       "      <td>169</td>\n",
       "      <td>Crucial Conversations: Tools for Talking When Stakes Are High</td>\n",
       "      <td>2</td>\n",
       "      <td>5.0</td>\n",
       "    </tr>\n",
       "    <tr>\n",
       "      <th>16</th>\n",
       "      <td>55</td>\n",
       "      <td>A Woman of Substance (Emma Harte Saga #1)</td>\n",
       "      <td>2</td>\n",
       "      <td>5.0</td>\n",
       "    </tr>\n",
       "    <tr>\n",
       "      <th>17</th>\n",
       "      <td>57</td>\n",
       "      <td>Act of Treason (Mitch Rapp  #9)</td>\n",
       "      <td>2</td>\n",
       "      <td>5.0</td>\n",
       "    </tr>\n",
       "    <tr>\n",
       "      <th>18</th>\n",
       "      <td>20</td>\n",
       "      <td>A Fistful of Charms (The Hollows  #4)</td>\n",
       "      <td>2</td>\n",
       "      <td>5.0</td>\n",
       "    </tr>\n",
       "    <tr>\n",
       "      <th>19</th>\n",
       "      <td>229</td>\n",
       "      <td>Evil Under the Sun (Hercule Poirot  #24)</td>\n",
       "      <td>2</td>\n",
       "      <td>5.0</td>\n",
       "    </tr>\n",
       "  </tbody>\n",
       "</table>\n",
       "</div>"
      ],
      "text/plain": [
       "     id                                                 Название_книги  \\\n",
       "0    17                                  A Dirty Job (Grim Reaper  #1)   \n",
       "1   553                        School's Out—Forever (Maximum Ride  #2)   \n",
       "2   444                   Moneyball: The Art of Winning an Unfair Game   \n",
       "3   418                                                          March   \n",
       "4   390                                                Light in August   \n",
       "5   347           In the Hand of the Goddess (Song of the Lioness  #2)   \n",
       "6   297                                                     Hard Times   \n",
       "7   213                                  Emily of New Moon (Emily  #1)   \n",
       "8   136           Captivating: Unveiling the Mystery of a Woman's Soul   \n",
       "9   275                                                      Geek Love   \n",
       "10   86                  Arrows of the Queen (Heralds of Valdemar  #1)   \n",
       "11  224                                                  Evening Class   \n",
       "12  182                                                     Dead Souls   \n",
       "13   76                                                    Angels Fall   \n",
       "14   62                                                  Alas  Babylon   \n",
       "15  169  Crucial Conversations: Tools for Talking When Stakes Are High   \n",
       "16   55                      A Woman of Substance (Emma Harte Saga #1)   \n",
       "17   57                                Act of Treason (Mitch Rapp  #9)   \n",
       "18   20                          A Fistful of Charms (The Hollows  #4)   \n",
       "19  229                       Evil Under the Sun (Hercule Poirot  #24)   \n",
       "\n",
       "    Количество_отзывов  Средняя_оценка  \n",
       "0                    4             5.0  \n",
       "1                    3             5.0  \n",
       "2                    3             5.0  \n",
       "3                    2             5.0  \n",
       "4                    2             5.0  \n",
       "5                    2             5.0  \n",
       "6                    2             5.0  \n",
       "7                    2             5.0  \n",
       "8                    2             5.0  \n",
       "9                    2             5.0  \n",
       "10                   2             5.0  \n",
       "11                   2             5.0  \n",
       "12                   2             5.0  \n",
       "13                   2             5.0  \n",
       "14                   2             5.0  \n",
       "15                   2             5.0  \n",
       "16                   2             5.0  \n",
       "17                   2             5.0  \n",
       "18                   2             5.0  \n",
       "19                   2             5.0  "
      ]
     },
     "execution_count": 18,
     "metadata": {},
     "output_type": "execute_result"
    }
   ],
   "source": [
    "rating_count = SQL('''SELECT b.book_id AS id,\n",
    "                             b.title AS Название_книги,\n",
    "                             COUNT(DISTINCT re.review_id) AS Количество_отзывов,\n",
    "                             ROUND(AVG(ra.rating), 2) AS Средняя_оценка\n",
    "                      FROM books AS b\n",
    "                      LEFT JOIN reviews AS re ON b.book_id = re.book_id\n",
    "                      JOIN ratings AS ra ON b.book_id = ra.book_id\n",
    "                      GROUP BY b.book_id,\n",
    "                               b.title\n",
    "                      ORDER BY Средняя_оценка DESC,\n",
    "                               Количество_отзывов DESC\n",
    "                      LIMIT 20\n",
    "                      ''')\n",
    "rating_count"
   ]
  },
  {
   "cell_type": "markdown",
   "metadata": {},
   "source": [
    "В результате анализа рейтингов и количества отзывов можно сделать следующие выводы:\n",
    "\n",
    "1. Лидерство по рейтингу: Книга **\"A Dirty Job (Grim Reaper #)\"** занимает первое место с  рейтингом **5.0**, и хотя имеет **4 отзыва**. \n",
    "\n",
    "2. Популярные книги с высоким рейтингом: Книги **\"School's Out—Forever (Maximum Ride #2)\"** и **\"Moneyball: The Art of Winning an Unfair Game\"** также имеют рейтинг 5.0, но с меньшим количеством отзывов — по 3. \n"
   ]
  },
  {
   "cell_type": "markdown",
   "metadata": {},
   "source": [
    "<a id='section3'></a>\n",
    "## Определите издательство, которое выпустило наибольшее число книг толще 50 страниц — так вы исключите из анализа брошюры"
   ]
  },
  {
   "cell_type": "code",
   "execution_count": 19,
   "metadata": {},
   "outputs": [
    {
     "data": {
      "text/html": [
       "<div>\n",
       "<style scoped>\n",
       "    .dataframe tbody tr th:only-of-type {\n",
       "        vertical-align: middle;\n",
       "    }\n",
       "\n",
       "    .dataframe tbody tr th {\n",
       "        vertical-align: top;\n",
       "    }\n",
       "\n",
       "    .dataframe thead th {\n",
       "        text-align: right;\n",
       "    }\n",
       "</style>\n",
       "<table border=\"1\" class=\"dataframe\">\n",
       "  <thead>\n",
       "    <tr style=\"text-align: right;\">\n",
       "      <th></th>\n",
       "      <th>Издательство</th>\n",
       "      <th>Количество_книг</th>\n",
       "    </tr>\n",
       "  </thead>\n",
       "  <tbody>\n",
       "    <tr>\n",
       "      <th>0</th>\n",
       "      <td>Penguin Books</td>\n",
       "      <td>42</td>\n",
       "    </tr>\n",
       "  </tbody>\n",
       "</table>\n",
       "</div>"
      ],
      "text/plain": [
       "    Издательство  Количество_книг\n",
       "0  Penguin Books               42"
      ]
     },
     "execution_count": 19,
     "metadata": {},
     "output_type": "execute_result"
    }
   ],
   "source": [
    "book_publishing = SQL('''SELECT  publisher AS Издательство,\n",
    "                                 COUNT(title) AS Количество_книг                          \n",
    "                         FROM books AS b\n",
    "                         JOIN publishers AS p ON b.publisher_id = p.publisher_id\n",
    "                         WHERE num_pages > 50\n",
    "                         GROUP BY Издательство\n",
    "                         ORDER BY Количество_книг DESC\n",
    "                         LIMIT 1''')\n",
    "book_publishing"
   ]
  },
  {
   "cell_type": "markdown",
   "metadata": {},
   "source": [
    "Издательство Penguin Books\tвыпустило больше всех книг - 42"
   ]
  },
  {
   "cell_type": "markdown",
   "metadata": {},
   "source": [
    "<a id='section4'></a>\n",
    "## Определите автора с самой высокой средней оценкой книг — учитывайте только книги с 50 и более оценками"
   ]
  },
  {
   "cell_type": "code",
   "execution_count": 20,
   "metadata": {},
   "outputs": [
    {
     "data": {
      "text/html": [
       "<div>\n",
       "<style scoped>\n",
       "    .dataframe tbody tr th:only-of-type {\n",
       "        vertical-align: middle;\n",
       "    }\n",
       "\n",
       "    .dataframe tbody tr th {\n",
       "        vertical-align: top;\n",
       "    }\n",
       "\n",
       "    .dataframe thead th {\n",
       "        text-align: right;\n",
       "    }\n",
       "</style>\n",
       "<table border=\"1\" class=\"dataframe\">\n",
       "  <thead>\n",
       "    <tr style=\"text-align: right;\">\n",
       "      <th></th>\n",
       "      <th>id</th>\n",
       "      <th>Имя_автора</th>\n",
       "      <th>Средний_рейтинг</th>\n",
       "    </tr>\n",
       "  </thead>\n",
       "  <tbody>\n",
       "    <tr>\n",
       "      <th>0</th>\n",
       "      <td>236</td>\n",
       "      <td>J.K. Rowling/Mary GrandPré</td>\n",
       "      <td>4.29</td>\n",
       "    </tr>\n",
       "  </tbody>\n",
       "</table>\n",
       "</div>"
      ],
      "text/plain": [
       "    id                  Имя_автора  Средний_рейтинг\n",
       "0  236  J.K. Rowling/Mary GrandPré             4.29"
      ]
     },
     "execution_count": 20,
     "metadata": {},
     "output_type": "execute_result"
    }
   ],
   "source": [
    "top_author = SQL('''SELECT a.author_id AS id, \n",
    "                           a.author AS Имя_автора,\n",
    "                           ROUND(AVG(r.rating), 2) AS Средний_рейтинг\n",
    "                    FROM authors AS a\n",
    "                    JOIN books AS b ON a.author_id = b.author_id\n",
    "                    JOIN ratings AS r ON b.book_id = r.book_id\n",
    "                    WHERE b.book_id IN (\n",
    "                                SELECT book_id\n",
    "                                FROM ratings\n",
    "                                GROUP BY book_id\n",
    "                                HAVING COUNT(rating_id) >= 50\n",
    "                                )\n",
    "                    GROUP BY a.author_id\n",
    "                    ORDER BY Средний_рейтинг DESC\n",
    "                    LIMIT 1''')\n",
    "top_author"
   ]
  },
  {
   "cell_type": "markdown",
   "metadata": {},
   "source": [
    "Автором с самой высокой оценкой книг среди книг у которых оценок больше 50, является J.K. Rowling/Mary GrandPré"
   ]
  },
  {
   "cell_type": "markdown",
   "metadata": {},
   "source": [
    "<a id='section5'></a>\n",
    "## Посчитайте среднее количество обзоров от пользователей, которые поставили больше 48 оценок."
   ]
  },
  {
   "cell_type": "code",
   "execution_count": 21,
   "metadata": {},
   "outputs": [
    {
     "data": {
      "text/html": [
       "<div>\n",
       "<style scoped>\n",
       "    .dataframe tbody tr th:only-of-type {\n",
       "        vertical-align: middle;\n",
       "    }\n",
       "\n",
       "    .dataframe tbody tr th {\n",
       "        vertical-align: top;\n",
       "    }\n",
       "\n",
       "    .dataframe thead th {\n",
       "        text-align: right;\n",
       "    }\n",
       "</style>\n",
       "<table border=\"1\" class=\"dataframe\">\n",
       "  <thead>\n",
       "    <tr style=\"text-align: right;\">\n",
       "      <th></th>\n",
       "      <th>Среднее_количество_обзоров</th>\n",
       "    </tr>\n",
       "  </thead>\n",
       "  <tbody>\n",
       "    <tr>\n",
       "      <th>0</th>\n",
       "      <td>24.0</td>\n",
       "    </tr>\n",
       "  </tbody>\n",
       "</table>\n",
       "</div>"
      ],
      "text/plain": [
       "   Среднее_количество_обзоров\n",
       "0                        24.0"
      ]
     },
     "execution_count": 21,
     "metadata": {},
     "output_type": "execute_result"
    }
   ],
   "source": [
    "avg_reviews = SQL('''SELECT AVG(sort.count_reviev) AS Среднее_количество_обзоров\n",
    "                     FROM(\n",
    "                        SELECT username,\n",
    "                               COUNT(review_id) AS count_reviev\n",
    "                        FROM reviews\n",
    "                        WHERE username IN (\n",
    "                                SELECT username\n",
    "                                FROM ratings\n",
    "                                GROUP BY username\n",
    "                                HAVING COUNT(rating_id) > 48\n",
    "                        )\n",
    "                        GROUP BY username) AS sort''')\n",
    "avg_reviews"
   ]
  },
  {
   "cell_type": "markdown",
   "metadata": {},
   "source": [
    "Среднее количество обзоров от пользователей которые поставили больше 48 оценок - 24."
   ]
  },
  {
   "cell_type": "markdown",
   "metadata": {},
   "source": [
    "<a id='section6'></a>\n",
    "## Выводы:"
   ]
  },
  {
   "cell_type": "markdown",
   "metadata": {},
   "source": [
    "В результате проведенного анализа получилось:\n",
    "\n",
    "- Общее количество выпущенных книг после 1 января 2000 года, составляет 819\n",
    "\n",
    "- Книга \"Twilight (Twilight #1)\" выделяется на фоне остальных благодаря наибольшему числу обзоров (7) и средней оценке 3.6. \n",
    "\n",
    "- Книга \"A Dirty Job (Grim Reaper #)\" занимает первое место по рейтингу с 5.0 с наибольшим количеством обзоров (4)\n",
    "\n",
    "- Издательство Penguin Books выделяется как лидер по количеству выпущенных книг — 42, а автор J.K. Rowling/Mary GrandPré имеет наивысшую оценку среди авторов с более чем 50 отзывами\n",
    "\n",
    "- Среднее количество обзоров от пользователей, оставивших более 48 оценок, составляет 24\n"
   ]
  }
 ],
 "metadata": {
  "ExecuteTimeLog": [
   {
    "duration": 14078,
    "start_time": "2024-08-16T00:35:08.929Z"
   },
   {
    "duration": 86,
    "start_time": "2024-08-16T00:36:46.666Z"
   },
   {
    "duration": 72,
    "start_time": "2024-08-16T00:37:20.606Z"
   },
   {
    "duration": 4,
    "start_time": "2024-08-16T00:37:30.798Z"
   },
   {
    "duration": 130,
    "start_time": "2024-08-16T00:38:16.391Z"
   },
   {
    "duration": 31,
    "start_time": "2024-08-16T00:38:21.931Z"
   },
   {
    "duration": 33,
    "start_time": "2024-08-16T00:38:24.734Z"
   },
   {
    "duration": 183,
    "start_time": "2024-08-16T00:41:34.805Z"
   },
   {
    "duration": 34,
    "start_time": "2024-08-16T00:42:08.065Z"
   },
   {
    "duration": 4,
    "start_time": "2024-08-16T00:42:15.320Z"
   },
   {
    "duration": 60,
    "start_time": "2024-08-16T00:42:27.452Z"
   },
   {
    "duration": 59,
    "start_time": "2024-08-16T00:43:17.740Z"
   },
   {
    "duration": 29,
    "start_time": "2024-08-16T00:44:17.153Z"
   },
   {
    "duration": 29,
    "start_time": "2024-08-16T00:44:46.337Z"
   },
   {
    "duration": 4,
    "start_time": "2024-08-16T00:55:58.822Z"
   },
   {
    "duration": 232,
    "start_time": "2024-08-16T00:56:15.030Z"
   },
   {
    "duration": 63,
    "start_time": "2024-08-16T01:00:25.132Z"
   },
   {
    "duration": 157,
    "start_time": "2024-08-16T01:00:31.028Z"
   },
   {
    "duration": 3,
    "start_time": "2024-08-16T01:02:21.132Z"
   },
   {
    "duration": 82,
    "start_time": "2024-08-16T01:02:38.092Z"
   },
   {
    "duration": 131,
    "start_time": "2024-08-16T01:03:32.781Z"
   },
   {
    "duration": 55,
    "start_time": "2024-08-16T01:03:37.841Z"
   },
   {
    "duration": 32,
    "start_time": "2024-08-16T01:03:50.157Z"
   },
   {
    "duration": 51,
    "start_time": "2024-08-16T01:03:54.257Z"
   },
   {
    "duration": 14796,
    "start_time": "2024-08-16T01:04:08.458Z"
   },
   {
    "duration": 69,
    "start_time": "2024-08-16T01:04:23.256Z"
   },
   {
    "duration": 0,
    "start_time": "2024-08-16T01:04:23.326Z"
   },
   {
    "duration": 0,
    "start_time": "2024-08-16T01:04:23.328Z"
   },
   {
    "duration": 182,
    "start_time": "2024-08-16T01:04:36.971Z"
   },
   {
    "duration": 124,
    "start_time": "2024-08-16T01:04:44.542Z"
   },
   {
    "duration": 8,
    "start_time": "2024-08-16T01:05:14.831Z"
   },
   {
    "duration": 31,
    "start_time": "2024-08-16T01:05:20.019Z"
   },
   {
    "duration": 30,
    "start_time": "2024-08-16T01:05:29.603Z"
   },
   {
    "duration": 7,
    "start_time": "2024-08-16T01:06:01.519Z"
   },
   {
    "duration": 52,
    "start_time": "2024-08-16T01:06:48.079Z"
   },
   {
    "duration": 72,
    "start_time": "2024-08-16T01:07:26.435Z"
   },
   {
    "duration": 42,
    "start_time": "2024-08-16T01:07:31.143Z"
   },
   {
    "duration": 126,
    "start_time": "2024-08-16T01:07:46.275Z"
   },
   {
    "duration": 74,
    "start_time": "2024-08-16T01:08:20.939Z"
   },
   {
    "duration": 60,
    "start_time": "2024-08-16T01:09:26.428Z"
   },
   {
    "duration": 139,
    "start_time": "2024-08-16T01:09:51.124Z"
   },
   {
    "duration": 134,
    "start_time": "2024-08-16T01:10:09.288Z"
   },
   {
    "duration": 130,
    "start_time": "2024-08-16T01:10:25.849Z"
   },
   {
    "duration": 18233,
    "start_time": "2024-08-16T01:10:36.193Z"
   },
   {
    "duration": 222,
    "start_time": "2024-08-16T01:10:54.428Z"
   },
   {
    "duration": 197,
    "start_time": "2024-08-16T01:10:54.651Z"
   },
   {
    "duration": 0,
    "start_time": "2024-08-16T01:10:54.850Z"
   },
   {
    "duration": 0,
    "start_time": "2024-08-16T01:10:54.852Z"
   },
   {
    "duration": 0,
    "start_time": "2024-08-16T01:10:54.853Z"
   },
   {
    "duration": 41,
    "start_time": "2024-08-16T01:12:18.421Z"
   },
   {
    "duration": 41,
    "start_time": "2024-08-16T01:12:52.721Z"
   },
   {
    "duration": 127,
    "start_time": "2024-08-16T01:13:26.674Z"
   },
   {
    "duration": 53,
    "start_time": "2024-08-16T01:13:54.993Z"
   },
   {
    "duration": 33,
    "start_time": "2024-08-16T01:13:56.045Z"
   },
   {
    "duration": 29,
    "start_time": "2024-08-16T01:14:09.150Z"
   },
   {
    "duration": 83,
    "start_time": "2024-08-16T01:15:42.690Z"
   },
   {
    "duration": 225,
    "start_time": "2024-08-16T01:16:06.638Z"
   },
   {
    "duration": 3,
    "start_time": "2024-08-16T01:17:22.331Z"
   },
   {
    "duration": 134,
    "start_time": "2024-08-16T01:17:42.731Z"
   },
   {
    "duration": 3,
    "start_time": "2024-08-16T01:18:00.951Z"
   },
   {
    "duration": 30,
    "start_time": "2024-08-16T01:18:43.704Z"
   },
   {
    "duration": 29,
    "start_time": "2024-08-16T01:19:08.740Z"
   },
   {
    "duration": 2,
    "start_time": "2024-08-16T01:23:28.418Z"
   },
   {
    "duration": 10,
    "start_time": "2024-08-16T01:24:08.463Z"
   },
   {
    "duration": 2,
    "start_time": "2024-08-16T01:24:16.030Z"
   },
   {
    "duration": 89,
    "start_time": "2024-08-16T01:24:17.026Z"
   },
   {
    "duration": 98,
    "start_time": "2024-08-16T01:24:24.070Z"
   },
   {
    "duration": 72,
    "start_time": "2024-08-16T01:24:41.726Z"
   },
   {
    "duration": 72,
    "start_time": "2024-08-16T01:25:21.086Z"
   },
   {
    "duration": 69,
    "start_time": "2024-08-16T01:25:28.763Z"
   },
   {
    "duration": 70,
    "start_time": "2024-08-16T01:25:44.986Z"
   },
   {
    "duration": 66,
    "start_time": "2024-08-16T01:26:18.435Z"
   },
   {
    "duration": 70,
    "start_time": "2024-08-16T01:26:25.027Z"
   },
   {
    "duration": 70,
    "start_time": "2024-08-16T01:26:59.511Z"
   },
   {
    "duration": 5,
    "start_time": "2024-08-16T01:28:18.895Z"
   },
   {
    "duration": 4,
    "start_time": "2024-08-16T01:28:41.260Z"
   },
   {
    "duration": 86,
    "start_time": "2024-08-16T01:29:08.696Z"
   },
   {
    "duration": 71,
    "start_time": "2024-08-16T01:29:18.540Z"
   },
   {
    "duration": 72,
    "start_time": "2024-08-16T01:29:47.056Z"
   },
   {
    "duration": 73,
    "start_time": "2024-08-16T01:30:53.601Z"
   },
   {
    "duration": 76,
    "start_time": "2024-08-16T01:31:23.697Z"
   },
   {
    "duration": 72,
    "start_time": "2024-08-16T01:31:26.953Z"
   },
   {
    "duration": 382,
    "start_time": "2024-08-16T01:31:56.929Z"
   },
   {
    "duration": 34712,
    "start_time": "2024-08-16T01:34:44.470Z"
   },
   {
    "duration": 2,
    "start_time": "2024-08-16T01:35:19.184Z"
   },
   {
    "duration": 286,
    "start_time": "2024-08-16T01:35:19.188Z"
   },
   {
    "duration": 73,
    "start_time": "2024-08-16T01:35:19.477Z"
   },
   {
    "duration": 73,
    "start_time": "2024-08-16T01:35:19.552Z"
   },
   {
    "duration": 72,
    "start_time": "2024-08-16T01:35:19.626Z"
   },
   {
    "duration": 72,
    "start_time": "2024-08-16T01:35:19.699Z"
   },
   {
    "duration": 72,
    "start_time": "2024-08-16T01:35:19.773Z"
   },
   {
    "duration": 75,
    "start_time": "2024-08-16T01:35:19.846Z"
   },
   {
    "duration": 74,
    "start_time": "2024-08-16T01:35:19.923Z"
   },
   {
    "duration": 23020,
    "start_time": "2024-08-16T01:35:23.651Z"
   },
   {
    "duration": 3,
    "start_time": "2024-08-16T01:35:46.673Z"
   },
   {
    "duration": 272,
    "start_time": "2024-08-16T01:35:46.678Z"
   },
   {
    "duration": 74,
    "start_time": "2024-08-16T01:35:46.953Z"
   },
   {
    "duration": 73,
    "start_time": "2024-08-16T01:35:47.029Z"
   },
   {
    "duration": 75,
    "start_time": "2024-08-16T01:35:47.104Z"
   },
   {
    "duration": 73,
    "start_time": "2024-08-16T01:35:47.181Z"
   },
   {
    "duration": 82,
    "start_time": "2024-08-16T01:35:47.256Z"
   },
   {
    "duration": 73,
    "start_time": "2024-08-16T01:35:47.339Z"
   },
   {
    "duration": 71,
    "start_time": "2024-08-16T01:35:47.414Z"
   },
   {
    "duration": 517,
    "start_time": "2024-08-16T01:37:08.812Z"
   },
   {
    "duration": 225,
    "start_time": "2024-08-16T01:37:18.300Z"
   },
   {
    "duration": 150,
    "start_time": "2024-08-16T01:38:12.348Z"
   },
   {
    "duration": 70,
    "start_time": "2024-08-16T01:38:26.960Z"
   },
   {
    "duration": 72,
    "start_time": "2024-08-16T01:38:46.876Z"
   },
   {
    "duration": 71,
    "start_time": "2024-08-16T01:39:27.729Z"
   },
   {
    "duration": 72,
    "start_time": "2024-08-16T01:39:46.765Z"
   },
   {
    "duration": 7450,
    "start_time": "2024-08-16T08:59:27.069Z"
   },
   {
    "duration": 3,
    "start_time": "2024-08-16T08:59:34.521Z"
   },
   {
    "duration": 280,
    "start_time": "2024-08-16T08:59:34.525Z"
   },
   {
    "duration": 70,
    "start_time": "2024-08-16T08:59:34.808Z"
   },
   {
    "duration": 70,
    "start_time": "2024-08-16T08:59:34.879Z"
   },
   {
    "duration": 69,
    "start_time": "2024-08-16T08:59:34.951Z"
   },
   {
    "duration": 73,
    "start_time": "2024-08-16T08:59:35.022Z"
   },
   {
    "duration": 70,
    "start_time": "2024-08-16T08:59:35.097Z"
   },
   {
    "duration": 71,
    "start_time": "2024-08-16T08:59:35.169Z"
   },
   {
    "duration": 68,
    "start_time": "2024-08-16T08:59:35.243Z"
   },
   {
    "duration": 68,
    "start_time": "2024-08-16T08:59:35.313Z"
   },
   {
    "duration": 71,
    "start_time": "2024-08-16T09:02:32.454Z"
   },
   {
    "duration": 98,
    "start_time": "2024-08-16T09:02:42.895Z"
   },
   {
    "duration": 218,
    "start_time": "2024-08-16T09:06:12.256Z"
   },
   {
    "duration": 140,
    "start_time": "2024-08-16T09:06:44.012Z"
   },
   {
    "duration": 149,
    "start_time": "2024-08-16T09:08:05.596Z"
   },
   {
    "duration": 94,
    "start_time": "2024-08-16T09:08:15.437Z"
   },
   {
    "duration": 152,
    "start_time": "2024-08-16T09:09:49.465Z"
   },
   {
    "duration": 169,
    "start_time": "2024-08-16T09:10:33.549Z"
   },
   {
    "duration": 160,
    "start_time": "2024-08-16T09:10:46.862Z"
   },
   {
    "duration": 142,
    "start_time": "2024-08-16T09:11:32.614Z"
   },
   {
    "duration": 154,
    "start_time": "2024-08-16T09:12:49.246Z"
   },
   {
    "duration": 187,
    "start_time": "2024-08-16T09:13:25.855Z"
   },
   {
    "duration": 202,
    "start_time": "2024-08-16T09:13:56.823Z"
   },
   {
    "duration": 151,
    "start_time": "2024-08-16T09:14:25.751Z"
   },
   {
    "duration": 144,
    "start_time": "2024-08-16T09:14:30.880Z"
   },
   {
    "duration": 143,
    "start_time": "2024-08-16T09:14:58.268Z"
   },
   {
    "duration": 369,
    "start_time": "2024-08-16T09:15:30.352Z"
   },
   {
    "duration": 154,
    "start_time": "2024-08-16T09:16:45.049Z"
   },
   {
    "duration": 147,
    "start_time": "2024-08-16T09:16:59.204Z"
   },
   {
    "duration": 224,
    "start_time": "2024-08-16T09:17:10.717Z"
   },
   {
    "duration": 186,
    "start_time": "2024-08-16T09:17:31.569Z"
   },
   {
    "duration": 108,
    "start_time": "2024-08-16T09:17:53.081Z"
   },
   {
    "duration": 147,
    "start_time": "2024-08-16T09:18:29.337Z"
   },
   {
    "duration": 143,
    "start_time": "2024-08-16T09:19:51.862Z"
   },
   {
    "duration": 146,
    "start_time": "2024-08-16T09:19:55.611Z"
   },
   {
    "duration": 105,
    "start_time": "2024-08-16T09:21:06.831Z"
   },
   {
    "duration": 106,
    "start_time": "2024-08-16T09:21:25.163Z"
   },
   {
    "duration": 156,
    "start_time": "2024-08-16T09:22:04.731Z"
   },
   {
    "duration": 108,
    "start_time": "2024-08-16T09:22:18.568Z"
   },
   {
    "duration": 153,
    "start_time": "2024-08-16T09:22:23.915Z"
   },
   {
    "duration": 107,
    "start_time": "2024-08-16T09:22:26.851Z"
   },
   {
    "duration": 106,
    "start_time": "2024-08-16T09:23:46.296Z"
   },
   {
    "duration": 105,
    "start_time": "2024-08-16T09:23:56.076Z"
   },
   {
    "duration": 106,
    "start_time": "2024-08-16T09:24:18.348Z"
   },
   {
    "duration": 113,
    "start_time": "2024-08-16T09:24:54.433Z"
   },
   {
    "duration": 81,
    "start_time": "2024-08-16T09:25:26.705Z"
   },
   {
    "duration": 85,
    "start_time": "2024-08-16T09:27:41.998Z"
   },
   {
    "duration": 85,
    "start_time": "2024-08-16T09:28:18.914Z"
   },
   {
    "duration": 81,
    "start_time": "2024-08-16T09:29:45.190Z"
   },
   {
    "duration": 81,
    "start_time": "2024-08-16T09:29:56.686Z"
   },
   {
    "duration": 3,
    "start_time": "2024-08-16T09:35:04.504Z"
   },
   {
    "duration": 82,
    "start_time": "2024-08-16T09:35:08.925Z"
   },
   {
    "duration": 81,
    "start_time": "2024-08-16T09:36:42.329Z"
   },
   {
    "duration": 8783,
    "start_time": "2024-08-16T12:21:48.912Z"
   },
   {
    "duration": 3,
    "start_time": "2024-08-16T12:21:57.697Z"
   },
   {
    "duration": 5,
    "start_time": "2024-08-16T12:21:57.702Z"
   },
   {
    "duration": 271,
    "start_time": "2024-08-16T12:21:57.709Z"
   },
   {
    "duration": 75,
    "start_time": "2024-08-16T12:21:57.981Z"
   },
   {
    "duration": 76,
    "start_time": "2024-08-16T12:21:58.058Z"
   },
   {
    "duration": 76,
    "start_time": "2024-08-16T12:21:58.135Z"
   },
   {
    "duration": 75,
    "start_time": "2024-08-16T12:21:58.212Z"
   },
   {
    "duration": 74,
    "start_time": "2024-08-16T12:21:58.289Z"
   },
   {
    "duration": 75,
    "start_time": "2024-08-16T12:21:58.365Z"
   },
   {
    "duration": 74,
    "start_time": "2024-08-16T12:21:58.442Z"
   },
   {
    "duration": 75,
    "start_time": "2024-08-16T12:21:58.517Z"
   },
   {
    "duration": 89,
    "start_time": "2024-08-16T12:21:58.594Z"
   },
   {
    "duration": 88,
    "start_time": "2024-08-16T12:21:58.684Z"
   },
   {
    "duration": 89,
    "start_time": "2024-08-16T12:30:33.968Z"
   },
   {
    "duration": 89,
    "start_time": "2024-08-16T12:40:25.039Z"
   },
   {
    "duration": 7868,
    "start_time": "2024-08-16T12:40:30.888Z"
   },
   {
    "duration": 4,
    "start_time": "2024-08-16T12:40:38.758Z"
   },
   {
    "duration": 22,
    "start_time": "2024-08-16T12:40:38.763Z"
   },
   {
    "duration": 260,
    "start_time": "2024-08-16T12:40:38.787Z"
   },
   {
    "duration": 80,
    "start_time": "2024-08-16T12:40:39.048Z"
   },
   {
    "duration": 77,
    "start_time": "2024-08-16T12:40:39.132Z"
   },
   {
    "duration": 74,
    "start_time": "2024-08-16T12:40:39.211Z"
   },
   {
    "duration": 78,
    "start_time": "2024-08-16T12:40:39.287Z"
   },
   {
    "duration": 76,
    "start_time": "2024-08-16T12:40:39.366Z"
   },
   {
    "duration": 78,
    "start_time": "2024-08-16T12:40:39.445Z"
   },
   {
    "duration": 74,
    "start_time": "2024-08-16T12:40:39.525Z"
   },
   {
    "duration": 75,
    "start_time": "2024-08-16T12:40:39.601Z"
   },
   {
    "duration": 91,
    "start_time": "2024-08-16T12:40:39.678Z"
   },
   {
    "duration": 90,
    "start_time": "2024-08-16T12:40:39.770Z"
   },
   {
    "duration": 89,
    "start_time": "2024-08-16T12:42:41.945Z"
   },
   {
    "duration": 88,
    "start_time": "2024-08-16T12:42:56.525Z"
   },
   {
    "duration": 91,
    "start_time": "2024-08-16T12:43:05.589Z"
   },
   {
    "duration": 89,
    "start_time": "2024-08-16T12:43:13.757Z"
   },
   {
    "duration": 115,
    "start_time": "2024-08-16T12:43:30.233Z"
   },
   {
    "duration": 91,
    "start_time": "2024-08-16T12:43:35.833Z"
   },
   {
    "duration": 3605,
    "start_time": "2024-08-16T12:43:45.409Z"
   },
   {
    "duration": 88,
    "start_time": "2024-08-16T12:44:00.381Z"
   },
   {
    "duration": 223,
    "start_time": "2024-08-16T12:44:19.301Z"
   },
   {
    "duration": 88,
    "start_time": "2024-08-16T12:44:21.921Z"
   },
   {
    "duration": 10,
    "start_time": "2024-08-16T12:44:53.971Z"
   },
   {
    "duration": 95,
    "start_time": "2024-08-16T12:45:16.074Z"
   },
   {
    "duration": 162,
    "start_time": "2024-08-16T12:45:41.966Z"
   },
   {
    "duration": 92,
    "start_time": "2024-08-16T12:45:45.390Z"
   },
   {
    "duration": 92,
    "start_time": "2024-08-16T12:45:59.286Z"
   },
   {
    "duration": 88,
    "start_time": "2024-08-16T12:47:13.351Z"
   },
   {
    "duration": 98,
    "start_time": "2024-08-16T12:47:33.296Z"
   },
   {
    "duration": 88,
    "start_time": "2024-08-16T12:47:51.495Z"
   },
   {
    "duration": 90,
    "start_time": "2024-08-16T12:48:09.083Z"
   },
   {
    "duration": 88,
    "start_time": "2024-08-16T12:50:28.825Z"
   },
   {
    "duration": 73,
    "start_time": "2024-08-16T12:51:48.733Z"
   },
   {
    "duration": 101,
    "start_time": "2024-08-16T13:02:41.716Z"
   },
   {
    "duration": 89,
    "start_time": "2024-08-16T13:02:51.824Z"
   },
   {
    "duration": 72,
    "start_time": "2024-08-16T13:04:43.441Z"
   },
   {
    "duration": 109,
    "start_time": "2024-08-16T13:04:51.530Z"
   },
   {
    "duration": 121,
    "start_time": "2024-08-16T13:04:55.316Z"
   },
   {
    "duration": 129,
    "start_time": "2024-08-16T13:05:23.140Z"
   },
   {
    "duration": 119,
    "start_time": "2024-08-16T13:05:32.391Z"
   },
   {
    "duration": 120,
    "start_time": "2024-08-16T13:05:38.196Z"
   },
   {
    "duration": 221,
    "start_time": "2024-08-16T13:06:00.889Z"
   },
   {
    "duration": 176,
    "start_time": "2024-08-16T13:06:12.865Z"
   },
   {
    "duration": 123,
    "start_time": "2024-08-16T13:06:18.442Z"
   },
   {
    "duration": 102,
    "start_time": "2024-08-16T13:06:54.954Z"
   },
   {
    "duration": 79,
    "start_time": "2024-08-16T13:07:16.868Z"
   },
   {
    "duration": 81,
    "start_time": "2024-08-16T13:07:32.444Z"
   },
   {
    "duration": 7090,
    "start_time": "2024-08-16T15:51:10.613Z"
   },
   {
    "duration": 3,
    "start_time": "2024-08-16T15:51:17.705Z"
   },
   {
    "duration": 93,
    "start_time": "2024-08-16T15:51:17.709Z"
   },
   {
    "duration": 272,
    "start_time": "2024-08-16T15:51:17.805Z"
   },
   {
    "duration": 71,
    "start_time": "2024-08-16T15:51:18.082Z"
   },
   {
    "duration": 71,
    "start_time": "2024-08-16T15:51:18.155Z"
   },
   {
    "duration": 71,
    "start_time": "2024-08-16T15:51:18.229Z"
   },
   {
    "duration": 73,
    "start_time": "2024-08-16T15:51:18.301Z"
   },
   {
    "duration": 70,
    "start_time": "2024-08-16T15:51:18.376Z"
   },
   {
    "duration": 75,
    "start_time": "2024-08-16T15:51:18.448Z"
   },
   {
    "duration": 72,
    "start_time": "2024-08-16T15:51:18.525Z"
   },
   {
    "duration": 73,
    "start_time": "2024-08-16T15:51:18.599Z"
   },
   {
    "duration": 89,
    "start_time": "2024-08-16T15:51:18.674Z"
   },
   {
    "duration": 87,
    "start_time": "2024-08-16T15:51:18.766Z"
   },
   {
    "duration": 246,
    "start_time": "2024-08-16T15:51:18.854Z"
   },
   {
    "duration": 149,
    "start_time": "2024-08-16T15:52:25.727Z"
   },
   {
    "duration": 158,
    "start_time": "2024-08-16T15:52:32.856Z"
   },
   {
    "duration": 165,
    "start_time": "2024-08-16T15:52:38.853Z"
   },
   {
    "duration": 155,
    "start_time": "2024-08-16T15:52:52.144Z"
   },
   {
    "duration": 174,
    "start_time": "2024-08-16T15:53:16.985Z"
   },
   {
    "duration": 76,
    "start_time": "2024-08-16T15:53:31.120Z"
   },
   {
    "duration": 72,
    "start_time": "2024-08-16T15:53:44.618Z"
   },
   {
    "duration": 92,
    "start_time": "2024-08-16T15:55:39.497Z"
   },
   {
    "duration": 99,
    "start_time": "2024-08-16T15:55:44.373Z"
   },
   {
    "duration": 148,
    "start_time": "2024-08-16T15:58:05.678Z"
   },
   {
    "duration": 120,
    "start_time": "2024-08-16T15:58:16.959Z"
   },
   {
    "duration": 167,
    "start_time": "2024-08-16T15:59:13.610Z"
   },
   {
    "duration": 153,
    "start_time": "2024-08-16T16:00:47.271Z"
   },
   {
    "duration": 63,
    "start_time": "2024-08-16T16:02:24.270Z"
   },
   {
    "duration": 152,
    "start_time": "2024-08-16T16:02:41.034Z"
   },
   {
    "duration": 148,
    "start_time": "2024-08-16T16:02:53.874Z"
   },
   {
    "duration": 171,
    "start_time": "2024-08-16T16:03:04.017Z"
   },
   {
    "duration": 66,
    "start_time": "2024-08-16T16:03:51.054Z"
   },
   {
    "duration": 148,
    "start_time": "2024-08-16T16:04:18.541Z"
   },
   {
    "duration": 156,
    "start_time": "2024-08-16T16:04:47.212Z"
   },
   {
    "duration": 162,
    "start_time": "2024-08-16T16:05:00.643Z"
   },
   {
    "duration": 74,
    "start_time": "2024-08-16T16:05:10.175Z"
   },
   {
    "duration": 154,
    "start_time": "2024-08-16T16:05:37.835Z"
   },
   {
    "duration": 77,
    "start_time": "2024-08-16T16:05:43.394Z"
   },
   {
    "duration": 75,
    "start_time": "2024-08-16T16:05:47.654Z"
   },
   {
    "duration": 152,
    "start_time": "2024-08-16T16:07:09.063Z"
   },
   {
    "duration": 160,
    "start_time": "2024-08-16T16:07:12.162Z"
   },
   {
    "duration": 75,
    "start_time": "2024-08-16T16:07:29.259Z"
   },
   {
    "duration": 75,
    "start_time": "2024-08-16T16:07:52.123Z"
   },
   {
    "duration": 75,
    "start_time": "2024-08-16T16:08:11.220Z"
   },
   {
    "duration": 76,
    "start_time": "2024-08-16T16:08:15.707Z"
   },
   {
    "duration": 115,
    "start_time": "2024-08-16T16:12:49.241Z"
   },
   {
    "duration": 67,
    "start_time": "2024-08-16T16:12:53.085Z"
   },
   {
    "duration": 120,
    "start_time": "2024-08-16T16:12:55.897Z"
   },
   {
    "duration": 73,
    "start_time": "2024-08-16T16:13:28.641Z"
   },
   {
    "duration": 119,
    "start_time": "2024-08-16T16:13:33.489Z"
   },
   {
    "duration": 161,
    "start_time": "2024-08-16T16:13:59.859Z"
   },
   {
    "duration": 120,
    "start_time": "2024-08-16T16:14:11.606Z"
   },
   {
    "duration": 167,
    "start_time": "2024-08-16T16:14:35.082Z"
   },
   {
    "duration": 74,
    "start_time": "2024-08-16T16:14:59.475Z"
   },
   {
    "duration": 77,
    "start_time": "2024-08-16T16:15:07.403Z"
   },
   {
    "duration": 150,
    "start_time": "2024-08-16T16:15:20.250Z"
   },
   {
    "duration": 124,
    "start_time": "2024-08-16T16:15:50.982Z"
   },
   {
    "duration": 76,
    "start_time": "2024-08-16T16:16:20.139Z"
   },
   {
    "duration": 294,
    "start_time": "2024-08-16T16:16:53.343Z"
   },
   {
    "duration": 126,
    "start_time": "2024-08-16T16:18:17.556Z"
   },
   {
    "duration": 76,
    "start_time": "2024-08-16T16:19:23.564Z"
   },
   {
    "duration": 79,
    "start_time": "2024-08-16T16:19:42.249Z"
   },
   {
    "duration": 75,
    "start_time": "2024-08-16T16:19:53.877Z"
   },
   {
    "duration": 75,
    "start_time": "2024-08-16T16:19:58.669Z"
   },
   {
    "duration": 150,
    "start_time": "2024-08-16T16:20:24.373Z"
   },
   {
    "duration": 76,
    "start_time": "2024-08-16T16:20:53.009Z"
   },
   {
    "duration": 149,
    "start_time": "2024-08-16T16:21:34.041Z"
   },
   {
    "duration": 123,
    "start_time": "2024-08-16T16:22:01.542Z"
   },
   {
    "duration": 159,
    "start_time": "2024-08-16T16:24:51.547Z"
   },
   {
    "duration": 313,
    "start_time": "2024-08-16T16:25:04.503Z"
   },
   {
    "duration": 99,
    "start_time": "2024-08-16T16:25:12.290Z"
   },
   {
    "duration": 121,
    "start_time": "2024-08-16T16:27:24.636Z"
   },
   {
    "duration": 152,
    "start_time": "2024-08-16T16:27:45.988Z"
   },
   {
    "duration": 158,
    "start_time": "2024-08-16T16:29:32.464Z"
   },
   {
    "duration": 146,
    "start_time": "2024-08-16T16:29:40.009Z"
   },
   {
    "duration": 158,
    "start_time": "2024-08-16T16:30:03.193Z"
   },
   {
    "duration": 85,
    "start_time": "2024-08-16T16:30:59.302Z"
   },
   {
    "duration": 7529,
    "start_time": "2024-08-16T16:31:25.009Z"
   },
   {
    "duration": 3,
    "start_time": "2024-08-16T16:31:32.540Z"
   },
   {
    "duration": 5,
    "start_time": "2024-08-16T16:31:32.544Z"
   },
   {
    "duration": 254,
    "start_time": "2024-08-16T16:31:32.551Z"
   },
   {
    "duration": 70,
    "start_time": "2024-08-16T16:31:32.807Z"
   },
   {
    "duration": 70,
    "start_time": "2024-08-16T16:31:32.879Z"
   },
   {
    "duration": 72,
    "start_time": "2024-08-16T16:31:32.951Z"
   },
   {
    "duration": 71,
    "start_time": "2024-08-16T16:31:33.025Z"
   },
   {
    "duration": 67,
    "start_time": "2024-08-16T16:31:33.098Z"
   },
   {
    "duration": 69,
    "start_time": "2024-08-16T16:31:33.168Z"
   },
   {
    "duration": 68,
    "start_time": "2024-08-16T16:31:33.239Z"
   },
   {
    "duration": 68,
    "start_time": "2024-08-16T16:31:33.309Z"
   },
   {
    "duration": 140,
    "start_time": "2024-08-16T16:31:33.378Z"
   },
   {
    "duration": 0,
    "start_time": "2024-08-16T16:31:33.520Z"
   },
   {
    "duration": 0,
    "start_time": "2024-08-16T16:31:33.521Z"
   },
   {
    "duration": 0,
    "start_time": "2024-08-16T16:31:33.522Z"
   },
   {
    "duration": 0,
    "start_time": "2024-08-16T16:31:33.523Z"
   },
   {
    "duration": 86,
    "start_time": "2024-08-16T16:31:45.153Z"
   },
   {
    "duration": 79,
    "start_time": "2024-08-16T16:31:51.543Z"
   },
   {
    "duration": 80,
    "start_time": "2024-08-16T16:31:57.242Z"
   },
   {
    "duration": 72,
    "start_time": "2024-08-16T16:31:59.033Z"
   },
   {
    "duration": 76,
    "start_time": "2024-08-16T16:32:00.994Z"
   },
   {
    "duration": 170,
    "start_time": "2024-08-16T16:32:03.426Z"
   },
   {
    "duration": 128,
    "start_time": "2024-08-16T16:32:17.806Z"
   },
   {
    "duration": 93,
    "start_time": "2024-08-16T16:32:37.850Z"
   },
   {
    "duration": 161,
    "start_time": "2024-08-16T16:32:59.318Z"
   },
   {
    "duration": 73,
    "start_time": "2024-08-16T16:33:06.742Z"
   },
   {
    "duration": 154,
    "start_time": "2024-08-16T16:33:54.890Z"
   },
   {
    "duration": 1352,
    "start_time": "2024-08-16T16:34:01.759Z"
   },
   {
    "duration": 155,
    "start_time": "2024-08-16T16:34:13.050Z"
   },
   {
    "duration": 73,
    "start_time": "2024-08-16T16:34:16.383Z"
   },
   {
    "duration": 159,
    "start_time": "2024-08-16T16:36:19.083Z"
   },
   {
    "duration": 72,
    "start_time": "2024-08-16T16:36:49.696Z"
   },
   {
    "duration": 74,
    "start_time": "2024-08-16T16:37:49.668Z"
   },
   {
    "duration": 144,
    "start_time": "2024-08-16T16:39:13.109Z"
   },
   {
    "duration": 165,
    "start_time": "2024-08-16T16:40:05.551Z"
   },
   {
    "duration": 74,
    "start_time": "2024-08-16T16:40:15.375Z"
   },
   {
    "duration": 185,
    "start_time": "2024-08-16T16:40:44.875Z"
   },
   {
    "duration": 147,
    "start_time": "2024-08-16T16:40:57.838Z"
   },
   {
    "duration": 146,
    "start_time": "2024-08-16T16:41:08.805Z"
   },
   {
    "duration": 173,
    "start_time": "2024-08-16T16:42:09.186Z"
   },
   {
    "duration": 879,
    "start_time": "2024-08-16T16:42:19.130Z"
   },
   {
    "duration": 155,
    "start_time": "2024-08-16T16:43:46.454Z"
   },
   {
    "duration": 154,
    "start_time": "2024-08-16T16:43:50.163Z"
   },
   {
    "duration": 72,
    "start_time": "2024-08-16T16:44:44.719Z"
   },
   {
    "duration": 72,
    "start_time": "2024-08-16T16:45:12.132Z"
   },
   {
    "duration": 71,
    "start_time": "2024-08-16T16:45:16.676Z"
   },
   {
    "duration": 151,
    "start_time": "2024-08-16T16:45:58.572Z"
   },
   {
    "duration": 152,
    "start_time": "2024-08-16T16:46:14.671Z"
   },
   {
    "duration": 144,
    "start_time": "2024-08-16T16:46:18.068Z"
   },
   {
    "duration": 153,
    "start_time": "2024-08-16T16:46:21.596Z"
   },
   {
    "duration": 143,
    "start_time": "2024-08-16T16:46:24.573Z"
   },
   {
    "duration": 154,
    "start_time": "2024-08-16T16:46:29.020Z"
   },
   {
    "duration": 72,
    "start_time": "2024-08-16T16:46:31.704Z"
   },
   {
    "duration": 71,
    "start_time": "2024-08-16T16:46:39.972Z"
   },
   {
    "duration": 72,
    "start_time": "2024-08-16T16:48:35.537Z"
   },
   {
    "duration": 71,
    "start_time": "2024-08-16T16:49:14.933Z"
   },
   {
    "duration": 147,
    "start_time": "2024-08-16T16:51:55.839Z"
   },
   {
    "duration": 66,
    "start_time": "2024-08-16T16:52:09.654Z"
   },
   {
    "duration": 71,
    "start_time": "2024-08-16T16:52:14.979Z"
   },
   {
    "duration": 68,
    "start_time": "2024-08-16T16:53:02.171Z"
   },
   {
    "duration": 8828,
    "start_time": "2024-08-16T16:53:52.112Z"
   },
   {
    "duration": 3,
    "start_time": "2024-08-16T16:54:00.942Z"
   },
   {
    "duration": 14,
    "start_time": "2024-08-16T16:54:00.946Z"
   },
   {
    "duration": 255,
    "start_time": "2024-08-16T16:54:00.963Z"
   },
   {
    "duration": 69,
    "start_time": "2024-08-16T16:54:01.221Z"
   },
   {
    "duration": 72,
    "start_time": "2024-08-16T16:54:01.293Z"
   },
   {
    "duration": 69,
    "start_time": "2024-08-16T16:54:01.367Z"
   },
   {
    "duration": 70,
    "start_time": "2024-08-16T16:54:01.438Z"
   },
   {
    "duration": 69,
    "start_time": "2024-08-16T16:54:01.509Z"
   },
   {
    "duration": 70,
    "start_time": "2024-08-16T16:54:01.580Z"
   },
   {
    "duration": 69,
    "start_time": "2024-08-16T16:54:01.651Z"
   },
   {
    "duration": 70,
    "start_time": "2024-08-16T16:54:01.721Z"
   },
   {
    "duration": 68,
    "start_time": "2024-08-16T16:54:01.792Z"
   },
   {
    "duration": 69,
    "start_time": "2024-08-16T16:54:01.862Z"
   },
   {
    "duration": 83,
    "start_time": "2024-08-16T16:54:01.933Z"
   },
   {
    "duration": 82,
    "start_time": "2024-08-16T16:54:02.017Z"
   },
   {
    "duration": 70,
    "start_time": "2024-08-16T16:54:02.101Z"
   },
   {
    "duration": 73,
    "start_time": "2024-08-16T16:54:02.172Z"
   },
   {
    "duration": 70,
    "start_time": "2024-08-16T16:54:02.247Z"
   },
   {
    "duration": 73,
    "start_time": "2024-08-16T17:06:19.029Z"
   },
   {
    "duration": 71,
    "start_time": "2024-08-16T17:07:01.596Z"
   },
   {
    "duration": 7078,
    "start_time": "2024-08-16T17:07:10.360Z"
   },
   {
    "duration": 3,
    "start_time": "2024-08-16T17:07:17.440Z"
   },
   {
    "duration": 9,
    "start_time": "2024-08-16T17:07:17.445Z"
   },
   {
    "duration": 245,
    "start_time": "2024-08-16T17:07:17.456Z"
   },
   {
    "duration": 69,
    "start_time": "2024-08-16T17:07:17.702Z"
   },
   {
    "duration": 69,
    "start_time": "2024-08-16T17:07:17.773Z"
   },
   {
    "duration": 69,
    "start_time": "2024-08-16T17:07:17.844Z"
   },
   {
    "duration": 72,
    "start_time": "2024-08-16T17:07:17.915Z"
   },
   {
    "duration": 68,
    "start_time": "2024-08-16T17:07:17.989Z"
   },
   {
    "duration": 70,
    "start_time": "2024-08-16T17:07:18.060Z"
   },
   {
    "duration": 70,
    "start_time": "2024-08-16T17:07:18.131Z"
   },
   {
    "duration": 72,
    "start_time": "2024-08-16T17:07:18.203Z"
   },
   {
    "duration": 69,
    "start_time": "2024-08-16T17:07:18.276Z"
   },
   {
    "duration": 69,
    "start_time": "2024-08-16T17:07:18.347Z"
   },
   {
    "duration": 82,
    "start_time": "2024-08-16T17:07:18.418Z"
   },
   {
    "duration": 83,
    "start_time": "2024-08-16T17:07:18.502Z"
   },
   {
    "duration": 70,
    "start_time": "2024-08-16T17:07:18.587Z"
   },
   {
    "duration": 73,
    "start_time": "2024-08-16T17:07:18.659Z"
   },
   {
    "duration": 71,
    "start_time": "2024-08-16T17:07:18.734Z"
   },
   {
    "duration": 70,
    "start_time": "2024-08-16T17:09:02.074Z"
   },
   {
    "duration": 68,
    "start_time": "2024-08-16T17:09:05.169Z"
   },
   {
    "duration": 7427,
    "start_time": "2024-08-16T17:10:28.530Z"
   },
   {
    "duration": 3,
    "start_time": "2024-08-16T17:10:35.959Z"
   },
   {
    "duration": 18,
    "start_time": "2024-08-16T17:10:35.963Z"
   },
   {
    "duration": 315,
    "start_time": "2024-08-16T17:10:35.983Z"
   },
   {
    "duration": 71,
    "start_time": "2024-08-16T17:10:36.301Z"
   },
   {
    "duration": 71,
    "start_time": "2024-08-16T17:10:36.373Z"
   },
   {
    "duration": 71,
    "start_time": "2024-08-16T17:10:36.445Z"
   },
   {
    "duration": 71,
    "start_time": "2024-08-16T17:10:36.518Z"
   },
   {
    "duration": 71,
    "start_time": "2024-08-16T17:10:36.590Z"
   },
   {
    "duration": 73,
    "start_time": "2024-08-16T17:10:36.662Z"
   },
   {
    "duration": 69,
    "start_time": "2024-08-16T17:10:36.736Z"
   },
   {
    "duration": 71,
    "start_time": "2024-08-16T17:10:36.807Z"
   },
   {
    "duration": 70,
    "start_time": "2024-08-16T17:10:36.879Z"
   },
   {
    "duration": 69,
    "start_time": "2024-08-16T17:10:36.952Z"
   },
   {
    "duration": 83,
    "start_time": "2024-08-16T17:10:37.023Z"
   },
   {
    "duration": 84,
    "start_time": "2024-08-16T17:10:37.108Z"
   },
   {
    "duration": 75,
    "start_time": "2024-08-16T17:10:37.193Z"
   },
   {
    "duration": 77,
    "start_time": "2024-08-16T17:10:37.270Z"
   },
   {
    "duration": 74,
    "start_time": "2024-08-16T17:10:37.348Z"
   },
   {
    "duration": 5591,
    "start_time": "2024-08-17T10:02:28.363Z"
   },
   {
    "duration": 3,
    "start_time": "2024-08-17T10:02:33.956Z"
   },
   {
    "duration": 44,
    "start_time": "2024-08-17T10:02:33.960Z"
   },
   {
    "duration": 56,
    "start_time": "2024-08-17T10:02:34.006Z"
   },
   {
    "duration": 9,
    "start_time": "2024-08-17T10:02:34.065Z"
   },
   {
    "duration": 24,
    "start_time": "2024-08-17T10:02:34.075Z"
   },
   {
    "duration": 19,
    "start_time": "2024-08-17T10:02:34.100Z"
   },
   {
    "duration": 9,
    "start_time": "2024-08-17T10:02:34.120Z"
   },
   {
    "duration": 8,
    "start_time": "2024-08-17T10:02:34.131Z"
   },
   {
    "duration": 17,
    "start_time": "2024-08-17T10:02:34.140Z"
   },
   {
    "duration": 13,
    "start_time": "2024-08-17T10:02:34.158Z"
   },
   {
    "duration": 17,
    "start_time": "2024-08-17T10:02:34.172Z"
   },
   {
    "duration": 13,
    "start_time": "2024-08-17T10:02:34.190Z"
   },
   {
    "duration": 10,
    "start_time": "2024-08-17T10:02:34.205Z"
   },
   {
    "duration": 29,
    "start_time": "2024-08-17T10:02:34.216Z"
   },
   {
    "duration": 24,
    "start_time": "2024-08-17T10:02:34.247Z"
   },
   {
    "duration": 11,
    "start_time": "2024-08-17T10:02:34.272Z"
   },
   {
    "duration": 34,
    "start_time": "2024-08-17T10:02:34.285Z"
   },
   {
    "duration": 13,
    "start_time": "2024-08-17T10:02:34.321Z"
   },
   {
    "duration": 30,
    "start_time": "2024-08-17T10:02:39.839Z"
   },
   {
    "duration": 24,
    "start_time": "2024-08-17T10:02:42.263Z"
   },
   {
    "duration": 15,
    "start_time": "2024-08-17T10:02:50.703Z"
   },
   {
    "duration": 7196,
    "start_time": "2024-08-17T10:14:36.637Z"
   },
   {
    "duration": 3,
    "start_time": "2024-08-17T10:14:43.835Z"
   },
   {
    "duration": 5,
    "start_time": "2024-08-17T10:14:43.839Z"
   },
   {
    "duration": 282,
    "start_time": "2024-08-17T10:14:43.846Z"
   },
   {
    "duration": 73,
    "start_time": "2024-08-17T10:14:44.130Z"
   },
   {
    "duration": 73,
    "start_time": "2024-08-17T10:14:44.204Z"
   },
   {
    "duration": 73,
    "start_time": "2024-08-17T10:14:44.279Z"
   },
   {
    "duration": 74,
    "start_time": "2024-08-17T10:14:44.354Z"
   },
   {
    "duration": 72,
    "start_time": "2024-08-17T10:14:44.429Z"
   },
   {
    "duration": 74,
    "start_time": "2024-08-17T10:14:44.504Z"
   },
   {
    "duration": 73,
    "start_time": "2024-08-17T10:14:44.579Z"
   },
   {
    "duration": 75,
    "start_time": "2024-08-17T10:14:44.653Z"
   },
   {
    "duration": 73,
    "start_time": "2024-08-17T10:14:44.729Z"
   },
   {
    "duration": 73,
    "start_time": "2024-08-17T10:14:44.804Z"
   },
   {
    "duration": 87,
    "start_time": "2024-08-17T10:14:44.879Z"
   },
   {
    "duration": 87,
    "start_time": "2024-08-17T10:14:44.968Z"
   },
   {
    "duration": 75,
    "start_time": "2024-08-17T10:14:45.056Z"
   },
   {
    "duration": 79,
    "start_time": "2024-08-17T10:14:45.133Z"
   },
   {
    "duration": 76,
    "start_time": "2024-08-17T10:14:45.214Z"
   },
   {
    "duration": 114,
    "start_time": "2024-08-17T10:15:06.916Z"
   },
   {
    "duration": 211,
    "start_time": "2024-08-17T10:15:52.949Z"
   },
   {
    "duration": 164,
    "start_time": "2024-08-17T10:15:58.093Z"
   },
   {
    "duration": 146,
    "start_time": "2024-08-17T10:16:14.470Z"
   },
   {
    "duration": 75,
    "start_time": "2024-08-17T10:16:29.651Z"
   },
   {
    "duration": 113,
    "start_time": "2024-08-17T10:17:13.822Z"
   },
   {
    "duration": 114,
    "start_time": "2024-08-17T10:17:46.991Z"
   },
   {
    "duration": 160,
    "start_time": "2024-08-17T10:17:58.210Z"
   },
   {
    "duration": 85,
    "start_time": "2024-08-17T10:18:03.951Z"
   },
   {
    "duration": 112,
    "start_time": "2024-08-17T10:18:10.171Z"
   },
   {
    "duration": 114,
    "start_time": "2024-08-17T10:20:28.547Z"
   },
   {
    "duration": 110,
    "start_time": "2024-08-17T10:20:44.497Z"
   },
   {
    "duration": 111,
    "start_time": "2024-08-17T10:20:57.329Z"
   },
   {
    "duration": 112,
    "start_time": "2024-08-17T10:21:30.428Z"
   },
   {
    "duration": 86,
    "start_time": "2024-08-17T10:23:08.546Z"
   },
   {
    "duration": 78,
    "start_time": "2024-08-17T10:24:51.474Z"
   },
   {
    "duration": 150,
    "start_time": "2024-08-17T10:36:23.813Z"
   },
   {
    "duration": 152,
    "start_time": "2024-08-17T10:36:38.634Z"
   },
   {
    "duration": 170,
    "start_time": "2024-08-17T10:37:21.039Z"
   },
   {
    "duration": 78,
    "start_time": "2024-08-17T10:42:38.031Z"
   },
   {
    "duration": 78,
    "start_time": "2024-08-17T10:44:05.283Z"
   },
   {
    "duration": 77,
    "start_time": "2024-08-17T10:44:18.647Z"
   },
   {
    "duration": 80,
    "start_time": "2024-08-17T10:45:49.553Z"
   },
   {
    "duration": 80,
    "start_time": "2024-08-17T10:48:48.886Z"
   },
   {
    "duration": 77,
    "start_time": "2024-08-17T10:49:03.743Z"
   },
   {
    "duration": 163,
    "start_time": "2024-08-17T10:56:54.854Z"
   },
   {
    "duration": 86,
    "start_time": "2024-08-17T10:57:55.254Z"
   },
   {
    "duration": 7469,
    "start_time": "2024-08-17T10:58:09.719Z"
   },
   {
    "duration": 3,
    "start_time": "2024-08-17T10:58:17.190Z"
   },
   {
    "duration": 16,
    "start_time": "2024-08-17T10:58:17.195Z"
   },
   {
    "duration": 271,
    "start_time": "2024-08-17T10:58:17.213Z"
   },
   {
    "duration": 74,
    "start_time": "2024-08-17T10:58:17.486Z"
   },
   {
    "duration": 77,
    "start_time": "2024-08-17T10:58:17.561Z"
   },
   {
    "duration": 76,
    "start_time": "2024-08-17T10:58:17.640Z"
   },
   {
    "duration": 75,
    "start_time": "2024-08-17T10:58:17.719Z"
   },
   {
    "duration": 76,
    "start_time": "2024-08-17T10:58:17.796Z"
   },
   {
    "duration": 79,
    "start_time": "2024-08-17T10:58:17.875Z"
   },
   {
    "duration": 75,
    "start_time": "2024-08-17T10:58:17.956Z"
   },
   {
    "duration": 75,
    "start_time": "2024-08-17T10:58:18.033Z"
   },
   {
    "duration": 73,
    "start_time": "2024-08-17T10:58:18.110Z"
   },
   {
    "duration": 72,
    "start_time": "2024-08-17T10:58:18.185Z"
   },
   {
    "duration": 85,
    "start_time": "2024-08-17T10:58:18.259Z"
   },
   {
    "duration": 93,
    "start_time": "2024-08-17T10:58:18.345Z"
   },
   {
    "duration": 78,
    "start_time": "2024-08-17T10:58:18.440Z"
   },
   {
    "duration": 81,
    "start_time": "2024-08-17T10:58:18.520Z"
   },
   {
    "duration": 77,
    "start_time": "2024-08-17T10:58:18.604Z"
   },
   {
    "duration": 2,
    "start_time": "2024-08-17T11:00:52.193Z"
   },
   {
    "duration": 466,
    "start_time": "2024-08-17T11:01:00.975Z"
   },
   {
    "duration": 7631,
    "start_time": "2024-08-17T11:01:01.443Z"
   },
   {
    "duration": 62,
    "start_time": "2024-08-17T11:01:09.075Z"
   },
   {
    "duration": 0,
    "start_time": "2024-08-17T11:01:09.139Z"
   },
   {
    "duration": 0,
    "start_time": "2024-08-17T11:01:09.140Z"
   },
   {
    "duration": 0,
    "start_time": "2024-08-17T11:01:09.141Z"
   },
   {
    "duration": 0,
    "start_time": "2024-08-17T11:01:09.143Z"
   },
   {
    "duration": 0,
    "start_time": "2024-08-17T11:01:09.144Z"
   },
   {
    "duration": 0,
    "start_time": "2024-08-17T11:01:09.145Z"
   },
   {
    "duration": 0,
    "start_time": "2024-08-17T11:01:09.146Z"
   },
   {
    "duration": 0,
    "start_time": "2024-08-17T11:01:09.147Z"
   },
   {
    "duration": 0,
    "start_time": "2024-08-17T11:01:09.148Z"
   },
   {
    "duration": 0,
    "start_time": "2024-08-17T11:01:09.149Z"
   },
   {
    "duration": 0,
    "start_time": "2024-08-17T11:01:09.151Z"
   },
   {
    "duration": 0,
    "start_time": "2024-08-17T11:01:09.151Z"
   },
   {
    "duration": 0,
    "start_time": "2024-08-17T11:01:09.153Z"
   },
   {
    "duration": 0,
    "start_time": "2024-08-17T11:01:09.154Z"
   },
   {
    "duration": 0,
    "start_time": "2024-08-17T11:01:09.155Z"
   },
   {
    "duration": 0,
    "start_time": "2024-08-17T11:01:09.156Z"
   },
   {
    "duration": 0,
    "start_time": "2024-08-17T11:01:09.157Z"
   },
   {
    "duration": 2,
    "start_time": "2024-08-17T11:01:31.598Z"
   },
   {
    "duration": 454,
    "start_time": "2024-08-17T11:01:36.093Z"
   },
   {
    "duration": 7043,
    "start_time": "2024-08-17T11:01:36.549Z"
   },
   {
    "duration": 3,
    "start_time": "2024-08-17T11:01:43.593Z"
   },
   {
    "duration": 37,
    "start_time": "2024-08-17T11:01:43.598Z"
   },
   {
    "duration": 285,
    "start_time": "2024-08-17T11:01:43.637Z"
   },
   {
    "duration": 73,
    "start_time": "2024-08-17T11:01:43.923Z"
   },
   {
    "duration": 75,
    "start_time": "2024-08-17T11:01:43.997Z"
   },
   {
    "duration": 73,
    "start_time": "2024-08-17T11:01:44.073Z"
   },
   {
    "duration": 74,
    "start_time": "2024-08-17T11:01:44.147Z"
   },
   {
    "duration": 77,
    "start_time": "2024-08-17T11:01:44.223Z"
   },
   {
    "duration": 79,
    "start_time": "2024-08-17T11:01:44.302Z"
   },
   {
    "duration": 74,
    "start_time": "2024-08-17T11:01:44.382Z"
   },
   {
    "duration": 76,
    "start_time": "2024-08-17T11:01:44.458Z"
   },
   {
    "duration": 77,
    "start_time": "2024-08-17T11:01:44.536Z"
   },
   {
    "duration": 72,
    "start_time": "2024-08-17T11:01:44.614Z"
   },
   {
    "duration": 87,
    "start_time": "2024-08-17T11:01:44.687Z"
   },
   {
    "duration": 86,
    "start_time": "2024-08-17T11:01:44.775Z"
   },
   {
    "duration": 75,
    "start_time": "2024-08-17T11:01:44.862Z"
   },
   {
    "duration": 86,
    "start_time": "2024-08-17T11:01:44.939Z"
   },
   {
    "duration": 78,
    "start_time": "2024-08-17T11:01:45.027Z"
   },
   {
    "duration": 79,
    "start_time": "2024-08-17T11:03:01.000Z"
   }
  ],
  "kernelspec": {
   "display_name": "Python 3 (ipykernel)",
   "language": "python",
   "name": "python3"
  },
  "language_info": {
   "codemirror_mode": {
    "name": "ipython",
    "version": 3
   },
   "file_extension": ".py",
   "mimetype": "text/x-python",
   "name": "python",
   "nbconvert_exporter": "python",
   "pygments_lexer": "ipython3",
   "version": "3.11.9"
  },
  "toc": {
   "base_numbering": 1,
   "nav_menu": {},
   "number_sections": true,
   "sideBar": true,
   "skip_h1_title": true,
   "title_cell": "Table of Contents",
   "title_sidebar": "Contents",
   "toc_cell": false,
   "toc_position": {},
   "toc_section_display": true,
   "toc_window_display": false
  }
 },
 "nbformat": 4,
 "nbformat_minor": 2
}
