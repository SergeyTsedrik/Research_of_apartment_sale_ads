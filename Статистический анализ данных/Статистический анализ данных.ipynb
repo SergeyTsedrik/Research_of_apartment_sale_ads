{
 "cells": [
  {
   "cell_type": "markdown",
   "id": "5a062376",
   "metadata": {},
   "source": [
    "### Статистический анализ данных\n",
    "\n",
    "**Описание проекта:** Чтобы совершать поездки по городу, пользователи сервиса GoFast пользуются мобильным приложением. Сервисом можно пользоваться:\n",
    "1. **без подписки**:\n",
    "- абонентская плата отсутствует;\n",
    "- стоимость одной минуты поездки — 8 рублей;\n",
    "- стоимость старта (начала поездки) — 50 рублей;\n",
    "2. **с подпиской Ultra**:\n",
    "- абонентская плата — 199 рублей в месяц:\n",
    "- стоимость одной минуты поездки — 6 рублей;\n",
    "\n",
    "**Цель проекта:** Проанализировать данные и проверить некоторые гипотезы, которые могут помочь бизнесу вырасти.\n",
    "\n",
    "**Описание данных:**\n",
    "В основных данных есть информация о пользователях, их поездках и подписках.\n",
    "\n",
    "Пользователи — **users_go.csv**:\n",
    "- user_id -\tуникальный идентификатор пользователя\n",
    "- name - имя пользователя\n",
    "- age -\tвозраст\n",
    "- city - город\n",
    "- subscription_type - тип подписки (free, ultra)\n",
    "\n",
    "Поездки — **rides_go.csv**:\n",
    "- user_id -\tуникальный идентификатор пользователя\n",
    "- distance - расстояние, которое пользователь проехал в текущей сессии (в метрах)\n",
    "- duration - продолжительность сессии (в минутах) — время с того момента, как пользователь нажал кнопку «Начать поездку» до момента, как он нажал кнопку «Завершить поездку»\n",
    "- date - дата совершения поездки\n",
    "\n",
    "Подписки — **subscriptions_go.csv**:\n",
    "- subscription_type - тип подписки\n",
    "- minute_price  - стоимость одной минуты поездки по данной подписке\n",
    "- start_ride_price - стоимость начала поездки\n",
    "- subscription_fee - стоимость ежемесячного платежа\n",
    "\n",
    "**План работы:**\n",
    "1. Загрузка данных\n",
    "2. Предобработка данных\n",
    "3. Исследовательский анализ данных\n",
    "4. Объединение данных\n",
    "5. Подсчёт выручки\n",
    "6. Проверка гипотез\n",
    "7. Распределения"
   ]
  },
  {
   "cell_type": "code",
   "execution_count": 1,
   "id": "72576667",
   "metadata": {},
   "outputs": [],
   "source": [
    "#импортируем необходимые библиотеки\n",
    "import pandas as pd \n",
    "import matplotlib.pyplot as plt  \n",
    "import numpy as np\n",
    "from scipy import stats as st\n",
    "from scipy.stats import binom\n",
    "import seaborn as sns"
   ]
  },
  {
   "cell_type": "markdown",
   "id": "c42cbe00",
   "metadata": {},
   "source": [
    "#### Шаг 1. Загрузка данных"
   ]
  },
  {
   "cell_type": "code",
   "execution_count": 2,
   "id": "258cf388",
   "metadata": {},
   "outputs": [],
   "source": [
    "# функция дло открытия файлов и последующая проверка правильности выполнения\n",
    "def open_csv(file_path_platform, file_path_loc):\n",
    "    try:\n",
    "        name = pd.read_csv(file_path_platform)\n",
    "    except:\n",
    "    \n",
    "        try:\n",
    "            name = pd.read_csv(file_path_loc)\n",
    "        except :\n",
    "            name = None  \n",
    "\n",
    "    if name is None:\n",
    "        print('Что-то не так')\n",
    "    else:\n",
    "        print('Данные успешно загружены')\n",
    "        print('*' * 40)\n",
    "        print('Вывожу первые 10 сторк датафрейма:')\n",
    "        display(name.head(10))\n",
    "        print('*' * 40)\n",
    "        print('Вывожу основную информацию о датафрейме:')\n",
    "        name.info()\n",
    "    return name       "
   ]
  },
  {
   "cell_type": "code",
   "execution_count": 3,
   "id": "c12f598a",
   "metadata": {
    "scrolled": false
   },
   "outputs": [
    {
     "name": "stdout",
     "output_type": "stream",
     "text": [
      "Данные успешно загружены\n",
      "****************************************\n",
      "Вывожу первые 10 сторк датафрейма:\n"
     ]
    },
    {
     "data": {
      "text/html": [
       "<div>\n",
       "<style scoped>\n",
       "    .dataframe tbody tr th:only-of-type {\n",
       "        vertical-align: middle;\n",
       "    }\n",
       "\n",
       "    .dataframe tbody tr th {\n",
       "        vertical-align: top;\n",
       "    }\n",
       "\n",
       "    .dataframe thead th {\n",
       "        text-align: right;\n",
       "    }\n",
       "</style>\n",
       "<table border=\"1\" class=\"dataframe\">\n",
       "  <thead>\n",
       "    <tr style=\"text-align: right;\">\n",
       "      <th></th>\n",
       "      <th>user_id</th>\n",
       "      <th>name</th>\n",
       "      <th>age</th>\n",
       "      <th>city</th>\n",
       "      <th>subscription_type</th>\n",
       "    </tr>\n",
       "  </thead>\n",
       "  <tbody>\n",
       "    <tr>\n",
       "      <th>0</th>\n",
       "      <td>1</td>\n",
       "      <td>Кира</td>\n",
       "      <td>22</td>\n",
       "      <td>Тюмень</td>\n",
       "      <td>ultra</td>\n",
       "    </tr>\n",
       "    <tr>\n",
       "      <th>1</th>\n",
       "      <td>2</td>\n",
       "      <td>Станислав</td>\n",
       "      <td>31</td>\n",
       "      <td>Омск</td>\n",
       "      <td>ultra</td>\n",
       "    </tr>\n",
       "    <tr>\n",
       "      <th>2</th>\n",
       "      <td>3</td>\n",
       "      <td>Алексей</td>\n",
       "      <td>20</td>\n",
       "      <td>Москва</td>\n",
       "      <td>ultra</td>\n",
       "    </tr>\n",
       "    <tr>\n",
       "      <th>3</th>\n",
       "      <td>4</td>\n",
       "      <td>Константин</td>\n",
       "      <td>26</td>\n",
       "      <td>Ростов-на-Дону</td>\n",
       "      <td>ultra</td>\n",
       "    </tr>\n",
       "    <tr>\n",
       "      <th>4</th>\n",
       "      <td>5</td>\n",
       "      <td>Адель</td>\n",
       "      <td>28</td>\n",
       "      <td>Омск</td>\n",
       "      <td>ultra</td>\n",
       "    </tr>\n",
       "    <tr>\n",
       "      <th>5</th>\n",
       "      <td>6</td>\n",
       "      <td>Регина</td>\n",
       "      <td>25</td>\n",
       "      <td>Краснодар</td>\n",
       "      <td>ultra</td>\n",
       "    </tr>\n",
       "    <tr>\n",
       "      <th>6</th>\n",
       "      <td>7</td>\n",
       "      <td>Игорь</td>\n",
       "      <td>23</td>\n",
       "      <td>Омск</td>\n",
       "      <td>ultra</td>\n",
       "    </tr>\n",
       "    <tr>\n",
       "      <th>7</th>\n",
       "      <td>8</td>\n",
       "      <td>Юрий</td>\n",
       "      <td>23</td>\n",
       "      <td>Краснодар</td>\n",
       "      <td>ultra</td>\n",
       "    </tr>\n",
       "    <tr>\n",
       "      <th>8</th>\n",
       "      <td>9</td>\n",
       "      <td>Ян</td>\n",
       "      <td>21</td>\n",
       "      <td>Пятигорск</td>\n",
       "      <td>ultra</td>\n",
       "    </tr>\n",
       "    <tr>\n",
       "      <th>9</th>\n",
       "      <td>10</td>\n",
       "      <td>Валерий</td>\n",
       "      <td>18</td>\n",
       "      <td>Екатеринбург</td>\n",
       "      <td>ultra</td>\n",
       "    </tr>\n",
       "  </tbody>\n",
       "</table>\n",
       "</div>"
      ],
      "text/plain": [
       "   user_id        name  age            city subscription_type\n",
       "0        1        Кира   22          Тюмень             ultra\n",
       "1        2   Станислав   31            Омск             ultra\n",
       "2        3     Алексей   20          Москва             ultra\n",
       "3        4  Константин   26  Ростов-на-Дону             ultra\n",
       "4        5       Адель   28            Омск             ultra\n",
       "5        6      Регина   25       Краснодар             ultra\n",
       "6        7       Игорь   23            Омск             ultra\n",
       "7        8        Юрий   23       Краснодар             ultra\n",
       "8        9          Ян   21       Пятигорск             ultra\n",
       "9       10     Валерий   18    Екатеринбург             ultra"
      ]
     },
     "metadata": {},
     "output_type": "display_data"
    },
    {
     "name": "stdout",
     "output_type": "stream",
     "text": [
      "****************************************\n",
      "Вывожу основную информацию о датафрейме:\n",
      "<class 'pandas.core.frame.DataFrame'>\n",
      "RangeIndex: 1565 entries, 0 to 1564\n",
      "Data columns (total 5 columns):\n",
      " #   Column             Non-Null Count  Dtype \n",
      "---  ------             --------------  ----- \n",
      " 0   user_id            1565 non-null   int64 \n",
      " 1   name               1565 non-null   object\n",
      " 2   age                1565 non-null   int64 \n",
      " 3   city               1565 non-null   object\n",
      " 4   subscription_type  1565 non-null   object\n",
      "dtypes: int64(2), object(3)\n",
      "memory usage: 61.3+ KB\n"
     ]
    }
   ],
   "source": [
    "users_go = open_csv('/datasets/users_go.csv', '/Users/sergey/Downloads/users_go.csv')"
   ]
  },
  {
   "cell_type": "markdown",
   "id": "1999f9d9",
   "metadata": {},
   "source": [
    "В датасете содержится 1565 строк и 5 столбцов, в названии столбцов ошибок нет, пропуски отсутствуют, тип данных указан верно."
   ]
  },
  {
   "cell_type": "code",
   "execution_count": 4,
   "id": "e44d6891",
   "metadata": {},
   "outputs": [
    {
     "name": "stdout",
     "output_type": "stream",
     "text": [
      "Данные успешно загружены\n",
      "****************************************\n",
      "Вывожу первые 10 сторк датафрейма:\n"
     ]
    },
    {
     "data": {
      "text/html": [
       "<div>\n",
       "<style scoped>\n",
       "    .dataframe tbody tr th:only-of-type {\n",
       "        vertical-align: middle;\n",
       "    }\n",
       "\n",
       "    .dataframe tbody tr th {\n",
       "        vertical-align: top;\n",
       "    }\n",
       "\n",
       "    .dataframe thead th {\n",
       "        text-align: right;\n",
       "    }\n",
       "</style>\n",
       "<table border=\"1\" class=\"dataframe\">\n",
       "  <thead>\n",
       "    <tr style=\"text-align: right;\">\n",
       "      <th></th>\n",
       "      <th>user_id</th>\n",
       "      <th>distance</th>\n",
       "      <th>duration</th>\n",
       "      <th>date</th>\n",
       "    </tr>\n",
       "  </thead>\n",
       "  <tbody>\n",
       "    <tr>\n",
       "      <th>0</th>\n",
       "      <td>1</td>\n",
       "      <td>4409.919140</td>\n",
       "      <td>25.599769</td>\n",
       "      <td>2021-01-01</td>\n",
       "    </tr>\n",
       "    <tr>\n",
       "      <th>1</th>\n",
       "      <td>1</td>\n",
       "      <td>2617.592153</td>\n",
       "      <td>15.816871</td>\n",
       "      <td>2021-01-18</td>\n",
       "    </tr>\n",
       "    <tr>\n",
       "      <th>2</th>\n",
       "      <td>1</td>\n",
       "      <td>754.159807</td>\n",
       "      <td>6.232113</td>\n",
       "      <td>2021-04-20</td>\n",
       "    </tr>\n",
       "    <tr>\n",
       "      <th>3</th>\n",
       "      <td>1</td>\n",
       "      <td>2694.783254</td>\n",
       "      <td>18.511000</td>\n",
       "      <td>2021-08-11</td>\n",
       "    </tr>\n",
       "    <tr>\n",
       "      <th>4</th>\n",
       "      <td>1</td>\n",
       "      <td>4028.687306</td>\n",
       "      <td>26.265803</td>\n",
       "      <td>2021-08-28</td>\n",
       "    </tr>\n",
       "    <tr>\n",
       "      <th>5</th>\n",
       "      <td>1</td>\n",
       "      <td>2770.890808</td>\n",
       "      <td>16.650138</td>\n",
       "      <td>2021-10-09</td>\n",
       "    </tr>\n",
       "    <tr>\n",
       "      <th>6</th>\n",
       "      <td>1</td>\n",
       "      <td>3039.020292</td>\n",
       "      <td>14.927879</td>\n",
       "      <td>2021-10-19</td>\n",
       "    </tr>\n",
       "    <tr>\n",
       "      <th>7</th>\n",
       "      <td>1</td>\n",
       "      <td>2842.118050</td>\n",
       "      <td>23.117468</td>\n",
       "      <td>2021-11-06</td>\n",
       "    </tr>\n",
       "    <tr>\n",
       "      <th>8</th>\n",
       "      <td>1</td>\n",
       "      <td>3412.690668</td>\n",
       "      <td>15.238072</td>\n",
       "      <td>2021-11-14</td>\n",
       "    </tr>\n",
       "    <tr>\n",
       "      <th>9</th>\n",
       "      <td>1</td>\n",
       "      <td>748.690645</td>\n",
       "      <td>15.041884</td>\n",
       "      <td>2021-11-22</td>\n",
       "    </tr>\n",
       "  </tbody>\n",
       "</table>\n",
       "</div>"
      ],
      "text/plain": [
       "   user_id     distance   duration        date\n",
       "0        1  4409.919140  25.599769  2021-01-01\n",
       "1        1  2617.592153  15.816871  2021-01-18\n",
       "2        1   754.159807   6.232113  2021-04-20\n",
       "3        1  2694.783254  18.511000  2021-08-11\n",
       "4        1  4028.687306  26.265803  2021-08-28\n",
       "5        1  2770.890808  16.650138  2021-10-09\n",
       "6        1  3039.020292  14.927879  2021-10-19\n",
       "7        1  2842.118050  23.117468  2021-11-06\n",
       "8        1  3412.690668  15.238072  2021-11-14\n",
       "9        1   748.690645  15.041884  2021-11-22"
      ]
     },
     "metadata": {},
     "output_type": "display_data"
    },
    {
     "name": "stdout",
     "output_type": "stream",
     "text": [
      "****************************************\n",
      "Вывожу основную информацию о датафрейме:\n",
      "<class 'pandas.core.frame.DataFrame'>\n",
      "RangeIndex: 18068 entries, 0 to 18067\n",
      "Data columns (total 4 columns):\n",
      " #   Column    Non-Null Count  Dtype  \n",
      "---  ------    --------------  -----  \n",
      " 0   user_id   18068 non-null  int64  \n",
      " 1   distance  18068 non-null  float64\n",
      " 2   duration  18068 non-null  float64\n",
      " 3   date      18068 non-null  object \n",
      "dtypes: float64(2), int64(1), object(1)\n",
      "memory usage: 564.8+ KB\n"
     ]
    }
   ],
   "source": [
    "riders_go = open_csv('/datasets/rides_go.csv', '/Users/sergey/Downloads/rides_go.csv')"
   ]
  },
  {
   "cell_type": "markdown",
   "id": "bd01cd99",
   "metadata": {},
   "source": [
    "В датасете содержится 18068 строк и 4 столбца, в названия столбцов замечаний нет, пропуски отсутствуют, в столбце date нужно изменить тип данных."
   ]
  },
  {
   "cell_type": "code",
   "execution_count": 5,
   "id": "631ed8d5",
   "metadata": {
    "scrolled": false
   },
   "outputs": [
    {
     "name": "stdout",
     "output_type": "stream",
     "text": [
      "Данные успешно загружены\n",
      "****************************************\n",
      "Вывожу первые 10 сторк датафрейма:\n"
     ]
    },
    {
     "data": {
      "text/html": [
       "<div>\n",
       "<style scoped>\n",
       "    .dataframe tbody tr th:only-of-type {\n",
       "        vertical-align: middle;\n",
       "    }\n",
       "\n",
       "    .dataframe tbody tr th {\n",
       "        vertical-align: top;\n",
       "    }\n",
       "\n",
       "    .dataframe thead th {\n",
       "        text-align: right;\n",
       "    }\n",
       "</style>\n",
       "<table border=\"1\" class=\"dataframe\">\n",
       "  <thead>\n",
       "    <tr style=\"text-align: right;\">\n",
       "      <th></th>\n",
       "      <th>subscription_type</th>\n",
       "      <th>minute_price</th>\n",
       "      <th>start_ride_price</th>\n",
       "      <th>subscription_fee</th>\n",
       "    </tr>\n",
       "  </thead>\n",
       "  <tbody>\n",
       "    <tr>\n",
       "      <th>0</th>\n",
       "      <td>free</td>\n",
       "      <td>8</td>\n",
       "      <td>50</td>\n",
       "      <td>0</td>\n",
       "    </tr>\n",
       "    <tr>\n",
       "      <th>1</th>\n",
       "      <td>ultra</td>\n",
       "      <td>6</td>\n",
       "      <td>0</td>\n",
       "      <td>199</td>\n",
       "    </tr>\n",
       "  </tbody>\n",
       "</table>\n",
       "</div>"
      ],
      "text/plain": [
       "  subscription_type  minute_price  start_ride_price  subscription_fee\n",
       "0              free             8                50                 0\n",
       "1             ultra             6                 0               199"
      ]
     },
     "metadata": {},
     "output_type": "display_data"
    },
    {
     "name": "stdout",
     "output_type": "stream",
     "text": [
      "****************************************\n",
      "Вывожу основную информацию о датафрейме:\n",
      "<class 'pandas.core.frame.DataFrame'>\n",
      "RangeIndex: 2 entries, 0 to 1\n",
      "Data columns (total 4 columns):\n",
      " #   Column             Non-Null Count  Dtype \n",
      "---  ------             --------------  ----- \n",
      " 0   subscription_type  2 non-null      object\n",
      " 1   minute_price       2 non-null      int64 \n",
      " 2   start_ride_price   2 non-null      int64 \n",
      " 3   subscription_fee   2 non-null      int64 \n",
      "dtypes: int64(3), object(1)\n",
      "memory usage: 196.0+ bytes\n"
     ]
    }
   ],
   "source": [
    "subscriptions_go = open_csv('/datasets/subscriptions_go.csv', '/Users/sergey/Downloads/subscriptions_go.csv')"
   ]
  },
  {
   "cell_type": "markdown",
   "id": "c9261c46",
   "metadata": {},
   "source": [
    "Датафрейм содержит 2 строки и 4 столбца, в названиях столцов ошибок нет, пропуски отсутствуют, тип данных указан верно."
   ]
  },
  {
   "cell_type": "markdown",
   "id": "e95ebca7",
   "metadata": {},
   "source": [
    "#### Шаг 2. Предобработка данных"
   ]
  },
  {
   "cell_type": "markdown",
   "id": "3d9edda5",
   "metadata": {},
   "source": [
    "**Приведем столбец date в датафрейме riders_go к типу даты pandas**"
   ]
  },
  {
   "cell_type": "code",
   "execution_count": 6,
   "id": "130f1f20",
   "metadata": {},
   "outputs": [],
   "source": [
    "riders_go['date'] = pd.to_datetime(riders_go['date'], format='%Y-%m-%d')"
   ]
  },
  {
   "cell_type": "code",
   "execution_count": 7,
   "id": "8a803326",
   "metadata": {},
   "outputs": [
    {
     "data": {
      "text/plain": [
       "user_id              int64\n",
       "distance           float64\n",
       "duration           float64\n",
       "date        datetime64[ns]\n",
       "dtype: object"
      ]
     },
     "execution_count": 7,
     "metadata": {},
     "output_type": "execute_result"
    }
   ],
   "source": [
    "riders_go.dtypes  # проверим изенение типа данных"
   ]
  },
  {
   "cell_type": "markdown",
   "id": "1ca924ea",
   "metadata": {},
   "source": [
    "Все типы данных соответствуют."
   ]
  },
  {
   "cell_type": "markdown",
   "id": "d7fb5ea2",
   "metadata": {},
   "source": [
    "**Добавим новый стоблец month_publication в таблицу riders_go**"
   ]
  },
  {
   "cell_type": "code",
   "execution_count": 8,
   "id": "3d23eb2f",
   "metadata": {},
   "outputs": [],
   "source": [
    "riders_go['month'] = pd.DatetimeIndex(riders_go['date']).month # месяц публикации"
   ]
  },
  {
   "cell_type": "code",
   "execution_count": 9,
   "id": "002f45f8",
   "metadata": {
    "scrolled": true
   },
   "outputs": [
    {
     "data": {
      "text/html": [
       "<div>\n",
       "<style scoped>\n",
       "    .dataframe tbody tr th:only-of-type {\n",
       "        vertical-align: middle;\n",
       "    }\n",
       "\n",
       "    .dataframe tbody tr th {\n",
       "        vertical-align: top;\n",
       "    }\n",
       "\n",
       "    .dataframe thead th {\n",
       "        text-align: right;\n",
       "    }\n",
       "</style>\n",
       "<table border=\"1\" class=\"dataframe\">\n",
       "  <thead>\n",
       "    <tr style=\"text-align: right;\">\n",
       "      <th></th>\n",
       "      <th>user_id</th>\n",
       "      <th>distance</th>\n",
       "      <th>duration</th>\n",
       "      <th>date</th>\n",
       "      <th>month</th>\n",
       "    </tr>\n",
       "  </thead>\n",
       "  <tbody>\n",
       "    <tr>\n",
       "      <th>0</th>\n",
       "      <td>1</td>\n",
       "      <td>4409.919140</td>\n",
       "      <td>25.599769</td>\n",
       "      <td>2021-01-01</td>\n",
       "      <td>1</td>\n",
       "    </tr>\n",
       "    <tr>\n",
       "      <th>1</th>\n",
       "      <td>1</td>\n",
       "      <td>2617.592153</td>\n",
       "      <td>15.816871</td>\n",
       "      <td>2021-01-18</td>\n",
       "      <td>1</td>\n",
       "    </tr>\n",
       "    <tr>\n",
       "      <th>2</th>\n",
       "      <td>1</td>\n",
       "      <td>754.159807</td>\n",
       "      <td>6.232113</td>\n",
       "      <td>2021-04-20</td>\n",
       "      <td>4</td>\n",
       "    </tr>\n",
       "    <tr>\n",
       "      <th>3</th>\n",
       "      <td>1</td>\n",
       "      <td>2694.783254</td>\n",
       "      <td>18.511000</td>\n",
       "      <td>2021-08-11</td>\n",
       "      <td>8</td>\n",
       "    </tr>\n",
       "    <tr>\n",
       "      <th>4</th>\n",
       "      <td>1</td>\n",
       "      <td>4028.687306</td>\n",
       "      <td>26.265803</td>\n",
       "      <td>2021-08-28</td>\n",
       "      <td>8</td>\n",
       "    </tr>\n",
       "  </tbody>\n",
       "</table>\n",
       "</div>"
      ],
      "text/plain": [
       "   user_id     distance   duration       date  month\n",
       "0        1  4409.919140  25.599769 2021-01-01      1\n",
       "1        1  2617.592153  15.816871 2021-01-18      1\n",
       "2        1   754.159807   6.232113 2021-04-20      4\n",
       "3        1  2694.783254  18.511000 2021-08-11      8\n",
       "4        1  4028.687306  26.265803 2021-08-28      8"
      ]
     },
     "execution_count": 9,
     "metadata": {},
     "output_type": "execute_result"
    }
   ],
   "source": [
    "riders_go.head() # выведем новую таблицу"
   ]
  },
  {
   "cell_type": "markdown",
   "id": "75cee53e",
   "metadata": {},
   "source": [
    "**Проверим наличие пропусков во всех датасетах**"
   ]
  },
  {
   "cell_type": "code",
   "execution_count": 10,
   "id": "0a08409f",
   "metadata": {},
   "outputs": [
    {
     "data": {
      "text/plain": [
       "user_id              0\n",
       "name                 0\n",
       "age                  0\n",
       "city                 0\n",
       "subscription_type    0\n",
       "dtype: int64"
      ]
     },
     "execution_count": 10,
     "metadata": {},
     "output_type": "execute_result"
    }
   ],
   "source": [
    "users_go.isna().sum() # проверим пропущенные значения в датасете users_go"
   ]
  },
  {
   "cell_type": "code",
   "execution_count": 11,
   "id": "cc4b614f",
   "metadata": {},
   "outputs": [
    {
     "data": {
      "text/plain": [
       "user_id     0\n",
       "distance    0\n",
       "duration    0\n",
       "date        0\n",
       "month       0\n",
       "dtype: int64"
      ]
     },
     "execution_count": 11,
     "metadata": {},
     "output_type": "execute_result"
    }
   ],
   "source": [
    "riders_go.isna().sum() # проверим пропущенные значения в датасете risers_go"
   ]
  },
  {
   "cell_type": "code",
   "execution_count": 12,
   "id": "119c3091",
   "metadata": {
    "scrolled": true
   },
   "outputs": [
    {
     "data": {
      "text/plain": [
       "subscription_type    0\n",
       "minute_price         0\n",
       "start_ride_price     0\n",
       "subscription_fee     0\n",
       "dtype: int64"
      ]
     },
     "execution_count": 12,
     "metadata": {},
     "output_type": "execute_result"
    }
   ],
   "source": [
    "subscriptions_go.isna().sum() # проверим пропущенные значения в датасете subscriptions_go"
   ]
  },
  {
   "cell_type": "markdown",
   "id": "ce82d4c4",
   "metadata": {},
   "source": [
    "Пропуски отсутствуют во всех трех датасетах"
   ]
  },
  {
   "cell_type": "markdown",
   "id": "fd8163d0",
   "metadata": {},
   "source": [
    "**Выполним проверку на поиск явных дубликатов**"
   ]
  },
  {
   "cell_type": "code",
   "execution_count": 13,
   "id": "af6d202c",
   "metadata": {
    "scrolled": true
   },
   "outputs": [
    {
     "data": {
      "text/plain": [
       "31"
      ]
     },
     "execution_count": 13,
     "metadata": {},
     "output_type": "execute_result"
    }
   ],
   "source": [
    "users_go.duplicated().sum() # проверяем явные дубликаты"
   ]
  },
  {
   "cell_type": "markdown",
   "id": "12751e51",
   "metadata": {},
   "source": [
    "Обнаружили 31 явный дубликат."
   ]
  },
  {
   "cell_type": "code",
   "execution_count": 14,
   "id": "cb9bc1f0",
   "metadata": {},
   "outputs": [],
   "source": [
    "users_go = users_go.drop_duplicates()  # удаляем из датафрейма все дублирующиеся строки"
   ]
  },
  {
   "cell_type": "code",
   "execution_count": 15,
   "id": "aab7c68a",
   "metadata": {},
   "outputs": [
    {
     "data": {
      "text/plain": [
       "0"
      ]
     },
     "execution_count": 15,
     "metadata": {},
     "output_type": "execute_result"
    }
   ],
   "source": [
    "users_go.duplicated().sum() # проверяем явные дубликаты"
   ]
  },
  {
   "cell_type": "code",
   "execution_count": 16,
   "id": "caa1d965",
   "metadata": {},
   "outputs": [
    {
     "data": {
      "text/plain": [
       "0"
      ]
     },
     "execution_count": 16,
     "metadata": {},
     "output_type": "execute_result"
    }
   ],
   "source": [
    "riders_go.duplicated().sum() # проверяем явные дубликаты"
   ]
  },
  {
   "cell_type": "code",
   "execution_count": 17,
   "id": "a177dde9",
   "metadata": {},
   "outputs": [
    {
     "data": {
      "text/plain": [
       "0"
      ]
     },
     "execution_count": 17,
     "metadata": {},
     "output_type": "execute_result"
    }
   ],
   "source": [
    "subscriptions_go.duplicated().sum() # проверяем явные дубликаты"
   ]
  },
  {
   "cell_type": "markdown",
   "id": "a36beed6",
   "metadata": {},
   "source": [
    "Во всех датафреймах теперь отсутствуют явные дубликаты."
   ]
  },
  {
   "cell_type": "markdown",
   "id": "82362a2a",
   "metadata": {},
   "source": [
    "### Вывод:\n",
    "В результате проведения предобработки данных не было обнаружено пропусков в данных, все типы данных приведенны в нужный вид и удалили явные дубликаты."
   ]
  },
  {
   "cell_type": "markdown",
   "id": "212593c7",
   "metadata": {},
   "source": [
    "#### Шаг 3. Исследовательский анализ данных"
   ]
  },
  {
   "cell_type": "markdown",
   "id": "8af7250d",
   "metadata": {},
   "source": [
    "Частота встречаемости городов"
   ]
  },
  {
   "cell_type": "code",
   "execution_count": 18,
   "id": "35a5a892",
   "metadata": {},
   "outputs": [
    {
     "data": {
      "image/png": "[encoded data removed]",
      "text/plain": [
       "<Figure size 900x600 with 1 Axes>"
      ]
     },
     "metadata": {},
     "output_type": "display_data"
    }
   ],
   "source": [
    "plt.subplots(figsize=(9,6))\n",
    "users_go['city'].value_counts(ascending=False).plot.barh( title='Частота встречаемости городов');\n",
    "for i in range(len(users_go['city'].value_counts())):\n",
    "   plt.text(users_go['city'].value_counts()[i], i, users_go['city'].value_counts()[i])\n",
    "plt.show()"
   ]
  },
  {
   "cell_type": "markdown",
   "id": "bc627d8f",
   "metadata": {},
   "source": [
    "Чаще всего встречается город Пятигорск - 219 раз, а реже всего Москва - 168."
   ]
  },
  {
   "cell_type": "code",
   "execution_count": 19,
   "id": "32aeab9b",
   "metadata": {},
   "outputs": [
    {
     "data": {
      "image/png": "[encoded data removed]",
      "text/plain": [
       "<Figure size 640x480 with 1 Axes>"
      ]
     },
     "metadata": {},
     "output_type": "display_data"
    }
   ],
   "source": [
    "# построим круговую диаграмму, соотношения пользователей с подпиской и без нее\n",
    "(users_go['subscription_type'].value_counts()\n",
    " .plot(ylabel='' ,kind='pie', \n",
    "      title='Cоотношение пользователей с подпиской и без подписки', \n",
    "      labels=('с подпиской','без подписки'), autopct='%1.1f%%'));"
   ]
  },
  {
   "cell_type": "markdown",
   "id": "64f648dc",
   "metadata": {},
   "source": [
    "Количество пользователей с подпиской составляет: 54.43%, без подписки: 45.57%"
   ]
  },
  {
   "cell_type": "code",
   "execution_count": 20,
   "id": "59572940",
   "metadata": {},
   "outputs": [
    {
     "data": {
      "image/png": "[encoded data removed]",
      "text/plain": [
       "<Figure size 900x600 with 1 Axes>"
      ]
     },
     "metadata": {},
     "output_type": "display_data"
    }
   ],
   "source": [
    "# Строим гистограмму возраста пользователей\n",
    "users_go['age'].hist(bins=30, figsize=(9,6));\n",
    "plt.title('Гистограма возраста пользователей');\n",
    "plt.xlabel('Возраст');\n",
    "plt.ylabel('Количество пользователей');"
   ]
  },
  {
   "cell_type": "code",
   "execution_count": 21,
   "id": "99c96712",
   "metadata": {},
   "outputs": [
    {
     "data": {
      "image/png": "[encoded data removed]",
      "text/plain": [
       "<Figure size 640x480 with 1 Axes>"
      ]
     },
     "metadata": {},
     "output_type": "display_data"
    }
   ],
   "source": [
    "# Построим диаграмму размаха для данных возраста пользователей\n",
    "sns.set(style=\"whitegrid\")\n",
    "sns.boxplot(x =users_go['age'])\n",
    "plt.title('Возраст пользователей')\n",
    "plt.xlabel('Возраст');\n",
    "plt.show()"
   ]
  },
  {
   "cell_type": "code",
   "execution_count": 22,
   "id": "16e826f1",
   "metadata": {},
   "outputs": [
    {
     "data": {
      "text/plain": [
       "count    1534.000000\n",
       "mean       24.903520\n",
       "std         4.572367\n",
       "min        12.000000\n",
       "25%        22.000000\n",
       "50%        25.000000\n",
       "75%        28.000000\n",
       "max        43.000000\n",
       "Name: age, dtype: float64"
      ]
     },
     "execution_count": 22,
     "metadata": {},
     "output_type": "execute_result"
    }
   ],
   "source": [
    "users_go['age'].describe()"
   ]
  },
  {
   "cell_type": "markdown",
   "id": "4a6038fe",
   "metadata": {},
   "source": [
    "Пиковое значение приходится на 25 лет. Низкий спрос у пользователей до 20 лет и после 30. На диаграмме размаха видно, что самый молодой пользователь - 12, а самый взрослый - 43 лет. Минимальное и медианное значение практически совпадают. Это означает, что данные распределенны нормально.  Видно, что есть пользователи моложе 18 лет."
   ]
  },
  {
   "cell_type": "code",
   "execution_count": 23,
   "id": "34c3d1af",
   "metadata": {
    "scrolled": false
   },
   "outputs": [
    {
     "data": {
      "image/png": "[encoded data removed]",
      "text/plain": [
       "<Figure size 900x600 with 1 Axes>"
      ]
     },
     "metadata": {},
     "output_type": "display_data"
    }
   ],
   "source": [
    "# Строим гистограмму расстояний которое преодолевает пользователь за одну поездку\n",
    "riders_go['distance'].hist(bins=100, figsize=(9,6));\n",
    "plt.title('Гистограма расстояния которое преодолел пользователь');\n",
    "plt.xlabel('Расстояние (м)');\n",
    "plt.ylabel('Количество пользователей');"
   ]
  },
  {
   "cell_type": "code",
   "execution_count": 24,
   "id": "fa253baf",
   "metadata": {
    "scrolled": false
   },
   "outputs": [
    {
     "data": {
      "image/png": "[encoded data removed]",
      "text/plain": [
       "<Figure size 640x480 with 1 Axes>"
      ]
     },
     "metadata": {},
     "output_type": "display_data"
    }
   ],
   "source": [
    "# Строим диаграмму размаха для расстояния которое преодолел пользователь\n",
    "sns.set(style=\"whitegrid\")\n",
    "sns.boxplot(x =riders_go['distance'])\n",
    "plt.title('Расстояние которое преодолел пользователь')\n",
    "plt.xlabel('Расстояние');\n",
    "plt.show()"
   ]
  },
  {
   "cell_type": "code",
   "execution_count": 25,
   "id": "10443455",
   "metadata": {},
   "outputs": [
    {
     "data": {
      "text/plain": [
       "count    18068.000000\n",
       "mean      3070.659976\n",
       "std       1116.831209\n",
       "min          0.855683\n",
       "25%       2543.226360\n",
       "50%       3133.609994\n",
       "75%       3776.222735\n",
       "max       7211.007745\n",
       "Name: distance, dtype: float64"
      ]
     },
     "execution_count": 25,
     "metadata": {},
     "output_type": "execute_result"
    }
   ],
   "source": [
    "riders_go['distance'].describe()"
   ]
  },
  {
   "cell_type": "code",
   "execution_count": 26,
   "id": "d207c0ee",
   "metadata": {},
   "outputs": [
    {
     "data": {
      "text/html": [
       "<div>\n",
       "<style scoped>\n",
       "    .dataframe tbody tr th:only-of-type {\n",
       "        vertical-align: middle;\n",
       "    }\n",
       "\n",
       "    .dataframe tbody tr th {\n",
       "        vertical-align: top;\n",
       "    }\n",
       "\n",
       "    .dataframe thead th {\n",
       "        text-align: right;\n",
       "    }\n",
       "</style>\n",
       "<table border=\"1\" class=\"dataframe\">\n",
       "  <thead>\n",
       "    <tr style=\"text-align: right;\">\n",
       "      <th></th>\n",
       "      <th>user_id</th>\n",
       "      <th>distance</th>\n",
       "      <th>duration</th>\n",
       "      <th>date</th>\n",
       "      <th>month</th>\n",
       "    </tr>\n",
       "  </thead>\n",
       "  <tbody>\n",
       "    <tr>\n",
       "      <th>2</th>\n",
       "      <td>1</td>\n",
       "      <td>754.159807</td>\n",
       "      <td>6.232113</td>\n",
       "      <td>2021-04-20</td>\n",
       "      <td>4</td>\n",
       "    </tr>\n",
       "    <tr>\n",
       "      <th>9</th>\n",
       "      <td>1</td>\n",
       "      <td>748.690645</td>\n",
       "      <td>15.041884</td>\n",
       "      <td>2021-11-22</td>\n",
       "      <td>11</td>\n",
       "    </tr>\n",
       "    <tr>\n",
       "      <th>20</th>\n",
       "      <td>2</td>\n",
       "      <td>923.007439</td>\n",
       "      <td>6.914760</td>\n",
       "      <td>2021-08-03</td>\n",
       "      <td>8</td>\n",
       "    </tr>\n",
       "    <tr>\n",
       "      <th>47</th>\n",
       "      <td>4</td>\n",
       "      <td>724.559572</td>\n",
       "      <td>11.811399</td>\n",
       "      <td>2021-11-14</td>\n",
       "      <td>11</td>\n",
       "    </tr>\n",
       "    <tr>\n",
       "      <th>91</th>\n",
       "      <td>9</td>\n",
       "      <td>979.657684</td>\n",
       "      <td>17.521497</td>\n",
       "      <td>2021-03-08</td>\n",
       "      <td>3</td>\n",
       "    </tr>\n",
       "    <tr>\n",
       "      <th>100</th>\n",
       "      <td>10</td>\n",
       "      <td>680.952663</td>\n",
       "      <td>5.150377</td>\n",
       "      <td>2021-02-21</td>\n",
       "      <td>2</td>\n",
       "    </tr>\n",
       "    <tr>\n",
       "      <th>149</th>\n",
       "      <td>15</td>\n",
       "      <td>634.891669</td>\n",
       "      <td>15.809350</td>\n",
       "      <td>2021-04-05</td>\n",
       "      <td>4</td>\n",
       "    </tr>\n",
       "    <tr>\n",
       "      <th>153</th>\n",
       "      <td>15</td>\n",
       "      <td>671.851433</td>\n",
       "      <td>12.031109</td>\n",
       "      <td>2021-11-15</td>\n",
       "      <td>11</td>\n",
       "    </tr>\n",
       "    <tr>\n",
       "      <th>154</th>\n",
       "      <td>16</td>\n",
       "      <td>850.321732</td>\n",
       "      <td>13.125804</td>\n",
       "      <td>2021-02-18</td>\n",
       "      <td>2</td>\n",
       "    </tr>\n",
       "    <tr>\n",
       "      <th>172</th>\n",
       "      <td>18</td>\n",
       "      <td>850.211768</td>\n",
       "      <td>6.400847</td>\n",
       "      <td>2021-04-09</td>\n",
       "      <td>4</td>\n",
       "    </tr>\n",
       "    <tr>\n",
       "      <th>197</th>\n",
       "      <td>21</td>\n",
       "      <td>518.341543</td>\n",
       "      <td>10.151870</td>\n",
       "      <td>2021-02-03</td>\n",
       "      <td>2</td>\n",
       "    </tr>\n",
       "    <tr>\n",
       "      <th>204</th>\n",
       "      <td>21</td>\n",
       "      <td>517.912395</td>\n",
       "      <td>14.219625</td>\n",
       "      <td>2021-10-01</td>\n",
       "      <td>10</td>\n",
       "    </tr>\n",
       "    <tr>\n",
       "      <th>207</th>\n",
       "      <td>21</td>\n",
       "      <td>956.645212</td>\n",
       "      <td>15.495596</td>\n",
       "      <td>2021-12-13</td>\n",
       "      <td>12</td>\n",
       "    </tr>\n",
       "    <tr>\n",
       "      <th>228</th>\n",
       "      <td>24</td>\n",
       "      <td>409.829089</td>\n",
       "      <td>10.294197</td>\n",
       "      <td>2021-04-04</td>\n",
       "      <td>4</td>\n",
       "    </tr>\n",
       "    <tr>\n",
       "      <th>280</th>\n",
       "      <td>29</td>\n",
       "      <td>824.495470</td>\n",
       "      <td>4.832212</td>\n",
       "      <td>2021-11-21</td>\n",
       "      <td>11</td>\n",
       "    </tr>\n",
       "    <tr>\n",
       "      <th>306</th>\n",
       "      <td>32</td>\n",
       "      <td>965.468681</td>\n",
       "      <td>14.218229</td>\n",
       "      <td>2021-05-06</td>\n",
       "      <td>5</td>\n",
       "    </tr>\n",
       "    <tr>\n",
       "      <th>353</th>\n",
       "      <td>37</td>\n",
       "      <td>983.013462</td>\n",
       "      <td>14.106457</td>\n",
       "      <td>2021-09-04</td>\n",
       "      <td>9</td>\n",
       "    </tr>\n",
       "    <tr>\n",
       "      <th>377</th>\n",
       "      <td>40</td>\n",
       "      <td>889.187650</td>\n",
       "      <td>5.807961</td>\n",
       "      <td>2021-08-21</td>\n",
       "      <td>8</td>\n",
       "    </tr>\n",
       "    <tr>\n",
       "      <th>378</th>\n",
       "      <td>40</td>\n",
       "      <td>921.352684</td>\n",
       "      <td>9.126199</td>\n",
       "      <td>2021-09-01</td>\n",
       "      <td>9</td>\n",
       "    </tr>\n",
       "    <tr>\n",
       "      <th>397</th>\n",
       "      <td>42</td>\n",
       "      <td>614.716075</td>\n",
       "      <td>12.844148</td>\n",
       "      <td>2021-08-17</td>\n",
       "      <td>8</td>\n",
       "    </tr>\n",
       "    <tr>\n",
       "      <th>406</th>\n",
       "      <td>44</td>\n",
       "      <td>504.654111</td>\n",
       "      <td>4.513962</td>\n",
       "      <td>2021-01-25</td>\n",
       "      <td>1</td>\n",
       "    </tr>\n",
       "    <tr>\n",
       "      <th>414</th>\n",
       "      <td>45</td>\n",
       "      <td>779.129663</td>\n",
       "      <td>7.460409</td>\n",
       "      <td>2021-01-15</td>\n",
       "      <td>1</td>\n",
       "    </tr>\n",
       "    <tr>\n",
       "      <th>440</th>\n",
       "      <td>47</td>\n",
       "      <td>657.342234</td>\n",
       "      <td>6.817181</td>\n",
       "      <td>2021-12-22</td>\n",
       "      <td>12</td>\n",
       "    </tr>\n",
       "    <tr>\n",
       "      <th>448</th>\n",
       "      <td>49</td>\n",
       "      <td>992.550715</td>\n",
       "      <td>9.589263</td>\n",
       "      <td>2021-04-03</td>\n",
       "      <td>4</td>\n",
       "    </tr>\n",
       "    <tr>\n",
       "      <th>453</th>\n",
       "      <td>49</td>\n",
       "      <td>964.364872</td>\n",
       "      <td>15.515734</td>\n",
       "      <td>2021-09-27</td>\n",
       "      <td>9</td>\n",
       "    </tr>\n",
       "    <tr>\n",
       "      <th>463</th>\n",
       "      <td>50</td>\n",
       "      <td>307.532350</td>\n",
       "      <td>6.230129</td>\n",
       "      <td>2021-08-05</td>\n",
       "      <td>8</td>\n",
       "    </tr>\n",
       "    <tr>\n",
       "      <th>464</th>\n",
       "      <td>50</td>\n",
       "      <td>914.794261</td>\n",
       "      <td>9.111064</td>\n",
       "      <td>2021-10-15</td>\n",
       "      <td>10</td>\n",
       "    </tr>\n",
       "    <tr>\n",
       "      <th>492</th>\n",
       "      <td>54</td>\n",
       "      <td>720.937417</td>\n",
       "      <td>9.730250</td>\n",
       "      <td>2021-09-05</td>\n",
       "      <td>9</td>\n",
       "    </tr>\n",
       "    <tr>\n",
       "      <th>496</th>\n",
       "      <td>55</td>\n",
       "      <td>706.387811</td>\n",
       "      <td>10.119163</td>\n",
       "      <td>2021-04-27</td>\n",
       "      <td>4</td>\n",
       "    </tr>\n",
       "    <tr>\n",
       "      <th>525</th>\n",
       "      <td>58</td>\n",
       "      <td>886.860398</td>\n",
       "      <td>13.900415</td>\n",
       "      <td>2021-03-11</td>\n",
       "      <td>3</td>\n",
       "    </tr>\n",
       "  </tbody>\n",
       "</table>\n",
       "</div>"
      ],
      "text/plain": [
       "     user_id    distance   duration       date  month\n",
       "2          1  754.159807   6.232113 2021-04-20      4\n",
       "9          1  748.690645  15.041884 2021-11-22     11\n",
       "20         2  923.007439   6.914760 2021-08-03      8\n",
       "47         4  724.559572  11.811399 2021-11-14     11\n",
       "91         9  979.657684  17.521497 2021-03-08      3\n",
       "100       10  680.952663   5.150377 2021-02-21      2\n",
       "149       15  634.891669  15.809350 2021-04-05      4\n",
       "153       15  671.851433  12.031109 2021-11-15     11\n",
       "154       16  850.321732  13.125804 2021-02-18      2\n",
       "172       18  850.211768   6.400847 2021-04-09      4\n",
       "197       21  518.341543  10.151870 2021-02-03      2\n",
       "204       21  517.912395  14.219625 2021-10-01     10\n",
       "207       21  956.645212  15.495596 2021-12-13     12\n",
       "228       24  409.829089  10.294197 2021-04-04      4\n",
       "280       29  824.495470   4.832212 2021-11-21     11\n",
       "306       32  965.468681  14.218229 2021-05-06      5\n",
       "353       37  983.013462  14.106457 2021-09-04      9\n",
       "377       40  889.187650   5.807961 2021-08-21      8\n",
       "378       40  921.352684   9.126199 2021-09-01      9\n",
       "397       42  614.716075  12.844148 2021-08-17      8\n",
       "406       44  504.654111   4.513962 2021-01-25      1\n",
       "414       45  779.129663   7.460409 2021-01-15      1\n",
       "440       47  657.342234   6.817181 2021-12-22     12\n",
       "448       49  992.550715   9.589263 2021-04-03      4\n",
       "453       49  964.364872  15.515734 2021-09-27      9\n",
       "463       50  307.532350   6.230129 2021-08-05      8\n",
       "464       50  914.794261   9.111064 2021-10-15     10\n",
       "492       54  720.937417   9.730250 2021-09-05      9\n",
       "496       55  706.387811  10.119163 2021-04-27      4\n",
       "525       58  886.860398  13.900415 2021-03-11      3"
      ]
     },
     "execution_count": 26,
     "metadata": {},
     "output_type": "execute_result"
    }
   ],
   "source": [
    "riders_go.loc[riders_go['distance'] < 1000].head(30)  # Выведем данные у которых дальность поездки менее 1000 метров"
   ]
  },
  {
   "cell_type": "markdown",
   "id": "51d42c84",
   "metadata": {},
   "source": [
    "На гистограмме видно два распределениея - короткие и длинные поездки. Первый пик приходится на 500 метров. Глядя на поездки до 1000 метров, можно сказать, что большинство из них приходится не на летний созон. Значит есть вероятность, что короткие поездки связанны с погодными условиями. Так же есть вероятность, что у пользователся не получилось управлять самокатом, либо самокат технически не исправен. Второе пиковое значение на графике находится на расстоянии приемерно 3100 метров. Аномальные значения отсутствуют. Самая длительная поездка составляет 7211 метров."
   ]
  },
  {
   "cell_type": "code",
   "execution_count": 27,
   "id": "6dc912a3",
   "metadata": {},
   "outputs": [
    {
     "data": {
      "image/png": "[encoded data removed]",
      "text/plain": [
       "<Figure size 900x600 with 1 Axes>"
      ]
     },
     "metadata": {},
     "output_type": "display_data"
    }
   ],
   "source": [
    "riders_go['duration'].hist(bins=100, figsize=(9,6))\n",
    "plt.title('Гистограма продолжительности поездок');\n",
    "plt.xlabel('Время (мин)');\n",
    "plt.ylabel('Количество пользователей');"
   ]
  },
  {
   "cell_type": "code",
   "execution_count": 28,
   "id": "b0723064",
   "metadata": {
    "scrolled": false
   },
   "outputs": [
    {
     "data": {
      "image/png": "[encoded data removed]",
      "text/plain": [
       "<Figure size 640x480 with 1 Axes>"
      ]
     },
     "metadata": {},
     "output_type": "display_data"
    }
   ],
   "source": [
    "# Строим диаграмму размаха для продолжительности поездки пользоватея.\n",
    "sns.set(style=\"whitegrid\")\n",
    "sns.boxplot(x =riders_go['duration'])\n",
    "plt.title('Продолжительность поездки пользователя')\n",
    "plt.xlabel('Время(мин)');\n",
    "plt.show()"
   ]
  },
  {
   "cell_type": "code",
   "execution_count": 29,
   "id": "3ee850c9",
   "metadata": {},
   "outputs": [
    {
     "data": {
      "text/plain": [
       "count    18068.000000\n",
       "mean        17.805011\n",
       "std          6.091051\n",
       "min          0.500000\n",
       "25%         13.597563\n",
       "50%         17.678395\n",
       "75%         21.724800\n",
       "max         40.823963\n",
       "Name: duration, dtype: float64"
      ]
     },
     "execution_count": 29,
     "metadata": {},
     "output_type": "execute_result"
    }
   ],
   "source": [
    "riders_go['duration'].describe()"
   ]
  },
  {
   "cell_type": "code",
   "execution_count": 30,
   "id": "61675656",
   "metadata": {},
   "outputs": [
    {
     "data": {
      "text/html": [
       "<div>\n",
       "<style scoped>\n",
       "    .dataframe tbody tr th:only-of-type {\n",
       "        vertical-align: middle;\n",
       "    }\n",
       "\n",
       "    .dataframe tbody tr th {\n",
       "        vertical-align: top;\n",
       "    }\n",
       "\n",
       "    .dataframe thead th {\n",
       "        text-align: right;\n",
       "    }\n",
       "</style>\n",
       "<table border=\"1\" class=\"dataframe\">\n",
       "  <thead>\n",
       "    <tr style=\"text-align: right;\">\n",
       "      <th></th>\n",
       "      <th>user_id</th>\n",
       "      <th>distance</th>\n",
       "      <th>duration</th>\n",
       "      <th>date</th>\n",
       "      <th>month</th>\n",
       "    </tr>\n",
       "  </thead>\n",
       "  <tbody>\n",
       "    <tr>\n",
       "      <th>280</th>\n",
       "      <td>29</td>\n",
       "      <td>824.495470</td>\n",
       "      <td>4.832212</td>\n",
       "      <td>2021-11-21</td>\n",
       "      <td>11</td>\n",
       "    </tr>\n",
       "    <tr>\n",
       "      <th>406</th>\n",
       "      <td>44</td>\n",
       "      <td>504.654111</td>\n",
       "      <td>4.513962</td>\n",
       "      <td>2021-01-25</td>\n",
       "      <td>1</td>\n",
       "    </tr>\n",
       "    <tr>\n",
       "      <th>1450</th>\n",
       "      <td>157</td>\n",
       "      <td>935.054928</td>\n",
       "      <td>4.934596</td>\n",
       "      <td>2021-10-03</td>\n",
       "      <td>10</td>\n",
       "    </tr>\n",
       "    <tr>\n",
       "      <th>1843</th>\n",
       "      <td>199</td>\n",
       "      <td>606.203843</td>\n",
       "      <td>4.347120</td>\n",
       "      <td>2021-03-27</td>\n",
       "      <td>3</td>\n",
       "    </tr>\n",
       "    <tr>\n",
       "      <th>2125</th>\n",
       "      <td>227</td>\n",
       "      <td>618.389251</td>\n",
       "      <td>4.855168</td>\n",
       "      <td>2021-06-22</td>\n",
       "      <td>6</td>\n",
       "    </tr>\n",
       "    <tr>\n",
       "      <th>2174</th>\n",
       "      <td>232</td>\n",
       "      <td>573.376564</td>\n",
       "      <td>4.228664</td>\n",
       "      <td>2021-06-30</td>\n",
       "      <td>6</td>\n",
       "    </tr>\n",
       "    <tr>\n",
       "      <th>3158</th>\n",
       "      <td>340</td>\n",
       "      <td>419.074576</td>\n",
       "      <td>4.323393</td>\n",
       "      <td>2021-11-08</td>\n",
       "      <td>11</td>\n",
       "    </tr>\n",
       "    <tr>\n",
       "      <th>4148</th>\n",
       "      <td>448</td>\n",
       "      <td>529.588380</td>\n",
       "      <td>4.444332</td>\n",
       "      <td>2021-06-25</td>\n",
       "      <td>6</td>\n",
       "    </tr>\n",
       "    <tr>\n",
       "      <th>5782</th>\n",
       "      <td>616</td>\n",
       "      <td>381.179906</td>\n",
       "      <td>4.633628</td>\n",
       "      <td>2021-07-02</td>\n",
       "      <td>7</td>\n",
       "    </tr>\n",
       "    <tr>\n",
       "      <th>5952</th>\n",
       "      <td>635</td>\n",
       "      <td>266.123499</td>\n",
       "      <td>3.760353</td>\n",
       "      <td>2021-12-23</td>\n",
       "      <td>12</td>\n",
       "    </tr>\n",
       "    <tr>\n",
       "      <th>6511</th>\n",
       "      <td>700</td>\n",
       "      <td>288.974241</td>\n",
       "      <td>4.788112</td>\n",
       "      <td>2021-07-18</td>\n",
       "      <td>7</td>\n",
       "    </tr>\n",
       "    <tr>\n",
       "      <th>6531</th>\n",
       "      <td>701</td>\n",
       "      <td>4196.445201</td>\n",
       "      <td>0.500000</td>\n",
       "      <td>2021-08-31</td>\n",
       "      <td>8</td>\n",
       "    </tr>\n",
       "    <tr>\n",
       "      <th>6563</th>\n",
       "      <td>704</td>\n",
       "      <td>474.400151</td>\n",
       "      <td>4.016572</td>\n",
       "      <td>2021-06-27</td>\n",
       "      <td>6</td>\n",
       "    </tr>\n",
       "    <tr>\n",
       "      <th>6570</th>\n",
       "      <td>704</td>\n",
       "      <td>4830.824371</td>\n",
       "      <td>0.500000</td>\n",
       "      <td>2021-10-14</td>\n",
       "      <td>10</td>\n",
       "    </tr>\n",
       "    <tr>\n",
       "      <th>6680</th>\n",
       "      <td>712</td>\n",
       "      <td>4684.004397</td>\n",
       "      <td>0.500000</td>\n",
       "      <td>2021-03-04</td>\n",
       "      <td>3</td>\n",
       "    </tr>\n",
       "    <tr>\n",
       "      <th>6691</th>\n",
       "      <td>712</td>\n",
       "      <td>23.963062</td>\n",
       "      <td>2.053251</td>\n",
       "      <td>2021-11-22</td>\n",
       "      <td>11</td>\n",
       "    </tr>\n",
       "    <tr>\n",
       "      <th>6695</th>\n",
       "      <td>713</td>\n",
       "      <td>5215.642710</td>\n",
       "      <td>0.500000</td>\n",
       "      <td>2021-02-25</td>\n",
       "      <td>2</td>\n",
       "    </tr>\n",
       "    <tr>\n",
       "      <th>6768</th>\n",
       "      <td>718</td>\n",
       "      <td>5197.436649</td>\n",
       "      <td>0.500000</td>\n",
       "      <td>2021-02-11</td>\n",
       "      <td>2</td>\n",
       "    </tr>\n",
       "    <tr>\n",
       "      <th>6801</th>\n",
       "      <td>720</td>\n",
       "      <td>102.323624</td>\n",
       "      <td>2.292353</td>\n",
       "      <td>2021-09-20</td>\n",
       "      <td>9</td>\n",
       "    </tr>\n",
       "    <tr>\n",
       "      <th>6850</th>\n",
       "      <td>724</td>\n",
       "      <td>30.473763</td>\n",
       "      <td>3.166221</td>\n",
       "      <td>2021-05-09</td>\n",
       "      <td>5</td>\n",
       "    </tr>\n",
       "    <tr>\n",
       "      <th>6860</th>\n",
       "      <td>724</td>\n",
       "      <td>6225.520342</td>\n",
       "      <td>0.500000</td>\n",
       "      <td>2021-12-16</td>\n",
       "      <td>12</td>\n",
       "    </tr>\n",
       "    <tr>\n",
       "      <th>6883</th>\n",
       "      <td>726</td>\n",
       "      <td>4452.491518</td>\n",
       "      <td>0.500000</td>\n",
       "      <td>2021-03-01</td>\n",
       "      <td>3</td>\n",
       "    </tr>\n",
       "    <tr>\n",
       "      <th>6910</th>\n",
       "      <td>727</td>\n",
       "      <td>624.410429</td>\n",
       "      <td>4.881894</td>\n",
       "      <td>2021-10-15</td>\n",
       "      <td>10</td>\n",
       "    </tr>\n",
       "    <tr>\n",
       "      <th>6967</th>\n",
       "      <td>731</td>\n",
       "      <td>739.829049</td>\n",
       "      <td>3.707298</td>\n",
       "      <td>2021-12-26</td>\n",
       "      <td>12</td>\n",
       "    </tr>\n",
       "    <tr>\n",
       "      <th>7018</th>\n",
       "      <td>735</td>\n",
       "      <td>4406.954812</td>\n",
       "      <td>0.500000</td>\n",
       "      <td>2021-04-13</td>\n",
       "      <td>4</td>\n",
       "    </tr>\n",
       "    <tr>\n",
       "      <th>7160</th>\n",
       "      <td>745</td>\n",
       "      <td>5286.167732</td>\n",
       "      <td>0.500000</td>\n",
       "      <td>2021-08-17</td>\n",
       "      <td>8</td>\n",
       "    </tr>\n",
       "    <tr>\n",
       "      <th>7315</th>\n",
       "      <td>757</td>\n",
       "      <td>429.503832</td>\n",
       "      <td>3.991163</td>\n",
       "      <td>2021-10-06</td>\n",
       "      <td>10</td>\n",
       "    </tr>\n",
       "    <tr>\n",
       "      <th>7353</th>\n",
       "      <td>760</td>\n",
       "      <td>568.970941</td>\n",
       "      <td>3.137942</td>\n",
       "      <td>2021-04-11</td>\n",
       "      <td>4</td>\n",
       "    </tr>\n",
       "    <tr>\n",
       "      <th>7364</th>\n",
       "      <td>760</td>\n",
       "      <td>4881.391865</td>\n",
       "      <td>0.500000</td>\n",
       "      <td>2021-08-29</td>\n",
       "      <td>8</td>\n",
       "    </tr>\n",
       "    <tr>\n",
       "      <th>7402</th>\n",
       "      <td>763</td>\n",
       "      <td>252.734122</td>\n",
       "      <td>3.722097</td>\n",
       "      <td>2021-09-27</td>\n",
       "      <td>9</td>\n",
       "    </tr>\n",
       "  </tbody>\n",
       "</table>\n",
       "</div>"
      ],
      "text/plain": [
       "      user_id     distance  duration       date  month\n",
       "280        29   824.495470  4.832212 2021-11-21     11\n",
       "406        44   504.654111  4.513962 2021-01-25      1\n",
       "1450      157   935.054928  4.934596 2021-10-03     10\n",
       "1843      199   606.203843  4.347120 2021-03-27      3\n",
       "2125      227   618.389251  4.855168 2021-06-22      6\n",
       "2174      232   573.376564  4.228664 2021-06-30      6\n",
       "3158      340   419.074576  4.323393 2021-11-08     11\n",
       "4148      448   529.588380  4.444332 2021-06-25      6\n",
       "5782      616   381.179906  4.633628 2021-07-02      7\n",
       "5952      635   266.123499  3.760353 2021-12-23     12\n",
       "6511      700   288.974241  4.788112 2021-07-18      7\n",
       "6531      701  4196.445201  0.500000 2021-08-31      8\n",
       "6563      704   474.400151  4.016572 2021-06-27      6\n",
       "6570      704  4830.824371  0.500000 2021-10-14     10\n",
       "6680      712  4684.004397  0.500000 2021-03-04      3\n",
       "6691      712    23.963062  2.053251 2021-11-22     11\n",
       "6695      713  5215.642710  0.500000 2021-02-25      2\n",
       "6768      718  5197.436649  0.500000 2021-02-11      2\n",
       "6801      720   102.323624  2.292353 2021-09-20      9\n",
       "6850      724    30.473763  3.166221 2021-05-09      5\n",
       "6860      724  6225.520342  0.500000 2021-12-16     12\n",
       "6883      726  4452.491518  0.500000 2021-03-01      3\n",
       "6910      727   624.410429  4.881894 2021-10-15     10\n",
       "6967      731   739.829049  3.707298 2021-12-26     12\n",
       "7018      735  4406.954812  0.500000 2021-04-13      4\n",
       "7160      745  5286.167732  0.500000 2021-08-17      8\n",
       "7315      757   429.503832  3.991163 2021-10-06     10\n",
       "7353      760   568.970941  3.137942 2021-04-11      4\n",
       "7364      760  4881.391865  0.500000 2021-08-29      8\n",
       "7402      763   252.734122  3.722097 2021-09-27      9"
      ]
     },
     "execution_count": 30,
     "metadata": {},
     "output_type": "execute_result"
    }
   ],
   "source": [
    "riders_go[riders_go['duration'] < 5].head(30)  # Выведем данные время поездки у которых менее 5 минут"
   ]
  },
  {
   "cell_type": "markdown",
   "id": "e9ce8fff",
   "metadata": {},
   "source": [
    "Исходя из графика, видно, что большинство поездок длятся 17 минут. Также виден пик слишком малых значений, 1-2 минуту. Глядя на поездки длинной менее 5 минут, наше предположение сходится, что эти поездки приходятся на зимний, весенний и осенний период. В такое время года может быть не комфортно передвигаться на самокате, либо могут возникнуть трудности при управлении транспортным средством."
   ]
  },
  {
   "cell_type": "markdown",
   "id": "b2cc40ba",
   "metadata": {},
   "source": [
    "### Вывод:\n",
    "В ходе проведения исследовательского анализа данных, мы получили, что:\n",
    "- Наибольшее количество поездок было совершено в городах Пятигорск и Екатеринбург, в то время как наименьшее количество поездок было зарегистрировано в Тюмени и Москве.\n",
    "- Количество пользователей с подпиской превышает количество пользователей без подписки на 8%, что может свидетельствовать о привлекательности условий подписки для пользователей.\n",
    "- Возраст большинства пользователей 25 лет, до 18 лет намного меньше пользователей, а после 35 сводится к нулю.\n",
    "- Чаще всего пользователи преодолевают расстояние в 3100 метров за одну поезду. Расстояние свыше 6000 метров преодолевают редко, что может быть связано с ограничениями по дальности хода самокатов. Наличие малых значений может указывать на возможные трудности пользователей с управлением самокатами.\n",
    "- Продолжительность поездок  длится 15-20 минут, это сходится с нашим выводом о поездках в 3100 метров. Так же видны очень короткие поездки, которые так же могут говорить, об трудностях пользователей с управлением самоката."
   ]
  },
  {
   "cell_type": "markdown",
   "id": "4ef51331",
   "metadata": {},
   "source": [
    "#### Шаг 4. Объединение данных"
   ]
  },
  {
   "cell_type": "code",
   "execution_count": 31,
   "id": "6bf288b5",
   "metadata": {},
   "outputs": [
    {
     "data": {
      "text/html": [
       "<div>\n",
       "<style scoped>\n",
       "    .dataframe tbody tr th:only-of-type {\n",
       "        vertical-align: middle;\n",
       "    }\n",
       "\n",
       "    .dataframe tbody tr th {\n",
       "        vertical-align: top;\n",
       "    }\n",
       "\n",
       "    .dataframe thead th {\n",
       "        text-align: right;\n",
       "    }\n",
       "</style>\n",
       "<table border=\"1\" class=\"dataframe\">\n",
       "  <thead>\n",
       "    <tr style=\"text-align: right;\">\n",
       "      <th></th>\n",
       "      <th>user_id</th>\n",
       "      <th>name</th>\n",
       "      <th>age</th>\n",
       "      <th>city</th>\n",
       "      <th>subscription_type</th>\n",
       "      <th>distance</th>\n",
       "      <th>duration</th>\n",
       "      <th>date</th>\n",
       "      <th>month</th>\n",
       "      <th>minute_price</th>\n",
       "      <th>start_ride_price</th>\n",
       "      <th>subscription_fee</th>\n",
       "    </tr>\n",
       "  </thead>\n",
       "  <tbody>\n",
       "    <tr>\n",
       "      <th>0</th>\n",
       "      <td>1</td>\n",
       "      <td>Кира</td>\n",
       "      <td>22</td>\n",
       "      <td>Тюмень</td>\n",
       "      <td>ultra</td>\n",
       "      <td>4409.919140</td>\n",
       "      <td>25.599769</td>\n",
       "      <td>2021-01-01</td>\n",
       "      <td>1</td>\n",
       "      <td>6</td>\n",
       "      <td>0</td>\n",
       "      <td>199</td>\n",
       "    </tr>\n",
       "    <tr>\n",
       "      <th>1</th>\n",
       "      <td>1</td>\n",
       "      <td>Кира</td>\n",
       "      <td>22</td>\n",
       "      <td>Тюмень</td>\n",
       "      <td>ultra</td>\n",
       "      <td>2617.592153</td>\n",
       "      <td>15.816871</td>\n",
       "      <td>2021-01-18</td>\n",
       "      <td>1</td>\n",
       "      <td>6</td>\n",
       "      <td>0</td>\n",
       "      <td>199</td>\n",
       "    </tr>\n",
       "    <tr>\n",
       "      <th>2</th>\n",
       "      <td>1</td>\n",
       "      <td>Кира</td>\n",
       "      <td>22</td>\n",
       "      <td>Тюмень</td>\n",
       "      <td>ultra</td>\n",
       "      <td>754.159807</td>\n",
       "      <td>6.232113</td>\n",
       "      <td>2021-04-20</td>\n",
       "      <td>4</td>\n",
       "      <td>6</td>\n",
       "      <td>0</td>\n",
       "      <td>199</td>\n",
       "    </tr>\n",
       "    <tr>\n",
       "      <th>3</th>\n",
       "      <td>1</td>\n",
       "      <td>Кира</td>\n",
       "      <td>22</td>\n",
       "      <td>Тюмень</td>\n",
       "      <td>ultra</td>\n",
       "      <td>2694.783254</td>\n",
       "      <td>18.511000</td>\n",
       "      <td>2021-08-11</td>\n",
       "      <td>8</td>\n",
       "      <td>6</td>\n",
       "      <td>0</td>\n",
       "      <td>199</td>\n",
       "    </tr>\n",
       "    <tr>\n",
       "      <th>4</th>\n",
       "      <td>1</td>\n",
       "      <td>Кира</td>\n",
       "      <td>22</td>\n",
       "      <td>Тюмень</td>\n",
       "      <td>ultra</td>\n",
       "      <td>4028.687306</td>\n",
       "      <td>26.265803</td>\n",
       "      <td>2021-08-28</td>\n",
       "      <td>8</td>\n",
       "      <td>6</td>\n",
       "      <td>0</td>\n",
       "      <td>199</td>\n",
       "    </tr>\n",
       "  </tbody>\n",
       "</table>\n",
       "</div>"
      ],
      "text/plain": [
       "   user_id  name  age    city subscription_type     distance   duration  \\\n",
       "0        1  Кира   22  Тюмень             ultra  4409.919140  25.599769   \n",
       "1        1  Кира   22  Тюмень             ultra  2617.592153  15.816871   \n",
       "2        1  Кира   22  Тюмень             ultra   754.159807   6.232113   \n",
       "3        1  Кира   22  Тюмень             ultra  2694.783254  18.511000   \n",
       "4        1  Кира   22  Тюмень             ultra  4028.687306  26.265803   \n",
       "\n",
       "        date  month  minute_price  start_ride_price  subscription_fee  \n",
       "0 2021-01-01      1             6                 0               199  \n",
       "1 2021-01-18      1             6                 0               199  \n",
       "2 2021-04-20      4             6                 0               199  \n",
       "3 2021-08-11      8             6                 0               199  \n",
       "4 2021-08-28      8             6                 0               199  "
      ]
     },
     "execution_count": 31,
     "metadata": {},
     "output_type": "execute_result"
    }
   ],
   "source": [
    "# Объединим таблицу users_go и riders_go, по столбцу user_id \n",
    "data_user = users_go.merge(riders_go, on='user_id')\n",
    "#  Объединим таблицу data_user и subscriptions_go, по столбцу subscription_type\n",
    "data = data_user.merge(subscriptions_go, on='subscription_type')\n",
    "data.head()"
   ]
  },
  {
   "cell_type": "code",
   "execution_count": 32,
   "id": "eb35515d",
   "metadata": {
    "scrolled": true
   },
   "outputs": [
    {
     "name": "stdout",
     "output_type": "stream",
     "text": [
      "<class 'pandas.core.frame.DataFrame'>\n",
      "Int64Index: 18068 entries, 0 to 18067\n",
      "Data columns (total 12 columns):\n",
      " #   Column             Non-Null Count  Dtype         \n",
      "---  ------             --------------  -----         \n",
      " 0   user_id            18068 non-null  int64         \n",
      " 1   name               18068 non-null  object        \n",
      " 2   age                18068 non-null  int64         \n",
      " 3   city               18068 non-null  object        \n",
      " 4   subscription_type  18068 non-null  object        \n",
      " 5   distance           18068 non-null  float64       \n",
      " 6   duration           18068 non-null  float64       \n",
      " 7   date               18068 non-null  datetime64[ns]\n",
      " 8   month              18068 non-null  int64         \n",
      " 9   minute_price       18068 non-null  int64         \n",
      " 10  start_ride_price   18068 non-null  int64         \n",
      " 11  subscription_fee   18068 non-null  int64         \n",
      "dtypes: datetime64[ns](1), float64(2), int64(6), object(3)\n",
      "memory usage: 1.8+ MB\n"
     ]
    }
   ],
   "source": [
    "data.info()"
   ]
  },
  {
   "cell_type": "code",
   "execution_count": 33,
   "id": "48339c54",
   "metadata": {},
   "outputs": [
    {
     "data": {
      "text/plain": [
       "0"
      ]
     },
     "execution_count": 33,
     "metadata": {},
     "output_type": "execute_result"
    }
   ],
   "source": [
    "data.duplicated().sum()"
   ]
  },
  {
   "cell_type": "markdown",
   "id": "1a42acbf",
   "metadata": {},
   "source": [
    "После объединения трех таблиц методом merge. Получили новый датафрейм data. Он содержит 18068 строк, что сходится с количеством строк в таблице riders_go. Пропусков нет, дубликаты отсутствуют."
   ]
  },
  {
   "cell_type": "code",
   "execution_count": 34,
   "id": "afe725cb",
   "metadata": {},
   "outputs": [
    {
     "data": {
      "text/html": [
       "<div>\n",
       "<style scoped>\n",
       "    .dataframe tbody tr th:only-of-type {\n",
       "        vertical-align: middle;\n",
       "    }\n",
       "\n",
       "    .dataframe tbody tr th {\n",
       "        vertical-align: top;\n",
       "    }\n",
       "\n",
       "    .dataframe thead th {\n",
       "        text-align: right;\n",
       "    }\n",
       "</style>\n",
       "<table border=\"1\" class=\"dataframe\">\n",
       "  <thead>\n",
       "    <tr style=\"text-align: right;\">\n",
       "      <th></th>\n",
       "      <th>user_id</th>\n",
       "      <th>name</th>\n",
       "      <th>age</th>\n",
       "      <th>city</th>\n",
       "      <th>subscription_type</th>\n",
       "      <th>distance</th>\n",
       "      <th>duration</th>\n",
       "      <th>date</th>\n",
       "      <th>month</th>\n",
       "      <th>minute_price</th>\n",
       "      <th>start_ride_price</th>\n",
       "      <th>subscription_fee</th>\n",
       "    </tr>\n",
       "  </thead>\n",
       "  <tbody>\n",
       "    <tr>\n",
       "      <th>0</th>\n",
       "      <td>1</td>\n",
       "      <td>Кира</td>\n",
       "      <td>22</td>\n",
       "      <td>Тюмень</td>\n",
       "      <td>ultra</td>\n",
       "      <td>4409.919140</td>\n",
       "      <td>25.599769</td>\n",
       "      <td>2021-01-01</td>\n",
       "      <td>1</td>\n",
       "      <td>6</td>\n",
       "      <td>0</td>\n",
       "      <td>199</td>\n",
       "    </tr>\n",
       "    <tr>\n",
       "      <th>1</th>\n",
       "      <td>1</td>\n",
       "      <td>Кира</td>\n",
       "      <td>22</td>\n",
       "      <td>Тюмень</td>\n",
       "      <td>ultra</td>\n",
       "      <td>2617.592153</td>\n",
       "      <td>15.816871</td>\n",
       "      <td>2021-01-18</td>\n",
       "      <td>1</td>\n",
       "      <td>6</td>\n",
       "      <td>0</td>\n",
       "      <td>199</td>\n",
       "    </tr>\n",
       "    <tr>\n",
       "      <th>2</th>\n",
       "      <td>1</td>\n",
       "      <td>Кира</td>\n",
       "      <td>22</td>\n",
       "      <td>Тюмень</td>\n",
       "      <td>ultra</td>\n",
       "      <td>754.159807</td>\n",
       "      <td>6.232113</td>\n",
       "      <td>2021-04-20</td>\n",
       "      <td>4</td>\n",
       "      <td>6</td>\n",
       "      <td>0</td>\n",
       "      <td>199</td>\n",
       "    </tr>\n",
       "    <tr>\n",
       "      <th>3</th>\n",
       "      <td>1</td>\n",
       "      <td>Кира</td>\n",
       "      <td>22</td>\n",
       "      <td>Тюмень</td>\n",
       "      <td>ultra</td>\n",
       "      <td>2694.783254</td>\n",
       "      <td>18.511000</td>\n",
       "      <td>2021-08-11</td>\n",
       "      <td>8</td>\n",
       "      <td>6</td>\n",
       "      <td>0</td>\n",
       "      <td>199</td>\n",
       "    </tr>\n",
       "    <tr>\n",
       "      <th>4</th>\n",
       "      <td>1</td>\n",
       "      <td>Кира</td>\n",
       "      <td>22</td>\n",
       "      <td>Тюмень</td>\n",
       "      <td>ultra</td>\n",
       "      <td>4028.687306</td>\n",
       "      <td>26.265803</td>\n",
       "      <td>2021-08-28</td>\n",
       "      <td>8</td>\n",
       "      <td>6</td>\n",
       "      <td>0</td>\n",
       "      <td>199</td>\n",
       "    </tr>\n",
       "  </tbody>\n",
       "</table>\n",
       "</div>"
      ],
      "text/plain": [
       "   user_id  name  age    city subscription_type     distance   duration  \\\n",
       "0        1  Кира   22  Тюмень             ultra  4409.919140  25.599769   \n",
       "1        1  Кира   22  Тюмень             ultra  2617.592153  15.816871   \n",
       "2        1  Кира   22  Тюмень             ultra   754.159807   6.232113   \n",
       "3        1  Кира   22  Тюмень             ultra  2694.783254  18.511000   \n",
       "4        1  Кира   22  Тюмень             ultra  4028.687306  26.265803   \n",
       "\n",
       "        date  month  minute_price  start_ride_price  subscription_fee  \n",
       "0 2021-01-01      1             6                 0               199  \n",
       "1 2021-01-18      1             6                 0               199  \n",
       "2 2021-04-20      4             6                 0               199  \n",
       "3 2021-08-11      8             6                 0               199  \n",
       "4 2021-08-28      8             6                 0               199  "
      ]
     },
     "execution_count": 34,
     "metadata": {},
     "output_type": "execute_result"
    }
   ],
   "source": [
    "# Создадим новую таблицу где находятся пользователи с подпиской\n",
    "subscription_ultra = data.query(\"subscription_type == 'ultra'\")\n",
    "subscription_ultra.head()"
   ]
  },
  {
   "cell_type": "code",
   "execution_count": 35,
   "id": "401a52f7",
   "metadata": {
    "scrolled": true
   },
   "outputs": [
    {
     "data": {
      "text/html": [
       "<div>\n",
       "<style scoped>\n",
       "    .dataframe tbody tr th:only-of-type {\n",
       "        vertical-align: middle;\n",
       "    }\n",
       "\n",
       "    .dataframe tbody tr th {\n",
       "        vertical-align: top;\n",
       "    }\n",
       "\n",
       "    .dataframe thead th {\n",
       "        text-align: right;\n",
       "    }\n",
       "</style>\n",
       "<table border=\"1\" class=\"dataframe\">\n",
       "  <thead>\n",
       "    <tr style=\"text-align: right;\">\n",
       "      <th></th>\n",
       "      <th>user_id</th>\n",
       "      <th>name</th>\n",
       "      <th>age</th>\n",
       "      <th>city</th>\n",
       "      <th>subscription_type</th>\n",
       "      <th>distance</th>\n",
       "      <th>duration</th>\n",
       "      <th>date</th>\n",
       "      <th>month</th>\n",
       "      <th>minute_price</th>\n",
       "      <th>start_ride_price</th>\n",
       "      <th>subscription_fee</th>\n",
       "    </tr>\n",
       "  </thead>\n",
       "  <tbody>\n",
       "    <tr>\n",
       "      <th>6500</th>\n",
       "      <td>700</td>\n",
       "      <td>Айдар</td>\n",
       "      <td>22</td>\n",
       "      <td>Омск</td>\n",
       "      <td>free</td>\n",
       "      <td>2515.690719</td>\n",
       "      <td>14.944286</td>\n",
       "      <td>2021-01-02</td>\n",
       "      <td>1</td>\n",
       "      <td>8</td>\n",
       "      <td>50</td>\n",
       "      <td>0</td>\n",
       "    </tr>\n",
       "    <tr>\n",
       "      <th>6501</th>\n",
       "      <td>700</td>\n",
       "      <td>Айдар</td>\n",
       "      <td>22</td>\n",
       "      <td>Омск</td>\n",
       "      <td>free</td>\n",
       "      <td>846.932642</td>\n",
       "      <td>16.234663</td>\n",
       "      <td>2021-02-01</td>\n",
       "      <td>2</td>\n",
       "      <td>8</td>\n",
       "      <td>50</td>\n",
       "      <td>0</td>\n",
       "    </tr>\n",
       "    <tr>\n",
       "      <th>6502</th>\n",
       "      <td>700</td>\n",
       "      <td>Айдар</td>\n",
       "      <td>22</td>\n",
       "      <td>Омск</td>\n",
       "      <td>free</td>\n",
       "      <td>4004.434142</td>\n",
       "      <td>20.016628</td>\n",
       "      <td>2021-02-04</td>\n",
       "      <td>2</td>\n",
       "      <td>8</td>\n",
       "      <td>50</td>\n",
       "      <td>0</td>\n",
       "    </tr>\n",
       "    <tr>\n",
       "      <th>6503</th>\n",
       "      <td>700</td>\n",
       "      <td>Айдар</td>\n",
       "      <td>22</td>\n",
       "      <td>Омск</td>\n",
       "      <td>free</td>\n",
       "      <td>1205.911290</td>\n",
       "      <td>9.782872</td>\n",
       "      <td>2021-02-10</td>\n",
       "      <td>2</td>\n",
       "      <td>8</td>\n",
       "      <td>50</td>\n",
       "      <td>0</td>\n",
       "    </tr>\n",
       "    <tr>\n",
       "      <th>6504</th>\n",
       "      <td>700</td>\n",
       "      <td>Айдар</td>\n",
       "      <td>22</td>\n",
       "      <td>Омск</td>\n",
       "      <td>free</td>\n",
       "      <td>3047.379435</td>\n",
       "      <td>17.427673</td>\n",
       "      <td>2021-02-14</td>\n",
       "      <td>2</td>\n",
       "      <td>8</td>\n",
       "      <td>50</td>\n",
       "      <td>0</td>\n",
       "    </tr>\n",
       "  </tbody>\n",
       "</table>\n",
       "</div>"
      ],
      "text/plain": [
       "      user_id   name  age  city subscription_type     distance   duration  \\\n",
       "6500      700  Айдар   22  Омск              free  2515.690719  14.944286   \n",
       "6501      700  Айдар   22  Омск              free   846.932642  16.234663   \n",
       "6502      700  Айдар   22  Омск              free  4004.434142  20.016628   \n",
       "6503      700  Айдар   22  Омск              free  1205.911290   9.782872   \n",
       "6504      700  Айдар   22  Омск              free  3047.379435  17.427673   \n",
       "\n",
       "           date  month  minute_price  start_ride_price  subscription_fee  \n",
       "6500 2021-01-02      1             8                50                 0  \n",
       "6501 2021-02-01      2             8                50                 0  \n",
       "6502 2021-02-04      2             8                50                 0  \n",
       "6503 2021-02-10      2             8                50                 0  \n",
       "6504 2021-02-14      2             8                50                 0  "
      ]
     },
     "execution_count": 35,
     "metadata": {},
     "output_type": "execute_result"
    }
   ],
   "source": [
    "# Создадим новую таблицу где находятся пользователи без подписки\n",
    "subscription_free = data.query(\"subscription_type == 'free'\")\n",
    "subscription_free.head()"
   ]
  },
  {
   "cell_type": "code",
   "execution_count": 36,
   "id": "2efd29e1",
   "metadata": {},
   "outputs": [
    {
     "data": {
      "text/plain": [
       "6500"
      ]
     },
     "execution_count": 36,
     "metadata": {},
     "output_type": "execute_result"
    }
   ],
   "source": [
    "subscription_ultra.shape[0]  # количество поездкок пользователей с подпиской"
   ]
  },
  {
   "cell_type": "code",
   "execution_count": 37,
   "id": "4e43b4df",
   "metadata": {},
   "outputs": [
    {
     "data": {
      "text/plain": [
       "11568"
      ]
     },
     "execution_count": 37,
     "metadata": {},
     "output_type": "execute_result"
    }
   ],
   "source": [
    "subscription_free.shape[0]   # количество поездок пользователей без подписки"
   ]
  },
  {
   "cell_type": "code",
   "execution_count": 38,
   "id": "12af9a3c",
   "metadata": {},
   "outputs": [
    {
     "name": "stdout",
     "output_type": "stream",
     "text": [
      "Разделение прошло успешно\n"
     ]
    }
   ],
   "source": [
    "if len(data) == (len(subscription_free) + len(subscription_ultra)):\n",
    "    print('Разделение прошло успешно')\n",
    "else:\n",
    "    print('Ошибка')"
   ]
  },
  {
   "cell_type": "code",
   "execution_count": 39,
   "id": "14fb03ba",
   "metadata": {
    "scrolled": false
   },
   "outputs": [
    {
     "data": {
      "image/png": "[encoded data removed]",
      "text/plain": [
       "<Figure size 900x600 with 1 Axes>"
      ]
     },
     "metadata": {},
     "output_type": "display_data"
    }
   ],
   "source": [
    "# Визуализирую информацию о расстоянии для пользователей обеих категорий.\n",
    "plt.figure(figsize=(9, 6))\n",
    "plt.hist([subscription_ultra['distance'], subscription_free['distance']], \n",
    "         bins=30, label=['Пользователи с подпиской', 'Пользователи без подписки'])\n",
    "plt.xlabel('Расстояние (м)')\n",
    "plt.ylabel('Количество поездок')\n",
    "plt.legend();"
   ]
  },
  {
   "cell_type": "code",
   "execution_count": 40,
   "id": "292d336d",
   "metadata": {},
   "outputs": [
    {
     "data": {
      "image/png": "[encoded data removed]",
      "text/plain": [
       "<Figure size 900x600 with 1 Axes>"
      ]
     },
     "metadata": {},
     "output_type": "display_data"
    }
   ],
   "source": [
    "# Визуализирую информацию о времени поездок для пользователей обеих категорий.\n",
    "plt.figure(figsize=(9, 6))\n",
    "plt.hist([subscription_ultra['duration'], subscription_free['duration']],\n",
    "         bins=30, label=['Пользователи с подпиской', 'Пользователи без подписки'])\n",
    "plt.xlabel('Время (мин)')\n",
    "plt.ylabel('Количество поездок')\n",
    "plt.legend();"
   ]
  },
  {
   "cell_type": "markdown",
   "id": "37cc03a8",
   "metadata": {},
   "source": [
    "### Вывод:\n",
    "Пользователи без подписки чаще совершают короткие поездки до 1000 метров и поездки длиной более 3500 метров. Пиковое значение протяженности поездки для данной категории пользователей приходится на диапазон 2400-2600 метров. В то же время у пользователей с подпиской пик продолжительности поездок приходится на диапазон 3000-3200 метров, и они реже совершают дальние поездки.\n",
    "\n",
    "Длительность поездок у пользователей с подпиской обычно меньше, что может быть обусловлено их опытом и регулярным перемещением по одному и тому же маршруту. В то время как у пользователей без подписки присутствуют поездки длительностью менее 5 минут, что может указывать на возможные трудности у новых пользователей с управлением самоката."
   ]
  },
  {
   "cell_type": "markdown",
   "id": "402d620f",
   "metadata": {},
   "source": [
    "#### Шаг 5. Подсчёт выручки"
   ]
  },
  {
   "cell_type": "code",
   "execution_count": 41,
   "id": "c13ef4c1",
   "metadata": {},
   "outputs": [],
   "source": [
    "# Каждое значение из столбца 'duration' округляется с помощью «потолка»\n",
    "data['duration'] = np.ceil(data['duration']) "
   ]
  },
  {
   "cell_type": "code",
   "execution_count": 42,
   "id": "321bd49c",
   "metadata": {
    "scrolled": false
   },
   "outputs": [
    {
     "data": {
      "text/html": [
       "<div>\n",
       "<style scoped>\n",
       "    .dataframe tbody tr th:only-of-type {\n",
       "        vertical-align: middle;\n",
       "    }\n",
       "\n",
       "    .dataframe tbody tr th {\n",
       "        vertical-align: top;\n",
       "    }\n",
       "\n",
       "    .dataframe thead th {\n",
       "        text-align: right;\n",
       "    }\n",
       "</style>\n",
       "<table border=\"1\" class=\"dataframe\">\n",
       "  <thead>\n",
       "    <tr style=\"text-align: right;\">\n",
       "      <th></th>\n",
       "      <th></th>\n",
       "      <th>distance</th>\n",
       "      <th>count</th>\n",
       "      <th>duration</th>\n",
       "      <th>minute_price</th>\n",
       "      <th>start_ride_price</th>\n",
       "      <th>subscription_fee</th>\n",
       "      <th>subscription_type</th>\n",
       "    </tr>\n",
       "    <tr>\n",
       "      <th>user_id</th>\n",
       "      <th>month</th>\n",
       "      <th></th>\n",
       "      <th></th>\n",
       "      <th></th>\n",
       "      <th></th>\n",
       "      <th></th>\n",
       "      <th></th>\n",
       "      <th></th>\n",
       "    </tr>\n",
       "  </thead>\n",
       "  <tbody>\n",
       "    <tr>\n",
       "      <th rowspan=\"6\" valign=\"top\">1</th>\n",
       "      <th>1</th>\n",
       "      <td>7027.511294</td>\n",
       "      <td>2</td>\n",
       "      <td>42.0</td>\n",
       "      <td>6</td>\n",
       "      <td>0</td>\n",
       "      <td>199</td>\n",
       "      <td>ultra</td>\n",
       "    </tr>\n",
       "    <tr>\n",
       "      <th>4</th>\n",
       "      <td>754.159807</td>\n",
       "      <td>1</td>\n",
       "      <td>7.0</td>\n",
       "      <td>6</td>\n",
       "      <td>0</td>\n",
       "      <td>199</td>\n",
       "      <td>ultra</td>\n",
       "    </tr>\n",
       "    <tr>\n",
       "      <th>8</th>\n",
       "      <td>6723.470560</td>\n",
       "      <td>2</td>\n",
       "      <td>46.0</td>\n",
       "      <td>6</td>\n",
       "      <td>0</td>\n",
       "      <td>199</td>\n",
       "      <td>ultra</td>\n",
       "    </tr>\n",
       "    <tr>\n",
       "      <th>10</th>\n",
       "      <td>5809.911100</td>\n",
       "      <td>2</td>\n",
       "      <td>32.0</td>\n",
       "      <td>6</td>\n",
       "      <td>0</td>\n",
       "      <td>199</td>\n",
       "      <td>ultra</td>\n",
       "    </tr>\n",
       "    <tr>\n",
       "      <th>11</th>\n",
       "      <td>7003.499363</td>\n",
       "      <td>3</td>\n",
       "      <td>56.0</td>\n",
       "      <td>6</td>\n",
       "      <td>0</td>\n",
       "      <td>199</td>\n",
       "      <td>ultra</td>\n",
       "    </tr>\n",
       "    <tr>\n",
       "      <th>12</th>\n",
       "      <td>6751.629942</td>\n",
       "      <td>2</td>\n",
       "      <td>28.0</td>\n",
       "      <td>6</td>\n",
       "      <td>0</td>\n",
       "      <td>199</td>\n",
       "      <td>ultra</td>\n",
       "    </tr>\n",
       "    <tr>\n",
       "      <th rowspan=\"7\" valign=\"top\">2</th>\n",
       "      <th>3</th>\n",
       "      <td>10187.723006</td>\n",
       "      <td>3</td>\n",
       "      <td>63.0</td>\n",
       "      <td>6</td>\n",
       "      <td>0</td>\n",
       "      <td>199</td>\n",
       "      <td>ultra</td>\n",
       "    </tr>\n",
       "    <tr>\n",
       "      <th>4</th>\n",
       "      <td>6164.381824</td>\n",
       "      <td>2</td>\n",
       "      <td>40.0</td>\n",
       "      <td>6</td>\n",
       "      <td>0</td>\n",
       "      <td>199</td>\n",
       "      <td>ultra</td>\n",
       "    </tr>\n",
       "    <tr>\n",
       "      <th>6</th>\n",
       "      <td>3255.338202</td>\n",
       "      <td>1</td>\n",
       "      <td>14.0</td>\n",
       "      <td>6</td>\n",
       "      <td>0</td>\n",
       "      <td>199</td>\n",
       "      <td>ultra</td>\n",
       "    </tr>\n",
       "    <tr>\n",
       "      <th>7</th>\n",
       "      <td>6780.722964</td>\n",
       "      <td>2</td>\n",
       "      <td>48.0</td>\n",
       "      <td>6</td>\n",
       "      <td>0</td>\n",
       "      <td>199</td>\n",
       "      <td>ultra</td>\n",
       "    </tr>\n",
       "    <tr>\n",
       "      <th>8</th>\n",
       "      <td>923.007439</td>\n",
       "      <td>1</td>\n",
       "      <td>7.0</td>\n",
       "      <td>6</td>\n",
       "      <td>0</td>\n",
       "      <td>199</td>\n",
       "      <td>ultra</td>\n",
       "    </tr>\n",
       "    <tr>\n",
       "      <th>10</th>\n",
       "      <td>2824.636598</td>\n",
       "      <td>1</td>\n",
       "      <td>19.0</td>\n",
       "      <td>6</td>\n",
       "      <td>0</td>\n",
       "      <td>199</td>\n",
       "      <td>ultra</td>\n",
       "    </tr>\n",
       "    <tr>\n",
       "      <th>12</th>\n",
       "      <td>3828.248580</td>\n",
       "      <td>1</td>\n",
       "      <td>12.0</td>\n",
       "      <td>6</td>\n",
       "      <td>0</td>\n",
       "      <td>199</td>\n",
       "      <td>ultra</td>\n",
       "    </tr>\n",
       "    <tr>\n",
       "      <th rowspan=\"7\" valign=\"top\">3</th>\n",
       "      <th>1</th>\n",
       "      <td>3061.777147</td>\n",
       "      <td>1</td>\n",
       "      <td>13.0</td>\n",
       "      <td>6</td>\n",
       "      <td>0</td>\n",
       "      <td>199</td>\n",
       "      <td>ultra</td>\n",
       "    </tr>\n",
       "    <tr>\n",
       "      <th>2</th>\n",
       "      <td>5421.152016</td>\n",
       "      <td>2</td>\n",
       "      <td>39.0</td>\n",
       "      <td>6</td>\n",
       "      <td>0</td>\n",
       "      <td>199</td>\n",
       "      <td>ultra</td>\n",
       "    </tr>\n",
       "    <tr>\n",
       "      <th>4</th>\n",
       "      <td>2956.651632</td>\n",
       "      <td>1</td>\n",
       "      <td>21.0</td>\n",
       "      <td>6</td>\n",
       "      <td>0</td>\n",
       "      <td>199</td>\n",
       "      <td>ultra</td>\n",
       "    </tr>\n",
       "    <tr>\n",
       "      <th>5</th>\n",
       "      <td>9064.026918</td>\n",
       "      <td>3</td>\n",
       "      <td>63.0</td>\n",
       "      <td>6</td>\n",
       "      <td>0</td>\n",
       "      <td>199</td>\n",
       "      <td>ultra</td>\n",
       "    </tr>\n",
       "    <tr>\n",
       "      <th>7</th>\n",
       "      <td>10919.595403</td>\n",
       "      <td>3</td>\n",
       "      <td>67.0</td>\n",
       "      <td>6</td>\n",
       "      <td>0</td>\n",
       "      <td>199</td>\n",
       "      <td>ultra</td>\n",
       "    </tr>\n",
       "    <tr>\n",
       "      <th>9</th>\n",
       "      <td>2891.012822</td>\n",
       "      <td>1</td>\n",
       "      <td>23.0</td>\n",
       "      <td>6</td>\n",
       "      <td>0</td>\n",
       "      <td>199</td>\n",
       "      <td>ultra</td>\n",
       "    </tr>\n",
       "    <tr>\n",
       "      <th>12</th>\n",
       "      <td>2593.381928</td>\n",
       "      <td>1</td>\n",
       "      <td>13.0</td>\n",
       "      <td>6</td>\n",
       "      <td>0</td>\n",
       "      <td>199</td>\n",
       "      <td>ultra</td>\n",
       "    </tr>\n",
       "  </tbody>\n",
       "</table>\n",
       "</div>"
      ],
      "text/plain": [
       "                   distance  count  duration  minute_price  start_ride_price  \\\n",
       "user_id month                                                                  \n",
       "1       1       7027.511294      2      42.0             6                 0   \n",
       "        4        754.159807      1       7.0             6                 0   \n",
       "        8       6723.470560      2      46.0             6                 0   \n",
       "        10      5809.911100      2      32.0             6                 0   \n",
       "        11      7003.499363      3      56.0             6                 0   \n",
       "        12      6751.629942      2      28.0             6                 0   \n",
       "2       3      10187.723006      3      63.0             6                 0   \n",
       "        4       6164.381824      2      40.0             6                 0   \n",
       "        6       3255.338202      1      14.0             6                 0   \n",
       "        7       6780.722964      2      48.0             6                 0   \n",
       "        8        923.007439      1       7.0             6                 0   \n",
       "        10      2824.636598      1      19.0             6                 0   \n",
       "        12      3828.248580      1      12.0             6                 0   \n",
       "3       1       3061.777147      1      13.0             6                 0   \n",
       "        2       5421.152016      2      39.0             6                 0   \n",
       "        4       2956.651632      1      21.0             6                 0   \n",
       "        5       9064.026918      3      63.0             6                 0   \n",
       "        7      10919.595403      3      67.0             6                 0   \n",
       "        9       2891.012822      1      23.0             6                 0   \n",
       "        12      2593.381928      1      13.0             6                 0   \n",
       "\n",
       "               subscription_fee subscription_type  \n",
       "user_id month                                      \n",
       "1       1                   199             ultra  \n",
       "        4                   199             ultra  \n",
       "        8                   199             ultra  \n",
       "        10                  199             ultra  \n",
       "        11                  199             ultra  \n",
       "        12                  199             ultra  \n",
       "2       3                   199             ultra  \n",
       "        4                   199             ultra  \n",
       "        6                   199             ultra  \n",
       "        7                   199             ultra  \n",
       "        8                   199             ultra  \n",
       "        10                  199             ultra  \n",
       "        12                  199             ultra  \n",
       "3       1                   199             ultra  \n",
       "        2                   199             ultra  \n",
       "        4                   199             ultra  \n",
       "        5                   199             ultra  \n",
       "        7                   199             ultra  \n",
       "        9                   199             ultra  \n",
       "        12                  199             ultra  "
      ]
     },
     "execution_count": 42,
     "metadata": {},
     "output_type": "execute_result"
    }
   ],
   "source": [
    "# Создадим датафрейм с агрегированными данными о поездках. Суммарное расстояние, количество поездок и суммарное время \n",
    "pivot_revenue = data.pivot_table(index=['user_id', 'month'], \n",
    "                                 values=['distance', 'duration', 'subscription_type', 'subscription_fee',\n",
    "                                        'minute_price', 'start_ride_price'],\n",
    "                                 aggfunc={'distance':  'sum', \n",
    "                                          'duration': ('count', 'sum'),\n",
    "                                          'subscription_type': 'min', \n",
    "                                          'subscription_fee': 'first',\n",
    "                                          'minute_price': 'first',\n",
    "                                          'start_ride_price': 'first'\n",
    "                                 }\n",
    "                                )\n",
    "                                    \n",
    "pivot_revenue.columns = ['distance', \n",
    "                         'count', \n",
    "                         'duration', \n",
    "                         'minute_price',\n",
    "                         'start_ride_price', \n",
    "                         'subscription_fee',\n",
    "                         'subscription_type'\n",
    "                        ]\n",
    "pivot_revenue.head(20)"
   ]
  },
  {
   "cell_type": "code",
   "execution_count": 43,
   "id": "092c755e",
   "metadata": {},
   "outputs": [
    {
     "data": {
      "text/plain": [
       "distance             0.0\n",
       "count                0.0\n",
       "duration             0.0\n",
       "minute_price         0.0\n",
       "start_ride_price     0.0\n",
       "subscription_fee     0.0\n",
       "subscription_type    0.0\n",
       "dtype: float64"
      ]
     },
     "execution_count": 43,
     "metadata": {},
     "output_type": "execute_result"
    }
   ],
   "source": [
    "pivot_revenue.isna().mean()  # проверим агрегированный датафрейм на пропуски"
   ]
  },
  {
   "cell_type": "markdown",
   "id": "29f80f0f",
   "metadata": {},
   "source": [
    "Пропуски отсутствуют"
   ]
  },
  {
   "cell_type": "code",
   "execution_count": 44,
   "id": "dfd0ed66",
   "metadata": {
    "scrolled": true
   },
   "outputs": [],
   "source": [
    "# Напишем функцию для добавления нового столбца total , с подсчетом помесячной выручки каждого пользователя\n",
    "def revenue(row):\n",
    "    if row['subscription_type'] == 'ultra':\n",
    "        return row['minute_price'] * row['duration'] + row['subscription_fee']\n",
    "    elif row['subscription_type'] == 'free':\n",
    "        return row['start_ride_price'] * row['count'] + (row['minute_price'] * row['duration'])"
   ]
  },
  {
   "cell_type": "code",
   "execution_count": 45,
   "id": "297fbfb5",
   "metadata": {},
   "outputs": [
    {
     "data": {
      "text/html": [
       "<div>\n",
       "<style scoped>\n",
       "    .dataframe tbody tr th:only-of-type {\n",
       "        vertical-align: middle;\n",
       "    }\n",
       "\n",
       "    .dataframe tbody tr th {\n",
       "        vertical-align: top;\n",
       "    }\n",
       "\n",
       "    .dataframe thead th {\n",
       "        text-align: right;\n",
       "    }\n",
       "</style>\n",
       "<table border=\"1\" class=\"dataframe\">\n",
       "  <thead>\n",
       "    <tr style=\"text-align: right;\">\n",
       "      <th></th>\n",
       "      <th>user_id</th>\n",
       "      <th>month</th>\n",
       "      <th>distance</th>\n",
       "      <th>count</th>\n",
       "      <th>duration</th>\n",
       "      <th>minute_price</th>\n",
       "      <th>start_ride_price</th>\n",
       "      <th>subscription_fee</th>\n",
       "      <th>subscription_type</th>\n",
       "      <th>total</th>\n",
       "    </tr>\n",
       "  </thead>\n",
       "  <tbody>\n",
       "    <tr>\n",
       "      <th>0</th>\n",
       "      <td>1</td>\n",
       "      <td>1</td>\n",
       "      <td>7027.511294</td>\n",
       "      <td>2</td>\n",
       "      <td>42.0</td>\n",
       "      <td>6</td>\n",
       "      <td>0</td>\n",
       "      <td>199</td>\n",
       "      <td>ultra</td>\n",
       "      <td>451.0</td>\n",
       "    </tr>\n",
       "    <tr>\n",
       "      <th>1</th>\n",
       "      <td>1</td>\n",
       "      <td>4</td>\n",
       "      <td>754.159807</td>\n",
       "      <td>1</td>\n",
       "      <td>7.0</td>\n",
       "      <td>6</td>\n",
       "      <td>0</td>\n",
       "      <td>199</td>\n",
       "      <td>ultra</td>\n",
       "      <td>241.0</td>\n",
       "    </tr>\n",
       "    <tr>\n",
       "      <th>2</th>\n",
       "      <td>1</td>\n",
       "      <td>8</td>\n",
       "      <td>6723.470560</td>\n",
       "      <td>2</td>\n",
       "      <td>46.0</td>\n",
       "      <td>6</td>\n",
       "      <td>0</td>\n",
       "      <td>199</td>\n",
       "      <td>ultra</td>\n",
       "      <td>475.0</td>\n",
       "    </tr>\n",
       "    <tr>\n",
       "      <th>3</th>\n",
       "      <td>1</td>\n",
       "      <td>10</td>\n",
       "      <td>5809.911100</td>\n",
       "      <td>2</td>\n",
       "      <td>32.0</td>\n",
       "      <td>6</td>\n",
       "      <td>0</td>\n",
       "      <td>199</td>\n",
       "      <td>ultra</td>\n",
       "      <td>391.0</td>\n",
       "    </tr>\n",
       "    <tr>\n",
       "      <th>4</th>\n",
       "      <td>1</td>\n",
       "      <td>11</td>\n",
       "      <td>7003.499363</td>\n",
       "      <td>3</td>\n",
       "      <td>56.0</td>\n",
       "      <td>6</td>\n",
       "      <td>0</td>\n",
       "      <td>199</td>\n",
       "      <td>ultra</td>\n",
       "      <td>535.0</td>\n",
       "    </tr>\n",
       "    <tr>\n",
       "      <th>...</th>\n",
       "      <td>...</td>\n",
       "      <td>...</td>\n",
       "      <td>...</td>\n",
       "      <td>...</td>\n",
       "      <td>...</td>\n",
       "      <td>...</td>\n",
       "      <td>...</td>\n",
       "      <td>...</td>\n",
       "      <td>...</td>\n",
       "      <td>...</td>\n",
       "    </tr>\n",
       "    <tr>\n",
       "      <th>11326</th>\n",
       "      <td>1534</td>\n",
       "      <td>6</td>\n",
       "      <td>3409.468534</td>\n",
       "      <td>2</td>\n",
       "      <td>26.0</td>\n",
       "      <td>8</td>\n",
       "      <td>50</td>\n",
       "      <td>0</td>\n",
       "      <td>free</td>\n",
       "      <td>308.0</td>\n",
       "    </tr>\n",
       "    <tr>\n",
       "      <th>11327</th>\n",
       "      <td>1534</td>\n",
       "      <td>8</td>\n",
       "      <td>7622.453034</td>\n",
       "      <td>2</td>\n",
       "      <td>48.0</td>\n",
       "      <td>8</td>\n",
       "      <td>50</td>\n",
       "      <td>0</td>\n",
       "      <td>free</td>\n",
       "      <td>484.0</td>\n",
       "    </tr>\n",
       "    <tr>\n",
       "      <th>11328</th>\n",
       "      <td>1534</td>\n",
       "      <td>9</td>\n",
       "      <td>4928.173852</td>\n",
       "      <td>1</td>\n",
       "      <td>23.0</td>\n",
       "      <td>8</td>\n",
       "      <td>50</td>\n",
       "      <td>0</td>\n",
       "      <td>free</td>\n",
       "      <td>234.0</td>\n",
       "    </tr>\n",
       "    <tr>\n",
       "      <th>11329</th>\n",
       "      <td>1534</td>\n",
       "      <td>11</td>\n",
       "      <td>13350.015305</td>\n",
       "      <td>4</td>\n",
       "      <td>78.0</td>\n",
       "      <td>8</td>\n",
       "      <td>50</td>\n",
       "      <td>0</td>\n",
       "      <td>free</td>\n",
       "      <td>824.0</td>\n",
       "    </tr>\n",
       "    <tr>\n",
       "      <th>11330</th>\n",
       "      <td>1534</td>\n",
       "      <td>12</td>\n",
       "      <td>2371.711192</td>\n",
       "      <td>1</td>\n",
       "      <td>16.0</td>\n",
       "      <td>8</td>\n",
       "      <td>50</td>\n",
       "      <td>0</td>\n",
       "      <td>free</td>\n",
       "      <td>178.0</td>\n",
       "    </tr>\n",
       "  </tbody>\n",
       "</table>\n",
       "<p>11331 rows × 10 columns</p>\n",
       "</div>"
      ],
      "text/plain": [
       "       user_id  month      distance  count  duration  minute_price  \\\n",
       "0            1      1   7027.511294      2      42.0             6   \n",
       "1            1      4    754.159807      1       7.0             6   \n",
       "2            1      8   6723.470560      2      46.0             6   \n",
       "3            1     10   5809.911100      2      32.0             6   \n",
       "4            1     11   7003.499363      3      56.0             6   \n",
       "...        ...    ...           ...    ...       ...           ...   \n",
       "11326     1534      6   3409.468534      2      26.0             8   \n",
       "11327     1534      8   7622.453034      2      48.0             8   \n",
       "11328     1534      9   4928.173852      1      23.0             8   \n",
       "11329     1534     11  13350.015305      4      78.0             8   \n",
       "11330     1534     12   2371.711192      1      16.0             8   \n",
       "\n",
       "       start_ride_price  subscription_fee subscription_type  total  \n",
       "0                     0               199             ultra  451.0  \n",
       "1                     0               199             ultra  241.0  \n",
       "2                     0               199             ultra  475.0  \n",
       "3                     0               199             ultra  391.0  \n",
       "4                     0               199             ultra  535.0  \n",
       "...                 ...               ...               ...    ...  \n",
       "11326                50                 0              free  308.0  \n",
       "11327                50                 0              free  484.0  \n",
       "11328                50                 0              free  234.0  \n",
       "11329                50                 0              free  824.0  \n",
       "11330                50                 0              free  178.0  \n",
       "\n",
       "[11331 rows x 10 columns]"
      ]
     },
     "execution_count": 45,
     "metadata": {},
     "output_type": "execute_result"
    }
   ],
   "source": [
    "# Применяем написанную функцию\n",
    "pivot_revenue['total'] = pivot_revenue.apply(revenue, axis=1)\n",
    "pivot_revenue = pivot_revenue.reset_index()\n",
    "pivot_revenue"
   ]
  },
  {
   "cell_type": "markdown",
   "id": "f7966559",
   "metadata": {},
   "source": [
    "### Вывод:\n",
    "В ходе выполнения анализа, мы создали новый датафрейм, где посчитали суммарное количество поездок, расстояние и время, для каждого пользователя в определенный месяц. Так же посчитали доход, который принес каждый пользователь в определенный месяц."
   ]
  },
  {
   "cell_type": "markdown",
   "id": "41545ac0",
   "metadata": {},
   "source": [
    "#### Шаг 6. Проверка гипотез"
   ]
  },
  {
   "cell_type": "markdown",
   "id": "54bccb57",
   "metadata": {},
   "source": [
    "#### 6.1 Тратят ли пользователи с подпиской больше времени на поездки? "
   ]
  },
  {
   "cell_type": "markdown",
   "id": "3d8c003b",
   "metadata": {},
   "source": [
    "Нулевая гипотеза: средние значения затраченного времени пользователей из двух групп равны.\n",
    "\n",
    "Альтернативная гипотеза: среднее значение затраченного времени пользователей с подпиской больше, чем среднее значение затраченного времени пользователей без подписки"
   ]
  },
  {
   "cell_type": "code",
   "execution_count": 46,
   "id": "cdf3f2ef",
   "metadata": {},
   "outputs": [
    {
     "name": "stdout",
     "output_type": "stream",
     "text": [
      "p-значение: 1.2804098316645618e-34\n",
      "Среднее первой выборки 18.54198516280583\n",
      "Среднее второй выборки 17.39090929866399\n",
      "Отвергаем нулевую гипотезу\n"
     ]
    }
   ],
   "source": [
    "alpha = 0.05 # уровень статистической значимости\n",
    "\n",
    "# Проведем ttest для двух независимых выборок\n",
    "results = st.ttest_ind(subscription_ultra['duration'], subscription_free['duration'], alternative='greater')\n",
    "\n",
    "print('p-значение:', results.pvalue)\n",
    "\n",
    "print('Среднее первой выборки', np.mean(subscription_ultra['duration']))\n",
    "print('Среднее второй выборки', np.mean(subscription_free['duration']))\n",
    "\n",
    "if results.pvalue < alpha:\n",
    "    print('Отвергаем нулевую гипотезу')\n",
    "else:\n",
    "    print('Не получилось отвергнуть нулевую гипотезу') "
   ]
  },
  {
   "cell_type": "markdown",
   "id": "ae31a467",
   "metadata": {},
   "source": [
    "Полученное значение p-value очень мало и намного меньше уровня статической значимостти, поэтому можно отвергнуть нулевую гипотезу. Есть основания говорить, что пользователи с подпиской в среднем совершают более длительные поездки. Хотя на гистограмме этого не видно."
   ]
  },
  {
   "cell_type": "markdown",
   "id": "35e82102",
   "metadata": {},
   "source": [
    "#### 6.2 Можно ли сказать, что среднее расстояние, которое проезжают пользователи с подпиской за одну поездку, не превышает 3130 метров? "
   ]
  },
  {
   "cell_type": "markdown",
   "id": "828688db",
   "metadata": {},
   "source": [
    "Нулевая гипотеза: среднее расстояние которое проезжают пользователи с подпиской равно 3130 метров.\n",
    "\n",
    "Альтернативная гипотеза: среднее расстояние пользователей с подпиской больше чем 3130 метров."
   ]
  },
  {
   "cell_type": "code",
   "execution_count": 47,
   "id": "8bb87da0",
   "metadata": {},
   "outputs": [
    {
     "name": "stdout",
     "output_type": "stream",
     "text": [
      "p-значение: 0.9195368847849785\n",
      "Среднее выборки 3115.4453880370247\n",
      "Не получилось отвергнуть нулевую гипотезу\n"
     ]
    }
   ],
   "source": [
    "interested_value = 3130\n",
    "\n",
    "alpha = 0.05\n",
    "\n",
    "results = st.ttest_1samp(\n",
    "    subscription_ultra['distance'], interested_value, alternative='greater')\n",
    "print('p-значение:', results.pvalue)\n",
    "\n",
    "print('Среднее выборки', np.mean(subscription_ultra['distance']))\n",
    "\n",
    "if results.pvalue < alpha:\n",
    "    print('Отвергаем нулевую гипотезу')\n",
    "else:\n",
    "    print('Не получилось отвергнуть нулевую гипотезу')"
   ]
  },
  {
   "cell_type": "markdown",
   "id": "2fbe08fc",
   "metadata": {},
   "source": [
    "Полученное значение p-value= 92% - это больше чем уровень статической значимости, поэтому не получается опровергнуть нулевую гипотезу. Есть основания говорить, что пользователи с подпиской  совершают поездки длинной 3130 метров."
   ]
  },
  {
   "cell_type": "markdown",
   "id": "1d2e5259",
   "metadata": {},
   "source": [
    "#### 6.3. Будет ли помесячная выручка от пользователей с подпиской по месяцам выше, чем выручка от пользователей без подписки?\n",
    "\n",
    "Нулевая гипотеза: помесячная выручка от пользователей с подписой  равна выручке от пользователей без подписки.\n",
    "\n",
    "Альтернативная гипотеза: помесячная выручка от пользователей с подпиской выше, чем от пользователей без подписки."
   ]
  },
  {
   "cell_type": "code",
   "execution_count": 48,
   "id": "9cddc571",
   "metadata": {},
   "outputs": [
    {
     "name": "stdout",
     "output_type": "stream",
     "text": [
      "1.8850394384715216e-31\n",
      "Среднее первой выборки 362.7921906022502\n",
      "Среднее второй выборки 328.6413651073845\n",
      "Отвергаем нулевую гипотезу\n"
     ]
    }
   ],
   "source": [
    "ultra_per_mnth = pivot_revenue.loc[pivot_revenue['subscription_type'] == 'ultra', 'total']\n",
    "\n",
    "free_per_mnth = pivot_revenue.loc[pivot_revenue['subscription_type']== 'free', 'total']\n",
    "\n",
    "\n",
    "results = st.ttest_ind(ultra_per_mnth, \n",
    "                       free_per_mnth,\n",
    "                       alternative = 'greater')\n",
    "\n",
    "alpha = .05\n",
    "\n",
    "print(results.pvalue)\n",
    "\n",
    "print('Среднее первой выборки', np.mean(ultra_per_mnth))\n",
    "print('Среднее второй выборки', np.mean(free_per_mnth))\n",
    "\n",
    "if results.pvalue < alpha:\n",
    "    print('Отвергаем нулевую гипотезу')\n",
    "else:\n",
    "    print('Не удалось отвергнуть нулевую гипотезу')"
   ]
  },
  {
   "cell_type": "markdown",
   "id": "f21051ae",
   "metadata": {},
   "source": [
    "Полученное значение p-value меньше чем уровень статической значимости, поэтому отвергаем нулевую гипотезу. Есть основания говорить, что выручка от пользователей с подпиской больше."
   ]
  },
  {
   "cell_type": "markdown",
   "id": "7cbe4a49",
   "metadata": {},
   "source": [
    "#### 6.4 техническая команда сервиса обновила сервера, с которыми взаимодействует мобильное приложение. Она надеется, что из-за этого количество обращений в техподдержку значимо снизилось.  Какой тест вам понадобился бы для проверки этой гипотезы?\n",
    "Для того, что бы проверить гипотезу об изменении количества обращений в техподдержку, после обновления сервера, необходимо воспользоваться методом **spicy.stats.ttest_rel\" == \"st.ttest_rel**. В роли аргументов нужно предоставить две выборки: **до обновления** и **после обновления** сервера. \n",
    "\n",
    "Например имея две выборки **before** и **after** и установив уровень статстической значимости в 5%, то пример кода будет выглядеть таким образом:\n",
    "\n",
    "results = st.ttest_rel(before, after)\n",
    "\n",
    "print('p-значение:', results.pvalue)\n",
    "\n",
    "if results.pvalue < alpha:\n",
    "\n",
    "    print('Отвергаем нулевую гипотезу о равенстве среднего веса посылок')\n",
    "    \n",
    "else:\n",
    "\n",
    "    print('Не получилось отвергнуть нулевую гипотезу о равенстве среднего веса посылок')"
   ]
  },
  {
   "cell_type": "markdown",
   "id": "88a570b1",
   "metadata": {},
   "source": [
    "### Вывод:\n",
    "При проверке гипотез, мы установили, что:\n",
    "- Есть основания говорить, что пользователи с подпиской в среднем совершают более длительные поездки.\n",
    "- Есть основания говорить, что пользователи с подпиской в стреднем совершают поездки длинной 3130 метров.\n",
    "- Есть основания говорить, что выручка от пользователей с подпиской больше."
   ]
  },
  {
   "cell_type": "markdown",
   "id": "61213c5e",
   "metadata": {},
   "source": [
    "#### Шаг 7. Распределения"
   ]
  },
  {
   "cell_type": "markdown",
   "id": "a2ca2379",
   "metadata": {},
   "source": [
    "**Задача 1.** Отделу маркетинга GoFast поставили задачу: нужно провести акцию с раздачей промокодов на один бесплатный месяц подписки, в рамках которой как минимум 100 существующих клиентов должны продлить эту подписку. То есть по завершении периода действия подписки пользователь может либо отказаться от неё, либо продлить, совершив соответствующий платёж. \n",
    "Эта акция уже проводилась ранее и по итогу выяснилось, что после бесплатного пробного периода подписку продлевают 10 % пользователей. Выясните, какое минимальное количество промокодов нужно разослать, чтобы вероятность не выполнить план была примерно 5 %. Подберите параметры распределения, описывающего эту ситуацию, постройте график распределения и сформулируйте ответ на вопрос о количестве промокодов.\n"
   ]
  },
  {
   "cell_type": "code",
   "execution_count": 49,
   "id": "29fd3fd0",
   "metadata": {},
   "outputs": [
    {
     "name": "stdout",
     "output_type": "stream",
     "text": [
      "При n=1161, вероятность не выполнить план будет равна 5.0%\n"
     ]
    }
   ],
   "source": [
    "import scipy.stats as st\n",
    "\n",
    "p = 0.1  # вероятность успеха\n",
    "k = 99  # количество успехов\n",
    "probability = 0.05\n",
    "\n",
    "for n in range(1000, 10000):  # предположим, что попытки ограничены от 1000 до 10000\n",
    "     \n",
    "    distr = st.binom(n, p)  # задаем биномиальное распределение\n",
    "    result = distr.cdf(k)  # инициализация переменной result\n",
    "\n",
    "    if result <= probability:\n",
    "        break\n",
    "\n",
    "print(f'При n={n}, вероятность не выполнить план будет равна {result.round(2)*100}%')"
   ]
  },
  {
   "cell_type": "code",
   "execution_count": 50,
   "id": "00b51ddf",
   "metadata": {
    "scrolled": false
   },
   "outputs": [
    {
     "data": {
      "image/png": "[encoded data removed]",
      "text/plain": [
       "<Figure size 900x600 with 1 Axes>"
      ]
     },
     "metadata": {},
     "output_type": "display_data"
    }
   ],
   "source": [
    "x = range(0, 500)  # зададим ось x\n",
    "y = st.binom.pmf(x, n, p)  # зададим ось y\n",
    "plt.figure(figsize=(9, 6))\n",
    "plt.plot(x, y)  # строим график\n",
    "plt.axvline(x=k, color='red')  # указываем математическое ожидание\n",
    "plt.xlabel('Количество клиентов, продливших подписку')\n",
    "plt.ylabel('Вероятность')\n",
    "plt.title('Биномиальное распределение для акции продления подписки')\n",
    "plt.show()\n"
   ]
  },
  {
   "cell_type": "markdown",
   "id": "757bb2b1",
   "metadata": {},
   "source": [
    "### Вывод:\n",
    "Для того, что бы после бесплатного пробного периода, минимум 100 клиентов продлили эту подписку,отделу маркетинга GoFast необходимо разослать 1158 промокодов. При таком количестве промокодов вероятность не выполнить план будет 5%."
   ]
  },
  {
   "cell_type": "markdown",
   "id": "162be207",
   "metadata": {},
   "source": [
    "**Задача 2.** Отдел маркетинга рассылает клиентам push-уведомления в мобильном приложении. Клиенты могут открыть его или не открывать. Известно, что уведомления открывают около \n",
    "40 % получивших клиентов. Отдел планирует разослать 1 млн уведомлений. С помощью аппроксимации постройте примерный график распределения и оцените вероятность того, что уведомление откроют не более 399,5 тыс. пользователей."
   ]
  },
  {
   "cell_type": "code",
   "execution_count": 51,
   "id": "5d61fb69",
   "metadata": {},
   "outputs": [
    {
     "name": "stdout",
     "output_type": "stream",
     "text": [
      "Вероятность, что из 1млн. уведомлений - откроют не более 399.5 пользователей равна 15.0%\n"
     ]
    }
   ],
   "source": [
    "n = 1000000  # количество попыток\n",
    "k = 399500  # количество успехов\n",
    "p = 0.4  # вероятность успеха\n",
    "mu = n * p  # математическое ожидание\n",
    "sigma = (n * p * (1 - p))**0.5  # корень из стандартного отклонения\n",
    "distr = st.norm(mu, sigma)  # задаем нормальное распределение\n",
    "result = distr.cdf(k)  # инициализация переменной result\n",
    "print(f'Вероятность, что из 1млн. уведомлений - откроют не более 399.5 пользователей равна {result.round(2)*100}%')"
   ]
  },
  {
   "cell_type": "code",
   "execution_count": 52,
   "id": "99ca9bd0",
   "metadata": {},
   "outputs": [
    {
     "data": {
      "image/png": "[encoded data removed]",
      "text/plain": [
       "<Figure size 900x600 with 1 Axes>"
      ]
     },
     "metadata": {},
     "output_type": "display_data"
    }
   ],
   "source": [
    "x = np.linspace(mu - 4*sigma, mu + 4*sigma)  # зададим ось x\n",
    "y = st.norm.pdf(x, mu, sigma)  # зададим ось y\n",
    "plt.figure(figsize=(9, 6))\n",
    "plt.plot(x, y)  # строим график\n",
    "plt.axvline(x=k, color='red')  # указываем необходимое число успехов\n",
    "plt.title('Нормальное распределение количества открытий уведомлений')\n",
    "plt.xlabel('Количество открытий')\n",
    "plt.ylabel('Плотность вероятности')\n",
    "plt.grid(True)\n",
    "plt.show()"
   ]
  },
  {
   "cell_type": "markdown",
   "id": "605fc647",
   "metadata": {},
   "source": [
    "### Вывод:\n",
    "При отправке отделом маркетинга клиентам push-уведомления в мобильном приложении в количестве 1млн. штук, вероятность, что их откроет не более 399.5 тыс. пользователей равна 15%, при условиии, что вероятность открытия уведомлений 40%."
   ]
  },
  {
   "cell_type": "markdown",
   "id": "d9e59d59",
   "metadata": {},
   "source": [
    "### Общий вывод:\n",
    "В ходе выполнения анализа данных, мы:\n",
    "1. Загрузили 3 датасета: \"users_go\", \"riders_go\" и \"subscriptions_go\".\n",
    "2. Выполнили предобработку данных, в результате - не было обнаружено пропусков в данных. В датафрейме riders_go столбец date привели к типу даты pandas. Удалили явные дубликаты в users_go - 31.\n",
    "3. При проведения исследовательского анализа данных,получили, что:\n",
    "- Наибольшее количество поездок было совершено в городах Пятигорск и Екатеринбург, в то время как наименьшее количество поездок было зарегистрировано в Тюмени и Москве.\n",
    "- Количество пользователей с подпиской превышает количество пользователей без подписки на 8%, что может свидетельствовать о привлекательности условий подписки для пользователей.\n",
    "- Возраст большинства пользователей 25 лет, до 18 лет намного меньше пользователей, а после 35 сводится к нулю.\n",
    "- Чаще всего пользователи преодолевают расстояние в 3100 метров за одну поезду. Расстояние свыше 6000 метров преодолевают редко, что может быть связано с ограничениями по дальности хода самокатов. Наличие малых значений может указывать на возможные трудности пользователей с управлением самокатами.\n",
    "- Продолжительность поездок длится 15-20 минут, это сходится с нашим выводом о поездках в 3100 метров. Так же видны очень короткие поездки, которые так же могут говорить, об трудностях пользователей с управлением самоката.\n",
    "4. Собрали 3 таблицы в одну data. И на основе этой таблицы создали 2 новых. Где разделили пользователей с разными типами подписки.  Исходя их полученных данных выяснили, что:\n",
    "- пользователи без подписки чаще совершают короткие поездки до 1000 метров и поездки длиной более 3500 метров. Пиковое значение протяженности поездки для данной категории пользователей приходится на диапазон 2400-2600 метров. В то же время у пользователей с подпиской пик продолжительности поездок приходится на диапазон 3000-3200 метров, и они реже совершают дальние поездки.\n",
    "- длительность поездок у пользователей с подпиской обычно меньше, что может быть обусловлено их опытом и регулярным перемещением по одному и тому же маршруту. В то время как у пользователей без подписки присутствуют поездки длительностью менее 5 минут, что может указывать на возможные трудности у новых пользователей с управлением самоката.\n",
    "5. В ходе выполнения анализа, мы создали новый датафрейм, где посчитали суммарное количество поездок, расстояние и время, для каждого пользователя в определенный месяц. Так же посчитали доход, который принес каждый пользователь в определенный месяц.\n",
    "6. При проверке гипотез, мы установили, что:\n",
    "- есть основания говорить, что пользователи с подпиской в среднем совершают более длительные поездки.\n",
    "- есть основания говорить, что пользователи с подпиской в стреднем совершают поездки длинной 3130 метров.\n",
    "- есть основания говорить, что выручка от пользователей с подпиской больше.\n",
    "7. Распределения:\n",
    "- для того, что бы после бесплатного пробного периода, минимум 100 клиентов продлили эту подписку,отделу маркетинга GoFast необходимо разослать 1158 промокодов. При таком количестве промокодов вероятность не выполнить план будет 5%.\n",
    "- при отправке отделом маркетинга клиентам push-уведомления в мобильном приложении в количестве 1млн. штук, вероятность, что их откроет не более 399.5 тыс. пользователей равна 15%, при условиии, что вероятность открытия уведомлений 40%.\n",
    "\n",
    "\n",
    "Таким образом можно утверждать, что пользователи с подпиской более выгодны для сервиса GoFast. Значит необходимо привлекать больше пользователей с подпиской, создавая различныеу услоия и спец. предложения."
   ]
  }
 ],
 "metadata": {
  "ExecuteTimeLog": [
   {
    "duration": 87,
    "start_time": "2024-03-29T09:34:46.636Z"
   },
   {
    "duration": 65,
    "start_time": "2024-03-29T09:34:55.494Z"
   },
   {
    "duration": 459,
    "start_time": "2024-03-29T09:35:00.063Z"
   },
   {
    "duration": 28,
    "start_time": "2024-03-29T09:35:01.034Z"
   },
   {
    "duration": 102,
    "start_time": "2024-03-29T09:35:08.041Z"
   },
   {
    "duration": 162,
    "start_time": "2024-03-29T09:35:39.859Z"
   },
   {
    "duration": 75,
    "start_time": "2024-03-29T09:36:03.476Z"
   },
   {
    "duration": 19,
    "start_time": "2024-03-29T09:36:33.832Z"
   },
   {
    "duration": 10,
    "start_time": "2024-03-29T09:36:48.612Z"
   },
   {
    "duration": 7,
    "start_time": "2024-03-29T09:37:00.105Z"
   },
   {
    "duration": 8,
    "start_time": "2024-03-29T09:37:25.104Z"
   },
   {
    "duration": 11,
    "start_time": "2024-03-29T09:37:53.332Z"
   },
   {
    "duration": 18,
    "start_time": "2024-03-29T09:38:13.076Z"
   },
   {
    "duration": 10,
    "start_time": "2024-03-29T09:38:27.294Z"
   },
   {
    "duration": 8,
    "start_time": "2024-03-29T10:33:01.529Z"
   },
   {
    "duration": 6,
    "start_time": "2024-03-29T10:33:41.087Z"
   },
   {
    "duration": 46,
    "start_time": "2024-03-29T10:38:29.705Z"
   },
   {
    "duration": 12,
    "start_time": "2024-03-29T10:38:52.635Z"
   },
   {
    "duration": 7,
    "start_time": "2024-03-29T10:43:08.787Z"
   },
   {
    "duration": 9,
    "start_time": "2024-03-29T10:43:45.525Z"
   },
   {
    "duration": 5,
    "start_time": "2024-03-29T10:43:48.322Z"
   },
   {
    "duration": 10,
    "start_time": "2024-03-29T10:45:35.363Z"
   },
   {
    "duration": 5,
    "start_time": "2024-03-29T10:45:44.530Z"
   },
   {
    "duration": 6,
    "start_time": "2024-03-29T10:45:56.671Z"
   },
   {
    "duration": 9,
    "start_time": "2024-03-29T10:53:54.124Z"
   },
   {
    "duration": 11,
    "start_time": "2024-03-29T10:54:11.108Z"
   },
   {
    "duration": 10,
    "start_time": "2024-03-29T10:55:18.457Z"
   },
   {
    "duration": 9,
    "start_time": "2024-03-29T10:56:24.400Z"
   },
   {
    "duration": 5,
    "start_time": "2024-03-29T10:56:32.863Z"
   },
   {
    "duration": 1561,
    "start_time": "2024-03-29T11:04:30.551Z"
   },
   {
    "duration": 5,
    "start_time": "2024-03-29T11:04:41.811Z"
   },
   {
    "duration": 11,
    "start_time": "2024-03-29T11:04:50.926Z"
   },
   {
    "duration": 398,
    "start_time": "2024-03-30T09:13:45.170Z"
   },
   {
    "duration": 86,
    "start_time": "2024-03-30T09:13:47.220Z"
   },
   {
    "duration": 16,
    "start_time": "2024-03-30T09:13:47.361Z"
   },
   {
    "duration": 10,
    "start_time": "2024-03-30T09:13:47.536Z"
   },
   {
    "duration": 78,
    "start_time": "2024-03-30T09:13:47.870Z"
   },
   {
    "duration": 9,
    "start_time": "2024-03-30T09:13:48.014Z"
   },
   {
    "duration": 10,
    "start_time": "2024-03-30T09:13:48.147Z"
   },
   {
    "duration": 72,
    "start_time": "2024-03-30T09:13:48.474Z"
   },
   {
    "duration": 7,
    "start_time": "2024-03-30T09:13:48.631Z"
   },
   {
    "duration": 10,
    "start_time": "2024-03-30T09:13:48.787Z"
   },
   {
    "duration": 6,
    "start_time": "2024-03-30T09:13:49.867Z"
   },
   {
    "duration": 5,
    "start_time": "2024-03-30T09:13:50.029Z"
   },
   {
    "duration": 4,
    "start_time": "2024-03-30T09:13:50.529Z"
   },
   {
    "duration": 8,
    "start_time": "2024-03-30T09:13:50.732Z"
   },
   {
    "duration": 6,
    "start_time": "2024-03-30T09:13:51.399Z"
   },
   {
    "duration": 8,
    "start_time": "2024-03-30T09:14:15.771Z"
   },
   {
    "duration": 54,
    "start_time": "2024-03-30T09:14:42.454Z"
   },
   {
    "duration": 47,
    "start_time": "2024-03-30T09:15:41.945Z"
   },
   {
    "duration": 4,
    "start_time": "2024-03-30T09:15:43.398Z"
   },
   {
    "duration": 340,
    "start_time": "2024-03-30T09:16:34.821Z"
   },
   {
    "duration": 29,
    "start_time": "2024-03-30T09:16:35.163Z"
   },
   {
    "duration": 14,
    "start_time": "2024-03-30T09:16:35.194Z"
   },
   {
    "duration": 15,
    "start_time": "2024-03-30T09:16:35.209Z"
   },
   {
    "duration": 55,
    "start_time": "2024-03-30T09:16:35.226Z"
   },
   {
    "duration": 9,
    "start_time": "2024-03-30T09:16:35.284Z"
   },
   {
    "duration": 11,
    "start_time": "2024-03-30T09:16:35.294Z"
   },
   {
    "duration": 15,
    "start_time": "2024-03-30T09:16:35.307Z"
   },
   {
    "duration": 6,
    "start_time": "2024-03-30T09:16:35.323Z"
   },
   {
    "duration": 13,
    "start_time": "2024-03-30T09:16:35.330Z"
   },
   {
    "duration": 13,
    "start_time": "2024-03-30T09:16:35.345Z"
   },
   {
    "duration": 24,
    "start_time": "2024-03-30T09:16:35.359Z"
   },
   {
    "duration": 25,
    "start_time": "2024-03-30T09:16:35.385Z"
   },
   {
    "duration": 8,
    "start_time": "2024-03-30T09:16:35.413Z"
   },
   {
    "duration": 11,
    "start_time": "2024-03-30T09:16:35.423Z"
   },
   {
    "duration": 17,
    "start_time": "2024-03-30T09:16:35.435Z"
   },
   {
    "duration": 7,
    "start_time": "2024-03-30T09:16:35.453Z"
   },
   {
    "duration": 7,
    "start_time": "2024-03-30T09:16:35.462Z"
   },
   {
    "duration": 4,
    "start_time": "2024-03-30T09:16:35.471Z"
   },
   {
    "duration": 6,
    "start_time": "2024-03-30T09:17:21.273Z"
   },
   {
    "duration": 6,
    "start_time": "2024-03-30T09:17:37.828Z"
   },
   {
    "duration": 6,
    "start_time": "2024-03-30T09:18:02.294Z"
   },
   {
    "duration": 7,
    "start_time": "2024-03-30T09:22:52.948Z"
   },
   {
    "duration": 62,
    "start_time": "2024-03-30T09:23:00.283Z"
   },
   {
    "duration": 7,
    "start_time": "2024-03-30T09:23:05.485Z"
   },
   {
    "duration": 12,
    "start_time": "2024-03-30T09:23:35.395Z"
   },
   {
    "duration": 8,
    "start_time": "2024-03-30T09:23:47.791Z"
   },
   {
    "duration": 4,
    "start_time": "2024-03-30T09:24:14.878Z"
   },
   {
    "duration": 4,
    "start_time": "2024-03-30T09:24:24.990Z"
   },
   {
    "duration": 4,
    "start_time": "2024-03-30T09:24:41.165Z"
   },
   {
    "duration": 6,
    "start_time": "2024-03-30T09:43:57.057Z"
   },
   {
    "duration": 4,
    "start_time": "2024-03-30T09:45:45.535Z"
   },
   {
    "duration": 508,
    "start_time": "2024-03-30T09:45:51.205Z"
   },
   {
    "duration": 3,
    "start_time": "2024-03-30T09:47:19.619Z"
   },
   {
    "duration": 2,
    "start_time": "2024-03-30T09:47:52.922Z"
   },
   {
    "duration": 29,
    "start_time": "2024-03-30T09:47:53.563Z"
   },
   {
    "duration": 9,
    "start_time": "2024-03-30T09:47:53.697Z"
   },
   {
    "duration": 11,
    "start_time": "2024-03-30T09:47:53.839Z"
   },
   {
    "duration": 41,
    "start_time": "2024-03-30T09:47:54.591Z"
   },
   {
    "duration": 10,
    "start_time": "2024-03-30T09:47:54.728Z"
   },
   {
    "duration": 13,
    "start_time": "2024-03-30T09:47:54.874Z"
   },
   {
    "duration": 15,
    "start_time": "2024-03-30T09:47:55.195Z"
   },
   {
    "duration": 7,
    "start_time": "2024-03-30T09:47:55.340Z"
   },
   {
    "duration": 9,
    "start_time": "2024-03-30T09:47:55.487Z"
   },
   {
    "duration": 7,
    "start_time": "2024-03-30T09:47:56.147Z"
   },
   {
    "duration": 5,
    "start_time": "2024-03-30T09:47:56.299Z"
   },
   {
    "duration": 6,
    "start_time": "2024-03-30T09:47:56.743Z"
   },
   {
    "duration": 13,
    "start_time": "2024-03-30T09:47:56.907Z"
   },
   {
    "duration": 8,
    "start_time": "2024-03-30T09:47:57.243Z"
   },
   {
    "duration": 8,
    "start_time": "2024-03-30T09:47:57.427Z"
   },
   {
    "duration": 7,
    "start_time": "2024-03-30T09:47:57.622Z"
   },
   {
    "duration": 6,
    "start_time": "2024-03-30T09:47:58.401Z"
   },
   {
    "duration": 5,
    "start_time": "2024-03-30T09:47:58.757Z"
   },
   {
    "duration": 6,
    "start_time": "2024-03-30T09:47:58.931Z"
   },
   {
    "duration": 8,
    "start_time": "2024-03-30T09:47:59.132Z"
   },
   {
    "duration": 6,
    "start_time": "2024-03-30T09:47:59.311Z"
   },
   {
    "duration": 124,
    "start_time": "2024-03-30T09:48:00.176Z"
   },
   {
    "duration": 130,
    "start_time": "2024-03-30T09:48:23.172Z"
   },
   {
    "duration": 131,
    "start_time": "2024-03-30T09:48:34.675Z"
   },
   {
    "duration": 25,
    "start_time": "2024-03-30T09:51:01.802Z"
   },
   {
    "duration": 12,
    "start_time": "2024-03-30T09:52:16.186Z"
   },
   {
    "duration": 169,
    "start_time": "2024-03-30T09:52:33.512Z"
   },
   {
    "duration": 19,
    "start_time": "2024-03-30T09:54:24.083Z"
   },
   {
    "duration": 13,
    "start_time": "2024-03-30T09:55:33.695Z"
   },
   {
    "duration": 143,
    "start_time": "2024-03-30T09:55:42.213Z"
   },
   {
    "duration": 12,
    "start_time": "2024-03-30T09:56:46.126Z"
   },
   {
    "duration": 14,
    "start_time": "2024-03-30T09:57:08.602Z"
   },
   {
    "duration": 83,
    "start_time": "2024-03-30T09:58:41.041Z"
   },
   {
    "duration": 54,
    "start_time": "2024-03-30T09:58:58.786Z"
   },
   {
    "duration": 48,
    "start_time": "2024-03-30T09:59:16.845Z"
   },
   {
    "duration": 88,
    "start_time": "2024-03-30T09:59:20.427Z"
   },
   {
    "duration": 79,
    "start_time": "2024-03-30T10:00:19.324Z"
   },
   {
    "duration": 81,
    "start_time": "2024-03-30T10:00:29.978Z"
   },
   {
    "duration": 5,
    "start_time": "2024-03-30T10:00:57.530Z"
   },
   {
    "duration": 8,
    "start_time": "2024-03-30T10:01:42.790Z"
   },
   {
    "duration": 18,
    "start_time": "2024-03-30T10:01:46.808Z"
   },
   {
    "duration": 12,
    "start_time": "2024-03-30T10:02:02.679Z"
   },
   {
    "duration": 10,
    "start_time": "2024-03-30T10:02:22.363Z"
   },
   {
    "duration": 54,
    "start_time": "2024-03-30T10:09:56.046Z"
   },
   {
    "duration": 92,
    "start_time": "2024-03-30T10:10:00.453Z"
   },
   {
    "duration": 80,
    "start_time": "2024-03-30T10:10:17.108Z"
   },
   {
    "duration": 79,
    "start_time": "2024-03-30T10:10:39.642Z"
   },
   {
    "duration": 87,
    "start_time": "2024-03-30T10:11:13.133Z"
   },
   {
    "duration": 80,
    "start_time": "2024-03-30T10:11:47.469Z"
   },
   {
    "duration": 83,
    "start_time": "2024-03-30T10:12:00.233Z"
   },
   {
    "duration": 84,
    "start_time": "2024-03-30T10:12:19.095Z"
   },
   {
    "duration": 134,
    "start_time": "2024-03-30T10:12:24.248Z"
   },
   {
    "duration": 77,
    "start_time": "2024-03-30T10:12:28.298Z"
   },
   {
    "duration": 80,
    "start_time": "2024-03-30T10:12:34.413Z"
   },
   {
    "duration": 123,
    "start_time": "2024-03-30T10:14:19.835Z"
   },
   {
    "duration": 130,
    "start_time": "2024-03-30T10:15:02.327Z"
   },
   {
    "duration": 122,
    "start_time": "2024-03-30T10:15:27.511Z"
   },
   {
    "duration": 51,
    "start_time": "2024-03-31T03:07:40.188Z"
   },
   {
    "duration": 873,
    "start_time": "2024-03-31T03:07:48.552Z"
   },
   {
    "duration": 71,
    "start_time": "2024-03-31T03:07:49.427Z"
   },
   {
    "duration": 12,
    "start_time": "2024-03-31T03:07:49.500Z"
   },
   {
    "duration": 13,
    "start_time": "2024-03-31T03:07:49.514Z"
   },
   {
    "duration": 89,
    "start_time": "2024-03-31T03:07:49.529Z"
   },
   {
    "duration": 8,
    "start_time": "2024-03-31T03:07:49.620Z"
   },
   {
    "duration": 43,
    "start_time": "2024-03-31T03:07:49.630Z"
   },
   {
    "duration": 65,
    "start_time": "2024-03-31T03:07:49.675Z"
   },
   {
    "duration": 7,
    "start_time": "2024-03-31T03:07:49.742Z"
   },
   {
    "duration": 14,
    "start_time": "2024-03-31T03:07:49.751Z"
   },
   {
    "duration": 13,
    "start_time": "2024-03-31T03:07:49.767Z"
   },
   {
    "duration": 5,
    "start_time": "2024-03-31T03:07:49.781Z"
   },
   {
    "duration": 25,
    "start_time": "2024-03-31T03:07:49.788Z"
   },
   {
    "duration": 18,
    "start_time": "2024-03-31T03:07:49.816Z"
   },
   {
    "duration": 10,
    "start_time": "2024-03-31T03:07:49.836Z"
   },
   {
    "duration": 8,
    "start_time": "2024-03-31T03:07:49.848Z"
   },
   {
    "duration": 39,
    "start_time": "2024-03-31T03:07:49.858Z"
   },
   {
    "duration": 11,
    "start_time": "2024-03-31T03:07:49.899Z"
   },
   {
    "duration": 6,
    "start_time": "2024-03-31T03:07:49.912Z"
   },
   {
    "duration": 7,
    "start_time": "2024-03-31T03:07:49.920Z"
   },
   {
    "duration": 13,
    "start_time": "2024-03-31T03:07:49.928Z"
   },
   {
    "duration": 6,
    "start_time": "2024-03-31T03:07:49.943Z"
   },
   {
    "duration": 190,
    "start_time": "2024-03-31T03:07:49.951Z"
   },
   {
    "duration": 13,
    "start_time": "2024-03-31T03:07:50.143Z"
   },
   {
    "duration": 107,
    "start_time": "2024-03-31T03:07:50.158Z"
   },
   {
    "duration": 152,
    "start_time": "2024-03-31T03:07:50.268Z"
   },
   {
    "duration": 119,
    "start_time": "2024-03-31T03:07:50.421Z"
   },
   {
    "duration": 6,
    "start_time": "2024-03-31T03:10:31.140Z"
   },
   {
    "duration": 13,
    "start_time": "2024-03-31T03:26:02.223Z"
   },
   {
    "duration": 11,
    "start_time": "2024-03-31T03:26:15.925Z"
   },
   {
    "duration": 13,
    "start_time": "2024-03-31T03:26:38.854Z"
   },
   {
    "duration": 15,
    "start_time": "2024-03-31T03:28:11.655Z"
   },
   {
    "duration": 106,
    "start_time": "2024-03-31T03:28:41.834Z"
   },
   {
    "duration": 14,
    "start_time": "2024-03-31T03:28:59.905Z"
   },
   {
    "duration": 10,
    "start_time": "2024-03-31T03:29:54.242Z"
   },
   {
    "duration": 9,
    "start_time": "2024-03-31T03:30:08.929Z"
   },
   {
    "duration": 9,
    "start_time": "2024-03-31T03:30:48.318Z"
   },
   {
    "duration": 289,
    "start_time": "2024-03-31T03:31:02.692Z"
   },
   {
    "duration": 7,
    "start_time": "2024-03-31T03:31:33.861Z"
   },
   {
    "duration": 9,
    "start_time": "2024-03-31T03:31:40.562Z"
   },
   {
    "duration": 72,
    "start_time": "2024-03-31T03:32:03.692Z"
   },
   {
    "duration": 188,
    "start_time": "2024-03-31T03:32:54.230Z"
   },
   {
    "duration": 153,
    "start_time": "2024-03-31T03:32:58.790Z"
   },
   {
    "duration": 142,
    "start_time": "2024-03-31T03:33:04.734Z"
   },
   {
    "duration": 158,
    "start_time": "2024-03-31T03:34:54.208Z"
   },
   {
    "duration": 224,
    "start_time": "2024-03-31T03:35:12.394Z"
   },
   {
    "duration": 172,
    "start_time": "2024-03-31T03:35:25.336Z"
   },
   {
    "duration": 179,
    "start_time": "2024-03-31T03:35:32.428Z"
   },
   {
    "duration": 100,
    "start_time": "2024-03-31T03:40:47.570Z"
   },
   {
    "duration": 101,
    "start_time": "2024-03-31T03:41:06.281Z"
   },
   {
    "duration": 107,
    "start_time": "2024-03-31T03:41:11.394Z"
   },
   {
    "duration": 156,
    "start_time": "2024-03-31T03:41:16.670Z"
   },
   {
    "duration": 165,
    "start_time": "2024-03-31T03:41:20.588Z"
   },
   {
    "duration": 86,
    "start_time": "2024-03-31T03:42:13.271Z"
   },
   {
    "duration": 60,
    "start_time": "2024-03-31T03:42:36.315Z"
   },
   {
    "duration": 93,
    "start_time": "2024-03-31T03:42:41.321Z"
   },
   {
    "duration": 141,
    "start_time": "2024-03-31T03:47:24.713Z"
   },
   {
    "duration": 173,
    "start_time": "2024-03-31T03:47:43.246Z"
   },
   {
    "duration": 146,
    "start_time": "2024-03-31T03:49:31.397Z"
   },
   {
    "duration": 177,
    "start_time": "2024-03-31T03:49:51.427Z"
   },
   {
    "duration": 163,
    "start_time": "2024-03-31T03:49:58.697Z"
   },
   {
    "duration": 80,
    "start_time": "2024-03-31T03:51:13.422Z"
   },
   {
    "duration": 153,
    "start_time": "2024-03-31T03:52:05.356Z"
   },
   {
    "duration": 173,
    "start_time": "2024-03-31T03:52:23.172Z"
   },
   {
    "duration": 162,
    "start_time": "2024-03-31T03:52:36.117Z"
   },
   {
    "duration": 258,
    "start_time": "2024-03-31T03:52:43.691Z"
   },
   {
    "duration": 11142,
    "start_time": "2024-03-31T03:55:43.063Z"
   },
   {
    "duration": 11514,
    "start_time": "2024-03-31T03:56:02.234Z"
   },
   {
    "duration": 59,
    "start_time": "2024-03-31T04:01:58.694Z"
   },
   {
    "duration": 56,
    "start_time": "2024-03-31T04:02:04.891Z"
   },
   {
    "duration": 57,
    "start_time": "2024-03-31T04:02:11.009Z"
   },
   {
    "duration": 57,
    "start_time": "2024-03-31T04:02:31.606Z"
   },
   {
    "duration": 156,
    "start_time": "2024-03-31T04:03:10.605Z"
   },
   {
    "duration": 152,
    "start_time": "2024-03-31T04:04:24.757Z"
   },
   {
    "duration": 187,
    "start_time": "2024-03-31T04:10:30.940Z"
   },
   {
    "duration": 222,
    "start_time": "2024-03-31T04:10:54.084Z"
   },
   {
    "duration": 190,
    "start_time": "2024-03-31T04:11:05.402Z"
   },
   {
    "duration": 178,
    "start_time": "2024-03-31T04:12:46.320Z"
   },
   {
    "duration": 195,
    "start_time": "2024-03-31T04:13:26.920Z"
   },
   {
    "duration": 61,
    "start_time": "2024-03-31T04:13:41.096Z"
   },
   {
    "duration": 194,
    "start_time": "2024-03-31T04:13:45.728Z"
   },
   {
    "duration": 298,
    "start_time": "2024-03-31T04:14:38.628Z"
   },
   {
    "duration": 193,
    "start_time": "2024-03-31T04:14:45.586Z"
   },
   {
    "duration": 155,
    "start_time": "2024-03-31T04:14:57.035Z"
   },
   {
    "duration": 240,
    "start_time": "2024-03-31T04:15:02.528Z"
   },
   {
    "duration": 105,
    "start_time": "2024-03-31T04:15:09.448Z"
   },
   {
    "duration": 186,
    "start_time": "2024-03-31T04:15:14.975Z"
   },
   {
    "duration": 212,
    "start_time": "2024-03-31T04:17:29.676Z"
   },
   {
    "duration": 196,
    "start_time": "2024-03-31T04:18:02.106Z"
   },
   {
    "duration": 184,
    "start_time": "2024-03-31T04:21:31.423Z"
   },
   {
    "duration": 184,
    "start_time": "2024-03-31T04:23:19.856Z"
   },
   {
    "duration": 193,
    "start_time": "2024-03-31T04:23:57.371Z"
   },
   {
    "duration": 292,
    "start_time": "2024-03-31T04:24:04.061Z"
   },
   {
    "duration": 233,
    "start_time": "2024-03-31T04:24:10.405Z"
   },
   {
    "duration": 234,
    "start_time": "2024-03-31T04:24:35.160Z"
   },
   {
    "duration": 303,
    "start_time": "2024-03-31T04:24:45.227Z"
   },
   {
    "duration": 13,
    "start_time": "2024-03-31T04:52:14.365Z"
   },
   {
    "duration": 139,
    "start_time": "2024-03-31T04:55:53.569Z"
   },
   {
    "duration": 170,
    "start_time": "2024-03-31T04:56:05.323Z"
   },
   {
    "duration": 316,
    "start_time": "2024-03-31T04:56:16.479Z"
   },
   {
    "duration": 295,
    "start_time": "2024-03-31T04:57:05.060Z"
   },
   {
    "duration": 1646,
    "start_time": "2024-03-31T04:57:40.800Z"
   },
   {
    "duration": 247,
    "start_time": "2024-03-31T04:57:49.557Z"
   },
   {
    "duration": 293,
    "start_time": "2024-03-31T04:57:55.877Z"
   },
   {
    "duration": 199,
    "start_time": "2024-03-31T04:58:40.984Z"
   },
   {
    "duration": 276,
    "start_time": "2024-03-31T04:58:46.800Z"
   },
   {
    "duration": 189,
    "start_time": "2024-03-31T05:16:45.346Z"
   },
   {
    "duration": 175,
    "start_time": "2024-03-31T05:17:07.098Z"
   },
   {
    "duration": 200,
    "start_time": "2024-03-31T05:17:13.032Z"
   },
   {
    "duration": 501,
    "start_time": "2024-03-31T05:17:22.661Z"
   },
   {
    "duration": 211,
    "start_time": "2024-03-31T05:18:21.844Z"
   },
   {
    "duration": 181,
    "start_time": "2024-03-31T05:18:30.401Z"
   },
   {
    "duration": 93,
    "start_time": "2024-04-05T07:42:17.132Z"
   },
   {
    "duration": 82,
    "start_time": "2024-04-05T08:07:28.620Z"
   },
   {
    "duration": 1257,
    "start_time": "2024-04-06T10:27:44.646Z"
   },
   {
    "duration": 100,
    "start_time": "2024-04-06T10:27:45.905Z"
   },
   {
    "duration": 12,
    "start_time": "2024-04-06T10:27:46.006Z"
   },
   {
    "duration": 19,
    "start_time": "2024-04-06T10:27:46.019Z"
   },
   {
    "duration": 150,
    "start_time": "2024-04-06T10:27:46.039Z"
   },
   {
    "duration": 8,
    "start_time": "2024-04-06T10:27:46.190Z"
   },
   {
    "duration": 34,
    "start_time": "2024-04-06T10:27:46.200Z"
   },
   {
    "duration": 104,
    "start_time": "2024-04-06T10:27:46.236Z"
   },
   {
    "duration": 8,
    "start_time": "2024-04-06T10:27:46.342Z"
   },
   {
    "duration": 16,
    "start_time": "2024-04-06T10:27:46.353Z"
   },
   {
    "duration": 18,
    "start_time": "2024-04-06T10:27:46.370Z"
   },
   {
    "duration": 6,
    "start_time": "2024-04-06T10:27:46.389Z"
   },
   {
    "duration": 6,
    "start_time": "2024-04-06T10:27:46.396Z"
   },
   {
    "duration": 9,
    "start_time": "2024-04-06T10:27:46.403Z"
   },
   {
    "duration": 10,
    "start_time": "2024-04-06T10:27:46.414Z"
   },
   {
    "duration": 15,
    "start_time": "2024-04-06T10:27:46.425Z"
   },
   {
    "duration": 6,
    "start_time": "2024-04-06T10:27:46.442Z"
   },
   {
    "duration": 12,
    "start_time": "2024-04-06T10:27:46.450Z"
   },
   {
    "duration": 14,
    "start_time": "2024-04-06T10:27:46.463Z"
   },
   {
    "duration": 13,
    "start_time": "2024-04-06T10:27:46.479Z"
   },
   {
    "duration": 10,
    "start_time": "2024-04-06T10:27:46.493Z"
   },
   {
    "duration": 4,
    "start_time": "2024-04-06T10:27:46.504Z"
   },
   {
    "duration": 231,
    "start_time": "2024-04-06T10:27:46.510Z"
   },
   {
    "duration": 0,
    "start_time": "2024-04-06T10:27:46.743Z"
   },
   {
    "duration": 0,
    "start_time": "2024-04-06T10:27:46.744Z"
   },
   {
    "duration": 0,
    "start_time": "2024-04-06T10:27:46.745Z"
   },
   {
    "duration": 0,
    "start_time": "2024-04-06T10:27:46.746Z"
   },
   {
    "duration": 0,
    "start_time": "2024-04-06T10:27:46.747Z"
   },
   {
    "duration": 0,
    "start_time": "2024-04-06T10:27:46.748Z"
   },
   {
    "duration": 0,
    "start_time": "2024-04-06T10:27:46.749Z"
   },
   {
    "duration": 0,
    "start_time": "2024-04-06T10:27:46.750Z"
   },
   {
    "duration": 0,
    "start_time": "2024-04-06T10:27:46.751Z"
   },
   {
    "duration": 0,
    "start_time": "2024-04-06T10:27:46.752Z"
   },
   {
    "duration": 0,
    "start_time": "2024-04-06T10:27:46.753Z"
   },
   {
    "duration": 0,
    "start_time": "2024-04-06T10:27:46.754Z"
   },
   {
    "duration": 0,
    "start_time": "2024-04-06T10:27:46.755Z"
   },
   {
    "duration": 0,
    "start_time": "2024-04-06T10:27:46.755Z"
   },
   {
    "duration": 0,
    "start_time": "2024-04-06T10:27:46.756Z"
   },
   {
    "duration": 0,
    "start_time": "2024-04-06T10:27:46.757Z"
   },
   {
    "duration": 0,
    "start_time": "2024-04-06T10:27:46.758Z"
   },
   {
    "duration": 0,
    "start_time": "2024-04-06T10:27:46.759Z"
   },
   {
    "duration": 0,
    "start_time": "2024-04-06T10:27:46.760Z"
   },
   {
    "duration": 0,
    "start_time": "2024-04-06T10:27:46.794Z"
   },
   {
    "duration": 0,
    "start_time": "2024-04-06T10:27:46.795Z"
   },
   {
    "duration": 1,
    "start_time": "2024-04-06T10:27:46.795Z"
   },
   {
    "duration": 0,
    "start_time": "2024-04-06T10:27:46.796Z"
   },
   {
    "duration": 0,
    "start_time": "2024-04-06T10:27:46.798Z"
   },
   {
    "duration": 0,
    "start_time": "2024-04-06T10:27:46.798Z"
   },
   {
    "duration": 0,
    "start_time": "2024-04-06T10:27:46.799Z"
   },
   {
    "duration": 0,
    "start_time": "2024-04-06T10:27:46.800Z"
   },
   {
    "duration": 0,
    "start_time": "2024-04-06T10:27:46.801Z"
   },
   {
    "duration": 0,
    "start_time": "2024-04-06T10:27:46.802Z"
   },
   {
    "duration": 0,
    "start_time": "2024-04-06T10:27:46.803Z"
   },
   {
    "duration": 0,
    "start_time": "2024-04-06T10:27:46.804Z"
   },
   {
    "duration": 0,
    "start_time": "2024-04-06T10:27:46.805Z"
   },
   {
    "duration": 0,
    "start_time": "2024-04-06T10:27:46.806Z"
   },
   {
    "duration": 0,
    "start_time": "2024-04-06T10:27:46.807Z"
   },
   {
    "duration": 1110,
    "start_time": "2024-04-06T10:31:31.077Z"
   },
   {
    "duration": 28,
    "start_time": "2024-04-06T10:31:32.188Z"
   },
   {
    "duration": 166,
    "start_time": "2024-04-06T10:31:32.217Z"
   },
   {
    "duration": 193,
    "start_time": "2024-04-06T10:31:32.385Z"
   },
   {
    "duration": 300,
    "start_time": "2024-04-06T10:31:32.579Z"
   },
   {
    "duration": 73,
    "start_time": "2024-04-06T10:31:32.880Z"
   },
   {
    "duration": 42,
    "start_time": "2024-04-06T10:31:32.955Z"
   },
   {
    "duration": 88,
    "start_time": "2024-04-06T10:31:32.999Z"
   },
   {
    "duration": 179,
    "start_time": "2024-04-06T10:31:33.089Z"
   },
   {
    "duration": 164,
    "start_time": "2024-04-06T10:31:33.270Z"
   },
   {
    "duration": 54,
    "start_time": "2024-04-06T10:31:33.436Z"
   },
   {
    "duration": 37,
    "start_time": "2024-04-06T10:31:33.491Z"
   },
   {
    "duration": 28,
    "start_time": "2024-04-06T10:31:33.530Z"
   },
   {
    "duration": 13,
    "start_time": "2024-04-06T10:31:33.559Z"
   },
   {
    "duration": 35,
    "start_time": "2024-04-06T10:31:33.573Z"
   },
   {
    "duration": 119,
    "start_time": "2024-04-06T10:31:33.609Z"
   },
   {
    "duration": 34,
    "start_time": "2024-04-06T10:31:33.730Z"
   },
   {
    "duration": 37,
    "start_time": "2024-04-06T10:31:33.765Z"
   },
   {
    "duration": 19,
    "start_time": "2024-04-06T10:31:33.804Z"
   },
   {
    "duration": 17,
    "start_time": "2024-04-06T10:31:33.824Z"
   },
   {
    "duration": 50,
    "start_time": "2024-04-06T10:31:33.842Z"
   },
   {
    "duration": 7,
    "start_time": "2024-04-06T10:31:33.894Z"
   },
   {
    "duration": 246,
    "start_time": "2024-04-06T10:31:33.902Z"
   },
   {
    "duration": 0,
    "start_time": "2024-04-06T10:31:34.150Z"
   },
   {
    "duration": 0,
    "start_time": "2024-04-06T10:31:34.151Z"
   },
   {
    "duration": 0,
    "start_time": "2024-04-06T10:31:34.152Z"
   },
   {
    "duration": 0,
    "start_time": "2024-04-06T10:31:34.153Z"
   },
   {
    "duration": 0,
    "start_time": "2024-04-06T10:31:34.154Z"
   },
   {
    "duration": 0,
    "start_time": "2024-04-06T10:31:34.155Z"
   },
   {
    "duration": 0,
    "start_time": "2024-04-06T10:31:34.156Z"
   },
   {
    "duration": 0,
    "start_time": "2024-04-06T10:31:34.157Z"
   },
   {
    "duration": 0,
    "start_time": "2024-04-06T10:31:34.158Z"
   },
   {
    "duration": 0,
    "start_time": "2024-04-06T10:31:34.159Z"
   },
   {
    "duration": 0,
    "start_time": "2024-04-06T10:31:34.159Z"
   },
   {
    "duration": 0,
    "start_time": "2024-04-06T10:31:34.160Z"
   },
   {
    "duration": 0,
    "start_time": "2024-04-06T10:31:34.161Z"
   },
   {
    "duration": 0,
    "start_time": "2024-04-06T10:31:34.162Z"
   },
   {
    "duration": 0,
    "start_time": "2024-04-06T10:31:34.163Z"
   },
   {
    "duration": 0,
    "start_time": "2024-04-06T10:31:34.164Z"
   },
   {
    "duration": 0,
    "start_time": "2024-04-06T10:31:34.165Z"
   },
   {
    "duration": 0,
    "start_time": "2024-04-06T10:31:34.166Z"
   },
   {
    "duration": 0,
    "start_time": "2024-04-06T10:31:34.167Z"
   },
   {
    "duration": 0,
    "start_time": "2024-04-06T10:31:34.194Z"
   },
   {
    "duration": 0,
    "start_time": "2024-04-06T10:31:34.195Z"
   },
   {
    "duration": 0,
    "start_time": "2024-04-06T10:31:34.196Z"
   },
   {
    "duration": 0,
    "start_time": "2024-04-06T10:31:34.197Z"
   },
   {
    "duration": 0,
    "start_time": "2024-04-06T10:31:34.198Z"
   },
   {
    "duration": 0,
    "start_time": "2024-04-06T10:31:34.199Z"
   },
   {
    "duration": 0,
    "start_time": "2024-04-06T10:31:34.200Z"
   },
   {
    "duration": 0,
    "start_time": "2024-04-06T10:31:34.201Z"
   },
   {
    "duration": 0,
    "start_time": "2024-04-06T10:31:34.202Z"
   },
   {
    "duration": 0,
    "start_time": "2024-04-06T10:31:34.202Z"
   },
   {
    "duration": 0,
    "start_time": "2024-04-06T10:31:34.203Z"
   },
   {
    "duration": 0,
    "start_time": "2024-04-06T10:31:34.204Z"
   },
   {
    "duration": 0,
    "start_time": "2024-04-06T10:31:34.205Z"
   },
   {
    "duration": 0,
    "start_time": "2024-04-06T10:31:34.206Z"
   },
   {
    "duration": 0,
    "start_time": "2024-04-06T10:31:34.207Z"
   },
   {
    "duration": 126,
    "start_time": "2024-04-06T10:32:42.392Z"
   },
   {
    "duration": 128,
    "start_time": "2024-04-06T10:33:27.555Z"
   },
   {
    "duration": 154,
    "start_time": "2024-04-06T10:33:34.888Z"
   },
   {
    "duration": 172,
    "start_time": "2024-04-06T10:33:47.947Z"
   },
   {
    "duration": 1082,
    "start_time": "2024-04-06T10:34:16.214Z"
   },
   {
    "duration": 28,
    "start_time": "2024-04-06T10:34:17.298Z"
   },
   {
    "duration": 12,
    "start_time": "2024-04-06T10:34:17.328Z"
   },
   {
    "duration": 12,
    "start_time": "2024-04-06T10:34:17.343Z"
   },
   {
    "duration": 32,
    "start_time": "2024-04-06T10:34:17.356Z"
   },
   {
    "duration": 8,
    "start_time": "2024-04-06T10:34:17.390Z"
   },
   {
    "duration": 33,
    "start_time": "2024-04-06T10:34:17.400Z"
   },
   {
    "duration": 24,
    "start_time": "2024-04-06T10:34:17.434Z"
   },
   {
    "duration": 7,
    "start_time": "2024-04-06T10:34:17.460Z"
   },
   {
    "duration": 15,
    "start_time": "2024-04-06T10:34:17.469Z"
   },
   {
    "duration": 17,
    "start_time": "2024-04-06T10:34:17.486Z"
   },
   {
    "duration": 25,
    "start_time": "2024-04-06T10:34:17.504Z"
   },
   {
    "duration": 25,
    "start_time": "2024-04-06T10:34:17.531Z"
   },
   {
    "duration": 9,
    "start_time": "2024-04-06T10:34:17.558Z"
   },
   {
    "duration": 31,
    "start_time": "2024-04-06T10:34:17.569Z"
   },
   {
    "duration": 14,
    "start_time": "2024-04-06T10:34:17.601Z"
   },
   {
    "duration": 9,
    "start_time": "2024-04-06T10:34:17.616Z"
   },
   {
    "duration": 22,
    "start_time": "2024-04-06T10:34:17.627Z"
   },
   {
    "duration": 4,
    "start_time": "2024-04-06T10:34:17.651Z"
   },
   {
    "duration": 6,
    "start_time": "2024-04-06T10:34:17.657Z"
   },
   {
    "duration": 12,
    "start_time": "2024-04-06T10:34:17.665Z"
   },
   {
    "duration": 13,
    "start_time": "2024-04-06T10:34:17.678Z"
   },
   {
    "duration": 88,
    "start_time": "2024-04-06T10:34:17.692Z"
   },
   {
    "duration": 0,
    "start_time": "2024-04-06T10:34:17.782Z"
   },
   {
    "duration": 0,
    "start_time": "2024-04-06T10:34:17.783Z"
   },
   {
    "duration": 0,
    "start_time": "2024-04-06T10:34:17.784Z"
   },
   {
    "duration": 0,
    "start_time": "2024-04-06T10:34:17.785Z"
   },
   {
    "duration": 0,
    "start_time": "2024-04-06T10:34:17.786Z"
   },
   {
    "duration": 0,
    "start_time": "2024-04-06T10:34:17.787Z"
   },
   {
    "duration": 0,
    "start_time": "2024-04-06T10:34:17.788Z"
   },
   {
    "duration": 0,
    "start_time": "2024-04-06T10:34:17.789Z"
   },
   {
    "duration": 0,
    "start_time": "2024-04-06T10:34:17.791Z"
   },
   {
    "duration": 0,
    "start_time": "2024-04-06T10:34:17.792Z"
   },
   {
    "duration": 0,
    "start_time": "2024-04-06T10:34:17.793Z"
   },
   {
    "duration": 0,
    "start_time": "2024-04-06T10:34:17.794Z"
   },
   {
    "duration": 0,
    "start_time": "2024-04-06T10:34:17.795Z"
   },
   {
    "duration": 0,
    "start_time": "2024-04-06T10:34:17.796Z"
   },
   {
    "duration": 0,
    "start_time": "2024-04-06T10:34:17.797Z"
   },
   {
    "duration": 0,
    "start_time": "2024-04-06T10:34:17.798Z"
   },
   {
    "duration": 0,
    "start_time": "2024-04-06T10:34:17.799Z"
   },
   {
    "duration": 0,
    "start_time": "2024-04-06T10:34:17.800Z"
   },
   {
    "duration": 0,
    "start_time": "2024-04-06T10:34:17.801Z"
   },
   {
    "duration": 0,
    "start_time": "2024-04-06T10:34:17.802Z"
   },
   {
    "duration": 0,
    "start_time": "2024-04-06T10:34:17.803Z"
   },
   {
    "duration": 0,
    "start_time": "2024-04-06T10:34:17.804Z"
   },
   {
    "duration": 0,
    "start_time": "2024-04-06T10:34:17.805Z"
   },
   {
    "duration": 0,
    "start_time": "2024-04-06T10:34:17.806Z"
   },
   {
    "duration": 0,
    "start_time": "2024-04-06T10:34:17.807Z"
   },
   {
    "duration": 0,
    "start_time": "2024-04-06T10:34:17.808Z"
   },
   {
    "duration": 0,
    "start_time": "2024-04-06T10:34:17.809Z"
   },
   {
    "duration": 0,
    "start_time": "2024-04-06T10:34:17.810Z"
   },
   {
    "duration": 0,
    "start_time": "2024-04-06T10:34:17.811Z"
   },
   {
    "duration": 0,
    "start_time": "2024-04-06T10:34:17.812Z"
   },
   {
    "duration": 0,
    "start_time": "2024-04-06T10:34:17.813Z"
   },
   {
    "duration": 0,
    "start_time": "2024-04-06T10:34:17.814Z"
   },
   {
    "duration": 0,
    "start_time": "2024-04-06T10:34:17.815Z"
   },
   {
    "duration": 0,
    "start_time": "2024-04-06T10:34:17.816Z"
   },
   {
    "duration": 215,
    "start_time": "2024-04-06T10:35:11.038Z"
   },
   {
    "duration": 181,
    "start_time": "2024-04-06T10:35:33.293Z"
   },
   {
    "duration": 233,
    "start_time": "2024-04-06T10:36:25.326Z"
   },
   {
    "duration": 179,
    "start_time": "2024-04-06T10:37:15.898Z"
   },
   {
    "duration": 123,
    "start_time": "2024-04-06T10:38:07.361Z"
   },
   {
    "duration": 106,
    "start_time": "2024-04-06T10:38:31.534Z"
   },
   {
    "duration": 130,
    "start_time": "2024-04-06T10:39:28.494Z"
   },
   {
    "duration": 125,
    "start_time": "2024-04-06T10:39:40.507Z"
   },
   {
    "duration": 192,
    "start_time": "2024-04-06T10:40:20.160Z"
   },
   {
    "duration": 132,
    "start_time": "2024-04-06T10:41:03.749Z"
   },
   {
    "duration": 108,
    "start_time": "2024-04-06T10:41:18.548Z"
   },
   {
    "duration": 156,
    "start_time": "2024-04-06T10:41:43.233Z"
   },
   {
    "duration": 161,
    "start_time": "2024-04-06T10:41:53.727Z"
   },
   {
    "duration": 1046,
    "start_time": "2024-04-06T10:47:03.045Z"
   },
   {
    "duration": 27,
    "start_time": "2024-04-06T10:47:04.093Z"
   },
   {
    "duration": 14,
    "start_time": "2024-04-06T10:47:04.122Z"
   },
   {
    "duration": 78,
    "start_time": "2024-04-06T10:47:04.138Z"
   },
   {
    "duration": 95,
    "start_time": "2024-04-06T10:47:04.218Z"
   },
   {
    "duration": 8,
    "start_time": "2024-04-06T10:47:04.315Z"
   },
   {
    "duration": 25,
    "start_time": "2024-04-06T10:47:04.325Z"
   },
   {
    "duration": 16,
    "start_time": "2024-04-06T10:47:04.352Z"
   },
   {
    "duration": 24,
    "start_time": "2024-04-06T10:47:04.369Z"
   },
   {
    "duration": 21,
    "start_time": "2024-04-06T10:47:04.396Z"
   },
   {
    "duration": 81,
    "start_time": "2024-04-06T10:47:04.418Z"
   },
   {
    "duration": 28,
    "start_time": "2024-04-06T10:47:04.500Z"
   },
   {
    "duration": 76,
    "start_time": "2024-04-06T10:47:04.530Z"
   },
   {
    "duration": 19,
    "start_time": "2024-04-06T10:47:04.607Z"
   },
   {
    "duration": 28,
    "start_time": "2024-04-06T10:47:04.627Z"
   },
   {
    "duration": 27,
    "start_time": "2024-04-06T10:47:04.657Z"
   },
   {
    "duration": 18,
    "start_time": "2024-04-06T10:47:04.685Z"
   },
   {
    "duration": 9,
    "start_time": "2024-04-06T10:47:04.704Z"
   },
   {
    "duration": 18,
    "start_time": "2024-04-06T10:47:04.714Z"
   },
   {
    "duration": 15,
    "start_time": "2024-04-06T10:47:04.734Z"
   },
   {
    "duration": 55,
    "start_time": "2024-04-06T10:47:04.750Z"
   },
   {
    "duration": 6,
    "start_time": "2024-04-06T10:47:04.807Z"
   },
   {
    "duration": 203,
    "start_time": "2024-04-06T10:47:04.814Z"
   },
   {
    "duration": 81,
    "start_time": "2024-04-06T10:47:05.018Z"
   },
   {
    "duration": 172,
    "start_time": "2024-04-06T10:47:05.101Z"
   },
   {
    "duration": 120,
    "start_time": "2024-04-06T10:47:05.275Z"
   },
   {
    "duration": 8,
    "start_time": "2024-04-06T10:47:05.396Z"
   },
   {
    "duration": 304,
    "start_time": "2024-04-06T10:47:05.408Z"
   },
   {
    "duration": 142,
    "start_time": "2024-04-06T10:47:05.713Z"
   },
   {
    "duration": 7,
    "start_time": "2024-04-06T10:47:05.857Z"
   },
   {
    "duration": 24,
    "start_time": "2024-04-06T10:47:05.866Z"
   },
   {
    "duration": 360,
    "start_time": "2024-04-06T10:47:05.893Z"
   },
   {
    "duration": 134,
    "start_time": "2024-04-06T10:47:06.255Z"
   },
   {
    "duration": 9,
    "start_time": "2024-04-06T10:47:06.391Z"
   },
   {
    "duration": 12,
    "start_time": "2024-04-06T10:47:06.401Z"
   },
   {
    "duration": 22,
    "start_time": "2024-04-06T10:47:06.414Z"
   },
   {
    "duration": 15,
    "start_time": "2024-04-06T10:47:06.437Z"
   },
   {
    "duration": 46,
    "start_time": "2024-04-06T10:47:06.453Z"
   },
   {
    "duration": 16,
    "start_time": "2024-04-06T10:47:06.501Z"
   },
   {
    "duration": 27,
    "start_time": "2024-04-06T10:47:06.519Z"
   },
   {
    "duration": 28,
    "start_time": "2024-04-06T10:47:06.547Z"
   },
   {
    "duration": 20,
    "start_time": "2024-04-06T10:47:06.577Z"
   },
   {
    "duration": 20,
    "start_time": "2024-04-06T10:47:06.598Z"
   },
   {
    "duration": 280,
    "start_time": "2024-04-06T10:47:06.620Z"
   },
   {
    "duration": 271,
    "start_time": "2024-04-06T10:47:06.901Z"
   },
   {
    "duration": 4,
    "start_time": "2024-04-06T10:47:07.174Z"
   },
   {
    "duration": 819,
    "start_time": "2024-04-06T10:47:07.179Z"
   },
   {
    "duration": 7,
    "start_time": "2024-04-06T10:47:08.000Z"
   },
   {
    "duration": 8,
    "start_time": "2024-04-06T10:47:08.009Z"
   },
   {
    "duration": 211,
    "start_time": "2024-04-06T10:47:08.018Z"
   },
   {
    "duration": 6,
    "start_time": "2024-04-06T10:47:08.231Z"
   },
   {
    "duration": 5,
    "start_time": "2024-04-06T10:47:08.238Z"
   },
   {
    "duration": 10,
    "start_time": "2024-04-06T10:47:08.244Z"
   },
   {
    "duration": 154,
    "start_time": "2024-04-06T10:47:08.255Z"
   },
   {
    "duration": 315,
    "start_time": "2024-04-06T10:47:08.410Z"
   },
   {
    "duration": 5,
    "start_time": "2024-04-06T10:47:08.726Z"
   },
   {
    "duration": 321,
    "start_time": "2024-04-06T10:47:08.732Z"
   },
   {
    "duration": 184,
    "start_time": "2024-04-06T10:47:46.519Z"
   },
   {
    "duration": 263,
    "start_time": "2024-04-06T10:47:53.671Z"
   },
   {
    "duration": 190,
    "start_time": "2024-04-06T10:48:00.834Z"
   },
   {
    "duration": 1090,
    "start_time": "2024-08-13T09:31:49.725Z"
   },
   {
    "duration": 74,
    "start_time": "2024-08-13T09:31:50.816Z"
   },
   {
    "duration": 10,
    "start_time": "2024-08-13T09:31:50.892Z"
   },
   {
    "duration": 19,
    "start_time": "2024-08-13T09:31:50.904Z"
   },
   {
    "duration": 157,
    "start_time": "2024-08-13T09:31:50.924Z"
   },
   {
    "duration": 8,
    "start_time": "2024-08-13T09:31:51.083Z"
   },
   {
    "duration": 18,
    "start_time": "2024-08-13T09:31:51.093Z"
   },
   {
    "duration": 70,
    "start_time": "2024-08-13T09:31:51.113Z"
   },
   {
    "duration": 7,
    "start_time": "2024-08-13T09:31:51.184Z"
   },
   {
    "duration": 16,
    "start_time": "2024-08-13T09:31:51.194Z"
   },
   {
    "duration": 57,
    "start_time": "2024-08-13T09:31:51.211Z"
   },
   {
    "duration": 14,
    "start_time": "2024-08-13T09:31:51.270Z"
   },
   {
    "duration": 18,
    "start_time": "2024-08-13T09:31:51.285Z"
   },
   {
    "duration": 23,
    "start_time": "2024-08-13T09:31:51.305Z"
   },
   {
    "duration": 62,
    "start_time": "2024-08-13T09:31:51.329Z"
   },
   {
    "duration": 25,
    "start_time": "2024-08-13T09:31:51.393Z"
   },
   {
    "duration": 167,
    "start_time": "2024-08-13T09:31:51.420Z"
   },
   {
    "duration": 106,
    "start_time": "2024-08-13T09:31:51.588Z"
   },
   {
    "duration": 16,
    "start_time": "2024-08-13T09:31:51.696Z"
   },
   {
    "duration": 10,
    "start_time": "2024-08-13T09:31:51.714Z"
   },
   {
    "duration": 19,
    "start_time": "2024-08-13T09:31:51.725Z"
   },
   {
    "duration": 22,
    "start_time": "2024-08-13T09:31:51.746Z"
   },
   {
    "duration": 204,
    "start_time": "2024-08-13T09:31:51.769Z"
   },
   {
    "duration": 83,
    "start_time": "2024-08-13T09:31:51.975Z"
   },
   {
    "duration": 160,
    "start_time": "2024-08-13T09:31:52.059Z"
   },
   {
    "duration": 114,
    "start_time": "2024-08-13T09:31:52.221Z"
   },
   {
    "duration": 7,
    "start_time": "2024-08-13T09:31:52.336Z"
   },
   {
    "duration": 312,
    "start_time": "2024-08-13T09:31:52.346Z"
   },
   {
    "duration": 120,
    "start_time": "2024-08-13T09:31:52.660Z"
   },
   {
    "duration": 7,
    "start_time": "2024-08-13T09:31:52.781Z"
   },
   {
    "duration": 11,
    "start_time": "2024-08-13T09:31:52.801Z"
   },
   {
    "duration": 326,
    "start_time": "2024-08-13T09:31:52.813Z"
   },
   {
    "duration": 134,
    "start_time": "2024-08-13T09:31:53.140Z"
   },
   {
    "duration": 7,
    "start_time": "2024-08-13T09:31:53.276Z"
   },
   {
    "duration": 32,
    "start_time": "2024-08-13T09:31:53.285Z"
   },
   {
    "duration": 24,
    "start_time": "2024-08-13T09:31:53.319Z"
   },
   {
    "duration": 26,
    "start_time": "2024-08-13T09:31:53.345Z"
   },
   {
    "duration": 33,
    "start_time": "2024-08-13T09:31:53.372Z"
   },
   {
    "duration": 16,
    "start_time": "2024-08-13T09:31:53.406Z"
   },
   {
    "duration": 165,
    "start_time": "2024-08-13T09:31:53.423Z"
   },
   {
    "duration": 151,
    "start_time": "2024-08-13T09:31:53.590Z"
   },
   {
    "duration": 23,
    "start_time": "2024-08-13T09:31:53.742Z"
   },
   {
    "duration": 9,
    "start_time": "2024-08-13T09:31:53.767Z"
   },
   {
    "duration": 276,
    "start_time": "2024-08-13T09:31:53.777Z"
   },
   {
    "duration": 253,
    "start_time": "2024-08-13T09:31:54.054Z"
   },
   {
    "duration": 3,
    "start_time": "2024-08-13T09:31:54.309Z"
   },
   {
    "duration": 908,
    "start_time": "2024-08-13T09:31:54.313Z"
   },
   {
    "duration": 297,
    "start_time": "2024-08-13T09:31:55.223Z"
   },
   {
    "duration": 0,
    "start_time": "2024-08-13T09:31:55.521Z"
   },
   {
    "duration": 0,
    "start_time": "2024-08-13T09:31:55.522Z"
   },
   {
    "duration": 0,
    "start_time": "2024-08-13T09:31:55.523Z"
   },
   {
    "duration": 0,
    "start_time": "2024-08-13T09:31:55.524Z"
   },
   {
    "duration": 0,
    "start_time": "2024-08-13T09:31:55.525Z"
   },
   {
    "duration": 0,
    "start_time": "2024-08-13T09:31:55.526Z"
   },
   {
    "duration": 0,
    "start_time": "2024-08-13T09:31:55.526Z"
   },
   {
    "duration": 0,
    "start_time": "2024-08-13T09:31:55.527Z"
   },
   {
    "duration": 0,
    "start_time": "2024-08-13T09:31:55.528Z"
   },
   {
    "duration": 1023,
    "start_time": "2024-08-13T09:32:19.448Z"
   },
   {
    "duration": 29,
    "start_time": "2024-08-13T09:32:20.473Z"
   },
   {
    "duration": 19,
    "start_time": "2024-08-13T09:32:20.504Z"
   },
   {
    "duration": 27,
    "start_time": "2024-08-13T09:32:20.525Z"
   },
   {
    "duration": 48,
    "start_time": "2024-08-13T09:32:20.553Z"
   },
   {
    "duration": 7,
    "start_time": "2024-08-13T09:32:20.603Z"
   },
   {
    "duration": 39,
    "start_time": "2024-08-13T09:32:20.611Z"
   },
   {
    "duration": 44,
    "start_time": "2024-08-13T09:32:20.651Z"
   },
   {
    "duration": 82,
    "start_time": "2024-08-13T09:32:20.696Z"
   },
   {
    "duration": 24,
    "start_time": "2024-08-13T09:32:20.781Z"
   },
   {
    "duration": 44,
    "start_time": "2024-08-13T09:32:20.807Z"
   },
   {
    "duration": 11,
    "start_time": "2024-08-13T09:32:20.852Z"
   },
   {
    "duration": 44,
    "start_time": "2024-08-13T09:32:20.865Z"
   },
   {
    "duration": 119,
    "start_time": "2024-08-13T09:32:20.911Z"
   },
   {
    "duration": 26,
    "start_time": "2024-08-13T09:32:21.031Z"
   },
   {
    "duration": 18,
    "start_time": "2024-08-13T09:32:21.058Z"
   },
   {
    "duration": 26,
    "start_time": "2024-08-13T09:32:21.077Z"
   },
   {
    "duration": 8,
    "start_time": "2024-08-13T09:32:21.105Z"
   },
   {
    "duration": 25,
    "start_time": "2024-08-13T09:32:21.114Z"
   },
   {
    "duration": 16,
    "start_time": "2024-08-13T09:32:21.140Z"
   },
   {
    "duration": 28,
    "start_time": "2024-08-13T09:32:21.157Z"
   },
   {
    "duration": 13,
    "start_time": "2024-08-13T09:32:21.186Z"
   },
   {
    "duration": 214,
    "start_time": "2024-08-13T09:32:21.201Z"
   },
   {
    "duration": 71,
    "start_time": "2024-08-13T09:32:21.417Z"
   },
   {
    "duration": 320,
    "start_time": "2024-08-13T09:32:21.490Z"
   },
   {
    "duration": 111,
    "start_time": "2024-08-13T09:32:21.811Z"
   },
   {
    "duration": 7,
    "start_time": "2024-08-13T09:32:21.923Z"
   },
   {
    "duration": 287,
    "start_time": "2024-08-13T09:32:21.933Z"
   },
   {
    "duration": 120,
    "start_time": "2024-08-13T09:32:22.222Z"
   },
   {
    "duration": 7,
    "start_time": "2024-08-13T09:32:22.343Z"
   },
   {
    "duration": 19,
    "start_time": "2024-08-13T09:32:22.351Z"
   },
   {
    "duration": 337,
    "start_time": "2024-08-13T09:32:22.371Z"
   },
   {
    "duration": 125,
    "start_time": "2024-08-13T09:32:22.709Z"
   },
   {
    "duration": 8,
    "start_time": "2024-08-13T09:32:22.836Z"
   },
   {
    "duration": 25,
    "start_time": "2024-08-13T09:32:22.845Z"
   },
   {
    "duration": 32,
    "start_time": "2024-08-13T09:32:22.871Z"
   },
   {
    "duration": 13,
    "start_time": "2024-08-13T09:32:22.904Z"
   },
   {
    "duration": 33,
    "start_time": "2024-08-13T09:32:22.918Z"
   },
   {
    "duration": 14,
    "start_time": "2024-08-13T09:32:22.953Z"
   },
   {
    "duration": 99,
    "start_time": "2024-08-13T09:32:22.969Z"
   },
   {
    "duration": 5,
    "start_time": "2024-08-13T09:32:23.070Z"
   },
   {
    "duration": 21,
    "start_time": "2024-08-13T09:32:23.076Z"
   },
   {
    "duration": 21,
    "start_time": "2024-08-13T09:32:23.099Z"
   },
   {
    "duration": 277,
    "start_time": "2024-08-13T09:32:23.121Z"
   },
   {
    "duration": 245,
    "start_time": "2024-08-13T09:32:23.400Z"
   },
   {
    "duration": 4,
    "start_time": "2024-08-13T09:32:23.647Z"
   },
   {
    "duration": 903,
    "start_time": "2024-08-13T09:32:23.653Z"
   },
   {
    "duration": 3,
    "start_time": "2024-08-13T09:32:24.558Z"
   },
   {
    "duration": 200,
    "start_time": "2024-08-13T09:32:24.562Z"
   },
   {
    "duration": 6,
    "start_time": "2024-08-13T09:32:24.763Z"
   },
   {
    "duration": 15,
    "start_time": "2024-08-13T09:32:24.770Z"
   },
   {
    "duration": 17,
    "start_time": "2024-08-13T09:32:24.786Z"
   },
   {
    "duration": 121,
    "start_time": "2024-08-13T09:32:24.804Z"
   },
   {
    "duration": 296,
    "start_time": "2024-08-13T09:32:24.926Z"
   },
   {
    "duration": 5,
    "start_time": "2024-08-13T09:32:25.223Z"
   },
   {
    "duration": 348,
    "start_time": "2024-08-13T09:32:25.230Z"
   }
  ],
  "kernelspec": {
   "display_name": "Python 3 (ipykernel)",
   "language": "python",
   "name": "python3"
  },
  "language_info": {
   "codemirror_mode": {
    "name": "ipython",
    "version": 3
   },
   "file_extension": ".py",
   "mimetype": "text/x-python",
   "name": "python",
   "nbconvert_exporter": "python",
   "pygments_lexer": "ipython3",
   "version": "3.11.9"
  },
  "toc": {
   "base_numbering": 1,
   "nav_menu": {},
   "number_sections": false,
   "sideBar": true,
   "skip_h1_title": true,
   "title_cell": "Table of Contents",
   "title_sidebar": "Contents",
   "toc_cell": false,
   "toc_position": {},
   "toc_section_display": true,
   "toc_window_display": false
  }
 },
 "nbformat": 4,
 "nbformat_minor": 5
}
