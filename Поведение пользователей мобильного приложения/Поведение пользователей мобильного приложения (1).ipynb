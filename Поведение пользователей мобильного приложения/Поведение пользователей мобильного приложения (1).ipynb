{
 "cells": [
  {
   "cell_type": "markdown",
   "metadata": {},
   "source": [
    "Сборный проект №2\n",
    "\n",
    "**Описание проекта:** Вы работаете в стартапе, который продаёт продукты питания. Нужно разобраться, как ведут себя пользователи вашего мобильного приложения. \n",
    "\n",
    "**Цель работы:** Изучить воронку продаж. Узнайть, как пользователи доходят до покупки. Сколько пользователей доходит до покупки, а сколько — «застревает» на предыдущих шагах? На каких именно?\n",
    "\n",
    "**Описание данных:**\n",
    "\n",
    "Каждая запись в логе — это действие пользователя, или событие. \n",
    "\n",
    "- **EventName** — название события;\n",
    "\n",
    "- **DeviceIDHash** — уникальный идентификатор пользователя;\n",
    "\n",
    "- **EventTimestamp** — время события;\n",
    "\n",
    "- **ExpId** — номер эксперимента: 246 и 247 — контрольные группы, а 248 — экспериментальная.\n",
    "\n",
    "**План работы:**\n",
    "1. **[Открыть файл с данными и изучить общую информацию](#section1)**\n",
    "2. **[Подготовить данные:](#section2)**\n",
    "    - Заменить названия столбцов на удобные;\n",
    "    - Проверить пропуски и типы данных. Откорректировать если нужно;\n",
    "    - Добавить столбец даты и времени, а также отдельный столбец дат;\n",
    "3. **[Изучить и проверить данные:](#section3)**\n",
    "    - Сколько всего событий в логе?\n",
    "    - Сколько всего пользователей в логе?\n",
    "    - Сколько в среднем событий приходится на пользователя?\n",
    "    - Данными за какой период вы располагаете? Найдите максимальную и минимальную дату. Изучите, как меняется количество данных: постройте столбчатую диаграмму, которая отобразит количество событий в зависимости от времени в разрезе групп. Можно ли быть уверенным, что у вас одинаково полные данные за весь период? Технически в логи новых дней по некоторым пользователям могут «доезжать» события из прошлого — это может «перекашивать данные». Определите, с какого момента данные полные и отбросьте более старые. Данными за какой период времени вы располагаете на самом деле?\n",
    "    - Много ли событий и пользователей вы потеряли, отбросив старые данные?\n",
    "    - Проверьте, что у вас есть пользователи из всех трёх экспериментальных групп.\n",
    "4. **[Изучить воронку событий:](#section4)**\n",
    "    - Посмотрите, какие события есть в логах, как часто они встречаются. Отсортируйте события по частоте.\n",
    "    - Посчитайте, сколько пользователей совершали каждое из этих событий. Отсортируйте события по числу пользователей.     - Посчитайте долю пользователей, которые хоть раз совершали событие.\n",
    "    - Предположите, в каком порядке происходят события. Все ли они выстраиваются в последовательную цепочку? Их не нужно учитывать при расчёте воронки.\n",
    "    - По воронке событий посчитайте, какая доля пользователей проходит на следующий шаг воронки (от числа пользователей на предыдущем). То есть для последовательности событий A → B → C посчитайте отношение числа пользователей с событием B к количеству пользователей с событием A, а также отношение числа пользователей с событием C к количеству пользователей с событием B.\n",
    "    - На каком шаге теряете больше всего пользователей?\n",
    "    - Какая доля пользователей доходит от первого события до оплаты?\n",
    "5. **[Изучить результаты эксперимента:](#section5)**\n",
    "    - Сколько пользователей в каждой экспериментальной группе?\n",
    "    - Есть 2 контрольные группы для А/А-эксперимента, чтобы проверить корректность всех механизмов и расчётов. Проверьте, находят ли статистические критерии разницу между выборками 246 и 247.\n",
    "    - Выберите самое популярное событие. Посчитайте число пользователей, совершивших это событие в каждой из контрольных групп. Посчитайте долю пользователей, совершивших это событие. Проверьте, будет ли отличие между группами статистически достоверным. Проделайте то же самое для всех других событий (удобно обернуть проверку в отдельную функцию). Можно ли сказать, что разбиение на группы работает корректно?\n",
    "    - Аналогично поступите с группой с изменённым шрифтом. Сравните результаты с каждой из контрольных групп в отдельности по каждому событию. Сравните результаты с объединённой контрольной группой. Какие выводы из эксперимента можно сделать?\n",
    "    - Какой уровень значимости вы выбрали при проверке статистических гипотез выше? Посчитайте, сколько проверок статистических гипотез вы сделали. При уровне значимости 0.1 в 10% случаев можно ошибочно отклонить нулевую гипотезу при условии, что она верна. Какой уровень значимости стоит применить? Если вы хотите изменить его, проделайте предыдущие пункты и проверьте свои выводы.\n"
   ]
  },
  {
   "cell_type": "markdown",
   "metadata": {},
   "source": [
    "**Для корректной работы, импоритруем необходимые библиотеки:**"
   ]
  },
  {
   "cell_type": "code",
   "execution_count": 1,
   "metadata": {},
   "outputs": [
    {
     "name": "stdout",
     "output_type": "stream",
     "text": [
      "Requirement already satisfied: plotly in /opt/anaconda3/envs/practicum/lib/python3.11/site-packages (5.22.0)\n",
      "Requirement already satisfied: tenacity>=6.2.0 in /opt/anaconda3/envs/practicum/lib/python3.11/site-packages (from plotly) (8.3.0)\n",
      "Requirement already satisfied: packaging in /opt/anaconda3/envs/practicum/lib/python3.11/site-packages (from plotly) (24.0)\n",
      "Note: you may need to restart the kernel to use updated packages.\n"
     ]
    }
   ],
   "source": [
    "pip install plotly"
   ]
  },
  {
   "cell_type": "code",
   "execution_count": 2,
   "metadata": {},
   "outputs": [],
   "source": [
    "import pandas as pd\n",
    "from datetime import datetime\n",
    "import matplotlib.pyplot as plt\n",
    "import numpy as np \n",
    "import seaborn as sns\n",
    "from scipy import stats as st\n",
    "import math as mth\n",
    "import plotly.graph_objects as go"
   ]
  },
  {
   "cell_type": "markdown",
   "metadata": {},
   "source": [
    "<a id='section1'></a>\n",
    "## Открыть файл с данными и изучить общую информацию "
   ]
  },
  {
   "cell_type": "code",
   "execution_count": 3,
   "metadata": {},
   "outputs": [
    {
     "name": "stdout",
     "output_type": "stream",
     "text": [
      "Данные успешно загружены\n",
      "****************************************\n",
      "Вывожу первые 10 сторк датафрейма:\n"
     ]
    },
    {
     "data": {
      "text/html": [
       "<div>\n",
       "<style scoped>\n",
       "    .dataframe tbody tr th:only-of-type {\n",
       "        vertical-align: middle;\n",
       "    }\n",
       "\n",
       "    .dataframe tbody tr th {\n",
       "        vertical-align: top;\n",
       "    }\n",
       "\n",
       "    .dataframe thead th {\n",
       "        text-align: right;\n",
       "    }\n",
       "</style>\n",
       "<table border=\"1\" class=\"dataframe\">\n",
       "  <thead>\n",
       "    <tr style=\"text-align: right;\">\n",
       "      <th></th>\n",
       "      <th>EventName</th>\n",
       "      <th>DeviceIDHash</th>\n",
       "      <th>EventTimestamp</th>\n",
       "      <th>ExpId</th>\n",
       "    </tr>\n",
       "  </thead>\n",
       "  <tbody>\n",
       "    <tr>\n",
       "      <th>0</th>\n",
       "      <td>MainScreenAppear</td>\n",
       "      <td>4575588528974610257</td>\n",
       "      <td>1564029816</td>\n",
       "      <td>246</td>\n",
       "    </tr>\n",
       "    <tr>\n",
       "      <th>1</th>\n",
       "      <td>MainScreenAppear</td>\n",
       "      <td>7416695313311560658</td>\n",
       "      <td>1564053102</td>\n",
       "      <td>246</td>\n",
       "    </tr>\n",
       "    <tr>\n",
       "      <th>2</th>\n",
       "      <td>PaymentScreenSuccessful</td>\n",
       "      <td>3518123091307005509</td>\n",
       "      <td>1564054127</td>\n",
       "      <td>248</td>\n",
       "    </tr>\n",
       "    <tr>\n",
       "      <th>3</th>\n",
       "      <td>CartScreenAppear</td>\n",
       "      <td>3518123091307005509</td>\n",
       "      <td>1564054127</td>\n",
       "      <td>248</td>\n",
       "    </tr>\n",
       "    <tr>\n",
       "      <th>4</th>\n",
       "      <td>PaymentScreenSuccessful</td>\n",
       "      <td>6217807653094995999</td>\n",
       "      <td>1564055322</td>\n",
       "      <td>248</td>\n",
       "    </tr>\n",
       "    <tr>\n",
       "      <th>5</th>\n",
       "      <td>CartScreenAppear</td>\n",
       "      <td>6217807653094995999</td>\n",
       "      <td>1564055323</td>\n",
       "      <td>248</td>\n",
       "    </tr>\n",
       "    <tr>\n",
       "      <th>6</th>\n",
       "      <td>OffersScreenAppear</td>\n",
       "      <td>8351860793733343758</td>\n",
       "      <td>1564066242</td>\n",
       "      <td>246</td>\n",
       "    </tr>\n",
       "    <tr>\n",
       "      <th>7</th>\n",
       "      <td>MainScreenAppear</td>\n",
       "      <td>5682100281902512875</td>\n",
       "      <td>1564085677</td>\n",
       "      <td>246</td>\n",
       "    </tr>\n",
       "    <tr>\n",
       "      <th>8</th>\n",
       "      <td>MainScreenAppear</td>\n",
       "      <td>1850981295691852772</td>\n",
       "      <td>1564086702</td>\n",
       "      <td>247</td>\n",
       "    </tr>\n",
       "    <tr>\n",
       "      <th>9</th>\n",
       "      <td>MainScreenAppear</td>\n",
       "      <td>5407636962369102641</td>\n",
       "      <td>1564112112</td>\n",
       "      <td>246</td>\n",
       "    </tr>\n",
       "  </tbody>\n",
       "</table>\n",
       "</div>"
      ],
      "text/plain": [
       "                 EventName         DeviceIDHash  EventTimestamp  ExpId\n",
       "0         MainScreenAppear  4575588528974610257      1564029816    246\n",
       "1         MainScreenAppear  7416695313311560658      1564053102    246\n",
       "2  PaymentScreenSuccessful  3518123091307005509      1564054127    248\n",
       "3         CartScreenAppear  3518123091307005509      1564054127    248\n",
       "4  PaymentScreenSuccessful  6217807653094995999      1564055322    248\n",
       "5         CartScreenAppear  6217807653094995999      1564055323    248\n",
       "6       OffersScreenAppear  8351860793733343758      1564066242    246\n",
       "7         MainScreenAppear  5682100281902512875      1564085677    246\n",
       "8         MainScreenAppear  1850981295691852772      1564086702    247\n",
       "9         MainScreenAppear  5407636962369102641      1564112112    246"
      ]
     },
     "metadata": {},
     "output_type": "display_data"
    },
    {
     "name": "stdout",
     "output_type": "stream",
     "text": [
      "****************************************\n",
      "Вывожу основную информацию о датафрейме:\n",
      "<class 'pandas.core.frame.DataFrame'>\n",
      "RangeIndex: 244126 entries, 0 to 244125\n",
      "Data columns (total 4 columns):\n",
      " #   Column          Non-Null Count   Dtype \n",
      "---  ------          --------------   ----- \n",
      " 0   EventName       244126 non-null  object\n",
      " 1   DeviceIDHash    244126 non-null  int64 \n",
      " 2   EventTimestamp  244126 non-null  int64 \n",
      " 3   ExpId           244126 non-null  int64 \n",
      "dtypes: int64(3), object(1)\n",
      "memory usage: 7.5+ MB\n"
     ]
    }
   ],
   "source": [
    "try:\n",
    "    data = pd.read_csv('/datasets/logs_exp.csv', sep = '\\t')\n",
    "except:\n",
    "    \n",
    "    try:\n",
    "        data = pd.read_csv('/Users/sergey/Downloads/logs_exp.csv', sep = '\\t')\n",
    "    except :\n",
    "        data = None  \n",
    "\n",
    "if data is None:\n",
    "    print('Что-то не так')\n",
    "else:\n",
    "    print('Данные успешно загружены')\n",
    "    print('*' * 40)\n",
    "    print('Вывожу первые 10 сторк датафрейма:')\n",
    "    display(data.head(10))\n",
    "    print('*' * 40)\n",
    "    print('Вывожу основную информацию о датафрейме:')\n",
    "    data.info()"
   ]
  },
  {
   "cell_type": "markdown",
   "metadata": {},
   "source": [
    "<a id='section2'></a>\n",
    "## Подготовим данные:"
   ]
  },
  {
   "cell_type": "code",
   "execution_count": 4,
   "metadata": {},
   "outputs": [],
   "source": [
    "# универсальная функция для выполнения предобработки данных\n",
    "def data_preprocessing(df):\n",
    "   \n",
    "    # Посмотрим основные данные о DataFrame\n",
    "    print('Информация о данных (info()):')\n",
    "    print(df.info())\n",
    "    print()\n",
    "    \n",
    "    # Оценим статистические данные\n",
    "    print('Статистическая информация о данных (describe()):')\n",
    "    print(df.describe())\n",
    "    print()\n",
    "    \n",
    "    # Посмотрим на типы данных в DataFrame\n",
    "    print('Типы данных (dtypes):')\n",
    "    print(df.dtypes)\n",
    "    print()\n",
    "    \n",
    "    # Посчитаем количество явных дубликатов, удалим их при наличии\n",
    "    print('Кол-во дубликатов = ', df.duplicated().sum())\n",
    "    print()\n",
    "    \n",
    "    # Функция исправления названий строк\n",
    "    df.columns = df.columns.str.lower().str.replace(' ', '_')     "
   ]
  },
  {
   "cell_type": "code",
   "execution_count": 5,
   "metadata": {},
   "outputs": [
    {
     "name": "stdout",
     "output_type": "stream",
     "text": [
      "Информация о данных (info()):\n",
      "<class 'pandas.core.frame.DataFrame'>\n",
      "RangeIndex: 244126 entries, 0 to 244125\n",
      "Data columns (total 4 columns):\n",
      " #   Column          Non-Null Count   Dtype \n",
      "---  ------          --------------   ----- \n",
      " 0   EventName       244126 non-null  object\n",
      " 1   DeviceIDHash    244126 non-null  int64 \n",
      " 2   EventTimestamp  244126 non-null  int64 \n",
      " 3   ExpId           244126 non-null  int64 \n",
      "dtypes: int64(3), object(1)\n",
      "memory usage: 7.5+ MB\n",
      "None\n",
      "\n",
      "Статистическая информация о данных (describe()):\n",
      "       DeviceIDHash  EventTimestamp          ExpId\n",
      "count  2.441260e+05    2.441260e+05  244126.000000\n",
      "mean   4.627568e+18    1.564914e+09     247.022296\n",
      "std    2.642425e+18    1.771343e+05       0.824434\n",
      "min    6.888747e+15    1.564030e+09     246.000000\n",
      "25%    2.372212e+18    1.564757e+09     246.000000\n",
      "50%    4.623192e+18    1.564919e+09     247.000000\n",
      "75%    6.932517e+18    1.565075e+09     248.000000\n",
      "max    9.222603e+18    1.565213e+09     248.000000\n",
      "\n",
      "Типы данных (dtypes):\n",
      "EventName         object\n",
      "DeviceIDHash       int64\n",
      "EventTimestamp     int64\n",
      "ExpId              int64\n",
      "dtype: object\n",
      "\n",
      "Кол-во дубликатов =  413\n",
      "\n"
     ]
    }
   ],
   "source": [
    "data_preprocessing(data)"
   ]
  },
  {
   "cell_type": "code",
   "execution_count": 6,
   "metadata": {},
   "outputs": [
    {
     "data": {
      "text/html": [
       "<div>\n",
       "<style scoped>\n",
       "    .dataframe tbody tr th:only-of-type {\n",
       "        vertical-align: middle;\n",
       "    }\n",
       "\n",
       "    .dataframe tbody tr th {\n",
       "        vertical-align: top;\n",
       "    }\n",
       "\n",
       "    .dataframe thead th {\n",
       "        text-align: right;\n",
       "    }\n",
       "</style>\n",
       "<table border=\"1\" class=\"dataframe\">\n",
       "  <thead>\n",
       "    <tr style=\"text-align: right;\">\n",
       "      <th></th>\n",
       "      <th>eventname</th>\n",
       "      <th>deviceidhash</th>\n",
       "      <th>eventtimestamp</th>\n",
       "      <th>expid</th>\n",
       "    </tr>\n",
       "  </thead>\n",
       "  <tbody>\n",
       "    <tr>\n",
       "      <th>0</th>\n",
       "      <td>MainScreenAppear</td>\n",
       "      <td>4575588528974610257</td>\n",
       "      <td>1564029816</td>\n",
       "      <td>246</td>\n",
       "    </tr>\n",
       "    <tr>\n",
       "      <th>1</th>\n",
       "      <td>MainScreenAppear</td>\n",
       "      <td>7416695313311560658</td>\n",
       "      <td>1564053102</td>\n",
       "      <td>246</td>\n",
       "    </tr>\n",
       "    <tr>\n",
       "      <th>2</th>\n",
       "      <td>PaymentScreenSuccessful</td>\n",
       "      <td>3518123091307005509</td>\n",
       "      <td>1564054127</td>\n",
       "      <td>248</td>\n",
       "    </tr>\n",
       "    <tr>\n",
       "      <th>3</th>\n",
       "      <td>CartScreenAppear</td>\n",
       "      <td>3518123091307005509</td>\n",
       "      <td>1564054127</td>\n",
       "      <td>248</td>\n",
       "    </tr>\n",
       "    <tr>\n",
       "      <th>4</th>\n",
       "      <td>PaymentScreenSuccessful</td>\n",
       "      <td>6217807653094995999</td>\n",
       "      <td>1564055322</td>\n",
       "      <td>248</td>\n",
       "    </tr>\n",
       "  </tbody>\n",
       "</table>\n",
       "</div>"
      ],
      "text/plain": [
       "                 eventname         deviceidhash  eventtimestamp  expid\n",
       "0         MainScreenAppear  4575588528974610257      1564029816    246\n",
       "1         MainScreenAppear  7416695313311560658      1564053102    246\n",
       "2  PaymentScreenSuccessful  3518123091307005509      1564054127    248\n",
       "3         CartScreenAppear  3518123091307005509      1564054127    248\n",
       "4  PaymentScreenSuccessful  6217807653094995999      1564055322    248"
      ]
     },
     "execution_count": 6,
     "metadata": {},
     "output_type": "execute_result"
    }
   ],
   "source": [
    "data.head()"
   ]
  },
  {
   "cell_type": "markdown",
   "metadata": {},
   "source": [
    "#### Вывод:\n",
    "При помощи универсальной функции, рассмотрели основные данные по таблице. Таблица состоит из 244126 строк и 4 столбцов. Обнаруженны стилистические ошибки в названии столбцов, которые были исправленны внутри функции, но для более читаемого вида, необходимо добавить нижний регистр между словами в столбцах. Пропуски в данных отсутствуют. Обнаруженно 413 явных дубликатов. Так же необходимо привести столбцец EventTimestamp к корректному виду и правильному типу данных."
   ]
  },
  {
   "cell_type": "markdown",
   "metadata": {},
   "source": [
    "### Заменим названия столбцов на удобные:"
   ]
  },
  {
   "cell_type": "code",
   "execution_count": 7,
   "metadata": {},
   "outputs": [],
   "source": [
    "data = data.rename(columns={\n",
    "    'eventname' : 'event_name',\n",
    "    'deviceidhash' : 'user_id',\n",
    "    'eventtimestamp' : 'event_timestamp',\n",
    "    'expid' : 'exp_id'\n",
    "})"
   ]
  },
  {
   "cell_type": "code",
   "execution_count": 8,
   "metadata": {},
   "outputs": [
    {
     "data": {
      "text/html": [
       "<div>\n",
       "<style scoped>\n",
       "    .dataframe tbody tr th:only-of-type {\n",
       "        vertical-align: middle;\n",
       "    }\n",
       "\n",
       "    .dataframe tbody tr th {\n",
       "        vertical-align: top;\n",
       "    }\n",
       "\n",
       "    .dataframe thead th {\n",
       "        text-align: right;\n",
       "    }\n",
       "</style>\n",
       "<table border=\"1\" class=\"dataframe\">\n",
       "  <thead>\n",
       "    <tr style=\"text-align: right;\">\n",
       "      <th></th>\n",
       "      <th>event_name</th>\n",
       "      <th>user_id</th>\n",
       "      <th>event_timestamp</th>\n",
       "      <th>exp_id</th>\n",
       "    </tr>\n",
       "  </thead>\n",
       "  <tbody>\n",
       "    <tr>\n",
       "      <th>0</th>\n",
       "      <td>MainScreenAppear</td>\n",
       "      <td>4575588528974610257</td>\n",
       "      <td>1564029816</td>\n",
       "      <td>246</td>\n",
       "    </tr>\n",
       "    <tr>\n",
       "      <th>1</th>\n",
       "      <td>MainScreenAppear</td>\n",
       "      <td>7416695313311560658</td>\n",
       "      <td>1564053102</td>\n",
       "      <td>246</td>\n",
       "    </tr>\n",
       "    <tr>\n",
       "      <th>2</th>\n",
       "      <td>PaymentScreenSuccessful</td>\n",
       "      <td>3518123091307005509</td>\n",
       "      <td>1564054127</td>\n",
       "      <td>248</td>\n",
       "    </tr>\n",
       "    <tr>\n",
       "      <th>3</th>\n",
       "      <td>CartScreenAppear</td>\n",
       "      <td>3518123091307005509</td>\n",
       "      <td>1564054127</td>\n",
       "      <td>248</td>\n",
       "    </tr>\n",
       "    <tr>\n",
       "      <th>4</th>\n",
       "      <td>PaymentScreenSuccessful</td>\n",
       "      <td>6217807653094995999</td>\n",
       "      <td>1564055322</td>\n",
       "      <td>248</td>\n",
       "    </tr>\n",
       "  </tbody>\n",
       "</table>\n",
       "</div>"
      ],
      "text/plain": [
       "                event_name              user_id  event_timestamp  exp_id\n",
       "0         MainScreenAppear  4575588528974610257       1564029816     246\n",
       "1         MainScreenAppear  7416695313311560658       1564053102     246\n",
       "2  PaymentScreenSuccessful  3518123091307005509       1564054127     248\n",
       "3         CartScreenAppear  3518123091307005509       1564054127     248\n",
       "4  PaymentScreenSuccessful  6217807653094995999       1564055322     248"
      ]
     },
     "execution_count": 8,
     "metadata": {},
     "output_type": "execute_result"
    }
   ],
   "source": [
    "# посмотрим на таблицу после внесенных изменений\n",
    "data.head()"
   ]
  },
  {
   "cell_type": "markdown",
   "metadata": {},
   "source": [
    "### Добавить столбец даты и времени, а также отдельный столбец даты и времени"
   ]
  },
  {
   "cell_type": "code",
   "execution_count": 9,
   "metadata": {},
   "outputs": [],
   "source": [
    "data['event_date'] = pd.to_datetime(data['event_timestamp'], unit='s')\n",
    "data['event_dt'] = pd.to_datetime(data['event_date'].dt.date)"
   ]
  },
  {
   "cell_type": "code",
   "execution_count": 10,
   "metadata": {},
   "outputs": [
    {
     "data": {
      "text/html": [
       "<div>\n",
       "<style scoped>\n",
       "    .dataframe tbody tr th:only-of-type {\n",
       "        vertical-align: middle;\n",
       "    }\n",
       "\n",
       "    .dataframe tbody tr th {\n",
       "        vertical-align: top;\n",
       "    }\n",
       "\n",
       "    .dataframe thead th {\n",
       "        text-align: right;\n",
       "    }\n",
       "</style>\n",
       "<table border=\"1\" class=\"dataframe\">\n",
       "  <thead>\n",
       "    <tr style=\"text-align: right;\">\n",
       "      <th></th>\n",
       "      <th>event_name</th>\n",
       "      <th>user_id</th>\n",
       "      <th>event_timestamp</th>\n",
       "      <th>exp_id</th>\n",
       "      <th>event_date</th>\n",
       "      <th>event_dt</th>\n",
       "    </tr>\n",
       "  </thead>\n",
       "  <tbody>\n",
       "    <tr>\n",
       "      <th>0</th>\n",
       "      <td>MainScreenAppear</td>\n",
       "      <td>4575588528974610257</td>\n",
       "      <td>1564029816</td>\n",
       "      <td>246</td>\n",
       "      <td>2019-07-25 04:43:36</td>\n",
       "      <td>2019-07-25</td>\n",
       "    </tr>\n",
       "    <tr>\n",
       "      <th>1</th>\n",
       "      <td>MainScreenAppear</td>\n",
       "      <td>7416695313311560658</td>\n",
       "      <td>1564053102</td>\n",
       "      <td>246</td>\n",
       "      <td>2019-07-25 11:11:42</td>\n",
       "      <td>2019-07-25</td>\n",
       "    </tr>\n",
       "    <tr>\n",
       "      <th>2</th>\n",
       "      <td>PaymentScreenSuccessful</td>\n",
       "      <td>3518123091307005509</td>\n",
       "      <td>1564054127</td>\n",
       "      <td>248</td>\n",
       "      <td>2019-07-25 11:28:47</td>\n",
       "      <td>2019-07-25</td>\n",
       "    </tr>\n",
       "    <tr>\n",
       "      <th>3</th>\n",
       "      <td>CartScreenAppear</td>\n",
       "      <td>3518123091307005509</td>\n",
       "      <td>1564054127</td>\n",
       "      <td>248</td>\n",
       "      <td>2019-07-25 11:28:47</td>\n",
       "      <td>2019-07-25</td>\n",
       "    </tr>\n",
       "    <tr>\n",
       "      <th>4</th>\n",
       "      <td>PaymentScreenSuccessful</td>\n",
       "      <td>6217807653094995999</td>\n",
       "      <td>1564055322</td>\n",
       "      <td>248</td>\n",
       "      <td>2019-07-25 11:48:42</td>\n",
       "      <td>2019-07-25</td>\n",
       "    </tr>\n",
       "  </tbody>\n",
       "</table>\n",
       "</div>"
      ],
      "text/plain": [
       "                event_name              user_id  event_timestamp  exp_id  \\\n",
       "0         MainScreenAppear  4575588528974610257       1564029816     246   \n",
       "1         MainScreenAppear  7416695313311560658       1564053102     246   \n",
       "2  PaymentScreenSuccessful  3518123091307005509       1564054127     248   \n",
       "3         CartScreenAppear  3518123091307005509       1564054127     248   \n",
       "4  PaymentScreenSuccessful  6217807653094995999       1564055322     248   \n",
       "\n",
       "           event_date   event_dt  \n",
       "0 2019-07-25 04:43:36 2019-07-25  \n",
       "1 2019-07-25 11:11:42 2019-07-25  \n",
       "2 2019-07-25 11:28:47 2019-07-25  \n",
       "3 2019-07-25 11:28:47 2019-07-25  \n",
       "4 2019-07-25 11:48:42 2019-07-25  "
      ]
     },
     "execution_count": 10,
     "metadata": {},
     "output_type": "execute_result"
    }
   ],
   "source": [
    "# посмотрим на таблицу после внесенных изменений и добавления новых столбцов\n",
    "data.head()"
   ]
  },
  {
   "cell_type": "markdown",
   "metadata": {},
   "source": [
    "Избавимся от явных дубликатов в таблице"
   ]
  },
  {
   "cell_type": "code",
   "execution_count": 11,
   "metadata": {},
   "outputs": [],
   "source": [
    "data = data.drop_duplicates()"
   ]
  },
  {
   "cell_type": "code",
   "execution_count": 12,
   "metadata": {},
   "outputs": [
    {
     "name": "stdout",
     "output_type": "stream",
     "text": [
      "Количество явных дубликатов равно: 0\n"
     ]
    }
   ],
   "source": [
    "# убедимся в отсутвии пропусков\n",
    "print('Количество явных дубликатов равно:', data.duplicated().sum())"
   ]
  },
  {
   "cell_type": "markdown",
   "metadata": {},
   "source": [
    "**Проверим на неявные дубликаты по столбцам с событием, id пользователя и группой:** "
   ]
  },
  {
   "cell_type": "code",
   "execution_count": 13,
   "metadata": {},
   "outputs": [
    {
     "name": "stdout",
     "output_type": "stream",
     "text": [
      "Количество дубликатов по столбцах 'event_name', 'user_id', 'event_timestamp' и 'exp_id': 0\n"
     ]
    }
   ],
   "source": [
    "duplicates_count = data[['event_name', 'user_id', 'event_timestamp','exp_id']].duplicated().sum()\n",
    "print(\"Количество дубликатов по столбцах 'event_name', 'user_id', 'event_timestamp' и 'exp_id':\", duplicates_count)"
   ]
  },
  {
   "cell_type": "markdown",
   "metadata": {},
   "source": [
    "**Посмотрим на общую информацию после выполнения обработки данных**"
   ]
  },
  {
   "cell_type": "code",
   "execution_count": 14,
   "metadata": {},
   "outputs": [
    {
     "name": "stdout",
     "output_type": "stream",
     "text": [
      "<class 'pandas.core.frame.DataFrame'>\n",
      "Int64Index: 243713 entries, 0 to 244125\n",
      "Data columns (total 6 columns):\n",
      " #   Column           Non-Null Count   Dtype         \n",
      "---  ------           --------------   -----         \n",
      " 0   event_name       243713 non-null  object        \n",
      " 1   user_id          243713 non-null  int64         \n",
      " 2   event_timestamp  243713 non-null  int64         \n",
      " 3   exp_id           243713 non-null  int64         \n",
      " 4   event_date       243713 non-null  datetime64[ns]\n",
      " 5   event_dt         243713 non-null  datetime64[ns]\n",
      "dtypes: datetime64[ns](2), int64(3), object(1)\n",
      "memory usage: 13.0+ MB\n"
     ]
    }
   ],
   "source": [
    "data.info()"
   ]
  },
  {
   "cell_type": "markdown",
   "metadata": {},
   "source": [
    "**Проверим, являются ли пользователи одной группы, пользователями другой группы**"
   ]
  },
  {
   "cell_type": "code",
   "execution_count": 15,
   "metadata": {},
   "outputs": [],
   "source": [
    "# соберем пользователей каждой группы и номера имеющихся групп\n",
    "users_group_246 = data[data['exp_id'] == 246]['user_id']\n",
    "users_group_247 = data[data['exp_id'] == 247]['user_id']\n",
    "users_group_248 = data[data['exp_id'] == 248]['user_id']\n",
    "unique_exp_id = data['exp_id'].unique()"
   ]
  },
  {
   "cell_type": "code",
   "execution_count": 16,
   "metadata": {},
   "outputs": [],
   "source": [
    "# функция для нахождения пересечений в пользователей в группе\n",
    "def intersection(data_1, data_2):\n",
    "    result = data_1.isin(data_2).sum()\n",
    "    return result"
   ]
  },
  {
   "cell_type": "code",
   "execution_count": 17,
   "metadata": {},
   "outputs": [
    {
     "data": {
      "text/plain": [
       "0"
      ]
     },
     "execution_count": 17,
     "metadata": {},
     "output_type": "execute_result"
    }
   ],
   "source": [
    "# Проверим на пересечения пользователей группы 246 и 247\n",
    "intersection(users_group_246, users_group_247)"
   ]
  },
  {
   "cell_type": "code",
   "execution_count": 18,
   "metadata": {},
   "outputs": [
    {
     "data": {
      "text/plain": [
       "0"
      ]
     },
     "execution_count": 18,
     "metadata": {},
     "output_type": "execute_result"
    }
   ],
   "source": [
    "# Проверим на пересечения пользователей группы 246 и 248\n",
    "intersection(users_group_246, users_group_248)"
   ]
  },
  {
   "cell_type": "code",
   "execution_count": 19,
   "metadata": {},
   "outputs": [
    {
     "data": {
      "text/plain": [
       "0"
      ]
     },
     "execution_count": 19,
     "metadata": {},
     "output_type": "execute_result"
    }
   ],
   "source": [
    "# Проверим на пересечения пользователей группы 247 и 248\n",
    "intersection(users_group_247, users_group_248)"
   ]
  },
  {
   "cell_type": "markdown",
   "metadata": {},
   "source": [
    "Пересечения пользователей в группах не обнаружены."
   ]
  },
  {
   "cell_type": "markdown",
   "metadata": {},
   "source": [
    "#### Вывод:\n",
    "В ходе проведения предобработки данных были выполнены следующие операции:\n",
    "\n",
    "1. Исправлены названия столбцов: Названия столбцов были исправлены для улучшения читаемости и соответствия определенным стандартам.\n",
    "\n",
    "2. Удалено 413 явных дубликатов: Были обнаружены строки данных, которые полностью повторяли друг друга, и эти дубликаты были удалены.\n",
    "\n",
    "3. Добавлены два новых столбца с датами и временем:  один для хранения даты и другой для хранения времени.\n",
    "\n",
    "4. Проверенно, что пользователи каждой группы являются уникальными и не повторяются в других группах.\n"
   ]
  },
  {
   "cell_type": "markdown",
   "metadata": {},
   "source": [
    "<a id='section3'></a>\n",
    "## Изучим и проверим данные"
   ]
  },
  {
   "cell_type": "markdown",
   "metadata": {},
   "source": [
    "Для удобства выведем таблицу"
   ]
  },
  {
   "cell_type": "code",
   "execution_count": 20,
   "metadata": {},
   "outputs": [
    {
     "data": {
      "text/html": [
       "<div>\n",
       "<style scoped>\n",
       "    .dataframe tbody tr th:only-of-type {\n",
       "        vertical-align: middle;\n",
       "    }\n",
       "\n",
       "    .dataframe tbody tr th {\n",
       "        vertical-align: top;\n",
       "    }\n",
       "\n",
       "    .dataframe thead th {\n",
       "        text-align: right;\n",
       "    }\n",
       "</style>\n",
       "<table border=\"1\" class=\"dataframe\">\n",
       "  <thead>\n",
       "    <tr style=\"text-align: right;\">\n",
       "      <th></th>\n",
       "      <th>event_name</th>\n",
       "      <th>user_id</th>\n",
       "      <th>event_timestamp</th>\n",
       "      <th>exp_id</th>\n",
       "      <th>event_date</th>\n",
       "      <th>event_dt</th>\n",
       "    </tr>\n",
       "  </thead>\n",
       "  <tbody>\n",
       "    <tr>\n",
       "      <th>244121</th>\n",
       "      <td>MainScreenAppear</td>\n",
       "      <td>4599628364049201812</td>\n",
       "      <td>1565212345</td>\n",
       "      <td>247</td>\n",
       "      <td>2019-08-07 21:12:25</td>\n",
       "      <td>2019-08-07</td>\n",
       "    </tr>\n",
       "    <tr>\n",
       "      <th>244122</th>\n",
       "      <td>MainScreenAppear</td>\n",
       "      <td>5849806612437486590</td>\n",
       "      <td>1565212439</td>\n",
       "      <td>246</td>\n",
       "      <td>2019-08-07 21:13:59</td>\n",
       "      <td>2019-08-07</td>\n",
       "    </tr>\n",
       "    <tr>\n",
       "      <th>244123</th>\n",
       "      <td>MainScreenAppear</td>\n",
       "      <td>5746969938801999050</td>\n",
       "      <td>1565212483</td>\n",
       "      <td>246</td>\n",
       "      <td>2019-08-07 21:14:43</td>\n",
       "      <td>2019-08-07</td>\n",
       "    </tr>\n",
       "    <tr>\n",
       "      <th>244124</th>\n",
       "      <td>MainScreenAppear</td>\n",
       "      <td>5746969938801999050</td>\n",
       "      <td>1565212498</td>\n",
       "      <td>246</td>\n",
       "      <td>2019-08-07 21:14:58</td>\n",
       "      <td>2019-08-07</td>\n",
       "    </tr>\n",
       "    <tr>\n",
       "      <th>244125</th>\n",
       "      <td>OffersScreenAppear</td>\n",
       "      <td>5746969938801999050</td>\n",
       "      <td>1565212517</td>\n",
       "      <td>246</td>\n",
       "      <td>2019-08-07 21:15:17</td>\n",
       "      <td>2019-08-07</td>\n",
       "    </tr>\n",
       "  </tbody>\n",
       "</table>\n",
       "</div>"
      ],
      "text/plain": [
       "                event_name              user_id  event_timestamp  exp_id  \\\n",
       "244121    MainScreenAppear  4599628364049201812       1565212345     247   \n",
       "244122    MainScreenAppear  5849806612437486590       1565212439     246   \n",
       "244123    MainScreenAppear  5746969938801999050       1565212483     246   \n",
       "244124    MainScreenAppear  5746969938801999050       1565212498     246   \n",
       "244125  OffersScreenAppear  5746969938801999050       1565212517     246   \n",
       "\n",
       "                event_date   event_dt  \n",
       "244121 2019-08-07 21:12:25 2019-08-07  \n",
       "244122 2019-08-07 21:13:59 2019-08-07  \n",
       "244123 2019-08-07 21:14:43 2019-08-07  \n",
       "244124 2019-08-07 21:14:58 2019-08-07  \n",
       "244125 2019-08-07 21:15:17 2019-08-07  "
      ]
     },
     "execution_count": 20,
     "metadata": {},
     "output_type": "execute_result"
    }
   ],
   "source": [
    "data.tail()"
   ]
  },
  {
   "cell_type": "markdown",
   "metadata": {},
   "source": [
    "### Сколько всего событий в логе?"
   ]
  },
  {
   "cell_type": "code",
   "execution_count": 21,
   "metadata": {},
   "outputs": [
    {
     "name": "stdout",
     "output_type": "stream",
     "text": [
      "Всего у нас: 5 уникальных событий.\n",
      "Общее количество событий равно 243713 события\n"
     ]
    }
   ],
   "source": [
    "# посчитаем количество уникальных событий\n",
    "print('Всего у нас:', data['event_name'].nunique(), 'уникальных событий.')\n",
    "print('Общее количество событий равно', data['event_name'].count(), 'события')"
   ]
  },
  {
   "cell_type": "code",
   "execution_count": 22,
   "metadata": {},
   "outputs": [
    {
     "data": {
      "image/png": "[encoded data removed]",
      "text/plain": [
       "<Figure size 1600x800 with 1 Axes>"
      ]
     },
     "metadata": {},
     "output_type": "display_data"
    }
   ],
   "source": [
    "# построим количество событий в зависимости от времени\n",
    "plt.figure(figsize=(16, 8))\n",
    "\n",
    "sns.countplot(\n",
    "    x=data['event_dt'].dt.date, \n",
    "    hue=data['event_name']\n",
    ")\n",
    "\n",
    "plt.title('Столбчатая диаграмма, отображающая количество событий в зависимости от времени с различными названиями событий')\n",
    "plt.ylabel('Количество событий')\n",
    "plt.xlabel('Дата')\n",
    "plt.grid(True)\n",
    "plt.xticks(rotation=25)\n",
    "\n",
    "plt.show()"
   ]
  },
  {
   "cell_type": "markdown",
   "metadata": {},
   "source": [
    "#### Вывод:\n",
    "\n",
    "Общее количество событий равняется  243713 \n",
    "\n",
    "Всего имеется 5 событий в логе:\n",
    "1. MainScreenAppear - Появление главного экрана\n",
    "2. PaymentScreenSuccessful - Успешное выполнение платежа\n",
    "3. CartScreenAppear - Появление экрана с  корзины\n",
    "4. OffersScreenAppear - Появление экрана с предложениями\n",
    "5. Tutorial - Учебное пособоие"
   ]
  },
  {
   "cell_type": "markdown",
   "metadata": {},
   "source": [
    "### Сколько всего пользователей в логе?"
   ]
  },
  {
   "cell_type": "code",
   "execution_count": 23,
   "metadata": {},
   "outputs": [
    {
     "data": {
      "text/plain": [
       "7551"
      ]
     },
     "execution_count": 23,
     "metadata": {},
     "output_type": "execute_result"
    }
   ],
   "source": [
    "data['user_id'].nunique()"
   ]
  },
  {
   "cell_type": "markdown",
   "metadata": {},
   "source": [
    "#### Вывод:\n",
    "Всего 7551 уникальный пользователь"
   ]
  },
  {
   "cell_type": "markdown",
   "metadata": {},
   "source": [
    "### Сколько в среднем событий приходится на пользователя?"
   ]
  },
  {
   "cell_type": "code",
   "execution_count": 24,
   "metadata": {},
   "outputs": [],
   "source": [
    "# сгрупируем количество событий для каждого уникального пользователя\n",
    "events = (\n",
    "    data.groupby('user_id')\n",
    "    .agg({'event_name' : 'count'})\n",
    "    .reset_index()\n",
    "    .sort_values(by='event_name', ascending=False)\n",
    ")\n",
    "events.columns = ['id', 'count_event']"
   ]
  },
  {
   "cell_type": "code",
   "execution_count": 25,
   "metadata": {},
   "outputs": [
    {
     "data": {
      "text/html": [
       "<div>\n",
       "<style scoped>\n",
       "    .dataframe tbody tr th:only-of-type {\n",
       "        vertical-align: middle;\n",
       "    }\n",
       "\n",
       "    .dataframe tbody tr th {\n",
       "        vertical-align: top;\n",
       "    }\n",
       "\n",
       "    .dataframe thead th {\n",
       "        text-align: right;\n",
       "    }\n",
       "</style>\n",
       "<table border=\"1\" class=\"dataframe\">\n",
       "  <thead>\n",
       "    <tr style=\"text-align: right;\">\n",
       "      <th></th>\n",
       "      <th>id</th>\n",
       "      <th>count_event</th>\n",
       "    </tr>\n",
       "  </thead>\n",
       "  <tbody>\n",
       "    <tr>\n",
       "      <th>5116</th>\n",
       "      <td>6304868067479728361</td>\n",
       "      <td>2307</td>\n",
       "    </tr>\n",
       "    <tr>\n",
       "      <th>147</th>\n",
       "      <td>197027893265565660</td>\n",
       "      <td>1998</td>\n",
       "    </tr>\n",
       "    <tr>\n",
       "      <th>3714</th>\n",
       "      <td>4623191541214045580</td>\n",
       "      <td>1768</td>\n",
       "    </tr>\n",
       "    <tr>\n",
       "      <th>5590</th>\n",
       "      <td>6932517045703054087</td>\n",
       "      <td>1439</td>\n",
       "    </tr>\n",
       "    <tr>\n",
       "      <th>1391</th>\n",
       "      <td>1754140665440434215</td>\n",
       "      <td>1221</td>\n",
       "    </tr>\n",
       "    <tr>\n",
       "      <th>2641</th>\n",
       "      <td>3337471580007169353</td>\n",
       "      <td>1186</td>\n",
       "    </tr>\n",
       "    <tr>\n",
       "      <th>6294</th>\n",
       "      <td>7738058666231999878</td>\n",
       "      <td>888</td>\n",
       "    </tr>\n",
       "    <tr>\n",
       "      <th>822</th>\n",
       "      <td>1055544042902443290</td>\n",
       "      <td>854</td>\n",
       "    </tr>\n",
       "    <tr>\n",
       "      <th>3801</th>\n",
       "      <td>4713748699910253089</td>\n",
       "      <td>824</td>\n",
       "    </tr>\n",
       "    <tr>\n",
       "      <th>6617</th>\n",
       "      <td>8118046800480174342</td>\n",
       "      <td>755</td>\n",
       "    </tr>\n",
       "  </tbody>\n",
       "</table>\n",
       "</div>"
      ],
      "text/plain": [
       "                       id  count_event\n",
       "5116  6304868067479728361         2307\n",
       "147    197027893265565660         1998\n",
       "3714  4623191541214045580         1768\n",
       "5590  6932517045703054087         1439\n",
       "1391  1754140665440434215         1221\n",
       "2641  3337471580007169353         1186\n",
       "6294  7738058666231999878          888\n",
       "822   1055544042902443290          854\n",
       "3801  4713748699910253089          824\n",
       "6617  8118046800480174342          755"
      ]
     },
     "execution_count": 25,
     "metadata": {},
     "output_type": "execute_result"
    }
   ],
   "source": [
    "# посмотрим топ 10 пользователей по событиям\n",
    "events.head(10)"
   ]
  },
  {
   "cell_type": "code",
   "execution_count": 26,
   "metadata": {},
   "outputs": [
    {
     "name": "stdout",
     "output_type": "stream",
     "text": [
      "Среднее колличество событий на каждого пользователя: 32.3\n",
      "Медианное количество событий на каждого пользователя: 20.0\n"
     ]
    }
   ],
   "source": [
    "print('Среднее колличество событий на каждого пользователя:', round(events['count_event'].mean(), 1))\n",
    "# рассчитаем \n",
    "print('Медианное количество событий на каждого пользователя:', events['count_event'].median())\n"
   ]
  },
  {
   "cell_type": "markdown",
   "metadata": {},
   "source": [
    "#### Вывод:\n",
    "В среднем на пользователя приходится 32.3 события. Если брать медианное значение, то получаетсся 20 запросов на пользователя. В топ-10 пользователй по запросам входят пользователи с количеством запросов от 2307 до 755. Эти результаты позволяют лучше понять активность пользователей."
   ]
  },
  {
   "cell_type": "markdown",
   "metadata": {},
   "source": [
    "### Данными за какой период вы располагаете?"
   ]
  },
  {
   "cell_type": "code",
   "execution_count": 27,
   "metadata": {},
   "outputs": [
    {
     "data": {
      "text/plain": [
       "Timestamp('2019-07-25 00:00:00')"
      ]
     },
     "execution_count": 27,
     "metadata": {},
     "output_type": "execute_result"
    }
   ],
   "source": [
    "# найдем минимальную дату в данных\n",
    "data['event_dt'].min()"
   ]
  },
  {
   "cell_type": "code",
   "execution_count": 28,
   "metadata": {},
   "outputs": [
    {
     "data": {
      "text/plain": [
       "Timestamp('2019-08-07 00:00:00')"
      ]
     },
     "execution_count": 28,
     "metadata": {},
     "output_type": "execute_result"
    }
   ],
   "source": [
    "# найдем максимальную дату в данных\n",
    "data['event_dt'].max()"
   ]
  },
  {
   "cell_type": "code",
   "execution_count": 29,
   "metadata": {},
   "outputs": [
    {
     "data": {
      "text/plain": [
       "Timedelta('13 days 00:00:00')"
      ]
     },
     "execution_count": 29,
     "metadata": {},
     "output_type": "execute_result"
    }
   ],
   "source": [
    "# найдем rjkичество дней в исследуемых данных\n",
    "data['event_dt'].max() - data['event_dt'].min()"
   ]
  },
  {
   "cell_type": "markdown",
   "metadata": {},
   "source": [
    "#### Вывод: \n",
    "Первая запись лога была 25 июля 2019 года, последняя запись 7 августа того же года. Всего у нас есть данные за 13 дней."
   ]
  },
  {
   "cell_type": "markdown",
   "metadata": {},
   "source": [
    "### Построим столбчатую диаграмму, которая отобразит количество событий в зависимости от времени в разрезе групп."
   ]
  },
  {
   "cell_type": "code",
   "execution_count": 30,
   "metadata": {},
   "outputs": [],
   "source": [
    "# соберем таблицу с датой, номером и количеством события\n",
    "event_count = (\n",
    "    data.pivot_table(index=['event_dt', 'exp_id'],\n",
    "                     values='event_name', \n",
    "                     aggfunc='count')\n",
    "    .reset_index()\n",
    ")"
   ]
  },
  {
   "cell_type": "code",
   "execution_count": 31,
   "metadata": {},
   "outputs": [
    {
     "data": {
      "text/html": [
       "<div>\n",
       "<style scoped>\n",
       "    .dataframe tbody tr th:only-of-type {\n",
       "        vertical-align: middle;\n",
       "    }\n",
       "\n",
       "    .dataframe tbody tr th {\n",
       "        vertical-align: top;\n",
       "    }\n",
       "\n",
       "    .dataframe thead th {\n",
       "        text-align: right;\n",
       "    }\n",
       "</style>\n",
       "<table border=\"1\" class=\"dataframe\">\n",
       "  <thead>\n",
       "    <tr style=\"text-align: right;\">\n",
       "      <th></th>\n",
       "      <th>event_dt</th>\n",
       "      <th>exp_id</th>\n",
       "      <th>event_name</th>\n",
       "    </tr>\n",
       "  </thead>\n",
       "  <tbody>\n",
       "    <tr>\n",
       "      <th>0</th>\n",
       "      <td>2019-07-25</td>\n",
       "      <td>246</td>\n",
       "      <td>4</td>\n",
       "    </tr>\n",
       "    <tr>\n",
       "      <th>1</th>\n",
       "      <td>2019-07-25</td>\n",
       "      <td>247</td>\n",
       "      <td>1</td>\n",
       "    </tr>\n",
       "    <tr>\n",
       "      <th>2</th>\n",
       "      <td>2019-07-25</td>\n",
       "      <td>248</td>\n",
       "      <td>4</td>\n",
       "    </tr>\n",
       "    <tr>\n",
       "      <th>3</th>\n",
       "      <td>2019-07-26</td>\n",
       "      <td>246</td>\n",
       "      <td>14</td>\n",
       "    </tr>\n",
       "    <tr>\n",
       "      <th>4</th>\n",
       "      <td>2019-07-26</td>\n",
       "      <td>247</td>\n",
       "      <td>8</td>\n",
       "    </tr>\n",
       "    <tr>\n",
       "      <th>5</th>\n",
       "      <td>2019-07-26</td>\n",
       "      <td>248</td>\n",
       "      <td>9</td>\n",
       "    </tr>\n",
       "    <tr>\n",
       "      <th>6</th>\n",
       "      <td>2019-07-27</td>\n",
       "      <td>246</td>\n",
       "      <td>24</td>\n",
       "    </tr>\n",
       "    <tr>\n",
       "      <th>7</th>\n",
       "      <td>2019-07-27</td>\n",
       "      <td>247</td>\n",
       "      <td>23</td>\n",
       "    </tr>\n",
       "    <tr>\n",
       "      <th>8</th>\n",
       "      <td>2019-07-27</td>\n",
       "      <td>248</td>\n",
       "      <td>8</td>\n",
       "    </tr>\n",
       "    <tr>\n",
       "      <th>9</th>\n",
       "      <td>2019-07-28</td>\n",
       "      <td>246</td>\n",
       "      <td>33</td>\n",
       "    </tr>\n",
       "  </tbody>\n",
       "</table>\n",
       "</div>"
      ],
      "text/plain": [
       "    event_dt  exp_id  event_name\n",
       "0 2019-07-25     246           4\n",
       "1 2019-07-25     247           1\n",
       "2 2019-07-25     248           4\n",
       "3 2019-07-26     246          14\n",
       "4 2019-07-26     247           8\n",
       "5 2019-07-26     248           9\n",
       "6 2019-07-27     246          24\n",
       "7 2019-07-27     247          23\n",
       "8 2019-07-27     248           8\n",
       "9 2019-07-28     246          33"
      ]
     },
     "execution_count": 31,
     "metadata": {},
     "output_type": "execute_result"
    }
   ],
   "source": [
    "event_count.head(10)"
   ]
  },
  {
   "cell_type": "code",
   "execution_count": 32,
   "metadata": {},
   "outputs": [
    {
     "data": {
      "image/png": "[encoded data removed]",
      "text/plain": [
       "<Figure size 1600x800 with 1 Axes>"
      ]
     },
     "metadata": {},
     "output_type": "display_data"
    }
   ],
   "source": [
    "plt.figure(figsize=(16, 8))\n",
    "\n",
    "sns.barplot(y=event_count['event_name'],\n",
    "           x=event_count['event_dt'].dt.date,\n",
    "           hue=event_count['exp_id']\n",
    "           )\n",
    "\n",
    "plt.title('Cтолбчатая диаграмма, которая отображает количество событий в зависимости от времени в разрезе групп')\n",
    "plt.ylabel('Количество событий')\n",
    "plt.xlabel('Дата')\n",
    "plt.grid(True)\n",
    "plt.xticks(rotation=25);"
   ]
  },
  {
   "cell_type": "markdown",
   "metadata": {},
   "source": [
    "**Можно ли быть уверенным, что у вас одинаково полные данные за весь период? Технически в логи новых дней по некоторым пользователям могут «доезжать» события из прошлого — это может «перекашивать данные». Определите, с какого момента данные полные и отбросьте более старые. Данными за какой период времени вы располагаете на самом деле?**"
   ]
  },
  {
   "cell_type": "markdown",
   "metadata": {},
   "source": [
    "#### Вывод:\n",
    "Исходя из анализа графика, можно сделать вывод, что данные за период с 25.07 по 31.07 практически отсутствуют, поэтому начало анализа данных следует проводить с 1.08.2019. Таким образом, доступны данные за неделю с 1 по 7 августа. Важно учитывать этот факт при дальнейшем исследовании."
   ]
  },
  {
   "cell_type": "markdown",
   "metadata": {},
   "source": [
    "### Много ли событий и пользователей вы потеряли, отбросив старые данные?"
   ]
  },
  {
   "cell_type": "code",
   "execution_count": 33,
   "metadata": {},
   "outputs": [
    {
     "data": {
      "text/html": [
       "<div>\n",
       "<style scoped>\n",
       "    .dataframe tbody tr th:only-of-type {\n",
       "        vertical-align: middle;\n",
       "    }\n",
       "\n",
       "    .dataframe tbody tr th {\n",
       "        vertical-align: top;\n",
       "    }\n",
       "\n",
       "    .dataframe thead th {\n",
       "        text-align: right;\n",
       "    }\n",
       "</style>\n",
       "<table border=\"1\" class=\"dataframe\">\n",
       "  <thead>\n",
       "    <tr style=\"text-align: right;\">\n",
       "      <th></th>\n",
       "      <th>event_name</th>\n",
       "      <th>user_id</th>\n",
       "      <th>event_timestamp</th>\n",
       "      <th>exp_id</th>\n",
       "      <th>event_date</th>\n",
       "      <th>event_dt</th>\n",
       "    </tr>\n",
       "  </thead>\n",
       "  <tbody>\n",
       "    <tr>\n",
       "      <th>0</th>\n",
       "      <td>MainScreenAppear</td>\n",
       "      <td>4575588528974610257</td>\n",
       "      <td>1564029816</td>\n",
       "      <td>246</td>\n",
       "      <td>2019-07-25 04:43:36</td>\n",
       "      <td>2019-07-25</td>\n",
       "    </tr>\n",
       "    <tr>\n",
       "      <th>1</th>\n",
       "      <td>MainScreenAppear</td>\n",
       "      <td>7416695313311560658</td>\n",
       "      <td>1564053102</td>\n",
       "      <td>246</td>\n",
       "      <td>2019-07-25 11:11:42</td>\n",
       "      <td>2019-07-25</td>\n",
       "    </tr>\n",
       "    <tr>\n",
       "      <th>2</th>\n",
       "      <td>PaymentScreenSuccessful</td>\n",
       "      <td>3518123091307005509</td>\n",
       "      <td>1564054127</td>\n",
       "      <td>248</td>\n",
       "      <td>2019-07-25 11:28:47</td>\n",
       "      <td>2019-07-25</td>\n",
       "    </tr>\n",
       "    <tr>\n",
       "      <th>3</th>\n",
       "      <td>CartScreenAppear</td>\n",
       "      <td>3518123091307005509</td>\n",
       "      <td>1564054127</td>\n",
       "      <td>248</td>\n",
       "      <td>2019-07-25 11:28:47</td>\n",
       "      <td>2019-07-25</td>\n",
       "    </tr>\n",
       "    <tr>\n",
       "      <th>4</th>\n",
       "      <td>PaymentScreenSuccessful</td>\n",
       "      <td>6217807653094995999</td>\n",
       "      <td>1564055322</td>\n",
       "      <td>248</td>\n",
       "      <td>2019-07-25 11:48:42</td>\n",
       "      <td>2019-07-25</td>\n",
       "    </tr>\n",
       "    <tr>\n",
       "      <th>...</th>\n",
       "      <td>...</td>\n",
       "      <td>...</td>\n",
       "      <td>...</td>\n",
       "      <td>...</td>\n",
       "      <td>...</td>\n",
       "      <td>...</td>\n",
       "    </tr>\n",
       "    <tr>\n",
       "      <th>244121</th>\n",
       "      <td>MainScreenAppear</td>\n",
       "      <td>4599628364049201812</td>\n",
       "      <td>1565212345</td>\n",
       "      <td>247</td>\n",
       "      <td>2019-08-07 21:12:25</td>\n",
       "      <td>2019-08-07</td>\n",
       "    </tr>\n",
       "    <tr>\n",
       "      <th>244122</th>\n",
       "      <td>MainScreenAppear</td>\n",
       "      <td>5849806612437486590</td>\n",
       "      <td>1565212439</td>\n",
       "      <td>246</td>\n",
       "      <td>2019-08-07 21:13:59</td>\n",
       "      <td>2019-08-07</td>\n",
       "    </tr>\n",
       "    <tr>\n",
       "      <th>244123</th>\n",
       "      <td>MainScreenAppear</td>\n",
       "      <td>5746969938801999050</td>\n",
       "      <td>1565212483</td>\n",
       "      <td>246</td>\n",
       "      <td>2019-08-07 21:14:43</td>\n",
       "      <td>2019-08-07</td>\n",
       "    </tr>\n",
       "    <tr>\n",
       "      <th>244124</th>\n",
       "      <td>MainScreenAppear</td>\n",
       "      <td>5746969938801999050</td>\n",
       "      <td>1565212498</td>\n",
       "      <td>246</td>\n",
       "      <td>2019-08-07 21:14:58</td>\n",
       "      <td>2019-08-07</td>\n",
       "    </tr>\n",
       "    <tr>\n",
       "      <th>244125</th>\n",
       "      <td>OffersScreenAppear</td>\n",
       "      <td>5746969938801999050</td>\n",
       "      <td>1565212517</td>\n",
       "      <td>246</td>\n",
       "      <td>2019-08-07 21:15:17</td>\n",
       "      <td>2019-08-07</td>\n",
       "    </tr>\n",
       "  </tbody>\n",
       "</table>\n",
       "<p>243713 rows × 6 columns</p>\n",
       "</div>"
      ],
      "text/plain": [
       "                     event_name              user_id  event_timestamp  exp_id  \\\n",
       "0              MainScreenAppear  4575588528974610257       1564029816     246   \n",
       "1              MainScreenAppear  7416695313311560658       1564053102     246   \n",
       "2       PaymentScreenSuccessful  3518123091307005509       1564054127     248   \n",
       "3              CartScreenAppear  3518123091307005509       1564054127     248   \n",
       "4       PaymentScreenSuccessful  6217807653094995999       1564055322     248   \n",
       "...                         ...                  ...              ...     ...   \n",
       "244121         MainScreenAppear  4599628364049201812       1565212345     247   \n",
       "244122         MainScreenAppear  5849806612437486590       1565212439     246   \n",
       "244123         MainScreenAppear  5746969938801999050       1565212483     246   \n",
       "244124         MainScreenAppear  5746969938801999050       1565212498     246   \n",
       "244125       OffersScreenAppear  5746969938801999050       1565212517     246   \n",
       "\n",
       "                event_date   event_dt  \n",
       "0      2019-07-25 04:43:36 2019-07-25  \n",
       "1      2019-07-25 11:11:42 2019-07-25  \n",
       "2      2019-07-25 11:28:47 2019-07-25  \n",
       "3      2019-07-25 11:28:47 2019-07-25  \n",
       "4      2019-07-25 11:48:42 2019-07-25  \n",
       "...                    ...        ...  \n",
       "244121 2019-08-07 21:12:25 2019-08-07  \n",
       "244122 2019-08-07 21:13:59 2019-08-07  \n",
       "244123 2019-08-07 21:14:43 2019-08-07  \n",
       "244124 2019-08-07 21:14:58 2019-08-07  \n",
       "244125 2019-08-07 21:15:17 2019-08-07  \n",
       "\n",
       "[243713 rows x 6 columns]"
      ]
     },
     "execution_count": 33,
     "metadata": {},
     "output_type": "execute_result"
    }
   ],
   "source": [
    "data"
   ]
  },
  {
   "cell_type": "code",
   "execution_count": 34,
   "metadata": {},
   "outputs": [],
   "source": [
    "# сделаем срез данных, оставив только нужные данные\n",
    "new_data = data[data['event_dt'] >=  '2019-08-01']"
   ]
  },
  {
   "cell_type": "code",
   "execution_count": 35,
   "metadata": {},
   "outputs": [
    {
     "name": "stdout",
     "output_type": "stream",
     "text": [
      "Отбросив старые данные мы потеряли:\n",
      "Потерянных пользователей: 17(0.225%)\n",
      "Потерянных событий: 2826(1.16%)\n",
      "\n"
     ]
    }
   ],
   "source": [
    "print('Отбросив старые данные мы потеряли:')\n",
    "# посчитаем сколько пользователей мы потеряли срезав данные\n",
    "lost_users = data['user_id'].nunique() - new_data['user_id'].nunique()\n",
    "lost_users_per = round(lost_users / data['user_id'].nunique()* 100, 3)\n",
    "print(f'Потерянных пользователей: {lost_users}({lost_users_per}%)')\n",
    "\n",
    "# посчитаем сколько данных мы потеряди из за среза данных\n",
    "lost_event = data.shape[0] - new_data.shape[0]\n",
    "lost_event_per = round((1 - (new_data.shape[0] / data.shape[0])) * 100, 2)\n",
    "print(f'Потерянных событий: {lost_event}({lost_event_per}%)')\n",
    "print()"
   ]
  },
  {
   "cell_type": "markdown",
   "metadata": {},
   "source": [
    "<a id='section3.7'></a>\n",
    "### Проверим, что у вас есть пользователи из всех трёх экспериментальных групп."
   ]
  },
  {
   "cell_type": "code",
   "execution_count": 36,
   "metadata": {},
   "outputs": [
    {
     "data": {
      "text/html": [
       "<div>\n",
       "<style scoped>\n",
       "    .dataframe tbody tr th:only-of-type {\n",
       "        vertical-align: middle;\n",
       "    }\n",
       "\n",
       "    .dataframe tbody tr th {\n",
       "        vertical-align: top;\n",
       "    }\n",
       "\n",
       "    .dataframe thead th {\n",
       "        text-align: right;\n",
       "    }\n",
       "</style>\n",
       "<table border=\"1\" class=\"dataframe\">\n",
       "  <thead>\n",
       "    <tr style=\"text-align: right;\">\n",
       "      <th></th>\n",
       "      <th>group_number</th>\n",
       "      <th>count_id</th>\n",
       "    </tr>\n",
       "  </thead>\n",
       "  <tbody>\n",
       "    <tr>\n",
       "      <th>0</th>\n",
       "      <td>246</td>\n",
       "      <td>2484</td>\n",
       "    </tr>\n",
       "    <tr>\n",
       "      <th>1</th>\n",
       "      <td>247</td>\n",
       "      <td>2513</td>\n",
       "    </tr>\n",
       "    <tr>\n",
       "      <th>2</th>\n",
       "      <td>248</td>\n",
       "      <td>2537</td>\n",
       "    </tr>\n",
       "  </tbody>\n",
       "</table>\n",
       "</div>"
      ],
      "text/plain": [
       "   group_number  count_id\n",
       "0           246      2484\n",
       "1           247      2513\n",
       "2           248      2537"
      ]
     },
     "execution_count": 36,
     "metadata": {},
     "output_type": "execute_result"
    }
   ],
   "source": [
    "# посчитаем пользователей каждой группы\n",
    "group_size =(\n",
    "    new_data.groupby('exp_id')\n",
    "    .agg({'user_id' : 'nunique'})\n",
    "    .reset_index()\n",
    "    .rename(columns={'exp_id' : 'group_number',\n",
    "        'user_id' : 'count_id'})\n",
    ")\n",
    "group_size"
   ]
  },
  {
   "cell_type": "markdown",
   "metadata": {},
   "source": [
    "#### Вывод:\n",
    "Исходя из сгруппированного графика, можно сделать вывод, что у нас есть пользователи из всех трех групп. Группа 246 содержит 2484 пользователя, группа 247 включает в себя 2513 пользователей, а группа 248 насчитывает 2537 пользователей. Таким образом, наблюдается распределение пользователей по группам, и каждая из них имеет свое уникальное количество пользователей."
   ]
  },
  {
   "cell_type": "markdown",
   "metadata": {},
   "source": [
    "<a id='section4'></a>\n",
    "## Изучить воронку событий:"
   ]
  },
  {
   "cell_type": "markdown",
   "metadata": {},
   "source": [
    "### Посмотрим, какие события есть в логах, как часто они встречаются. Отсортируем события по частоте."
   ]
  },
  {
   "cell_type": "code",
   "execution_count": 37,
   "metadata": {},
   "outputs": [
    {
     "data": {
      "text/plain": [
       "MainScreenAppear           117328\n",
       "OffersScreenAppear          46333\n",
       "CartScreenAppear            42303\n",
       "PaymentScreenSuccessful     33918\n",
       "Tutorial                     1005\n",
       "Name: event_name, dtype: int64"
      ]
     },
     "execution_count": 37,
     "metadata": {},
     "output_type": "execute_result"
    }
   ],
   "source": [
    "new_data['event_name'].value_counts()"
   ]
  },
  {
   "cell_type": "code",
   "execution_count": 38,
   "metadata": {},
   "outputs": [
    {
     "data": {
      "image/png": "[encoded data removed]",
      "text/plain": [
       "<Figure size 640x480 with 1 Axes>"
      ]
     },
     "metadata": {},
     "output_type": "display_data"
    }
   ],
   "source": [
    "plt.hist(new_data['event_name'], bins=5)\n",
    "plt.grid(True)\n",
    "plt.title('Гисторграмма событий')\n",
    "plt.ylabel('Количество событий')\n",
    "plt.xlabel('Событие')\n",
    "plt.xticks(rotation=25);"
   ]
  },
  {
   "cell_type": "markdown",
   "metadata": {},
   "source": [
    "#### Вывод:\n",
    "Чаще всего встречается MainScreenAppear(появился главный экран) - 117328 раз. Реже всего Tutorial(учебное пособие) - 1005 раз."
   ]
  },
  {
   "cell_type": "markdown",
   "metadata": {},
   "source": [
    "<a id='section4.2'></a>\n",
    "### Посчитайте, сколько пользователей совершали каждое из этих событий. Отсортируйте события по числу пользователей. - Посчитайте долю пользователей, которые хоть раз совершали событие."
   ]
  },
  {
   "cell_type": "code",
   "execution_count": 39,
   "metadata": {},
   "outputs": [
    {
     "data": {
      "text/html": [
       "<div>\n",
       "<style scoped>\n",
       "    .dataframe tbody tr th:only-of-type {\n",
       "        vertical-align: middle;\n",
       "    }\n",
       "\n",
       "    .dataframe tbody tr th {\n",
       "        vertical-align: top;\n",
       "    }\n",
       "\n",
       "    .dataframe thead th {\n",
       "        text-align: right;\n",
       "    }\n",
       "</style>\n",
       "<table border=\"1\" class=\"dataframe\">\n",
       "  <thead>\n",
       "    <tr style=\"text-align: right;\">\n",
       "      <th></th>\n",
       "      <th>event_name</th>\n",
       "      <th>user_id</th>\n",
       "      <th>event_timestamp</th>\n",
       "      <th>exp_id</th>\n",
       "      <th>event_date</th>\n",
       "      <th>event_dt</th>\n",
       "    </tr>\n",
       "  </thead>\n",
       "  <tbody>\n",
       "    <tr>\n",
       "      <th>2828</th>\n",
       "      <td>Tutorial</td>\n",
       "      <td>3737462046622621720</td>\n",
       "      <td>1564618048</td>\n",
       "      <td>246</td>\n",
       "      <td>2019-08-01 00:07:28</td>\n",
       "      <td>2019-08-01</td>\n",
       "    </tr>\n",
       "    <tr>\n",
       "      <th>2829</th>\n",
       "      <td>MainScreenAppear</td>\n",
       "      <td>3737462046622621720</td>\n",
       "      <td>1564618080</td>\n",
       "      <td>246</td>\n",
       "      <td>2019-08-01 00:08:00</td>\n",
       "      <td>2019-08-01</td>\n",
       "    </tr>\n",
       "    <tr>\n",
       "      <th>2830</th>\n",
       "      <td>MainScreenAppear</td>\n",
       "      <td>3737462046622621720</td>\n",
       "      <td>1564618135</td>\n",
       "      <td>246</td>\n",
       "      <td>2019-08-01 00:08:55</td>\n",
       "      <td>2019-08-01</td>\n",
       "    </tr>\n",
       "    <tr>\n",
       "      <th>2831</th>\n",
       "      <td>OffersScreenAppear</td>\n",
       "      <td>3737462046622621720</td>\n",
       "      <td>1564618138</td>\n",
       "      <td>246</td>\n",
       "      <td>2019-08-01 00:08:58</td>\n",
       "      <td>2019-08-01</td>\n",
       "    </tr>\n",
       "    <tr>\n",
       "      <th>2832</th>\n",
       "      <td>MainScreenAppear</td>\n",
       "      <td>1433840883824088890</td>\n",
       "      <td>1564618139</td>\n",
       "      <td>247</td>\n",
       "      <td>2019-08-01 00:08:59</td>\n",
       "      <td>2019-08-01</td>\n",
       "    </tr>\n",
       "  </tbody>\n",
       "</table>\n",
       "</div>"
      ],
      "text/plain": [
       "              event_name              user_id  event_timestamp  exp_id  \\\n",
       "2828            Tutorial  3737462046622621720       1564618048     246   \n",
       "2829    MainScreenAppear  3737462046622621720       1564618080     246   \n",
       "2830    MainScreenAppear  3737462046622621720       1564618135     246   \n",
       "2831  OffersScreenAppear  3737462046622621720       1564618138     246   \n",
       "2832    MainScreenAppear  1433840883824088890       1564618139     247   \n",
       "\n",
       "              event_date   event_dt  \n",
       "2828 2019-08-01 00:07:28 2019-08-01  \n",
       "2829 2019-08-01 00:08:00 2019-08-01  \n",
       "2830 2019-08-01 00:08:55 2019-08-01  \n",
       "2831 2019-08-01 00:08:58 2019-08-01  \n",
       "2832 2019-08-01 00:08:59 2019-08-01  "
      ]
     },
     "execution_count": 39,
     "metadata": {},
     "output_type": "execute_result"
    }
   ],
   "source": [
    "new_data.head()"
   ]
  },
  {
   "cell_type": "code",
   "execution_count": 40,
   "metadata": {},
   "outputs": [],
   "source": [
    "# создадим функцию для находжения самого популярного события\n",
    "def count_user_id(data):\n",
    "    result = (\n",
    "        data.groupby('event_name')\n",
    "        .agg({'user_id': 'nunique'})\n",
    "        .reset_index()\n",
    "        .sort_values(by='user_id', ascending=False)\n",
    "        .rename(columns={'user_id': 'count_user'})\n",
    "    )\n",
    "    \n",
    "    total_users = data['user_id'].nunique()\n",
    "    result['ratio, %'] = round(result['count_user'] / total_users, 2) * 100\n",
    "    \n",
    "    return result"
   ]
  },
  {
   "cell_type": "code",
   "execution_count": 41,
   "metadata": {
    "scrolled": true
   },
   "outputs": [],
   "source": [
    "count_user = count_user_id(new_data)"
   ]
  },
  {
   "cell_type": "code",
   "execution_count": 65,
   "metadata": {},
   "outputs": [
    {
     "data": {
      "image/png": "[encoded data removed]",
      "text/plain": [
       "<Figure size 1000x600 with 1 Axes>"
      ]
     },
     "metadata": {},
     "output_type": "display_data"
    }
   ],
   "source": [
    "# строим график\n",
    "plt.figure(figsize=(10, 6))\n",
    "sns.barplot(x='ratio, %', \n",
    "            y='event_name', \n",
    "            data=count_user)\n",
    "\n",
    "plt.title('Воронка событий')\n",
    "plt.xlabel('Процент пользователей')\n",
    "plt.ylabel('События')\n",
    "plt.grid(True)\n",
    "plt.xlim(0, 100)  \n",
    "plt.show()"
   ]
  },
  {
   "cell_type": "markdown",
   "metadata": {},
   "source": [
    "#### Вывод:\n",
    "Из проведенного анализа данных можно сделать следующие выводы:\n",
    "\n",
    "1. Событие MainScreenAppear (Появился главный экран) было совершено 7419 пользователями, что составляет примерно 98% от общего количества пользователей. Это говорит о том, что практически все пользователи заходят на главный экран приложения.\n",
    "\n",
    "2. Событие OffersScreenAppear (Появление экрана с предложениями) было совершено 4593 пользователями, что составляет около 61% от общего количества пользователей. Это говорит о том, что менее половины пользователей, которые заходят на главный экран, заходят на экран с предложениями.\n",
    "\n",
    "3. Событие CartScreenAppear (Появление экрана корзины) было совершено 3734 пользователями, что составляет около 50%. Это говорит о том, что половина пользователей заходят в раздел козина.\n",
    "\n",
    "4. Событие PaymentScreenSuccessful\t(Успешное выполнение платежа) было совершено 3539 пользователями, что составляет 47%. Это говорит о том, что 47% пользователей успешно совершают покупку.\n",
    "\n",
    "5. Событие Tutorial (Учебное пособие) было совершено всего 840 пользователями, что составляет около 11% от общего количества пользователей. Это говорит о том, что только небольшая часть пользователей проходит обучение или использует учебные материалы в приложении.\n",
    "\n",
    "Из проведенного анализа данных следует, что основной поток пользователей приложения проходит через главный экран, однако далее процент пользователей, переходящих на экран с предложениями и экран корзины, постепенно уменьшается. Только около половины пользователей, посетивших главный экран, завершают покупку. Кроме того, учебные материалы в приложении используются лишь небольшой частью пользователей.\n"
   ]
  },
  {
   "cell_type": "markdown",
   "metadata": {},
   "source": [
    "### Предположим,  порядок событий. "
   ]
  },
  {
   "cell_type": "markdown",
   "metadata": {},
   "source": [
    "Могу предположить, что события проходят следкющим образом:\n",
    "    1. Пользователь заходит на главный экран и выполняет событие MainScreenAppear.\n",
    "    2. Далее пользователь переходит в экран с предложениями  - OffersScreenAppear\n",
    "    3. Оттуда пользователи переходят в корзину, совершая событие CartScreenAppear\n",
    "    4. С корзины пользователи уже совершают покупку, получается событие PaymentScreenSuccessful\n",
    "    \n",
    "Событие Tutorial не входит в последовательную цепочку - не будем учитывать их при подсчете воронки"
   ]
  },
  {
   "cell_type": "markdown",
   "metadata": {},
   "source": [
    "### По воронке событий посчитаем, какая доля пользователей проходит на следующий шаг воронки (от числа пользователей на предыдущем). То есть для последовательности событий A → B → C посчитаем отношение числа пользователей с событием B к количеству пользователей с событием A, а также отношение числа пользователей с событием C к количеству пользователей с событием B."
   ]
  },
  {
   "cell_type": "code",
   "execution_count": 45,
   "metadata": {
    "scrolled": true
   },
   "outputs": [],
   "source": [
    "# создадим срез данных без события Tutorial\n",
    "count_user_cr = count_user[count_user['event_name'] != 'Tutorial'].copy()"
   ]
  },
  {
   "cell_type": "code",
   "execution_count": 46,
   "metadata": {},
   "outputs": [],
   "source": [
    "# посчитаем долю пользователей которая переходит от шага к шагу\n",
    "count_user_cr['conversion'] = (\n",
    "    ((count_user_cr['count_user'] / count_user_cr['count_user'].shift(1)) * 100)\n",
    "    .astype(float)\n",
    "    .fillna(100)\n",
    "    .apply(lambda x: f'{x:.2f}%')\n",
    ")"
   ]
  },
  {
   "cell_type": "code",
   "execution_count": 47,
   "metadata": {},
   "outputs": [
    {
     "data": {
      "text/html": [
       "<div>\n",
       "<style scoped>\n",
       "    .dataframe tbody tr th:only-of-type {\n",
       "        vertical-align: middle;\n",
       "    }\n",
       "\n",
       "    .dataframe tbody tr th {\n",
       "        vertical-align: top;\n",
       "    }\n",
       "\n",
       "    .dataframe thead th {\n",
       "        text-align: right;\n",
       "    }\n",
       "</style>\n",
       "<table border=\"1\" class=\"dataframe\">\n",
       "  <thead>\n",
       "    <tr style=\"text-align: right;\">\n",
       "      <th></th>\n",
       "      <th>event_name</th>\n",
       "      <th>count_user</th>\n",
       "      <th>ratio, %</th>\n",
       "      <th>conversion</th>\n",
       "    </tr>\n",
       "  </thead>\n",
       "  <tbody>\n",
       "    <tr>\n",
       "      <th>1</th>\n",
       "      <td>MainScreenAppear</td>\n",
       "      <td>7419</td>\n",
       "      <td>98.0</td>\n",
       "      <td>100.00%</td>\n",
       "    </tr>\n",
       "    <tr>\n",
       "      <th>2</th>\n",
       "      <td>OffersScreenAppear</td>\n",
       "      <td>4593</td>\n",
       "      <td>61.0</td>\n",
       "      <td>61.91%</td>\n",
       "    </tr>\n",
       "    <tr>\n",
       "      <th>0</th>\n",
       "      <td>CartScreenAppear</td>\n",
       "      <td>3734</td>\n",
       "      <td>50.0</td>\n",
       "      <td>81.30%</td>\n",
       "    </tr>\n",
       "    <tr>\n",
       "      <th>3</th>\n",
       "      <td>PaymentScreenSuccessful</td>\n",
       "      <td>3539</td>\n",
       "      <td>47.0</td>\n",
       "      <td>94.78%</td>\n",
       "    </tr>\n",
       "  </tbody>\n",
       "</table>\n",
       "</div>"
      ],
      "text/plain": [
       "                event_name  count_user  ratio, % conversion\n",
       "1         MainScreenAppear        7419      98.0    100.00%\n",
       "2       OffersScreenAppear        4593      61.0     61.91%\n",
       "0         CartScreenAppear        3734      50.0     81.30%\n",
       "3  PaymentScreenSuccessful        3539      47.0     94.78%"
      ]
     },
     "execution_count": 47,
     "metadata": {},
     "output_type": "execute_result"
    }
   ],
   "source": [
    "count_user_cr"
   ]
  },
  {
   "cell_type": "markdown",
   "metadata": {},
   "source": [
    "#### Вывод: \n",
    "По полученным данным получается, что от первого события MainScreenAppear(Появился главный экран) ко воторому OffersScreenAppear(Появление экрана с предложениями) переходит 61.91% пользователей. От второго шага к третьему CartScreenAppear(Появление экрана корзины) переходит 81.3% пользователей. А от третьего шага к четвертому PaymentScreenSuccessful(Успешное выполнение платежа) переходит 94.78% пользоватлей."
   ]
  },
  {
   "cell_type": "markdown",
   "metadata": {},
   "source": [
    "### На каком шаге теряете больше всего пользователей?"
   ]
  },
  {
   "cell_type": "markdown",
   "metadata": {},
   "source": [
    "Большой процент пользователей (38.09%) теряется именно на этом этапе — от MainScreenAppear до OffersScreenAppear. Это может быть связано с различными факторами, такими как неудовлетворительный дизайн экрана с предложениями, сложности в навигации или не подходящий контент для пользователей. Для уменьшения процента оттока пользователей на этом этапе можно провести дополнительное исследование. Например, можно организовать UX-исследование (Eye tracking или провести интервью) для выявления проблем с интерфейсом или понять, что их отпугивает на этом этапе."
   ]
  },
  {
   "cell_type": "markdown",
   "metadata": {},
   "source": [
    "### Какая доля пользователей доходит от первого события до оплаты?"
   ]
  },
  {
   "cell_type": "code",
   "execution_count": 48,
   "metadata": {},
   "outputs": [
    {
     "name": "stdout",
     "output_type": "stream",
     "text": [
      "Доля пользователей, которые доходят от первого события до оплаты, равна 47.70%\n"
     ]
    }
   ],
   "source": [
    "fraction_users = (count_user_cr['count_user'][3] / count_user_cr['count_user'][1]) * 100\n",
    "print(f\"Доля пользователей, которые доходят от первого события до оплаты, равна {fraction_users:.2f}%\")"
   ]
  },
  {
   "cell_type": "markdown",
   "metadata": {},
   "source": [
    "<a id='section5'></a>\n",
    "## Изучим результаты эксперимента:"
   ]
  },
  {
   "cell_type": "markdown",
   "metadata": {},
   "source": [
    "### Сколько пользователей в каждой экспериментальной группе?"
   ]
  },
  {
   "cell_type": "markdown",
   "metadata": {},
   "source": [
    "Выше, я уже находил размер групп, в пункте [3.7](#section3.7). Продолжим работать с полученными данными."
   ]
  },
  {
   "cell_type": "code",
   "execution_count": 49,
   "metadata": {},
   "outputs": [
    {
     "data": {
      "text/html": [
       "<div>\n",
       "<style scoped>\n",
       "    .dataframe tbody tr th:only-of-type {\n",
       "        vertical-align: middle;\n",
       "    }\n",
       "\n",
       "    .dataframe tbody tr th {\n",
       "        vertical-align: top;\n",
       "    }\n",
       "\n",
       "    .dataframe thead th {\n",
       "        text-align: right;\n",
       "    }\n",
       "</style>\n",
       "<table border=\"1\" class=\"dataframe\">\n",
       "  <thead>\n",
       "    <tr style=\"text-align: right;\">\n",
       "      <th></th>\n",
       "      <th>group_number</th>\n",
       "      <th>count_id</th>\n",
       "    </tr>\n",
       "  </thead>\n",
       "  <tbody>\n",
       "    <tr>\n",
       "      <th>0</th>\n",
       "      <td>246</td>\n",
       "      <td>2484</td>\n",
       "    </tr>\n",
       "    <tr>\n",
       "      <th>1</th>\n",
       "      <td>247</td>\n",
       "      <td>2513</td>\n",
       "    </tr>\n",
       "    <tr>\n",
       "      <th>2</th>\n",
       "      <td>248</td>\n",
       "      <td>2537</td>\n",
       "    </tr>\n",
       "  </tbody>\n",
       "</table>\n",
       "</div>"
      ],
      "text/plain": [
       "   group_number  count_id\n",
       "0           246      2484\n",
       "1           247      2513\n",
       "2           248      2537"
      ]
     },
     "execution_count": 49,
     "metadata": {},
     "output_type": "execute_result"
    }
   ],
   "source": [
    "group_size"
   ]
  },
  {
   "cell_type": "markdown",
   "metadata": {},
   "source": [
    "#### Вывод:\n",
    "Группы 246 и 247 - являются контрольными, количество участников в них равно 2484 и 2513 соответственно. Группа 248 - является эксперементальной и поличество пользователей в ней - 2537 пользователей."
   ]
  },
  {
   "cell_type": "markdown",
   "metadata": {},
   "source": [
    "### Есть 2 контрольные группы для А/А-эксперимента, чтобы проверить корректность всех механизмов и расчётов. Проверьте, находят ли статистические критерии разницу между выборками 246 и 247."
   ]
  },
  {
   "cell_type": "markdown",
   "metadata": {},
   "source": [
    "Критерии успешного A/A-теста: \n",
    "\n",
    "- Количество пользователей в 246 и 247 группе различается на 29 пользователей - это менее чем на 1%;\n",
    "\n",
    "- Для всех групп фиксируют и отправляют в системы аналитики данные об одном и том же;\n",
    "\n",
    "- Различие ключевых метрик по группам не превышает 1% и не имеет статистической значимости;\n",
    "\n",
    "- Попавший в одну из групп посетитель остаётся в этой группе до конца теста. Если пользователь видит разные версии исследуемой страницы в ходе одного исследования, неизвестно, какая именно повлияла на его решения. Значит, и результаты такого теста нельзя интерпретировать однозначно."
   ]
  },
  {
   "cell_type": "markdown",
   "metadata": {},
   "source": [
    "### Выберите самое популярное событие. Посчитайте число пользователей, совершивших это событие в каждой из контрольных групп. Посчитайте долю пользователей, совершивших это событие. Проверьте, будет ли отличие между группами статистически достоверным. Проделайте то же самое для всех других событий (удобно обернуть проверку в отдельную функцию). Можно ли сказать, что разбиение на группы работает корректно?"
   ]
  },
  {
   "cell_type": "markdown",
   "metadata": {},
   "source": [
    "Соберем три группы в отдельные таблицы:"
   ]
  },
  {
   "cell_type": "code",
   "execution_count": 50,
   "metadata": {},
   "outputs": [],
   "source": [
    "group_246 = new_data.query('(exp_id == 246) & (event_name != \"Tutorial\")')\n",
    "group_247 = new_data.query('(exp_id == 247) & (event_name != \"Tutorial\")')\n",
    "group_248 = new_data.query('(exp_id == 248) & (event_name != \"Tutorial\")')"
   ]
  },
  {
   "cell_type": "code",
   "execution_count": 51,
   "metadata": {},
   "outputs": [
    {
     "data": {
      "text/html": [
       "<div>\n",
       "<style scoped>\n",
       "    .dataframe tbody tr th:only-of-type {\n",
       "        vertical-align: middle;\n",
       "    }\n",
       "\n",
       "    .dataframe tbody tr th {\n",
       "        vertical-align: top;\n",
       "    }\n",
       "\n",
       "    .dataframe thead th {\n",
       "        text-align: right;\n",
       "    }\n",
       "</style>\n",
       "<table border=\"1\" class=\"dataframe\">\n",
       "  <thead>\n",
       "    <tr style=\"text-align: right;\">\n",
       "      <th></th>\n",
       "      <th>event_name</th>\n",
       "      <th>user_id</th>\n",
       "      <th>event_timestamp</th>\n",
       "      <th>exp_id</th>\n",
       "      <th>event_date</th>\n",
       "      <th>event_dt</th>\n",
       "    </tr>\n",
       "  </thead>\n",
       "  <tbody>\n",
       "    <tr>\n",
       "      <th>2829</th>\n",
       "      <td>MainScreenAppear</td>\n",
       "      <td>3737462046622621720</td>\n",
       "      <td>1564618080</td>\n",
       "      <td>246</td>\n",
       "      <td>2019-08-01 00:08:00</td>\n",
       "      <td>2019-08-01</td>\n",
       "    </tr>\n",
       "    <tr>\n",
       "      <th>2830</th>\n",
       "      <td>MainScreenAppear</td>\n",
       "      <td>3737462046622621720</td>\n",
       "      <td>1564618135</td>\n",
       "      <td>246</td>\n",
       "      <td>2019-08-01 00:08:55</td>\n",
       "      <td>2019-08-01</td>\n",
       "    </tr>\n",
       "    <tr>\n",
       "      <th>2831</th>\n",
       "      <td>OffersScreenAppear</td>\n",
       "      <td>3737462046622621720</td>\n",
       "      <td>1564618138</td>\n",
       "      <td>246</td>\n",
       "      <td>2019-08-01 00:08:58</td>\n",
       "      <td>2019-08-01</td>\n",
       "    </tr>\n",
       "    <tr>\n",
       "      <th>2834</th>\n",
       "      <td>OffersScreenAppear</td>\n",
       "      <td>3737462046622621720</td>\n",
       "      <td>1564618226</td>\n",
       "      <td>246</td>\n",
       "      <td>2019-08-01 00:10:26</td>\n",
       "      <td>2019-08-01</td>\n",
       "    </tr>\n",
       "    <tr>\n",
       "      <th>2835</th>\n",
       "      <td>MainScreenAppear</td>\n",
       "      <td>3737462046622621720</td>\n",
       "      <td>1564618247</td>\n",
       "      <td>246</td>\n",
       "      <td>2019-08-01 00:10:47</td>\n",
       "      <td>2019-08-01</td>\n",
       "    </tr>\n",
       "  </tbody>\n",
       "</table>\n",
       "</div>"
      ],
      "text/plain": [
       "              event_name              user_id  event_timestamp  exp_id  \\\n",
       "2829    MainScreenAppear  3737462046622621720       1564618080     246   \n",
       "2830    MainScreenAppear  3737462046622621720       1564618135     246   \n",
       "2831  OffersScreenAppear  3737462046622621720       1564618138     246   \n",
       "2834  OffersScreenAppear  3737462046622621720       1564618226     246   \n",
       "2835    MainScreenAppear  3737462046622621720       1564618247     246   \n",
       "\n",
       "              event_date   event_dt  \n",
       "2829 2019-08-01 00:08:00 2019-08-01  \n",
       "2830 2019-08-01 00:08:55 2019-08-01  \n",
       "2831 2019-08-01 00:08:58 2019-08-01  \n",
       "2834 2019-08-01 00:10:26 2019-08-01  \n",
       "2835 2019-08-01 00:10:47 2019-08-01  "
      ]
     },
     "execution_count": 51,
     "metadata": {},
     "output_type": "execute_result"
    }
   ],
   "source": [
    "group_246.head()"
   ]
  },
  {
   "cell_type": "markdown",
   "metadata": {},
   "source": [
    "**Мы уже написали функцию для нахождения самого популярного события в пункте [4.2](#section4.2) , применим ее для остальных групп**"
   ]
  },
  {
   "cell_type": "code",
   "execution_count": 52,
   "metadata": {},
   "outputs": [
    {
     "data": {
      "text/html": [
       "<div>\n",
       "<style scoped>\n",
       "    .dataframe tbody tr th:only-of-type {\n",
       "        vertical-align: middle;\n",
       "    }\n",
       "\n",
       "    .dataframe tbody tr th {\n",
       "        vertical-align: top;\n",
       "    }\n",
       "\n",
       "    .dataframe thead th {\n",
       "        text-align: right;\n",
       "    }\n",
       "</style>\n",
       "<table border=\"1\" class=\"dataframe\">\n",
       "  <thead>\n",
       "    <tr style=\"text-align: right;\">\n",
       "      <th></th>\n",
       "      <th>event_name</th>\n",
       "      <th>count_user</th>\n",
       "      <th>ratio, %</th>\n",
       "    </tr>\n",
       "  </thead>\n",
       "  <tbody>\n",
       "    <tr>\n",
       "      <th>1</th>\n",
       "      <td>MainScreenAppear</td>\n",
       "      <td>7419</td>\n",
       "      <td>98.0</td>\n",
       "    </tr>\n",
       "    <tr>\n",
       "      <th>2</th>\n",
       "      <td>OffersScreenAppear</td>\n",
       "      <td>4593</td>\n",
       "      <td>61.0</td>\n",
       "    </tr>\n",
       "    <tr>\n",
       "      <th>0</th>\n",
       "      <td>CartScreenAppear</td>\n",
       "      <td>3734</td>\n",
       "      <td>50.0</td>\n",
       "    </tr>\n",
       "    <tr>\n",
       "      <th>3</th>\n",
       "      <td>PaymentScreenSuccessful</td>\n",
       "      <td>3539</td>\n",
       "      <td>47.0</td>\n",
       "    </tr>\n",
       "    <tr>\n",
       "      <th>4</th>\n",
       "      <td>Tutorial</td>\n",
       "      <td>840</td>\n",
       "      <td>11.0</td>\n",
       "    </tr>\n",
       "  </tbody>\n",
       "</table>\n",
       "</div>"
      ],
      "text/plain": [
       "                event_name  count_user  ratio, %\n",
       "1         MainScreenAppear        7419      98.0\n",
       "2       OffersScreenAppear        4593      61.0\n",
       "0         CartScreenAppear        3734      50.0\n",
       "3  PaymentScreenSuccessful        3539      47.0\n",
       "4                 Tutorial         840      11.0"
      ]
     },
     "execution_count": 52,
     "metadata": {},
     "output_type": "execute_result"
    }
   ],
   "source": [
    "# выведем самые популярные события для всех пользователей\n",
    "count_user"
   ]
  },
  {
   "cell_type": "markdown",
   "metadata": {},
   "source": []
  },
  {
   "cell_type": "code",
   "execution_count": 53,
   "metadata": {},
   "outputs": [
    {
     "data": {
      "text/html": [
       "<div>\n",
       "<style scoped>\n",
       "    .dataframe tbody tr th:only-of-type {\n",
       "        vertical-align: middle;\n",
       "    }\n",
       "\n",
       "    .dataframe tbody tr th {\n",
       "        vertical-align: top;\n",
       "    }\n",
       "\n",
       "    .dataframe thead th {\n",
       "        text-align: right;\n",
       "    }\n",
       "</style>\n",
       "<table border=\"1\" class=\"dataframe\">\n",
       "  <thead>\n",
       "    <tr style=\"text-align: right;\">\n",
       "      <th></th>\n",
       "      <th>event_name</th>\n",
       "      <th>count_user</th>\n",
       "      <th>ratio, %</th>\n",
       "    </tr>\n",
       "  </thead>\n",
       "  <tbody>\n",
       "    <tr>\n",
       "      <th>1</th>\n",
       "      <td>MainScreenAppear</td>\n",
       "      <td>2450</td>\n",
       "      <td>99.0</td>\n",
       "    </tr>\n",
       "    <tr>\n",
       "      <th>2</th>\n",
       "      <td>OffersScreenAppear</td>\n",
       "      <td>1542</td>\n",
       "      <td>62.0</td>\n",
       "    </tr>\n",
       "    <tr>\n",
       "      <th>0</th>\n",
       "      <td>CartScreenAppear</td>\n",
       "      <td>1266</td>\n",
       "      <td>51.0</td>\n",
       "    </tr>\n",
       "    <tr>\n",
       "      <th>3</th>\n",
       "      <td>PaymentScreenSuccessful</td>\n",
       "      <td>1200</td>\n",
       "      <td>48.0</td>\n",
       "    </tr>\n",
       "  </tbody>\n",
       "</table>\n",
       "</div>"
      ],
      "text/plain": [
       "                event_name  count_user  ratio, %\n",
       "1         MainScreenAppear        2450      99.0\n",
       "2       OffersScreenAppear        1542      62.0\n",
       "0         CartScreenAppear        1266      51.0\n",
       "3  PaymentScreenSuccessful        1200      48.0"
      ]
     },
     "execution_count": 53,
     "metadata": {},
     "output_type": "execute_result"
    }
   ],
   "source": [
    "# выведем самые популярные события для пользователей группы 246\n",
    "count_user_246 = count_user_id(group_246)\n",
    "count_user_246"
   ]
  },
  {
   "cell_type": "code",
   "execution_count": 54,
   "metadata": {},
   "outputs": [
    {
     "data": {
      "text/html": [
       "<div>\n",
       "<style scoped>\n",
       "    .dataframe tbody tr th:only-of-type {\n",
       "        vertical-align: middle;\n",
       "    }\n",
       "\n",
       "    .dataframe tbody tr th {\n",
       "        vertical-align: top;\n",
       "    }\n",
       "\n",
       "    .dataframe thead th {\n",
       "        text-align: right;\n",
       "    }\n",
       "</style>\n",
       "<table border=\"1\" class=\"dataframe\">\n",
       "  <thead>\n",
       "    <tr style=\"text-align: right;\">\n",
       "      <th></th>\n",
       "      <th>event_name</th>\n",
       "      <th>count_user</th>\n",
       "      <th>ratio, %</th>\n",
       "    </tr>\n",
       "  </thead>\n",
       "  <tbody>\n",
       "    <tr>\n",
       "      <th>1</th>\n",
       "      <td>MainScreenAppear</td>\n",
       "      <td>2476</td>\n",
       "      <td>99.0</td>\n",
       "    </tr>\n",
       "    <tr>\n",
       "      <th>2</th>\n",
       "      <td>OffersScreenAppear</td>\n",
       "      <td>1520</td>\n",
       "      <td>61.0</td>\n",
       "    </tr>\n",
       "    <tr>\n",
       "      <th>0</th>\n",
       "      <td>CartScreenAppear</td>\n",
       "      <td>1238</td>\n",
       "      <td>49.0</td>\n",
       "    </tr>\n",
       "    <tr>\n",
       "      <th>3</th>\n",
       "      <td>PaymentScreenSuccessful</td>\n",
       "      <td>1158</td>\n",
       "      <td>46.0</td>\n",
       "    </tr>\n",
       "  </tbody>\n",
       "</table>\n",
       "</div>"
      ],
      "text/plain": [
       "                event_name  count_user  ratio, %\n",
       "1         MainScreenAppear        2476      99.0\n",
       "2       OffersScreenAppear        1520      61.0\n",
       "0         CartScreenAppear        1238      49.0\n",
       "3  PaymentScreenSuccessful        1158      46.0"
      ]
     },
     "execution_count": 54,
     "metadata": {},
     "output_type": "execute_result"
    }
   ],
   "source": [
    "# выведем самые популярные события для пользователей группы 247\n",
    "count_user_247 = count_user_id(group_247)\n",
    "count_user_247"
   ]
  },
  {
   "cell_type": "markdown",
   "metadata": {},
   "source": [
    "**События в группах распределенны в одинаковом порядке, проверим гипотезы о равенстве долей**"
   ]
  },
  {
   "cell_type": "markdown",
   "metadata": {},
   "source": [
    "Сформулируем гипотезы. \n",
    "\n",
    "**Нулевая гипотеза:** Доли уникальных посетителей, посетивших этап воронки, равны.\n",
    "\n",
    "**Альтернативная гипотеза:** Существует статистически значимая разница между долями уникальных посетителей, посетивших этап воронки.\n",
    "\n",
    "Для проверки гипотез, используем метод проведения Z-теста, который применяется для проверки гипотезы о равенстве долей."
   ]
  },
  {
   "cell_type": "code",
   "execution_count": 55,
   "metadata": {},
   "outputs": [
    {
     "name": "stdout",
     "output_type": "stream",
     "text": [
      "['MainScreenAppear' 'OffersScreenAppear' 'CartScreenAppear'\n",
      " 'PaymentScreenSuccessful']\n"
     ]
    }
   ],
   "source": [
    "# составим список с уникальными событиями для работы цикла\n",
    "events = new_data[new_data['event_name'] != 'Tutorial']['event_name'].unique()\n",
    "print(events)"
   ]
  },
  {
   "cell_type": "code",
   "execution_count": 56,
   "metadata": {},
   "outputs": [],
   "source": [
    "# функция для проверки гипотезы о равенстве долей\n",
    "def z_test(one, two, alpha):\n",
    "    #критический уровень статистической значимости\n",
    "    alpha = alpha\n",
    "    \n",
    "    for i in events:\n",
    "        \n",
    "        #количсетво уникальных пользователей совершивших событие в каждой группе \n",
    "        event_users = (\n",
    "            np.array([one[one['event_name'] == i]['user_id'].nunique(), \n",
    "                      two[two['event_name'] == i]['user_id'].nunique()])\n",
    "        )\n",
    "\n",
    "        #количество уникальных пользователей в группах\n",
    "        users_group_all = np.array([one['user_id'].nunique(), two['user_id'].nunique()])\n",
    "\n",
    "        # пропорция успехов в первой группе:\n",
    "        p1 = event_users[0]/users_group_all[0]\n",
    "        # пропорция успехов во второй группе:\n",
    "        p2 = event_users[1]/users_group_all[1]\n",
    "\n",
    "        # пропорция успехов в комбинированном датасете:\n",
    "        p_combined = (event_users[0] + event_users[1]) / (users_group_all[0] + users_group_all[1])\n",
    "\n",
    "        # разница пропорций в датасетах\n",
    "        difference = p1 - p2\n",
    "\n",
    "        # считаем статистику в ст.отклонениях стандартного нормального распределения\n",
    "        z_value = difference / mth.sqrt(p_combined * (1 - p_combined) * (1/users_group_all[0] + 1/users_group_all[1]))\n",
    "\n",
    "        # задаем стандартное нормальное распределение (среднее 0, ст.отклонение 1)\n",
    "        distr = st.norm(0, 1)  \n",
    "\n",
    "        #Так как распределение статистики нормальное, вызовем метод cdf()\n",
    "        #Саму статистику возьмём по модулю методом abs() — чтобы получить правильный результат независимо от её знака.\n",
    "        #Это возможно, потому что тест двусторонний. По этой же причине удваиваем результат:\n",
    "        p_value = (1 - distr.cdf(abs(z_value))) * 2\n",
    "        print()\n",
    "        print('Для события :', i)\n",
    "        \n",
    "        print('p-значение: ', p_value)\n",
    "\n",
    "        if p_value < alpha:\n",
    "            print('Отвергаем нулевую гипотезу: между долями есть значимая разница')\n",
    "        else:\n",
    "            print('Не получилось отвергнуть нулевую гипотезу, нет оснований считать доли разными')"
   ]
  },
  {
   "cell_type": "code",
   "execution_count": 57,
   "metadata": {},
   "outputs": [
    {
     "name": "stdout",
     "output_type": "stream",
     "text": [
      "\n",
      "Для события : MainScreenAppear\n",
      "p-значение:  0.7526703436483038\n",
      "Не получилось отвергнуть нулевую гипотезу, нет оснований считать доли разными\n",
      "\n",
      "Для события : OffersScreenAppear\n",
      "p-значение:  0.24786096925282264\n",
      "Не получилось отвергнуть нулевую гипотезу, нет оснований считать доли разными\n",
      "\n",
      "Для события : CartScreenAppear\n",
      "p-значение:  0.22867643757335676\n",
      "Не получилось отвергнуть нулевую гипотезу, нет оснований считать доли разными\n",
      "\n",
      "Для события : PaymentScreenSuccessful\n",
      "p-значение:  0.11446627829276612\n",
      "Не получилось отвергнуть нулевую гипотезу, нет оснований считать доли разными\n"
     ]
    }
   ],
   "source": [
    "\n",
    "    #критический уровень статистической значимости\n",
    "    alpha = 0.05\n",
    "    \n",
    "    for i in events:\n",
    "        \n",
    "        #количсетво уникальных пользователей совершивших событие в каждой группе \n",
    "        event_users = (\n",
    "            np.array([group_246[group_246['event_name'] == i]['user_id'].nunique(), \n",
    "                      group_247[group_247['event_name'] == i]['user_id'].nunique()])\n",
    "        )\n",
    "        #количество уникальных пользователей в группах\n",
    "        users_group_all = np.array([group_246['user_id'].nunique(), group_247['user_id'].nunique()])\n",
    "        # пропорция успехов в первой группе:\n",
    "        p1 = event_users[0]/users_group_all[0]\n",
    "        # пропорция успехов во второй группе:\n",
    "        p2 = event_users[1]/users_group_all[1]\n",
    "        # пропорция успехов в комбинированном датасете:\n",
    "        p_combined = (event_users[0] + event_users[1]) / (users_group_all[0] + users_group_all[1])\n",
    "        # разница пропорций в датасетах\n",
    "        difference = p1 - p2\n",
    "        # считаем статистику в ст.отклонениях стандартного нормального распределения\n",
    "        z_value = difference / mth.sqrt(p_combined * (1 - p_combined) * (1/users_group_all[0] + 1/users_group_all[1]))\n",
    "        # задаем стандартное нормальное распределение (среднее 0, ст.отклонение 1)\n",
    "        distr = st.norm(0, 1)  \n",
    "\n",
    "        #Так как распределение статистики нормальное, вызовем метод cdf()\n",
    "        #Саму статистику возьмём по модулю методом abs() — чтобы получить правильный результат независимо от её знака.\n",
    "        #Это возможно, потому что тест двусторонний. По этой же причине удваиваем результат:\n",
    "        p_value = (1 - distr.cdf(abs(z_value))) * 2\n",
    "        print()\n",
    "        print('Для события :', i)\n",
    "        \n",
    "        print('p-значение: ', p_value)\n",
    "\n",
    "        if p_value < alpha:\n",
    "            print('Отвергаем нулевую гипотезу: между долями есть значимая разница')\n",
    "        else:\n",
    "            print('Не получилось отвергнуть нулевую гипотезу, нет оснований считать доли разными')"
   ]
  },
  {
   "cell_type": "code",
   "execution_count": 58,
   "metadata": {},
   "outputs": [
    {
     "name": "stdout",
     "output_type": "stream",
     "text": [
      "\n",
      "Для события : MainScreenAppear\n",
      "p-значение:  0.7526703436483038\n",
      "Не получилось отвергнуть нулевую гипотезу, нет оснований считать доли разными\n",
      "\n",
      "Для события : OffersScreenAppear\n",
      "p-значение:  0.24786096925282264\n",
      "Не получилось отвергнуть нулевую гипотезу, нет оснований считать доли разными\n",
      "\n",
      "Для события : CartScreenAppear\n",
      "p-значение:  0.22867643757335676\n",
      "Не получилось отвергнуть нулевую гипотезу, нет оснований считать доли разными\n",
      "\n",
      "Для события : PaymentScreenSuccessful\n",
      "p-значение:  0.11446627829276612\n",
      "Не получилось отвергнуть нулевую гипотезу, нет оснований считать доли разными\n"
     ]
    }
   ],
   "source": [
    "# применим функцию для группы 246 и 247\n",
    "z_test(group_246, group_247, 0.05)"
   ]
  },
  {
   "cell_type": "markdown",
   "metadata": {},
   "source": [
    "#### Вывод: \n",
    "По результатам анализа данных, можно сделать вывод, что для ни одного из событий не была обнаружена статистически значимая разница между двумя группами. Таким образом, обе эти группы можно считать контрольными в рамках данного исследования."
   ]
  },
  {
   "cell_type": "markdown",
   "metadata": {},
   "source": [
    "### Аналогично поступите с группой с изменённым шрифтом. Сравните результаты с каждой из контрольных групп в отдельности по каждому событию. Сравните результаты с объединённой контрольной группой. Какие выводы из эксперимента можно сделать?"
   ]
  },
  {
   "cell_type": "code",
   "execution_count": 59,
   "metadata": {},
   "outputs": [
    {
     "name": "stdout",
     "output_type": "stream",
     "text": [
      "\n",
      "Для события : MainScreenAppear\n",
      "p-значение:  0.3387114076159288\n",
      "Не получилось отвергнуть нулевую гипотезу, нет оснований считать доли разными\n",
      "\n",
      "Для события : OffersScreenAppear\n",
      "p-значение:  0.21442476639710506\n",
      "Не получилось отвергнуть нулевую гипотезу, нет оснований считать доли разными\n",
      "\n",
      "Для события : CartScreenAppear\n",
      "p-значение:  0.08067367598823139\n",
      "Не получилось отвергнуть нулевую гипотезу, нет оснований считать доли разными\n",
      "\n",
      "Для события : PaymentScreenSuccessful\n",
      "p-значение:  0.21693033984516674\n",
      "Не получилось отвергнуть нулевую гипотезу, нет оснований считать доли разными\n"
     ]
    }
   ],
   "source": [
    "# применим функцию для группы 246 и 248\n",
    "z_test(group_246, group_248, 0.05)"
   ]
  },
  {
   "cell_type": "code",
   "execution_count": 60,
   "metadata": {},
   "outputs": [
    {
     "name": "stdout",
     "output_type": "stream",
     "text": [
      "\n",
      "Для события : MainScreenAppear\n",
      "p-значение:  0.5194964354051703\n",
      "Не получилось отвергнуть нулевую гипотезу, нет оснований считать доли разными\n",
      "\n",
      "Для события : OffersScreenAppear\n",
      "p-значение:  0.9333751305879443\n",
      "Не получилось отвергнуть нулевую гипотезу, нет оснований считать доли разными\n",
      "\n",
      "Для события : CartScreenAppear\n",
      "p-значение:  0.5878284605111943\n",
      "Не получилось отвергнуть нулевую гипотезу, нет оснований считать доли разными\n",
      "\n",
      "Для события : PaymentScreenSuccessful\n",
      "p-значение:  0.7275718682261119\n",
      "Не получилось отвергнуть нулевую гипотезу, нет оснований считать доли разными\n"
     ]
    }
   ],
   "source": [
    "# применим функцию для группы 247 и 248\n",
    "z_test(group_247, group_248, 0.05)"
   ]
  },
  {
   "cell_type": "markdown",
   "metadata": {},
   "source": [
    "Выполним тест, для эксперементальной группы, с объединенной контрольной группой:"
   ]
  },
  {
   "cell_type": "code",
   "execution_count": 61,
   "metadata": {},
   "outputs": [],
   "source": [
    "# Объеденим группу 246 и 247\n",
    "group_unity = pd.concat([group_246, group_247])"
   ]
  },
  {
   "cell_type": "code",
   "execution_count": 62,
   "metadata": {},
   "outputs": [
    {
     "name": "stdout",
     "output_type": "stream",
     "text": [
      "Соединение прошло успешно\n"
     ]
    }
   ],
   "source": [
    "if len(group_unity) == len(group_246) + len(group_247):\n",
    "    print('Соединение прошло успешно')\n",
    "else:\n",
    "    print('Ошибка')"
   ]
  },
  {
   "cell_type": "code",
   "execution_count": 63,
   "metadata": {},
   "outputs": [
    {
     "name": "stdout",
     "output_type": "stream",
     "text": [
      "\n",
      "Для события : MainScreenAppear\n",
      "p-значение:  0.3486684291093256\n",
      "Не получилось отвергнуть нулевую гипотезу, нет оснований считать доли разными\n",
      "\n",
      "Для события : OffersScreenAppear\n",
      "p-значение:  0.44582745409482394\n",
      "Не получилось отвергнуть нулевую гипотезу, нет оснований считать доли разными\n",
      "\n",
      "Для события : CartScreenAppear\n",
      "p-значение:  0.18683558686831558\n",
      "Не получилось отвергнуть нулевую гипотезу, нет оснований считать доли разными\n",
      "\n",
      "Для события : PaymentScreenSuccessful\n",
      "p-значение:  0.6107918742187335\n",
      "Не получилось отвергнуть нулевую гипотезу, нет оснований считать доли разными\n"
     ]
    }
   ],
   "source": [
    "# применим функцию для группы unity и 248\n",
    "z_test(group_unity, group_248, 0.05)"
   ]
  },
  {
   "cell_type": "markdown",
   "metadata": {},
   "source": [
    "#### Вывод:\n",
    "При проведении теством между контрольной группой и эксперементальной группой, а так же между объединенной группой и эксперементальной не обнаруженна статистически значимая разница. Это гововорит о том, что изменения, внесенные экспериментом, не оказывают значительного влияния на группы."
   ]
  },
  {
   "cell_type": "markdown",
   "metadata": {},
   "source": [
    "### Какой уровень значимости вы выбрали при проверке статистических гипотез выше? Посчитайте, сколько проверок статистических гипотез вы сделали. При уровне значимости 0.1 в 10% случаев можно ошибочно отклонить нулевую гипотезу при условии, что она верна. Какой уровень значимости стоит применить? Если вы хотите изменить его, проделайте предыдущие пункты и проверьте свои выводы."
   ]
  },
  {
   "cell_type": "markdown",
   "metadata": {},
   "source": [
    "При проведении проверки статистических гипотез выбор уровня значимости является важным шагом, определяющим надежность результатов и вероятность ошибок первого и второго рода. Уровень значимости 0.05 обычно считается стандартным выбором в статистическом анализе, так как он обеспечивает баланс между контролем вероятности ошибок первого и второго рода.\n",
    "\n",
    "В вашем случае, если уровень значимости равен 0.1, это действительно довольно высокий уровень, который может привести к частым ложноположительным результатам. Для 16 проведенных тестов, включая различные комбинации контрольных и экспериментальных групп, использование метода Бонферрони может быть корректным подходом. Однако следует помнить, что при использовании этого метода уровень значимости становится значительно меньше, что снижает вероятность ложноположительных результатов, но может увеличить вероятность ложноотрицательных результатов (ошибок второго рода).\n",
    "\n"
   ]
  },
  {
   "cell_type": "markdown",
   "metadata": {},
   "source": [
    "## Вывод:\n",
    "\n",
    "В ходе выполнения анализа данных было проведено следующее:\n",
    "1. Проведена предобработка данных, включающая загрузку, преобразование типов данных, переименование столбцов и удаление дубликатов.\n",
    "2. Обнаружено отсутствие данных за период с 25.07 по 31.07, поэтому начало анализа проведено с 1.08.2019, доступны данные за неделю с 1 по 7 августа.\n",
    "3. Изучена воронка событий, где выявлено, что основной поток пользователей приложения проходит через главный экран(98%), далее процент пользователей, переходящих на экран с предложениями составляет -61% и на экран корзины - 50%. Событие успешное выполнение платежа выполнинли 47% провентов пользоватлеей. Также обнаружено низкое использование учебных материалов в приложении.\n",
    "4. Проанализированы шаги пользователей от одного события к другому в воронке, выявлены проценты переходов между этапами и потери пользователей на каждом этапе. От первого события MainScreenAppear(Появился главный экран) ко воторому OffersScreenAppear(Появление экрана с предложениями) переходит 61.91% пользователей. От второго шага к третьему CartScreenAppear(Появление экрана корзины) переходит 81.3% пользователей. А от третьего шага к четвертому PaymentScreenSuccessful(Успешное выполнение платежа) переходит 94.78% пользоватлей.\n",
    "5. Раасчитан наибольший процент пользователей (38.09%) который теряется именно на этом этапе — от MainScreenAppear до OffersScreenAppear. Можно организовать UX-исследование (Eye tracking или провести интервью) для выявления проблем с интерфейсом или понять, что их отпугивает на этом этапе.\n",
    "6. Изучены результаты эксперимента с тремя группами: двумя контрольными и одной экспериментальной. Размерности групп и количество участников в каждой группе определены.\n",
    "7. Сформулированы гипотезы и проведено 16 статистических тестов с уровнем значимости 0.05. Не обнаружено статистической значимости, что изменения в шрифте повлияют на пользователей.\n",
    "\n",
    "Этот анализ позволяет сделать вывод о том, что предлагаемые изменения в приложении, включая шрифт, не оказывают статистически значимого влияния на поведение пользователей.\n"
   ]
  }
 ],
 "metadata": {
  "ExecuteTimeLog": [
   {
    "duration": 388,
    "start_time": "2024-06-24T13:58:51.917Z"
   },
   {
    "duration": 885,
    "start_time": "2024-06-24T13:59:05.224Z"
   },
   {
    "duration": 13,
    "start_time": "2024-06-24T13:59:12.866Z"
   },
   {
    "duration": 145,
    "start_time": "2024-06-24T13:59:43.179Z"
   },
   {
    "duration": 7,
    "start_time": "2024-06-24T13:59:43.817Z"
   },
   {
    "duration": 138,
    "start_time": "2024-06-24T14:39:33.225Z"
   },
   {
    "duration": 4,
    "start_time": "2024-06-24T14:39:55.652Z"
   },
   {
    "duration": 91,
    "start_time": "2024-06-24T14:40:13.755Z"
   },
   {
    "duration": 212,
    "start_time": "2024-06-24T14:42:20.416Z"
   },
   {
    "duration": 3,
    "start_time": "2024-06-24T14:42:21.436Z"
   },
   {
    "duration": 149,
    "start_time": "2024-06-24T14:42:23.544Z"
   },
   {
    "duration": 2,
    "start_time": "2024-06-24T14:43:59.355Z"
   },
   {
    "duration": 139,
    "start_time": "2024-06-24T14:44:04.692Z"
   },
   {
    "duration": 4,
    "start_time": "2024-06-24T14:44:05.201Z"
   },
   {
    "duration": 92,
    "start_time": "2024-06-24T14:44:05.944Z"
   },
   {
    "duration": 7,
    "start_time": "2024-06-24T14:44:28.069Z"
   },
   {
    "duration": 61,
    "start_time": "2024-06-24T14:50:56.454Z"
   },
   {
    "duration": 45,
    "start_time": "2024-06-24T14:51:06.665Z"
   },
   {
    "duration": 46,
    "start_time": "2024-06-24T14:51:13.413Z"
   },
   {
    "duration": 51,
    "start_time": "2024-06-24T15:00:26.708Z"
   },
   {
    "duration": 7,
    "start_time": "2024-06-24T15:01:36.784Z"
   },
   {
    "duration": 6,
    "start_time": "2024-06-24T15:01:42.842Z"
   },
   {
    "duration": 6,
    "start_time": "2024-06-24T15:02:17.316Z"
   },
   {
    "duration": 112,
    "start_time": "2024-06-24T15:02:20.848Z"
   },
   {
    "duration": 7,
    "start_time": "2024-06-24T15:02:40.422Z"
   },
   {
    "duration": 61,
    "start_time": "2024-06-24T15:03:18.685Z"
   },
   {
    "duration": 48,
    "start_time": "2024-06-24T15:03:33.919Z"
   },
   {
    "duration": 59,
    "start_time": "2024-06-24T15:03:38.483Z"
   },
   {
    "duration": 43,
    "start_time": "2024-06-24T15:03:51.909Z"
   },
   {
    "duration": 49,
    "start_time": "2024-06-24T15:03:57.874Z"
   },
   {
    "duration": 61,
    "start_time": "2024-06-24T15:04:00.385Z"
   },
   {
    "duration": 64,
    "start_time": "2024-06-24T15:04:59.457Z"
   },
   {
    "duration": 60,
    "start_time": "2024-06-24T15:08:19.115Z"
   },
   {
    "duration": 8,
    "start_time": "2024-06-24T15:08:21.175Z"
   },
   {
    "duration": 65,
    "start_time": "2024-06-24T15:08:50.355Z"
   },
   {
    "duration": 11,
    "start_time": "2024-06-24T15:08:50.943Z"
   },
   {
    "duration": 87,
    "start_time": "2024-06-24T15:08:56.823Z"
   },
   {
    "duration": 9,
    "start_time": "2024-06-24T15:08:58.156Z"
   },
   {
    "duration": 75,
    "start_time": "2024-06-24T15:09:12.622Z"
   },
   {
    "duration": 5,
    "start_time": "2024-06-24T15:12:11.218Z"
   },
   {
    "duration": 208,
    "start_time": "2024-06-24T15:12:12.418Z"
   },
   {
    "duration": 406,
    "start_time": "2024-06-24T15:12:20.493Z"
   },
   {
    "duration": 155,
    "start_time": "2024-06-24T15:12:20.901Z"
   },
   {
    "duration": 5,
    "start_time": "2024-06-24T15:12:21.057Z"
   },
   {
    "duration": 342,
    "start_time": "2024-06-24T15:12:21.063Z"
   },
   {
    "duration": 74,
    "start_time": "2024-06-24T15:12:21.415Z"
   },
   {
    "duration": 79,
    "start_time": "2024-06-24T15:12:21.491Z"
   },
   {
    "duration": 4,
    "start_time": "2024-06-24T15:12:36.639Z"
   },
   {
    "duration": 99,
    "start_time": "2024-06-24T15:12:37.737Z"
   },
   {
    "duration": 4,
    "start_time": "2024-06-24T15:13:22.937Z"
   },
   {
    "duration": 114,
    "start_time": "2024-06-24T15:13:23.407Z"
   },
   {
    "duration": 371,
    "start_time": "2024-06-24T15:13:29.824Z"
   },
   {
    "duration": 153,
    "start_time": "2024-06-24T15:13:30.196Z"
   },
   {
    "duration": 5,
    "start_time": "2024-06-24T15:13:30.350Z"
   },
   {
    "duration": 277,
    "start_time": "2024-06-24T15:13:30.357Z"
   },
   {
    "duration": 86,
    "start_time": "2024-06-24T15:13:30.635Z"
   },
   {
    "duration": 58,
    "start_time": "2024-06-24T15:13:30.726Z"
   },
   {
    "duration": 4,
    "start_time": "2024-06-24T15:14:18.096Z"
   },
   {
    "duration": 355,
    "start_time": "2024-06-24T15:14:23.853Z"
   },
   {
    "duration": 152,
    "start_time": "2024-06-24T15:14:24.209Z"
   },
   {
    "duration": 5,
    "start_time": "2024-06-24T15:14:24.362Z"
   },
   {
    "duration": 321,
    "start_time": "2024-06-24T15:14:24.368Z"
   },
   {
    "duration": 70,
    "start_time": "2024-06-24T15:14:24.691Z"
   },
   {
    "duration": 71,
    "start_time": "2024-06-24T15:14:24.762Z"
   },
   {
    "duration": 405,
    "start_time": "2024-06-24T15:20:07.504Z"
   },
   {
    "duration": 146,
    "start_time": "2024-06-24T15:20:07.911Z"
   },
   {
    "duration": 5,
    "start_time": "2024-06-24T15:20:08.059Z"
   },
   {
    "duration": 321,
    "start_time": "2024-06-24T15:20:08.066Z"
   },
   {
    "duration": 72,
    "start_time": "2024-06-24T15:20:08.389Z"
   },
   {
    "duration": 66,
    "start_time": "2024-06-24T15:20:08.463Z"
   },
   {
    "duration": 4,
    "start_time": "2024-06-24T15:24:20.390Z"
   },
   {
    "duration": 393,
    "start_time": "2024-06-24T15:24:27.778Z"
   },
   {
    "duration": 144,
    "start_time": "2024-06-24T15:24:28.172Z"
   },
   {
    "duration": 5,
    "start_time": "2024-06-24T15:24:28.318Z"
   },
   {
    "duration": 285,
    "start_time": "2024-06-24T15:24:28.324Z"
   },
   {
    "duration": 43,
    "start_time": "2024-06-24T15:24:28.611Z"
   },
   {
    "duration": 60,
    "start_time": "2024-06-24T15:25:16.783Z"
   },
   {
    "duration": 831,
    "start_time": "2024-06-24T15:25:25.122Z"
   },
   {
    "duration": 884,
    "start_time": "2024-06-24T15:25:43.007Z"
   },
   {
    "duration": 8,
    "start_time": "2024-06-24T15:26:04.117Z"
   },
   {
    "duration": 363,
    "start_time": "2024-06-24T15:26:14.275Z"
   },
   {
    "duration": 158,
    "start_time": "2024-06-24T15:26:14.639Z"
   },
   {
    "duration": 5,
    "start_time": "2024-06-24T15:26:14.799Z"
   },
   {
    "duration": 322,
    "start_time": "2024-06-24T15:26:14.811Z"
   },
   {
    "duration": 6,
    "start_time": "2024-06-24T15:26:15.135Z"
   },
   {
    "duration": 1051,
    "start_time": "2024-06-24T15:26:15.142Z"
   },
   {
    "duration": 402,
    "start_time": "2024-06-24T15:27:00.288Z"
   },
   {
    "duration": 149,
    "start_time": "2024-06-24T15:27:00.692Z"
   },
   {
    "duration": 6,
    "start_time": "2024-06-24T15:27:00.842Z"
   },
   {
    "duration": 361,
    "start_time": "2024-06-24T15:27:00.850Z"
   },
   {
    "duration": 6,
    "start_time": "2024-06-24T15:27:01.213Z"
   },
   {
    "duration": 976,
    "start_time": "2024-06-24T15:27:01.220Z"
   },
   {
    "duration": 5,
    "start_time": "2024-06-24T15:27:44.688Z"
   },
   {
    "duration": 399,
    "start_time": "2024-06-24T15:27:50.193Z"
   },
   {
    "duration": 153,
    "start_time": "2024-06-24T15:27:50.594Z"
   },
   {
    "duration": 5,
    "start_time": "2024-06-24T15:27:50.748Z"
   },
   {
    "duration": 299,
    "start_time": "2024-06-24T15:27:50.755Z"
   },
   {
    "duration": 7,
    "start_time": "2024-06-24T15:27:51.055Z"
   },
   {
    "duration": 944,
    "start_time": "2024-06-24T15:27:51.063Z"
   },
   {
    "duration": 396,
    "start_time": "2024-06-24T15:29:41.681Z"
   },
   {
    "duration": 144,
    "start_time": "2024-06-24T15:29:42.079Z"
   },
   {
    "duration": 4,
    "start_time": "2024-06-24T15:29:42.225Z"
   },
   {
    "duration": 331,
    "start_time": "2024-06-24T15:29:42.231Z"
   },
   {
    "duration": 7,
    "start_time": "2024-06-24T15:29:42.563Z"
   },
   {
    "duration": 72,
    "start_time": "2024-06-24T15:29:42.571Z"
   },
   {
    "duration": 12,
    "start_time": "2024-06-24T15:30:24.161Z"
   },
   {
    "duration": 8,
    "start_time": "2024-06-24T15:30:37.218Z"
   },
   {
    "duration": 6,
    "start_time": "2024-06-24T15:32:32.707Z"
   },
   {
    "duration": 34,
    "start_time": "2024-06-24T15:32:38.171Z"
   },
   {
    "duration": 11,
    "start_time": "2024-06-24T15:32:42.067Z"
   },
   {
    "duration": 5,
    "start_time": "2024-06-24T15:38:08.238Z"
   },
   {
    "duration": 6,
    "start_time": "2024-06-24T15:38:14.236Z"
   },
   {
    "duration": 6,
    "start_time": "2024-06-24T15:39:00.988Z"
   },
   {
    "duration": 8,
    "start_time": "2024-06-24T15:39:52.953Z"
   },
   {
    "duration": 9,
    "start_time": "2024-06-24T15:41:46.369Z"
   },
   {
    "duration": 7,
    "start_time": "2024-06-24T15:41:54.661Z"
   },
   {
    "duration": 913,
    "start_time": "2024-06-24T15:46:26.720Z"
   },
   {
    "duration": 38,
    "start_time": "2024-06-24T15:46:42.541Z"
   },
   {
    "duration": 6,
    "start_time": "2024-06-24T15:46:48.203Z"
   },
   {
    "duration": 14,
    "start_time": "2024-06-24T15:46:55.033Z"
   },
   {
    "duration": 67,
    "start_time": "2024-06-24T15:47:09.726Z"
   },
   {
    "duration": 9,
    "start_time": "2024-06-24T15:47:26.082Z"
   },
   {
    "duration": 67,
    "start_time": "2024-06-24T15:47:39.196Z"
   },
   {
    "duration": 7,
    "start_time": "2024-06-24T15:47:40.132Z"
   },
   {
    "duration": 383,
    "start_time": "2024-06-24T15:48:58.805Z"
   },
   {
    "duration": 148,
    "start_time": "2024-06-24T15:48:59.190Z"
   },
   {
    "duration": 5,
    "start_time": "2024-06-24T15:48:59.339Z"
   },
   {
    "duration": 290,
    "start_time": "2024-06-24T15:48:59.345Z"
   },
   {
    "duration": 7,
    "start_time": "2024-06-24T15:48:59.637Z"
   },
   {
    "duration": 79,
    "start_time": "2024-06-24T15:48:59.646Z"
   },
   {
    "duration": 7,
    "start_time": "2024-06-24T15:48:59.726Z"
   },
   {
    "duration": 386,
    "start_time": "2024-06-24T15:49:19.515Z"
   },
   {
    "duration": 148,
    "start_time": "2024-06-24T15:49:19.902Z"
   },
   {
    "duration": 5,
    "start_time": "2024-06-24T15:49:20.051Z"
   },
   {
    "duration": 362,
    "start_time": "2024-06-24T15:49:20.057Z"
   },
   {
    "duration": 6,
    "start_time": "2024-06-24T15:49:20.421Z"
   },
   {
    "duration": 9,
    "start_time": "2024-06-24T15:49:20.429Z"
   },
   {
    "duration": 8,
    "start_time": "2024-06-24T15:49:20.439Z"
   },
   {
    "duration": 10,
    "start_time": "2024-06-24T15:54:07.440Z"
   },
   {
    "duration": 7,
    "start_time": "2024-06-24T15:54:17.146Z"
   },
   {
    "duration": 10,
    "start_time": "2024-06-24T15:54:40.067Z"
   },
   {
    "duration": 926,
    "start_time": "2024-06-24T15:54:40.827Z"
   },
   {
    "duration": 1006,
    "start_time": "2024-06-24T15:55:03.888Z"
   },
   {
    "duration": 8,
    "start_time": "2024-06-24T15:55:05.722Z"
   },
   {
    "duration": 860,
    "start_time": "2024-06-24T15:55:16.900Z"
   },
   {
    "duration": 0,
    "start_time": "2024-06-24T15:55:17.761Z"
   },
   {
    "duration": 8,
    "start_time": "2024-06-24T15:55:37.249Z"
   },
   {
    "duration": 10,
    "start_time": "2024-06-24T15:55:45.401Z"
   },
   {
    "duration": 406,
    "start_time": "2024-06-24T15:55:50.594Z"
   },
   {
    "duration": 147,
    "start_time": "2024-06-24T15:55:51.001Z"
   },
   {
    "duration": 5,
    "start_time": "2024-06-24T15:55:51.150Z"
   },
   {
    "duration": 282,
    "start_time": "2024-06-24T15:55:51.156Z"
   },
   {
    "duration": 7,
    "start_time": "2024-06-24T15:55:51.439Z"
   },
   {
    "duration": 18,
    "start_time": "2024-06-24T15:55:51.448Z"
   },
   {
    "duration": 21,
    "start_time": "2024-06-24T15:55:51.468Z"
   },
   {
    "duration": 86,
    "start_time": "2024-06-24T15:55:51.490Z"
   },
   {
    "duration": 7,
    "start_time": "2024-06-24T15:55:51.578Z"
   },
   {
    "duration": 93,
    "start_time": "2024-06-24T15:56:58.650Z"
   },
   {
    "duration": 9,
    "start_time": "2024-06-24T15:56:59.069Z"
   },
   {
    "duration": 87,
    "start_time": "2024-06-24T15:57:36.461Z"
   },
   {
    "duration": 405,
    "start_time": "2024-06-24T15:58:20.388Z"
   },
   {
    "duration": 157,
    "start_time": "2024-06-24T15:58:20.794Z"
   },
   {
    "duration": 4,
    "start_time": "2024-06-24T15:58:20.953Z"
   },
   {
    "duration": 291,
    "start_time": "2024-06-24T15:58:20.959Z"
   },
   {
    "duration": 9,
    "start_time": "2024-06-24T15:58:21.253Z"
   },
   {
    "duration": 8,
    "start_time": "2024-06-24T15:58:21.263Z"
   },
   {
    "duration": 8,
    "start_time": "2024-06-24T15:58:21.272Z"
   },
   {
    "duration": 86,
    "start_time": "2024-06-24T15:58:21.281Z"
   },
   {
    "duration": 0,
    "start_time": "2024-06-24T15:58:21.369Z"
   },
   {
    "duration": 0,
    "start_time": "2024-06-24T15:58:21.370Z"
   },
   {
    "duration": 348,
    "start_time": "2024-06-24T16:00:04.762Z"
   },
   {
    "duration": 148,
    "start_time": "2024-06-24T16:00:05.112Z"
   },
   {
    "duration": 4,
    "start_time": "2024-06-24T16:00:05.262Z"
   },
   {
    "duration": 300,
    "start_time": "2024-06-24T16:00:05.268Z"
   },
   {
    "duration": 6,
    "start_time": "2024-06-24T16:00:05.569Z"
   },
   {
    "duration": 8,
    "start_time": "2024-06-24T16:00:05.577Z"
   },
   {
    "duration": 7,
    "start_time": "2024-06-24T16:00:05.586Z"
   },
   {
    "duration": 70,
    "start_time": "2024-06-24T16:00:05.608Z"
   },
   {
    "duration": 0,
    "start_time": "2024-06-24T16:00:05.679Z"
   },
   {
    "duration": 0,
    "start_time": "2024-06-24T16:00:05.680Z"
   },
   {
    "duration": 8,
    "start_time": "2024-06-24T16:01:06.059Z"
   },
   {
    "duration": 9,
    "start_time": "2024-06-24T16:01:08.208Z"
   },
   {
    "duration": 108,
    "start_time": "2024-06-24T16:02:23.615Z"
   },
   {
    "duration": 7,
    "start_time": "2024-06-24T16:02:27.628Z"
   },
   {
    "duration": 333,
    "start_time": "2024-06-24T16:02:38.366Z"
   },
   {
    "duration": 155,
    "start_time": "2024-06-24T16:02:38.701Z"
   },
   {
    "duration": 5,
    "start_time": "2024-06-24T16:02:38.857Z"
   },
   {
    "duration": 289,
    "start_time": "2024-06-24T16:02:38.864Z"
   },
   {
    "duration": 7,
    "start_time": "2024-06-24T16:02:39.154Z"
   },
   {
    "duration": 6,
    "start_time": "2024-06-24T16:02:39.163Z"
   },
   {
    "duration": 7,
    "start_time": "2024-06-24T16:02:39.170Z"
   },
   {
    "duration": 112,
    "start_time": "2024-06-24T16:02:39.179Z"
   },
   {
    "duration": 8,
    "start_time": "2024-06-24T16:02:39.292Z"
   },
   {
    "duration": 104,
    "start_time": "2024-06-24T16:02:39.308Z"
   },
   {
    "duration": 358,
    "start_time": "2024-06-24T16:03:14.434Z"
   },
   {
    "duration": 157,
    "start_time": "2024-06-24T16:03:14.794Z"
   },
   {
    "duration": 4,
    "start_time": "2024-06-24T16:03:14.953Z"
   },
   {
    "duration": 138,
    "start_time": "2024-06-24T16:03:14.958Z"
   },
   {
    "duration": 7,
    "start_time": "2024-06-24T16:03:15.098Z"
   },
   {
    "duration": 38,
    "start_time": "2024-06-24T16:03:15.109Z"
   },
   {
    "duration": 41,
    "start_time": "2024-06-24T16:03:15.149Z"
   },
   {
    "duration": 126,
    "start_time": "2024-06-24T16:03:15.191Z"
   },
   {
    "duration": 8,
    "start_time": "2024-06-24T16:03:15.318Z"
   },
   {
    "duration": 102,
    "start_time": "2024-06-24T16:03:15.327Z"
   },
   {
    "duration": 320,
    "start_time": "2024-06-24T16:11:26.767Z"
   },
   {
    "duration": 140,
    "start_time": "2024-06-24T16:11:27.089Z"
   },
   {
    "duration": 4,
    "start_time": "2024-06-24T16:11:27.230Z"
   },
   {
    "duration": 124,
    "start_time": "2024-06-24T16:11:27.235Z"
   },
   {
    "duration": 7,
    "start_time": "2024-06-24T16:11:27.361Z"
   },
   {
    "duration": 7,
    "start_time": "2024-06-24T16:11:27.370Z"
   },
   {
    "duration": 16,
    "start_time": "2024-06-24T16:11:27.378Z"
   },
   {
    "duration": 103,
    "start_time": "2024-06-24T16:11:27.396Z"
   },
   {
    "duration": 15,
    "start_time": "2024-06-24T16:11:27.501Z"
   },
   {
    "duration": 112,
    "start_time": "2024-06-24T16:11:27.518Z"
   },
   {
    "duration": 382,
    "start_time": "2024-06-24T16:12:17.618Z"
   },
   {
    "duration": 143,
    "start_time": "2024-06-24T16:12:18.002Z"
   },
   {
    "duration": 4,
    "start_time": "2024-06-24T16:12:18.146Z"
   },
   {
    "duration": 117,
    "start_time": "2024-06-24T16:12:18.152Z"
   },
   {
    "duration": 6,
    "start_time": "2024-06-24T16:12:18.272Z"
   },
   {
    "duration": 6,
    "start_time": "2024-06-24T16:12:18.280Z"
   },
   {
    "duration": 23,
    "start_time": "2024-06-24T16:12:18.288Z"
   },
   {
    "duration": 108,
    "start_time": "2024-06-24T16:12:18.313Z"
   },
   {
    "duration": 8,
    "start_time": "2024-06-24T16:12:18.422Z"
   },
   {
    "duration": 96,
    "start_time": "2024-06-24T16:12:18.431Z"
   },
   {
    "duration": 111,
    "start_time": "2024-06-24T16:18:39.009Z"
   },
   {
    "duration": 8,
    "start_time": "2024-06-24T16:18:43.731Z"
   },
   {
    "duration": 85,
    "start_time": "2024-06-24T16:18:58.840Z"
   },
   {
    "duration": 80,
    "start_time": "2024-06-24T16:19:05.211Z"
   },
   {
    "duration": 83,
    "start_time": "2024-06-24T16:19:44.520Z"
   },
   {
    "duration": 18,
    "start_time": "2024-06-24T16:20:03.728Z"
   },
   {
    "duration": 26,
    "start_time": "2024-06-24T16:25:46.166Z"
   },
   {
    "duration": 23,
    "start_time": "2024-06-24T16:26:53.136Z"
   },
   {
    "duration": 414,
    "start_time": "2024-06-24T16:33:33.067Z"
   },
   {
    "duration": 145,
    "start_time": "2024-06-24T16:33:33.483Z"
   },
   {
    "duration": 5,
    "start_time": "2024-06-24T16:33:33.629Z"
   },
   {
    "duration": 131,
    "start_time": "2024-06-24T16:33:33.635Z"
   },
   {
    "duration": 5,
    "start_time": "2024-06-24T16:33:33.767Z"
   },
   {
    "duration": 13,
    "start_time": "2024-06-24T16:33:33.773Z"
   },
   {
    "duration": 107,
    "start_time": "2024-06-24T16:33:33.787Z"
   },
   {
    "duration": 9,
    "start_time": "2024-06-24T16:33:33.895Z"
   },
   {
    "duration": 115,
    "start_time": "2024-06-24T16:33:33.909Z"
   },
   {
    "duration": 84,
    "start_time": "2024-06-24T16:33:34.026Z"
   },
   {
    "duration": 24,
    "start_time": "2024-06-24T16:33:34.111Z"
   },
   {
    "duration": 95,
    "start_time": "2024-06-24T16:33:45.719Z"
   },
   {
    "duration": 45,
    "start_time": "2024-06-24T16:33:59.328Z"
   },
   {
    "duration": 8,
    "start_time": "2024-06-24T16:34:02.575Z"
   },
   {
    "duration": 370,
    "start_time": "2024-06-24T17:18:04.039Z"
   },
   {
    "duration": 147,
    "start_time": "2024-06-24T17:18:04.411Z"
   },
   {
    "duration": 4,
    "start_time": "2024-06-24T17:18:04.560Z"
   },
   {
    "duration": 134,
    "start_time": "2024-06-24T17:18:04.565Z"
   },
   {
    "duration": 9,
    "start_time": "2024-06-24T17:18:04.700Z"
   },
   {
    "duration": 11,
    "start_time": "2024-06-24T17:18:04.710Z"
   },
   {
    "duration": 42,
    "start_time": "2024-06-24T17:18:04.722Z"
   },
   {
    "duration": 8,
    "start_time": "2024-06-24T17:18:04.766Z"
   },
   {
    "duration": 132,
    "start_time": "2024-06-24T17:18:04.775Z"
   },
   {
    "duration": 110,
    "start_time": "2024-06-24T17:18:04.909Z"
   },
   {
    "duration": 17,
    "start_time": "2024-06-24T17:18:05.020Z"
   },
   {
    "duration": 9,
    "start_time": "2024-06-24T17:28:27.839Z"
   },
   {
    "duration": 29,
    "start_time": "2024-06-24T17:28:48.012Z"
   },
   {
    "duration": 18,
    "start_time": "2024-06-24T17:28:59.181Z"
   },
   {
    "duration": 10,
    "start_time": "2024-06-24T17:29:12.670Z"
   },
   {
    "duration": 37,
    "start_time": "2024-06-24T17:33:00.146Z"
   },
   {
    "duration": 8,
    "start_time": "2024-06-24T17:48:01.662Z"
   },
   {
    "duration": 9,
    "start_time": "2024-06-24T17:48:42.064Z"
   },
   {
    "duration": 24,
    "start_time": "2024-06-24T17:51:55.471Z"
   },
   {
    "duration": 7,
    "start_time": "2024-06-24T17:51:57.733Z"
   },
   {
    "duration": 17,
    "start_time": "2024-06-24T17:53:20.848Z"
   },
   {
    "duration": 7,
    "start_time": "2024-06-24T17:53:24.540Z"
   },
   {
    "duration": 16,
    "start_time": "2024-06-24T17:53:39.041Z"
   },
   {
    "duration": 9,
    "start_time": "2024-06-24T17:53:39.629Z"
   },
   {
    "duration": 4,
    "start_time": "2024-06-24T17:53:57.940Z"
   },
   {
    "duration": 5,
    "start_time": "2024-06-24T17:55:06.840Z"
   },
   {
    "duration": 5,
    "start_time": "2024-06-24T17:55:10.580Z"
   },
   {
    "duration": 25,
    "start_time": "2024-06-24T17:57:25.539Z"
   },
   {
    "duration": 5,
    "start_time": "2024-06-24T17:57:36.349Z"
   },
   {
    "duration": 4,
    "start_time": "2024-06-24T17:57:59.199Z"
   },
   {
    "duration": 4,
    "start_time": "2024-06-24T17:58:13.666Z"
   },
   {
    "duration": 3,
    "start_time": "2024-06-24T17:58:18.139Z"
   },
   {
    "duration": 18,
    "start_time": "2024-06-24T17:59:03.723Z"
   },
   {
    "duration": 7,
    "start_time": "2024-06-24T17:59:10.419Z"
   },
   {
    "duration": 8,
    "start_time": "2024-06-24T17:59:17.947Z"
   },
   {
    "duration": 6,
    "start_time": "2024-06-24T17:59:44.426Z"
   },
   {
    "duration": 6,
    "start_time": "2024-06-24T18:00:03.090Z"
   },
   {
    "duration": 6,
    "start_time": "2024-06-24T18:00:06.898Z"
   },
   {
    "duration": 5,
    "start_time": "2024-06-24T18:00:47.525Z"
   },
   {
    "duration": 4,
    "start_time": "2024-06-24T18:04:37.345Z"
   },
   {
    "duration": 447,
    "start_time": "2024-06-24T18:05:40.895Z"
   },
   {
    "duration": 182,
    "start_time": "2024-06-24T18:05:41.344Z"
   },
   {
    "duration": 5,
    "start_time": "2024-06-24T18:05:41.528Z"
   },
   {
    "duration": 139,
    "start_time": "2024-06-24T18:05:41.535Z"
   },
   {
    "duration": 5,
    "start_time": "2024-06-24T18:05:41.675Z"
   },
   {
    "duration": 10,
    "start_time": "2024-06-24T18:05:41.681Z"
   },
   {
    "duration": 124,
    "start_time": "2024-06-24T18:05:41.693Z"
   },
   {
    "duration": 11,
    "start_time": "2024-06-24T18:05:41.818Z"
   },
   {
    "duration": 109,
    "start_time": "2024-06-24T18:05:41.830Z"
   },
   {
    "duration": 88,
    "start_time": "2024-06-24T18:05:41.941Z"
   },
   {
    "duration": 25,
    "start_time": "2024-06-24T18:05:42.030Z"
   },
   {
    "duration": 8,
    "start_time": "2024-06-24T18:05:42.057Z"
   },
   {
    "duration": 59,
    "start_time": "2024-06-24T18:05:42.066Z"
   },
   {
    "duration": 30,
    "start_time": "2024-06-24T18:05:42.127Z"
   },
   {
    "duration": 7,
    "start_time": "2024-06-24T18:05:42.159Z"
   },
   {
    "duration": 19,
    "start_time": "2024-06-24T18:05:42.168Z"
   },
   {
    "duration": 32,
    "start_time": "2024-06-24T18:05:42.188Z"
   },
   {
    "duration": 6,
    "start_time": "2024-06-24T18:05:42.224Z"
   },
   {
    "duration": 27,
    "start_time": "2024-06-24T18:05:42.232Z"
   },
   {
    "duration": 123,
    "start_time": "2024-06-24T18:06:48.277Z"
   },
   {
    "duration": 8,
    "start_time": "2024-06-24T18:06:49.496Z"
   },
   {
    "duration": 18,
    "start_time": "2024-06-24T18:06:53.667Z"
   },
   {
    "duration": 381,
    "start_time": "2024-06-24T18:07:00.236Z"
   },
   {
    "duration": 156,
    "start_time": "2024-06-24T18:07:00.619Z"
   },
   {
    "duration": 4,
    "start_time": "2024-06-24T18:07:00.776Z"
   },
   {
    "duration": 178,
    "start_time": "2024-06-24T18:07:00.782Z"
   },
   {
    "duration": 5,
    "start_time": "2024-06-24T18:07:00.963Z"
   },
   {
    "duration": 89,
    "start_time": "2024-06-24T18:07:00.969Z"
   },
   {
    "duration": 213,
    "start_time": "2024-06-24T18:07:01.059Z"
   },
   {
    "duration": 8,
    "start_time": "2024-06-24T18:07:01.274Z"
   },
   {
    "duration": 142,
    "start_time": "2024-06-24T18:07:01.283Z"
   },
   {
    "duration": 104,
    "start_time": "2024-06-24T18:07:01.427Z"
   },
   {
    "duration": 18,
    "start_time": "2024-06-24T18:07:01.532Z"
   },
   {
    "duration": 26,
    "start_time": "2024-06-24T18:07:01.551Z"
   },
   {
    "duration": 66,
    "start_time": "2024-06-24T18:07:01.578Z"
   },
   {
    "duration": 19,
    "start_time": "2024-06-24T18:07:01.646Z"
   },
   {
    "duration": 26,
    "start_time": "2024-06-24T18:07:01.666Z"
   },
   {
    "duration": 45,
    "start_time": "2024-06-24T18:07:01.693Z"
   },
   {
    "duration": 28,
    "start_time": "2024-06-24T18:07:01.740Z"
   },
   {
    "duration": 31,
    "start_time": "2024-06-24T18:07:01.770Z"
   },
   {
    "duration": 32,
    "start_time": "2024-06-24T18:07:01.803Z"
   },
   {
    "duration": 336,
    "start_time": "2024-06-24T18:09:26.465Z"
   },
   {
    "duration": 160,
    "start_time": "2024-06-24T18:09:26.803Z"
   },
   {
    "duration": 4,
    "start_time": "2024-06-24T18:09:26.964Z"
   },
   {
    "duration": 131,
    "start_time": "2024-06-24T18:09:26.969Z"
   },
   {
    "duration": 20,
    "start_time": "2024-06-24T18:09:27.102Z"
   },
   {
    "duration": 6,
    "start_time": "2024-06-24T18:09:27.123Z"
   },
   {
    "duration": 103,
    "start_time": "2024-06-24T18:09:27.131Z"
   },
   {
    "duration": 7,
    "start_time": "2024-06-24T18:09:27.236Z"
   },
   {
    "duration": 130,
    "start_time": "2024-06-24T18:09:27.244Z"
   },
   {
    "duration": 96,
    "start_time": "2024-06-24T18:09:27.375Z"
   },
   {
    "duration": 44,
    "start_time": "2024-06-24T18:09:27.473Z"
   },
   {
    "duration": 13,
    "start_time": "2024-06-24T18:09:27.518Z"
   },
   {
    "duration": 32,
    "start_time": "2024-06-24T18:09:27.533Z"
   },
   {
    "duration": 19,
    "start_time": "2024-06-24T18:09:27.567Z"
   },
   {
    "duration": 37,
    "start_time": "2024-06-24T18:09:27.588Z"
   },
   {
    "duration": 28,
    "start_time": "2024-06-24T18:09:27.627Z"
   },
   {
    "duration": 7,
    "start_time": "2024-06-24T18:09:27.656Z"
   },
   {
    "duration": 5,
    "start_time": "2024-06-24T18:09:27.665Z"
   },
   {
    "duration": 16,
    "start_time": "2024-06-24T18:09:27.671Z"
   },
   {
    "duration": 105,
    "start_time": "2024-06-24T18:11:04.954Z"
   },
   {
    "duration": 8,
    "start_time": "2024-06-24T18:11:07.903Z"
   },
   {
    "duration": 337,
    "start_time": "2024-06-24T18:11:15.756Z"
   },
   {
    "duration": 145,
    "start_time": "2024-06-24T18:11:16.095Z"
   },
   {
    "duration": 4,
    "start_time": "2024-06-24T18:11:16.242Z"
   },
   {
    "duration": 128,
    "start_time": "2024-06-24T18:11:16.247Z"
   },
   {
    "duration": 5,
    "start_time": "2024-06-24T18:11:16.376Z"
   },
   {
    "duration": 18,
    "start_time": "2024-06-24T18:11:16.382Z"
   },
   {
    "duration": 107,
    "start_time": "2024-06-24T18:11:16.401Z"
   },
   {
    "duration": 2,
    "start_time": "2024-06-24T18:11:16.510Z"
   },
   {
    "duration": 16,
    "start_time": "2024-06-24T18:11:16.513Z"
   },
   {
    "duration": 81,
    "start_time": "2024-06-24T18:11:16.530Z"
   },
   {
    "duration": 88,
    "start_time": "2024-06-24T18:11:16.613Z"
   },
   {
    "duration": 30,
    "start_time": "2024-06-24T18:11:16.703Z"
   },
   {
    "duration": 10,
    "start_time": "2024-06-24T18:11:16.734Z"
   },
   {
    "duration": 34,
    "start_time": "2024-06-24T18:11:16.747Z"
   },
   {
    "duration": 34,
    "start_time": "2024-06-24T18:11:16.782Z"
   },
   {
    "duration": 8,
    "start_time": "2024-06-24T18:11:16.817Z"
   },
   {
    "duration": 28,
    "start_time": "2024-06-24T18:11:16.827Z"
   },
   {
    "duration": 6,
    "start_time": "2024-06-24T18:11:16.856Z"
   },
   {
    "duration": 13,
    "start_time": "2024-06-24T18:11:16.864Z"
   },
   {
    "duration": 6,
    "start_time": "2024-06-24T18:11:16.879Z"
   },
   {
    "duration": 351,
    "start_time": "2024-06-24T18:11:48.447Z"
   },
   {
    "duration": 147,
    "start_time": "2024-06-24T18:11:48.800Z"
   },
   {
    "duration": 4,
    "start_time": "2024-06-24T18:11:48.949Z"
   },
   {
    "duration": 143,
    "start_time": "2024-06-24T18:11:48.956Z"
   },
   {
    "duration": 10,
    "start_time": "2024-06-24T18:11:49.101Z"
   },
   {
    "duration": 19,
    "start_time": "2024-06-24T18:11:49.113Z"
   },
   {
    "duration": 168,
    "start_time": "2024-06-24T18:11:49.133Z"
   },
   {
    "duration": 9,
    "start_time": "2024-06-24T18:11:49.302Z"
   },
   {
    "duration": 103,
    "start_time": "2024-06-24T18:11:49.312Z"
   },
   {
    "duration": 103,
    "start_time": "2024-06-24T18:11:49.418Z"
   },
   {
    "duration": 22,
    "start_time": "2024-06-24T18:11:49.522Z"
   },
   {
    "duration": 10,
    "start_time": "2024-06-24T18:11:49.546Z"
   },
   {
    "duration": 77,
    "start_time": "2024-06-24T18:11:49.558Z"
   },
   {
    "duration": 23,
    "start_time": "2024-06-24T18:11:49.637Z"
   },
   {
    "duration": 12,
    "start_time": "2024-06-24T18:11:49.663Z"
   },
   {
    "duration": 40,
    "start_time": "2024-06-24T18:11:49.677Z"
   },
   {
    "duration": 7,
    "start_time": "2024-06-24T18:11:49.719Z"
   },
   {
    "duration": 12,
    "start_time": "2024-06-24T18:11:49.728Z"
   },
   {
    "duration": 19,
    "start_time": "2024-06-24T18:11:49.742Z"
   },
   {
    "duration": 372,
    "start_time": "2024-06-24T18:12:15.034Z"
   },
   {
    "duration": 181,
    "start_time": "2024-06-24T18:12:15.410Z"
   },
   {
    "duration": 5,
    "start_time": "2024-06-24T18:12:15.593Z"
   },
   {
    "duration": 149,
    "start_time": "2024-06-24T18:12:15.600Z"
   },
   {
    "duration": 6,
    "start_time": "2024-06-24T18:12:15.751Z"
   },
   {
    "duration": 25,
    "start_time": "2024-06-24T18:12:15.759Z"
   },
   {
    "duration": 144,
    "start_time": "2024-06-24T18:12:15.786Z"
   },
   {
    "duration": 8,
    "start_time": "2024-06-24T18:12:15.931Z"
   },
   {
    "duration": 101,
    "start_time": "2024-06-24T18:12:15.941Z"
   },
   {
    "duration": 78,
    "start_time": "2024-06-24T18:12:16.044Z"
   },
   {
    "duration": 18,
    "start_time": "2024-06-24T18:12:16.123Z"
   },
   {
    "duration": 8,
    "start_time": "2024-06-24T18:12:16.142Z"
   },
   {
    "duration": 39,
    "start_time": "2024-06-24T18:12:16.152Z"
   },
   {
    "duration": 25,
    "start_time": "2024-06-24T18:12:16.194Z"
   },
   {
    "duration": 16,
    "start_time": "2024-06-24T18:12:16.221Z"
   },
   {
    "duration": 18,
    "start_time": "2024-06-24T18:12:16.238Z"
   },
   {
    "duration": 7,
    "start_time": "2024-06-24T18:12:16.257Z"
   },
   {
    "duration": 7,
    "start_time": "2024-06-24T18:12:16.265Z"
   },
   {
    "duration": 5,
    "start_time": "2024-06-24T18:12:16.274Z"
   },
   {
    "duration": 394,
    "start_time": "2024-06-24T18:15:20.984Z"
   },
   {
    "duration": 147,
    "start_time": "2024-06-24T18:15:21.380Z"
   },
   {
    "duration": 4,
    "start_time": "2024-06-24T18:15:21.528Z"
   },
   {
    "duration": 164,
    "start_time": "2024-06-24T18:15:21.534Z"
   },
   {
    "duration": 12,
    "start_time": "2024-06-24T18:15:21.700Z"
   },
   {
    "duration": 13,
    "start_time": "2024-06-24T18:15:21.713Z"
   },
   {
    "duration": 83,
    "start_time": "2024-06-24T18:15:21.727Z"
   },
   {
    "duration": 0,
    "start_time": "2024-06-24T18:15:21.811Z"
   },
   {
    "duration": 0,
    "start_time": "2024-06-24T18:15:21.812Z"
   },
   {
    "duration": 0,
    "start_time": "2024-06-24T18:15:21.813Z"
   },
   {
    "duration": 0,
    "start_time": "2024-06-24T18:15:21.814Z"
   },
   {
    "duration": 0,
    "start_time": "2024-06-24T18:15:21.815Z"
   },
   {
    "duration": 0,
    "start_time": "2024-06-24T18:15:21.816Z"
   },
   {
    "duration": 0,
    "start_time": "2024-06-24T18:15:21.817Z"
   },
   {
    "duration": 0,
    "start_time": "2024-06-24T18:15:21.818Z"
   },
   {
    "duration": 0,
    "start_time": "2024-06-24T18:15:21.819Z"
   },
   {
    "duration": 0,
    "start_time": "2024-06-24T18:15:21.820Z"
   },
   {
    "duration": 0,
    "start_time": "2024-06-24T18:15:21.821Z"
   },
   {
    "duration": 0,
    "start_time": "2024-06-24T18:15:21.822Z"
   },
   {
    "duration": 0,
    "start_time": "2024-06-24T18:15:21.822Z"
   },
   {
    "duration": 63,
    "start_time": "2024-06-24T18:15:30.887Z"
   },
   {
    "duration": 405,
    "start_time": "2024-06-24T18:15:37.786Z"
   },
   {
    "duration": 147,
    "start_time": "2024-06-24T18:15:38.193Z"
   },
   {
    "duration": 4,
    "start_time": "2024-06-24T18:15:38.341Z"
   },
   {
    "duration": 124,
    "start_time": "2024-06-24T18:15:38.346Z"
   },
   {
    "duration": 5,
    "start_time": "2024-06-24T18:15:38.472Z"
   },
   {
    "duration": 24,
    "start_time": "2024-06-24T18:15:38.478Z"
   },
   {
    "duration": 65,
    "start_time": "2024-06-24T18:15:38.503Z"
   },
   {
    "duration": 2,
    "start_time": "2024-06-24T18:15:38.569Z"
   },
   {
    "duration": 16,
    "start_time": "2024-06-24T18:15:38.573Z"
   },
   {
    "duration": 120,
    "start_time": "2024-06-24T18:15:38.590Z"
   },
   {
    "duration": 80,
    "start_time": "2024-06-24T18:15:38.712Z"
   },
   {
    "duration": 39,
    "start_time": "2024-06-24T18:15:38.793Z"
   },
   {
    "duration": 9,
    "start_time": "2024-06-24T18:15:38.834Z"
   },
   {
    "duration": 52,
    "start_time": "2024-06-24T18:15:38.846Z"
   },
   {
    "duration": 33,
    "start_time": "2024-06-24T18:15:38.900Z"
   },
   {
    "duration": 8,
    "start_time": "2024-06-24T18:15:38.934Z"
   },
   {
    "duration": 33,
    "start_time": "2024-06-24T18:15:38.943Z"
   },
   {
    "duration": 6,
    "start_time": "2024-06-24T18:15:38.977Z"
   },
   {
    "duration": 14,
    "start_time": "2024-06-24T18:15:38.984Z"
   },
   {
    "duration": 17,
    "start_time": "2024-06-24T18:15:39.000Z"
   },
   {
    "duration": 360,
    "start_time": "2024-06-24T18:17:51.365Z"
   },
   {
    "duration": 155,
    "start_time": "2024-06-24T18:17:51.729Z"
   },
   {
    "duration": 7,
    "start_time": "2024-06-24T18:17:51.885Z"
   },
   {
    "duration": 146,
    "start_time": "2024-06-24T18:17:51.895Z"
   },
   {
    "duration": 4,
    "start_time": "2024-06-24T18:17:52.043Z"
   },
   {
    "duration": 11,
    "start_time": "2024-06-24T18:17:52.049Z"
   },
   {
    "duration": 113,
    "start_time": "2024-06-24T18:17:52.061Z"
   },
   {
    "duration": 2,
    "start_time": "2024-06-24T18:17:52.176Z"
   },
   {
    "duration": 12,
    "start_time": "2024-06-24T18:17:52.179Z"
   },
   {
    "duration": 143,
    "start_time": "2024-06-24T18:17:52.193Z"
   },
   {
    "duration": 90,
    "start_time": "2024-06-24T18:17:52.338Z"
   },
   {
    "duration": 38,
    "start_time": "2024-06-24T18:17:52.429Z"
   },
   {
    "duration": 11,
    "start_time": "2024-06-24T18:17:52.468Z"
   },
   {
    "duration": 61,
    "start_time": "2024-06-24T18:17:52.480Z"
   },
   {
    "duration": 18,
    "start_time": "2024-06-24T18:17:52.542Z"
   },
   {
    "duration": 6,
    "start_time": "2024-06-24T18:17:52.561Z"
   },
   {
    "duration": 17,
    "start_time": "2024-06-24T18:17:52.568Z"
   },
   {
    "duration": 35,
    "start_time": "2024-06-24T18:17:52.586Z"
   },
   {
    "duration": 5,
    "start_time": "2024-06-24T18:17:52.622Z"
   },
   {
    "duration": 19,
    "start_time": "2024-06-24T18:17:52.628Z"
   },
   {
    "duration": 413,
    "start_time": "2024-06-24T18:18:19.344Z"
   },
   {
    "duration": 176,
    "start_time": "2024-06-24T18:18:19.759Z"
   },
   {
    "duration": 5,
    "start_time": "2024-06-24T18:18:19.937Z"
   },
   {
    "duration": 137,
    "start_time": "2024-06-24T18:18:19.944Z"
   },
   {
    "duration": 5,
    "start_time": "2024-06-24T18:18:20.083Z"
   },
   {
    "duration": 38,
    "start_time": "2024-06-24T18:18:20.089Z"
   },
   {
    "duration": 124,
    "start_time": "2024-06-24T18:18:20.128Z"
   },
   {
    "duration": 2,
    "start_time": "2024-06-24T18:18:20.253Z"
   },
   {
    "duration": 9,
    "start_time": "2024-06-24T18:18:20.257Z"
   },
   {
    "duration": 114,
    "start_time": "2024-06-24T18:18:20.268Z"
   },
   {
    "duration": 80,
    "start_time": "2024-06-24T18:18:20.383Z"
   },
   {
    "duration": 17,
    "start_time": "2024-06-24T18:18:20.464Z"
   },
   {
    "duration": 8,
    "start_time": "2024-06-24T18:18:20.482Z"
   },
   {
    "duration": 46,
    "start_time": "2024-06-24T18:18:20.492Z"
   },
   {
    "duration": 17,
    "start_time": "2024-06-24T18:18:20.539Z"
   },
   {
    "duration": 6,
    "start_time": "2024-06-24T18:18:20.557Z"
   },
   {
    "duration": 17,
    "start_time": "2024-06-24T18:18:20.564Z"
   },
   {
    "duration": 6,
    "start_time": "2024-06-24T18:18:20.582Z"
   },
   {
    "duration": 13,
    "start_time": "2024-06-24T18:18:20.613Z"
   },
   {
    "duration": 15,
    "start_time": "2024-06-24T18:18:20.628Z"
   },
   {
    "duration": 4,
    "start_time": "2024-06-24T18:18:51.603Z"
   },
   {
    "duration": 9,
    "start_time": "2024-06-24T18:19:09.056Z"
   },
   {
    "duration": 185,
    "start_time": "2024-06-24T18:21:11.764Z"
   },
   {
    "duration": 4,
    "start_time": "2024-06-24T18:22:09.772Z"
   },
   {
    "duration": 6,
    "start_time": "2024-06-24T18:23:00.924Z"
   },
   {
    "duration": 4,
    "start_time": "2024-06-24T18:23:13.632Z"
   },
   {
    "duration": 621,
    "start_time": "2024-06-24T18:28:08.904Z"
   },
   {
    "duration": 167,
    "start_time": "2024-06-24T18:28:09.527Z"
   },
   {
    "duration": 6,
    "start_time": "2024-06-24T18:28:09.695Z"
   },
   {
    "duration": 177,
    "start_time": "2024-06-24T18:28:09.703Z"
   },
   {
    "duration": 11,
    "start_time": "2024-06-24T18:28:09.882Z"
   },
   {
    "duration": 8,
    "start_time": "2024-06-24T18:28:09.895Z"
   },
   {
    "duration": 109,
    "start_time": "2024-06-24T18:28:09.917Z"
   },
   {
    "duration": 8,
    "start_time": "2024-06-24T18:28:10.028Z"
   },
   {
    "duration": 112,
    "start_time": "2024-06-24T18:28:10.038Z"
   },
   {
    "duration": 84,
    "start_time": "2024-06-24T18:28:10.151Z"
   },
   {
    "duration": 20,
    "start_time": "2024-06-24T18:28:10.237Z"
   },
   {
    "duration": 8,
    "start_time": "2024-06-24T18:28:10.258Z"
   },
   {
    "duration": 56,
    "start_time": "2024-06-24T18:28:10.267Z"
   },
   {
    "duration": 18,
    "start_time": "2024-06-24T18:28:10.325Z"
   },
   {
    "duration": 6,
    "start_time": "2024-06-24T18:28:10.345Z"
   },
   {
    "duration": 18,
    "start_time": "2024-06-24T18:28:10.352Z"
   },
   {
    "duration": 6,
    "start_time": "2024-06-24T18:28:10.372Z"
   },
   {
    "duration": 5,
    "start_time": "2024-06-24T18:28:10.379Z"
   },
   {
    "duration": 36,
    "start_time": "2024-06-24T18:28:10.385Z"
   },
   {
    "duration": 13,
    "start_time": "2024-06-24T18:28:10.423Z"
   },
   {
    "duration": 7,
    "start_time": "2024-06-24T18:28:10.437Z"
   },
   {
    "duration": 68,
    "start_time": "2024-06-24T18:29:25.745Z"
   },
   {
    "duration": 7,
    "start_time": "2024-06-24T18:29:30.798Z"
   },
   {
    "duration": 8,
    "start_time": "2024-06-24T18:29:36.556Z"
   },
   {
    "duration": 11,
    "start_time": "2024-06-24T18:29:44.435Z"
   },
   {
    "duration": 6,
    "start_time": "2024-06-24T18:29:57.595Z"
   },
   {
    "duration": 21,
    "start_time": "2024-06-24T18:30:07.204Z"
   },
   {
    "duration": 1700,
    "start_time": "2024-06-24T18:31:05.495Z"
   },
   {
    "duration": 468,
    "start_time": "2024-06-24T18:31:24.835Z"
   },
   {
    "duration": 8,
    "start_time": "2024-06-24T18:41:16.718Z"
   },
   {
    "duration": 6,
    "start_time": "2024-06-24T18:41:49.386Z"
   },
   {
    "duration": 439,
    "start_time": "2024-06-24T18:42:52.604Z"
   },
   {
    "duration": 63,
    "start_time": "2024-06-24T18:46:15.504Z"
   },
   {
    "duration": 46,
    "start_time": "2024-06-24T18:46:38.255Z"
   },
   {
    "duration": 1059,
    "start_time": "2024-06-24T18:50:08.834Z"
   },
   {
    "duration": 171,
    "start_time": "2024-06-24T18:50:09.894Z"
   },
   {
    "duration": 4,
    "start_time": "2024-06-24T18:50:10.067Z"
   },
   {
    "duration": 161,
    "start_time": "2024-06-24T18:50:10.074Z"
   },
   {
    "duration": 9,
    "start_time": "2024-06-24T18:50:10.236Z"
   },
   {
    "duration": 24,
    "start_time": "2024-06-24T18:50:10.247Z"
   },
   {
    "duration": 116,
    "start_time": "2024-06-24T18:50:10.273Z"
   },
   {
    "duration": 8,
    "start_time": "2024-06-24T18:50:10.390Z"
   },
   {
    "duration": 133,
    "start_time": "2024-06-24T18:50:10.400Z"
   },
   {
    "duration": 75,
    "start_time": "2024-06-24T18:50:10.535Z"
   },
   {
    "duration": 26,
    "start_time": "2024-06-24T18:50:10.611Z"
   },
   {
    "duration": 15,
    "start_time": "2024-06-24T18:50:10.638Z"
   },
   {
    "duration": 33,
    "start_time": "2024-06-24T18:50:10.655Z"
   },
   {
    "duration": 39,
    "start_time": "2024-06-24T18:50:10.689Z"
   },
   {
    "duration": 7,
    "start_time": "2024-06-24T18:50:10.730Z"
   },
   {
    "duration": 25,
    "start_time": "2024-06-24T18:50:10.738Z"
   },
   {
    "duration": 6,
    "start_time": "2024-06-24T18:50:10.765Z"
   },
   {
    "duration": 10,
    "start_time": "2024-06-24T18:50:10.772Z"
   },
   {
    "duration": 12,
    "start_time": "2024-06-24T18:50:10.783Z"
   },
   {
    "duration": 27,
    "start_time": "2024-06-24T18:50:10.796Z"
   },
   {
    "duration": 36,
    "start_time": "2024-06-24T18:50:10.824Z"
   },
   {
    "duration": 28,
    "start_time": "2024-06-24T18:50:10.863Z"
   },
   {
    "duration": 33,
    "start_time": "2024-06-24T18:50:10.893Z"
   },
   {
    "duration": 2,
    "start_time": "2024-06-24T18:50:10.927Z"
   },
   {
    "duration": 9,
    "start_time": "2024-06-24T18:50:10.931Z"
   },
   {
    "duration": 8,
    "start_time": "2024-06-24T18:50:10.942Z"
   },
   {
    "duration": 128,
    "start_time": "2024-06-24T18:50:10.951Z"
   },
   {
    "duration": 60,
    "start_time": "2024-06-24T18:53:28.784Z"
   },
   {
    "duration": 15,
    "start_time": "2024-06-24T18:53:38.718Z"
   },
   {
    "duration": 57,
    "start_time": "2024-06-24T18:54:38.683Z"
   },
   {
    "duration": 33,
    "start_time": "2024-06-24T18:54:39.303Z"
   },
   {
    "duration": 52,
    "start_time": "2024-06-24T18:54:47.215Z"
   },
   {
    "duration": 12,
    "start_time": "2024-06-24T18:54:47.885Z"
   },
   {
    "duration": 43,
    "start_time": "2024-06-24T18:56:05.783Z"
   },
   {
    "duration": 9,
    "start_time": "2024-06-24T18:56:06.433Z"
   },
   {
    "duration": 37,
    "start_time": "2024-06-24T18:57:03.712Z"
   },
   {
    "duration": 9,
    "start_time": "2024-06-24T18:57:05.023Z"
   },
   {
    "duration": 37,
    "start_time": "2024-06-24T18:57:15.062Z"
   },
   {
    "duration": 8,
    "start_time": "2024-06-24T18:57:16.544Z"
   },
   {
    "duration": 387,
    "start_time": "2024-06-24T18:59:38.362Z"
   },
   {
    "duration": 10,
    "start_time": "2024-06-24T19:00:07.735Z"
   },
   {
    "duration": 379,
    "start_time": "2024-06-24T19:00:18.482Z"
   },
   {
    "duration": 367,
    "start_time": "2024-06-24T19:00:40.095Z"
   },
   {
    "duration": 533,
    "start_time": "2024-06-24T19:01:42.324Z"
   },
   {
    "duration": 384,
    "start_time": "2024-06-24T19:01:51.663Z"
   },
   {
    "duration": 394,
    "start_time": "2024-06-24T19:01:59.356Z"
   },
   {
    "duration": 378,
    "start_time": "2024-06-24T19:07:05.218Z"
   },
   {
    "duration": 368,
    "start_time": "2024-06-24T19:07:24.178Z"
   },
   {
    "duration": 362,
    "start_time": "2024-06-24T19:08:36.507Z"
   },
   {
    "duration": 368,
    "start_time": "2024-06-24T19:08:42.931Z"
   },
   {
    "duration": 356,
    "start_time": "2024-06-24T19:08:48.145Z"
   },
   {
    "duration": 405,
    "start_time": "2024-06-24T19:09:15.122Z"
   },
   {
    "duration": 579,
    "start_time": "2024-06-24T19:09:24.456Z"
   },
   {
    "duration": 1080,
    "start_time": "2024-06-24T19:10:46.978Z"
   },
   {
    "duration": 172,
    "start_time": "2024-06-24T19:10:48.060Z"
   },
   {
    "duration": 6,
    "start_time": "2024-06-24T19:10:48.234Z"
   },
   {
    "duration": 152,
    "start_time": "2024-06-24T19:10:48.242Z"
   },
   {
    "duration": 18,
    "start_time": "2024-06-24T19:10:48.395Z"
   },
   {
    "duration": 7,
    "start_time": "2024-06-24T19:10:48.422Z"
   },
   {
    "duration": 104,
    "start_time": "2024-06-24T19:10:48.430Z"
   },
   {
    "duration": 7,
    "start_time": "2024-06-24T19:10:48.535Z"
   },
   {
    "duration": 102,
    "start_time": "2024-06-24T19:10:48.544Z"
   },
   {
    "duration": 78,
    "start_time": "2024-06-24T19:10:48.648Z"
   },
   {
    "duration": 16,
    "start_time": "2024-06-24T19:10:48.728Z"
   },
   {
    "duration": 9,
    "start_time": "2024-06-24T19:10:48.745Z"
   },
   {
    "duration": 39,
    "start_time": "2024-06-24T19:10:48.755Z"
   },
   {
    "duration": 29,
    "start_time": "2024-06-24T19:10:48.796Z"
   },
   {
    "duration": 18,
    "start_time": "2024-06-24T19:10:48.826Z"
   },
   {
    "duration": 17,
    "start_time": "2024-06-24T19:10:48.846Z"
   },
   {
    "duration": 5,
    "start_time": "2024-06-24T19:10:48.864Z"
   },
   {
    "duration": 6,
    "start_time": "2024-06-24T19:10:48.870Z"
   },
   {
    "duration": 7,
    "start_time": "2024-06-24T19:10:48.877Z"
   },
   {
    "duration": 41,
    "start_time": "2024-06-24T19:10:48.885Z"
   },
   {
    "duration": 6,
    "start_time": "2024-06-24T19:10:48.927Z"
   },
   {
    "duration": 8,
    "start_time": "2024-06-24T19:10:48.934Z"
   },
   {
    "duration": 8,
    "start_time": "2024-06-24T19:10:48.943Z"
   },
   {
    "duration": 41,
    "start_time": "2024-06-24T19:10:48.952Z"
   },
   {
    "duration": 8,
    "start_time": "2024-06-24T19:10:48.995Z"
   },
   {
    "duration": 36,
    "start_time": "2024-06-24T19:10:49.005Z"
   },
   {
    "duration": 22,
    "start_time": "2024-06-24T19:10:49.043Z"
   },
   {
    "duration": 398,
    "start_time": "2024-06-24T19:10:49.067Z"
   },
   {
    "duration": 1040,
    "start_time": "2024-06-24T19:13:02.337Z"
   },
   {
    "duration": 172,
    "start_time": "2024-06-24T19:13:03.379Z"
   },
   {
    "duration": 4,
    "start_time": "2024-06-24T19:13:03.552Z"
   },
   {
    "duration": 136,
    "start_time": "2024-06-24T19:13:03.559Z"
   },
   {
    "duration": 32,
    "start_time": "2024-06-24T19:13:03.697Z"
   },
   {
    "duration": 7,
    "start_time": "2024-06-24T19:13:03.731Z"
   },
   {
    "duration": 138,
    "start_time": "2024-06-24T19:13:03.740Z"
   },
   {
    "duration": 8,
    "start_time": "2024-06-24T19:13:03.879Z"
   },
   {
    "duration": 111,
    "start_time": "2024-06-24T19:13:03.888Z"
   },
   {
    "duration": 81,
    "start_time": "2024-06-24T19:13:04.002Z"
   },
   {
    "duration": 45,
    "start_time": "2024-06-24T19:13:04.084Z"
   },
   {
    "duration": 8,
    "start_time": "2024-06-24T19:13:04.134Z"
   },
   {
    "duration": 37,
    "start_time": "2024-06-24T19:13:04.143Z"
   },
   {
    "duration": 21,
    "start_time": "2024-06-24T19:13:04.182Z"
   },
   {
    "duration": 17,
    "start_time": "2024-06-24T19:13:04.205Z"
   },
   {
    "duration": 27,
    "start_time": "2024-06-24T19:13:04.224Z"
   },
   {
    "duration": 6,
    "start_time": "2024-06-24T19:13:04.252Z"
   },
   {
    "duration": 14,
    "start_time": "2024-06-24T19:13:04.260Z"
   },
   {
    "duration": 5,
    "start_time": "2024-06-24T19:13:04.275Z"
   },
   {
    "duration": 4,
    "start_time": "2024-06-24T19:13:04.281Z"
   },
   {
    "duration": 5,
    "start_time": "2024-06-24T19:13:04.286Z"
   },
   {
    "duration": 8,
    "start_time": "2024-06-24T19:13:04.292Z"
   },
   {
    "duration": 28,
    "start_time": "2024-06-24T19:13:04.301Z"
   },
   {
    "duration": 38,
    "start_time": "2024-06-24T19:13:04.330Z"
   },
   {
    "duration": 11,
    "start_time": "2024-06-24T19:13:04.370Z"
   },
   {
    "duration": 7,
    "start_time": "2024-06-24T19:13:04.383Z"
   },
   {
    "duration": 10,
    "start_time": "2024-06-24T19:13:04.391Z"
   },
   {
    "duration": 431,
    "start_time": "2024-06-24T19:13:04.405Z"
   },
   {
    "duration": 374,
    "start_time": "2024-06-24T19:14:28.467Z"
   },
   {
    "duration": 109,
    "start_time": "2024-06-24T19:14:38.739Z"
   },
   {
    "duration": 10,
    "start_time": "2024-06-24T19:14:52.354Z"
   },
   {
    "duration": 13,
    "start_time": "2024-06-24T19:16:11.245Z"
   },
   {
    "duration": 131,
    "start_time": "2024-06-24T19:16:25.467Z"
   },
   {
    "duration": 20,
    "start_time": "2024-06-24T19:18:23.107Z"
   },
   {
    "duration": 10,
    "start_time": "2024-06-24T19:19:46.790Z"
   },
   {
    "duration": 375,
    "start_time": "2024-06-24T19:19:54.387Z"
   },
   {
    "duration": 164,
    "start_time": "2024-06-24T19:20:13.858Z"
   },
   {
    "duration": 20,
    "start_time": "2024-06-24T19:20:14.907Z"
   },
   {
    "duration": 1110,
    "start_time": "2024-06-24T19:20:21.308Z"
   },
   {
    "duration": 152,
    "start_time": "2024-06-24T19:20:22.419Z"
   },
   {
    "duration": 4,
    "start_time": "2024-06-24T19:20:22.573Z"
   },
   {
    "duration": 139,
    "start_time": "2024-06-24T19:20:22.578Z"
   },
   {
    "duration": 9,
    "start_time": "2024-06-24T19:20:22.719Z"
   },
   {
    "duration": 16,
    "start_time": "2024-06-24T19:20:22.729Z"
   },
   {
    "duration": 172,
    "start_time": "2024-06-24T19:20:22.746Z"
   },
   {
    "duration": 10,
    "start_time": "2024-06-24T19:20:22.919Z"
   },
   {
    "duration": 142,
    "start_time": "2024-06-24T19:20:22.931Z"
   },
   {
    "duration": 88,
    "start_time": "2024-06-24T19:20:23.074Z"
   },
   {
    "duration": 24,
    "start_time": "2024-06-24T19:20:23.163Z"
   },
   {
    "duration": 8,
    "start_time": "2024-06-24T19:20:23.188Z"
   },
   {
    "duration": 43,
    "start_time": "2024-06-24T19:20:23.197Z"
   },
   {
    "duration": 18,
    "start_time": "2024-06-24T19:20:23.242Z"
   },
   {
    "duration": 6,
    "start_time": "2024-06-24T19:20:23.261Z"
   },
   {
    "duration": 49,
    "start_time": "2024-06-24T19:20:23.268Z"
   },
   {
    "duration": 6,
    "start_time": "2024-06-24T19:20:23.324Z"
   },
   {
    "duration": 5,
    "start_time": "2024-06-24T19:20:23.332Z"
   },
   {
    "duration": 38,
    "start_time": "2024-06-24T19:20:23.338Z"
   },
   {
    "duration": 30,
    "start_time": "2024-06-24T19:20:23.378Z"
   },
   {
    "duration": 30,
    "start_time": "2024-06-24T19:20:23.417Z"
   },
   {
    "duration": 9,
    "start_time": "2024-06-24T19:20:23.448Z"
   },
   {
    "duration": 8,
    "start_time": "2024-06-24T19:20:23.458Z"
   },
   {
    "duration": 62,
    "start_time": "2024-06-24T19:20:23.467Z"
   },
   {
    "duration": 8,
    "start_time": "2024-06-24T19:20:23.531Z"
   },
   {
    "duration": 8,
    "start_time": "2024-06-24T19:20:23.541Z"
   },
   {
    "duration": 9,
    "start_time": "2024-06-24T19:20:23.551Z"
   },
   {
    "duration": 154,
    "start_time": "2024-06-24T19:20:23.562Z"
   },
   {
    "duration": 339,
    "start_time": "2024-06-24T19:20:45.788Z"
   },
   {
    "duration": 14,
    "start_time": "2024-06-24T19:20:57.058Z"
   },
   {
    "duration": 1086,
    "start_time": "2024-06-24T19:21:04.000Z"
   },
   {
    "duration": 183,
    "start_time": "2024-06-24T19:21:05.087Z"
   },
   {
    "duration": 4,
    "start_time": "2024-06-24T19:21:05.271Z"
   },
   {
    "duration": 176,
    "start_time": "2024-06-24T19:21:05.276Z"
   },
   {
    "duration": 9,
    "start_time": "2024-06-24T19:21:05.455Z"
   },
   {
    "duration": 6,
    "start_time": "2024-06-24T19:21:05.466Z"
   },
   {
    "duration": 197,
    "start_time": "2024-06-24T19:21:05.474Z"
   },
   {
    "duration": 8,
    "start_time": "2024-06-24T19:21:05.673Z"
   },
   {
    "duration": 135,
    "start_time": "2024-06-24T19:21:05.682Z"
   },
   {
    "duration": 107,
    "start_time": "2024-06-24T19:21:05.818Z"
   },
   {
    "duration": 30,
    "start_time": "2024-06-24T19:21:05.926Z"
   },
   {
    "duration": 7,
    "start_time": "2024-06-24T19:21:05.958Z"
   },
   {
    "duration": 28,
    "start_time": "2024-06-24T19:21:05.967Z"
   },
   {
    "duration": 24,
    "start_time": "2024-06-24T19:21:06.017Z"
   },
   {
    "duration": 7,
    "start_time": "2024-06-24T19:21:06.042Z"
   },
   {
    "duration": 18,
    "start_time": "2024-06-24T19:21:06.050Z"
   },
   {
    "duration": 6,
    "start_time": "2024-06-24T19:21:06.069Z"
   },
   {
    "duration": 7,
    "start_time": "2024-06-24T19:21:06.076Z"
   },
   {
    "duration": 38,
    "start_time": "2024-06-24T19:21:06.084Z"
   },
   {
    "duration": 20,
    "start_time": "2024-06-24T19:21:06.124Z"
   },
   {
    "duration": 37,
    "start_time": "2024-06-24T19:21:06.145Z"
   },
   {
    "duration": 9,
    "start_time": "2024-06-24T19:21:06.183Z"
   },
   {
    "duration": 40,
    "start_time": "2024-06-24T19:21:06.193Z"
   },
   {
    "duration": 40,
    "start_time": "2024-06-24T19:21:06.235Z"
   },
   {
    "duration": 8,
    "start_time": "2024-06-24T19:21:06.277Z"
   },
   {
    "duration": 8,
    "start_time": "2024-06-24T19:21:06.286Z"
   },
   {
    "duration": 11,
    "start_time": "2024-06-24T19:21:06.295Z"
   },
   {
    "duration": 362,
    "start_time": "2024-06-24T19:21:06.307Z"
   },
   {
    "duration": 8,
    "start_time": "2024-06-24T19:21:17.197Z"
   },
   {
    "duration": 7,
    "start_time": "2024-06-24T19:21:21.538Z"
   },
   {
    "duration": 65,
    "start_time": "2024-06-24T19:21:48.696Z"
   },
   {
    "duration": 387,
    "start_time": "2024-06-24T19:24:03.059Z"
   },
   {
    "duration": 369,
    "start_time": "2024-06-24T19:26:19.830Z"
   },
   {
    "duration": 425,
    "start_time": "2024-06-24T19:33:22.260Z"
   },
   {
    "duration": 363,
    "start_time": "2024-06-24T19:33:57.998Z"
   },
   {
    "duration": 320,
    "start_time": "2024-06-24T19:34:20.522Z"
   },
   {
    "duration": 309,
    "start_time": "2024-06-24T19:36:28.170Z"
   },
   {
    "duration": 352,
    "start_time": "2024-06-24T19:39:36.540Z"
   },
   {
    "duration": 314,
    "start_time": "2024-06-24T19:40:12.075Z"
   },
   {
    "duration": 374,
    "start_time": "2024-06-24T19:40:37.674Z"
   },
   {
    "duration": 51,
    "start_time": "2024-06-24T19:45:50.182Z"
   },
   {
    "duration": 1164,
    "start_time": "2024-06-24T19:47:32.395Z"
   },
   {
    "duration": 166,
    "start_time": "2024-06-24T19:47:33.561Z"
   },
   {
    "duration": 4,
    "start_time": "2024-06-24T19:47:33.728Z"
   },
   {
    "duration": 142,
    "start_time": "2024-06-24T19:47:33.733Z"
   },
   {
    "duration": 10,
    "start_time": "2024-06-24T19:47:33.877Z"
   },
   {
    "duration": 7,
    "start_time": "2024-06-24T19:47:33.888Z"
   },
   {
    "duration": 154,
    "start_time": "2024-06-24T19:47:33.909Z"
   },
   {
    "duration": 9,
    "start_time": "2024-06-24T19:47:34.064Z"
   },
   {
    "duration": 140,
    "start_time": "2024-06-24T19:47:34.075Z"
   },
   {
    "duration": 93,
    "start_time": "2024-06-24T19:47:34.217Z"
   },
   {
    "duration": 26,
    "start_time": "2024-06-24T19:47:34.311Z"
   },
   {
    "duration": 8,
    "start_time": "2024-06-24T19:47:34.338Z"
   },
   {
    "duration": 32,
    "start_time": "2024-06-24T19:47:34.347Z"
   },
   {
    "duration": 36,
    "start_time": "2024-06-24T19:47:34.382Z"
   },
   {
    "duration": 7,
    "start_time": "2024-06-24T19:47:34.420Z"
   },
   {
    "duration": 21,
    "start_time": "2024-06-24T19:47:34.428Z"
   },
   {
    "duration": 6,
    "start_time": "2024-06-24T19:47:34.451Z"
   },
   {
    "duration": 4,
    "start_time": "2024-06-24T19:47:34.459Z"
   },
   {
    "duration": 55,
    "start_time": "2024-06-24T19:47:34.465Z"
   },
   {
    "duration": 20,
    "start_time": "2024-06-24T19:47:34.522Z"
   },
   {
    "duration": 30,
    "start_time": "2024-06-24T19:47:34.543Z"
   },
   {
    "duration": 57,
    "start_time": "2024-06-24T19:47:34.575Z"
   },
   {
    "duration": 7,
    "start_time": "2024-06-24T19:47:34.633Z"
   },
   {
    "duration": 374,
    "start_time": "2024-06-24T19:47:34.642Z"
   },
   {
    "duration": 306,
    "start_time": "2024-06-24T20:00:37.371Z"
   },
   {
    "duration": 210,
    "start_time": "2024-06-24T20:00:45.461Z"
   },
   {
    "duration": 3,
    "start_time": "2024-06-24T20:00:55.261Z"
   },
   {
    "duration": 241,
    "start_time": "2024-06-24T20:01:33.893Z"
   },
   {
    "duration": 24,
    "start_time": "2024-06-24T20:02:32.652Z"
   },
   {
    "duration": 1026,
    "start_time": "2024-06-24T20:03:11.334Z"
   },
   {
    "duration": 147,
    "start_time": "2024-06-24T20:03:12.361Z"
   },
   {
    "duration": 3,
    "start_time": "2024-06-24T20:03:12.510Z"
   },
   {
    "duration": 148,
    "start_time": "2024-06-24T20:03:12.515Z"
   },
   {
    "duration": 10,
    "start_time": "2024-06-24T20:03:12.665Z"
   },
   {
    "duration": 7,
    "start_time": "2024-06-24T20:03:12.677Z"
   },
   {
    "duration": 52,
    "start_time": "2024-06-24T20:03:12.686Z"
   },
   {
    "duration": 0,
    "start_time": "2024-06-24T20:03:12.740Z"
   },
   {
    "duration": 0,
    "start_time": "2024-06-24T20:03:12.740Z"
   },
   {
    "duration": 0,
    "start_time": "2024-06-24T20:03:12.741Z"
   },
   {
    "duration": 0,
    "start_time": "2024-06-24T20:03:12.742Z"
   },
   {
    "duration": 0,
    "start_time": "2024-06-24T20:03:12.743Z"
   },
   {
    "duration": 0,
    "start_time": "2024-06-24T20:03:12.744Z"
   },
   {
    "duration": 0,
    "start_time": "2024-06-24T20:03:12.745Z"
   },
   {
    "duration": 0,
    "start_time": "2024-06-24T20:03:12.745Z"
   },
   {
    "duration": 0,
    "start_time": "2024-06-24T20:03:12.746Z"
   },
   {
    "duration": 0,
    "start_time": "2024-06-24T20:03:12.747Z"
   },
   {
    "duration": 0,
    "start_time": "2024-06-24T20:03:12.748Z"
   },
   {
    "duration": 0,
    "start_time": "2024-06-24T20:03:12.749Z"
   },
   {
    "duration": 0,
    "start_time": "2024-06-24T20:03:12.749Z"
   },
   {
    "duration": 0,
    "start_time": "2024-06-24T20:03:12.750Z"
   },
   {
    "duration": 0,
    "start_time": "2024-06-24T20:03:12.751Z"
   },
   {
    "duration": 0,
    "start_time": "2024-06-24T20:03:12.752Z"
   },
   {
    "duration": 0,
    "start_time": "2024-06-24T20:03:12.752Z"
   },
   {
    "duration": 0,
    "start_time": "2024-06-24T20:03:12.753Z"
   },
   {
    "duration": 1088,
    "start_time": "2024-06-24T20:03:29.478Z"
   },
   {
    "duration": 151,
    "start_time": "2024-06-24T20:03:30.568Z"
   },
   {
    "duration": 4,
    "start_time": "2024-06-24T20:03:30.720Z"
   },
   {
    "duration": 179,
    "start_time": "2024-06-24T20:03:30.728Z"
   },
   {
    "duration": 8,
    "start_time": "2024-06-24T20:03:30.910Z"
   },
   {
    "duration": 157,
    "start_time": "2024-06-24T20:03:30.920Z"
   },
   {
    "duration": 264,
    "start_time": "2024-06-24T20:03:31.079Z"
   },
   {
    "duration": 11,
    "start_time": "2024-06-24T20:03:31.344Z"
   },
   {
    "duration": 185,
    "start_time": "2024-06-24T20:03:31.357Z"
   },
   {
    "duration": 116,
    "start_time": "2024-06-24T20:03:31.544Z"
   },
   {
    "duration": 17,
    "start_time": "2024-06-24T20:03:31.662Z"
   },
   {
    "duration": 23,
    "start_time": "2024-06-24T20:03:31.681Z"
   },
   {
    "duration": 140,
    "start_time": "2024-06-24T20:03:31.706Z"
   },
   {
    "duration": 87,
    "start_time": "2024-06-24T20:03:31.848Z"
   },
   {
    "duration": 5,
    "start_time": "2024-06-24T20:03:31.937Z"
   },
   {
    "duration": 17,
    "start_time": "2024-06-24T20:03:31.944Z"
   },
   {
    "duration": 28,
    "start_time": "2024-06-24T20:03:31.962Z"
   },
   {
    "duration": 89,
    "start_time": "2024-06-24T20:03:31.992Z"
   },
   {
    "duration": 35,
    "start_time": "2024-06-24T20:03:32.082Z"
   },
   {
    "duration": 20,
    "start_time": "2024-06-24T20:03:32.118Z"
   },
   {
    "duration": 30,
    "start_time": "2024-06-24T20:03:32.139Z"
   },
   {
    "duration": 111,
    "start_time": "2024-06-24T20:03:32.170Z"
   },
   {
    "duration": 6,
    "start_time": "2024-06-24T20:03:32.283Z"
   },
   {
    "duration": 0,
    "start_time": "2024-06-24T20:04:27.375Z"
   },
   {
    "duration": 0,
    "start_time": "2024-06-24T20:04:27.376Z"
   },
   {
    "duration": 0,
    "start_time": "2024-06-24T20:04:27.377Z"
   },
   {
    "duration": 0,
    "start_time": "2024-06-24T20:04:27.378Z"
   },
   {
    "duration": 1032,
    "start_time": "2024-06-24T20:04:36.479Z"
   },
   {
    "duration": 153,
    "start_time": "2024-06-24T20:04:37.513Z"
   },
   {
    "duration": 5,
    "start_time": "2024-06-24T20:04:37.668Z"
   },
   {
    "duration": 147,
    "start_time": "2024-06-24T20:04:37.675Z"
   },
   {
    "duration": 9,
    "start_time": "2024-06-24T20:04:37.824Z"
   },
   {
    "duration": 16,
    "start_time": "2024-06-24T20:04:37.834Z"
   },
   {
    "duration": 102,
    "start_time": "2024-06-24T20:04:37.851Z"
   },
   {
    "duration": 9,
    "start_time": "2024-06-24T20:04:37.954Z"
   },
   {
    "duration": 107,
    "start_time": "2024-06-24T20:04:37.965Z"
   },
   {
    "duration": 72,
    "start_time": "2024-06-24T20:04:38.073Z"
   },
   {
    "duration": 16,
    "start_time": "2024-06-24T20:04:38.147Z"
   },
   {
    "duration": 14,
    "start_time": "2024-06-24T20:04:38.164Z"
   },
   {
    "duration": 41,
    "start_time": "2024-06-24T20:04:38.179Z"
   },
   {
    "duration": 17,
    "start_time": "2024-06-24T20:04:38.222Z"
   },
   {
    "duration": 9,
    "start_time": "2024-06-24T20:04:38.241Z"
   },
   {
    "duration": 20,
    "start_time": "2024-06-24T20:04:38.252Z"
   },
   {
    "duration": 6,
    "start_time": "2024-06-24T20:04:38.273Z"
   },
   {
    "duration": 4,
    "start_time": "2024-06-24T20:04:38.280Z"
   },
   {
    "duration": 11,
    "start_time": "2024-06-24T20:04:38.285Z"
   },
   {
    "duration": 12,
    "start_time": "2024-06-24T20:04:38.298Z"
   },
   {
    "duration": 9,
    "start_time": "2024-06-24T20:04:38.311Z"
   },
   {
    "duration": 45,
    "start_time": "2024-06-24T20:04:38.322Z"
   },
   {
    "duration": 6,
    "start_time": "2024-06-24T20:04:38.369Z"
   },
   {
    "duration": 383,
    "start_time": "2024-06-24T20:04:38.376Z"
   },
   {
    "duration": 27,
    "start_time": "2024-06-24T20:04:38.760Z"
   },
   {
    "duration": 405,
    "start_time": "2024-06-24T20:04:54.100Z"
   },
   {
    "duration": 12,
    "start_time": "2024-06-24T20:05:46.132Z"
   },
   {
    "duration": 17,
    "start_time": "2024-06-24T20:05:49.962Z"
   },
   {
    "duration": 18,
    "start_time": "2024-06-24T20:06:17.043Z"
   },
   {
    "duration": 4,
    "start_time": "2024-06-24T20:07:21.223Z"
   },
   {
    "duration": 3,
    "start_time": "2024-06-24T20:07:40.062Z"
   },
   {
    "duration": 4,
    "start_time": "2024-06-24T20:07:52.983Z"
   },
   {
    "duration": 4,
    "start_time": "2024-06-24T20:08:03.544Z"
   },
   {
    "duration": 3,
    "start_time": "2024-06-24T20:08:34.145Z"
   },
   {
    "duration": 5,
    "start_time": "2024-06-24T20:09:55.182Z"
   },
   {
    "duration": 4,
    "start_time": "2024-06-24T20:10:09.874Z"
   },
   {
    "duration": 141,
    "start_time": "2024-06-24T20:11:47.437Z"
   },
   {
    "duration": 7,
    "start_time": "2024-06-24T20:12:05.877Z"
   },
   {
    "duration": 8,
    "start_time": "2024-06-24T20:12:59.610Z"
   },
   {
    "duration": 7,
    "start_time": "2024-06-24T20:13:14.567Z"
   },
   {
    "duration": 9,
    "start_time": "2024-06-24T20:13:27.878Z"
   },
   {
    "duration": 1053,
    "start_time": "2024-06-24T20:15:49.207Z"
   },
   {
    "duration": 147,
    "start_time": "2024-06-24T20:15:50.262Z"
   },
   {
    "duration": 4,
    "start_time": "2024-06-24T20:15:50.411Z"
   },
   {
    "duration": 142,
    "start_time": "2024-06-24T20:15:50.416Z"
   },
   {
    "duration": 8,
    "start_time": "2024-06-24T20:15:50.560Z"
   },
   {
    "duration": 6,
    "start_time": "2024-06-24T20:15:50.570Z"
   },
   {
    "duration": 108,
    "start_time": "2024-06-24T20:15:50.577Z"
   },
   {
    "duration": 7,
    "start_time": "2024-06-24T20:15:50.687Z"
   },
   {
    "duration": 142,
    "start_time": "2024-06-24T20:15:50.696Z"
   },
   {
    "duration": 83,
    "start_time": "2024-06-24T20:15:50.839Z"
   },
   {
    "duration": 16,
    "start_time": "2024-06-24T20:15:50.924Z"
   },
   {
    "duration": 39,
    "start_time": "2024-06-24T20:15:50.942Z"
   },
   {
    "duration": 53,
    "start_time": "2024-06-24T20:15:50.982Z"
   },
   {
    "duration": 18,
    "start_time": "2024-06-24T20:15:51.037Z"
   },
   {
    "duration": 14,
    "start_time": "2024-06-24T20:15:51.056Z"
   },
   {
    "duration": 17,
    "start_time": "2024-06-24T20:15:51.071Z"
   },
   {
    "duration": 6,
    "start_time": "2024-06-24T20:15:51.089Z"
   },
   {
    "duration": 14,
    "start_time": "2024-06-24T20:15:51.096Z"
   },
   {
    "duration": 11,
    "start_time": "2024-06-24T20:15:51.111Z"
   },
   {
    "duration": 27,
    "start_time": "2024-06-24T20:15:51.123Z"
   },
   {
    "duration": 4,
    "start_time": "2024-06-24T20:15:51.152Z"
   },
   {
    "duration": 30,
    "start_time": "2024-06-24T20:15:51.158Z"
   },
   {
    "duration": 6,
    "start_time": "2024-06-24T20:15:51.190Z"
   },
   {
    "duration": 359,
    "start_time": "2024-06-24T20:15:51.197Z"
   },
   {
    "duration": 13,
    "start_time": "2024-06-24T20:15:51.558Z"
   },
   {
    "duration": 11,
    "start_time": "2024-06-24T20:15:51.572Z"
   },
   {
    "duration": 3,
    "start_time": "2024-06-24T20:15:51.584Z"
   },
   {
    "duration": 21,
    "start_time": "2024-06-24T20:15:51.588Z"
   },
   {
    "duration": 16,
    "start_time": "2024-06-24T20:15:51.610Z"
   },
   {
    "duration": 9,
    "start_time": "2024-06-24T20:16:14.509Z"
   },
   {
    "duration": 8,
    "start_time": "2024-06-24T20:19:36.880Z"
   },
   {
    "duration": 109,
    "start_time": "2024-06-24T20:21:24.644Z"
   },
   {
    "duration": 33,
    "start_time": "2024-06-24T20:21:33.940Z"
   },
   {
    "duration": 10,
    "start_time": "2024-06-24T20:21:43.986Z"
   },
   {
    "duration": 30,
    "start_time": "2024-06-24T20:23:29.362Z"
   },
   {
    "duration": 34,
    "start_time": "2024-06-24T20:25:11.772Z"
   },
   {
    "duration": 32,
    "start_time": "2024-06-24T20:25:23.940Z"
   },
   {
    "duration": 19,
    "start_time": "2024-06-24T20:31:40.461Z"
   },
   {
    "duration": 22,
    "start_time": "2024-06-24T20:37:23.031Z"
   },
   {
    "duration": 20,
    "start_time": "2024-06-24T20:37:33.710Z"
   },
   {
    "duration": 10,
    "start_time": "2024-06-24T20:40:11.841Z"
   },
   {
    "duration": 49,
    "start_time": "2024-06-24T20:41:25.918Z"
   },
   {
    "duration": 53,
    "start_time": "2024-06-24T20:41:28.971Z"
   },
   {
    "duration": 50,
    "start_time": "2024-06-24T20:41:46.625Z"
   },
   {
    "duration": 52,
    "start_time": "2024-06-24T20:43:14.337Z"
   },
   {
    "duration": 52,
    "start_time": "2024-06-24T20:43:59.929Z"
   },
   {
    "duration": 16,
    "start_time": "2024-06-24T20:44:30.449Z"
   },
   {
    "duration": 7,
    "start_time": "2024-06-24T20:46:31.889Z"
   },
   {
    "duration": 54,
    "start_time": "2024-06-24T20:50:55.600Z"
   },
   {
    "duration": 52,
    "start_time": "2024-06-24T20:52:32.139Z"
   },
   {
    "duration": 51,
    "start_time": "2024-06-24T20:52:39.798Z"
   },
   {
    "duration": 50,
    "start_time": "2024-06-24T20:53:59.188Z"
   },
   {
    "duration": 54,
    "start_time": "2024-06-24T20:54:05.149Z"
   },
   {
    "duration": 56,
    "start_time": "2024-06-24T20:54:14.470Z"
   },
   {
    "duration": 58,
    "start_time": "2024-06-24T20:54:22.449Z"
   },
   {
    "duration": 57,
    "start_time": "2024-06-24T20:54:30.445Z"
   },
   {
    "duration": 41,
    "start_time": "2024-06-24T22:02:34.069Z"
   },
   {
    "duration": 7,
    "start_time": "2024-06-24T22:18:30.796Z"
   },
   {
    "duration": 2,
    "start_time": "2024-06-24T22:28:03.881Z"
   },
   {
    "duration": 4,
    "start_time": "2024-06-24T22:28:09.561Z"
   },
   {
    "duration": 4,
    "start_time": "2024-06-24T22:28:21.763Z"
   },
   {
    "duration": 5,
    "start_time": "2024-06-24T22:28:26.241Z"
   },
   {
    "duration": 5,
    "start_time": "2024-06-24T22:36:40.307Z"
   },
   {
    "duration": 6,
    "start_time": "2024-06-24T22:37:34.158Z"
   },
   {
    "duration": 6,
    "start_time": "2024-06-24T22:38:10.769Z"
   },
   {
    "duration": 43,
    "start_time": "2024-06-24T22:39:22.707Z"
   },
   {
    "duration": 5,
    "start_time": "2024-06-24T22:39:40.659Z"
   },
   {
    "duration": 6,
    "start_time": "2024-06-24T22:39:53.908Z"
   },
   {
    "duration": 45,
    "start_time": "2024-06-24T22:40:15.558Z"
   },
   {
    "duration": 46,
    "start_time": "2024-06-24T22:40:19.847Z"
   },
   {
    "duration": 43,
    "start_time": "2024-06-24T22:40:23.349Z"
   },
   {
    "duration": 8,
    "start_time": "2024-06-24T22:40:28.016Z"
   },
   {
    "duration": 5,
    "start_time": "2024-06-24T22:51:58.008Z"
   },
   {
    "duration": 11,
    "start_time": "2024-06-24T22:52:29.642Z"
   },
   {
    "duration": 886,
    "start_time": "2024-06-24T22:52:40.372Z"
   },
   {
    "duration": 876,
    "start_time": "2024-06-24T22:56:44.150Z"
   },
   {
    "duration": 826,
    "start_time": "2024-06-24T22:57:39.204Z"
   },
   {
    "duration": 5,
    "start_time": "2024-06-24T22:58:53.535Z"
   },
   {
    "duration": 5,
    "start_time": "2024-06-24T22:59:24.488Z"
   },
   {
    "duration": 8,
    "start_time": "2024-06-24T22:59:40.208Z"
   },
   {
    "duration": 1026,
    "start_time": "2024-06-24T23:00:02.757Z"
   },
   {
    "duration": 171,
    "start_time": "2024-06-24T23:00:03.785Z"
   },
   {
    "duration": 5,
    "start_time": "2024-06-24T23:00:03.958Z"
   },
   {
    "duration": 138,
    "start_time": "2024-06-24T23:00:03.964Z"
   },
   {
    "duration": 12,
    "start_time": "2024-06-24T23:00:04.104Z"
   },
   {
    "duration": 6,
    "start_time": "2024-06-24T23:00:04.117Z"
   },
   {
    "duration": 103,
    "start_time": "2024-06-24T23:00:04.125Z"
   },
   {
    "duration": 8,
    "start_time": "2024-06-24T23:00:04.229Z"
   },
   {
    "duration": 105,
    "start_time": "2024-06-24T23:00:04.238Z"
   },
   {
    "duration": 75,
    "start_time": "2024-06-24T23:00:04.344Z"
   },
   {
    "duration": 17,
    "start_time": "2024-06-24T23:00:04.420Z"
   },
   {
    "duration": 7,
    "start_time": "2024-06-24T23:00:04.438Z"
   },
   {
    "duration": 26,
    "start_time": "2024-06-24T23:00:04.447Z"
   },
   {
    "duration": 34,
    "start_time": "2024-06-24T23:00:04.476Z"
   },
   {
    "duration": 25,
    "start_time": "2024-06-24T23:00:04.511Z"
   },
   {
    "duration": 17,
    "start_time": "2024-06-24T23:00:04.538Z"
   },
   {
    "duration": 6,
    "start_time": "2024-06-24T23:00:04.557Z"
   },
   {
    "duration": 37,
    "start_time": "2024-06-24T23:00:04.564Z"
   },
   {
    "duration": 5,
    "start_time": "2024-06-24T23:00:04.602Z"
   },
   {
    "duration": 13,
    "start_time": "2024-06-24T23:00:04.608Z"
   },
   {
    "duration": 7,
    "start_time": "2024-06-24T23:00:04.622Z"
   },
   {
    "duration": 30,
    "start_time": "2024-06-24T23:00:04.631Z"
   },
   {
    "duration": 7,
    "start_time": "2024-06-24T23:00:04.662Z"
   },
   {
    "duration": 359,
    "start_time": "2024-06-24T23:00:04.670Z"
   },
   {
    "duration": 13,
    "start_time": "2024-06-24T23:00:05.030Z"
   },
   {
    "duration": 17,
    "start_time": "2024-06-24T23:00:05.045Z"
   },
   {
    "duration": 26,
    "start_time": "2024-06-24T23:00:05.064Z"
   },
   {
    "duration": 47,
    "start_time": "2024-06-24T23:00:05.091Z"
   },
   {
    "duration": 18,
    "start_time": "2024-06-24T23:00:05.139Z"
   },
   {
    "duration": 29,
    "start_time": "2024-06-24T23:00:05.159Z"
   },
   {
    "duration": 60,
    "start_time": "2024-06-24T23:00:05.190Z"
   },
   {
    "duration": 5,
    "start_time": "2024-06-24T23:00:05.251Z"
   },
   {
    "duration": 5,
    "start_time": "2024-06-24T23:00:05.258Z"
   },
   {
    "duration": 116,
    "start_time": "2024-06-24T23:00:05.264Z"
   },
   {
    "duration": 0,
    "start_time": "2024-06-24T23:00:05.382Z"
   },
   {
    "duration": 0,
    "start_time": "2024-06-24T23:00:05.383Z"
   },
   {
    "duration": 1317,
    "start_time": "2024-06-27T09:14:24.357Z"
   },
   {
    "duration": 333,
    "start_time": "2024-06-27T09:14:25.676Z"
   },
   {
    "duration": 5,
    "start_time": "2024-06-27T09:14:26.010Z"
   },
   {
    "duration": 141,
    "start_time": "2024-06-27T09:14:26.016Z"
   },
   {
    "duration": 11,
    "start_time": "2024-06-27T09:14:26.158Z"
   },
   {
    "duration": 20,
    "start_time": "2024-06-27T09:14:26.171Z"
   },
   {
    "duration": 111,
    "start_time": "2024-06-27T09:14:26.193Z"
   },
   {
    "duration": 8,
    "start_time": "2024-06-27T09:14:26.306Z"
   },
   {
    "duration": 93,
    "start_time": "2024-06-27T09:14:26.316Z"
   },
   {
    "duration": 76,
    "start_time": "2024-06-27T09:14:26.411Z"
   },
   {
    "duration": 19,
    "start_time": "2024-06-27T09:14:26.488Z"
   },
   {
    "duration": 8,
    "start_time": "2024-06-27T09:14:26.508Z"
   },
   {
    "duration": 49,
    "start_time": "2024-06-27T09:14:26.517Z"
   },
   {
    "duration": 17,
    "start_time": "2024-06-27T09:14:26.567Z"
   },
   {
    "duration": 7,
    "start_time": "2024-06-27T09:14:26.585Z"
   },
   {
    "duration": 19,
    "start_time": "2024-06-27T09:14:26.593Z"
   },
   {
    "duration": 5,
    "start_time": "2024-06-27T09:14:26.614Z"
   },
   {
    "duration": 20,
    "start_time": "2024-06-27T09:14:26.621Z"
   },
   {
    "duration": 9,
    "start_time": "2024-06-27T09:14:26.642Z"
   },
   {
    "duration": 15,
    "start_time": "2024-06-27T09:14:26.652Z"
   },
   {
    "duration": 5,
    "start_time": "2024-06-27T09:14:26.669Z"
   },
   {
    "duration": 52,
    "start_time": "2024-06-27T09:14:26.675Z"
   },
   {
    "duration": 7,
    "start_time": "2024-06-27T09:14:26.728Z"
   },
   {
    "duration": 369,
    "start_time": "2024-06-27T09:14:26.736Z"
   },
   {
    "duration": 12,
    "start_time": "2024-06-27T09:14:27.106Z"
   },
   {
    "duration": 14,
    "start_time": "2024-06-27T09:14:27.120Z"
   },
   {
    "duration": 3,
    "start_time": "2024-06-27T09:14:27.136Z"
   },
   {
    "duration": 69,
    "start_time": "2024-06-27T09:14:27.142Z"
   },
   {
    "duration": 24,
    "start_time": "2024-06-27T09:14:27.212Z"
   },
   {
    "duration": 13,
    "start_time": "2024-06-27T09:14:27.237Z"
   },
   {
    "duration": 78,
    "start_time": "2024-06-27T09:14:27.251Z"
   },
   {
    "duration": 6,
    "start_time": "2024-06-27T09:14:27.331Z"
   },
   {
    "duration": 10,
    "start_time": "2024-06-27T09:14:27.338Z"
   },
   {
    "duration": 102,
    "start_time": "2024-06-27T09:14:27.350Z"
   },
   {
    "duration": 0,
    "start_time": "2024-06-27T09:14:27.454Z"
   },
   {
    "duration": 0,
    "start_time": "2024-06-27T09:14:27.464Z"
   },
   {
    "duration": 4,
    "start_time": "2024-06-27T09:16:13.877Z"
   },
   {
    "duration": 8,
    "start_time": "2024-06-27T09:16:18.728Z"
   },
   {
    "duration": 1128,
    "start_time": "2024-06-27T09:17:19.337Z"
   },
   {
    "duration": 174,
    "start_time": "2024-06-27T09:17:20.466Z"
   },
   {
    "duration": 4,
    "start_time": "2024-06-27T09:17:20.641Z"
   },
   {
    "duration": 135,
    "start_time": "2024-06-27T09:17:20.647Z"
   },
   {
    "duration": 9,
    "start_time": "2024-06-27T09:17:20.785Z"
   },
   {
    "duration": 7,
    "start_time": "2024-06-27T09:17:20.796Z"
   },
   {
    "duration": 124,
    "start_time": "2024-06-27T09:17:20.804Z"
   },
   {
    "duration": 8,
    "start_time": "2024-06-27T09:17:20.929Z"
   },
   {
    "duration": 113,
    "start_time": "2024-06-27T09:17:20.939Z"
   },
   {
    "duration": 71,
    "start_time": "2024-06-27T09:17:21.053Z"
   },
   {
    "duration": 24,
    "start_time": "2024-06-27T09:17:21.125Z"
   },
   {
    "duration": 9,
    "start_time": "2024-06-27T09:17:21.164Z"
   },
   {
    "duration": 86,
    "start_time": "2024-06-27T09:17:21.175Z"
   },
   {
    "duration": 32,
    "start_time": "2024-06-27T09:17:21.264Z"
   },
   {
    "duration": 83,
    "start_time": "2024-06-27T09:17:21.298Z"
   },
   {
    "duration": 44,
    "start_time": "2024-06-27T09:17:21.383Z"
   },
   {
    "duration": 12,
    "start_time": "2024-06-27T09:17:21.428Z"
   },
   {
    "duration": 19,
    "start_time": "2024-06-27T09:17:21.442Z"
   },
   {
    "duration": 16,
    "start_time": "2024-06-27T09:17:21.462Z"
   },
   {
    "duration": 16,
    "start_time": "2024-06-27T09:17:21.480Z"
   },
   {
    "duration": 7,
    "start_time": "2024-06-27T09:17:21.498Z"
   },
   {
    "duration": 34,
    "start_time": "2024-06-27T09:17:21.506Z"
   },
   {
    "duration": 7,
    "start_time": "2024-06-27T09:17:21.541Z"
   },
   {
    "duration": 383,
    "start_time": "2024-06-27T09:17:21.550Z"
   },
   {
    "duration": 14,
    "start_time": "2024-06-27T09:17:21.935Z"
   },
   {
    "duration": 23,
    "start_time": "2024-06-27T09:17:21.950Z"
   },
   {
    "duration": 9,
    "start_time": "2024-06-27T09:17:21.975Z"
   },
   {
    "duration": 77,
    "start_time": "2024-06-27T09:17:21.985Z"
   },
   {
    "duration": 23,
    "start_time": "2024-06-27T09:17:22.064Z"
   },
   {
    "duration": 25,
    "start_time": "2024-06-27T09:17:22.089Z"
   },
   {
    "duration": 70,
    "start_time": "2024-06-27T09:17:22.116Z"
   },
   {
    "duration": 3,
    "start_time": "2024-06-27T09:17:22.188Z"
   },
   {
    "duration": 25,
    "start_time": "2024-06-27T09:17:22.192Z"
   },
   {
    "duration": 18,
    "start_time": "2024-06-27T09:17:22.219Z"
   },
   {
    "duration": 5,
    "start_time": "2024-06-27T09:18:06.670Z"
   },
   {
    "duration": 4,
    "start_time": "2024-06-27T09:18:34.620Z"
   },
   {
    "duration": 5,
    "start_time": "2024-06-27T09:18:35.341Z"
   },
   {
    "duration": 11,
    "start_time": "2024-06-27T09:18:37.142Z"
   },
   {
    "duration": 4,
    "start_time": "2024-06-27T09:18:46.413Z"
   },
   {
    "duration": 7,
    "start_time": "2024-06-27T09:18:47.583Z"
   },
   {
    "duration": 4,
    "start_time": "2024-06-27T09:23:21.607Z"
   },
   {
    "duration": 8,
    "start_time": "2024-06-27T09:23:22.149Z"
   },
   {
    "duration": 4,
    "start_time": "2024-06-27T09:23:32.508Z"
   },
   {
    "duration": 8,
    "start_time": "2024-06-27T09:23:33.632Z"
   },
   {
    "duration": 4,
    "start_time": "2024-06-27T09:24:24.028Z"
   },
   {
    "duration": 7,
    "start_time": "2024-06-27T09:24:24.572Z"
   },
   {
    "duration": 5,
    "start_time": "2024-06-27T09:25:34.247Z"
   },
   {
    "duration": 7,
    "start_time": "2024-06-27T09:25:34.877Z"
   },
   {
    "duration": 347,
    "start_time": "2024-06-27T09:25:42.396Z"
   },
   {
    "duration": 9,
    "start_time": "2024-06-27T09:25:42.863Z"
   },
   {
    "duration": 4,
    "start_time": "2024-06-27T09:25:45.626Z"
   },
   {
    "duration": 7,
    "start_time": "2024-06-27T09:25:46.370Z"
   },
   {
    "duration": 1184,
    "start_time": "2024-06-27T09:25:55.770Z"
   },
   {
    "duration": 180,
    "start_time": "2024-06-27T09:25:56.956Z"
   },
   {
    "duration": 4,
    "start_time": "2024-06-27T09:25:57.137Z"
   },
   {
    "duration": 191,
    "start_time": "2024-06-27T09:25:57.144Z"
   },
   {
    "duration": 9,
    "start_time": "2024-06-27T09:25:57.337Z"
   },
   {
    "duration": 71,
    "start_time": "2024-06-27T09:25:57.348Z"
   },
   {
    "duration": 117,
    "start_time": "2024-06-27T09:25:57.421Z"
   },
   {
    "duration": 9,
    "start_time": "2024-06-27T09:25:57.540Z"
   },
   {
    "duration": 120,
    "start_time": "2024-06-27T09:25:57.551Z"
   },
   {
    "duration": 73,
    "start_time": "2024-06-27T09:25:57.674Z"
   },
   {
    "duration": 30,
    "start_time": "2024-06-27T09:25:57.749Z"
   },
   {
    "duration": 8,
    "start_time": "2024-06-27T09:25:57.781Z"
   },
   {
    "duration": 41,
    "start_time": "2024-06-27T09:25:57.790Z"
   },
   {
    "duration": 34,
    "start_time": "2024-06-27T09:25:57.833Z"
   },
   {
    "duration": 7,
    "start_time": "2024-06-27T09:25:57.868Z"
   },
   {
    "duration": 20,
    "start_time": "2024-06-27T09:25:57.876Z"
   },
   {
    "duration": 5,
    "start_time": "2024-06-27T09:25:57.898Z"
   },
   {
    "duration": 6,
    "start_time": "2024-06-27T09:25:57.905Z"
   },
   {
    "duration": 8,
    "start_time": "2024-06-27T09:25:57.912Z"
   },
   {
    "duration": 10,
    "start_time": "2024-06-27T09:25:57.922Z"
   },
   {
    "duration": 33,
    "start_time": "2024-06-27T09:25:57.933Z"
   },
   {
    "duration": 32,
    "start_time": "2024-06-27T09:25:57.968Z"
   },
   {
    "duration": 6,
    "start_time": "2024-06-27T09:25:58.002Z"
   },
   {
    "duration": 365,
    "start_time": "2024-06-27T09:25:58.010Z"
   },
   {
    "duration": 12,
    "start_time": "2024-06-27T09:25:58.377Z"
   },
   {
    "duration": 12,
    "start_time": "2024-06-27T09:25:58.391Z"
   },
   {
    "duration": 94,
    "start_time": "2024-06-27T09:25:58.405Z"
   },
   {
    "duration": 55,
    "start_time": "2024-06-27T09:25:58.502Z"
   },
   {
    "duration": 26,
    "start_time": "2024-06-27T09:25:58.559Z"
   },
   {
    "duration": 27,
    "start_time": "2024-06-27T09:25:58.587Z"
   },
   {
    "duration": 57,
    "start_time": "2024-06-27T09:25:58.615Z"
   },
   {
    "duration": 3,
    "start_time": "2024-06-27T09:25:58.673Z"
   },
   {
    "duration": 8,
    "start_time": "2024-06-27T09:25:58.678Z"
   },
   {
    "duration": 23,
    "start_time": "2024-06-27T09:25:58.688Z"
   },
   {
    "duration": 6,
    "start_time": "2024-06-27T09:26:22.782Z"
   },
   {
    "duration": 8,
    "start_time": "2024-06-27T09:26:23.148Z"
   },
   {
    "duration": 4,
    "start_time": "2024-06-27T09:27:12.921Z"
   },
   {
    "duration": 8,
    "start_time": "2024-06-27T09:27:13.500Z"
   },
   {
    "duration": 4,
    "start_time": "2024-06-27T09:27:17.965Z"
   },
   {
    "duration": 8,
    "start_time": "2024-06-27T09:27:18.372Z"
   },
   {
    "duration": 5,
    "start_time": "2024-06-27T09:27:25.901Z"
   },
   {
    "duration": 9,
    "start_time": "2024-06-27T09:27:26.359Z"
   },
   {
    "duration": 5,
    "start_time": "2024-06-27T09:27:33.160Z"
   },
   {
    "duration": 10,
    "start_time": "2024-06-27T09:28:25.980Z"
   },
   {
    "duration": 4,
    "start_time": "2024-06-27T09:30:07.373Z"
   },
   {
    "duration": 8,
    "start_time": "2024-06-27T09:30:09.575Z"
   },
   {
    "duration": 5,
    "start_time": "2024-06-27T09:52:30.992Z"
   },
   {
    "duration": 3,
    "start_time": "2024-06-27T09:52:34.408Z"
   },
   {
    "duration": 5,
    "start_time": "2024-06-27T09:52:45.642Z"
   },
   {
    "duration": 5,
    "start_time": "2024-06-27T09:52:48.844Z"
   },
   {
    "duration": 4,
    "start_time": "2024-06-27T09:53:04.783Z"
   },
   {
    "duration": 5,
    "start_time": "2024-06-27T09:53:08.870Z"
   },
   {
    "duration": 4,
    "start_time": "2024-06-27T09:55:12.520Z"
   },
   {
    "duration": 1195,
    "start_time": "2024-06-27T09:55:28.316Z"
   },
   {
    "duration": 4,
    "start_time": "2024-06-27T09:55:32.410Z"
   },
   {
    "duration": 4,
    "start_time": "2024-06-27T09:55:41.347Z"
   },
   {
    "duration": 63,
    "start_time": "2024-06-27T09:58:30.882Z"
   },
   {
    "duration": 3,
    "start_time": "2024-06-27T09:59:10.140Z"
   },
   {
    "duration": 65,
    "start_time": "2024-06-27T09:59:40.750Z"
   },
   {
    "duration": 68,
    "start_time": "2024-06-27T09:59:57.599Z"
   },
   {
    "duration": 4,
    "start_time": "2024-06-27T10:00:06.672Z"
   },
   {
    "duration": 5,
    "start_time": "2024-06-27T10:00:21.892Z"
   },
   {
    "duration": 5,
    "start_time": "2024-06-27T10:00:54.240Z"
   },
   {
    "duration": 1144,
    "start_time": "2024-06-27T10:06:03.038Z"
   },
   {
    "duration": 184,
    "start_time": "2024-06-27T10:06:04.184Z"
   },
   {
    "duration": 4,
    "start_time": "2024-06-27T10:06:04.370Z"
   },
   {
    "duration": 134,
    "start_time": "2024-06-27T10:06:04.376Z"
   },
   {
    "duration": 9,
    "start_time": "2024-06-27T10:06:04.512Z"
   },
   {
    "duration": 37,
    "start_time": "2024-06-27T10:06:04.522Z"
   },
   {
    "duration": 132,
    "start_time": "2024-06-27T10:06:04.561Z"
   },
   {
    "duration": 9,
    "start_time": "2024-06-27T10:06:04.694Z"
   },
   {
    "duration": 187,
    "start_time": "2024-06-27T10:06:04.704Z"
   },
   {
    "duration": 76,
    "start_time": "2024-06-27T10:06:04.894Z"
   },
   {
    "duration": 27,
    "start_time": "2024-06-27T10:06:04.971Z"
   },
   {
    "duration": 11,
    "start_time": "2024-06-27T10:06:05.000Z"
   },
   {
    "duration": 56,
    "start_time": "2024-06-27T10:06:05.012Z"
   },
   {
    "duration": 25,
    "start_time": "2024-06-27T10:06:05.070Z"
   },
   {
    "duration": 51,
    "start_time": "2024-06-27T10:06:05.097Z"
   },
   {
    "duration": 28,
    "start_time": "2024-06-27T10:06:05.150Z"
   },
   {
    "duration": 6,
    "start_time": "2024-06-27T10:06:05.180Z"
   },
   {
    "duration": 13,
    "start_time": "2024-06-27T10:06:05.187Z"
   },
   {
    "duration": 26,
    "start_time": "2024-06-27T10:06:05.202Z"
   },
   {
    "duration": 14,
    "start_time": "2024-06-27T10:06:05.230Z"
   },
   {
    "duration": 8,
    "start_time": "2024-06-27T10:06:05.245Z"
   },
   {
    "duration": 70,
    "start_time": "2024-06-27T10:06:05.254Z"
   },
   {
    "duration": 7,
    "start_time": "2024-06-27T10:06:05.325Z"
   },
   {
    "duration": 400,
    "start_time": "2024-06-27T10:06:05.334Z"
   },
   {
    "duration": 13,
    "start_time": "2024-06-27T10:06:05.736Z"
   },
   {
    "duration": 25,
    "start_time": "2024-06-27T10:06:05.751Z"
   },
   {
    "duration": 14,
    "start_time": "2024-06-27T10:06:05.778Z"
   },
   {
    "duration": 122,
    "start_time": "2024-06-27T10:06:05.796Z"
   },
   {
    "duration": 0,
    "start_time": "2024-06-27T10:06:05.919Z"
   },
   {
    "duration": 0,
    "start_time": "2024-06-27T10:06:05.921Z"
   },
   {
    "duration": 0,
    "start_time": "2024-06-27T10:06:05.922Z"
   },
   {
    "duration": 0,
    "start_time": "2024-06-27T10:06:05.923Z"
   },
   {
    "duration": 0,
    "start_time": "2024-06-27T10:06:05.924Z"
   },
   {
    "duration": 0,
    "start_time": "2024-06-27T10:06:05.925Z"
   },
   {
    "duration": 0,
    "start_time": "2024-06-27T10:06:05.926Z"
   },
   {
    "duration": 119,
    "start_time": "2024-06-27T10:06:11.587Z"
   },
   {
    "duration": 32,
    "start_time": "2024-06-27T10:06:20.776Z"
   },
   {
    "duration": 1040,
    "start_time": "2024-06-27T10:06:26.623Z"
   },
   {
    "duration": 176,
    "start_time": "2024-06-27T10:06:27.665Z"
   },
   {
    "duration": 5,
    "start_time": "2024-06-27T10:06:27.842Z"
   },
   {
    "duration": 132,
    "start_time": "2024-06-27T10:06:27.849Z"
   },
   {
    "duration": 9,
    "start_time": "2024-06-27T10:06:27.983Z"
   },
   {
    "duration": 7,
    "start_time": "2024-06-27T10:06:27.993Z"
   },
   {
    "duration": 120,
    "start_time": "2024-06-27T10:06:28.001Z"
   },
   {
    "duration": 8,
    "start_time": "2024-06-27T10:06:28.123Z"
   },
   {
    "duration": 104,
    "start_time": "2024-06-27T10:06:28.132Z"
   },
   {
    "duration": 77,
    "start_time": "2024-06-27T10:06:28.238Z"
   },
   {
    "duration": 19,
    "start_time": "2024-06-27T10:06:28.316Z"
   },
   {
    "duration": 9,
    "start_time": "2024-06-27T10:06:28.336Z"
   },
   {
    "duration": 45,
    "start_time": "2024-06-27T10:06:28.347Z"
   },
   {
    "duration": 17,
    "start_time": "2024-06-27T10:06:28.393Z"
   },
   {
    "duration": 11,
    "start_time": "2024-06-27T10:06:28.411Z"
   },
   {
    "duration": 20,
    "start_time": "2024-06-27T10:06:28.423Z"
   },
   {
    "duration": 24,
    "start_time": "2024-06-27T10:06:28.444Z"
   },
   {
    "duration": 16,
    "start_time": "2024-06-27T10:06:28.470Z"
   },
   {
    "duration": 34,
    "start_time": "2024-06-27T10:06:28.487Z"
   },
   {
    "duration": 4,
    "start_time": "2024-06-27T10:06:28.523Z"
   },
   {
    "duration": 5,
    "start_time": "2024-06-27T10:06:28.528Z"
   },
   {
    "duration": 38,
    "start_time": "2024-06-27T10:06:28.535Z"
   },
   {
    "duration": 7,
    "start_time": "2024-06-27T10:06:28.575Z"
   },
   {
    "duration": 421,
    "start_time": "2024-06-27T10:06:28.584Z"
   },
   {
    "duration": 13,
    "start_time": "2024-06-27T10:06:29.006Z"
   },
   {
    "duration": 13,
    "start_time": "2024-06-27T10:06:29.020Z"
   },
   {
    "duration": 20,
    "start_time": "2024-06-27T10:06:29.035Z"
   },
   {
    "duration": 30,
    "start_time": "2024-06-27T10:06:29.064Z"
   },
   {
    "duration": 25,
    "start_time": "2024-06-27T10:06:29.095Z"
   },
   {
    "duration": 13,
    "start_time": "2024-06-27T10:06:29.121Z"
   },
   {
    "duration": 90,
    "start_time": "2024-06-27T10:06:29.135Z"
   },
   {
    "duration": 4,
    "start_time": "2024-06-27T10:06:29.227Z"
   },
   {
    "duration": 6,
    "start_time": "2024-06-27T10:06:29.232Z"
   },
   {
    "duration": 28,
    "start_time": "2024-06-27T10:06:29.239Z"
   },
   {
    "duration": 4,
    "start_time": "2024-06-27T10:06:29.269Z"
   },
   {
    "duration": 70,
    "start_time": "2024-06-27T10:06:29.274Z"
   },
   {
    "duration": 6,
    "start_time": "2024-06-27T10:06:32.356Z"
   },
   {
    "duration": 36,
    "start_time": "2024-06-27T10:08:05.502Z"
   },
   {
    "duration": 66,
    "start_time": "2024-06-27T10:09:42.309Z"
   },
   {
    "duration": 41,
    "start_time": "2024-06-27T10:09:46.767Z"
   },
   {
    "duration": 41,
    "start_time": "2024-06-27T10:11:13.774Z"
   },
   {
    "duration": 48,
    "start_time": "2024-06-27T10:11:18.897Z"
   },
   {
    "duration": 33,
    "start_time": "2024-06-27T10:11:24.965Z"
   },
   {
    "duration": 6,
    "start_time": "2024-06-27T10:13:38.461Z"
   },
   {
    "duration": 4,
    "start_time": "2024-06-27T10:19:41.620Z"
   },
   {
    "duration": 3,
    "start_time": "2024-06-27T10:27:18.063Z"
   },
   {
    "duration": 12,
    "start_time": "2024-06-27T11:12:12.442Z"
   },
   {
    "duration": 112,
    "start_time": "2024-06-27T11:14:38.350Z"
   },
   {
    "duration": 13,
    "start_time": "2024-06-27T11:14:45.277Z"
   },
   {
    "duration": 19,
    "start_time": "2024-06-27T11:14:50.008Z"
   },
   {
    "duration": 20,
    "start_time": "2024-06-27T11:15:04.289Z"
   },
   {
    "duration": 26,
    "start_time": "2024-06-27T11:15:31.015Z"
   },
   {
    "duration": 3,
    "start_time": "2024-06-27T11:29:02.417Z"
   },
   {
    "duration": 13,
    "start_time": "2024-06-27T11:55:19.271Z"
   },
   {
    "duration": 1289,
    "start_time": "2024-06-30T05:50:48.480Z"
   },
   {
    "duration": 289,
    "start_time": "2024-06-30T05:50:49.771Z"
   },
   {
    "duration": 4,
    "start_time": "2024-06-30T05:50:50.062Z"
   },
   {
    "duration": 143,
    "start_time": "2024-06-30T05:50:50.068Z"
   },
   {
    "duration": 8,
    "start_time": "2024-06-30T05:50:50.213Z"
   },
   {
    "duration": 57,
    "start_time": "2024-06-30T05:50:50.223Z"
   },
   {
    "duration": 140,
    "start_time": "2024-06-30T05:50:50.282Z"
   },
   {
    "duration": 8,
    "start_time": "2024-06-30T05:50:50.423Z"
   },
   {
    "duration": 132,
    "start_time": "2024-06-30T05:50:50.433Z"
   },
   {
    "duration": 97,
    "start_time": "2024-06-30T05:50:50.568Z"
   },
   {
    "duration": 22,
    "start_time": "2024-06-30T05:50:50.666Z"
   },
   {
    "duration": 13,
    "start_time": "2024-06-30T05:50:50.689Z"
   },
   {
    "duration": 35,
    "start_time": "2024-06-30T05:50:50.704Z"
   },
   {
    "duration": 32,
    "start_time": "2024-06-30T05:50:50.740Z"
   },
   {
    "duration": 7,
    "start_time": "2024-06-30T05:50:50.773Z"
   },
   {
    "duration": 21,
    "start_time": "2024-06-30T05:50:50.781Z"
   },
   {
    "duration": 6,
    "start_time": "2024-06-30T05:50:50.803Z"
   },
   {
    "duration": 13,
    "start_time": "2024-06-30T05:50:50.810Z"
   },
   {
    "duration": 9,
    "start_time": "2024-06-30T05:50:50.824Z"
   },
   {
    "duration": 39,
    "start_time": "2024-06-30T05:50:50.834Z"
   },
   {
    "duration": 11,
    "start_time": "2024-06-30T05:50:50.875Z"
   },
   {
    "duration": 32,
    "start_time": "2024-06-30T05:50:50.888Z"
   },
   {
    "duration": 6,
    "start_time": "2024-06-30T05:50:50.922Z"
   },
   {
    "duration": 372,
    "start_time": "2024-06-30T05:50:50.929Z"
   },
   {
    "duration": 12,
    "start_time": "2024-06-30T05:50:51.302Z"
   },
   {
    "duration": 11,
    "start_time": "2024-06-30T05:50:51.316Z"
   },
   {
    "duration": 5,
    "start_time": "2024-06-30T05:50:51.328Z"
   },
   {
    "duration": 51,
    "start_time": "2024-06-30T05:50:51.336Z"
   },
   {
    "duration": 22,
    "start_time": "2024-06-30T05:50:51.389Z"
   },
   {
    "duration": 8,
    "start_time": "2024-06-30T05:50:51.413Z"
   },
   {
    "duration": 70,
    "start_time": "2024-06-30T05:50:51.422Z"
   },
   {
    "duration": 3,
    "start_time": "2024-06-30T05:50:51.493Z"
   },
   {
    "duration": 20,
    "start_time": "2024-06-30T05:50:51.497Z"
   },
   {
    "duration": 23,
    "start_time": "2024-06-30T05:50:51.519Z"
   },
   {
    "duration": 7,
    "start_time": "2024-06-30T05:50:51.543Z"
   },
   {
    "duration": 23,
    "start_time": "2024-06-30T05:50:51.552Z"
   },
   {
    "duration": 22,
    "start_time": "2024-06-30T05:50:51.576Z"
   },
   {
    "duration": 25,
    "start_time": "2024-06-30T05:50:51.599Z"
   },
   {
    "duration": 11,
    "start_time": "2024-06-30T05:50:51.625Z"
   },
   {
    "duration": 7,
    "start_time": "2024-06-30T05:50:51.638Z"
   },
   {
    "duration": 9,
    "start_time": "2024-06-30T05:52:27.397Z"
   },
   {
    "duration": 91,
    "start_time": "2024-06-30T05:53:22.259Z"
   },
   {
    "duration": 13,
    "start_time": "2024-06-30T05:53:44.360Z"
   },
   {
    "duration": 13,
    "start_time": "2024-06-30T05:54:14.741Z"
   },
   {
    "duration": 106,
    "start_time": "2024-06-30T05:54:23.840Z"
   },
   {
    "duration": 14,
    "start_time": "2024-06-30T05:54:26.720Z"
   },
   {
    "duration": 29,
    "start_time": "2024-06-30T05:55:30.146Z"
   },
   {
    "duration": 24,
    "start_time": "2024-06-30T05:55:51.748Z"
   },
   {
    "duration": 51,
    "start_time": "2024-06-30T05:58:07.387Z"
   },
   {
    "duration": 52,
    "start_time": "2024-06-30T05:59:08.313Z"
   },
   {
    "duration": 8,
    "start_time": "2024-06-30T06:03:39.559Z"
   },
   {
    "duration": 993,
    "start_time": "2024-06-30T06:08:08.104Z"
   },
   {
    "duration": 1056,
    "start_time": "2024-06-30T06:08:24.009Z"
   },
   {
    "duration": 178,
    "start_time": "2024-06-30T06:08:25.067Z"
   },
   {
    "duration": 4,
    "start_time": "2024-06-30T06:08:25.247Z"
   },
   {
    "duration": 132,
    "start_time": "2024-06-30T06:08:25.253Z"
   },
   {
    "duration": 9,
    "start_time": "2024-06-30T06:08:25.387Z"
   },
   {
    "duration": 8,
    "start_time": "2024-06-30T06:08:25.397Z"
   },
   {
    "duration": 118,
    "start_time": "2024-06-30T06:08:25.406Z"
   },
   {
    "duration": 9,
    "start_time": "2024-06-30T06:08:25.525Z"
   },
   {
    "duration": 93,
    "start_time": "2024-06-30T06:08:25.535Z"
   },
   {
    "duration": 75,
    "start_time": "2024-06-30T06:08:25.630Z"
   },
   {
    "duration": 18,
    "start_time": "2024-06-30T06:08:25.706Z"
   },
   {
    "duration": 8,
    "start_time": "2024-06-30T06:08:25.725Z"
   },
   {
    "duration": 47,
    "start_time": "2024-06-30T06:08:25.734Z"
   },
   {
    "duration": 16,
    "start_time": "2024-06-30T06:08:25.783Z"
   },
   {
    "duration": 6,
    "start_time": "2024-06-30T06:08:25.801Z"
   },
   {
    "duration": 20,
    "start_time": "2024-06-30T06:08:25.809Z"
   },
   {
    "duration": 6,
    "start_time": "2024-06-30T06:08:25.831Z"
   },
   {
    "duration": 30,
    "start_time": "2024-06-30T06:08:25.838Z"
   },
   {
    "duration": 5,
    "start_time": "2024-06-30T06:08:25.869Z"
   },
   {
    "duration": 4,
    "start_time": "2024-06-30T06:08:25.875Z"
   },
   {
    "duration": 5,
    "start_time": "2024-06-30T06:08:25.881Z"
   },
   {
    "duration": 33,
    "start_time": "2024-06-30T06:08:25.887Z"
   },
   {
    "duration": 7,
    "start_time": "2024-06-30T06:08:25.921Z"
   },
   {
    "duration": 396,
    "start_time": "2024-06-30T06:08:25.929Z"
   },
   {
    "duration": 12,
    "start_time": "2024-06-30T06:08:26.326Z"
   },
   {
    "duration": 19,
    "start_time": "2024-06-30T06:08:26.339Z"
   },
   {
    "duration": 4,
    "start_time": "2024-06-30T06:08:26.365Z"
   },
   {
    "duration": 33,
    "start_time": "2024-06-30T06:08:26.372Z"
   },
   {
    "duration": 24,
    "start_time": "2024-06-30T06:08:26.406Z"
   },
   {
    "duration": 35,
    "start_time": "2024-06-30T06:08:26.431Z"
   },
   {
    "duration": 1109,
    "start_time": "2024-06-30T06:08:26.468Z"
   },
   {
    "duration": 0,
    "start_time": "2024-06-30T06:08:27.578Z"
   },
   {
    "duration": 0,
    "start_time": "2024-06-30T06:08:27.580Z"
   },
   {
    "duration": 1,
    "start_time": "2024-06-30T06:08:27.580Z"
   },
   {
    "duration": 0,
    "start_time": "2024-06-30T06:08:27.581Z"
   },
   {
    "duration": 0,
    "start_time": "2024-06-30T06:08:27.582Z"
   },
   {
    "duration": 0,
    "start_time": "2024-06-30T06:08:27.583Z"
   },
   {
    "duration": 0,
    "start_time": "2024-06-30T06:08:27.584Z"
   },
   {
    "duration": 0,
    "start_time": "2024-06-30T06:08:27.585Z"
   },
   {
    "duration": 0,
    "start_time": "2024-06-30T06:08:27.586Z"
   },
   {
    "duration": 0,
    "start_time": "2024-06-30T06:08:27.587Z"
   },
   {
    "duration": 0,
    "start_time": "2024-06-30T06:08:27.588Z"
   },
   {
    "duration": 66,
    "start_time": "2024-06-30T06:10:10.959Z"
   },
   {
    "duration": 65,
    "start_time": "2024-06-30T06:10:38.436Z"
   },
   {
    "duration": 4,
    "start_time": "2024-06-30T06:12:18.909Z"
   },
   {
    "duration": 1089,
    "start_time": "2024-06-30T06:12:35.617Z"
   },
   {
    "duration": 3,
    "start_time": "2024-06-30T06:12:58.309Z"
   },
   {
    "duration": 54,
    "start_time": "2024-06-30T06:13:09.078Z"
   },
   {
    "duration": 55,
    "start_time": "2024-06-30T06:14:40.619Z"
   },
   {
    "duration": 1042,
    "start_time": "2024-06-30T06:15:02.408Z"
   },
   {
    "duration": 165,
    "start_time": "2024-06-30T06:15:03.451Z"
   },
   {
    "duration": 4,
    "start_time": "2024-06-30T06:15:03.618Z"
   },
   {
    "duration": 144,
    "start_time": "2024-06-30T06:15:03.624Z"
   },
   {
    "duration": 8,
    "start_time": "2024-06-30T06:15:03.769Z"
   },
   {
    "duration": 19,
    "start_time": "2024-06-30T06:15:03.779Z"
   },
   {
    "duration": 158,
    "start_time": "2024-06-30T06:15:03.799Z"
   },
   {
    "duration": 11,
    "start_time": "2024-06-30T06:15:03.959Z"
   },
   {
    "duration": 122,
    "start_time": "2024-06-30T06:15:03.972Z"
   },
   {
    "duration": 82,
    "start_time": "2024-06-30T06:15:04.097Z"
   },
   {
    "duration": 19,
    "start_time": "2024-06-30T06:15:04.181Z"
   },
   {
    "duration": 13,
    "start_time": "2024-06-30T06:15:04.202Z"
   },
   {
    "duration": 38,
    "start_time": "2024-06-30T06:15:04.217Z"
   },
   {
    "duration": 24,
    "start_time": "2024-06-30T06:15:04.256Z"
   },
   {
    "duration": 97,
    "start_time": "2024-06-30T06:15:04.282Z"
   },
   {
    "duration": 24,
    "start_time": "2024-06-30T06:15:04.381Z"
   },
   {
    "duration": 10,
    "start_time": "2024-06-30T06:15:04.406Z"
   },
   {
    "duration": 23,
    "start_time": "2024-06-30T06:15:04.418Z"
   },
   {
    "duration": 13,
    "start_time": "2024-06-30T06:15:04.442Z"
   },
   {
    "duration": 5,
    "start_time": "2024-06-30T06:15:04.456Z"
   },
   {
    "duration": 10,
    "start_time": "2024-06-30T06:15:04.462Z"
   },
   {
    "duration": 35,
    "start_time": "2024-06-30T06:15:04.473Z"
   },
   {
    "duration": 6,
    "start_time": "2024-06-30T06:15:04.510Z"
   },
   {
    "duration": 435,
    "start_time": "2024-06-30T06:15:04.518Z"
   },
   {
    "duration": 20,
    "start_time": "2024-06-30T06:15:04.954Z"
   },
   {
    "duration": 11,
    "start_time": "2024-06-30T06:15:04.975Z"
   },
   {
    "duration": 13,
    "start_time": "2024-06-30T06:15:04.988Z"
   },
   {
    "duration": 57,
    "start_time": "2024-06-30T06:15:05.004Z"
   },
   {
    "duration": 22,
    "start_time": "2024-06-30T06:15:05.063Z"
   },
   {
    "duration": 22,
    "start_time": "2024-06-30T06:15:05.086Z"
   },
   {
    "duration": 4,
    "start_time": "2024-06-30T06:15:05.109Z"
   },
   {
    "duration": 57,
    "start_time": "2024-06-30T06:15:05.115Z"
   },
   {
    "duration": 93,
    "start_time": "2024-06-30T06:15:05.173Z"
   },
   {
    "duration": 0,
    "start_time": "2024-06-30T06:15:05.268Z"
   },
   {
    "duration": 0,
    "start_time": "2024-06-30T06:15:05.269Z"
   },
   {
    "duration": 0,
    "start_time": "2024-06-30T06:15:05.270Z"
   },
   {
    "duration": 0,
    "start_time": "2024-06-30T06:15:05.271Z"
   },
   {
    "duration": 0,
    "start_time": "2024-06-30T06:15:05.272Z"
   },
   {
    "duration": 0,
    "start_time": "2024-06-30T06:15:05.273Z"
   },
   {
    "duration": 0,
    "start_time": "2024-06-30T06:15:05.274Z"
   },
   {
    "duration": 0,
    "start_time": "2024-06-30T06:15:05.276Z"
   },
   {
    "duration": 0,
    "start_time": "2024-06-30T06:15:05.277Z"
   },
   {
    "duration": 8,
    "start_time": "2024-06-30T06:16:44.030Z"
   },
   {
    "duration": 59,
    "start_time": "2024-06-30T06:17:15.396Z"
   },
   {
    "duration": 1110,
    "start_time": "2024-06-30T06:17:25.050Z"
   },
   {
    "duration": 167,
    "start_time": "2024-06-30T06:17:26.162Z"
   },
   {
    "duration": 4,
    "start_time": "2024-06-30T06:17:26.331Z"
   },
   {
    "duration": 161,
    "start_time": "2024-06-30T06:17:26.337Z"
   },
   {
    "duration": 10,
    "start_time": "2024-06-30T06:17:26.500Z"
   },
   {
    "duration": 7,
    "start_time": "2024-06-30T06:17:26.511Z"
   },
   {
    "duration": 132,
    "start_time": "2024-06-30T06:17:26.520Z"
   },
   {
    "duration": 13,
    "start_time": "2024-06-30T06:17:26.654Z"
   },
   {
    "duration": 83,
    "start_time": "2024-06-30T06:17:26.669Z"
   },
   {
    "duration": 90,
    "start_time": "2024-06-30T06:17:26.754Z"
   },
   {
    "duration": 34,
    "start_time": "2024-06-30T06:17:26.846Z"
   },
   {
    "duration": 9,
    "start_time": "2024-06-30T06:17:26.882Z"
   },
   {
    "duration": 30,
    "start_time": "2024-06-30T06:17:26.894Z"
   },
   {
    "duration": 39,
    "start_time": "2024-06-30T06:17:26.927Z"
   },
   {
    "duration": 9,
    "start_time": "2024-06-30T06:17:26.968Z"
   },
   {
    "duration": 20,
    "start_time": "2024-06-30T06:17:26.978Z"
   },
   {
    "duration": 7,
    "start_time": "2024-06-30T06:17:27.000Z"
   },
   {
    "duration": 18,
    "start_time": "2024-06-30T06:17:27.009Z"
   },
   {
    "duration": 31,
    "start_time": "2024-06-30T06:17:27.028Z"
   },
   {
    "duration": 6,
    "start_time": "2024-06-30T06:17:27.061Z"
   },
   {
    "duration": 6,
    "start_time": "2024-06-30T06:17:27.069Z"
   },
   {
    "duration": 45,
    "start_time": "2024-06-30T06:17:27.077Z"
   },
   {
    "duration": 8,
    "start_time": "2024-06-30T06:17:27.123Z"
   },
   {
    "duration": 512,
    "start_time": "2024-06-30T06:17:27.132Z"
   },
   {
    "duration": 20,
    "start_time": "2024-06-30T06:17:27.645Z"
   },
   {
    "duration": 13,
    "start_time": "2024-06-30T06:17:27.666Z"
   },
   {
    "duration": 5,
    "start_time": "2024-06-30T06:17:27.680Z"
   },
   {
    "duration": 33,
    "start_time": "2024-06-30T06:17:27.686Z"
   },
   {
    "duration": 46,
    "start_time": "2024-06-30T06:17:27.720Z"
   },
   {
    "duration": 9,
    "start_time": "2024-06-30T06:17:27.767Z"
   },
   {
    "duration": 4,
    "start_time": "2024-06-30T06:17:27.778Z"
   },
   {
    "duration": 52,
    "start_time": "2024-06-30T06:17:27.783Z"
   },
   {
    "duration": 3,
    "start_time": "2024-06-30T06:17:27.837Z"
   },
   {
    "duration": 29,
    "start_time": "2024-06-30T06:17:27.842Z"
   },
   {
    "duration": 8,
    "start_time": "2024-06-30T06:17:27.873Z"
   },
   {
    "duration": 4,
    "start_time": "2024-06-30T06:17:27.883Z"
   },
   {
    "duration": 7,
    "start_time": "2024-06-30T06:17:27.888Z"
   },
   {
    "duration": 38,
    "start_time": "2024-06-30T06:17:27.897Z"
   },
   {
    "duration": 30,
    "start_time": "2024-06-30T06:17:27.936Z"
   },
   {
    "duration": 9,
    "start_time": "2024-06-30T06:17:27.967Z"
   },
   {
    "duration": 61,
    "start_time": "2024-06-30T06:17:27.979Z"
   },
   {
    "duration": 37,
    "start_time": "2024-06-30T06:17:28.041Z"
   },
   {
    "duration": 70,
    "start_time": "2024-06-30T06:17:39.104Z"
   },
   {
    "duration": 4,
    "start_time": "2024-06-30T06:17:43.268Z"
   },
   {
    "duration": 6,
    "start_time": "2024-06-30T06:17:44.230Z"
   },
   {
    "duration": 1111,
    "start_time": "2024-06-30T06:17:50.142Z"
   },
   {
    "duration": 171,
    "start_time": "2024-06-30T06:17:51.254Z"
   },
   {
    "duration": 4,
    "start_time": "2024-06-30T06:17:51.427Z"
   },
   {
    "duration": 168,
    "start_time": "2024-06-30T06:17:51.433Z"
   },
   {
    "duration": 9,
    "start_time": "2024-06-30T06:17:51.602Z"
   },
   {
    "duration": 29,
    "start_time": "2024-06-30T06:17:51.612Z"
   },
   {
    "duration": 129,
    "start_time": "2024-06-30T06:17:51.642Z"
   },
   {
    "duration": 9,
    "start_time": "2024-06-30T06:17:51.773Z"
   },
   {
    "duration": 137,
    "start_time": "2024-06-30T06:17:51.783Z"
   },
   {
    "duration": 86,
    "start_time": "2024-06-30T06:17:51.922Z"
   },
   {
    "duration": 19,
    "start_time": "2024-06-30T06:17:52.009Z"
   },
   {
    "duration": 21,
    "start_time": "2024-06-30T06:17:52.029Z"
   },
   {
    "duration": 57,
    "start_time": "2024-06-30T06:17:52.051Z"
   },
   {
    "duration": 16,
    "start_time": "2024-06-30T06:17:52.110Z"
   },
   {
    "duration": 30,
    "start_time": "2024-06-30T06:17:52.127Z"
   },
   {
    "duration": 26,
    "start_time": "2024-06-30T06:17:52.158Z"
   },
   {
    "duration": 12,
    "start_time": "2024-06-30T06:17:52.186Z"
   },
   {
    "duration": 17,
    "start_time": "2024-06-30T06:17:52.199Z"
   },
   {
    "duration": 27,
    "start_time": "2024-06-30T06:17:52.217Z"
   },
   {
    "duration": 13,
    "start_time": "2024-06-30T06:17:52.245Z"
   },
   {
    "duration": 23,
    "start_time": "2024-06-30T06:17:52.259Z"
   },
   {
    "duration": 58,
    "start_time": "2024-06-30T06:17:52.283Z"
   },
   {
    "duration": 16,
    "start_time": "2024-06-30T06:17:52.343Z"
   },
   {
    "duration": 370,
    "start_time": "2024-06-30T06:17:52.361Z"
   },
   {
    "duration": 11,
    "start_time": "2024-06-30T06:17:52.733Z"
   },
   {
    "duration": 52,
    "start_time": "2024-06-30T06:17:52.746Z"
   },
   {
    "duration": 29,
    "start_time": "2024-06-30T06:17:52.799Z"
   },
   {
    "duration": 54,
    "start_time": "2024-06-30T06:17:52.830Z"
   },
   {
    "duration": 24,
    "start_time": "2024-06-30T06:17:52.885Z"
   },
   {
    "duration": 24,
    "start_time": "2024-06-30T06:17:52.911Z"
   },
   {
    "duration": 19,
    "start_time": "2024-06-30T06:17:52.936Z"
   },
   {
    "duration": 97,
    "start_time": "2024-06-30T06:17:52.957Z"
   },
   {
    "duration": 4,
    "start_time": "2024-06-30T06:17:53.055Z"
   },
   {
    "duration": 9,
    "start_time": "2024-06-30T06:17:53.060Z"
   },
   {
    "duration": 8,
    "start_time": "2024-06-30T06:17:53.070Z"
   },
   {
    "duration": 10,
    "start_time": "2024-06-30T06:17:53.079Z"
   },
   {
    "duration": 25,
    "start_time": "2024-06-30T06:17:53.091Z"
   },
   {
    "duration": 28,
    "start_time": "2024-06-30T06:17:53.118Z"
   },
   {
    "duration": 10,
    "start_time": "2024-06-30T06:17:53.147Z"
   },
   {
    "duration": 12,
    "start_time": "2024-06-30T06:17:53.158Z"
   },
   {
    "duration": 72,
    "start_time": "2024-06-30T06:17:53.171Z"
   },
   {
    "duration": 21,
    "start_time": "2024-06-30T06:17:53.245Z"
   },
   {
    "duration": 105,
    "start_time": "2024-06-30T06:18:27.580Z"
   },
   {
    "duration": 3,
    "start_time": "2024-06-30T06:18:55.364Z"
   },
   {
    "duration": 1065,
    "start_time": "2024-06-30T06:19:13.186Z"
   },
   {
    "duration": 188,
    "start_time": "2024-06-30T06:19:14.252Z"
   },
   {
    "duration": 4,
    "start_time": "2024-06-30T06:19:14.442Z"
   },
   {
    "duration": 131,
    "start_time": "2024-06-30T06:19:14.448Z"
   },
   {
    "duration": 9,
    "start_time": "2024-06-30T06:19:14.581Z"
   },
   {
    "duration": 24,
    "start_time": "2024-06-30T06:19:14.591Z"
   },
   {
    "duration": 107,
    "start_time": "2024-06-30T06:19:14.617Z"
   },
   {
    "duration": 8,
    "start_time": "2024-06-30T06:19:14.726Z"
   },
   {
    "duration": 158,
    "start_time": "2024-06-30T06:19:14.735Z"
   },
   {
    "duration": 70,
    "start_time": "2024-06-30T06:19:14.895Z"
   },
   {
    "duration": 19,
    "start_time": "2024-06-30T06:19:14.966Z"
   },
   {
    "duration": 7,
    "start_time": "2024-06-30T06:19:14.986Z"
   },
   {
    "duration": 31,
    "start_time": "2024-06-30T06:19:14.995Z"
   },
   {
    "duration": 73,
    "start_time": "2024-06-30T06:19:15.027Z"
   },
   {
    "duration": 23,
    "start_time": "2024-06-30T06:19:15.101Z"
   },
   {
    "duration": 41,
    "start_time": "2024-06-30T06:19:15.125Z"
   },
   {
    "duration": 6,
    "start_time": "2024-06-30T06:19:15.167Z"
   },
   {
    "duration": 22,
    "start_time": "2024-06-30T06:19:15.175Z"
   },
   {
    "duration": 29,
    "start_time": "2024-06-30T06:19:15.198Z"
   },
   {
    "duration": 17,
    "start_time": "2024-06-30T06:19:15.228Z"
   },
   {
    "duration": 17,
    "start_time": "2024-06-30T06:19:15.246Z"
   },
   {
    "duration": 56,
    "start_time": "2024-06-30T06:19:15.264Z"
   },
   {
    "duration": 7,
    "start_time": "2024-06-30T06:19:15.321Z"
   },
   {
    "duration": 378,
    "start_time": "2024-06-30T06:19:15.329Z"
   },
   {
    "duration": 12,
    "start_time": "2024-06-30T06:19:15.708Z"
   },
   {
    "duration": 17,
    "start_time": "2024-06-30T06:19:15.721Z"
   },
   {
    "duration": 12,
    "start_time": "2024-06-30T06:19:15.740Z"
   },
   {
    "duration": 45,
    "start_time": "2024-06-30T06:19:15.766Z"
   },
   {
    "duration": 32,
    "start_time": "2024-06-30T06:19:15.814Z"
   },
   {
    "duration": 19,
    "start_time": "2024-06-30T06:19:15.848Z"
   },
   {
    "duration": 4,
    "start_time": "2024-06-30T06:19:15.869Z"
   },
   {
    "duration": 52,
    "start_time": "2024-06-30T06:19:15.875Z"
   },
   {
    "duration": 3,
    "start_time": "2024-06-30T06:19:15.929Z"
   },
   {
    "duration": 8,
    "start_time": "2024-06-30T06:19:15.934Z"
   },
   {
    "duration": 27,
    "start_time": "2024-06-30T06:19:15.943Z"
   },
   {
    "duration": 8,
    "start_time": "2024-06-30T06:19:15.971Z"
   },
   {
    "duration": 7,
    "start_time": "2024-06-30T06:19:15.980Z"
   },
   {
    "duration": 25,
    "start_time": "2024-06-30T06:19:15.988Z"
   },
   {
    "duration": 8,
    "start_time": "2024-06-30T06:19:16.015Z"
   },
   {
    "duration": 8,
    "start_time": "2024-06-30T06:19:16.024Z"
   },
   {
    "duration": 43,
    "start_time": "2024-06-30T06:19:16.034Z"
   },
   {
    "duration": 13,
    "start_time": "2024-06-30T06:19:16.079Z"
   },
   {
    "duration": 22,
    "start_time": "2024-06-30T06:19:27.707Z"
   },
   {
    "duration": 24,
    "start_time": "2024-06-30T06:19:57.864Z"
   },
   {
    "duration": 24,
    "start_time": "2024-06-30T06:20:09.568Z"
   },
   {
    "duration": 5,
    "start_time": "2024-06-30T06:33:10.605Z"
   },
   {
    "duration": 3,
    "start_time": "2024-06-30T06:36:28.105Z"
   },
   {
    "duration": 3,
    "start_time": "2024-06-30T06:36:33.147Z"
   },
   {
    "duration": 91,
    "start_time": "2024-06-30T06:43:55.084Z"
   },
   {
    "duration": 3,
    "start_time": "2024-06-30T06:45:07.324Z"
   },
   {
    "duration": 4,
    "start_time": "2024-06-30T06:45:11.405Z"
   },
   {
    "duration": 3,
    "start_time": "2024-06-30T06:45:15.911Z"
   },
   {
    "duration": 9,
    "start_time": "2024-06-30T06:45:30.489Z"
   },
   {
    "duration": 5,
    "start_time": "2024-06-30T06:45:40.822Z"
   },
   {
    "duration": 4,
    "start_time": "2024-06-30T06:45:42.129Z"
   },
   {
    "duration": 13,
    "start_time": "2024-06-30T06:47:29.779Z"
   },
   {
    "duration": 10,
    "start_time": "2024-06-30T06:48:00.865Z"
   },
   {
    "duration": 11,
    "start_time": "2024-06-30T06:48:25.889Z"
   },
   {
    "duration": 5,
    "start_time": "2024-06-30T06:49:55.744Z"
   },
   {
    "duration": 3,
    "start_time": "2024-06-30T06:50:03.835Z"
   },
   {
    "duration": 8,
    "start_time": "2024-06-30T06:52:46.578Z"
   },
   {
    "duration": 5,
    "start_time": "2024-06-30T06:52:51.813Z"
   },
   {
    "duration": 6,
    "start_time": "2024-06-30T06:53:45.656Z"
   },
   {
    "duration": 4,
    "start_time": "2024-06-30T06:53:50.375Z"
   },
   {
    "duration": 4,
    "start_time": "2024-06-30T06:53:52.855Z"
   },
   {
    "duration": 7,
    "start_time": "2024-06-30T06:56:54.462Z"
   },
   {
    "duration": 4,
    "start_time": "2024-06-30T06:56:58.189Z"
   },
   {
    "duration": 13,
    "start_time": "2024-06-30T06:57:34.048Z"
   },
   {
    "duration": 3,
    "start_time": "2024-06-30T06:57:57.244Z"
   },
   {
    "duration": 8,
    "start_time": "2024-06-30T06:58:03.063Z"
   },
   {
    "duration": 4,
    "start_time": "2024-06-30T06:58:09.311Z"
   },
   {
    "duration": 4,
    "start_time": "2024-06-30T06:58:15.697Z"
   },
   {
    "duration": 12,
    "start_time": "2024-06-30T06:58:49.267Z"
   },
   {
    "duration": 19,
    "start_time": "2024-06-30T07:00:08.278Z"
   },
   {
    "duration": 1043,
    "start_time": "2024-06-30T07:00:34.210Z"
   },
   {
    "duration": 168,
    "start_time": "2024-06-30T07:00:35.255Z"
   },
   {
    "duration": 5,
    "start_time": "2024-06-30T07:00:35.425Z"
   },
   {
    "duration": 140,
    "start_time": "2024-06-30T07:00:35.432Z"
   },
   {
    "duration": 10,
    "start_time": "2024-06-30T07:00:35.574Z"
   },
   {
    "duration": 6,
    "start_time": "2024-06-30T07:00:35.586Z"
   },
   {
    "duration": 125,
    "start_time": "2024-06-30T07:00:35.594Z"
   },
   {
    "duration": 8,
    "start_time": "2024-06-30T07:00:35.721Z"
   },
   {
    "duration": 105,
    "start_time": "2024-06-30T07:00:35.731Z"
   },
   {
    "duration": 83,
    "start_time": "2024-06-30T07:00:35.840Z"
   },
   {
    "duration": 20,
    "start_time": "2024-06-30T07:00:35.924Z"
   },
   {
    "duration": 21,
    "start_time": "2024-06-30T07:00:35.945Z"
   },
   {
    "duration": 39,
    "start_time": "2024-06-30T07:00:35.968Z"
   },
   {
    "duration": 17,
    "start_time": "2024-06-30T07:00:36.009Z"
   },
   {
    "duration": 11,
    "start_time": "2024-06-30T07:00:36.027Z"
   },
   {
    "duration": 30,
    "start_time": "2024-06-30T07:00:36.039Z"
   },
   {
    "duration": 6,
    "start_time": "2024-06-30T07:00:36.070Z"
   },
   {
    "duration": 6,
    "start_time": "2024-06-30T07:00:36.077Z"
   },
   {
    "duration": 22,
    "start_time": "2024-06-30T07:00:36.085Z"
   },
   {
    "duration": 19,
    "start_time": "2024-06-30T07:00:36.109Z"
   },
   {
    "duration": 16,
    "start_time": "2024-06-30T07:00:36.130Z"
   },
   {
    "duration": 38,
    "start_time": "2024-06-30T07:00:36.147Z"
   },
   {
    "duration": 6,
    "start_time": "2024-06-30T07:00:36.187Z"
   },
   {
    "duration": 368,
    "start_time": "2024-06-30T07:00:36.195Z"
   },
   {
    "duration": 13,
    "start_time": "2024-06-30T07:00:36.565Z"
   },
   {
    "duration": 34,
    "start_time": "2024-06-30T07:00:36.579Z"
   },
   {
    "duration": 4,
    "start_time": "2024-06-30T07:00:36.615Z"
   },
   {
    "duration": 34,
    "start_time": "2024-06-30T07:00:36.621Z"
   },
   {
    "duration": 23,
    "start_time": "2024-06-30T07:00:36.657Z"
   },
   {
    "duration": 20,
    "start_time": "2024-06-30T07:00:36.681Z"
   },
   {
    "duration": 6,
    "start_time": "2024-06-30T07:00:36.702Z"
   },
   {
    "duration": 56,
    "start_time": "2024-06-30T07:00:36.709Z"
   },
   {
    "duration": 4,
    "start_time": "2024-06-30T07:00:36.766Z"
   },
   {
    "duration": 56,
    "start_time": "2024-06-30T07:00:36.772Z"
   },
   {
    "duration": 14,
    "start_time": "2024-06-30T07:00:36.829Z"
   },
   {
    "duration": 5,
    "start_time": "2024-06-30T07:00:36.845Z"
   },
   {
    "duration": 76,
    "start_time": "2024-06-30T07:00:36.851Z"
   },
   {
    "duration": 28,
    "start_time": "2024-06-30T07:00:36.929Z"
   },
   {
    "duration": 7,
    "start_time": "2024-06-30T07:00:36.959Z"
   },
   {
    "duration": 15,
    "start_time": "2024-06-30T07:00:36.968Z"
   },
   {
    "duration": 27,
    "start_time": "2024-06-30T07:00:36.984Z"
   },
   {
    "duration": 21,
    "start_time": "2024-06-30T07:00:37.013Z"
   },
   {
    "duration": 104,
    "start_time": "2024-06-30T07:00:37.035Z"
   },
   {
    "duration": 71,
    "start_time": "2024-06-30T07:01:28.621Z"
   },
   {
    "duration": 12,
    "start_time": "2024-06-30T07:01:37.175Z"
   },
   {
    "duration": 3,
    "start_time": "2024-06-30T07:01:46.491Z"
   },
   {
    "duration": 12,
    "start_time": "2024-06-30T07:02:39.774Z"
   },
   {
    "duration": 12,
    "start_time": "2024-06-30T07:04:47.276Z"
   },
   {
    "duration": 13,
    "start_time": "2024-06-30T07:05:01.601Z"
   },
   {
    "duration": 22,
    "start_time": "2024-06-30T07:05:07.562Z"
   },
   {
    "duration": 6,
    "start_time": "2024-06-30T07:06:06.138Z"
   },
   {
    "duration": 5,
    "start_time": "2024-06-30T07:06:12.326Z"
   },
   {
    "duration": 7,
    "start_time": "2024-06-30T07:07:30.280Z"
   },
   {
    "duration": 3,
    "start_time": "2024-06-30T07:07:32.069Z"
   },
   {
    "duration": 4,
    "start_time": "2024-06-30T07:07:41.913Z"
   },
   {
    "duration": 6,
    "start_time": "2024-06-30T07:09:31.289Z"
   },
   {
    "duration": 6,
    "start_time": "2024-06-30T07:09:40.808Z"
   },
   {
    "duration": 5,
    "start_time": "2024-06-30T07:09:46.457Z"
   },
   {
    "duration": 4,
    "start_time": "2024-06-30T07:09:47.905Z"
   },
   {
    "duration": 6,
    "start_time": "2024-06-30T07:10:20.852Z"
   },
   {
    "duration": 3,
    "start_time": "2024-06-30T07:10:21.608Z"
   },
   {
    "duration": 7,
    "start_time": "2024-06-30T07:10:25.811Z"
   },
   {
    "duration": 4,
    "start_time": "2024-06-30T07:10:26.461Z"
   },
   {
    "duration": 6,
    "start_time": "2024-06-30T07:11:06.977Z"
   },
   {
    "duration": 3,
    "start_time": "2024-06-30T07:11:12.765Z"
   },
   {
    "duration": 14,
    "start_time": "2024-06-30T07:11:38.484Z"
   },
   {
    "duration": 8,
    "start_time": "2024-06-30T07:15:53.424Z"
   },
   {
    "duration": 4,
    "start_time": "2024-06-30T07:16:01.487Z"
   },
   {
    "duration": 9,
    "start_time": "2024-06-30T07:16:18.372Z"
   },
   {
    "duration": 937,
    "start_time": "2024-06-30T07:20:22.893Z"
   },
   {
    "duration": 970,
    "start_time": "2024-06-30T07:20:50.191Z"
   },
   {
    "duration": 1090,
    "start_time": "2024-06-30T07:21:47.730Z"
   },
   {
    "duration": 204,
    "start_time": "2024-06-30T07:21:48.821Z"
   },
   {
    "duration": 4,
    "start_time": "2024-06-30T07:21:49.027Z"
   },
   {
    "duration": 134,
    "start_time": "2024-06-30T07:21:49.033Z"
   },
   {
    "duration": 11,
    "start_time": "2024-06-30T07:21:49.168Z"
   },
   {
    "duration": 9,
    "start_time": "2024-06-30T07:21:49.180Z"
   },
   {
    "duration": 130,
    "start_time": "2024-06-30T07:21:49.190Z"
   },
   {
    "duration": 8,
    "start_time": "2024-06-30T07:21:49.322Z"
   },
   {
    "duration": 123,
    "start_time": "2024-06-30T07:21:49.331Z"
   },
   {
    "duration": 73,
    "start_time": "2024-06-30T07:21:49.458Z"
   },
   {
    "duration": 36,
    "start_time": "2024-06-30T07:21:49.533Z"
   },
   {
    "duration": 7,
    "start_time": "2024-06-30T07:21:49.570Z"
   },
   {
    "duration": 28,
    "start_time": "2024-06-30T07:21:49.578Z"
   },
   {
    "duration": 16,
    "start_time": "2024-06-30T07:21:49.608Z"
   },
   {
    "duration": 12,
    "start_time": "2024-06-30T07:21:49.625Z"
   },
   {
    "duration": 42,
    "start_time": "2024-06-30T07:21:49.638Z"
   },
   {
    "duration": 5,
    "start_time": "2024-06-30T07:21:49.682Z"
   },
   {
    "duration": 13,
    "start_time": "2024-06-30T07:21:49.689Z"
   },
   {
    "duration": 12,
    "start_time": "2024-06-30T07:21:49.703Z"
   },
   {
    "duration": 4,
    "start_time": "2024-06-30T07:21:49.717Z"
   },
   {
    "duration": 6,
    "start_time": "2024-06-30T07:21:49.723Z"
   },
   {
    "duration": 46,
    "start_time": "2024-06-30T07:21:49.730Z"
   },
   {
    "duration": 7,
    "start_time": "2024-06-30T07:21:49.778Z"
   },
   {
    "duration": 369,
    "start_time": "2024-06-30T07:21:49.787Z"
   },
   {
    "duration": 13,
    "start_time": "2024-06-30T07:21:50.158Z"
   },
   {
    "duration": 12,
    "start_time": "2024-06-30T07:21:50.172Z"
   },
   {
    "duration": 5,
    "start_time": "2024-06-30T07:21:50.185Z"
   },
   {
    "duration": 48,
    "start_time": "2024-06-30T07:21:50.192Z"
   },
   {
    "duration": 29,
    "start_time": "2024-06-30T07:21:50.241Z"
   },
   {
    "duration": 8,
    "start_time": "2024-06-30T07:21:50.272Z"
   },
   {
    "duration": 7,
    "start_time": "2024-06-30T07:21:50.281Z"
   },
   {
    "duration": 57,
    "start_time": "2024-06-30T07:21:50.289Z"
   },
   {
    "duration": 18,
    "start_time": "2024-06-30T07:21:50.347Z"
   },
   {
    "duration": 8,
    "start_time": "2024-06-30T07:21:50.367Z"
   },
   {
    "duration": 10,
    "start_time": "2024-06-30T07:21:50.376Z"
   },
   {
    "duration": 5,
    "start_time": "2024-06-30T07:21:50.387Z"
   },
   {
    "duration": 18,
    "start_time": "2024-06-30T07:21:50.393Z"
   },
   {
    "duration": 35,
    "start_time": "2024-06-30T07:21:50.412Z"
   },
   {
    "duration": 8,
    "start_time": "2024-06-30T07:21:50.449Z"
   },
   {
    "duration": 9,
    "start_time": "2024-06-30T07:21:50.458Z"
   },
   {
    "duration": 31,
    "start_time": "2024-06-30T07:21:50.469Z"
   },
   {
    "duration": 24,
    "start_time": "2024-06-30T07:21:50.501Z"
   },
   {
    "duration": 1070,
    "start_time": "2024-06-30T07:21:50.526Z"
   },
   {
    "duration": 0,
    "start_time": "2024-06-30T07:21:51.597Z"
   },
   {
    "duration": 0,
    "start_time": "2024-06-30T07:21:51.598Z"
   },
   {
    "duration": 10,
    "start_time": "2024-06-30T07:22:44.958Z"
   },
   {
    "duration": 24,
    "start_time": "2024-06-30T07:29:06.206Z"
   },
   {
    "duration": 4,
    "start_time": "2024-06-30T07:29:27.286Z"
   },
   {
    "duration": 4,
    "start_time": "2024-06-30T07:29:37.855Z"
   },
   {
    "duration": 7,
    "start_time": "2024-06-30T07:31:02.885Z"
   },
   {
    "duration": 6,
    "start_time": "2024-06-30T07:31:06.673Z"
   },
   {
    "duration": 28,
    "start_time": "2024-06-30T07:40:48.858Z"
   },
   {
    "duration": 24,
    "start_time": "2024-06-30T07:41:18.565Z"
   },
   {
    "duration": 83,
    "start_time": "2024-06-30T07:42:57.905Z"
   },
   {
    "duration": 64,
    "start_time": "2024-06-30T07:45:58.744Z"
   },
   {
    "duration": 5,
    "start_time": "2024-06-30T07:46:03.792Z"
   },
   {
    "duration": 21,
    "start_time": "2024-06-30T07:46:28.509Z"
   },
   {
    "duration": 9,
    "start_time": "2024-06-30T07:48:44.149Z"
   },
   {
    "duration": 20,
    "start_time": "2024-06-30T07:48:45.284Z"
   },
   {
    "duration": 7,
    "start_time": "2024-06-30T07:49:00.186Z"
   },
   {
    "duration": 20,
    "start_time": "2024-06-30T07:49:01.408Z"
   },
   {
    "duration": 29,
    "start_time": "2024-06-30T07:50:32.552Z"
   },
   {
    "duration": 33,
    "start_time": "2024-06-30T07:50:39.220Z"
   },
   {
    "duration": 5,
    "start_time": "2024-06-30T07:50:47.497Z"
   },
   {
    "duration": 12,
    "start_time": "2024-06-30T07:51:54.053Z"
   },
   {
    "duration": 15,
    "start_time": "2024-06-30T07:52:15.335Z"
   },
   {
    "duration": 12,
    "start_time": "2024-06-30T07:52:23.992Z"
   },
   {
    "duration": 19,
    "start_time": "2024-06-30T07:52:29.235Z"
   },
   {
    "duration": 7,
    "start_time": "2024-06-30T07:53:12.754Z"
   },
   {
    "duration": 2,
    "start_time": "2024-06-30T07:53:24.193Z"
   },
   {
    "duration": 4,
    "start_time": "2024-06-30T07:53:32.737Z"
   },
   {
    "duration": 135,
    "start_time": "2024-06-30T07:54:00.958Z"
   },
   {
    "duration": 29,
    "start_time": "2024-06-30T07:54:14.459Z"
   },
   {
    "duration": 38,
    "start_time": "2024-06-30T07:54:19.769Z"
   },
   {
    "duration": 51,
    "start_time": "2024-06-30T07:55:00.007Z"
   },
   {
    "duration": 3,
    "start_time": "2024-06-30T07:55:07.746Z"
   },
   {
    "duration": 6,
    "start_time": "2024-06-30T07:57:30.496Z"
   },
   {
    "duration": 61,
    "start_time": "2024-06-30T07:57:37.178Z"
   },
   {
    "duration": 6,
    "start_time": "2024-06-30T07:57:48.767Z"
   },
   {
    "duration": 61,
    "start_time": "2024-06-30T07:57:50.444Z"
   },
   {
    "duration": 9,
    "start_time": "2024-06-30T07:58:20.990Z"
   },
   {
    "duration": 63,
    "start_time": "2024-06-30T07:58:21.541Z"
   },
   {
    "duration": 82,
    "start_time": "2024-06-30T08:06:37.722Z"
   },
   {
    "duration": 62,
    "start_time": "2024-06-30T08:06:54.979Z"
   },
   {
    "duration": 10,
    "start_time": "2024-06-30T08:12:33.218Z"
   },
   {
    "duration": 37,
    "start_time": "2024-06-30T08:13:24.363Z"
   },
   {
    "duration": 1090,
    "start_time": "2024-06-30T08:13:31.871Z"
   },
   {
    "duration": 173,
    "start_time": "2024-06-30T08:13:32.963Z"
   },
   {
    "duration": 4,
    "start_time": "2024-06-30T08:13:33.138Z"
   },
   {
    "duration": 178,
    "start_time": "2024-06-30T08:13:33.144Z"
   },
   {
    "duration": 8,
    "start_time": "2024-06-30T08:13:33.324Z"
   },
   {
    "duration": 14,
    "start_time": "2024-06-30T08:13:33.333Z"
   },
   {
    "duration": 110,
    "start_time": "2024-06-30T08:13:33.348Z"
   },
   {
    "duration": 10,
    "start_time": "2024-06-30T08:13:33.459Z"
   },
   {
    "duration": 101,
    "start_time": "2024-06-30T08:13:33.470Z"
   },
   {
    "duration": 72,
    "start_time": "2024-06-30T08:13:33.573Z"
   },
   {
    "duration": 29,
    "start_time": "2024-06-30T08:13:33.646Z"
   },
   {
    "duration": 8,
    "start_time": "2024-06-30T08:13:33.677Z"
   },
   {
    "duration": 29,
    "start_time": "2024-06-30T08:13:33.686Z"
   },
   {
    "duration": 17,
    "start_time": "2024-06-30T08:13:33.716Z"
   },
   {
    "duration": 31,
    "start_time": "2024-06-30T08:13:33.734Z"
   },
   {
    "duration": 35,
    "start_time": "2024-06-30T08:13:33.767Z"
   },
   {
    "duration": 8,
    "start_time": "2024-06-30T08:13:33.804Z"
   },
   {
    "duration": 7,
    "start_time": "2024-06-30T08:13:33.814Z"
   },
   {
    "duration": 17,
    "start_time": "2024-06-30T08:13:33.823Z"
   },
   {
    "duration": 5,
    "start_time": "2024-06-30T08:13:33.841Z"
   },
   {
    "duration": 27,
    "start_time": "2024-06-30T08:13:33.848Z"
   },
   {
    "duration": 50,
    "start_time": "2024-06-30T08:13:33.876Z"
   },
   {
    "duration": 7,
    "start_time": "2024-06-30T08:13:33.928Z"
   },
   {
    "duration": 369,
    "start_time": "2024-06-30T08:13:33.936Z"
   },
   {
    "duration": 13,
    "start_time": "2024-06-30T08:13:34.307Z"
   },
   {
    "duration": 13,
    "start_time": "2024-06-30T08:13:34.321Z"
   },
   {
    "duration": 4,
    "start_time": "2024-06-30T08:13:34.336Z"
   },
   {
    "duration": 43,
    "start_time": "2024-06-30T08:13:34.367Z"
   },
   {
    "duration": 27,
    "start_time": "2024-06-30T08:13:34.413Z"
   },
   {
    "duration": 28,
    "start_time": "2024-06-30T08:13:34.442Z"
   },
   {
    "duration": 5,
    "start_time": "2024-06-30T08:13:34.472Z"
   },
   {
    "duration": 57,
    "start_time": "2024-06-30T08:13:34.478Z"
   },
   {
    "duration": 3,
    "start_time": "2024-06-30T08:13:34.536Z"
   },
   {
    "duration": 11,
    "start_time": "2024-06-30T08:13:34.541Z"
   },
   {
    "duration": 17,
    "start_time": "2024-06-30T08:13:34.553Z"
   },
   {
    "duration": 7,
    "start_time": "2024-06-30T08:13:34.571Z"
   },
   {
    "duration": 8,
    "start_time": "2024-06-30T08:13:34.579Z"
   },
   {
    "duration": 37,
    "start_time": "2024-06-30T08:13:34.588Z"
   },
   {
    "duration": 8,
    "start_time": "2024-06-30T08:13:34.627Z"
   },
   {
    "duration": 17,
    "start_time": "2024-06-30T08:13:34.636Z"
   },
   {
    "duration": 30,
    "start_time": "2024-06-30T08:13:34.665Z"
   },
   {
    "duration": 22,
    "start_time": "2024-06-30T08:13:34.697Z"
   },
   {
    "duration": 55,
    "start_time": "2024-06-30T08:13:34.720Z"
   },
   {
    "duration": 6,
    "start_time": "2024-06-30T08:13:34.777Z"
   },
   {
    "duration": 114,
    "start_time": "2024-06-30T08:13:34.785Z"
   },
   {
    "duration": 0,
    "start_time": "2024-06-30T08:13:34.900Z"
   },
   {
    "duration": 0,
    "start_time": "2024-06-30T08:13:34.901Z"
   },
   {
    "duration": 5,
    "start_time": "2024-06-30T08:14:22.681Z"
   },
   {
    "duration": 61,
    "start_time": "2024-06-30T08:14:23.415Z"
   },
   {
    "duration": 64,
    "start_time": "2024-06-30T08:14:28.559Z"
   },
   {
    "duration": 62,
    "start_time": "2024-06-30T08:14:31.356Z"
   },
   {
    "duration": 17,
    "start_time": "2024-06-30T08:14:55.659Z"
   },
   {
    "duration": 1041,
    "start_time": "2024-06-30T08:15:09.202Z"
   },
   {
    "duration": 166,
    "start_time": "2024-06-30T08:15:10.245Z"
   },
   {
    "duration": 4,
    "start_time": "2024-06-30T08:15:10.413Z"
   },
   {
    "duration": 141,
    "start_time": "2024-06-30T08:15:10.418Z"
   },
   {
    "duration": 11,
    "start_time": "2024-06-30T08:15:10.561Z"
   },
   {
    "duration": 7,
    "start_time": "2024-06-30T08:15:10.574Z"
   },
   {
    "duration": 135,
    "start_time": "2024-06-30T08:15:10.582Z"
   },
   {
    "duration": 9,
    "start_time": "2024-06-30T08:15:10.718Z"
   },
   {
    "duration": 106,
    "start_time": "2024-06-30T08:15:10.729Z"
   },
   {
    "duration": 78,
    "start_time": "2024-06-30T08:15:10.837Z"
   },
   {
    "duration": 20,
    "start_time": "2024-06-30T08:15:10.917Z"
   },
   {
    "duration": 8,
    "start_time": "2024-06-30T08:15:10.938Z"
   },
   {
    "duration": 28,
    "start_time": "2024-06-30T08:15:10.965Z"
   },
   {
    "duration": 17,
    "start_time": "2024-06-30T08:15:10.995Z"
   },
   {
    "duration": 8,
    "start_time": "2024-06-30T08:15:11.014Z"
   },
   {
    "duration": 43,
    "start_time": "2024-06-30T08:15:11.023Z"
   },
   {
    "duration": 6,
    "start_time": "2024-06-30T08:15:11.068Z"
   },
   {
    "duration": 7,
    "start_time": "2024-06-30T08:15:11.075Z"
   },
   {
    "duration": 123,
    "start_time": "2024-06-30T08:15:11.083Z"
   },
   {
    "duration": 34,
    "start_time": "2024-06-30T08:15:11.208Z"
   },
   {
    "duration": 6,
    "start_time": "2024-06-30T08:15:11.243Z"
   },
   {
    "duration": 34,
    "start_time": "2024-06-30T08:15:11.250Z"
   },
   {
    "duration": 6,
    "start_time": "2024-06-30T08:15:11.286Z"
   },
   {
    "duration": 347,
    "start_time": "2024-06-30T08:15:11.293Z"
   },
   {
    "duration": 13,
    "start_time": "2024-06-30T08:15:11.641Z"
   },
   {
    "duration": 18,
    "start_time": "2024-06-30T08:15:11.656Z"
   },
   {
    "duration": 3,
    "start_time": "2024-06-30T08:15:11.676Z"
   },
   {
    "duration": 33,
    "start_time": "2024-06-30T08:15:11.683Z"
   },
   {
    "duration": 24,
    "start_time": "2024-06-30T08:15:11.717Z"
   },
   {
    "duration": 8,
    "start_time": "2024-06-30T08:15:11.765Z"
   },
   {
    "duration": 5,
    "start_time": "2024-06-30T08:15:11.775Z"
   },
   {
    "duration": 60,
    "start_time": "2024-06-30T08:15:11.782Z"
   },
   {
    "duration": 3,
    "start_time": "2024-06-30T08:15:11.844Z"
   },
   {
    "duration": 5,
    "start_time": "2024-06-30T08:15:11.864Z"
   },
   {
    "duration": 10,
    "start_time": "2024-06-30T08:15:11.870Z"
   },
   {
    "duration": 4,
    "start_time": "2024-06-30T08:15:11.881Z"
   },
   {
    "duration": 7,
    "start_time": "2024-06-30T08:15:11.886Z"
   },
   {
    "duration": 35,
    "start_time": "2024-06-30T08:15:11.895Z"
   },
   {
    "duration": 7,
    "start_time": "2024-06-30T08:15:11.932Z"
   },
   {
    "duration": 30,
    "start_time": "2024-06-30T08:15:11.940Z"
   },
   {
    "duration": 27,
    "start_time": "2024-06-30T08:15:11.972Z"
   },
   {
    "duration": 23,
    "start_time": "2024-06-30T08:15:12.000Z"
   },
   {
    "duration": 17,
    "start_time": "2024-06-30T08:15:12.024Z"
   },
   {
    "duration": 5,
    "start_time": "2024-06-30T08:15:12.066Z"
   },
   {
    "duration": 95,
    "start_time": "2024-06-30T08:15:12.073Z"
   },
   {
    "duration": 79,
    "start_time": "2024-06-30T08:15:12.170Z"
   },
   {
    "duration": 89,
    "start_time": "2024-06-30T08:15:12.250Z"
   },
   {
    "duration": 41,
    "start_time": "2024-06-30T08:15:31.948Z"
   },
   {
    "duration": 5,
    "start_time": "2024-06-30T08:15:32.760Z"
   },
   {
    "duration": 61,
    "start_time": "2024-06-30T08:15:34.415Z"
   },
   {
    "duration": 66,
    "start_time": "2024-06-30T08:15:35.716Z"
   },
   {
    "duration": 64,
    "start_time": "2024-06-30T08:15:36.492Z"
   },
   {
    "duration": 137,
    "start_time": "2024-06-30T08:48:17.547Z"
   },
   {
    "duration": 13,
    "start_time": "2024-06-30T08:49:05.076Z"
   },
   {
    "duration": 11,
    "start_time": "2024-06-30T08:49:49.236Z"
   },
   {
    "duration": 11,
    "start_time": "2024-06-30T08:49:55.853Z"
   },
   {
    "duration": 79,
    "start_time": "2024-06-30T08:50:57.882Z"
   },
   {
    "duration": 3,
    "start_time": "2024-06-30T08:51:02.252Z"
   },
   {
    "duration": 3,
    "start_time": "2024-06-30T08:51:20.445Z"
   },
   {
    "duration": 91,
    "start_time": "2024-06-30T08:51:58.624Z"
   },
   {
    "duration": 62,
    "start_time": "2024-06-30T09:06:58.415Z"
   },
   {
    "duration": 160,
    "start_time": "2024-06-30T09:08:43.750Z"
   },
   {
    "duration": 121,
    "start_time": "2024-06-30T09:10:03.863Z"
   },
   {
    "duration": 103,
    "start_time": "2024-06-30T09:10:10.877Z"
   },
   {
    "duration": 80,
    "start_time": "2024-06-30T09:10:20.729Z"
   },
   {
    "duration": 179,
    "start_time": "2024-06-30T09:11:18.864Z"
   },
   {
    "duration": 105,
    "start_time": "2024-06-30T09:11:34.425Z"
   },
   {
    "duration": 66,
    "start_time": "2024-06-30T09:14:55.567Z"
   },
   {
    "duration": 72,
    "start_time": "2024-06-30T09:14:59.326Z"
   },
   {
    "duration": 60,
    "start_time": "2024-06-30T09:15:03.138Z"
   },
   {
    "duration": 51,
    "start_time": "2024-06-30T09:15:14.457Z"
   },
   {
    "duration": 52,
    "start_time": "2024-06-30T09:15:15.505Z"
   },
   {
    "duration": 188,
    "start_time": "2024-06-30T09:15:16.463Z"
   },
   {
    "duration": 108,
    "start_time": "2024-06-30T09:16:15.651Z"
   },
   {
    "duration": 104,
    "start_time": "2024-06-30T09:17:33.388Z"
   },
   {
    "duration": 118,
    "start_time": "2024-06-30T09:18:24.941Z"
   },
   {
    "duration": 145,
    "start_time": "2024-06-30T09:19:07.370Z"
   },
   {
    "duration": 152,
    "start_time": "2024-06-30T09:19:23.143Z"
   },
   {
    "duration": 141,
    "start_time": "2024-06-30T09:19:28.400Z"
   },
   {
    "duration": 3,
    "start_time": "2024-06-30T09:20:19.650Z"
   },
   {
    "duration": 150,
    "start_time": "2024-06-30T09:20:23.582Z"
   },
   {
    "duration": 69,
    "start_time": "2024-06-30T09:20:49.442Z"
   },
   {
    "duration": 142,
    "start_time": "2024-06-30T09:20:54.646Z"
   },
   {
    "duration": 141,
    "start_time": "2024-06-30T09:21:32.620Z"
   },
   {
    "duration": 150,
    "start_time": "2024-06-30T09:22:13.397Z"
   },
   {
    "duration": 217,
    "start_time": "2024-06-30T09:22:41.389Z"
   },
   {
    "duration": 194,
    "start_time": "2024-06-30T09:23:26.806Z"
   },
   {
    "duration": 135,
    "start_time": "2024-06-30T09:23:47.318Z"
   },
   {
    "duration": 3,
    "start_time": "2024-06-30T09:24:03.325Z"
   },
   {
    "duration": 17,
    "start_time": "2024-06-30T09:24:29.487Z"
   },
   {
    "duration": 1021,
    "start_time": "2024-06-30T09:24:49.818Z"
   },
   {
    "duration": 10,
    "start_time": "2024-06-30T09:24:57.141Z"
   },
   {
    "duration": 12,
    "start_time": "2024-06-30T09:25:28.140Z"
   },
   {
    "duration": 12,
    "start_time": "2024-06-30T09:25:44.369Z"
   },
   {
    "duration": 14,
    "start_time": "2024-06-30T09:26:01.522Z"
   },
   {
    "duration": 11,
    "start_time": "2024-06-30T09:26:33.742Z"
   },
   {
    "duration": 80,
    "start_time": "2024-06-30T09:26:46.888Z"
   },
   {
    "duration": 12,
    "start_time": "2024-06-30T09:26:50.033Z"
   },
   {
    "duration": 918,
    "start_time": "2024-06-30T09:32:32.432Z"
   },
   {
    "duration": 9,
    "start_time": "2024-06-30T09:32:45.905Z"
   },
   {
    "duration": 9,
    "start_time": "2024-06-30T09:35:34.620Z"
   },
   {
    "duration": 11,
    "start_time": "2024-06-30T09:43:02.200Z"
   },
   {
    "duration": 11,
    "start_time": "2024-06-30T09:43:15.546Z"
   },
   {
    "duration": 61,
    "start_time": "2024-06-30T09:43:41.840Z"
   },
   {
    "duration": 16,
    "start_time": "2024-06-30T09:43:45.621Z"
   },
   {
    "duration": 11,
    "start_time": "2024-06-30T09:44:24.807Z"
   },
   {
    "duration": 1094,
    "start_time": "2024-06-30T09:44:40.191Z"
   },
   {
    "duration": 167,
    "start_time": "2024-06-30T09:44:41.287Z"
   },
   {
    "duration": 4,
    "start_time": "2024-06-30T09:44:41.456Z"
   },
   {
    "duration": 125,
    "start_time": "2024-06-30T09:44:41.461Z"
   },
   {
    "duration": 9,
    "start_time": "2024-06-30T09:44:41.587Z"
   },
   {
    "duration": 23,
    "start_time": "2024-06-30T09:44:41.597Z"
   },
   {
    "duration": 99,
    "start_time": "2024-06-30T09:44:41.621Z"
   },
   {
    "duration": 7,
    "start_time": "2024-06-30T09:44:41.722Z"
   },
   {
    "duration": 96,
    "start_time": "2024-06-30T09:44:41.730Z"
   },
   {
    "duration": 70,
    "start_time": "2024-06-30T09:44:41.829Z"
   },
   {
    "duration": 19,
    "start_time": "2024-06-30T09:44:41.901Z"
   },
   {
    "duration": 9,
    "start_time": "2024-06-30T09:44:41.922Z"
   },
   {
    "duration": 45,
    "start_time": "2024-06-30T09:44:41.932Z"
   },
   {
    "duration": 17,
    "start_time": "2024-06-30T09:44:41.978Z"
   },
   {
    "duration": 6,
    "start_time": "2024-06-30T09:44:41.996Z"
   },
   {
    "duration": 19,
    "start_time": "2024-06-30T09:44:42.004Z"
   },
   {
    "duration": 5,
    "start_time": "2024-06-30T09:44:42.025Z"
   },
   {
    "duration": 4,
    "start_time": "2024-06-30T09:44:42.065Z"
   },
   {
    "duration": 6,
    "start_time": "2024-06-30T09:44:42.070Z"
   },
   {
    "duration": 4,
    "start_time": "2024-06-30T09:44:42.077Z"
   },
   {
    "duration": 12,
    "start_time": "2024-06-30T09:44:42.082Z"
   },
   {
    "duration": 32,
    "start_time": "2024-06-30T09:44:42.095Z"
   },
   {
    "duration": 7,
    "start_time": "2024-06-30T09:44:42.128Z"
   },
   {
    "duration": 394,
    "start_time": "2024-06-30T09:44:42.168Z"
   },
   {
    "duration": 12,
    "start_time": "2024-06-30T09:44:42.564Z"
   },
   {
    "duration": 12,
    "start_time": "2024-06-30T09:44:42.577Z"
   },
   {
    "duration": 3,
    "start_time": "2024-06-30T09:44:42.591Z"
   },
   {
    "duration": 30,
    "start_time": "2024-06-30T09:44:42.597Z"
   },
   {
    "duration": 44,
    "start_time": "2024-06-30T09:44:42.629Z"
   },
   {
    "duration": 11,
    "start_time": "2024-06-30T09:44:42.674Z"
   },
   {
    "duration": 3,
    "start_time": "2024-06-30T09:44:42.686Z"
   },
   {
    "duration": 50,
    "start_time": "2024-06-30T09:44:42.691Z"
   },
   {
    "duration": 169,
    "start_time": "2024-06-30T09:44:42.742Z"
   },
   {
    "duration": 4,
    "start_time": "2024-06-30T09:44:42.912Z"
   },
   {
    "duration": 5,
    "start_time": "2024-06-30T09:44:42.917Z"
   },
   {
    "duration": 11,
    "start_time": "2024-06-30T09:44:42.924Z"
   },
   {
    "duration": 5,
    "start_time": "2024-06-30T09:44:42.936Z"
   },
   {
    "duration": 5,
    "start_time": "2024-06-30T09:44:42.942Z"
   },
   {
    "duration": 58,
    "start_time": "2024-06-30T09:44:42.948Z"
   },
   {
    "duration": 8,
    "start_time": "2024-06-30T09:44:43.008Z"
   },
   {
    "duration": 56,
    "start_time": "2024-06-30T09:44:43.017Z"
   },
   {
    "duration": 29,
    "start_time": "2024-06-30T09:44:43.074Z"
   },
   {
    "duration": 20,
    "start_time": "2024-06-30T09:44:43.105Z"
   },
   {
    "duration": 53,
    "start_time": "2024-06-30T09:44:43.127Z"
   },
   {
    "duration": 6,
    "start_time": "2024-06-30T09:44:43.181Z"
   },
   {
    "duration": 69,
    "start_time": "2024-06-30T09:44:43.189Z"
   },
   {
    "duration": 60,
    "start_time": "2024-06-30T09:44:43.267Z"
   },
   {
    "duration": 75,
    "start_time": "2024-06-30T09:44:43.329Z"
   },
   {
    "duration": 9,
    "start_time": "2024-06-30T09:44:43.406Z"
   },
   {
    "duration": 85,
    "start_time": "2024-06-30T09:44:43.416Z"
   },
   {
    "duration": 110,
    "start_time": "2024-06-30T09:44:43.502Z"
   },
   {
    "duration": 109,
    "start_time": "2024-06-30T09:44:57.991Z"
   },
   {
    "duration": 12,
    "start_time": "2024-06-30T09:46:10.292Z"
   },
   {
    "duration": 18,
    "start_time": "2024-06-30T09:47:34.875Z"
   },
   {
    "duration": 11,
    "start_time": "2024-06-30T09:47:54.988Z"
   },
   {
    "duration": 10,
    "start_time": "2024-06-30T09:48:31.997Z"
   },
   {
    "duration": 10,
    "start_time": "2024-06-30T09:49:28.789Z"
   },
   {
    "duration": 10,
    "start_time": "2024-06-30T09:49:37.906Z"
   },
   {
    "duration": 4,
    "start_time": "2024-06-30T09:50:56.048Z"
   },
   {
    "duration": 14,
    "start_time": "2024-06-30T09:51:03.994Z"
   },
   {
    "duration": 10,
    "start_time": "2024-06-30T09:51:17.629Z"
   },
   {
    "duration": 71,
    "start_time": "2024-06-30T10:01:34.451Z"
   },
   {
    "duration": 1071,
    "start_time": "2024-06-30T10:09:51.695Z"
   },
   {
    "duration": 174,
    "start_time": "2024-06-30T10:09:52.768Z"
   },
   {
    "duration": 4,
    "start_time": "2024-06-30T10:09:52.943Z"
   },
   {
    "duration": 158,
    "start_time": "2024-06-30T10:09:52.949Z"
   },
   {
    "duration": 11,
    "start_time": "2024-06-30T10:09:53.109Z"
   },
   {
    "duration": 14,
    "start_time": "2024-06-30T10:09:53.121Z"
   },
   {
    "duration": 155,
    "start_time": "2024-06-30T10:09:53.136Z"
   },
   {
    "duration": 8,
    "start_time": "2024-06-30T10:09:53.293Z"
   },
   {
    "duration": 147,
    "start_time": "2024-06-30T10:09:53.303Z"
   },
   {
    "duration": 76,
    "start_time": "2024-06-30T10:09:53.453Z"
   },
   {
    "duration": 29,
    "start_time": "2024-06-30T10:09:53.531Z"
   },
   {
    "duration": 31,
    "start_time": "2024-06-30T10:09:53.565Z"
   },
   {
    "duration": 59,
    "start_time": "2024-06-30T10:09:53.597Z"
   },
   {
    "duration": 120,
    "start_time": "2024-06-30T10:09:53.658Z"
   },
   {
    "duration": 29,
    "start_time": "2024-06-30T10:09:53.780Z"
   },
   {
    "duration": 39,
    "start_time": "2024-06-30T10:09:53.811Z"
   },
   {
    "duration": 25,
    "start_time": "2024-06-30T10:09:53.851Z"
   },
   {
    "duration": 44,
    "start_time": "2024-06-30T10:09:53.878Z"
   },
   {
    "duration": 41,
    "start_time": "2024-06-30T10:09:53.924Z"
   },
   {
    "duration": 22,
    "start_time": "2024-06-30T10:09:53.967Z"
   },
   {
    "duration": 19,
    "start_time": "2024-06-30T10:09:53.990Z"
   },
   {
    "duration": 54,
    "start_time": "2024-06-30T10:09:54.011Z"
   },
   {
    "duration": 7,
    "start_time": "2024-06-30T10:09:54.066Z"
   },
   {
    "duration": 504,
    "start_time": "2024-06-30T10:09:54.074Z"
   },
   {
    "duration": 13,
    "start_time": "2024-06-30T10:09:54.580Z"
   },
   {
    "duration": 28,
    "start_time": "2024-06-30T10:09:54.595Z"
   },
   {
    "duration": 18,
    "start_time": "2024-06-30T10:09:54.625Z"
   },
   {
    "duration": 49,
    "start_time": "2024-06-30T10:09:54.647Z"
   },
   {
    "duration": 33,
    "start_time": "2024-06-30T10:09:54.698Z"
   },
   {
    "duration": 75,
    "start_time": "2024-06-30T10:09:54.733Z"
   },
   {
    "duration": 42,
    "start_time": "2024-06-30T10:09:54.810Z"
   },
   {
    "duration": 76,
    "start_time": "2024-06-30T10:09:54.853Z"
   },
   {
    "duration": 142,
    "start_time": "2024-06-30T10:09:54.931Z"
   },
   {
    "duration": 3,
    "start_time": "2024-06-30T10:09:55.075Z"
   },
   {
    "duration": 26,
    "start_time": "2024-06-30T10:09:55.079Z"
   },
   {
    "duration": 23,
    "start_time": "2024-06-30T10:09:55.107Z"
   },
   {
    "duration": 35,
    "start_time": "2024-06-30T10:09:55.132Z"
   },
   {
    "duration": 24,
    "start_time": "2024-06-30T10:09:55.168Z"
   },
   {
    "duration": 84,
    "start_time": "2024-06-30T10:09:55.193Z"
   },
   {
    "duration": 9,
    "start_time": "2024-06-30T10:09:55.279Z"
   },
   {
    "duration": 32,
    "start_time": "2024-06-30T10:09:55.289Z"
   },
   {
    "duration": 36,
    "start_time": "2024-06-30T10:09:55.323Z"
   },
   {
    "duration": 97,
    "start_time": "2024-06-30T10:09:55.361Z"
   },
   {
    "duration": 38,
    "start_time": "2024-06-30T10:09:55.460Z"
   },
   {
    "duration": 50,
    "start_time": "2024-06-30T10:09:55.499Z"
   },
   {
    "duration": 99,
    "start_time": "2024-06-30T10:09:55.551Z"
   },
   {
    "duration": 66,
    "start_time": "2024-06-30T10:09:55.652Z"
   },
   {
    "duration": 97,
    "start_time": "2024-06-30T10:09:55.719Z"
   },
   {
    "duration": 9,
    "start_time": "2024-06-30T10:09:55.818Z"
   },
   {
    "duration": 30,
    "start_time": "2024-06-30T10:09:55.828Z"
   },
   {
    "duration": 120,
    "start_time": "2024-06-30T10:09:55.859Z"
   },
   {
    "duration": 1487,
    "start_time": "2024-06-30T10:22:16.275Z"
   },
   {
    "duration": 850,
    "start_time": "2024-06-30T10:22:17.765Z"
   },
   {
    "duration": 4,
    "start_time": "2024-06-30T10:22:18.617Z"
   },
   {
    "duration": 153,
    "start_time": "2024-06-30T10:22:18.623Z"
   },
   {
    "duration": 14,
    "start_time": "2024-06-30T10:22:18.779Z"
   },
   {
    "duration": 16,
    "start_time": "2024-06-30T10:22:18.794Z"
   },
   {
    "duration": 132,
    "start_time": "2024-06-30T10:22:18.811Z"
   },
   {
    "duration": 9,
    "start_time": "2024-06-30T10:22:18.945Z"
   },
   {
    "duration": 118,
    "start_time": "2024-06-30T10:22:18.955Z"
   },
   {
    "duration": 83,
    "start_time": "2024-06-30T10:22:19.074Z"
   },
   {
    "duration": 36,
    "start_time": "2024-06-30T10:22:19.159Z"
   },
   {
    "duration": 10,
    "start_time": "2024-06-30T10:22:19.197Z"
   },
   {
    "duration": 71,
    "start_time": "2024-06-30T10:22:19.208Z"
   },
   {
    "duration": 18,
    "start_time": "2024-06-30T10:22:19.282Z"
   },
   {
    "duration": 22,
    "start_time": "2024-06-30T10:22:19.302Z"
   },
   {
    "duration": 44,
    "start_time": "2024-06-30T10:22:19.326Z"
   },
   {
    "duration": 6,
    "start_time": "2024-06-30T10:22:19.372Z"
   },
   {
    "duration": 27,
    "start_time": "2024-06-30T10:22:19.380Z"
   },
   {
    "duration": 11,
    "start_time": "2024-06-30T10:22:19.409Z"
   },
   {
    "duration": 5,
    "start_time": "2024-06-30T10:22:19.422Z"
   },
   {
    "duration": 12,
    "start_time": "2024-06-30T10:22:19.428Z"
   },
   {
    "duration": 40,
    "start_time": "2024-06-30T10:22:19.442Z"
   },
   {
    "duration": 8,
    "start_time": "2024-06-30T10:22:19.484Z"
   },
   {
    "duration": 472,
    "start_time": "2024-06-30T10:22:19.493Z"
   },
   {
    "duration": 16,
    "start_time": "2024-06-30T10:22:19.966Z"
   },
   {
    "duration": 33,
    "start_time": "2024-06-30T10:22:19.984Z"
   },
   {
    "duration": 28,
    "start_time": "2024-06-30T10:22:20.019Z"
   },
   {
    "duration": 55,
    "start_time": "2024-06-30T10:22:20.049Z"
   },
   {
    "duration": 28,
    "start_time": "2024-06-30T10:22:20.106Z"
   },
   {
    "duration": 24,
    "start_time": "2024-06-30T10:22:20.136Z"
   },
   {
    "duration": 36,
    "start_time": "2024-06-30T10:22:20.162Z"
   },
   {
    "duration": 74,
    "start_time": "2024-06-30T10:22:20.200Z"
   },
   {
    "duration": 239,
    "start_time": "2024-06-30T10:22:20.276Z"
   },
   {
    "duration": 3,
    "start_time": "2024-06-30T10:22:20.517Z"
   },
   {
    "duration": 72,
    "start_time": "2024-06-30T10:22:20.522Z"
   },
   {
    "duration": 33,
    "start_time": "2024-06-30T10:22:20.596Z"
   },
   {
    "duration": 42,
    "start_time": "2024-06-30T10:22:20.630Z"
   },
   {
    "duration": 44,
    "start_time": "2024-06-30T10:22:20.673Z"
   },
   {
    "duration": 69,
    "start_time": "2024-06-30T10:22:20.719Z"
   },
   {
    "duration": 12,
    "start_time": "2024-06-30T10:22:20.790Z"
   },
   {
    "duration": 53,
    "start_time": "2024-06-30T10:22:20.807Z"
   },
   {
    "duration": 114,
    "start_time": "2024-06-30T10:22:20.862Z"
   },
   {
    "duration": 25,
    "start_time": "2024-06-30T10:22:20.978Z"
   },
   {
    "duration": 50,
    "start_time": "2024-06-30T10:22:21.004Z"
   },
   {
    "duration": 38,
    "start_time": "2024-06-30T10:22:21.057Z"
   },
   {
    "duration": 104,
    "start_time": "2024-06-30T10:22:21.097Z"
   },
   {
    "duration": 90,
    "start_time": "2024-06-30T10:22:21.203Z"
   },
   {
    "duration": 75,
    "start_time": "2024-06-30T10:22:21.295Z"
   },
   {
    "duration": 28,
    "start_time": "2024-06-30T10:22:21.372Z"
   },
   {
    "duration": 94,
    "start_time": "2024-06-30T10:22:21.402Z"
   },
   {
    "duration": 128,
    "start_time": "2024-06-30T10:22:21.498Z"
   },
   {
    "duration": 45,
    "start_time": "2024-06-30T17:39:11.169Z"
   },
   {
    "duration": 1239,
    "start_time": "2024-06-30T17:39:17.147Z"
   },
   {
    "duration": 250,
    "start_time": "2024-06-30T17:39:18.388Z"
   },
   {
    "duration": 4,
    "start_time": "2024-06-30T17:39:18.640Z"
   },
   {
    "duration": 130,
    "start_time": "2024-06-30T17:39:18.645Z"
   },
   {
    "duration": 8,
    "start_time": "2024-06-30T17:39:18.776Z"
   },
   {
    "duration": 6,
    "start_time": "2024-06-30T17:39:18.785Z"
   },
   {
    "duration": 101,
    "start_time": "2024-06-30T17:39:18.792Z"
   },
   {
    "duration": 8,
    "start_time": "2024-06-30T17:39:18.894Z"
   },
   {
    "duration": 88,
    "start_time": "2024-06-30T17:39:18.903Z"
   },
   {
    "duration": 75,
    "start_time": "2024-06-30T17:39:18.993Z"
   },
   {
    "duration": 16,
    "start_time": "2024-06-30T17:39:19.069Z"
   },
   {
    "duration": 13,
    "start_time": "2024-06-30T17:39:19.087Z"
   },
   {
    "duration": 29,
    "start_time": "2024-06-30T17:39:19.112Z"
   },
   {
    "duration": 11,
    "start_time": "2024-06-30T17:39:19.142Z"
   },
   {
    "duration": 13,
    "start_time": "2024-06-30T17:39:19.155Z"
   },
   {
    "duration": 19,
    "start_time": "2024-06-30T17:39:19.169Z"
   },
   {
    "duration": 25,
    "start_time": "2024-06-30T17:39:19.189Z"
   },
   {
    "duration": 5,
    "start_time": "2024-06-30T17:39:19.215Z"
   },
   {
    "duration": 11,
    "start_time": "2024-06-30T17:39:19.221Z"
   },
   {
    "duration": 5,
    "start_time": "2024-06-30T17:39:19.233Z"
   },
   {
    "duration": 5,
    "start_time": "2024-06-30T17:39:19.240Z"
   },
   {
    "duration": 31,
    "start_time": "2024-06-30T17:39:19.247Z"
   },
   {
    "duration": 33,
    "start_time": "2024-06-30T17:39:19.279Z"
   },
   {
    "duration": 361,
    "start_time": "2024-06-30T17:39:19.313Z"
   },
   {
    "duration": 12,
    "start_time": "2024-06-30T17:39:19.675Z"
   },
   {
    "duration": 23,
    "start_time": "2024-06-30T17:39:19.689Z"
   },
   {
    "duration": 3,
    "start_time": "2024-06-30T17:39:19.714Z"
   },
   {
    "duration": 44,
    "start_time": "2024-06-30T17:39:19.721Z"
   },
   {
    "duration": 28,
    "start_time": "2024-06-30T17:39:19.767Z"
   },
   {
    "duration": 8,
    "start_time": "2024-06-30T17:39:19.811Z"
   },
   {
    "duration": 4,
    "start_time": "2024-06-30T17:39:19.820Z"
   },
   {
    "duration": 50,
    "start_time": "2024-06-30T17:39:19.825Z"
   },
   {
    "duration": 166,
    "start_time": "2024-06-30T17:39:19.876Z"
   },
   {
    "duration": 3,
    "start_time": "2024-06-30T17:39:20.044Z"
   },
   {
    "duration": 16,
    "start_time": "2024-06-30T17:39:20.048Z"
   },
   {
    "duration": 8,
    "start_time": "2024-06-30T17:39:20.065Z"
   },
   {
    "duration": 8,
    "start_time": "2024-06-30T17:39:20.074Z"
   },
   {
    "duration": 30,
    "start_time": "2024-06-30T17:39:20.083Z"
   },
   {
    "duration": 46,
    "start_time": "2024-06-30T17:39:20.114Z"
   },
   {
    "duration": 8,
    "start_time": "2024-06-30T17:39:20.161Z"
   },
   {
    "duration": 47,
    "start_time": "2024-06-30T17:39:20.170Z"
   },
   {
    "duration": 27,
    "start_time": "2024-06-30T17:39:20.218Z"
   },
   {
    "duration": 22,
    "start_time": "2024-06-30T17:39:20.246Z"
   },
   {
    "duration": 52,
    "start_time": "2024-06-30T17:39:20.269Z"
   },
   {
    "duration": 5,
    "start_time": "2024-06-30T17:39:20.323Z"
   },
   {
    "duration": 61,
    "start_time": "2024-06-30T17:39:20.329Z"
   },
   {
    "duration": 64,
    "start_time": "2024-06-30T17:39:20.391Z"
   },
   {
    "duration": 68,
    "start_time": "2024-06-30T17:39:20.456Z"
   },
   {
    "duration": 9,
    "start_time": "2024-06-30T17:39:20.526Z"
   },
   {
    "duration": 5,
    "start_time": "2024-06-30T17:39:20.536Z"
   },
   {
    "duration": 104,
    "start_time": "2024-06-30T17:39:20.543Z"
   },
   {
    "duration": 7,
    "start_time": "2024-06-30T17:51:02.248Z"
   },
   {
    "duration": 6,
    "start_time": "2024-06-30T17:51:07.655Z"
   },
   {
    "duration": 72,
    "start_time": "2024-06-30T17:51:25.379Z"
   },
   {
    "duration": 16,
    "start_time": "2024-06-30T17:51:28.715Z"
   },
   {
    "duration": 71,
    "start_time": "2024-06-30T17:52:26.612Z"
   },
   {
    "duration": 7,
    "start_time": "2024-06-30T17:52:30.045Z"
   },
   {
    "duration": 9,
    "start_time": "2024-06-30T17:52:43.890Z"
   },
   {
    "duration": 5,
    "start_time": "2024-06-30T17:52:49.303Z"
   },
   {
    "duration": 11,
    "start_time": "2024-06-30T17:53:48.768Z"
   },
   {
    "duration": 9,
    "start_time": "2024-06-30T17:56:17.538Z"
   },
   {
    "duration": 13,
    "start_time": "2024-06-30T17:56:23.880Z"
   },
   {
    "duration": 21,
    "start_time": "2024-06-30T17:57:03.516Z"
   },
   {
    "duration": 19,
    "start_time": "2024-06-30T17:58:47.306Z"
   },
   {
    "duration": 4,
    "start_time": "2024-06-30T17:59:59.830Z"
   },
   {
    "duration": 6,
    "start_time": "2024-06-30T18:00:18.704Z"
   },
   {
    "duration": 4,
    "start_time": "2024-06-30T18:00:24.996Z"
   },
   {
    "duration": 6,
    "start_time": "2024-06-30T18:02:04.175Z"
   },
   {
    "duration": 4,
    "start_time": "2024-06-30T18:02:32.394Z"
   },
   {
    "duration": 5,
    "start_time": "2024-06-30T18:02:52.055Z"
   },
   {
    "duration": 0,
    "start_time": "2024-06-30T18:04:44.008Z"
   },
   {
    "duration": 4,
    "start_time": "2024-06-30T18:06:01.946Z"
   },
   {
    "duration": 5,
    "start_time": "2024-06-30T18:06:05.993Z"
   },
   {
    "duration": 3,
    "start_time": "2024-06-30T18:06:20.258Z"
   },
   {
    "duration": 3,
    "start_time": "2024-06-30T18:08:25.812Z"
   },
   {
    "duration": 4,
    "start_time": "2024-06-30T18:08:42.113Z"
   },
   {
    "duration": 3,
    "start_time": "2024-06-30T18:08:51.923Z"
   },
   {
    "duration": 4,
    "start_time": "2024-06-30T18:08:52.307Z"
   },
   {
    "duration": 4,
    "start_time": "2024-06-30T18:15:55.994Z"
   },
   {
    "duration": 5,
    "start_time": "2024-06-30T18:16:03.255Z"
   },
   {
    "duration": 5,
    "start_time": "2024-06-30T18:16:27.060Z"
   },
   {
    "duration": 5,
    "start_time": "2024-06-30T18:16:27.604Z"
   },
   {
    "duration": 4,
    "start_time": "2024-06-30T18:16:28.168Z"
   },
   {
    "duration": 32,
    "start_time": "2024-06-30T18:24:38.948Z"
   },
   {
    "duration": 116,
    "start_time": "2024-06-30T18:28:34.812Z"
   },
   {
    "duration": 1053,
    "start_time": "2024-06-30T18:29:20.225Z"
   },
   {
    "duration": 148,
    "start_time": "2024-06-30T18:29:21.280Z"
   },
   {
    "duration": 4,
    "start_time": "2024-06-30T18:29:21.429Z"
   },
   {
    "duration": 133,
    "start_time": "2024-06-30T18:29:21.435Z"
   },
   {
    "duration": 8,
    "start_time": "2024-06-30T18:29:21.570Z"
   },
   {
    "duration": 7,
    "start_time": "2024-06-30T18:29:21.579Z"
   },
   {
    "duration": 109,
    "start_time": "2024-06-30T18:29:21.587Z"
   },
   {
    "duration": 15,
    "start_time": "2024-06-30T18:29:21.698Z"
   },
   {
    "duration": 113,
    "start_time": "2024-06-30T18:29:21.714Z"
   },
   {
    "duration": 83,
    "start_time": "2024-06-30T18:29:21.831Z"
   },
   {
    "duration": 18,
    "start_time": "2024-06-30T18:29:21.915Z"
   },
   {
    "duration": 19,
    "start_time": "2024-06-30T18:29:21.934Z"
   },
   {
    "duration": 3,
    "start_time": "2024-06-30T18:29:21.954Z"
   },
   {
    "duration": 8,
    "start_time": "2024-06-30T18:29:21.959Z"
   },
   {
    "duration": 31,
    "start_time": "2024-06-30T18:29:21.969Z"
   },
   {
    "duration": 17,
    "start_time": "2024-06-30T18:29:22.002Z"
   },
   {
    "duration": 12,
    "start_time": "2024-06-30T18:29:22.021Z"
   },
   {
    "duration": 41,
    "start_time": "2024-06-30T18:29:22.035Z"
   },
   {
    "duration": 17,
    "start_time": "2024-06-30T18:29:22.077Z"
   },
   {
    "duration": 44,
    "start_time": "2024-06-30T18:29:22.096Z"
   },
   {
    "duration": 0,
    "start_time": "2024-06-30T18:29:55.416Z"
   },
   {
    "duration": 0,
    "start_time": "2024-06-30T18:29:55.417Z"
   },
   {
    "duration": 0,
    "start_time": "2024-06-30T18:29:55.418Z"
   },
   {
    "duration": 0,
    "start_time": "2024-06-30T18:29:55.419Z"
   },
   {
    "duration": 0,
    "start_time": "2024-06-30T18:29:55.420Z"
   },
   {
    "duration": 0,
    "start_time": "2024-06-30T18:29:55.421Z"
   },
   {
    "duration": 0,
    "start_time": "2024-06-30T18:29:55.422Z"
   },
   {
    "duration": 0,
    "start_time": "2024-06-30T18:29:55.423Z"
   },
   {
    "duration": 0,
    "start_time": "2024-06-30T18:29:55.423Z"
   },
   {
    "duration": 0,
    "start_time": "2024-06-30T18:29:55.424Z"
   },
   {
    "duration": 0,
    "start_time": "2024-06-30T18:29:55.425Z"
   },
   {
    "duration": 0,
    "start_time": "2024-06-30T18:29:55.426Z"
   },
   {
    "duration": 0,
    "start_time": "2024-06-30T18:29:55.427Z"
   },
   {
    "duration": 0,
    "start_time": "2024-06-30T18:29:55.427Z"
   },
   {
    "duration": 0,
    "start_time": "2024-06-30T18:29:55.428Z"
   },
   {
    "duration": 0,
    "start_time": "2024-06-30T18:29:55.429Z"
   },
   {
    "duration": 0,
    "start_time": "2024-06-30T18:29:55.430Z"
   },
   {
    "duration": 0,
    "start_time": "2024-06-30T18:29:55.431Z"
   },
   {
    "duration": 0,
    "start_time": "2024-06-30T18:29:55.432Z"
   },
   {
    "duration": 0,
    "start_time": "2024-06-30T18:29:55.432Z"
   },
   {
    "duration": 0,
    "start_time": "2024-06-30T18:29:55.433Z"
   },
   {
    "duration": 0,
    "start_time": "2024-06-30T18:29:55.434Z"
   },
   {
    "duration": 0,
    "start_time": "2024-06-30T18:29:55.435Z"
   },
   {
    "duration": 0,
    "start_time": "2024-06-30T18:29:55.436Z"
   },
   {
    "duration": 0,
    "start_time": "2024-06-30T18:29:55.436Z"
   },
   {
    "duration": 0,
    "start_time": "2024-06-30T18:29:55.437Z"
   },
   {
    "duration": 0,
    "start_time": "2024-06-30T18:29:55.438Z"
   },
   {
    "duration": 0,
    "start_time": "2024-06-30T18:29:55.439Z"
   },
   {
    "duration": 0,
    "start_time": "2024-06-30T18:29:55.440Z"
   },
   {
    "duration": 0,
    "start_time": "2024-06-30T18:29:55.441Z"
   },
   {
    "duration": 0,
    "start_time": "2024-06-30T18:29:55.442Z"
   },
   {
    "duration": 0,
    "start_time": "2024-06-30T18:29:55.442Z"
   },
   {
    "duration": 0,
    "start_time": "2024-06-30T18:29:55.443Z"
   },
   {
    "duration": 0,
    "start_time": "2024-06-30T18:29:55.444Z"
   },
   {
    "duration": 0,
    "start_time": "2024-06-30T18:29:55.445Z"
   },
   {
    "duration": 0,
    "start_time": "2024-06-30T18:29:55.446Z"
   },
   {
    "duration": 0,
    "start_time": "2024-06-30T18:29:55.446Z"
   },
   {
    "duration": 0,
    "start_time": "2024-06-30T18:29:55.447Z"
   },
   {
    "duration": 1157,
    "start_time": "2024-06-30T18:30:16.531Z"
   },
   {
    "duration": 151,
    "start_time": "2024-06-30T18:30:17.690Z"
   },
   {
    "duration": 4,
    "start_time": "2024-06-30T18:30:17.843Z"
   },
   {
    "duration": 145,
    "start_time": "2024-06-30T18:30:17.849Z"
   },
   {
    "duration": 16,
    "start_time": "2024-06-30T18:30:17.996Z"
   },
   {
    "duration": 7,
    "start_time": "2024-06-30T18:30:18.013Z"
   },
   {
    "duration": 103,
    "start_time": "2024-06-30T18:30:18.021Z"
   },
   {
    "duration": 8,
    "start_time": "2024-06-30T18:30:18.126Z"
   },
   {
    "duration": 108,
    "start_time": "2024-06-30T18:30:18.136Z"
   },
   {
    "duration": 80,
    "start_time": "2024-06-30T18:30:18.246Z"
   },
   {
    "duration": 17,
    "start_time": "2024-06-30T18:30:18.328Z"
   },
   {
    "duration": 18,
    "start_time": "2024-06-30T18:30:18.346Z"
   },
   {
    "duration": 2,
    "start_time": "2024-06-30T18:30:18.366Z"
   },
   {
    "duration": 14,
    "start_time": "2024-06-30T18:30:18.370Z"
   },
   {
    "duration": 5,
    "start_time": "2024-06-30T18:30:18.386Z"
   },
   {
    "duration": 20,
    "start_time": "2024-06-30T18:30:18.392Z"
   },
   {
    "duration": 7,
    "start_time": "2024-06-30T18:30:18.414Z"
   },
   {
    "duration": 29,
    "start_time": "2024-06-30T18:30:18.423Z"
   },
   {
    "duration": 11,
    "start_time": "2024-06-30T18:30:18.454Z"
   },
   {
    "duration": 30,
    "start_time": "2024-06-30T18:30:18.467Z"
   },
   {
    "duration": 178,
    "start_time": "2024-06-30T18:30:18.499Z"
   },
   {
    "duration": 0,
    "start_time": "2024-06-30T18:30:18.679Z"
   },
   {
    "duration": 0,
    "start_time": "2024-06-30T18:30:18.681Z"
   },
   {
    "duration": 0,
    "start_time": "2024-06-30T18:30:18.682Z"
   },
   {
    "duration": 0,
    "start_time": "2024-06-30T18:30:18.683Z"
   },
   {
    "duration": 0,
    "start_time": "2024-06-30T18:30:18.684Z"
   },
   {
    "duration": 0,
    "start_time": "2024-06-30T18:30:18.686Z"
   },
   {
    "duration": 0,
    "start_time": "2024-06-30T18:30:18.687Z"
   },
   {
    "duration": 0,
    "start_time": "2024-06-30T18:30:18.688Z"
   },
   {
    "duration": 0,
    "start_time": "2024-06-30T18:30:18.689Z"
   },
   {
    "duration": 0,
    "start_time": "2024-06-30T18:30:18.690Z"
   },
   {
    "duration": 0,
    "start_time": "2024-06-30T18:30:18.712Z"
   },
   {
    "duration": 0,
    "start_time": "2024-06-30T18:30:18.713Z"
   },
   {
    "duration": 0,
    "start_time": "2024-06-30T18:30:18.714Z"
   },
   {
    "duration": 0,
    "start_time": "2024-06-30T18:30:18.716Z"
   },
   {
    "duration": 0,
    "start_time": "2024-06-30T18:30:18.717Z"
   },
   {
    "duration": 0,
    "start_time": "2024-06-30T18:30:18.718Z"
   },
   {
    "duration": 0,
    "start_time": "2024-06-30T18:30:18.719Z"
   },
   {
    "duration": 0,
    "start_time": "2024-06-30T18:30:18.720Z"
   },
   {
    "duration": 0,
    "start_time": "2024-06-30T18:30:18.721Z"
   },
   {
    "duration": 0,
    "start_time": "2024-06-30T18:30:18.723Z"
   },
   {
    "duration": 0,
    "start_time": "2024-06-30T18:30:18.724Z"
   },
   {
    "duration": 0,
    "start_time": "2024-06-30T18:30:18.725Z"
   },
   {
    "duration": 0,
    "start_time": "2024-06-30T18:30:18.726Z"
   },
   {
    "duration": 0,
    "start_time": "2024-06-30T18:30:18.727Z"
   },
   {
    "duration": 0,
    "start_time": "2024-06-30T18:30:18.728Z"
   },
   {
    "duration": 0,
    "start_time": "2024-06-30T18:30:18.729Z"
   },
   {
    "duration": 0,
    "start_time": "2024-06-30T18:30:18.730Z"
   },
   {
    "duration": 0,
    "start_time": "2024-06-30T18:30:18.732Z"
   },
   {
    "duration": 0,
    "start_time": "2024-06-30T18:30:18.733Z"
   },
   {
    "duration": 0,
    "start_time": "2024-06-30T18:30:18.734Z"
   },
   {
    "duration": 0,
    "start_time": "2024-06-30T18:30:18.736Z"
   },
   {
    "duration": 0,
    "start_time": "2024-06-30T18:30:18.737Z"
   },
   {
    "duration": 0,
    "start_time": "2024-06-30T18:30:18.738Z"
   },
   {
    "duration": 0,
    "start_time": "2024-06-30T18:30:18.739Z"
   },
   {
    "duration": 0,
    "start_time": "2024-06-30T18:30:18.740Z"
   },
   {
    "duration": 0,
    "start_time": "2024-06-30T18:30:18.741Z"
   },
   {
    "duration": 0,
    "start_time": "2024-06-30T18:30:18.742Z"
   },
   {
    "duration": 112,
    "start_time": "2024-06-30T18:30:50.758Z"
   },
   {
    "duration": 104,
    "start_time": "2024-06-30T18:31:28.329Z"
   },
   {
    "duration": 97,
    "start_time": "2024-06-30T18:32:06.933Z"
   },
   {
    "duration": 34,
    "start_time": "2024-06-30T18:33:28.481Z"
   },
   {
    "duration": 1436,
    "start_time": "2024-07-01T03:46:13.743Z"
   },
   {
    "duration": 326,
    "start_time": "2024-07-01T03:46:15.181Z"
   },
   {
    "duration": 5,
    "start_time": "2024-07-01T03:46:15.508Z"
   },
   {
    "duration": 153,
    "start_time": "2024-07-01T03:46:15.515Z"
   },
   {
    "duration": 13,
    "start_time": "2024-07-01T03:46:15.669Z"
   },
   {
    "duration": 10,
    "start_time": "2024-07-01T03:46:15.683Z"
   },
   {
    "duration": 163,
    "start_time": "2024-07-01T03:46:15.694Z"
   },
   {
    "duration": 9,
    "start_time": "2024-07-01T03:46:15.859Z"
   },
   {
    "duration": 122,
    "start_time": "2024-07-01T03:46:15.870Z"
   },
   {
    "duration": 92,
    "start_time": "2024-07-01T03:46:15.996Z"
   },
   {
    "duration": 21,
    "start_time": "2024-07-01T03:46:16.089Z"
   },
   {
    "duration": 20,
    "start_time": "2024-07-01T03:46:16.112Z"
   },
   {
    "duration": 3,
    "start_time": "2024-07-01T03:46:16.133Z"
   },
   {
    "duration": 6,
    "start_time": "2024-07-01T03:46:16.138Z"
   },
   {
    "duration": 4,
    "start_time": "2024-07-01T03:46:16.146Z"
   },
   {
    "duration": 31,
    "start_time": "2024-07-01T03:46:16.152Z"
   },
   {
    "duration": 9,
    "start_time": "2024-07-01T03:46:16.185Z"
   },
   {
    "duration": 39,
    "start_time": "2024-07-01T03:46:16.196Z"
   },
   {
    "duration": 36,
    "start_time": "2024-07-01T03:46:16.236Z"
   },
   {
    "duration": 38,
    "start_time": "2024-07-01T03:46:16.273Z"
   },
   {
    "duration": 126,
    "start_time": "2024-07-01T03:46:16.313Z"
   },
   {
    "duration": 0,
    "start_time": "2024-07-01T03:46:16.441Z"
   },
   {
    "duration": 0,
    "start_time": "2024-07-01T03:46:16.443Z"
   },
   {
    "duration": 0,
    "start_time": "2024-07-01T03:46:16.444Z"
   },
   {
    "duration": 0,
    "start_time": "2024-07-01T03:46:16.444Z"
   },
   {
    "duration": 0,
    "start_time": "2024-07-01T03:46:16.446Z"
   },
   {
    "duration": 0,
    "start_time": "2024-07-01T03:46:16.447Z"
   },
   {
    "duration": 0,
    "start_time": "2024-07-01T03:46:16.448Z"
   },
   {
    "duration": 0,
    "start_time": "2024-07-01T03:46:16.449Z"
   },
   {
    "duration": 0,
    "start_time": "2024-07-01T03:46:16.450Z"
   },
   {
    "duration": 0,
    "start_time": "2024-07-01T03:46:16.451Z"
   },
   {
    "duration": 0,
    "start_time": "2024-07-01T03:46:16.452Z"
   },
   {
    "duration": 0,
    "start_time": "2024-07-01T03:46:16.454Z"
   },
   {
    "duration": 0,
    "start_time": "2024-07-01T03:46:16.455Z"
   },
   {
    "duration": 0,
    "start_time": "2024-07-01T03:46:16.456Z"
   },
   {
    "duration": 0,
    "start_time": "2024-07-01T03:46:16.457Z"
   },
   {
    "duration": 0,
    "start_time": "2024-07-01T03:46:16.482Z"
   },
   {
    "duration": 0,
    "start_time": "2024-07-01T03:46:16.485Z"
   },
   {
    "duration": 0,
    "start_time": "2024-07-01T03:46:16.486Z"
   },
   {
    "duration": 0,
    "start_time": "2024-07-01T03:46:16.487Z"
   },
   {
    "duration": 0,
    "start_time": "2024-07-01T03:46:16.488Z"
   },
   {
    "duration": 0,
    "start_time": "2024-07-01T03:46:16.489Z"
   },
   {
    "duration": 0,
    "start_time": "2024-07-01T03:46:16.490Z"
   },
   {
    "duration": 0,
    "start_time": "2024-07-01T03:46:16.491Z"
   },
   {
    "duration": 0,
    "start_time": "2024-07-01T03:46:16.492Z"
   },
   {
    "duration": 0,
    "start_time": "2024-07-01T03:46:16.493Z"
   },
   {
    "duration": 0,
    "start_time": "2024-07-01T03:46:16.494Z"
   },
   {
    "duration": 0,
    "start_time": "2024-07-01T03:46:16.495Z"
   },
   {
    "duration": 0,
    "start_time": "2024-07-01T03:46:16.496Z"
   },
   {
    "duration": 0,
    "start_time": "2024-07-01T03:46:16.497Z"
   },
   {
    "duration": 0,
    "start_time": "2024-07-01T03:46:16.498Z"
   },
   {
    "duration": 0,
    "start_time": "2024-07-01T03:46:16.499Z"
   },
   {
    "duration": 0,
    "start_time": "2024-07-01T03:46:16.500Z"
   },
   {
    "duration": 0,
    "start_time": "2024-07-01T03:46:16.501Z"
   },
   {
    "duration": 0,
    "start_time": "2024-07-01T03:46:16.502Z"
   },
   {
    "duration": 0,
    "start_time": "2024-07-01T03:46:16.503Z"
   },
   {
    "duration": 0,
    "start_time": "2024-07-01T03:46:16.505Z"
   },
   {
    "duration": 0,
    "start_time": "2024-07-01T03:46:16.505Z"
   },
   {
    "duration": 0,
    "start_time": "2024-07-01T03:46:16.506Z"
   },
   {
    "duration": 1191,
    "start_time": "2024-07-01T03:47:04.337Z"
   },
   {
    "duration": 188,
    "start_time": "2024-07-01T03:47:05.530Z"
   },
   {
    "duration": 4,
    "start_time": "2024-07-01T03:47:05.719Z"
   },
   {
    "duration": 158,
    "start_time": "2024-07-01T03:47:05.725Z"
   },
   {
    "duration": 10,
    "start_time": "2024-07-01T03:47:05.884Z"
   },
   {
    "duration": 9,
    "start_time": "2024-07-01T03:47:05.896Z"
   },
   {
    "duration": 148,
    "start_time": "2024-07-01T03:47:05.907Z"
   },
   {
    "duration": 9,
    "start_time": "2024-07-01T03:47:06.057Z"
   },
   {
    "duration": 127,
    "start_time": "2024-07-01T03:47:06.068Z"
   },
   {
    "duration": 94,
    "start_time": "2024-07-01T03:47:06.197Z"
   },
   {
    "duration": 24,
    "start_time": "2024-07-01T03:47:06.292Z"
   },
   {
    "duration": 20,
    "start_time": "2024-07-01T03:47:06.318Z"
   },
   {
    "duration": 3,
    "start_time": "2024-07-01T03:47:06.340Z"
   },
   {
    "duration": 7,
    "start_time": "2024-07-01T03:47:06.344Z"
   },
   {
    "duration": 30,
    "start_time": "2024-07-01T03:47:06.353Z"
   },
   {
    "duration": 6,
    "start_time": "2024-07-01T03:47:06.385Z"
   },
   {
    "duration": 11,
    "start_time": "2024-07-01T03:47:06.393Z"
   },
   {
    "duration": 37,
    "start_time": "2024-07-01T03:47:06.406Z"
   },
   {
    "duration": 40,
    "start_time": "2024-07-01T03:47:06.444Z"
   },
   {
    "duration": 41,
    "start_time": "2024-07-01T03:47:06.486Z"
   },
   {
    "duration": 14,
    "start_time": "2024-07-01T03:47:06.529Z"
   },
   {
    "duration": 24,
    "start_time": "2024-07-01T03:47:06.545Z"
   },
   {
    "duration": 19,
    "start_time": "2024-07-01T03:47:06.570Z"
   },
   {
    "duration": 9,
    "start_time": "2024-07-01T03:47:06.591Z"
   },
   {
    "duration": 8,
    "start_time": "2024-07-01T03:47:06.601Z"
   },
   {
    "duration": 7,
    "start_time": "2024-07-01T03:47:06.611Z"
   },
   {
    "duration": 6,
    "start_time": "2024-07-01T03:47:06.620Z"
   },
   {
    "duration": 74,
    "start_time": "2024-07-01T03:47:06.630Z"
   },
   {
    "duration": 10,
    "start_time": "2024-07-01T03:47:06.706Z"
   },
   {
    "duration": 446,
    "start_time": "2024-07-01T03:47:06.718Z"
   },
   {
    "duration": 21,
    "start_time": "2024-07-01T03:47:07.165Z"
   },
   {
    "duration": 16,
    "start_time": "2024-07-01T03:47:07.188Z"
   },
   {
    "duration": 5,
    "start_time": "2024-07-01T03:47:07.205Z"
   },
   {
    "duration": 38,
    "start_time": "2024-07-01T03:47:07.211Z"
   },
   {
    "duration": 45,
    "start_time": "2024-07-01T03:47:07.251Z"
   },
   {
    "duration": 40,
    "start_time": "2024-07-01T03:47:07.297Z"
   },
   {
    "duration": 11,
    "start_time": "2024-07-01T03:47:07.338Z"
   },
   {
    "duration": 61,
    "start_time": "2024-07-01T03:47:07.350Z"
   },
   {
    "duration": 182,
    "start_time": "2024-07-01T03:47:07.413Z"
   },
   {
    "duration": 4,
    "start_time": "2024-07-01T03:47:07.597Z"
   },
   {
    "duration": 16,
    "start_time": "2024-07-01T03:47:07.602Z"
   },
   {
    "duration": 63,
    "start_time": "2024-07-01T03:47:07.620Z"
   },
   {
    "duration": 8,
    "start_time": "2024-07-01T03:47:07.685Z"
   },
   {
    "duration": 16,
    "start_time": "2024-07-01T03:47:07.695Z"
   },
   {
    "duration": 88,
    "start_time": "2024-07-01T03:47:07.713Z"
   },
   {
    "duration": 9,
    "start_time": "2024-07-01T03:47:07.803Z"
   },
   {
    "duration": 7,
    "start_time": "2024-07-01T03:47:07.814Z"
   },
   {
    "duration": 36,
    "start_time": "2024-07-01T03:47:07.823Z"
   },
   {
    "duration": 47,
    "start_time": "2024-07-01T03:47:07.860Z"
   },
   {
    "duration": 43,
    "start_time": "2024-07-01T03:47:07.909Z"
   },
   {
    "duration": 7,
    "start_time": "2024-07-01T03:47:07.954Z"
   },
   {
    "duration": 72,
    "start_time": "2024-07-01T03:47:07.983Z"
   },
   {
    "duration": 90,
    "start_time": "2024-07-01T03:47:08.057Z"
   },
   {
    "duration": 87,
    "start_time": "2024-07-01T03:47:08.149Z"
   },
   {
    "duration": 13,
    "start_time": "2024-07-01T03:47:08.238Z"
   },
   {
    "duration": 4,
    "start_time": "2024-07-01T03:47:08.254Z"
   },
   {
    "duration": 140,
    "start_time": "2024-07-01T03:47:08.260Z"
   },
   {
    "duration": 3650,
    "start_time": "2024-07-01T03:47:41.891Z"
   },
   {
    "duration": 281,
    "start_time": "2024-07-01T03:48:36.782Z"
   },
   {
    "duration": 126,
    "start_time": "2024-07-01T03:48:52.322Z"
   },
   {
    "duration": 1049,
    "start_time": "2024-07-01T03:49:37.251Z"
   },
   {
    "duration": 31,
    "start_time": "2024-07-01T03:53:02.133Z"
   },
   {
    "duration": 54,
    "start_time": "2024-07-01T03:53:54.431Z"
   },
   {
    "duration": 60,
    "start_time": "2024-07-01T03:56:00.770Z"
   },
   {
    "duration": 60,
    "start_time": "2024-07-01T03:56:49.445Z"
   },
   {
    "duration": 60,
    "start_time": "2024-07-01T03:57:50.939Z"
   },
   {
    "duration": 19,
    "start_time": "2024-07-01T03:58:31.667Z"
   },
   {
    "duration": 18,
    "start_time": "2024-07-01T03:58:41.482Z"
   },
   {
    "duration": 58,
    "start_time": "2024-07-01T03:59:03.435Z"
   },
   {
    "duration": 42,
    "start_time": "2024-07-01T03:59:12.164Z"
   },
   {
    "duration": 42,
    "start_time": "2024-07-01T03:59:30.519Z"
   },
   {
    "duration": 834,
    "start_time": "2024-07-01T04:00:18.848Z"
   },
   {
    "duration": 9,
    "start_time": "2024-07-01T04:01:21.360Z"
   },
   {
    "duration": 9,
    "start_time": "2024-07-01T04:01:31.426Z"
   },
   {
    "duration": 10,
    "start_time": "2024-07-01T04:02:02.955Z"
   },
   {
    "duration": 10,
    "start_time": "2024-07-01T04:03:57.328Z"
   },
   {
    "duration": 1206,
    "start_time": "2024-07-01T04:04:03.223Z"
   },
   {
    "duration": 193,
    "start_time": "2024-07-01T04:04:04.431Z"
   },
   {
    "duration": 4,
    "start_time": "2024-07-01T04:04:04.626Z"
   },
   {
    "duration": 157,
    "start_time": "2024-07-01T04:04:04.632Z"
   },
   {
    "duration": 9,
    "start_time": "2024-07-01T04:04:04.791Z"
   },
   {
    "duration": 7,
    "start_time": "2024-07-01T04:04:04.802Z"
   },
   {
    "duration": 138,
    "start_time": "2024-07-01T04:04:04.811Z"
   },
   {
    "duration": 9,
    "start_time": "2024-07-01T04:04:04.951Z"
   },
   {
    "duration": 133,
    "start_time": "2024-07-01T04:04:04.962Z"
   },
   {
    "duration": 92,
    "start_time": "2024-07-01T04:04:05.097Z"
   },
   {
    "duration": 22,
    "start_time": "2024-07-01T04:04:05.190Z"
   },
   {
    "duration": 20,
    "start_time": "2024-07-01T04:04:05.214Z"
   },
   {
    "duration": 3,
    "start_time": "2024-07-01T04:04:05.235Z"
   },
   {
    "duration": 22,
    "start_time": "2024-07-01T04:04:05.240Z"
   },
   {
    "duration": 18,
    "start_time": "2024-07-01T04:04:05.264Z"
   },
   {
    "duration": 6,
    "start_time": "2024-07-01T04:04:05.284Z"
   },
   {
    "duration": 13,
    "start_time": "2024-07-01T04:04:05.291Z"
   },
   {
    "duration": 42,
    "start_time": "2024-07-01T04:04:05.306Z"
   },
   {
    "duration": 883,
    "start_time": "2024-07-01T04:04:05.349Z"
   },
   {
    "duration": 8,
    "start_time": "2024-07-01T04:04:06.234Z"
   },
   {
    "duration": 38,
    "start_time": "2024-07-01T04:04:06.244Z"
   },
   {
    "duration": 7,
    "start_time": "2024-07-01T04:04:06.283Z"
   },
   {
    "duration": 1091,
    "start_time": "2024-07-01T04:04:06.291Z"
   },
   {
    "duration": 0,
    "start_time": "2024-07-01T04:04:07.385Z"
   },
   {
    "duration": 0,
    "start_time": "2024-07-01T04:04:07.387Z"
   },
   {
    "duration": 0,
    "start_time": "2024-07-01T04:04:07.388Z"
   },
   {
    "duration": 0,
    "start_time": "2024-07-01T04:04:07.389Z"
   },
   {
    "duration": 0,
    "start_time": "2024-07-01T04:04:07.390Z"
   },
   {
    "duration": 0,
    "start_time": "2024-07-01T04:04:07.391Z"
   },
   {
    "duration": 0,
    "start_time": "2024-07-01T04:04:07.393Z"
   },
   {
    "duration": 0,
    "start_time": "2024-07-01T04:04:07.393Z"
   },
   {
    "duration": 1,
    "start_time": "2024-07-01T04:04:07.394Z"
   },
   {
    "duration": 1,
    "start_time": "2024-07-01T04:04:07.395Z"
   },
   {
    "duration": 0,
    "start_time": "2024-07-01T04:04:07.397Z"
   },
   {
    "duration": 0,
    "start_time": "2024-07-01T04:04:07.398Z"
   },
   {
    "duration": 0,
    "start_time": "2024-07-01T04:04:07.399Z"
   },
   {
    "duration": 0,
    "start_time": "2024-07-01T04:04:07.400Z"
   },
   {
    "duration": 0,
    "start_time": "2024-07-01T04:04:07.401Z"
   },
   {
    "duration": 0,
    "start_time": "2024-07-01T04:04:07.402Z"
   },
   {
    "duration": 0,
    "start_time": "2024-07-01T04:04:07.403Z"
   },
   {
    "duration": 0,
    "start_time": "2024-07-01T04:04:07.404Z"
   },
   {
    "duration": 0,
    "start_time": "2024-07-01T04:04:07.406Z"
   },
   {
    "duration": 0,
    "start_time": "2024-07-01T04:04:07.407Z"
   },
   {
    "duration": 0,
    "start_time": "2024-07-01T04:04:07.408Z"
   },
   {
    "duration": 0,
    "start_time": "2024-07-01T04:04:07.410Z"
   },
   {
    "duration": 0,
    "start_time": "2024-07-01T04:04:07.411Z"
   },
   {
    "duration": 1,
    "start_time": "2024-07-01T04:04:07.412Z"
   },
   {
    "duration": 0,
    "start_time": "2024-07-01T04:04:07.414Z"
   },
   {
    "duration": 0,
    "start_time": "2024-07-01T04:04:07.416Z"
   },
   {
    "duration": 0,
    "start_time": "2024-07-01T04:04:07.417Z"
   },
   {
    "duration": 0,
    "start_time": "2024-07-01T04:04:07.418Z"
   },
   {
    "duration": 0,
    "start_time": "2024-07-01T04:04:07.420Z"
   },
   {
    "duration": 0,
    "start_time": "2024-07-01T04:04:07.421Z"
   },
   {
    "duration": 0,
    "start_time": "2024-07-01T04:04:07.423Z"
   },
   {
    "duration": 0,
    "start_time": "2024-07-01T04:04:07.482Z"
   },
   {
    "duration": 0,
    "start_time": "2024-07-01T04:04:07.483Z"
   },
   {
    "duration": 0,
    "start_time": "2024-07-01T04:04:07.484Z"
   },
   {
    "duration": 0,
    "start_time": "2024-07-01T04:04:07.485Z"
   },
   {
    "duration": 5,
    "start_time": "2024-07-01T04:05:43.438Z"
   },
   {
    "duration": 5,
    "start_time": "2024-07-01T04:05:52.273Z"
   },
   {
    "duration": 5,
    "start_time": "2024-07-01T04:06:15.911Z"
   },
   {
    "duration": 4,
    "start_time": "2024-07-01T04:06:36.071Z"
   },
   {
    "duration": 7,
    "start_time": "2024-07-01T04:07:34.749Z"
   },
   {
    "duration": 5,
    "start_time": "2024-07-01T04:08:23.499Z"
   },
   {
    "duration": 1205,
    "start_time": "2024-07-01T04:12:05.020Z"
   },
   {
    "duration": 184,
    "start_time": "2024-07-01T04:12:06.226Z"
   },
   {
    "duration": 5,
    "start_time": "2024-07-01T04:12:06.411Z"
   },
   {
    "duration": 156,
    "start_time": "2024-07-01T04:12:06.418Z"
   },
   {
    "duration": 12,
    "start_time": "2024-07-01T04:12:06.575Z"
   },
   {
    "duration": 18,
    "start_time": "2024-07-01T04:12:06.588Z"
   },
   {
    "duration": 136,
    "start_time": "2024-07-01T04:12:06.607Z"
   },
   {
    "duration": 10,
    "start_time": "2024-07-01T04:12:06.746Z"
   },
   {
    "duration": 112,
    "start_time": "2024-07-01T04:12:06.757Z"
   },
   {
    "duration": 84,
    "start_time": "2024-07-01T04:12:06.872Z"
   },
   {
    "duration": 32,
    "start_time": "2024-07-01T04:12:06.958Z"
   },
   {
    "duration": 19,
    "start_time": "2024-07-01T04:12:06.992Z"
   },
   {
    "duration": 5,
    "start_time": "2024-07-01T04:12:07.013Z"
   },
   {
    "duration": 11,
    "start_time": "2024-07-01T04:12:07.019Z"
   },
   {
    "duration": 8,
    "start_time": "2024-07-01T04:12:07.032Z"
   },
   {
    "duration": 6,
    "start_time": "2024-07-01T04:12:07.041Z"
   },
   {
    "duration": 11,
    "start_time": "2024-07-01T04:12:07.048Z"
   },
   {
    "duration": 44,
    "start_time": "2024-07-01T04:12:07.083Z"
   },
   {
    "duration": 867,
    "start_time": "2024-07-01T04:12:07.129Z"
   },
   {
    "duration": 8,
    "start_time": "2024-07-01T04:12:07.998Z"
   },
   {
    "duration": 36,
    "start_time": "2024-07-01T04:12:08.008Z"
   },
   {
    "duration": 6,
    "start_time": "2024-07-01T04:12:08.046Z"
   },
   {
    "duration": 18,
    "start_time": "2024-07-01T04:12:08.054Z"
   },
   {
    "duration": 14,
    "start_time": "2024-07-01T04:12:08.074Z"
   },
   {
    "duration": 22,
    "start_time": "2024-07-01T04:12:08.090Z"
   },
   {
    "duration": 11,
    "start_time": "2024-07-01T04:12:08.114Z"
   },
   {
    "duration": 52,
    "start_time": "2024-07-01T04:12:08.126Z"
   },
   {
    "duration": 8,
    "start_time": "2024-07-01T04:12:08.181Z"
   },
   {
    "duration": 497,
    "start_time": "2024-07-01T04:12:08.190Z"
   },
   {
    "duration": 13,
    "start_time": "2024-07-01T04:12:08.688Z"
   },
   {
    "duration": 14,
    "start_time": "2024-07-01T04:12:08.703Z"
   },
   {
    "duration": 4,
    "start_time": "2024-07-01T04:12:08.719Z"
   },
   {
    "duration": 88,
    "start_time": "2024-07-01T04:12:08.725Z"
   },
   {
    "duration": 75,
    "start_time": "2024-07-01T04:12:08.815Z"
   },
   {
    "duration": 11,
    "start_time": "2024-07-01T04:12:08.891Z"
   },
   {
    "duration": 5,
    "start_time": "2024-07-01T04:12:08.904Z"
   },
   {
    "duration": 93,
    "start_time": "2024-07-01T04:12:08.911Z"
   },
   {
    "duration": 158,
    "start_time": "2024-07-01T04:12:09.006Z"
   },
   {
    "duration": 4,
    "start_time": "2024-07-01T04:12:09.166Z"
   },
   {
    "duration": 11,
    "start_time": "2024-07-01T04:12:09.172Z"
   },
   {
    "duration": 11,
    "start_time": "2024-07-01T04:12:09.184Z"
   },
   {
    "duration": 10,
    "start_time": "2024-07-01T04:12:09.196Z"
   },
   {
    "duration": 18,
    "start_time": "2024-07-01T04:12:09.208Z"
   },
   {
    "duration": 89,
    "start_time": "2024-07-01T04:12:09.227Z"
   },
   {
    "duration": 9,
    "start_time": "2024-07-01T04:12:09.317Z"
   },
   {
    "duration": 52,
    "start_time": "2024-07-01T04:12:09.327Z"
   },
   {
    "duration": 50,
    "start_time": "2024-07-01T04:12:09.380Z"
   },
   {
    "duration": 26,
    "start_time": "2024-07-01T04:12:09.432Z"
   },
   {
    "duration": 46,
    "start_time": "2024-07-01T04:12:09.460Z"
   },
   {
    "duration": 6,
    "start_time": "2024-07-01T04:12:09.508Z"
   },
   {
    "duration": 86,
    "start_time": "2024-07-01T04:12:09.516Z"
   },
   {
    "duration": 84,
    "start_time": "2024-07-01T04:12:09.603Z"
   },
   {
    "duration": 71,
    "start_time": "2024-07-01T04:12:09.689Z"
   },
   {
    "duration": 28,
    "start_time": "2024-07-01T04:12:09.762Z"
   },
   {
    "duration": 4,
    "start_time": "2024-07-01T04:12:09.792Z"
   },
   {
    "duration": 139,
    "start_time": "2024-07-01T04:12:09.797Z"
   },
   {
    "duration": 64,
    "start_time": "2024-07-01T04:14:20.238Z"
   },
   {
    "duration": 65,
    "start_time": "2024-07-01T04:14:23.372Z"
   },
   {
    "duration": 12,
    "start_time": "2024-07-01T04:14:33.257Z"
   },
   {
    "duration": 17,
    "start_time": "2024-07-01T04:18:42.464Z"
   },
   {
    "duration": 93,
    "start_time": "2024-07-01T04:19:46.073Z"
   },
   {
    "duration": 1072,
    "start_time": "2024-07-01T04:20:26.573Z"
   },
   {
    "duration": 13,
    "start_time": "2024-07-01T04:20:35.397Z"
   },
   {
    "duration": 12,
    "start_time": "2024-07-01T04:20:58.306Z"
   },
   {
    "duration": 8,
    "start_time": "2024-07-01T04:21:25.341Z"
   },
   {
    "duration": 13,
    "start_time": "2024-07-01T04:21:55.566Z"
   },
   {
    "duration": 13,
    "start_time": "2024-07-01T04:22:10.901Z"
   },
   {
    "duration": 20,
    "start_time": "2024-07-01T04:22:55.872Z"
   },
   {
    "duration": 13,
    "start_time": "2024-07-01T04:23:03.858Z"
   },
   {
    "duration": 13,
    "start_time": "2024-07-01T04:23:07.673Z"
   },
   {
    "duration": 14,
    "start_time": "2024-07-01T04:24:39.709Z"
   },
   {
    "duration": 15,
    "start_time": "2024-07-01T04:25:32.969Z"
   },
   {
    "duration": 15,
    "start_time": "2024-07-01T04:27:28.263Z"
   },
   {
    "duration": 15,
    "start_time": "2024-07-01T04:27:54.199Z"
   },
   {
    "duration": 16,
    "start_time": "2024-07-01T04:28:16.354Z"
   },
   {
    "duration": 15,
    "start_time": "2024-07-01T04:28:45.362Z"
   },
   {
    "duration": 16,
    "start_time": "2024-07-01T04:28:48.858Z"
   },
   {
    "duration": 16,
    "start_time": "2024-07-01T04:29:30.145Z"
   },
   {
    "duration": 15,
    "start_time": "2024-07-01T04:29:42.342Z"
   },
   {
    "duration": 1241,
    "start_time": "2024-07-01T05:33:19.783Z"
   },
   {
    "duration": 196,
    "start_time": "2024-07-01T05:33:21.026Z"
   },
   {
    "duration": 6,
    "start_time": "2024-07-01T05:33:21.224Z"
   },
   {
    "duration": 157,
    "start_time": "2024-07-01T05:33:21.232Z"
   },
   {
    "duration": 11,
    "start_time": "2024-07-01T05:33:21.391Z"
   },
   {
    "duration": 12,
    "start_time": "2024-07-01T05:33:21.403Z"
   },
   {
    "duration": 139,
    "start_time": "2024-07-01T05:33:21.417Z"
   },
   {
    "duration": 9,
    "start_time": "2024-07-01T05:33:21.558Z"
   },
   {
    "duration": 105,
    "start_time": "2024-07-01T05:33:21.581Z"
   },
   {
    "duration": 95,
    "start_time": "2024-07-01T05:33:21.689Z"
   },
   {
    "duration": 23,
    "start_time": "2024-07-01T05:33:21.786Z"
   },
   {
    "duration": 50,
    "start_time": "2024-07-01T05:33:21.810Z"
   },
   {
    "duration": 4,
    "start_time": "2024-07-01T05:33:21.862Z"
   },
   {
    "duration": 9,
    "start_time": "2024-07-01T05:33:21.868Z"
   },
   {
    "duration": 6,
    "start_time": "2024-07-01T05:33:21.879Z"
   },
   {
    "duration": 7,
    "start_time": "2024-07-01T05:33:21.887Z"
   },
   {
    "duration": 17,
    "start_time": "2024-07-01T05:33:21.896Z"
   },
   {
    "duration": 45,
    "start_time": "2024-07-01T05:33:21.915Z"
   },
   {
    "duration": 887,
    "start_time": "2024-07-01T05:33:21.962Z"
   },
   {
    "duration": 7,
    "start_time": "2024-07-01T05:33:22.851Z"
   },
   {
    "duration": 35,
    "start_time": "2024-07-01T05:33:22.860Z"
   },
   {
    "duration": 7,
    "start_time": "2024-07-01T05:33:22.896Z"
   },
   {
    "duration": 9,
    "start_time": "2024-07-01T05:33:22.904Z"
   },
   {
    "duration": 11,
    "start_time": "2024-07-01T05:33:22.914Z"
   },
   {
    "duration": 7,
    "start_time": "2024-07-01T05:33:22.926Z"
   },
   {
    "duration": 14,
    "start_time": "2024-07-01T05:33:22.934Z"
   },
   {
    "duration": 60,
    "start_time": "2024-07-01T05:33:22.949Z"
   },
   {
    "duration": 7,
    "start_time": "2024-07-01T05:33:23.013Z"
   },
   {
    "duration": 446,
    "start_time": "2024-07-01T05:33:23.022Z"
   },
   {
    "duration": 23,
    "start_time": "2024-07-01T05:33:23.470Z"
   },
   {
    "duration": 13,
    "start_time": "2024-07-01T05:33:23.495Z"
   },
   {
    "duration": 37,
    "start_time": "2024-07-01T05:33:23.510Z"
   },
   {
    "duration": 57,
    "start_time": "2024-07-01T05:33:23.549Z"
   },
   {
    "duration": 32,
    "start_time": "2024-07-01T05:33:23.608Z"
   },
   {
    "duration": 84,
    "start_time": "2024-07-01T05:33:23.642Z"
   },
   {
    "duration": 14,
    "start_time": "2024-07-01T05:33:23.729Z"
   },
   {
    "duration": 72,
    "start_time": "2024-07-01T05:33:23.745Z"
   },
   {
    "duration": 194,
    "start_time": "2024-07-01T05:33:23.818Z"
   },
   {
    "duration": 3,
    "start_time": "2024-07-01T05:33:24.015Z"
   },
   {
    "duration": 23,
    "start_time": "2024-07-01T05:33:24.020Z"
   },
   {
    "duration": 12,
    "start_time": "2024-07-01T05:33:24.045Z"
   },
   {
    "duration": 24,
    "start_time": "2024-07-01T05:33:24.059Z"
   },
   {
    "duration": 31,
    "start_time": "2024-07-01T05:33:24.084Z"
   },
   {
    "duration": 75,
    "start_time": "2024-07-01T05:33:24.117Z"
   },
   {
    "duration": 10,
    "start_time": "2024-07-01T05:33:24.193Z"
   },
   {
    "duration": 17,
    "start_time": "2024-07-01T05:33:24.204Z"
   },
   {
    "duration": 38,
    "start_time": "2024-07-01T05:33:24.222Z"
   },
   {
    "duration": 32,
    "start_time": "2024-07-01T05:33:24.261Z"
   },
   {
    "duration": 46,
    "start_time": "2024-07-01T05:33:24.294Z"
   },
   {
    "duration": 7,
    "start_time": "2024-07-01T05:33:24.341Z"
   },
   {
    "duration": 92,
    "start_time": "2024-07-01T05:33:24.350Z"
   },
   {
    "duration": 85,
    "start_time": "2024-07-01T05:33:24.444Z"
   },
   {
    "duration": 82,
    "start_time": "2024-07-01T05:33:24.530Z"
   },
   {
    "duration": 10,
    "start_time": "2024-07-01T05:33:24.614Z"
   },
   {
    "duration": 4,
    "start_time": "2024-07-01T05:33:24.626Z"
   },
   {
    "duration": 126,
    "start_time": "2024-07-01T05:33:24.631Z"
   },
   {
    "duration": 68,
    "start_time": "2024-07-01T05:33:41.464Z"
   },
   {
    "duration": 122,
    "start_time": "2024-07-01T05:35:48.433Z"
   },
   {
    "duration": 17,
    "start_time": "2024-07-01T05:36:01.367Z"
   },
   {
    "duration": 10,
    "start_time": "2024-07-01T05:36:19.163Z"
   },
   {
    "duration": 26,
    "start_time": "2024-07-01T05:38:49.639Z"
   },
   {
    "duration": 6,
    "start_time": "2024-07-01T05:39:05.227Z"
   },
   {
    "duration": 8,
    "start_time": "2024-07-01T05:39:08.384Z"
   },
   {
    "duration": 19,
    "start_time": "2024-07-01T05:39:16.911Z"
   },
   {
    "duration": 11,
    "start_time": "2024-07-01T05:39:24.381Z"
   },
   {
    "duration": 4,
    "start_time": "2024-07-01T05:39:38.076Z"
   },
   {
    "duration": 11,
    "start_time": "2024-07-01T05:39:39.783Z"
   },
   {
    "duration": 8,
    "start_time": "2024-07-01T05:39:54.821Z"
   },
   {
    "duration": 5,
    "start_time": "2024-07-01T05:41:15.706Z"
   },
   {
    "duration": 9,
    "start_time": "2024-07-01T05:41:17.574Z"
   },
   {
    "duration": 1178,
    "start_time": "2024-07-01T05:41:27.434Z"
   },
   {
    "duration": 188,
    "start_time": "2024-07-01T05:41:28.615Z"
   },
   {
    "duration": 4,
    "start_time": "2024-07-01T05:41:28.805Z"
   },
   {
    "duration": 160,
    "start_time": "2024-07-01T05:41:28.811Z"
   },
   {
    "duration": 16,
    "start_time": "2024-07-01T05:41:28.972Z"
   },
   {
    "duration": 8,
    "start_time": "2024-07-01T05:41:28.989Z"
   },
   {
    "duration": 138,
    "start_time": "2024-07-01T05:41:28.998Z"
   },
   {
    "duration": 10,
    "start_time": "2024-07-01T05:41:29.137Z"
   },
   {
    "duration": 126,
    "start_time": "2024-07-01T05:41:29.148Z"
   },
   {
    "duration": 102,
    "start_time": "2024-07-01T05:41:29.281Z"
   },
   {
    "duration": 29,
    "start_time": "2024-07-01T05:41:29.384Z"
   },
   {
    "duration": 24,
    "start_time": "2024-07-01T05:41:29.415Z"
   },
   {
    "duration": 4,
    "start_time": "2024-07-01T05:41:29.441Z"
   },
   {
    "duration": 29,
    "start_time": "2024-07-01T05:41:29.446Z"
   },
   {
    "duration": 24,
    "start_time": "2024-07-01T05:41:29.477Z"
   },
   {
    "duration": 16,
    "start_time": "2024-07-01T05:41:29.503Z"
   },
   {
    "duration": 14,
    "start_time": "2024-07-01T05:41:29.521Z"
   },
   {
    "duration": 44,
    "start_time": "2024-07-01T05:41:29.537Z"
   },
   {
    "duration": 837,
    "start_time": "2024-07-01T05:41:29.583Z"
   },
   {
    "duration": 7,
    "start_time": "2024-07-01T05:41:30.422Z"
   },
   {
    "duration": 54,
    "start_time": "2024-07-01T05:41:30.430Z"
   },
   {
    "duration": 71,
    "start_time": "2024-07-01T05:41:30.486Z"
   },
   {
    "duration": 47,
    "start_time": "2024-07-01T05:41:30.559Z"
   },
   {
    "duration": 62,
    "start_time": "2024-07-01T05:41:30.608Z"
   },
   {
    "duration": 46,
    "start_time": "2024-07-01T05:41:30.672Z"
   },
   {
    "duration": 99,
    "start_time": "2024-07-01T05:41:30.720Z"
   },
   {
    "duration": 86,
    "start_time": "2024-07-01T05:41:30.821Z"
   },
   {
    "duration": 19,
    "start_time": "2024-07-01T05:41:30.911Z"
   },
   {
    "duration": 462,
    "start_time": "2024-07-01T05:41:30.932Z"
   },
   {
    "duration": 14,
    "start_time": "2024-07-01T05:41:31.396Z"
   },
   {
    "duration": 114,
    "start_time": "2024-07-01T05:41:31.412Z"
   },
   {
    "duration": 84,
    "start_time": "2024-07-01T05:41:31.528Z"
   },
   {
    "duration": 86,
    "start_time": "2024-07-01T05:41:31.614Z"
   },
   {
    "duration": 77,
    "start_time": "2024-07-01T05:41:31.702Z"
   },
   {
    "duration": 54,
    "start_time": "2024-07-01T05:41:31.781Z"
   },
   {
    "duration": 79,
    "start_time": "2024-07-01T05:41:31.837Z"
   },
   {
    "duration": 107,
    "start_time": "2024-07-01T05:41:31.918Z"
   },
   {
    "duration": 165,
    "start_time": "2024-07-01T05:41:32.027Z"
   },
   {
    "duration": 3,
    "start_time": "2024-07-01T05:41:32.194Z"
   },
   {
    "duration": 17,
    "start_time": "2024-07-01T05:41:32.199Z"
   },
   {
    "duration": 29,
    "start_time": "2024-07-01T05:41:32.218Z"
   },
   {
    "duration": 1075,
    "start_time": "2024-07-01T05:41:32.281Z"
   },
   {
    "duration": 0,
    "start_time": "2024-07-01T05:41:33.357Z"
   },
   {
    "duration": 0,
    "start_time": "2024-07-01T05:41:33.358Z"
   },
   {
    "duration": 0,
    "start_time": "2024-07-01T05:41:33.359Z"
   },
   {
    "duration": 0,
    "start_time": "2024-07-01T05:41:33.360Z"
   },
   {
    "duration": 0,
    "start_time": "2024-07-01T05:41:33.361Z"
   },
   {
    "duration": 0,
    "start_time": "2024-07-01T05:41:33.362Z"
   },
   {
    "duration": 0,
    "start_time": "2024-07-01T05:41:33.363Z"
   },
   {
    "duration": 0,
    "start_time": "2024-07-01T05:41:33.364Z"
   },
   {
    "duration": 0,
    "start_time": "2024-07-01T05:41:33.367Z"
   },
   {
    "duration": 0,
    "start_time": "2024-07-01T05:41:33.368Z"
   },
   {
    "duration": 0,
    "start_time": "2024-07-01T05:41:33.369Z"
   },
   {
    "duration": 0,
    "start_time": "2024-07-01T05:41:33.370Z"
   },
   {
    "duration": 0,
    "start_time": "2024-07-01T05:41:33.371Z"
   },
   {
    "duration": 0,
    "start_time": "2024-07-01T05:41:33.372Z"
   },
   {
    "duration": 0,
    "start_time": "2024-07-01T05:41:33.373Z"
   },
   {
    "duration": 5,
    "start_time": "2024-07-01T05:41:55.917Z"
   },
   {
    "duration": 10,
    "start_time": "2024-07-01T05:42:02.847Z"
   },
   {
    "duration": 4,
    "start_time": "2024-07-01T05:43:40.668Z"
   },
   {
    "duration": 10,
    "start_time": "2024-07-01T05:43:41.221Z"
   },
   {
    "duration": 1219,
    "start_time": "2024-07-01T05:43:47.188Z"
   },
   {
    "duration": 187,
    "start_time": "2024-07-01T05:43:48.409Z"
   },
   {
    "duration": 5,
    "start_time": "2024-07-01T05:43:48.597Z"
   },
   {
    "duration": 165,
    "start_time": "2024-07-01T05:43:48.604Z"
   },
   {
    "duration": 12,
    "start_time": "2024-07-01T05:43:48.770Z"
   },
   {
    "duration": 8,
    "start_time": "2024-07-01T05:43:48.784Z"
   },
   {
    "duration": 140,
    "start_time": "2024-07-01T05:43:48.794Z"
   },
   {
    "duration": 9,
    "start_time": "2024-07-01T05:43:48.936Z"
   },
   {
    "duration": 113,
    "start_time": "2024-07-01T05:43:48.947Z"
   },
   {
    "duration": 100,
    "start_time": "2024-07-01T05:43:49.063Z"
   },
   {
    "duration": 33,
    "start_time": "2024-07-01T05:43:49.164Z"
   },
   {
    "duration": 24,
    "start_time": "2024-07-01T05:43:49.198Z"
   },
   {
    "duration": 2,
    "start_time": "2024-07-01T05:43:49.224Z"
   },
   {
    "duration": 8,
    "start_time": "2024-07-01T05:43:49.228Z"
   },
   {
    "duration": 5,
    "start_time": "2024-07-01T05:43:49.237Z"
   },
   {
    "duration": 5,
    "start_time": "2024-07-01T05:43:49.244Z"
   },
   {
    "duration": 33,
    "start_time": "2024-07-01T05:43:49.250Z"
   },
   {
    "duration": 43,
    "start_time": "2024-07-01T05:43:49.285Z"
   },
   {
    "duration": 885,
    "start_time": "2024-07-01T05:43:49.330Z"
   },
   {
    "duration": 8,
    "start_time": "2024-07-01T05:43:50.216Z"
   },
   {
    "duration": 24,
    "start_time": "2024-07-01T05:43:50.226Z"
   },
   {
    "duration": 7,
    "start_time": "2024-07-01T05:43:50.252Z"
   },
   {
    "duration": 17,
    "start_time": "2024-07-01T05:43:50.282Z"
   },
   {
    "duration": 6,
    "start_time": "2024-07-01T05:43:50.301Z"
   },
   {
    "duration": 6,
    "start_time": "2024-07-01T05:43:50.309Z"
   },
   {
    "duration": 11,
    "start_time": "2024-07-01T05:43:50.316Z"
   },
   {
    "duration": 59,
    "start_time": "2024-07-01T05:43:50.329Z"
   },
   {
    "duration": 8,
    "start_time": "2024-07-01T05:43:50.391Z"
   },
   {
    "duration": 436,
    "start_time": "2024-07-01T05:43:50.400Z"
   },
   {
    "duration": 17,
    "start_time": "2024-07-01T05:43:50.839Z"
   },
   {
    "duration": 30,
    "start_time": "2024-07-01T05:43:50.858Z"
   },
   {
    "duration": 20,
    "start_time": "2024-07-01T05:43:50.890Z"
   },
   {
    "duration": 36,
    "start_time": "2024-07-01T05:43:50.912Z"
   },
   {
    "duration": 49,
    "start_time": "2024-07-01T05:43:50.950Z"
   },
   {
    "duration": 16,
    "start_time": "2024-07-01T05:43:51.001Z"
   },
   {
    "duration": 6,
    "start_time": "2024-07-01T05:43:51.019Z"
   },
   {
    "duration": 79,
    "start_time": "2024-07-01T05:43:51.027Z"
   },
   {
    "duration": 175,
    "start_time": "2024-07-01T05:43:51.107Z"
   },
   {
    "duration": 3,
    "start_time": "2024-07-01T05:43:51.284Z"
   },
   {
    "duration": 36,
    "start_time": "2024-07-01T05:43:51.289Z"
   },
   {
    "duration": 12,
    "start_time": "2024-07-01T05:43:51.327Z"
   },
   {
    "duration": 6,
    "start_time": "2024-07-01T05:43:51.340Z"
   },
   {
    "duration": 9,
    "start_time": "2024-07-01T05:43:51.383Z"
   },
   {
    "duration": 7,
    "start_time": "2024-07-01T05:43:51.393Z"
   },
   {
    "duration": 7,
    "start_time": "2024-07-01T05:43:51.401Z"
   },
   {
    "duration": 80,
    "start_time": "2024-07-01T05:43:51.410Z"
   },
   {
    "duration": 9,
    "start_time": "2024-07-01T05:43:51.492Z"
   },
   {
    "duration": 12,
    "start_time": "2024-07-01T05:43:51.502Z"
   },
   {
    "duration": 29,
    "start_time": "2024-07-01T05:43:51.515Z"
   },
   {
    "duration": 43,
    "start_time": "2024-07-01T05:43:51.545Z"
   },
   {
    "duration": 44,
    "start_time": "2024-07-01T05:43:51.590Z"
   },
   {
    "duration": 6,
    "start_time": "2024-07-01T05:43:51.636Z"
   },
   {
    "duration": 88,
    "start_time": "2024-07-01T05:43:51.644Z"
   },
   {
    "duration": 86,
    "start_time": "2024-07-01T05:43:51.734Z"
   },
   {
    "duration": 86,
    "start_time": "2024-07-01T05:43:51.822Z"
   },
   {
    "duration": 10,
    "start_time": "2024-07-01T05:43:51.910Z"
   },
   {
    "duration": 4,
    "start_time": "2024-07-01T05:43:51.922Z"
   },
   {
    "duration": 161,
    "start_time": "2024-07-01T05:43:51.928Z"
   },
   {
    "duration": 113,
    "start_time": "2024-07-01T05:47:04.211Z"
   },
   {
    "duration": 9,
    "start_time": "2024-07-01T05:47:37.588Z"
   },
   {
    "duration": 9,
    "start_time": "2024-07-01T05:47:57.861Z"
   },
   {
    "duration": 4,
    "start_time": "2024-07-01T05:48:34.070Z"
   },
   {
    "duration": 3,
    "start_time": "2024-07-01T05:48:47.381Z"
   },
   {
    "duration": 5,
    "start_time": "2024-07-01T05:51:29.582Z"
   },
   {
    "duration": 14,
    "start_time": "2024-07-01T05:51:35.703Z"
   },
   {
    "duration": 1247,
    "start_time": "2024-07-01T05:51:41.507Z"
   },
   {
    "duration": 198,
    "start_time": "2024-07-01T05:51:42.756Z"
   },
   {
    "duration": 5,
    "start_time": "2024-07-01T05:51:42.956Z"
   },
   {
    "duration": 156,
    "start_time": "2024-07-01T05:51:42.963Z"
   },
   {
    "duration": 9,
    "start_time": "2024-07-01T05:51:43.121Z"
   },
   {
    "duration": 33,
    "start_time": "2024-07-01T05:51:43.132Z"
   },
   {
    "duration": 118,
    "start_time": "2024-07-01T05:51:43.168Z"
   },
   {
    "duration": 10,
    "start_time": "2024-07-01T05:51:43.288Z"
   },
   {
    "duration": 111,
    "start_time": "2024-07-01T05:51:43.299Z"
   },
   {
    "duration": 89,
    "start_time": "2024-07-01T05:51:43.414Z"
   },
   {
    "duration": 24,
    "start_time": "2024-07-01T05:51:43.505Z"
   },
   {
    "duration": 21,
    "start_time": "2024-07-01T05:51:43.530Z"
   },
   {
    "duration": 30,
    "start_time": "2024-07-01T05:51:43.553Z"
   },
   {
    "duration": 8,
    "start_time": "2024-07-01T05:51:43.585Z"
   },
   {
    "duration": 10,
    "start_time": "2024-07-01T05:51:43.595Z"
   },
   {
    "duration": 23,
    "start_time": "2024-07-01T05:51:43.607Z"
   },
   {
    "duration": 13,
    "start_time": "2024-07-01T05:51:43.632Z"
   },
   {
    "duration": 75,
    "start_time": "2024-07-01T05:51:43.647Z"
   },
   {
    "duration": 863,
    "start_time": "2024-07-01T05:51:43.724Z"
   },
   {
    "duration": 10,
    "start_time": "2024-07-01T05:51:44.589Z"
   },
   {
    "duration": 30,
    "start_time": "2024-07-01T05:51:44.601Z"
   },
   {
    "duration": 8,
    "start_time": "2024-07-01T05:51:44.633Z"
   },
   {
    "duration": 11,
    "start_time": "2024-07-01T05:51:44.643Z"
   },
   {
    "duration": 31,
    "start_time": "2024-07-01T05:51:44.656Z"
   },
   {
    "duration": 5,
    "start_time": "2024-07-01T05:51:44.688Z"
   },
   {
    "duration": 16,
    "start_time": "2024-07-01T05:51:44.694Z"
   },
   {
    "duration": 41,
    "start_time": "2024-07-01T05:51:44.711Z"
   },
   {
    "duration": 28,
    "start_time": "2024-07-01T05:51:44.755Z"
   },
   {
    "duration": 429,
    "start_time": "2024-07-01T05:51:44.785Z"
   },
   {
    "duration": 14,
    "start_time": "2024-07-01T05:51:45.215Z"
   },
   {
    "duration": 41,
    "start_time": "2024-07-01T05:51:45.231Z"
   },
   {
    "duration": 25,
    "start_time": "2024-07-01T05:51:45.274Z"
   },
   {
    "duration": 53,
    "start_time": "2024-07-01T05:51:45.301Z"
   },
   {
    "duration": 27,
    "start_time": "2024-07-01T05:51:45.356Z"
   },
   {
    "duration": 17,
    "start_time": "2024-07-01T05:51:45.385Z"
   },
   {
    "duration": 26,
    "start_time": "2024-07-01T05:51:45.404Z"
   },
   {
    "duration": 68,
    "start_time": "2024-07-01T05:51:45.431Z"
   },
   {
    "duration": 152,
    "start_time": "2024-07-01T05:51:45.501Z"
   },
   {
    "duration": 3,
    "start_time": "2024-07-01T05:51:45.655Z"
   },
   {
    "duration": 8,
    "start_time": "2024-07-01T05:51:45.660Z"
   },
   {
    "duration": 17,
    "start_time": "2024-07-01T05:51:45.669Z"
   },
   {
    "duration": 21,
    "start_time": "2024-07-01T05:51:45.688Z"
   },
   {
    "duration": 9,
    "start_time": "2024-07-01T05:51:45.710Z"
   },
   {
    "duration": 90,
    "start_time": "2024-07-01T05:51:45.720Z"
   },
   {
    "duration": 10,
    "start_time": "2024-07-01T05:51:45.811Z"
   },
   {
    "duration": 10,
    "start_time": "2024-07-01T05:51:45.822Z"
   },
   {
    "duration": 75,
    "start_time": "2024-07-01T05:51:45.834Z"
   },
   {
    "duration": 35,
    "start_time": "2024-07-01T05:51:45.911Z"
   },
   {
    "duration": 78,
    "start_time": "2024-07-01T05:51:45.949Z"
   },
   {
    "duration": 7,
    "start_time": "2024-07-01T05:51:46.030Z"
   },
   {
    "duration": 89,
    "start_time": "2024-07-01T05:51:46.039Z"
   },
   {
    "duration": 85,
    "start_time": "2024-07-01T05:51:46.130Z"
   },
   {
    "duration": 87,
    "start_time": "2024-07-01T05:51:46.217Z"
   },
   {
    "duration": 12,
    "start_time": "2024-07-01T05:51:46.306Z"
   },
   {
    "duration": 3,
    "start_time": "2024-07-01T05:51:46.320Z"
   },
   {
    "duration": 127,
    "start_time": "2024-07-01T05:51:46.325Z"
   },
   {
    "duration": 1182,
    "start_time": "2024-07-01T05:54:21.012Z"
   },
   {
    "duration": 188,
    "start_time": "2024-07-01T05:54:22.196Z"
   },
   {
    "duration": 5,
    "start_time": "2024-07-01T05:54:22.386Z"
   },
   {
    "duration": 203,
    "start_time": "2024-07-01T05:54:22.392Z"
   },
   {
    "duration": 13,
    "start_time": "2024-07-01T05:54:22.597Z"
   },
   {
    "duration": 8,
    "start_time": "2024-07-01T05:54:22.612Z"
   },
   {
    "duration": 148,
    "start_time": "2024-07-01T05:54:22.622Z"
   },
   {
    "duration": 12,
    "start_time": "2024-07-01T05:54:22.772Z"
   },
   {
    "duration": 112,
    "start_time": "2024-07-01T05:54:22.786Z"
   },
   {
    "duration": 87,
    "start_time": "2024-07-01T05:54:22.901Z"
   },
   {
    "duration": 23,
    "start_time": "2024-07-01T05:54:22.990Z"
   },
   {
    "duration": 20,
    "start_time": "2024-07-01T05:54:23.014Z"
   },
   {
    "duration": 3,
    "start_time": "2024-07-01T05:54:23.036Z"
   },
   {
    "duration": 7,
    "start_time": "2024-07-01T05:54:23.041Z"
   },
   {
    "duration": 34,
    "start_time": "2024-07-01T05:54:23.049Z"
   },
   {
    "duration": 6,
    "start_time": "2024-07-01T05:54:23.085Z"
   },
   {
    "duration": 18,
    "start_time": "2024-07-01T05:54:23.092Z"
   },
   {
    "duration": 49,
    "start_time": "2024-07-01T05:54:23.112Z"
   },
   {
    "duration": 903,
    "start_time": "2024-07-01T05:54:23.163Z"
   },
   {
    "duration": 16,
    "start_time": "2024-07-01T05:54:24.067Z"
   },
   {
    "duration": 24,
    "start_time": "2024-07-01T05:54:24.084Z"
   },
   {
    "duration": 7,
    "start_time": "2024-07-01T05:54:24.110Z"
   },
   {
    "duration": 14,
    "start_time": "2024-07-01T05:54:24.119Z"
   },
   {
    "duration": 13,
    "start_time": "2024-07-01T05:54:24.135Z"
   },
   {
    "duration": 31,
    "start_time": "2024-07-01T05:54:24.150Z"
   },
   {
    "duration": 8,
    "start_time": "2024-07-01T05:54:24.183Z"
   },
   {
    "duration": 82,
    "start_time": "2024-07-01T05:54:24.194Z"
   },
   {
    "duration": 8,
    "start_time": "2024-07-01T05:54:24.279Z"
   },
   {
    "duration": 449,
    "start_time": "2024-07-01T05:54:24.289Z"
   },
   {
    "duration": 16,
    "start_time": "2024-07-01T05:54:24.740Z"
   },
   {
    "duration": 28,
    "start_time": "2024-07-01T05:54:24.758Z"
   },
   {
    "duration": 20,
    "start_time": "2024-07-01T05:54:24.787Z"
   },
   {
    "duration": 48,
    "start_time": "2024-07-01T05:54:24.809Z"
   },
   {
    "duration": 46,
    "start_time": "2024-07-01T05:54:24.858Z"
   },
   {
    "duration": 21,
    "start_time": "2024-07-01T05:54:24.907Z"
   },
   {
    "duration": 8,
    "start_time": "2024-07-01T05:54:24.930Z"
   },
   {
    "duration": 95,
    "start_time": "2024-07-01T05:54:24.940Z"
   },
   {
    "duration": 175,
    "start_time": "2024-07-01T05:54:25.037Z"
   },
   {
    "duration": 4,
    "start_time": "2024-07-01T05:54:25.214Z"
   },
   {
    "duration": 19,
    "start_time": "2024-07-01T05:54:25.220Z"
   },
   {
    "duration": 12,
    "start_time": "2024-07-01T05:54:25.241Z"
   },
   {
    "duration": 28,
    "start_time": "2024-07-01T05:54:25.256Z"
   },
   {
    "duration": 53,
    "start_time": "2024-07-01T05:54:25.285Z"
   },
   {
    "duration": 56,
    "start_time": "2024-07-01T05:54:25.339Z"
   },
   {
    "duration": 10,
    "start_time": "2024-07-01T05:54:25.396Z"
   },
   {
    "duration": 11,
    "start_time": "2024-07-01T05:54:25.408Z"
   },
   {
    "duration": 33,
    "start_time": "2024-07-01T05:54:25.421Z"
   },
   {
    "duration": 41,
    "start_time": "2024-07-01T05:54:25.456Z"
   },
   {
    "duration": 46,
    "start_time": "2024-07-01T05:54:25.499Z"
   },
   {
    "duration": 7,
    "start_time": "2024-07-01T05:54:25.547Z"
   },
   {
    "duration": 97,
    "start_time": "2024-07-01T05:54:25.556Z"
   },
   {
    "duration": 96,
    "start_time": "2024-07-01T05:54:25.655Z"
   },
   {
    "duration": 86,
    "start_time": "2024-07-01T05:54:25.753Z"
   },
   {
    "duration": 10,
    "start_time": "2024-07-01T05:54:25.841Z"
   },
   {
    "duration": 8,
    "start_time": "2024-07-01T05:54:25.853Z"
   },
   {
    "duration": 174,
    "start_time": "2024-07-01T05:54:25.882Z"
   },
   {
    "duration": 1101,
    "start_time": "2024-07-01T05:56:45.759Z"
   },
   {
    "duration": 1244,
    "start_time": "2024-07-01T05:56:55.062Z"
   },
   {
    "duration": 194,
    "start_time": "2024-07-01T05:56:56.308Z"
   },
   {
    "duration": 5,
    "start_time": "2024-07-01T05:56:56.504Z"
   },
   {
    "duration": 169,
    "start_time": "2024-07-01T05:56:56.512Z"
   },
   {
    "duration": 1142,
    "start_time": "2024-07-01T05:56:56.683Z"
   },
   {
    "duration": 0,
    "start_time": "2024-07-01T05:56:57.828Z"
   },
   {
    "duration": 0,
    "start_time": "2024-07-01T05:56:57.830Z"
   },
   {
    "duration": 0,
    "start_time": "2024-07-01T05:56:57.831Z"
   },
   {
    "duration": 0,
    "start_time": "2024-07-01T05:56:57.832Z"
   },
   {
    "duration": 0,
    "start_time": "2024-07-01T05:56:57.833Z"
   },
   {
    "duration": 0,
    "start_time": "2024-07-01T05:56:57.835Z"
   },
   {
    "duration": 0,
    "start_time": "2024-07-01T05:56:57.836Z"
   },
   {
    "duration": 0,
    "start_time": "2024-07-01T05:56:57.837Z"
   },
   {
    "duration": 0,
    "start_time": "2024-07-01T05:56:57.839Z"
   },
   {
    "duration": 0,
    "start_time": "2024-07-01T05:56:57.840Z"
   },
   {
    "duration": 0,
    "start_time": "2024-07-01T05:56:57.841Z"
   },
   {
    "duration": 0,
    "start_time": "2024-07-01T05:56:57.843Z"
   },
   {
    "duration": 0,
    "start_time": "2024-07-01T05:56:57.844Z"
   },
   {
    "duration": 0,
    "start_time": "2024-07-01T05:56:57.845Z"
   },
   {
    "duration": 0,
    "start_time": "2024-07-01T05:56:57.846Z"
   },
   {
    "duration": 0,
    "start_time": "2024-07-01T05:56:57.848Z"
   },
   {
    "duration": 0,
    "start_time": "2024-07-01T05:56:57.849Z"
   },
   {
    "duration": 0,
    "start_time": "2024-07-01T05:56:57.850Z"
   },
   {
    "duration": 0,
    "start_time": "2024-07-01T05:56:57.851Z"
   },
   {
    "duration": 0,
    "start_time": "2024-07-01T05:56:57.852Z"
   },
   {
    "duration": 0,
    "start_time": "2024-07-01T05:56:57.853Z"
   },
   {
    "duration": 0,
    "start_time": "2024-07-01T05:56:57.854Z"
   },
   {
    "duration": 0,
    "start_time": "2024-07-01T05:56:57.855Z"
   },
   {
    "duration": 0,
    "start_time": "2024-07-01T05:56:57.856Z"
   },
   {
    "duration": 0,
    "start_time": "2024-07-01T05:56:57.857Z"
   },
   {
    "duration": 0,
    "start_time": "2024-07-01T05:56:57.858Z"
   },
   {
    "duration": 0,
    "start_time": "2024-07-01T05:56:57.859Z"
   },
   {
    "duration": 0,
    "start_time": "2024-07-01T05:56:57.860Z"
   },
   {
    "duration": 0,
    "start_time": "2024-07-01T05:56:57.861Z"
   },
   {
    "duration": 0,
    "start_time": "2024-07-01T05:56:57.862Z"
   },
   {
    "duration": 0,
    "start_time": "2024-07-01T05:56:57.863Z"
   },
   {
    "duration": 0,
    "start_time": "2024-07-01T05:56:57.864Z"
   },
   {
    "duration": 0,
    "start_time": "2024-07-01T05:56:57.882Z"
   },
   {
    "duration": 0,
    "start_time": "2024-07-01T05:56:57.884Z"
   },
   {
    "duration": 0,
    "start_time": "2024-07-01T05:56:57.885Z"
   },
   {
    "duration": 0,
    "start_time": "2024-07-01T05:56:57.887Z"
   },
   {
    "duration": 0,
    "start_time": "2024-07-01T05:56:57.888Z"
   },
   {
    "duration": 0,
    "start_time": "2024-07-01T05:56:57.888Z"
   },
   {
    "duration": 0,
    "start_time": "2024-07-01T05:56:57.890Z"
   },
   {
    "duration": 0,
    "start_time": "2024-07-01T05:56:57.891Z"
   },
   {
    "duration": 0,
    "start_time": "2024-07-01T05:56:57.892Z"
   },
   {
    "duration": 0,
    "start_time": "2024-07-01T05:56:57.893Z"
   },
   {
    "duration": 0,
    "start_time": "2024-07-01T05:56:57.894Z"
   },
   {
    "duration": 0,
    "start_time": "2024-07-01T05:56:57.896Z"
   },
   {
    "duration": 0,
    "start_time": "2024-07-01T05:56:57.896Z"
   },
   {
    "duration": 0,
    "start_time": "2024-07-01T05:56:57.898Z"
   },
   {
    "duration": 0,
    "start_time": "2024-07-01T05:56:57.899Z"
   },
   {
    "duration": 0,
    "start_time": "2024-07-01T05:56:57.900Z"
   },
   {
    "duration": 0,
    "start_time": "2024-07-01T05:56:57.901Z"
   },
   {
    "duration": 0,
    "start_time": "2024-07-01T05:56:57.902Z"
   },
   {
    "duration": 0,
    "start_time": "2024-07-01T05:56:57.903Z"
   },
   {
    "duration": 0,
    "start_time": "2024-07-01T05:56:57.904Z"
   },
   {
    "duration": 16,
    "start_time": "2024-07-01T05:57:25.116Z"
   },
   {
    "duration": 1093,
    "start_time": "2024-07-01T05:57:29.150Z"
   },
   {
    "duration": 7,
    "start_time": "2024-07-01T05:57:59.081Z"
   },
   {
    "duration": 992,
    "start_time": "2024-07-01T05:59:04.155Z"
   },
   {
    "duration": 0,
    "start_time": "2024-07-01T05:59:56.040Z"
   },
   {
    "duration": 9,
    "start_time": "2024-07-01T05:59:59.622Z"
   },
   {
    "duration": 8,
    "start_time": "2024-07-01T06:00:35.372Z"
   },
   {
    "duration": 988,
    "start_time": "2024-07-01T06:02:24.953Z"
   },
   {
    "duration": 17,
    "start_time": "2024-07-01T06:02:31.608Z"
   },
   {
    "duration": 43,
    "start_time": "2024-07-01T06:03:07.690Z"
   },
   {
    "duration": 72,
    "start_time": "2024-07-01T06:03:50.182Z"
   },
   {
    "duration": 78,
    "start_time": "2024-07-01T06:04:20.096Z"
   },
   {
    "duration": 76,
    "start_time": "2024-07-01T06:04:24.926Z"
   },
   {
    "duration": 70,
    "start_time": "2024-07-01T06:05:12.131Z"
   },
   {
    "duration": 869,
    "start_time": "2024-07-01T06:06:20.999Z"
   },
   {
    "duration": 79,
    "start_time": "2024-07-01T06:06:41.416Z"
   },
   {
    "duration": 71,
    "start_time": "2024-07-01T06:09:37.111Z"
   },
   {
    "duration": 1214,
    "start_time": "2024-07-01T06:09:59.417Z"
   },
   {
    "duration": 199,
    "start_time": "2024-07-01T06:10:00.633Z"
   },
   {
    "duration": 6,
    "start_time": "2024-07-01T06:10:00.834Z"
   },
   {
    "duration": 240,
    "start_time": "2024-07-01T06:10:00.843Z"
   },
   {
    "duration": 9,
    "start_time": "2024-07-01T06:10:01.085Z"
   },
   {
    "duration": 143,
    "start_time": "2024-07-01T06:10:01.096Z"
   },
   {
    "duration": 77,
    "start_time": "2024-07-01T06:10:01.240Z"
   },
   {
    "duration": 78,
    "start_time": "2024-07-01T06:10:01.318Z"
   },
   {
    "duration": 51,
    "start_time": "2024-07-01T06:10:01.398Z"
   },
   {
    "duration": 96,
    "start_time": "2024-07-01T06:10:01.452Z"
   },
   {
    "duration": 218,
    "start_time": "2024-07-01T06:10:01.549Z"
   },
   {
    "duration": 14,
    "start_time": "2024-07-01T06:10:01.769Z"
   },
   {
    "duration": 294,
    "start_time": "2024-07-01T06:10:01.784Z"
   },
   {
    "duration": 80,
    "start_time": "2024-07-01T06:10:02.080Z"
   },
   {
    "duration": 35,
    "start_time": "2024-07-01T06:10:02.162Z"
   },
   {
    "duration": 31,
    "start_time": "2024-07-01T06:10:02.199Z"
   },
   {
    "duration": 21,
    "start_time": "2024-07-01T06:10:02.232Z"
   },
   {
    "duration": 23,
    "start_time": "2024-07-01T06:10:02.255Z"
   },
   {
    "duration": 80,
    "start_time": "2024-07-01T06:10:02.280Z"
   },
   {
    "duration": 84,
    "start_time": "2024-07-01T06:10:02.362Z"
   },
   {
    "duration": 13,
    "start_time": "2024-07-01T06:10:02.448Z"
   },
   {
    "duration": 62,
    "start_time": "2024-07-01T06:10:02.464Z"
   },
   {
    "duration": 947,
    "start_time": "2024-07-01T06:10:02.527Z"
   },
   {
    "duration": 7,
    "start_time": "2024-07-01T06:10:03.476Z"
   },
   {
    "duration": 35,
    "start_time": "2024-07-01T06:10:03.485Z"
   },
   {
    "duration": 7,
    "start_time": "2024-07-01T06:10:03.521Z"
   },
   {
    "duration": 10,
    "start_time": "2024-07-01T06:10:03.529Z"
   },
   {
    "duration": 5,
    "start_time": "2024-07-01T06:10:03.542Z"
   },
   {
    "duration": 5,
    "start_time": "2024-07-01T06:10:03.548Z"
   },
   {
    "duration": 29,
    "start_time": "2024-07-01T06:10:03.554Z"
   },
   {
    "duration": 41,
    "start_time": "2024-07-01T06:10:03.585Z"
   },
   {
    "duration": 7,
    "start_time": "2024-07-01T06:10:03.628Z"
   },
   {
    "duration": 455,
    "start_time": "2024-07-01T06:10:03.636Z"
   },
   {
    "duration": 14,
    "start_time": "2024-07-01T06:10:04.093Z"
   },
   {
    "duration": 19,
    "start_time": "2024-07-01T06:10:04.109Z"
   },
   {
    "duration": 20,
    "start_time": "2024-07-01T06:10:04.130Z"
   },
   {
    "duration": 62,
    "start_time": "2024-07-01T06:10:04.152Z"
   },
   {
    "duration": 28,
    "start_time": "2024-07-01T06:10:04.216Z"
   },
   {
    "duration": 24,
    "start_time": "2024-07-01T06:10:04.245Z"
   },
   {
    "duration": 21,
    "start_time": "2024-07-01T06:10:04.271Z"
   },
   {
    "duration": 83,
    "start_time": "2024-07-01T06:10:04.293Z"
   },
   {
    "duration": 190,
    "start_time": "2024-07-01T06:10:04.377Z"
   },
   {
    "duration": 4,
    "start_time": "2024-07-01T06:10:04.568Z"
   },
   {
    "duration": 20,
    "start_time": "2024-07-01T06:10:04.574Z"
   },
   {
    "duration": 16,
    "start_time": "2024-07-01T06:10:04.595Z"
   },
   {
    "duration": 17,
    "start_time": "2024-07-01T06:10:04.613Z"
   },
   {
    "duration": 8,
    "start_time": "2024-07-01T06:10:04.632Z"
   },
   {
    "duration": 42,
    "start_time": "2024-07-01T06:10:04.683Z"
   },
   {
    "duration": 9,
    "start_time": "2024-07-01T06:10:04.727Z"
   },
   {
    "duration": 8,
    "start_time": "2024-07-01T06:10:04.781Z"
   },
   {
    "duration": 41,
    "start_time": "2024-07-01T06:10:04.791Z"
   },
   {
    "duration": 25,
    "start_time": "2024-07-01T06:10:04.834Z"
   },
   {
    "duration": 59,
    "start_time": "2024-07-01T06:10:04.861Z"
   },
   {
    "duration": 7,
    "start_time": "2024-07-01T06:10:04.921Z"
   },
   {
    "duration": 87,
    "start_time": "2024-07-01T06:10:04.930Z"
   },
   {
    "duration": 84,
    "start_time": "2024-07-01T06:10:05.019Z"
   },
   {
    "duration": 84,
    "start_time": "2024-07-01T06:10:05.105Z"
   },
   {
    "duration": 10,
    "start_time": "2024-07-01T06:10:05.191Z"
   },
   {
    "duration": 18,
    "start_time": "2024-07-01T06:10:05.202Z"
   },
   {
    "duration": 145,
    "start_time": "2024-07-01T06:10:05.221Z"
   },
   {
    "duration": 1264,
    "start_time": "2024-07-01T06:11:20.156Z"
   },
   {
    "duration": 194,
    "start_time": "2024-07-01T06:11:21.422Z"
   },
   {
    "duration": 5,
    "start_time": "2024-07-01T06:11:21.618Z"
   },
   {
    "duration": 173,
    "start_time": "2024-07-01T06:11:21.626Z"
   },
   {
    "duration": 8,
    "start_time": "2024-07-01T06:11:21.801Z"
   },
   {
    "duration": 17,
    "start_time": "2024-07-01T06:11:21.810Z"
   },
   {
    "duration": 8,
    "start_time": "2024-07-01T06:11:21.829Z"
   },
   {
    "duration": 146,
    "start_time": "2024-07-01T06:11:21.839Z"
   },
   {
    "duration": 10,
    "start_time": "2024-07-01T06:11:21.986Z"
   },
   {
    "duration": 109,
    "start_time": "2024-07-01T06:11:21.999Z"
   },
   {
    "duration": 91,
    "start_time": "2024-07-01T06:11:22.109Z"
   },
   {
    "duration": 110,
    "start_time": "2024-07-01T06:11:22.203Z"
   },
   {
    "duration": 0,
    "start_time": "2024-07-01T06:11:22.315Z"
   },
   {
    "duration": 0,
    "start_time": "2024-07-01T06:11:22.317Z"
   },
   {
    "duration": 0,
    "start_time": "2024-07-01T06:11:22.319Z"
   },
   {
    "duration": 0,
    "start_time": "2024-07-01T06:11:22.320Z"
   },
   {
    "duration": 0,
    "start_time": "2024-07-01T06:11:22.321Z"
   },
   {
    "duration": 0,
    "start_time": "2024-07-01T06:11:22.322Z"
   },
   {
    "duration": 0,
    "start_time": "2024-07-01T06:11:22.323Z"
   },
   {
    "duration": 0,
    "start_time": "2024-07-01T06:11:22.324Z"
   },
   {
    "duration": 0,
    "start_time": "2024-07-01T06:11:22.325Z"
   },
   {
    "duration": 0,
    "start_time": "2024-07-01T06:11:22.326Z"
   },
   {
    "duration": 0,
    "start_time": "2024-07-01T06:11:22.327Z"
   },
   {
    "duration": 0,
    "start_time": "2024-07-01T06:11:22.328Z"
   },
   {
    "duration": 0,
    "start_time": "2024-07-01T06:11:22.329Z"
   },
   {
    "duration": 0,
    "start_time": "2024-07-01T06:11:22.330Z"
   },
   {
    "duration": 0,
    "start_time": "2024-07-01T06:11:22.332Z"
   },
   {
    "duration": 0,
    "start_time": "2024-07-01T06:11:22.333Z"
   },
   {
    "duration": 0,
    "start_time": "2024-07-01T06:11:22.334Z"
   },
   {
    "duration": 0,
    "start_time": "2024-07-01T06:11:22.335Z"
   },
   {
    "duration": 0,
    "start_time": "2024-07-01T06:11:22.336Z"
   },
   {
    "duration": 0,
    "start_time": "2024-07-01T06:11:22.337Z"
   },
   {
    "duration": 0,
    "start_time": "2024-07-01T06:11:22.338Z"
   },
   {
    "duration": 0,
    "start_time": "2024-07-01T06:11:22.382Z"
   },
   {
    "duration": 0,
    "start_time": "2024-07-01T06:11:22.383Z"
   },
   {
    "duration": 0,
    "start_time": "2024-07-01T06:11:22.384Z"
   },
   {
    "duration": 0,
    "start_time": "2024-07-01T06:11:22.386Z"
   },
   {
    "duration": 0,
    "start_time": "2024-07-01T06:11:22.387Z"
   },
   {
    "duration": 0,
    "start_time": "2024-07-01T06:11:22.388Z"
   },
   {
    "duration": 0,
    "start_time": "2024-07-01T06:11:22.389Z"
   },
   {
    "duration": 0,
    "start_time": "2024-07-01T06:11:22.390Z"
   },
   {
    "duration": 0,
    "start_time": "2024-07-01T06:11:22.391Z"
   },
   {
    "duration": 0,
    "start_time": "2024-07-01T06:11:22.392Z"
   },
   {
    "duration": 0,
    "start_time": "2024-07-01T06:11:22.393Z"
   },
   {
    "duration": 0,
    "start_time": "2024-07-01T06:11:22.394Z"
   },
   {
    "duration": 0,
    "start_time": "2024-07-01T06:11:22.396Z"
   },
   {
    "duration": 0,
    "start_time": "2024-07-01T06:11:22.397Z"
   },
   {
    "duration": 0,
    "start_time": "2024-07-01T06:11:22.398Z"
   },
   {
    "duration": 0,
    "start_time": "2024-07-01T06:11:22.399Z"
   },
   {
    "duration": 0,
    "start_time": "2024-07-01T06:11:22.400Z"
   },
   {
    "duration": 0,
    "start_time": "2024-07-01T06:11:22.401Z"
   },
   {
    "duration": 0,
    "start_time": "2024-07-01T06:11:22.402Z"
   },
   {
    "duration": 0,
    "start_time": "2024-07-01T06:11:22.403Z"
   },
   {
    "duration": 0,
    "start_time": "2024-07-01T06:11:22.404Z"
   },
   {
    "duration": 0,
    "start_time": "2024-07-01T06:11:22.405Z"
   },
   {
    "duration": 0,
    "start_time": "2024-07-01T06:11:22.406Z"
   },
   {
    "duration": 0,
    "start_time": "2024-07-01T06:11:22.407Z"
   },
   {
    "duration": 0,
    "start_time": "2024-07-01T06:11:22.408Z"
   },
   {
    "duration": 1,
    "start_time": "2024-07-01T06:11:22.408Z"
   },
   {
    "duration": 0,
    "start_time": "2024-07-01T06:11:22.410Z"
   },
   {
    "duration": 80,
    "start_time": "2024-07-01T06:12:17.876Z"
   },
   {
    "duration": 1217,
    "start_time": "2024-07-01T06:12:23.952Z"
   },
   {
    "duration": 183,
    "start_time": "2024-07-01T06:12:25.171Z"
   },
   {
    "duration": 5,
    "start_time": "2024-07-01T06:12:25.355Z"
   },
   {
    "duration": 185,
    "start_time": "2024-07-01T06:12:25.362Z"
   },
   {
    "duration": 7,
    "start_time": "2024-07-01T06:12:25.549Z"
   },
   {
    "duration": 42,
    "start_time": "2024-07-01T06:12:25.558Z"
   },
   {
    "duration": 27,
    "start_time": "2024-07-01T06:12:25.602Z"
   },
   {
    "duration": 177,
    "start_time": "2024-07-01T06:12:25.631Z"
   },
   {
    "duration": 9,
    "start_time": "2024-07-01T06:12:25.809Z"
   },
   {
    "duration": 146,
    "start_time": "2024-07-01T06:12:25.821Z"
   },
   {
    "duration": 83,
    "start_time": "2024-07-01T06:12:25.969Z"
   },
   {
    "duration": 79,
    "start_time": "2024-07-01T06:12:26.054Z"
   },
   {
    "duration": 117,
    "start_time": "2024-07-01T06:12:26.135Z"
   },
   {
    "duration": 0,
    "start_time": "2024-07-01T06:12:26.254Z"
   },
   {
    "duration": 0,
    "start_time": "2024-07-01T06:12:26.256Z"
   },
   {
    "duration": 0,
    "start_time": "2024-07-01T06:12:26.257Z"
   },
   {
    "duration": 0,
    "start_time": "2024-07-01T06:12:26.258Z"
   },
   {
    "duration": 0,
    "start_time": "2024-07-01T06:12:26.260Z"
   },
   {
    "duration": 0,
    "start_time": "2024-07-01T06:12:26.260Z"
   },
   {
    "duration": 0,
    "start_time": "2024-07-01T06:12:26.261Z"
   },
   {
    "duration": 0,
    "start_time": "2024-07-01T06:12:26.262Z"
   },
   {
    "duration": 0,
    "start_time": "2024-07-01T06:12:26.263Z"
   },
   {
    "duration": 0,
    "start_time": "2024-07-01T06:12:26.282Z"
   },
   {
    "duration": 0,
    "start_time": "2024-07-01T06:12:26.283Z"
   },
   {
    "duration": 0,
    "start_time": "2024-07-01T06:12:26.284Z"
   },
   {
    "duration": 0,
    "start_time": "2024-07-01T06:12:26.285Z"
   },
   {
    "duration": 0,
    "start_time": "2024-07-01T06:12:26.286Z"
   },
   {
    "duration": 0,
    "start_time": "2024-07-01T06:12:26.287Z"
   },
   {
    "duration": 0,
    "start_time": "2024-07-01T06:12:26.288Z"
   },
   {
    "duration": 0,
    "start_time": "2024-07-01T06:12:26.289Z"
   },
   {
    "duration": 0,
    "start_time": "2024-07-01T06:12:26.290Z"
   },
   {
    "duration": 0,
    "start_time": "2024-07-01T06:12:26.292Z"
   },
   {
    "duration": 0,
    "start_time": "2024-07-01T06:12:26.292Z"
   },
   {
    "duration": 0,
    "start_time": "2024-07-01T06:12:26.294Z"
   },
   {
    "duration": 0,
    "start_time": "2024-07-01T06:12:26.295Z"
   },
   {
    "duration": 0,
    "start_time": "2024-07-01T06:12:26.296Z"
   },
   {
    "duration": 0,
    "start_time": "2024-07-01T06:12:26.297Z"
   },
   {
    "duration": 0,
    "start_time": "2024-07-01T06:12:26.298Z"
   },
   {
    "duration": 0,
    "start_time": "2024-07-01T06:12:26.299Z"
   },
   {
    "duration": 0,
    "start_time": "2024-07-01T06:12:26.300Z"
   },
   {
    "duration": 0,
    "start_time": "2024-07-01T06:12:26.301Z"
   },
   {
    "duration": 0,
    "start_time": "2024-07-01T06:12:26.303Z"
   },
   {
    "duration": 0,
    "start_time": "2024-07-01T06:12:26.304Z"
   },
   {
    "duration": 0,
    "start_time": "2024-07-01T06:12:26.304Z"
   },
   {
    "duration": 0,
    "start_time": "2024-07-01T06:12:26.305Z"
   },
   {
    "duration": 0,
    "start_time": "2024-07-01T06:12:26.306Z"
   },
   {
    "duration": 0,
    "start_time": "2024-07-01T06:12:26.307Z"
   },
   {
    "duration": 0,
    "start_time": "2024-07-01T06:12:26.308Z"
   },
   {
    "duration": 0,
    "start_time": "2024-07-01T06:12:26.309Z"
   },
   {
    "duration": 0,
    "start_time": "2024-07-01T06:12:26.310Z"
   },
   {
    "duration": 0,
    "start_time": "2024-07-01T06:12:26.311Z"
   },
   {
    "duration": 0,
    "start_time": "2024-07-01T06:12:26.312Z"
   },
   {
    "duration": 0,
    "start_time": "2024-07-01T06:12:26.313Z"
   },
   {
    "duration": 0,
    "start_time": "2024-07-01T06:12:26.314Z"
   },
   {
    "duration": 0,
    "start_time": "2024-07-01T06:12:26.315Z"
   },
   {
    "duration": 0,
    "start_time": "2024-07-01T06:12:26.316Z"
   },
   {
    "duration": 0,
    "start_time": "2024-07-01T06:12:26.317Z"
   },
   {
    "duration": 0,
    "start_time": "2024-07-01T06:12:26.318Z"
   },
   {
    "duration": 0,
    "start_time": "2024-07-01T06:12:26.381Z"
   },
   {
    "duration": 0,
    "start_time": "2024-07-01T06:12:26.383Z"
   },
   {
    "duration": 70,
    "start_time": "2024-07-01T06:12:59.715Z"
   },
   {
    "duration": 1253,
    "start_time": "2024-07-01T06:13:05.947Z"
   },
   {
    "duration": 195,
    "start_time": "2024-07-01T06:13:07.202Z"
   },
   {
    "duration": 5,
    "start_time": "2024-07-01T06:13:07.399Z"
   },
   {
    "duration": 166,
    "start_time": "2024-07-01T06:13:07.408Z"
   },
   {
    "duration": 18,
    "start_time": "2024-07-01T06:13:07.576Z"
   },
   {
    "duration": 21,
    "start_time": "2024-07-01T06:13:07.596Z"
   },
   {
    "duration": 9,
    "start_time": "2024-07-01T06:13:07.620Z"
   },
   {
    "duration": 135,
    "start_time": "2024-07-01T06:13:07.631Z"
   },
   {
    "duration": 16,
    "start_time": "2024-07-01T06:13:07.768Z"
   },
   {
    "duration": 167,
    "start_time": "2024-07-01T06:13:07.788Z"
   },
   {
    "duration": 80,
    "start_time": "2024-07-01T06:13:07.957Z"
   },
   {
    "duration": 77,
    "start_time": "2024-07-01T06:13:08.038Z"
   },
   {
    "duration": 22,
    "start_time": "2024-07-01T06:13:08.117Z"
   },
   {
    "duration": 19,
    "start_time": "2024-07-01T06:13:08.140Z"
   },
   {
    "duration": 3,
    "start_time": "2024-07-01T06:13:08.161Z"
   },
   {
    "duration": 5,
    "start_time": "2024-07-01T06:13:08.182Z"
   },
   {
    "duration": 6,
    "start_time": "2024-07-01T06:13:08.188Z"
   },
   {
    "duration": 9,
    "start_time": "2024-07-01T06:13:08.195Z"
   },
   {
    "duration": 9,
    "start_time": "2024-07-01T06:13:08.206Z"
   },
   {
    "duration": 70,
    "start_time": "2024-07-01T06:13:08.216Z"
   },
   {
    "duration": 856,
    "start_time": "2024-07-01T06:13:08.288Z"
   },
   {
    "duration": 8,
    "start_time": "2024-07-01T06:13:09.145Z"
   },
   {
    "duration": 40,
    "start_time": "2024-07-01T06:13:09.155Z"
   },
   {
    "duration": 7,
    "start_time": "2024-07-01T06:13:09.197Z"
   },
   {
    "duration": 24,
    "start_time": "2024-07-01T06:13:09.206Z"
   },
   {
    "duration": 33,
    "start_time": "2024-07-01T06:13:09.231Z"
   },
   {
    "duration": 5,
    "start_time": "2024-07-01T06:13:09.266Z"
   },
   {
    "duration": 16,
    "start_time": "2024-07-01T06:13:09.275Z"
   },
   {
    "duration": 60,
    "start_time": "2024-07-01T06:13:09.292Z"
   },
   {
    "duration": 8,
    "start_time": "2024-07-01T06:13:09.353Z"
   },
   {
    "duration": 447,
    "start_time": "2024-07-01T06:13:09.363Z"
   },
   {
    "duration": 14,
    "start_time": "2024-07-01T06:13:09.811Z"
   },
   {
    "duration": 35,
    "start_time": "2024-07-01T06:13:09.826Z"
   },
   {
    "duration": 19,
    "start_time": "2024-07-01T06:13:09.863Z"
   },
   {
    "duration": 36,
    "start_time": "2024-07-01T06:13:09.883Z"
   },
   {
    "duration": 27,
    "start_time": "2024-07-01T06:13:09.920Z"
   },
   {
    "duration": 9,
    "start_time": "2024-07-01T06:13:09.949Z"
   },
   {
    "duration": 24,
    "start_time": "2024-07-01T06:13:09.959Z"
   },
   {
    "duration": 59,
    "start_time": "2024-07-01T06:13:09.985Z"
   },
   {
    "duration": 175,
    "start_time": "2024-07-01T06:13:10.046Z"
   },
   {
    "duration": 4,
    "start_time": "2024-07-01T06:13:10.223Z"
   },
   {
    "duration": 10,
    "start_time": "2024-07-01T06:13:10.228Z"
   },
   {
    "duration": 15,
    "start_time": "2024-07-01T06:13:10.239Z"
   },
   {
    "duration": 30,
    "start_time": "2024-07-01T06:13:10.255Z"
   },
   {
    "duration": 8,
    "start_time": "2024-07-01T06:13:10.287Z"
   },
   {
    "duration": 100,
    "start_time": "2024-07-01T06:13:10.297Z"
   },
   {
    "duration": 9,
    "start_time": "2024-07-01T06:13:10.399Z"
   },
   {
    "duration": 10,
    "start_time": "2024-07-01T06:13:10.410Z"
   },
   {
    "duration": 31,
    "start_time": "2024-07-01T06:13:10.422Z"
   },
   {
    "duration": 49,
    "start_time": "2024-07-01T06:13:10.454Z"
   },
   {
    "duration": 45,
    "start_time": "2024-07-01T06:13:10.505Z"
   },
   {
    "duration": 7,
    "start_time": "2024-07-01T06:13:10.552Z"
   },
   {
    "duration": 72,
    "start_time": "2024-07-01T06:13:10.582Z"
   },
   {
    "duration": 104,
    "start_time": "2024-07-01T06:13:10.655Z"
   },
   {
    "duration": 95,
    "start_time": "2024-07-01T06:13:10.761Z"
   },
   {
    "duration": 29,
    "start_time": "2024-07-01T06:13:10.858Z"
   },
   {
    "duration": 4,
    "start_time": "2024-07-01T06:13:10.889Z"
   },
   {
    "duration": 134,
    "start_time": "2024-07-01T06:13:10.896Z"
   },
   {
    "duration": 92,
    "start_time": "2024-07-01T06:16:47.933Z"
   },
   {
    "duration": 1172,
    "start_time": "2024-07-01T06:17:05.335Z"
   },
   {
    "duration": 185,
    "start_time": "2024-07-01T06:17:06.509Z"
   },
   {
    "duration": 5,
    "start_time": "2024-07-01T06:17:06.696Z"
   },
   {
    "duration": 151,
    "start_time": "2024-07-01T06:17:06.703Z"
   },
   {
    "duration": 7,
    "start_time": "2024-07-01T06:17:06.856Z"
   },
   {
    "duration": 19,
    "start_time": "2024-07-01T06:17:06.865Z"
   },
   {
    "duration": 7,
    "start_time": "2024-07-01T06:17:06.886Z"
   },
   {
    "duration": 130,
    "start_time": "2024-07-01T06:17:06.894Z"
   },
   {
    "duration": 9,
    "start_time": "2024-07-01T06:17:07.026Z"
   },
   {
    "duration": 124,
    "start_time": "2024-07-01T06:17:07.037Z"
   },
   {
    "duration": 77,
    "start_time": "2024-07-01T06:17:07.163Z"
   },
   {
    "duration": 76,
    "start_time": "2024-07-01T06:17:07.242Z"
   },
   {
    "duration": 23,
    "start_time": "2024-07-01T06:17:07.320Z"
   },
   {
    "duration": 38,
    "start_time": "2024-07-01T06:17:07.344Z"
   },
   {
    "duration": 4,
    "start_time": "2024-07-01T06:17:07.383Z"
   },
   {
    "duration": 12,
    "start_time": "2024-07-01T06:17:07.388Z"
   },
   {
    "duration": 37,
    "start_time": "2024-07-01T06:17:07.401Z"
   },
   {
    "duration": 8,
    "start_time": "2024-07-01T06:17:07.439Z"
   },
   {
    "duration": 19,
    "start_time": "2024-07-01T06:17:07.448Z"
   },
   {
    "duration": 46,
    "start_time": "2024-07-01T06:17:07.469Z"
   },
   {
    "duration": 884,
    "start_time": "2024-07-01T06:17:07.517Z"
   },
   {
    "duration": 7,
    "start_time": "2024-07-01T06:17:08.403Z"
   },
   {
    "duration": 49,
    "start_time": "2024-07-01T06:17:08.411Z"
   },
   {
    "duration": 7,
    "start_time": "2024-07-01T06:17:08.462Z"
   },
   {
    "duration": 6,
    "start_time": "2024-07-01T06:17:08.470Z"
   },
   {
    "duration": 11,
    "start_time": "2024-07-01T06:17:08.477Z"
   },
   {
    "duration": 7,
    "start_time": "2024-07-01T06:17:08.489Z"
   },
   {
    "duration": 8,
    "start_time": "2024-07-01T06:17:08.500Z"
   },
   {
    "duration": 51,
    "start_time": "2024-07-01T06:17:08.509Z"
   },
   {
    "duration": 7,
    "start_time": "2024-07-01T06:17:08.562Z"
   },
   {
    "duration": 424,
    "start_time": "2024-07-01T06:17:08.581Z"
   },
   {
    "duration": 13,
    "start_time": "2024-07-01T06:17:09.007Z"
   },
   {
    "duration": 14,
    "start_time": "2024-07-01T06:17:09.022Z"
   },
   {
    "duration": 46,
    "start_time": "2024-07-01T06:17:09.038Z"
   },
   {
    "duration": 39,
    "start_time": "2024-07-01T06:17:09.086Z"
   },
   {
    "duration": 28,
    "start_time": "2024-07-01T06:17:09.127Z"
   },
   {
    "duration": 34,
    "start_time": "2024-07-01T06:17:09.157Z"
   },
   {
    "duration": 4,
    "start_time": "2024-07-01T06:17:09.193Z"
   },
   {
    "duration": 62,
    "start_time": "2024-07-01T06:17:09.199Z"
   },
   {
    "duration": 334,
    "start_time": "2024-07-01T06:17:09.263Z"
   },
   {
    "duration": 4,
    "start_time": "2024-07-01T06:17:09.599Z"
   },
   {
    "duration": 19,
    "start_time": "2024-07-01T06:17:09.605Z"
   },
   {
    "duration": 16,
    "start_time": "2024-07-01T06:17:09.626Z"
   },
   {
    "duration": 4,
    "start_time": "2024-07-01T06:17:09.682Z"
   },
   {
    "duration": 12,
    "start_time": "2024-07-01T06:17:09.688Z"
   },
   {
    "duration": 102,
    "start_time": "2024-07-01T06:17:09.702Z"
   },
   {
    "duration": 9,
    "start_time": "2024-07-01T06:17:09.806Z"
   },
   {
    "duration": 69,
    "start_time": "2024-07-01T06:17:09.816Z"
   },
   {
    "duration": 31,
    "start_time": "2024-07-01T06:17:09.887Z"
   },
   {
    "duration": 37,
    "start_time": "2024-07-01T06:17:09.920Z"
   },
   {
    "duration": 50,
    "start_time": "2024-07-01T06:17:09.958Z"
   },
   {
    "duration": 6,
    "start_time": "2024-07-01T06:17:10.010Z"
   },
   {
    "duration": 88,
    "start_time": "2024-07-01T06:17:10.018Z"
   },
   {
    "duration": 80,
    "start_time": "2024-07-01T06:17:10.107Z"
   },
   {
    "duration": 72,
    "start_time": "2024-07-01T06:17:10.189Z"
   },
   {
    "duration": 27,
    "start_time": "2024-07-01T06:17:10.263Z"
   },
   {
    "duration": 4,
    "start_time": "2024-07-01T06:17:10.292Z"
   },
   {
    "duration": 124,
    "start_time": "2024-07-01T06:17:10.298Z"
   },
   {
    "duration": 185,
    "start_time": "2024-07-01T06:18:36.260Z"
   },
   {
    "duration": 181,
    "start_time": "2024-07-01T06:18:46.985Z"
   },
   {
    "duration": 261,
    "start_time": "2024-07-01T06:19:10.310Z"
   },
   {
    "duration": 187,
    "start_time": "2024-07-01T06:19:27.916Z"
   },
   {
    "duration": 197,
    "start_time": "2024-07-01T06:20:35.571Z"
   },
   {
    "duration": 1210,
    "start_time": "2024-07-01T06:20:53.392Z"
   },
   {
    "duration": 188,
    "start_time": "2024-07-01T06:20:54.604Z"
   },
   {
    "duration": 4,
    "start_time": "2024-07-01T06:20:54.794Z"
   },
   {
    "duration": 157,
    "start_time": "2024-07-01T06:20:54.801Z"
   },
   {
    "duration": 9,
    "start_time": "2024-07-01T06:20:54.960Z"
   },
   {
    "duration": 18,
    "start_time": "2024-07-01T06:20:54.971Z"
   },
   {
    "duration": 10,
    "start_time": "2024-07-01T06:20:54.991Z"
   },
   {
    "duration": 133,
    "start_time": "2024-07-01T06:20:55.003Z"
   },
   {
    "duration": 23,
    "start_time": "2024-07-01T06:20:55.138Z"
   },
   {
    "duration": 118,
    "start_time": "2024-07-01T06:20:55.164Z"
   },
   {
    "duration": 76,
    "start_time": "2024-07-01T06:20:55.283Z"
   },
   {
    "duration": 76,
    "start_time": "2024-07-01T06:20:55.361Z"
   },
   {
    "duration": 44,
    "start_time": "2024-07-01T06:20:55.439Z"
   },
   {
    "duration": 28,
    "start_time": "2024-07-01T06:20:55.484Z"
   },
   {
    "duration": 3,
    "start_time": "2024-07-01T06:20:55.513Z"
   },
   {
    "duration": 17,
    "start_time": "2024-07-01T06:20:55.517Z"
   },
   {
    "duration": 5,
    "start_time": "2024-07-01T06:20:55.536Z"
   },
   {
    "duration": 6,
    "start_time": "2024-07-01T06:20:55.542Z"
   },
   {
    "duration": 23,
    "start_time": "2024-07-01T06:20:55.550Z"
   },
   {
    "duration": 52,
    "start_time": "2024-07-01T06:20:55.575Z"
   },
   {
    "duration": 856,
    "start_time": "2024-07-01T06:20:55.629Z"
   },
   {
    "duration": 8,
    "start_time": "2024-07-01T06:20:56.486Z"
   },
   {
    "duration": 22,
    "start_time": "2024-07-01T06:20:56.496Z"
   },
   {
    "duration": 7,
    "start_time": "2024-07-01T06:20:56.519Z"
   },
   {
    "duration": 13,
    "start_time": "2024-07-01T06:20:56.527Z"
   },
   {
    "duration": 8,
    "start_time": "2024-07-01T06:20:56.541Z"
   },
   {
    "duration": 33,
    "start_time": "2024-07-01T06:20:56.550Z"
   },
   {
    "duration": 6,
    "start_time": "2024-07-01T06:20:56.586Z"
   },
   {
    "duration": 53,
    "start_time": "2024-07-01T06:20:56.593Z"
   },
   {
    "duration": 7,
    "start_time": "2024-07-01T06:20:56.647Z"
   },
   {
    "duration": 433,
    "start_time": "2024-07-01T06:20:56.656Z"
   },
   {
    "duration": 13,
    "start_time": "2024-07-01T06:20:57.090Z"
   },
   {
    "duration": 16,
    "start_time": "2024-07-01T06:20:57.104Z"
   },
   {
    "duration": 22,
    "start_time": "2024-07-01T06:20:57.122Z"
   },
   {
    "duration": 61,
    "start_time": "2024-07-01T06:20:57.146Z"
   },
   {
    "duration": 27,
    "start_time": "2024-07-01T06:20:57.209Z"
   },
   {
    "duration": 240,
    "start_time": "2024-07-01T06:20:57.237Z"
   },
   {
    "duration": 9,
    "start_time": "2024-07-01T06:20:57.481Z"
   },
   {
    "duration": 6,
    "start_time": "2024-07-01T06:20:57.492Z"
   },
   {
    "duration": 63,
    "start_time": "2024-07-01T06:20:57.499Z"
   },
   {
    "duration": 163,
    "start_time": "2024-07-01T06:20:57.582Z"
   },
   {
    "duration": 3,
    "start_time": "2024-07-01T06:20:57.747Z"
   },
   {
    "duration": 6,
    "start_time": "2024-07-01T06:20:57.752Z"
   },
   {
    "duration": 9,
    "start_time": "2024-07-01T06:20:57.760Z"
   },
   {
    "duration": 4,
    "start_time": "2024-07-01T06:20:57.781Z"
   },
   {
    "duration": 9,
    "start_time": "2024-07-01T06:20:57.787Z"
   },
   {
    "duration": 99,
    "start_time": "2024-07-01T06:20:57.798Z"
   },
   {
    "duration": 9,
    "start_time": "2024-07-01T06:20:57.899Z"
   },
   {
    "duration": 10,
    "start_time": "2024-07-01T06:20:57.909Z"
   },
   {
    "duration": 70,
    "start_time": "2024-07-01T06:20:57.921Z"
   },
   {
    "duration": 25,
    "start_time": "2024-07-01T06:20:57.993Z"
   },
   {
    "duration": 42,
    "start_time": "2024-07-01T06:20:58.020Z"
   },
   {
    "duration": 25,
    "start_time": "2024-07-01T06:20:58.064Z"
   },
   {
    "duration": 77,
    "start_time": "2024-07-01T06:20:58.091Z"
   },
   {
    "duration": 76,
    "start_time": "2024-07-01T06:20:58.181Z"
   },
   {
    "duration": 87,
    "start_time": "2024-07-01T06:20:58.259Z"
   },
   {
    "duration": 11,
    "start_time": "2024-07-01T06:20:58.347Z"
   },
   {
    "duration": 5,
    "start_time": "2024-07-01T06:20:58.360Z"
   },
   {
    "duration": 117,
    "start_time": "2024-07-01T06:20:58.383Z"
   },
   {
    "duration": 1067,
    "start_time": "2024-07-01T06:58:26.001Z"
   },
   {
    "duration": 265,
    "start_time": "2024-07-01T06:58:27.069Z"
   },
   {
    "duration": 4,
    "start_time": "2024-07-01T06:58:27.335Z"
   },
   {
    "duration": 153,
    "start_time": "2024-07-01T06:58:27.341Z"
   },
   {
    "duration": 7,
    "start_time": "2024-07-01T06:58:27.496Z"
   },
   {
    "duration": 23,
    "start_time": "2024-07-01T06:58:27.505Z"
   },
   {
    "duration": 7,
    "start_time": "2024-07-01T06:58:27.529Z"
   },
   {
    "duration": 134,
    "start_time": "2024-07-01T06:58:27.537Z"
   },
   {
    "duration": 9,
    "start_time": "2024-07-01T06:58:27.672Z"
   },
   {
    "duration": 99,
    "start_time": "2024-07-01T06:58:27.683Z"
   },
   {
    "duration": 72,
    "start_time": "2024-07-01T06:58:27.784Z"
   },
   {
    "duration": 62,
    "start_time": "2024-07-01T06:58:27.858Z"
   },
   {
    "duration": 19,
    "start_time": "2024-07-01T06:58:27.921Z"
   },
   {
    "duration": 38,
    "start_time": "2024-07-01T06:58:27.941Z"
   },
   {
    "duration": 3,
    "start_time": "2024-07-01T06:58:27.980Z"
   },
   {
    "duration": 11,
    "start_time": "2024-07-01T06:58:27.984Z"
   },
   {
    "duration": 8,
    "start_time": "2024-07-01T06:58:27.997Z"
   },
   {
    "duration": 30,
    "start_time": "2024-07-01T06:58:28.006Z"
   },
   {
    "duration": 8,
    "start_time": "2024-07-01T06:58:28.038Z"
   },
   {
    "duration": 40,
    "start_time": "2024-07-01T06:58:28.047Z"
   },
   {
    "duration": 738,
    "start_time": "2024-07-01T06:58:28.088Z"
   },
   {
    "duration": 6,
    "start_time": "2024-07-01T06:58:28.828Z"
   },
   {
    "duration": 40,
    "start_time": "2024-07-01T06:58:28.835Z"
   },
   {
    "duration": 6,
    "start_time": "2024-07-01T06:58:28.876Z"
   },
   {
    "duration": 44,
    "start_time": "2024-07-01T06:58:28.884Z"
   },
   {
    "duration": 6,
    "start_time": "2024-07-01T06:58:28.931Z"
   },
   {
    "duration": 5,
    "start_time": "2024-07-01T06:58:28.939Z"
   },
   {
    "duration": 6,
    "start_time": "2024-07-01T06:58:28.949Z"
   },
   {
    "duration": 48,
    "start_time": "2024-07-01T06:58:28.956Z"
   },
   {
    "duration": 7,
    "start_time": "2024-07-01T06:58:29.005Z"
   },
   {
    "duration": 391,
    "start_time": "2024-07-01T06:58:29.014Z"
   },
   {
    "duration": 12,
    "start_time": "2024-07-01T06:58:29.406Z"
   },
   {
    "duration": 14,
    "start_time": "2024-07-01T06:58:29.419Z"
   },
   {
    "duration": 31,
    "start_time": "2024-07-01T06:58:29.434Z"
   },
   {
    "duration": 33,
    "start_time": "2024-07-01T06:58:29.467Z"
   },
   {
    "duration": 47,
    "start_time": "2024-07-01T06:58:29.501Z"
   },
   {
    "duration": 171,
    "start_time": "2024-07-01T06:58:29.549Z"
   },
   {
    "duration": 8,
    "start_time": "2024-07-01T06:58:29.722Z"
   },
   {
    "duration": 5,
    "start_time": "2024-07-01T06:58:29.732Z"
   },
   {
    "duration": 62,
    "start_time": "2024-07-01T06:58:29.738Z"
   },
   {
    "duration": 205,
    "start_time": "2024-07-01T06:58:29.801Z"
   },
   {
    "duration": 3,
    "start_time": "2024-07-01T06:58:30.009Z"
   },
   {
    "duration": 84,
    "start_time": "2024-07-01T06:58:30.013Z"
   },
   {
    "duration": 53,
    "start_time": "2024-07-01T06:58:30.099Z"
   },
   {
    "duration": 25,
    "start_time": "2024-07-01T06:58:30.154Z"
   },
   {
    "duration": 28,
    "start_time": "2024-07-01T06:58:30.180Z"
   },
   {
    "duration": 71,
    "start_time": "2024-07-01T06:58:30.209Z"
   },
   {
    "duration": 51,
    "start_time": "2024-07-01T06:58:30.281Z"
   },
   {
    "duration": 42,
    "start_time": "2024-07-01T06:58:30.334Z"
   },
   {
    "duration": 134,
    "start_time": "2024-07-01T06:58:30.377Z"
   },
   {
    "duration": 79,
    "start_time": "2024-07-01T06:58:30.512Z"
   },
   {
    "duration": 59,
    "start_time": "2024-07-01T06:58:30.592Z"
   },
   {
    "duration": 11,
    "start_time": "2024-07-01T06:58:30.652Z"
   },
   {
    "duration": 116,
    "start_time": "2024-07-01T06:58:30.665Z"
   },
   {
    "duration": 71,
    "start_time": "2024-07-01T06:58:30.783Z"
   },
   {
    "duration": 70,
    "start_time": "2024-07-01T06:58:30.858Z"
   },
   {
    "duration": 166,
    "start_time": "2024-07-01T06:58:30.929Z"
   },
   {
    "duration": 48,
    "start_time": "2024-07-01T06:58:31.097Z"
   },
   {
    "duration": 175,
    "start_time": "2024-07-01T06:58:31.147Z"
   },
   {
    "duration": 1101,
    "start_time": "2024-07-17T04:19:17.165Z"
   },
   {
    "duration": 864,
    "start_time": "2024-07-17T04:19:18.268Z"
   },
   {
    "duration": 4,
    "start_time": "2024-07-17T04:19:19.133Z"
   },
   {
    "duration": 116,
    "start_time": "2024-07-17T04:19:19.139Z"
   },
   {
    "duration": 7,
    "start_time": "2024-07-17T04:19:19.256Z"
   },
   {
    "duration": 19,
    "start_time": "2024-07-17T04:19:19.264Z"
   },
   {
    "duration": 6,
    "start_time": "2024-07-17T04:19:19.285Z"
   },
   {
    "duration": 112,
    "start_time": "2024-07-17T04:19:19.292Z"
   },
   {
    "duration": 8,
    "start_time": "2024-07-17T04:19:19.406Z"
   },
   {
    "duration": 94,
    "start_time": "2024-07-17T04:19:19.416Z"
   },
   {
    "duration": 70,
    "start_time": "2024-07-17T04:19:19.512Z"
   },
   {
    "duration": 54,
    "start_time": "2024-07-17T04:19:19.583Z"
   },
   {
    "duration": 20,
    "start_time": "2024-07-17T04:19:19.638Z"
   },
   {
    "duration": 34,
    "start_time": "2024-07-17T04:19:19.659Z"
   },
   {
    "duration": 3,
    "start_time": "2024-07-17T04:19:19.694Z"
   },
   {
    "duration": 7,
    "start_time": "2024-07-17T04:19:19.698Z"
   },
   {
    "duration": 5,
    "start_time": "2024-07-17T04:19:19.706Z"
   },
   {
    "duration": 9,
    "start_time": "2024-07-17T04:19:19.712Z"
   },
   {
    "duration": 7,
    "start_time": "2024-07-17T04:19:19.723Z"
   },
   {
    "duration": 60,
    "start_time": "2024-07-17T04:19:19.732Z"
   },
   {
    "duration": 764,
    "start_time": "2024-07-17T04:19:19.793Z"
   },
   {
    "duration": 6,
    "start_time": "2024-07-17T04:19:20.558Z"
   },
   {
    "duration": 27,
    "start_time": "2024-07-17T04:19:20.566Z"
   },
   {
    "duration": 5,
    "start_time": "2024-07-17T04:19:20.594Z"
   },
   {
    "duration": 16,
    "start_time": "2024-07-17T04:19:20.600Z"
   },
   {
    "duration": 11,
    "start_time": "2024-07-17T04:19:20.617Z"
   },
   {
    "duration": 8,
    "start_time": "2024-07-17T04:19:20.629Z"
   },
   {
    "duration": 5,
    "start_time": "2024-07-17T04:19:20.640Z"
   },
   {
    "duration": 49,
    "start_time": "2024-07-17T04:19:20.646Z"
   },
   {
    "duration": 7,
    "start_time": "2024-07-17T04:19:20.696Z"
   },
   {
    "duration": 359,
    "start_time": "2024-07-17T04:19:20.704Z"
   },
   {
    "duration": 17,
    "start_time": "2024-07-17T04:19:21.065Z"
   },
   {
    "duration": 14,
    "start_time": "2024-07-17T04:19:21.084Z"
   },
   {
    "duration": 15,
    "start_time": "2024-07-17T04:19:21.100Z"
   },
   {
    "duration": 35,
    "start_time": "2024-07-17T04:19:21.117Z"
   },
   {
    "duration": 36,
    "start_time": "2024-07-17T04:19:21.153Z"
   },
   {
    "duration": 182,
    "start_time": "2024-07-17T04:19:21.191Z"
   },
   {
    "duration": 13,
    "start_time": "2024-07-17T04:19:21.375Z"
   },
   {
    "duration": 20,
    "start_time": "2024-07-17T04:19:21.390Z"
   },
   {
    "duration": 61,
    "start_time": "2024-07-17T04:19:21.411Z"
   },
   {
    "duration": 147,
    "start_time": "2024-07-17T04:19:21.474Z"
   },
   {
    "duration": 3,
    "start_time": "2024-07-17T04:19:21.624Z"
   },
   {
    "duration": 15,
    "start_time": "2024-07-17T04:19:21.629Z"
   },
   {
    "duration": 16,
    "start_time": "2024-07-17T04:19:21.646Z"
   },
   {
    "duration": 17,
    "start_time": "2024-07-17T04:19:21.664Z"
   },
   {
    "duration": 5,
    "start_time": "2024-07-17T04:19:21.682Z"
   },
   {
    "duration": 39,
    "start_time": "2024-07-17T04:19:21.688Z"
   },
   {
    "duration": 8,
    "start_time": "2024-07-17T04:19:21.728Z"
   },
   {
    "duration": 51,
    "start_time": "2024-07-17T04:19:21.737Z"
   },
   {
    "duration": 28,
    "start_time": "2024-07-17T04:19:21.790Z"
   },
   {
    "duration": 22,
    "start_time": "2024-07-17T04:19:21.820Z"
   },
   {
    "duration": 64,
    "start_time": "2024-07-17T04:19:21.844Z"
   },
   {
    "duration": 7,
    "start_time": "2024-07-17T04:19:21.910Z"
   },
   {
    "duration": 76,
    "start_time": "2024-07-17T04:19:21.918Z"
   },
   {
    "duration": 67,
    "start_time": "2024-07-17T04:19:21.996Z"
   },
   {
    "duration": 85,
    "start_time": "2024-07-17T04:19:22.064Z"
   },
   {
    "duration": 8,
    "start_time": "2024-07-17T04:19:22.150Z"
   },
   {
    "duration": 24,
    "start_time": "2024-07-17T04:19:22.159Z"
   },
   {
    "duration": 99,
    "start_time": "2024-07-17T04:19:22.184Z"
   },
   {
    "duration": 15,
    "start_time": "2024-08-13T14:51:47.533Z"
   },
   {
    "duration": 10,
    "start_time": "2024-08-13T14:51:54.225Z"
   },
   {
    "duration": 1564,
    "start_time": "2024-08-13T14:52:07.181Z"
   },
   {
    "duration": 778,
    "start_time": "2024-08-13T14:52:08.747Z"
   },
   {
    "duration": 5,
    "start_time": "2024-08-13T14:52:09.527Z"
   },
   {
    "duration": 160,
    "start_time": "2024-08-13T14:52:09.535Z"
   },
   {
    "duration": 10,
    "start_time": "2024-08-13T14:52:09.696Z"
   },
   {
    "duration": 10,
    "start_time": "2024-08-13T14:52:09.708Z"
   },
   {
    "duration": 8,
    "start_time": "2024-08-13T14:52:09.720Z"
   },
   {
    "duration": 150,
    "start_time": "2024-08-13T14:52:09.729Z"
   },
   {
    "duration": 9,
    "start_time": "2024-08-13T14:52:09.881Z"
   },
   {
    "duration": 120,
    "start_time": "2024-08-13T14:52:09.893Z"
   },
   {
    "duration": 90,
    "start_time": "2024-08-13T14:52:10.015Z"
   },
   {
    "duration": 67,
    "start_time": "2024-08-13T14:52:10.107Z"
   },
   {
    "duration": 44,
    "start_time": "2024-08-13T14:52:10.175Z"
   },
   {
    "duration": 20,
    "start_time": "2024-08-13T14:52:10.220Z"
   },
   {
    "duration": 3,
    "start_time": "2024-08-13T14:52:10.242Z"
   },
   {
    "duration": 7,
    "start_time": "2024-08-13T14:52:10.247Z"
   },
   {
    "duration": 85,
    "start_time": "2024-08-13T14:52:10.256Z"
   },
   {
    "duration": 80,
    "start_time": "2024-08-13T14:52:10.343Z"
   },
   {
    "duration": 13,
    "start_time": "2024-08-13T14:52:10.425Z"
   },
   {
    "duration": 50,
    "start_time": "2024-08-13T14:52:10.440Z"
   },
   {
    "duration": 887,
    "start_time": "2024-08-13T14:52:10.492Z"
   },
   {
    "duration": 16,
    "start_time": "2024-08-13T14:52:11.380Z"
   },
   {
    "duration": 29,
    "start_time": "2024-08-13T14:52:11.405Z"
   },
   {
    "duration": 7,
    "start_time": "2024-08-13T14:52:11.436Z"
   },
   {
    "duration": 21,
    "start_time": "2024-08-13T14:52:11.444Z"
   },
   {
    "duration": 13,
    "start_time": "2024-08-13T14:52:11.467Z"
   },
   {
    "duration": 7,
    "start_time": "2024-08-13T14:52:11.482Z"
   },
   {
    "duration": 15,
    "start_time": "2024-08-13T14:52:11.494Z"
   },
   {
    "duration": 42,
    "start_time": "2024-08-13T14:52:11.511Z"
   },
   {
    "duration": 8,
    "start_time": "2024-08-13T14:52:11.555Z"
   },
   {
    "duration": 443,
    "start_time": "2024-08-13T14:52:11.564Z"
   },
   {
    "duration": 12,
    "start_time": "2024-08-13T14:52:12.010Z"
   },
   {
    "duration": 12,
    "start_time": "2024-08-13T14:52:12.024Z"
   },
   {
    "duration": 19,
    "start_time": "2024-08-13T14:52:12.038Z"
   },
   {
    "duration": 65,
    "start_time": "2024-08-13T14:52:12.059Z"
   },
   {
    "duration": 26,
    "start_time": "2024-08-13T14:52:12.126Z"
   },
   {
    "duration": 216,
    "start_time": "2024-08-13T14:52:12.154Z"
   },
   {
    "duration": 10,
    "start_time": "2024-08-13T14:52:12.372Z"
   },
   {
    "duration": 35,
    "start_time": "2024-08-13T14:52:12.383Z"
   },
   {
    "duration": 66,
    "start_time": "2024-08-13T14:52:12.419Z"
   },
   {
    "duration": 160,
    "start_time": "2024-08-13T14:52:12.487Z"
   },
   {
    "duration": 4,
    "start_time": "2024-08-13T14:52:12.649Z"
   },
   {
    "duration": 14,
    "start_time": "2024-08-13T14:52:12.654Z"
   },
   {
    "duration": 10,
    "start_time": "2024-08-13T14:52:12.669Z"
   },
   {
    "duration": 28,
    "start_time": "2024-08-13T14:52:12.680Z"
   },
   {
    "duration": 11,
    "start_time": "2024-08-13T14:52:12.710Z"
   },
   {
    "duration": 113,
    "start_time": "2024-08-13T14:52:12.723Z"
   },
   {
    "duration": 9,
    "start_time": "2024-08-13T14:52:12.838Z"
   },
   {
    "duration": 26,
    "start_time": "2024-08-13T14:52:12.849Z"
   },
   {
    "duration": 48,
    "start_time": "2024-08-13T14:52:12.876Z"
   },
   {
    "duration": 77,
    "start_time": "2024-08-13T14:52:12.926Z"
   },
   {
    "duration": 45,
    "start_time": "2024-08-13T14:52:13.005Z"
   },
   {
    "duration": 8,
    "start_time": "2024-08-13T14:52:13.052Z"
   },
   {
    "duration": 146,
    "start_time": "2024-08-13T14:52:13.062Z"
   },
   {
    "duration": 0,
    "start_time": "2024-08-13T14:52:13.210Z"
   },
   {
    "duration": 0,
    "start_time": "2024-08-13T14:52:13.212Z"
   },
   {
    "duration": 0,
    "start_time": "2024-08-13T14:52:13.213Z"
   },
   {
    "duration": 0,
    "start_time": "2024-08-13T14:52:13.214Z"
   },
   {
    "duration": 0,
    "start_time": "2024-08-13T14:52:13.215Z"
   },
   {
    "duration": 0,
    "start_time": "2024-08-13T14:52:13.216Z"
   },
   {
    "duration": 88,
    "start_time": "2024-08-13T14:52:36.310Z"
   },
   {
    "duration": 79,
    "start_time": "2024-08-13T14:53:22.150Z"
   },
   {
    "duration": 33,
    "start_time": "2024-08-13T15:02:16.318Z"
   },
   {
    "duration": 32,
    "start_time": "2024-08-13T15:02:24.697Z"
   },
   {
    "duration": 83,
    "start_time": "2024-08-13T15:02:31.713Z"
   },
   {
    "duration": 84,
    "start_time": "2024-08-13T15:03:25.038Z"
   },
   {
    "duration": 75,
    "start_time": "2024-08-13T15:03:35.698Z"
   }
  ],
  "kernelspec": {
   "display_name": "Python 3 (ipykernel)",
   "language": "python",
   "name": "python3"
  },
  "language_info": {
   "codemirror_mode": {
    "name": "ipython",
    "version": 3
   },
   "file_extension": ".py",
   "mimetype": "text/x-python",
   "name": "python",
   "nbconvert_exporter": "python",
   "pygments_lexer": "ipython3",
   "version": "3.11.9"
  },
  "toc": {
   "base_numbering": 1,
   "nav_menu": {},
   "number_sections": true,
   "sideBar": true,
   "skip_h1_title": true,
   "title_cell": "Table of Contents",
   "title_sidebar": "Contents",
   "toc_cell": false,
   "toc_position": {
    "height": "calc(100% - 180px)",
    "left": "10px",
    "top": "150px",
    "width": "288px"
   },
   "toc_section_display": true,
   "toc_window_display": false
  }
 },
 "nbformat": 4,
 "nbformat_minor": 4
}
